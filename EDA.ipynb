{
 "cells": [
  {
   "cell_type": "code",
   "execution_count": 6,
   "metadata": {},
   "outputs": [],
   "source": [
    "import pandas as pd\n",
    "import matplotlib.pyplot as plt\n",
    "import numpy as np\n",
    "import requests\n",
    "from tqdm import tqdm\n",
    "from bs4 import BeautifulSoup\n",
    "import time"
   ]
  },
  {
   "cell_type": "code",
   "execution_count": 10,
   "metadata": {},
   "outputs": [
    {
     "name": "stderr",
     "output_type": "stream",
     "text": [
      "Scraping Progress:   0%|          | 0/8402 [00:00<?, ?it/s]"
     ]
    },
    {
     "name": "stdout",
     "output_type": "stream",
     "text": [
      "Successfully fetched: https://thetakeout.com/with-gwen-s-peanut-butter-better-sauce-even-broccoli-i-1826413956\n"
     ]
    },
    {
     "name": "stderr",
     "output_type": "stream",
     "text": [
      "Scraping Progress:   0%|          | 1/8402 [00:01<3:01:09,  1.29s/it]"
     ]
    },
    {
     "name": "stdout",
     "output_type": "stream",
     "text": [
      "Successfully fetched: https://gizmodo.com/after-trump-rants-top-gop-senator-asks-ftc-to-re-open-1828724049\n"
     ]
    },
    {
     "name": "stderr",
     "output_type": "stream",
     "text": [
      "Scraping Progress:   0%|          | 2/8402 [00:02<2:49:21,  1.21s/it]"
     ]
    },
    {
     "name": "stdout",
     "output_type": "stream",
     "text": [
      "Successfully fetched: https://mashable.com/2018/02/12/black-panther-action-figure/\n"
     ]
    },
    {
     "name": "stderr",
     "output_type": "stream",
     "text": [
      "Scraping Progress:   0%|          | 3/8402 [00:03<2:47:38,  1.20s/it]"
     ]
    },
    {
     "name": "stdout",
     "output_type": "stream",
     "text": [
      "Successfully fetched: http://techcrunch.com/2018/10/07/elon-musk-deserves-tougher-love-from-the-sec/\n"
     ]
    },
    {
     "name": "stderr",
     "output_type": "stream",
     "text": [
      "Scraping Progress:   0%|          | 4/8402 [00:04<2:55:56,  1.26s/it]"
     ]
    },
    {
     "name": "stdout",
     "output_type": "stream",
     "text": [
      "Successfully fetched: https://www.theverge.com/2019/1/9/18176044/10g-program-cable-companies-5g-mobile-broadband-internet-ces-2019\n"
     ]
    },
    {
     "name": "stderr",
     "output_type": "stream",
     "text": [
      "Scraping Progress:   0%|          | 5/8402 [00:06<2:50:54,  1.22s/it]"
     ]
    },
    {
     "name": "stdout",
     "output_type": "stream",
     "text": [
      "Successfully fetched: https://www.entrepreneur.com/article/318280\n"
     ]
    },
    {
     "name": "stderr",
     "output_type": "stream",
     "text": [
      "Scraping Progress:   0%|          | 6/8402 [00:07<2:49:19,  1.21s/it]"
     ]
    },
    {
     "name": "stdout",
     "output_type": "stream",
     "text": [
      "Successfully fetched: https://gizmodo.com/area-man-obscure-sidekick-asked-to-leave-google-fibers-1826028038\n"
     ]
    },
    {
     "name": "stderr",
     "output_type": "stream",
     "text": [
      "Scraping Progress:   0%|          | 7/8402 [00:08<2:47:05,  1.19s/it]"
     ]
    },
    {
     "name": "stdout",
     "output_type": "stream",
     "text": [
      "Cannot fetch https://www.reuters.com/article/us-climate-change-accord-trump-exclusive-idUSKCN1NK1MJ, HTTP error: 401 Client Error: HTTP Forbidden for url: https://www.reuters.com/article/us-climate-change-accord-trump-exclusive-idUSKCN1NK1MJ\n"
     ]
    },
    {
     "name": "stderr",
     "output_type": "stream",
     "text": [
      "Scraping Progress:   0%|          | 8/8402 [00:09<2:49:03,  1.21s/it]"
     ]
    },
    {
     "name": "stdout",
     "output_type": "stream",
     "text": [
      "Successfully fetched: http://mashable.com/2018/01/16/orrin-hatch-imaginary-glasses/\n"
     ]
    },
    {
     "name": "stderr",
     "output_type": "stream",
     "text": [
      "Scraping Progress:   0%|          | 9/8402 [00:10<2:51:37,  1.23s/it]"
     ]
    },
    {
     "name": "stdout",
     "output_type": "stream",
     "text": [
      "Successfully fetched: https://www.cnet.com/news/amazon-prime-day-evolves-from-goofy-sideshow-to-black-friday-esque-phenom/\n"
     ]
    },
    {
     "name": "stderr",
     "output_type": "stream",
     "text": [
      "Scraping Progress:   0%|          | 10/8402 [00:12<3:24:18,  1.46s/it]"
     ]
    },
    {
     "name": "stdout",
     "output_type": "stream",
     "text": [
      "Successfully fetched: https://news.yahoo.com/obsessed-fyre-fest-drama-netflix-021723565.html\n"
     ]
    },
    {
     "name": "stderr",
     "output_type": "stream",
     "text": [
      "Scraping Progress:   0%|          | 11/8402 [00:14<3:43:55,  1.60s/it]"
     ]
    },
    {
     "name": "stdout",
     "output_type": "stream",
     "text": [
      "Cannot fetch https://earther.gizmodo.com/trump-officially-nominates-coal-shill-andrew-wheeler-to-1831629921, error: HTTPSConnectionPool(host='earther.gizmodo.com', port=443): Max retries exceeded with url: /trump-officially-nominates-coal-shill-andrew-wheeler-to-1831629921 (Caused by NewConnectionError('<urllib3.connection.HTTPSConnection object at 0x117da2290>: Failed to establish a new connection: [Errno 8] nodename nor servname provided, or not known'))\n"
     ]
    },
    {
     "name": "stderr",
     "output_type": "stream",
     "text": [
      "Scraping Progress:   0%|          | 12/8402 [00:15<3:18:45,  1.42s/it]"
     ]
    },
    {
     "name": "stdout",
     "output_type": "stream",
     "text": [
      "Successfully fetched: https://mashable.com/article/best-simpsons-donald-trump-predictions/\n"
     ]
    },
    {
     "name": "stderr",
     "output_type": "stream",
     "text": [
      "Scraping Progress:   0%|          | 13/8402 [00:17<3:13:35,  1.38s/it]"
     ]
    },
    {
     "name": "stdout",
     "output_type": "stream",
     "text": [
      "Successfully fetched: https://www.theatlantic.com/politics/archive/2018/07/bannon-london-trump/565118/\n"
     ]
    },
    {
     "name": "stderr",
     "output_type": "stream",
     "text": [
      "Scraping Progress:   0%|          | 14/8402 [00:18<3:08:59,  1.35s/it]"
     ]
    },
    {
     "name": "stdout",
     "output_type": "stream",
     "text": [
      "Successfully fetched: https://www.theatlantic.com/international/archive/2018/06/yemen-trump-iran-saudi-arabia-salman-uae/562571/\n"
     ]
    },
    {
     "name": "stderr",
     "output_type": "stream",
     "text": [
      "Scraping Progress:   0%|          | 15/8402 [00:19<3:01:42,  1.30s/it]"
     ]
    },
    {
     "name": "stdout",
     "output_type": "stream",
     "text": [
      "Successfully fetched: https://www.engadget.com/2018/06/05/asus-zenbook-pro-screenpad-touchpad-touchscreen/\n"
     ]
    },
    {
     "name": "stderr",
     "output_type": "stream",
     "text": [
      "Scraping Progress:   0%|          | 16/8402 [00:21<3:10:47,  1.37s/it]"
     ]
    },
    {
     "name": "stdout",
     "output_type": "stream",
     "text": [
      "Successfully fetched: https://www.theatlantic.com/ideas/archive/2019/10/fourth-debate-wrap/600097/\n"
     ]
    },
    {
     "name": "stderr",
     "output_type": "stream",
     "text": [
      "Scraping Progress:   0%|          | 17/8402 [00:22<3:05:21,  1.33s/it]"
     ]
    },
    {
     "name": "stdout",
     "output_type": "stream",
     "text": [
      "Successfully fetched: https://www.wired.com/story/internet-week-194/\n"
     ]
    },
    {
     "name": "stderr",
     "output_type": "stream",
     "text": [
      "Scraping Progress:   0%|          | 18/8402 [00:23<3:05:56,  1.33s/it]"
     ]
    },
    {
     "name": "stdout",
     "output_type": "stream",
     "text": [
      "Successfully fetched: https://www.businessinsider.com/bill-roebuck-memo-trump-syria-policy-catastrophic-sideshow-2019-11\n"
     ]
    },
    {
     "name": "stderr",
     "output_type": "stream",
     "text": [
      "Scraping Progress:   0%|          | 19/8402 [00:24<3:02:10,  1.30s/it]"
     ]
    },
    {
     "name": "stdout",
     "output_type": "stream",
     "text": [
      "Successfully fetched: https://lifehacker.com/how-to-go-out-alone-and-love-it-1822514379\n"
     ]
    },
    {
     "name": "stderr",
     "output_type": "stream",
     "text": [
      "Scraping Progress:   0%|          | 20/8402 [00:26<2:57:31,  1.27s/it]"
     ]
    },
    {
     "name": "stdout",
     "output_type": "stream",
     "text": [
      "Successfully fetched: https://gizmodo.com/french-inventor-touts-rifle-while-flying-turbine-powere-1836363914\n"
     ]
    },
    {
     "name": "stderr",
     "output_type": "stream",
     "text": [
      "Scraping Progress:   0%|          | 21/8402 [00:27<2:52:56,  1.24s/it]"
     ]
    },
    {
     "name": "stdout",
     "output_type": "stream",
     "text": [
      "Successfully fetched: http://techcrunch.com/2018/07/18/worried-about-a-slowdown-it-already-happened-in-2016-says-one-new-venture-study/\n"
     ]
    },
    {
     "name": "stderr",
     "output_type": "stream",
     "text": [
      "Scraping Progress:   0%|          | 22/8402 [00:28<2:57:27,  1.27s/it]"
     ]
    },
    {
     "name": "stdout",
     "output_type": "stream",
     "text": [
      "Cannot fetch https://boingboing.net/2019/03/06/creator-of-zippy-the-pinhead-w.html, HTTP error: 403 Client Error: Forbidden for url: https://boingboing.net/2019/03/06/creator-of-zippy-the-pinhead-w.html\n"
     ]
    },
    {
     "name": "stderr",
     "output_type": "stream",
     "text": [
      "Scraping Progress:   0%|          | 23/8402 [00:29<2:54:38,  1.25s/it]"
     ]
    },
    {
     "name": "stdout",
     "output_type": "stream",
     "text": [
      "Successfully fetched: https://golfweek.com/2018/07/19/2018-british-open-phil-mickelson-now-more-major-sideshow-than-major-contender/\n"
     ]
    },
    {
     "name": "stderr",
     "output_type": "stream",
     "text": [
      "Scraping Progress:   0%|          | 24/8402 [00:31<2:59:05,  1.28s/it]"
     ]
    },
    {
     "name": "stdout",
     "output_type": "stream",
     "text": [
      "Successfully fetched: https://www.huffpost.com/entry/trump-simpsons-sideshow-bob-defense_n_5dce3c39e4b0d2e79f8a2b79\n"
     ]
    },
    {
     "name": "stderr",
     "output_type": "stream",
     "text": [
      "Scraping Progress:   0%|          | 25/8402 [00:32<2:56:19,  1.26s/it]"
     ]
    },
    {
     "name": "stdout",
     "output_type": "stream",
     "text": [
      "Successfully fetched: https://mashable.com/article/dumbo-movie-review/\n"
     ]
    },
    {
     "name": "stderr",
     "output_type": "stream",
     "text": [
      "Scraping Progress:   0%|          | 26/8402 [00:33<2:52:20,  1.23s/it]"
     ]
    },
    {
     "name": "stdout",
     "output_type": "stream",
     "text": [
      "Successfully fetched: http://www.businessinsider.com/23-top-venture-capitalists-booming-enterprise-tech-market-2018-6\n"
     ]
    },
    {
     "name": "stderr",
     "output_type": "stream",
     "text": [
      "Scraping Progress:   0%|          | 27/8402 [00:35<2:59:24,  1.29s/it]"
     ]
    },
    {
     "name": "stdout",
     "output_type": "stream",
     "text": [
      "Successfully fetched: https://io9.gizmodo.com/aliens-original-sfx-artists-helped-sideshow-create-the-1823992879\n"
     ]
    },
    {
     "name": "stderr",
     "output_type": "stream",
     "text": [
      "Scraping Progress:   0%|          | 28/8402 [00:36<3:02:47,  1.31s/it]"
     ]
    },
    {
     "name": "stdout",
     "output_type": "stream",
     "text": [
      "Successfully fetched: https://www.cnet.com/news/the-x-files-at-25-top-10-episodes-you-should-watch/\n"
     ]
    },
    {
     "name": "stderr",
     "output_type": "stream",
     "text": [
      "Scraping Progress:   0%|          | 29/8402 [00:37<3:06:07,  1.33s/it]"
     ]
    },
    {
     "name": "stdout",
     "output_type": "stream",
     "text": [
      "Successfully fetched: https://www.bloomberg.com/view/articles/2018-04-26/when-moon-meets-kim-be-wary-of-success\n"
     ]
    },
    {
     "name": "stderr",
     "output_type": "stream",
     "text": [
      "Scraping Progress:   0%|          | 30/8402 [00:39<3:02:19,  1.31s/it]"
     ]
    },
    {
     "name": "stdout",
     "output_type": "stream",
     "text": [
      "Successfully fetched: https://www.cnet.com/news/the-x-files-25-anniversary-the-top-10-episodes-you-should-watch/\n"
     ]
    },
    {
     "name": "stderr",
     "output_type": "stream",
     "text": [
      "Scraping Progress:   0%|          | 31/8402 [00:40<3:08:41,  1.35s/it]"
     ]
    },
    {
     "name": "stdout",
     "output_type": "stream",
     "text": [
      "Successfully fetched: https://www.bbc.co.uk/news/world-us-canada-46754048\n"
     ]
    },
    {
     "name": "stderr",
     "output_type": "stream",
     "text": [
      "Scraping Progress:   0%|          | 32/8402 [00:41<3:03:00,  1.31s/it]"
     ]
    },
    {
     "name": "stdout",
     "output_type": "stream",
     "text": [
      "Successfully fetched: https://www.businessinsider.com/california-culture-things-locals-know-2019-9\n"
     ]
    },
    {
     "name": "stderr",
     "output_type": "stream",
     "text": [
      "Scraping Progress:   0%|          | 33/8402 [00:42<2:57:03,  1.27s/it]"
     ]
    },
    {
     "name": "stdout",
     "output_type": "stream",
     "text": [
      "Successfully fetched: https://www.wired.com/story/internet-week-170/\n"
     ]
    },
    {
     "name": "stderr",
     "output_type": "stream",
     "text": [
      "Scraping Progress:   0%|          | 34/8402 [00:44<2:55:15,  1.26s/it]"
     ]
    },
    {
     "name": "stdout",
     "output_type": "stream",
     "text": [
      "Cannot fetch https://www.washingtonpost.com/world/national-security/rick-gates--and-the-lies-hes-admitted-telling--to-take-center-stage-at-manafort-trial/2018/08/05/71cbc686-975d-11e8-a679-b09212fb69c2_story.html, connection timed out.\n"
     ]
    },
    {
     "name": "stderr",
     "output_type": "stream",
     "text": [
      "Scraping Progress:   0%|          | 35/8402 [00:55<9:46:55,  4.21s/it]"
     ]
    },
    {
     "name": "stdout",
     "output_type": "stream",
     "text": [
      "Cannot fetch https://www.washingtonpost.com/news/local/wp/2018/08/06/paul-manafort-trial-day-5-live-updates/, connection timed out.\n"
     ]
    },
    {
     "name": "stderr",
     "output_type": "stream",
     "text": [
      "Scraping Progress:   0%|          | 36/8402 [01:06<14:33:16,  6.26s/it]"
     ]
    },
    {
     "name": "stdout",
     "output_type": "stream",
     "text": [
      "Successfully fetched: https://io9.gizmodo.com/forget-the-xenomorph-jonesy-the-cat-is-the-real-star-o-1829267622\n"
     ]
    },
    {
     "name": "stderr",
     "output_type": "stream",
     "text": [
      "Scraping Progress:   0%|          | 37/8402 [01:07<11:07:15,  4.79s/it]"
     ]
    },
    {
     "name": "stdout",
     "output_type": "stream",
     "text": [
      "Successfully fetched: https://io9.gizmodo.com/an-exclusive-look-at-sideshows-stunning-new-princess-le-1825680103\n"
     ]
    },
    {
     "name": "stderr",
     "output_type": "stream",
     "text": [
      "Scraping Progress:   0%|          | 38/8402 [01:08<8:40:09,  3.73s/it] "
     ]
    },
    {
     "name": "stdout",
     "output_type": "stream",
     "text": [
      "Successfully fetched: https://www.theverge.com/2018/2/5/16975878/waymo-v-uber-trial-opening-statements-travis-kalanick-emails\n"
     ]
    },
    {
     "name": "stderr",
     "output_type": "stream",
     "text": [
      "Scraping Progress:   0%|          | 39/8402 [01:10<6:54:03,  2.97s/it]"
     ]
    },
    {
     "name": "stdout",
     "output_type": "stream",
     "text": [
      "Cannot fetch https://news.yahoo.com/2020-democratic-candidates-russia-probe-171523292.html, HTTP error: 404 Client Error: Not Found for url: https://news.yahoo.com/2020-democratic-candidates-russia-probe-171523292.html\n"
     ]
    },
    {
     "name": "stderr",
     "output_type": "stream",
     "text": [
      "Scraping Progress:   0%|          | 40/8402 [01:11<5:39:57,  2.44s/it]"
     ]
    },
    {
     "name": "stdout",
     "output_type": "stream",
     "text": [
      "Successfully fetched: https://io9.gizmodo.com/heres-boba-fett-like-youve-never-seen-him-before-1827631134\n"
     ]
    },
    {
     "name": "stderr",
     "output_type": "stream",
     "text": [
      "Scraping Progress:   0%|          | 41/8402 [01:12<4:54:54,  2.12s/it]"
     ]
    },
    {
     "name": "stdout",
     "output_type": "stream",
     "text": [
      "Successfully fetched: https://www.yahoo.com/news/driver-involved-sideshow-bay-bridge-002506862.html\n"
     ]
    },
    {
     "name": "stderr",
     "output_type": "stream",
     "text": [
      "Scraping Progress:   0%|          | 42/8402 [01:14<4:27:05,  1.92s/it]"
     ]
    },
    {
     "name": "stdout",
     "output_type": "stream",
     "text": [
      "Successfully fetched: https://slate.com/technology/2018/09/apple-watch-health-electrocardiogram-ecg-update.html\n"
     ]
    },
    {
     "name": "stderr",
     "output_type": "stream",
     "text": [
      "Scraping Progress:   1%|          | 43/8402 [01:15<4:06:41,  1.77s/it]"
     ]
    },
    {
     "name": "stdout",
     "output_type": "stream",
     "text": [
      "Successfully fetched: https://io9.gizmodo.com/the-team-behind-jane-fosters-turn-as-thor-talk-about-th-1828361099\n"
     ]
    },
    {
     "name": "stderr",
     "output_type": "stream",
     "text": [
      "Scraping Progress:   1%|          | 44/8402 [01:16<3:48:00,  1.64s/it]"
     ]
    },
    {
     "name": "stdout",
     "output_type": "stream",
     "text": [
      "Successfully fetched: https://io9.gizmodo.com/cyberdynes-attempt-to-make-a-sexy-lady-assassin-termina-1825391775\n"
     ]
    },
    {
     "name": "stderr",
     "output_type": "stream",
     "text": [
      "Scraping Progress:   1%|          | 45/8402 [01:18<3:35:50,  1.55s/it]"
     ]
    },
    {
     "name": "stdout",
     "output_type": "stream",
     "text": [
      "Cannot fetch https://www.businessinsider.sg/elon-musk-has-sold-17-5k-flamethrowers-earning-8-75m-for-the-boring-company-but-not-everyones-happy/, error: HTTPSConnectionPool(host='www.businessinsider.sg', port=443): Max retries exceeded with url: /elon-musk-has-sold-17-5k-flamethrowers-earning-8-75m-for-the-boring-company-but-not-everyones-happy/ (Caused by SSLError(SSLError(1, '[SSL: TLSV1_ALERT_INTERNAL_ERROR] tlsv1 alert internal error (_ssl.c:1002)')))\n"
     ]
    },
    {
     "name": "stderr",
     "output_type": "stream",
     "text": [
      "Scraping Progress:   1%|          | 46/8402 [01:19<3:17:40,  1.42s/it]"
     ]
    },
    {
     "name": "stdout",
     "output_type": "stream",
     "text": [
      "Successfully fetched: https://io9.gizmodo.com/a-glorious-new-batgirl-figure-is-swinging-into-action-1831263568\n"
     ]
    },
    {
     "name": "stderr",
     "output_type": "stream",
     "text": [
      "Scraping Progress:   1%|          | 47/8402 [01:20<3:15:54,  1.41s/it]"
     ]
    },
    {
     "name": "stdout",
     "output_type": "stream",
     "text": [
      "Successfully fetched: https://slate.com/news-and-politics/2018/09/mcconnell-says-not-to-worry-about-the-all-male-gop-judiciary-committee-they-hired-a-female-assistant-to-ask-questions-for-them.html\n"
     ]
    },
    {
     "name": "stderr",
     "output_type": "stream",
     "text": [
      "Scraping Progress:   1%|          | 48/8402 [01:22<3:19:06,  1.43s/it]"
     ]
    },
    {
     "name": "stdout",
     "output_type": "stream",
     "text": [
      "Successfully fetched: https://mashable.com/2018/06/19/best-books-2018-amazon/\n"
     ]
    },
    {
     "name": "stderr",
     "output_type": "stream",
     "text": [
      "Scraping Progress:   1%|          | 49/8402 [01:23<3:12:19,  1.38s/it]"
     ]
    },
    {
     "name": "stdout",
     "output_type": "stream",
     "text": [
      "Successfully fetched: https://io9.gizmodo.com/your-very-own-lifesize-replica-of-bb-8-will-cost-you-al-1827367435\n"
     ]
    },
    {
     "name": "stderr",
     "output_type": "stream",
     "text": [
      "Scraping Progress:   1%|          | 50/8402 [01:24<3:14:04,  1.39s/it]"
     ]
    },
    {
     "name": "stdout",
     "output_type": "stream",
     "text": [
      "Successfully fetched: https://apple.slashdot.org/story/18/10/30/0214227/qualcomm-says-apple-is-7-billion-behind-in-royalty-payments\n"
     ]
    },
    {
     "name": "stderr",
     "output_type": "stream",
     "text": [
      "Scraping Progress:   1%|          | 51/8402 [01:26<3:17:35,  1.42s/it]"
     ]
    },
    {
     "name": "stdout",
     "output_type": "stream",
     "text": [
      "Successfully fetched: https://news.yahoo.com/trump-suggests-not-cooperate-investigation-092850238.html\n"
     ]
    },
    {
     "name": "stderr",
     "output_type": "stream",
     "text": [
      "Scraping Progress:   1%|          | 52/8402 [01:28<3:34:41,  1.54s/it]"
     ]
    },
    {
     "name": "stdout",
     "output_type": "stream",
     "text": [
      "Successfully fetched: https://www.theverge.com/2019/1/24/18196135/google-deepmind-ai-starcraft-2-victory\n"
     ]
    },
    {
     "name": "stderr",
     "output_type": "stream",
     "text": [
      "Scraping Progress:   1%|          | 53/8402 [01:29<3:21:13,  1.45s/it]"
     ]
    },
    {
     "name": "stdout",
     "output_type": "stream",
     "text": [
      "Successfully fetched: https://jalopnik.com/suspect-arrested-for-shining-laser-at-california-police-1822511132\n"
     ]
    },
    {
     "name": "stderr",
     "output_type": "stream",
     "text": [
      "Scraping Progress:   1%|          | 54/8402 [01:30<3:17:46,  1.42s/it]"
     ]
    },
    {
     "name": "stdout",
     "output_type": "stream",
     "text": [
      "Successfully fetched: https://www.apartmenttherapy.com/fun-house-exhibit-national-building-museum-snarkitecture-260900\n"
     ]
    },
    {
     "name": "stderr",
     "output_type": "stream",
     "text": [
      "Scraping Progress:   1%|          | 55/8402 [01:32<3:14:13,  1.40s/it]"
     ]
    },
    {
     "name": "stdout",
     "output_type": "stream",
     "text": [
      "Successfully fetched: http://www.yankodesign.com/2018/06/05/this-side-table-is-a-sideshow-of-its-own/\n"
     ]
    },
    {
     "name": "stderr",
     "output_type": "stream",
     "text": [
      "Scraping Progress:   1%|          | 56/8402 [01:33<3:13:30,  1.39s/it]"
     ]
    },
    {
     "name": "stdout",
     "output_type": "stream",
     "text": [
      "Successfully fetched: https://sports.yahoo.com/nascar-ceo-brian-france-arrested-dwi-drug-possession-161502794.html\n"
     ]
    },
    {
     "name": "stderr",
     "output_type": "stream",
     "text": [
      "Scraping Progress:   1%|          | 57/8402 [01:34<3:15:48,  1.41s/it]"
     ]
    },
    {
     "name": "stdout",
     "output_type": "stream",
     "text": [
      "Successfully fetched: https://www.gizmodo.jp/2018/07/bb-8droid.html\n"
     ]
    },
    {
     "name": "stderr",
     "output_type": "stream",
     "text": [
      "Scraping Progress:   1%|          | 58/8402 [01:37<4:01:07,  1.73s/it]"
     ]
    },
    {
     "name": "stdout",
     "output_type": "stream",
     "text": [
      "Successfully fetched: https://www.rockpapershotgun.com/2019/04/10/assassins-creed-odyssey-laptop-performance-bug/\n"
     ]
    },
    {
     "name": "stderr",
     "output_type": "stream",
     "text": [
      "Scraping Progress:   1%|          | 59/8402 [01:39<4:07:26,  1.78s/it]"
     ]
    },
    {
     "name": "stdout",
     "output_type": "stream",
     "text": [
      "Successfully fetched: https://www.businessinsider.com/cliff-sims-bannon-thrilled-with-trump-charlottesville-response-2019-1\n"
     ]
    },
    {
     "name": "stderr",
     "output_type": "stream",
     "text": [
      "Scraping Progress:   1%|          | 60/8402 [01:40<3:47:55,  1.64s/it]"
     ]
    },
    {
     "name": "stdout",
     "output_type": "stream",
     "text": [
      "Successfully fetched: https://www.bbc.co.uk/news/world-us-canada-46755084\n"
     ]
    },
    {
     "name": "stderr",
     "output_type": "stream",
     "text": [
      "Scraping Progress:   1%|          | 61/8402 [01:41<3:28:42,  1.50s/it]"
     ]
    },
    {
     "name": "stdout",
     "output_type": "stream",
     "text": [
      "Successfully fetched: https://www.bbc.co.uk/news/blogs-china-blog-46987991\n"
     ]
    },
    {
     "name": "stderr",
     "output_type": "stream",
     "text": [
      "Scraping Progress:   1%|          | 62/8402 [01:42<3:15:21,  1.41s/it]"
     ]
    },
    {
     "name": "stdout",
     "output_type": "stream",
     "text": [
      "Cannot fetch https://www.autoblog.com/2018/08/20/san-francisco-bay-bridge-video-cars-doughnuts/, HTTP error: 403 Client Error: Forbidden for url: https://www.autoblog.com/2018/08/20/san-francisco-bay-bridge-video-cars-doughnuts/\n"
     ]
    },
    {
     "name": "stderr",
     "output_type": "stream",
     "text": [
      "Scraping Progress:   1%|          | 63/8402 [01:44<3:03:52,  1.32s/it]"
     ]
    },
    {
     "name": "stdout",
     "output_type": "stream",
     "text": [
      "Successfully fetched: https://www.bbc.co.uk/news/world-europe-44603650\n"
     ]
    },
    {
     "name": "stderr",
     "output_type": "stream",
     "text": [
      "Scraping Progress:   1%|          | 64/8402 [01:45<2:58:33,  1.28s/it]"
     ]
    },
    {
     "name": "stdout",
     "output_type": "stream",
     "text": [
      "Successfully fetched: https://www.bbc.co.uk/news/world-europe-45745083\n"
     ]
    },
    {
     "name": "stderr",
     "output_type": "stream",
     "text": [
      "Scraping Progress:   1%|          | 65/8402 [01:46<2:57:16,  1.28s/it]"
     ]
    },
    {
     "name": "stdout",
     "output_type": "stream",
     "text": [
      "Cannot fetch https://www.marketwatch.com/story/for-the-stock-market-impeachment-is-just-a-sideshow-2019-12-11, HTTP error: 401 Client Error: HTTP Forbidden for url: https://www.marketwatch.com/story/for-the-stock-market-impeachment-is-just-a-sideshow-2019-12-11\n"
     ]
    },
    {
     "name": "stderr",
     "output_type": "stream",
     "text": [
      "Scraping Progress:   1%|          | 66/8402 [01:47<2:56:48,  1.27s/it]"
     ]
    },
    {
     "name": "stdout",
     "output_type": "stream",
     "text": [
      "Successfully fetched: https://hypebeast.com/2019/2/under-armour-curry-6-oakland-sideshow-release-info\n"
     ]
    },
    {
     "name": "stderr",
     "output_type": "stream",
     "text": [
      "Scraping Progress:   1%|          | 67/8402 [01:49<3:16:31,  1.41s/it]"
     ]
    },
    {
     "name": "stdout",
     "output_type": "stream",
     "text": [
      "Cannot fetch https://www.reuters.com/article/us-britain-boe-highlights-idUSKCN1NP13Y, HTTP error: 401 Client Error: HTTP Forbidden for url: https://www.reuters.com/article/us-britain-boe-highlights-idUSKCN1NP13Y\n"
     ]
    },
    {
     "name": "stderr",
     "output_type": "stream",
     "text": [
      "Scraping Progress:   1%|          | 68/8402 [01:50<3:06:23,  1.34s/it]"
     ]
    },
    {
     "name": "stdout",
     "output_type": "stream",
     "text": [
      "Successfully fetched: https://www.bbc.co.uk/news/science-environment-46502210\n"
     ]
    },
    {
     "name": "stderr",
     "output_type": "stream",
     "text": [
      "Scraping Progress:   1%|          | 69/8402 [01:52<3:06:17,  1.34s/it]"
     ]
    },
    {
     "name": "stdout",
     "output_type": "stream",
     "text": [
      "Successfully fetched: http://www.instructables.com/id/The-Lion-Thing-paper-Mache-Mask/\n"
     ]
    },
    {
     "name": "stderr",
     "output_type": "stream",
     "text": [
      "Scraping Progress:   1%|          | 70/8402 [01:54<3:47:33,  1.64s/it]"
     ]
    },
    {
     "name": "stdout",
     "output_type": "stream",
     "text": [
      "Successfully fetched: https://www.huffingtonpost.com/entry/times-calls-on-gop-to-save-law-from-trump_us_5ad3e65ae4b016a07e9d8cd0\n"
     ]
    },
    {
     "name": "stderr",
     "output_type": "stream",
     "text": [
      "Scraping Progress:   1%|          | 71/8402 [01:55<3:43:37,  1.61s/it]"
     ]
    },
    {
     "name": "stdout",
     "output_type": "stream",
     "text": [
      "Cannot fetch https://earther.gizmodo.com/stop-asking-cory-booker-if-everyone-should-be-vegan-to-1838094204, error: HTTPSConnectionPool(host='earther.gizmodo.com', port=443): Max retries exceeded with url: /stop-asking-cory-booker-if-everyone-should-be-vegan-to-1838094204 (Caused by NewConnectionError('<urllib3.connection.HTTPSConnection object at 0x118120410>: Failed to establish a new connection: [Errno 8] nodename nor servname provided, or not known'))\n"
     ]
    },
    {
     "name": "stderr",
     "output_type": "stream",
     "text": [
      "Scraping Progress:   1%|          | 72/8402 [01:56<3:18:30,  1.43s/it]"
     ]
    },
    {
     "name": "stdout",
     "output_type": "stream",
     "text": [
      "Cannot fetch https://www.reuters.com/article/us-usa-shutdown-idUSKCN1OX09I, HTTP error: 401 Client Error: HTTP Forbidden for url: https://www.reuters.com/article/us-usa-shutdown-idUSKCN1OX09I\n"
     ]
    },
    {
     "name": "stderr",
     "output_type": "stream",
     "text": [
      "Scraping Progress:   1%|          | 73/8402 [01:58<3:09:14,  1.36s/it]"
     ]
    },
    {
     "name": "stdout",
     "output_type": "stream",
     "text": [
      "Successfully fetched: https://www.androidcentral.com/project-zero-needs-be-split-google\n"
     ]
    },
    {
     "name": "stderr",
     "output_type": "stream",
     "text": [
      "Scraping Progress:   1%|          | 74/8402 [01:59<3:15:13,  1.41s/it]"
     ]
    },
    {
     "name": "stdout",
     "output_type": "stream",
     "text": [
      "Successfully fetched: https://www.vox.com/policy-and-politics/2018/4/16/17242478/trump-mueller-congress-nytimes\n"
     ]
    },
    {
     "name": "stderr",
     "output_type": "stream",
     "text": [
      "Scraping Progress:   1%|          | 75/8402 [02:00<3:07:24,  1.35s/it]"
     ]
    },
    {
     "name": "stdout",
     "output_type": "stream",
     "text": [
      "Successfully fetched: http://mentalfloss.com/article/549845/facts-about-freaks-tod-browning\n"
     ]
    },
    {
     "name": "stderr",
     "output_type": "stream",
     "text": [
      "Scraping Progress:   1%|          | 76/8402 [02:02<3:30:13,  1.51s/it]"
     ]
    },
    {
     "name": "stdout",
     "output_type": "stream",
     "text": [
      "Cannot fetch https://www.reuters.com/article/us-usa-trade-breakingviews/breakingviews-investors-can-ignore-glimmers-of-china-trade-hope-idUSKCN1LY2XU, HTTP error: 401 Client Error: HTTP Forbidden for url: https://www.reuters.com/article/us-usa-trade-breakingviews/breakingviews-investors-can-ignore-glimmers-of-china-trade-hope-idUSKCN1LY2XU\n"
     ]
    },
    {
     "name": "stderr",
     "output_type": "stream",
     "text": [
      "Scraping Progress:   1%|          | 77/8402 [02:03<3:16:26,  1.42s/it]"
     ]
    },
    {
     "name": "stdout",
     "output_type": "stream",
     "text": [
      "Successfully fetched: https://www.engadget.com/2018/07/18/congress-social-media-hearing-facebook-twitter-google-youtube/\n"
     ]
    },
    {
     "name": "stderr",
     "output_type": "stream",
     "text": [
      "Scraping Progress:   1%|          | 78/8402 [02:05<3:17:58,  1.43s/it]"
     ]
    },
    {
     "name": "stdout",
     "output_type": "stream",
     "text": [
      "Successfully fetched: https://www.cnet.com/pictures/comic-con-2018-sideshow-collectibles-star-wars-marvel-and-aquaman-movie-statues/\n"
     ]
    },
    {
     "name": "stderr",
     "output_type": "stream",
     "text": [
      "Scraping Progress:   1%|          | 79/8402 [02:07<3:57:07,  1.71s/it]"
     ]
    },
    {
     "name": "stdout",
     "output_type": "stream",
     "text": [
      "Successfully fetched: https://io9.gizmodo.com/a-truly-amazing-batman-the-animated-series-figure-and-1823519319\n"
     ]
    },
    {
     "name": "stderr",
     "output_type": "stream",
     "text": [
      "Scraping Progress:   1%|          | 80/8402 [02:09<4:06:14,  1.78s/it]"
     ]
    },
    {
     "name": "stdout",
     "output_type": "stream",
     "text": [
      "Successfully fetched: https://www.vox.com/2019/12/4/20995296/pamela-karlan-doug-collins-impeachment-hearing-house-judiciary\n"
     ]
    },
    {
     "name": "stderr",
     "output_type": "stream",
     "text": [
      "Scraping Progress:   1%|          | 81/8402 [02:10<3:44:09,  1.62s/it]"
     ]
    },
    {
     "name": "stdout",
     "output_type": "stream",
     "text": [
      "Successfully fetched: https://www.businessinsider.com/tesla-stock-price-daniel-ives-tesla-bull-downgrades-shares-2019-4\n"
     ]
    },
    {
     "name": "stderr",
     "output_type": "stream",
     "text": [
      "Scraping Progress:   1%|          | 82/8402 [02:12<3:47:46,  1.64s/it]"
     ]
    },
    {
     "name": "stdout",
     "output_type": "stream",
     "text": [
      "Successfully fetched: http://usatodayhss.com/2018/eric-mobley-usc-coach\n"
     ]
    },
    {
     "name": "stderr",
     "output_type": "stream",
     "text": [
      "Scraping Progress:   1%|          | 83/8402 [02:14<4:09:56,  1.80s/it]"
     ]
    },
    {
     "name": "stdout",
     "output_type": "stream",
     "text": [
      "Successfully fetched: https://www.slashfilm.com/candy-corn-trailer-welcome-to-dr-deaths-sideshow-spookhouse-spectacular/\n"
     ]
    },
    {
     "name": "stderr",
     "output_type": "stream",
     "text": [
      "Scraping Progress:   1%|          | 84/8402 [02:16<4:12:38,  1.82s/it]"
     ]
    },
    {
     "name": "stdout",
     "output_type": "stream",
     "text": [
      "Successfully fetched: https://gizmodo.com/report-silicon-valley-played-trump-like-a-fiddle-at-la-1821752212\n"
     ]
    },
    {
     "name": "stderr",
     "output_type": "stream",
     "text": [
      "Scraping Progress:   1%|          | 85/8402 [02:18<3:59:57,  1.73s/it]"
     ]
    },
    {
     "name": "stdout",
     "output_type": "stream",
     "text": [
      "Successfully fetched: https://www.slashfilm.com/video-watch-us-unbox-the-life-size-infinity-gauntlet-replica-from-hot-toys-sideshow-collectibles/\n"
     ]
    },
    {
     "name": "stderr",
     "output_type": "stream",
     "text": [
      "Scraping Progress:   1%|          | 86/8402 [02:20<4:01:54,  1.75s/it]"
     ]
    },
    {
     "name": "stdout",
     "output_type": "stream",
     "text": [
      "Successfully fetched: https://io9.gizmodo.com/an-incredible-black-panther-steps-into-the-spotlight-a-1822780532\n"
     ]
    },
    {
     "name": "stderr",
     "output_type": "stream",
     "text": [
      "Scraping Progress:   1%|          | 87/8402 [02:21<4:06:07,  1.78s/it]"
     ]
    },
    {
     "name": "stdout",
     "output_type": "stream",
     "text": [
      "Successfully fetched: https://io9.gizmodo.com/sideshows-imposing-doomsday-statue-is-ready-to-kill-eve-1828277876\n"
     ]
    },
    {
     "name": "stderr",
     "output_type": "stream",
     "text": [
      "Scraping Progress:   1%|          | 89/8402 [02:25<3:58:51,  1.72s/it]"
     ]
    },
    {
     "name": "stdout",
     "output_type": "stream",
     "text": [
      "Cannot fetch https://news.avclub.com/nick-lutskos-new-video-for-sideshow-is-a-papier-mache-1836312248, error: HTTPSConnectionPool(host='news.avclub.com', port=443): Max retries exceeded with url: /nick-lutskos-new-video-for-sideshow-is-a-papier-mache-1836312248 (Caused by NewConnectionError('<urllib3.connection.HTTPSConnection object at 0x116014410>: Failed to establish a new connection: [Errno 8] nodename nor servname provided, or not known'))\n"
     ]
    },
    {
     "name": "stderr",
     "output_type": "stream",
     "text": [
      "Scraping Progress:   1%|          | 91/8402 [02:28<4:13:31,  1.83s/it]"
     ]
    },
    {
     "name": "stdout",
     "output_type": "stream",
     "text": [
      "Successfully fetched: https://www.skysports.com/football/news/12020/11675847/republic-of-ireland-protests-a-sideshow-in-tough-georgia-game-says-jonathan-walters\n"
     ]
    },
    {
     "name": "stderr",
     "output_type": "stream",
     "text": [
      "Scraping Progress:   1%|          | 92/8402 [02:31<5:01:15,  2.18s/it]"
     ]
    },
    {
     "name": "stdout",
     "output_type": "stream",
     "text": [
      "Successfully fetched: https://jalopnik.com/merely-watching-a-sideshow-is-now-a-crime-in-san-jose-1834486925\n"
     ]
    },
    {
     "name": "stderr",
     "output_type": "stream",
     "text": [
      "Scraping Progress:   1%|          | 93/8402 [02:33<4:29:50,  1.95s/it]"
     ]
    },
    {
     "name": "stdout",
     "output_type": "stream",
     "text": [
      "Successfully fetched: https://www.slashfilm.com/the-predator-life-size-bust/\n"
     ]
    },
    {
     "name": "stderr",
     "output_type": "stream",
     "text": [
      "Scraping Progress:   1%|          | 94/8402 [02:35<4:26:53,  1.93s/it]"
     ]
    },
    {
     "name": "stdout",
     "output_type": "stream",
     "text": [
      "Successfully fetched: https://deadspin.com/yes-the-yankees-are-in-on-manny-machado-1827473344\n"
     ]
    },
    {
     "name": "stderr",
     "output_type": "stream",
     "text": [
      "Scraping Progress:   1%|          | 95/8402 [02:36<4:13:39,  1.83s/it]"
     ]
    },
    {
     "name": "stdout",
     "output_type": "stream",
     "text": [
      "Successfully fetched: https://jalopnik.com/get-a-load-of-this-ridiculous-story-about-how-elon-musk-1827842961\n"
     ]
    },
    {
     "name": "stderr",
     "output_type": "stream",
     "text": [
      "Scraping Progress:   1%|          | 96/8402 [02:38<3:59:52,  1.73s/it]"
     ]
    },
    {
     "name": "stdout",
     "output_type": "stream",
     "text": [
      "Successfully fetched: https://io9.gizmodo.com/watch-a-vfx-makeup-team-create-a-terrifying-masterpiece-1836664606\n"
     ]
    },
    {
     "name": "stderr",
     "output_type": "stream",
     "text": [
      "Scraping Progress:   1%|          | 97/8402 [02:40<4:07:23,  1.79s/it]"
     ]
    },
    {
     "name": "stdout",
     "output_type": "stream",
     "text": [
      "Successfully fetched: https://bleacherreport.com/articles/2800318-unlikely-nba-stars-who-could-be-traded-this-season\n"
     ]
    },
    {
     "name": "stderr",
     "output_type": "stream",
     "text": [
      "Scraping Progress:   1%|          | 98/8402 [02:41<4:05:02,  1.77s/it]"
     ]
    },
    {
     "name": "stdout",
     "output_type": "stream",
     "text": [
      "Successfully fetched: http://www.reviewed.com/home-outdoors/features/the-12-craziest-things-star-wars-fans-actually-own\n"
     ]
    },
    {
     "name": "stderr",
     "output_type": "stream",
     "text": [
      "Scraping Progress:   1%|          | 99/8402 [02:43<3:49:13,  1.66s/it]"
     ]
    },
    {
     "name": "stdout",
     "output_type": "stream",
     "text": [
      "Cannot fetch https://www.marketwatch.com/story/theres-a-huge-change-coming-from-the-fed-just-not-today-2019-12-11-910308, HTTP error: 401 Client Error: HTTP Forbidden for url: https://www.marketwatch.com/story/theres-a-huge-change-coming-from-the-fed-just-not-today-2019-12-11-910308\n"
     ]
    },
    {
     "name": "stderr",
     "output_type": "stream",
     "text": [
      "Scraping Progress:   1%|          | 100/8402 [02:44<3:27:16,  1.50s/it]"
     ]
    },
    {
     "name": "stdout",
     "output_type": "stream",
     "text": [
      "Successfully fetched: https://kotaku.com/conkledurr-taught-humanity-about-concrete-2000-years-ag-1832979944\n"
     ]
    },
    {
     "name": "stderr",
     "output_type": "stream",
     "text": [
      "Scraping Progress:   1%|          | 101/8402 [02:45<3:27:01,  1.50s/it]"
     ]
    },
    {
     "name": "stdout",
     "output_type": "stream",
     "text": [
      "Successfully fetched: https://jalopnik.com/heres-what-an-illegal-street-drifting-sideshow-looks-li-1829295712\n"
     ]
    },
    {
     "name": "stderr",
     "output_type": "stream",
     "text": [
      "Scraping Progress:   1%|          | 102/8402 [02:47<3:25:31,  1.49s/it]"
     ]
    },
    {
     "name": "stdout",
     "output_type": "stream",
     "text": [
      "Successfully fetched: https://www.slashfilm.com/cool-stuff-life-size-bb-8-figure/\n"
     ]
    },
    {
     "name": "stderr",
     "output_type": "stream",
     "text": [
      "Scraping Progress:   1%|          | 103/8402 [02:49<3:37:59,  1.58s/it]"
     ]
    },
    {
     "name": "stdout",
     "output_type": "stream",
     "text": [
      "Successfully fetched: https://www.engadget.com/2019/08/20/fifa-20-volta-story-mode-street-football/\n"
     ]
    },
    {
     "name": "stderr",
     "output_type": "stream",
     "text": [
      "Scraping Progress:   1%|          | 104/8402 [02:50<3:41:05,  1.60s/it]"
     ]
    },
    {
     "name": "stdout",
     "output_type": "stream",
     "text": [
      "Successfully fetched: https://arstechnica.com/gaming/2019/01/old-gods-and-new-gods-prepare-for-war-in-new-trailer-for-american-gods-s2/\n"
     ]
    },
    {
     "name": "stderr",
     "output_type": "stream",
     "text": [
      "Scraping Progress:   1%|          | 105/8402 [02:52<3:48:30,  1.65s/it]"
     ]
    },
    {
     "name": "stdout",
     "output_type": "stream",
     "text": [
      "Cannot fetch https://www.yahoo.com/news/latest-fx-orders-spinoff-sons-anarchy-193929044.html, HTTP error: 404 Client Error: Not Found for url: https://www.yahoo.com/news/latest-fx-orders-spinoff-sons-anarchy-193929044.html\n"
     ]
    },
    {
     "name": "stderr",
     "output_type": "stream",
     "text": [
      "Scraping Progress:   1%|▏         | 106/8402 [02:53<3:34:57,  1.55s/it]"
     ]
    },
    {
     "name": "stdout",
     "output_type": "stream",
     "text": [
      "Cannot fetch https://theslot.jezebel.com/a-just-god-would-put-ridiculous-alan-dershowitz-on-trum-1840379132, error: HTTPSConnectionPool(host='theslot.jezebel.com', port=443): Max retries exceeded with url: /a-just-god-would-put-ridiculous-alan-dershowitz-on-trum-1840379132 (Caused by SSLError(CertificateError(\"hostname 'theslot.jezebel.com' doesn't match either of 'g-omedia.com', '*.jalopnik.com', '*.kinja-embeds.com', '*.kinja-img.com', '*.kinja-labs.com', '*.kinja-static.com', '*.kinja.com', '*.kotaku.co.uk', '*.kotaku.com', '*.testkinja.com', '*.theinventory.com', '*.theroot.com', '*.verysmartbrothas.com', 'jalopnik.com', 'kinja-embeds.com', 'kinja-img.com', 'kinja-static.com', 'kinja.com', 'kotak.us', 'kotaku.co.uk', 'kotaku.com', 'testkinja.com', 'theinventory.com', 'theroot.com', 'verysmartbrothas.com', '*.g-omedia.com', 'qz.com', '*.qz.com', 'kotaku.nz', '*.kotaku.nz', '*.kotaku.co.nz', 'kotaku.co.nz', '*.kotaku.net.nz', 'kotaku.net.nz'\")))\n"
     ]
    },
    {
     "name": "stderr",
     "output_type": "stream",
     "text": [
      "Scraping Progress:   1%|▏         | 107/8402 [02:55<3:23:45,  1.47s/it]"
     ]
    },
    {
     "name": "stdout",
     "output_type": "stream",
     "text": [
      "Cannot fetch https://news.yahoo.com/trump-insists-state-union-speech-congress-180704798.html, HTTP error: 404 Client Error: Not Found for url: https://news.yahoo.com/trump-insists-state-union-speech-congress-180704798.html\n"
     ]
    },
    {
     "name": "stderr",
     "output_type": "stream",
     "text": [
      "Scraping Progress:   1%|▏         | 108/8402 [02:56<3:28:22,  1.51s/it]"
     ]
    },
    {
     "name": "stdout",
     "output_type": "stream",
     "text": [
      "Successfully fetched: https://www.fayerwayer.com/2018/05/nueva-figura-princesa-leia-hiperrealista\n"
     ]
    },
    {
     "name": "stderr",
     "output_type": "stream",
     "text": [
      "Scraping Progress:   1%|▏         | 109/8402 [02:58<3:45:06,  1.63s/it]"
     ]
    },
    {
     "name": "stdout",
     "output_type": "stream",
     "text": [
      "Successfully fetched: https://www.bloomberg.com/tosv2.html?vid=&uuid=f5420d10-fc50-11e8-8adb-6b609a18bf35&url=L25ld3MvYXJ0aWNsZXMvMjAxOC0xMi0xMC9pdGFseS1ldS1zdGFnZS1zaWRlc2hvdy1maWdodC13aXRoLXJlY2Vzc2lvbi1yaXNrLW9uLWhvcml6b24=\n"
     ]
    },
    {
     "name": "stderr",
     "output_type": "stream",
     "text": [
      "Scraping Progress:   1%|▏         | 110/8402 [02:59<3:26:47,  1.50s/it]"
     ]
    },
    {
     "name": "stdout",
     "output_type": "stream",
     "text": [
      "Successfully fetched: https://www.vidaextra.com/ps4/asi-espectacular-figura-1-100-dolares-basada-juego-spider-man-para-ps4\n"
     ]
    },
    {
     "name": "stderr",
     "output_type": "stream",
     "text": [
      "Scraping Progress:   1%|▏         | 111/8402 [03:01<3:28:30,  1.51s/it]"
     ]
    },
    {
     "name": "stdout",
     "output_type": "stream",
     "text": [
      "Cannot fetch https://www.reuters.com/article/us-usa-fed-powell-idUSKCN1U50DT, HTTP error: 401 Client Error: HTTP Forbidden for url: https://www.reuters.com/article/us-usa-fed-powell-idUSKCN1U50DT\n"
     ]
    },
    {
     "name": "stderr",
     "output_type": "stream",
     "text": [
      "Scraping Progress:   1%|▏         | 112/8402 [03:02<3:16:44,  1.42s/it]"
     ]
    },
    {
     "name": "stdout",
     "output_type": "stream",
     "text": [
      "Successfully fetched: https://www.engadget.com/2018/06/05/asus-zenbook-pro-15-screenpad/\n"
     ]
    },
    {
     "name": "stderr",
     "output_type": "stream",
     "text": [
      "Scraping Progress:   1%|▏         | 113/8402 [03:04<3:26:53,  1.50s/it]"
     ]
    },
    {
     "name": "stdout",
     "output_type": "stream",
     "text": [
      "Successfully fetched: http://www.thisisinsider.com/why-dancers-became-strippers-2018-4\n"
     ]
    },
    {
     "name": "stderr",
     "output_type": "stream",
     "text": [
      "Scraping Progress:   1%|▏         | 114/8402 [03:06<3:35:33,  1.56s/it]"
     ]
    },
    {
     "name": "stdout",
     "output_type": "stream",
     "text": [
      "Successfully fetched: http://time.com/5139589/scott-pruitt-climate-change-epa/\n"
     ]
    },
    {
     "name": "stderr",
     "output_type": "stream",
     "text": [
      "Scraping Progress:   1%|▏         | 115/8402 [03:07<3:41:11,  1.60s/it]"
     ]
    },
    {
     "name": "stdout",
     "output_type": "stream",
     "text": [
      "Successfully fetched: https://www.yahoo.com/news/david-stockman-calls-trump-apos-074240810.html\n"
     ]
    },
    {
     "name": "stderr",
     "output_type": "stream",
     "text": [
      "Scraping Progress:   1%|▏         | 116/8402 [03:09<3:42:20,  1.61s/it]"
     ]
    },
    {
     "name": "stdout",
     "output_type": "stream",
     "text": [
      "Cannot fetch https://tv.avclub.com/sideshow-bob-is-wasted-in-a-simpsons-holiday-episode-wi-1840448753, HTTP error: 404 Client Error: Not Found for url: https://tv.avclub.com/sideshow-bob-is-wasted-in-a-simpsons-holiday-episode-wi-1840448753\n"
     ]
    },
    {
     "name": "stderr",
     "output_type": "stream",
     "text": [
      "Scraping Progress:   1%|▏         | 117/8402 [03:10<3:27:50,  1.51s/it]"
     ]
    },
    {
     "name": "stdout",
     "output_type": "stream",
     "text": [
      "Cannot fetch https://www.inc.com/dustin-mckissen/will-virtual-reality-help-create-an-even-more-polarized-isolated-society.html, HTTP error: 403 Client Error: Forbidden for url: https://www.inc.com/dustin-mckissen/will-virtual-reality-help-create-an-even-more-polarized-isolated-society.html\n"
     ]
    },
    {
     "name": "stderr",
     "output_type": "stream",
     "text": [
      "Scraping Progress:   1%|▏         | 118/8402 [03:11<3:14:42,  1.41s/it]"
     ]
    },
    {
     "name": "stdout",
     "output_type": "stream",
     "text": [
      "Cannot fetch https://news.avclub.com/its-avenatti-vs-the-mooch-as-the-trump-sideshow-hits-t-1826818886, error: HTTPSConnectionPool(host='news.avclub.com', port=443): Max retries exceeded with url: /its-avenatti-vs-the-mooch-as-the-trump-sideshow-hits-t-1826818886 (Caused by NewConnectionError('<urllib3.connection.HTTPSConnection object at 0x11607c5d0>: Failed to establish a new connection: [Errno 8] nodename nor servname provided, or not known'))\n"
     ]
    },
    {
     "name": "stderr",
     "output_type": "stream",
     "text": [
      "Scraping Progress:   1%|▏         | 119/8402 [03:12<2:58:04,  1.29s/it]"
     ]
    },
    {
     "name": "stdout",
     "output_type": "stream",
     "text": [
      "Successfully fetched: https://www.bloomberg.com/view/articles/2018-04-14/u-s-syria-strike-strategy-is-too-complex-to-predict\n"
     ]
    },
    {
     "name": "stderr",
     "output_type": "stream",
     "text": [
      "Scraping Progress:   1%|▏         | 120/8402 [03:14<2:56:58,  1.28s/it]"
     ]
    },
    {
     "name": "stdout",
     "output_type": "stream",
     "text": [
      "Successfully fetched: https://www.theregister.co.uk/2018/10/23/java_renovation_javaone/\n"
     ]
    },
    {
     "name": "stderr",
     "output_type": "stream",
     "text": [
      "Scraping Progress:   1%|▏         | 121/8402 [03:15<3:13:57,  1.41s/it]"
     ]
    },
    {
     "name": "stdout",
     "output_type": "stream",
     "text": [
      "Successfully fetched: https://www.bbc.co.uk/news/entertainment-arts-48049916\n"
     ]
    },
    {
     "name": "stderr",
     "output_type": "stream",
     "text": [
      "Scraping Progress:   1%|▏         | 122/8402 [03:17<3:21:15,  1.46s/it]"
     ]
    },
    {
     "name": "stdout",
     "output_type": "stream",
     "text": [
      "Successfully fetched: https://qz.com/1375931/the-nobel-prize-literature-committee-is-publicly-melting-down/\n"
     ]
    },
    {
     "name": "stderr",
     "output_type": "stream",
     "text": [
      "Scraping Progress:   1%|▏         | 123/8402 [03:18<3:25:45,  1.49s/it]"
     ]
    },
    {
     "name": "stdout",
     "output_type": "stream",
     "text": [
      "Successfully fetched: https://www.thisiscolossal.com/2019/05/banksy-in-venice/\n"
     ]
    },
    {
     "name": "stderr",
     "output_type": "stream",
     "text": [
      "Scraping Progress:   1%|▏         | 124/8402 [03:20<3:23:29,  1.47s/it]"
     ]
    },
    {
     "name": "stdout",
     "output_type": "stream",
     "text": [
      "Successfully fetched: https://www.theverge.com/interface/2019/10/24/20929265/mark-zuckerberg-libra-hearing-congress-backlash\n"
     ]
    },
    {
     "name": "stderr",
     "output_type": "stream",
     "text": [
      "Scraping Progress:   1%|▏         | 125/8402 [03:21<3:23:29,  1.48s/it]"
     ]
    },
    {
     "name": "stdout",
     "output_type": "stream",
     "text": [
      "Successfully fetched: https://www.si.com/mma/2019/04/10/max-holloway-dustin-poirier-ufc-236-preview-main-event\n"
     ]
    },
    {
     "name": "stderr",
     "output_type": "stream",
     "text": [
      "Scraping Progress:   1%|▏         | 126/8402 [03:23<3:22:29,  1.47s/it]"
     ]
    },
    {
     "name": "stdout",
     "output_type": "stream",
     "text": [
      "Successfully fetched: https://www.thisisinsider.com/abandoned-summer-camps-photos-2019-2\n"
     ]
    },
    {
     "name": "stderr",
     "output_type": "stream",
     "text": [
      "Scraping Progress:   2%|▏         | 127/8402 [03:24<3:21:54,  1.46s/it]"
     ]
    },
    {
     "name": "stdout",
     "output_type": "stream",
     "text": [
      "Successfully fetched: https://io9.gizmodo.com/life-sized-star-wars-and-guardians-of-the-galaxy-toys-1824072376\n"
     ]
    },
    {
     "name": "stderr",
     "output_type": "stream",
     "text": [
      "Scraping Progress:   2%|▏         | 128/8402 [03:26<3:39:39,  1.59s/it]"
     ]
    },
    {
     "name": "stdout",
     "output_type": "stream",
     "text": [
      "Cannot fetch https://makezine.com/2019/04/09/the-radical-city-maker-faire-and-burning-man-at-dokk1-this-weekend-in-aarhus/, HTTP error: 403 Client Error: Forbidden for url: https://makezine.com/2019/04/09/the-radical-city-maker-faire-and-burning-man-at-dokk1-this-weekend-in-aarhus/\n"
     ]
    },
    {
     "name": "stderr",
     "output_type": "stream",
     "text": [
      "Scraping Progress:   2%|▏         | 129/8402 [03:28<3:39:10,  1.59s/it]"
     ]
    },
    {
     "name": "stdout",
     "output_type": "stream",
     "text": [
      "Cannot fetch https://theslot.jezebel.com/marianne-williamsons-insightful-approach-to-race-in-ame-1836851488, error: HTTPSConnectionPool(host='theslot.jezebel.com', port=443): Max retries exceeded with url: /marianne-williamsons-insightful-approach-to-race-in-ame-1836851488 (Caused by SSLError(CertificateError(\"hostname 'theslot.jezebel.com' doesn't match either of 'g-omedia.com', '*.jalopnik.com', '*.kinja-embeds.com', '*.kinja-img.com', '*.kinja-labs.com', '*.kinja-static.com', '*.kinja.com', '*.kotaku.co.uk', '*.kotaku.com', '*.testkinja.com', '*.theinventory.com', '*.theroot.com', '*.verysmartbrothas.com', 'jalopnik.com', 'kinja-embeds.com', 'kinja-img.com', 'kinja-static.com', 'kinja.com', 'kotak.us', 'kotaku.co.uk', 'kotaku.com', 'testkinja.com', 'theinventory.com', 'theroot.com', 'verysmartbrothas.com', '*.g-omedia.com', 'qz.com', '*.qz.com', 'kotaku.nz', '*.kotaku.nz', '*.kotaku.co.nz', 'kotaku.co.nz', '*.kotaku.net.nz', 'kotaku.net.nz'\")))\n"
     ]
    },
    {
     "name": "stderr",
     "output_type": "stream",
     "text": [
      "Scraping Progress:   2%|▏         | 130/8402 [03:29<3:19:00,  1.44s/it]"
     ]
    },
    {
     "name": "stdout",
     "output_type": "stream",
     "text": [
      "Successfully fetched: https://www.tomshw.it/culturapop/sideshow-collectibles-rivela-una-nuova-statua-di-lobo-della-dc-comics/\n"
     ]
    },
    {
     "name": "stderr",
     "output_type": "stream",
     "text": [
      "Scraping Progress:   2%|▏         | 131/8402 [03:31<3:35:51,  1.57s/it]"
     ]
    },
    {
     "name": "stdout",
     "output_type": "stream",
     "text": [
      "Successfully fetched: https://news.yahoo.com/fully-electric-711-hp-bmw-142400060.html\n"
     ]
    },
    {
     "name": "stderr",
     "output_type": "stream",
     "text": [
      "Scraping Progress:   2%|▏         | 132/8402 [03:33<3:54:29,  1.70s/it]"
     ]
    },
    {
     "name": "stdout",
     "output_type": "stream",
     "text": [
      "Cannot fetch https://news.yahoo.com/singapore-opposition-party-launched-polls-loom-043055802.html, HTTP error: 404 Client Error: Not Found for url: https://news.yahoo.com/singapore-opposition-party-launched-polls-loom-043055802.html\n"
     ]
    },
    {
     "name": "stderr",
     "output_type": "stream",
     "text": [
      "Scraping Progress:   2%|▏         | 133/8402 [03:34<3:39:03,  1.59s/it]"
     ]
    },
    {
     "name": "stdout",
     "output_type": "stream",
     "text": [
      "Successfully fetched: http://www.espn.com/blog/collegebasketballnation/post/_/id/121233/grayson-allens-resurgence-coming-at-perfect-time-for-no-5-duke\n"
     ]
    },
    {
     "name": "stderr",
     "output_type": "stream",
     "text": [
      "Scraping Progress:   2%|▏         | 134/8402 [03:36<3:36:32,  1.57s/it]"
     ]
    },
    {
     "name": "stdout",
     "output_type": "stream",
     "text": [
      "Cannot fetch https://www.inc.com/maureen-kline/super-bowl-ads-show-brands-taking-stands-on-social-environmental-issues.html, HTTP error: 403 Client Error: Forbidden for url: https://www.inc.com/maureen-kline/super-bowl-ads-show-brands-taking-stands-on-social-environmental-issues.html\n"
     ]
    },
    {
     "name": "stderr",
     "output_type": "stream",
     "text": [
      "Scraping Progress:   2%|▏         | 135/8402 [03:37<3:19:02,  1.44s/it]"
     ]
    },
    {
     "name": "stdout",
     "output_type": "stream",
     "text": [
      "Successfully fetched: https://compete.kotaku.com/overwatch-league-stage-4-wont-have-new-hanzo-or-nerfed-1825904685\n"
     ]
    },
    {
     "name": "stderr",
     "output_type": "stream",
     "text": [
      "Scraping Progress:   2%|▏         | 136/8402 [03:38<3:23:32,  1.48s/it]"
     ]
    },
    {
     "name": "stdout",
     "output_type": "stream",
     "text": [
      "Successfully fetched: https://www.yahoo.com/news/senator-reaches-nonexistent-glasses-takes-223156000.html\n"
     ]
    },
    {
     "name": "stderr",
     "output_type": "stream",
     "text": [
      "Scraping Progress:   2%|▏         | 137/8402 [03:40<3:29:34,  1.52s/it]"
     ]
    },
    {
     "name": "stdout",
     "output_type": "stream",
     "text": [
      "Cannot fetch https://www.marketwatch.com/story/moderator-who-botched-pennsylvanias-single-gubernatorial-debate-who-is-alex-trebek-2018-10-04, HTTP error: 401 Client Error: HTTP Forbidden for url: https://www.marketwatch.com/story/moderator-who-botched-pennsylvanias-single-gubernatorial-debate-who-is-alex-trebek-2018-10-04\n"
     ]
    },
    {
     "name": "stderr",
     "output_type": "stream",
     "text": [
      "Scraping Progress:   2%|▏         | 138/8402 [03:41<3:13:10,  1.40s/it]"
     ]
    },
    {
     "name": "stdout",
     "output_type": "stream",
     "text": [
      "Successfully fetched: https://hypebeast.com/2019/12/sideshow-venompool-statue-release-info\n"
     ]
    },
    {
     "name": "stderr",
     "output_type": "stream",
     "text": [
      "Scraping Progress:   2%|▏         | 139/8402 [03:43<3:34:56,  1.56s/it]"
     ]
    },
    {
     "name": "stdout",
     "output_type": "stream",
     "text": [
      "Successfully fetched: https://food52.com/blog/23551-top-10-genius-recipes-2018?utm_source=feedburner&utm_medium=feed&utm_campaign=Feed%3A+food52-TheAandMBlog+%28The+A%2BM+Blog%29\n"
     ]
    },
    {
     "name": "stderr",
     "output_type": "stream",
     "text": [
      "Scraping Progress:   2%|▏         | 140/8402 [03:44<3:32:17,  1.54s/it]"
     ]
    },
    {
     "name": "stdout",
     "output_type": "stream",
     "text": [
      "Cannot fetch https://www.theparisreview.org/blog/2018/12/04/redux-the-famous-sideshow/, HTTP error: 403 Client Error: Forbidden for url: https://www.theparisreview.org/blog/2018/12/04/redux-the-famous-sideshow/\n"
     ]
    },
    {
     "name": "stderr",
     "output_type": "stream",
     "text": [
      "Scraping Progress:   2%|▏         | 141/8402 [03:46<3:21:30,  1.46s/it]"
     ]
    },
    {
     "name": "stdout",
     "output_type": "stream",
     "text": [
      "Successfully fetched: https://io9.gizmodo.com/looking-back-at-the-complicated-legacy-of-1932s-freaks-1828998899\n"
     ]
    },
    {
     "name": "stderr",
     "output_type": "stream",
     "text": [
      "Scraping Progress:   2%|▏         | 142/8402 [03:48<3:35:31,  1.57s/it]"
     ]
    },
    {
     "name": "stdout",
     "output_type": "stream",
     "text": [
      "Cannot fetch https://www.destructoid.com/tripwire-is-bringing-gory-new-updates-to-killing-floor-2-507550.phtml, HTTP error: 404 Client Error: Not Found for url: https://www.destructoid.com/tripwire-is-bringing-gory-new-updates-to-killing-floor-2-507550.phtml\n"
     ]
    },
    {
     "name": "stderr",
     "output_type": "stream",
     "text": [
      "Scraping Progress:   2%|▏         | 143/8402 [03:49<3:37:19,  1.58s/it]"
     ]
    },
    {
     "name": "stdout",
     "output_type": "stream",
     "text": [
      "Successfully fetched: https://www.slashfilm.com/sideshow-the-iron-giant-maquette/\n"
     ]
    },
    {
     "name": "stderr",
     "output_type": "stream",
     "text": [
      "Scraping Progress:   2%|▏         | 144/8402 [03:51<3:52:52,  1.69s/it]"
     ]
    },
    {
     "name": "stdout",
     "output_type": "stream",
     "text": [
      "Successfully fetched: https://www.avclub.com/donald-trump-just-slapped-his-old-pal-steve-bannon-with-1821760574\n"
     ]
    },
    {
     "name": "stderr",
     "output_type": "stream",
     "text": [
      "Scraping Progress:   2%|▏         | 145/8402 [03:52<3:38:31,  1.59s/it]"
     ]
    },
    {
     "name": "stdout",
     "output_type": "stream",
     "text": [
      "Successfully fetched: https://kotaku.com/playing-overcooked-can-tear-people-apart-and-thankfull-1826672317\n"
     ]
    },
    {
     "name": "stderr",
     "output_type": "stream",
     "text": [
      "Scraping Progress:   2%|▏         | 146/8402 [03:54<3:36:00,  1.57s/it]"
     ]
    },
    {
     "name": "stdout",
     "output_type": "stream",
     "text": [
      "Successfully fetched: https://pitchfork.com/news/dj-shadow-announces-new-live-album-and-film/\n"
     ]
    },
    {
     "name": "stderr",
     "output_type": "stream",
     "text": [
      "Scraping Progress:   2%|▏         | 147/8402 [03:56<3:42:40,  1.62s/it]"
     ]
    },
    {
     "name": "stdout",
     "output_type": "stream",
     "text": [
      "Successfully fetched: http://www.slashfilm.com/avengers-infinity-war-sideshow-collectibles-infinity-gauntlet/\n"
     ]
    },
    {
     "name": "stderr",
     "output_type": "stream",
     "text": [
      "Scraping Progress:   2%|▏         | 148/8402 [03:57<3:27:16,  1.51s/it]"
     ]
    },
    {
     "name": "stdout",
     "output_type": "stream",
     "text": [
      "Successfully fetched: https://jalopnik.com/guess-who-got-arrested-this-weekend-the-guy-in-a-musta-1828461876\n"
     ]
    },
    {
     "name": "stderr",
     "output_type": "stream",
     "text": [
      "Scraping Progress:   2%|▏         | 149/8402 [03:58<3:22:36,  1.47s/it]"
     ]
    },
    {
     "name": "stdout",
     "output_type": "stream",
     "text": [
      "Successfully fetched: https://www.businessinsider.com/summits-g20-bring-out-worst-in-trump-opinion-2019-6\n"
     ]
    },
    {
     "name": "stderr",
     "output_type": "stream",
     "text": [
      "Scraping Progress:   2%|▏         | 150/8402 [04:00<3:22:41,  1.47s/it]"
     ]
    },
    {
     "name": "stdout",
     "output_type": "stream",
     "text": [
      "Successfully fetched: https://venturebeat.com/2018/06/11/everything-shown-at-the-pc-gaming-show/\n"
     ]
    },
    {
     "name": "stderr",
     "output_type": "stream",
     "text": [
      "Scraping Progress:   2%|▏         | 151/8402 [04:01<3:28:56,  1.52s/it]"
     ]
    },
    {
     "name": "stdout",
     "output_type": "stream",
     "text": [
      "Cannot fetch https://www.politico.com/news/2019/11/12/mulvaney-impeachment-hearings-070342, HTTP error: 403 Client Error: Forbidden for url: https://www.politico.com/news/2019/11/12/mulvaney-impeachment-hearings-070342\n"
     ]
    },
    {
     "name": "stderr",
     "output_type": "stream",
     "text": [
      "Scraping Progress:   2%|▏         | 152/8402 [04:03<3:14:04,  1.41s/it]"
     ]
    },
    {
     "name": "stdout",
     "output_type": "stream",
     "text": [
      "Successfully fetched: https://www.businessinsider.com/trump-impeachment-public-hearing-gop-senators-claim-busy-2019-11\n"
     ]
    },
    {
     "name": "stderr",
     "output_type": "stream",
     "text": [
      "Scraping Progress:   2%|▏         | 153/8402 [04:04<3:29:02,  1.52s/it]"
     ]
    },
    {
     "name": "stdout",
     "output_type": "stream",
     "text": [
      "Cannot fetch https://boingboing.net/2018/09/20/hurricane-capitalism.html, HTTP error: 403 Client Error: Forbidden for url: https://boingboing.net/2018/09/20/hurricane-capitalism.html\n"
     ]
    },
    {
     "name": "stderr",
     "output_type": "stream",
     "text": [
      "Scraping Progress:   2%|▏         | 154/8402 [04:05<3:12:25,  1.40s/it]"
     ]
    },
    {
     "name": "stdout",
     "output_type": "stream",
     "text": [
      "Successfully fetched: https://www.boston.com/sports/boston-bruins/2019/06/02/bruins-staying-composed-through-blues-physical-temptations\n"
     ]
    },
    {
     "name": "stderr",
     "output_type": "stream",
     "text": [
      "Scraping Progress:   2%|▏         | 155/8402 [04:07<3:09:06,  1.38s/it]"
     ]
    },
    {
     "name": "stdout",
     "output_type": "stream",
     "text": [
      "Successfully fetched: https://www.tomshw.it/culturapop/batman-beyond-lincredibile-nuova-statua-di-sideshow/\n"
     ]
    },
    {
     "name": "stderr",
     "output_type": "stream",
     "text": [
      "Scraping Progress:   2%|▏         | 156/8402 [04:09<3:38:22,  1.59s/it]"
     ]
    },
    {
     "name": "stdout",
     "output_type": "stream",
     "text": [
      "Successfully fetched: https://www.tomshw.it/culturapop/cyclops-premium-format-annunciato-da-sideshow/\n"
     ]
    },
    {
     "name": "stderr",
     "output_type": "stream",
     "text": [
      "Scraping Progress:   2%|▏         | 157/8402 [04:11<4:06:30,  1.79s/it]"
     ]
    },
    {
     "name": "stdout",
     "output_type": "stream",
     "text": [
      "Successfully fetched: https://www.tomshw.it/culturapop/the-flash-premium-format-annunciata-da-sideshow/\n"
     ]
    },
    {
     "name": "stderr",
     "output_type": "stream",
     "text": [
      "Scraping Progress:   2%|▏         | 158/8402 [04:13<3:55:09,  1.71s/it]"
     ]
    },
    {
     "name": "stdout",
     "output_type": "stream",
     "text": [
      "Successfully fetched: https://www.bloombergquint.com/opinion/apple-s-new-services-come-with-built-in-conflicts\n"
     ]
    },
    {
     "name": "stderr",
     "output_type": "stream",
     "text": [
      "Scraping Progress:   2%|▏         | 159/8402 [04:15<4:15:45,  1.86s/it]"
     ]
    },
    {
     "name": "stdout",
     "output_type": "stream",
     "text": [
      "Successfully fetched: https://www.tomshw.it/culturapop/sabretooth-sideshow-presenta-la-statua-di-sabretooth/\n"
     ]
    },
    {
     "name": "stderr",
     "output_type": "stream",
     "text": [
      "Scraping Progress:   2%|▏         | 160/8402 [04:17<4:16:42,  1.87s/it]"
     ]
    },
    {
     "name": "stdout",
     "output_type": "stream",
     "text": [
      "Successfully fetched: https://www.huffingtonpost.com/entry/max-vernon-existential-life-crisis-lullaby_us_5bce3511e4b0a8f17eef72b6\n"
     ]
    },
    {
     "name": "stderr",
     "output_type": "stream",
     "text": [
      "Scraping Progress:   2%|▏         | 161/8402 [04:18<4:01:01,  1.75s/it]"
     ]
    },
    {
     "name": "stdout",
     "output_type": "stream",
     "text": [
      "Successfully fetched: https://www.bloomberg.com/news/articles/2018-03-15/fed-takes-a-back-seat-for-traders-focused-on-libor-s-big-blowout\n"
     ]
    },
    {
     "name": "stderr",
     "output_type": "stream",
     "text": [
      "Scraping Progress:   2%|▏         | 162/8402 [04:20<3:42:32,  1.62s/it]"
     ]
    },
    {
     "name": "stdout",
     "output_type": "stream",
     "text": [
      "Successfully fetched: https://www.neatorama.com/2019/10/01/The-True-Tale-of-a-Bona-Fide-One-of-a-kind-Lobster-Girl/\n"
     ]
    },
    {
     "name": "stderr",
     "output_type": "stream",
     "text": [
      "Scraping Progress:   2%|▏         | 163/8402 [04:21<3:41:57,  1.62s/it]"
     ]
    },
    {
     "name": "stdout",
     "output_type": "stream",
     "text": [
      "Successfully fetched: http://www.espn.com/wwe/story/_/id/25684611/remembering-influence-mean-gene-okerlund\n"
     ]
    },
    {
     "name": "stderr",
     "output_type": "stream",
     "text": [
      "Scraping Progress:   2%|▏         | 164/8402 [04:23<3:46:44,  1.65s/it]"
     ]
    },
    {
     "name": "stdout",
     "output_type": "stream",
     "text": [
      "Successfully fetched: https://io9.gizmodo.com/a-wonderfully-articulated-wonder-woman-is-the-most-supe-1840311651\n"
     ]
    },
    {
     "name": "stderr",
     "output_type": "stream",
     "text": [
      "Scraping Progress:   2%|▏         | 165/8402 [04:25<3:56:14,  1.72s/it]"
     ]
    },
    {
     "name": "stdout",
     "output_type": "stream",
     "text": [
      "Successfully fetched: https://www.salon.com/2018/10/18/jamal-khashoggi-donald-trump-and-corruption-will-this-tragedy-be-the-end-of-lol-nothing-matters/\n"
     ]
    },
    {
     "name": "stderr",
     "output_type": "stream",
     "text": [
      "Scraping Progress:   2%|▏         | 166/8402 [04:26<3:40:49,  1.61s/it]"
     ]
    },
    {
     "name": "stdout",
     "output_type": "stream",
     "text": [
      "Successfully fetched: https://indianexpress.com/article/world/donald-trump-kim-jong-un-north-korea-summit-5219413/\n"
     ]
    },
    {
     "name": "stderr",
     "output_type": "stream",
     "text": [
      "Scraping Progress:   2%|▏         | 167/8402 [04:28<4:01:45,  1.76s/it]"
     ]
    },
    {
     "name": "stdout",
     "output_type": "stream",
     "text": [
      "Successfully fetched: https://www.npr.org/2018/02/26/588719252/what-you-need-to-know-about-russia-memo-mania-minority-report-edition\n"
     ]
    },
    {
     "name": "stderr",
     "output_type": "stream",
     "text": [
      "Scraping Progress:   2%|▏         | 168/8402 [04:31<4:23:07,  1.92s/it]"
     ]
    },
    {
     "name": "stdout",
     "output_type": "stream",
     "text": [
      "Successfully fetched: https://hypebeast.com/2018/2/hot-toys-black-panther-tchalla-sixth-scale-figure\n"
     ]
    },
    {
     "name": "stderr",
     "output_type": "stream",
     "text": [
      "Scraping Progress:   2%|▏         | 169/8402 [04:33<4:36:42,  2.02s/it]"
     ]
    },
    {
     "name": "stdout",
     "output_type": "stream",
     "text": [
      "Cannot fetch https://www.cnbeta.com/articles/tech/784439.htm, error: HTTPSConnectionPool(host='www.cnbeta.com', port=443): Max retries exceeded with url: /articles/tech/784439.htm (Caused by NewConnectionError('<urllib3.connection.HTTPSConnection object at 0x118280290>: Failed to establish a new connection: [Errno 8] nodename nor servname provided, or not known'))\n"
     ]
    },
    {
     "name": "stderr",
     "output_type": "stream",
     "text": [
      "Scraping Progress:   2%|▏         | 170/8402 [04:34<3:59:09,  1.74s/it]"
     ]
    },
    {
     "name": "stdout",
     "output_type": "stream",
     "text": [
      "Successfully fetched: https://bleacherreport.com/articles/2780399-cm-punk-shows-nothing-to-suggest-hes-more-than-a-sideshow-in-2nd-ufc-loss\n"
     ]
    },
    {
     "name": "stderr",
     "output_type": "stream",
     "text": [
      "Scraping Progress:   2%|▏         | 171/8402 [04:35<3:52:34,  1.70s/it]"
     ]
    },
    {
     "name": "stdout",
     "output_type": "stream",
     "text": [
      "Successfully fetched: https://www.npr.org/2019/06/11/731648558/flying-lotus-comes-back-from-the-afterlife-flamagra\n"
     ]
    },
    {
     "name": "stderr",
     "output_type": "stream",
     "text": [
      "Scraping Progress:   2%|▏         | 172/8402 [04:37<4:02:43,  1.77s/it]"
     ]
    },
    {
     "name": "stdout",
     "output_type": "stream",
     "text": [
      "Successfully fetched: https://www.tomshw.it/culturapop/wolverine-sixth-scale-figure-da-sideshow/\n"
     ]
    },
    {
     "name": "stderr",
     "output_type": "stream",
     "text": [
      "Scraping Progress:   2%|▏         | 173/8402 [04:39<4:06:21,  1.80s/it]"
     ]
    },
    {
     "name": "stdout",
     "output_type": "stream",
     "text": [
      "Cannot fetch https://www.yahoo.com/news/colombians-vote-elections-seen-test-peace-deal-060606734.html, HTTP error: 404 Client Error: Not Found for url: https://www.yahoo.com/news/colombians-vote-elections-seen-test-peace-deal-060606734.html\n"
     ]
    },
    {
     "name": "stderr",
     "output_type": "stream",
     "text": [
      "Scraping Progress:   2%|▏         | 174/8402 [04:41<3:50:43,  1.68s/it]"
     ]
    },
    {
     "name": "stdout",
     "output_type": "stream",
     "text": [
      "Successfully fetched: http://www.slashfilm.com/hot-toys-baby-groot-dancing/\n"
     ]
    },
    {
     "name": "stderr",
     "output_type": "stream",
     "text": [
      "Scraping Progress:   2%|▏         | 175/8402 [04:43<4:02:34,  1.77s/it]"
     ]
    },
    {
     "name": "stdout",
     "output_type": "stream",
     "text": [
      "Successfully fetched: https://bleacherreport.com/articles/2760155-dwane-casey-on-coaching-team-lebron-vs-team-steph-we-want-to-be-competitive\n"
     ]
    },
    {
     "name": "stderr",
     "output_type": "stream",
     "text": [
      "Scraping Progress:   2%|▏         | 176/8402 [04:44<3:51:47,  1.69s/it]"
     ]
    },
    {
     "name": "stdout",
     "output_type": "stream",
     "text": [
      "Cannot fetch https://news.avclub.com/jordan-peele-and-amazon-studios-want-to-change-the-narr-1825030809, error: HTTPSConnectionPool(host='news.avclub.com', port=443): Max retries exceeded with url: /jordan-peele-and-amazon-studios-want-to-change-the-narr-1825030809 (Caused by NewConnectionError('<urllib3.connection.HTTPSConnection object at 0x1182d7e50>: Failed to establish a new connection: [Errno 8] nodename nor servname provided, or not known'))\n"
     ]
    },
    {
     "name": "stderr",
     "output_type": "stream",
     "text": [
      "Scraping Progress:   2%|▏         | 177/8402 [04:45<3:23:49,  1.49s/it]"
     ]
    },
    {
     "name": "stdout",
     "output_type": "stream",
     "text": [
      "Cannot fetch https://boingboing.net/2019/04/05/solidarity-vs-oligarchy.html, HTTP error: 403 Client Error: Forbidden for url: https://boingboing.net/2019/04/05/solidarity-vs-oligarchy.html\n"
     ]
    },
    {
     "name": "stderr",
     "output_type": "stream",
     "text": [
      "Scraping Progress:   2%|▏         | 178/8402 [04:46<3:10:02,  1.39s/it]"
     ]
    },
    {
     "name": "stdout",
     "output_type": "stream",
     "text": [
      "Successfully fetched: https://kotaku.com/xboxs-big-annual-event-was-a-disappointment-1839927604\n"
     ]
    },
    {
     "name": "stderr",
     "output_type": "stream",
     "text": [
      "Scraping Progress:   2%|▏         | 179/8402 [04:48<3:14:45,  1.42s/it]"
     ]
    },
    {
     "name": "stdout",
     "output_type": "stream",
     "text": [
      "Successfully fetched: https://www.cnet.com/news/in-2019-virtual-reality-feels-like-a-dream-gathering-dust-htc-vive-cosmos-oculus/\n"
     ]
    },
    {
     "name": "stderr",
     "output_type": "stream",
     "text": [
      "Scraping Progress:   2%|▏         | 180/8402 [04:51<4:21:01,  1.90s/it]"
     ]
    },
    {
     "name": "stdout",
     "output_type": "stream",
     "text": [
      "Successfully fetched: https://www.tomshw.it/culturapop/aperti-i-preorder-per-la-statua-di-harley-quinn-di-batman-la-serie-animata-della-sideshow/\n"
     ]
    },
    {
     "name": "stderr",
     "output_type": "stream",
     "text": [
      "Scraping Progress:   2%|▏         | 181/8402 [04:53<4:12:00,  1.84s/it]"
     ]
    },
    {
     "name": "stdout",
     "output_type": "stream",
     "text": [
      "Cannot fetch https://www.yahoo.com/news/satanic-temple-sues-arizona-city-lead-city-council-230713798.html, HTTP error: 404 Client Error: Not Found for url: https://www.yahoo.com/news/satanic-temple-sues-arizona-city-lead-city-council-230713798.html\n"
     ]
    },
    {
     "name": "stderr",
     "output_type": "stream",
     "text": [
      "Scraping Progress:   2%|▏         | 182/8402 [04:54<3:46:54,  1.66s/it]"
     ]
    },
    {
     "name": "stdout",
     "output_type": "stream",
     "text": [
      "Successfully fetched: https://www.rockpapershotgun.com/2019/08/09/hades-adds-a-final-battle-is-still-really-good/\n"
     ]
    },
    {
     "name": "stderr",
     "output_type": "stream",
     "text": [
      "Scraping Progress:   2%|▏         | 183/8402 [04:56<3:54:41,  1.71s/it]"
     ]
    },
    {
     "name": "stdout",
     "output_type": "stream",
     "text": [
      "Successfully fetched: https://www.tomshw.it/culturapop/daredevil-shadowland-e-la-nuova-premium-format-di-sideshow/\n"
     ]
    },
    {
     "name": "stderr",
     "output_type": "stream",
     "text": [
      "Scraping Progress:   2%|▏         | 184/8402 [04:57<3:55:50,  1.72s/it]"
     ]
    },
    {
     "name": "stdout",
     "output_type": "stream",
     "text": [
      "Successfully fetched: https://www.fayerwayer.com/2018/07/bb-8-tamano-real\n"
     ]
    },
    {
     "name": "stderr",
     "output_type": "stream",
     "text": [
      "Scraping Progress:   2%|▏         | 185/8402 [04:59<4:07:53,  1.81s/it]"
     ]
    },
    {
     "name": "stdout",
     "output_type": "stream",
     "text": [
      "Successfully fetched: https://hypebeast.com/2018/7/hot-toys-avengers-infinity-war-war-machine-mark-iv-figure\n"
     ]
    },
    {
     "name": "stderr",
     "output_type": "stream",
     "text": [
      "Scraping Progress:   2%|▏         | 186/8402 [05:01<4:19:53,  1.90s/it]"
     ]
    },
    {
     "name": "stdout",
     "output_type": "stream",
     "text": [
      "Successfully fetched: https://io9.gizmodo.com/recreate-an-iconic-teen-titans-comic-book-cover-on-your-1822151897\n"
     ]
    },
    {
     "name": "stderr",
     "output_type": "stream",
     "text": [
      "Scraping Progress:   2%|▏         | 187/8402 [05:03<4:22:35,  1.92s/it]"
     ]
    },
    {
     "name": "stdout",
     "output_type": "stream",
     "text": [
      "Cannot fetch https://abovethelaw.com/2018/06/supreme-court-announcement-scheduled-just-like-the-worlds-worst-game-show/, HTTP error: 403 Client Error: Forbidden for url: https://abovethelaw.com/2018/06/supreme-court-announcement-scheduled-just-like-the-worlds-worst-game-show/\n"
     ]
    },
    {
     "name": "stderr",
     "output_type": "stream",
     "text": [
      "Scraping Progress:   2%|▏         | 189/8402 [05:07<4:22:10,  1.92s/it]"
     ]
    },
    {
     "name": "stdout",
     "output_type": "stream",
     "text": [
      "Successfully fetched: https://laughingsquid.com/sideshow-bob-rage-against-the-machine-bullet-in-the-head/\n"
     ]
    },
    {
     "name": "stderr",
     "output_type": "stream",
     "text": [
      "Scraping Progress:   2%|▏         | 190/8402 [05:09<4:12:40,  1.85s/it]"
     ]
    },
    {
     "name": "stdout",
     "output_type": "stream",
     "text": [
      "Successfully fetched: https://www.vice.com/en_us/article/ne8dbw/ceo-of-wework-which-has-lost-an-unfathomable-amount-of-money-is-stepping-down\n"
     ]
    },
    {
     "name": "stderr",
     "output_type": "stream",
     "text": [
      "Scraping Progress:   2%|▏         | 191/8402 [05:11<4:20:04,  1.90s/it]"
     ]
    },
    {
     "name": "stdout",
     "output_type": "stream",
     "text": [
      "Cannot fetch https://www.fastcompany.com/90315069/rip-luke-perry-dead-at-52-here-are-the-celebrity-twitter-tributes?partner=feedburner&utm_source=feedburner&utm_medium=feed&utm_campaign=Feed%3A+fastcompany%2Fheadlines+%28Fast+Company%29, HTTP error: 403 Client Error: Forbidden for url: https://www.fastcompany.com/90315069/rip-luke-perry-dead-at-52-here-are-the-celebrity-twitter-tributes?partner=feedburner&utm_source=feedburner&utm_medium=feed&utm_campaign=Feed%3A+fastcompany%2Fheadlines+%28Fast+Company%29\n"
     ]
    },
    {
     "name": "stderr",
     "output_type": "stream",
     "text": [
      "Scraping Progress:   2%|▏         | 192/8402 [05:12<3:50:55,  1.69s/it]"
     ]
    },
    {
     "name": "stdout",
     "output_type": "stream",
     "text": [
      "Successfully fetched: https://hypebeast.com/2018/7/hot-toys-ps4-spider-man-advanced-suit-figure\n"
     ]
    },
    {
     "name": "stderr",
     "output_type": "stream",
     "text": [
      "Scraping Progress:   2%|▏         | 193/8402 [05:14<4:05:49,  1.80s/it]"
     ]
    },
    {
     "name": "stdout",
     "output_type": "stream",
     "text": [
      "Successfully fetched: https://www.slashfilm.com/terminator-2-arm-prop/\n"
     ]
    },
    {
     "name": "stderr",
     "output_type": "stream",
     "text": [
      "Scraping Progress:   2%|▏         | 194/8402 [05:16<4:11:04,  1.84s/it]"
     ]
    },
    {
     "name": "stdout",
     "output_type": "stream",
     "text": [
      "Cannot fetch https://news.avclub.com/nations-2-p-m-couch-occupiers-forced-to-contemplate-a-1826847816, error: HTTPSConnectionPool(host='news.avclub.com', port=443): Max retries exceeded with url: /nations-2-p-m-couch-occupiers-forced-to-contemplate-a-1826847816 (Caused by NewConnectionError('<urllib3.connection.HTTPSConnection object at 0x1149dea10>: Failed to establish a new connection: [Errno 8] nodename nor servname provided, or not known'))\n"
     ]
    },
    {
     "name": "stderr",
     "output_type": "stream",
     "text": [
      "Scraping Progress:   2%|▏         | 195/8402 [05:17<3:37:18,  1.59s/it]"
     ]
    },
    {
     "name": "stdout",
     "output_type": "stream",
     "text": [
      "Successfully fetched: https://gothamist.com/news/extra-extra-dog-eat-bath\n"
     ]
    },
    {
     "name": "stderr",
     "output_type": "stream",
     "text": [
      "Scraping Progress:   2%|▏         | 196/8402 [05:18<3:31:00,  1.54s/it]"
     ]
    },
    {
     "name": "stdout",
     "output_type": "stream",
     "text": [
      "Successfully fetched: https://www.newyorker.com/humor/daily-shouts/how-things-could-get-worse-for-the-new-york-mets\n"
     ]
    },
    {
     "name": "stderr",
     "output_type": "stream",
     "text": [
      "Scraping Progress:   2%|▏         | 197/8402 [05:21<4:03:23,  1.78s/it]"
     ]
    },
    {
     "name": "stdout",
     "output_type": "stream",
     "text": [
      "Cannot fetch https://www.inc.com/peter-cohan/nothing-is-more-important-than-this-one-thing-to-turning-your-city-into-a-startup-hub.html, HTTP error: 403 Client Error: Forbidden for url: https://www.inc.com/peter-cohan/nothing-is-more-important-than-this-one-thing-to-turning-your-city-into-a-startup-hub.html\n"
     ]
    },
    {
     "name": "stderr",
     "output_type": "stream",
     "text": [
      "Scraping Progress:   2%|▏         | 198/8402 [05:22<3:37:21,  1.59s/it]"
     ]
    },
    {
     "name": "stdout",
     "output_type": "stream",
     "text": [
      "Cannot fetch https://marginalrevolution.com/marginalrevolution/2018/12/friday-assorted-links-186.html, HTTP error: 403 Client Error: Forbidden for url: https://marginalrevolution.com/marginalrevolution/2018/12/friday-assorted-links-186.html\n"
     ]
    },
    {
     "name": "stderr",
     "output_type": "stream",
     "text": [
      "Scraping Progress:   2%|▏         | 199/8402 [05:23<3:23:48,  1.49s/it]"
     ]
    },
    {
     "name": "stdout",
     "output_type": "stream",
     "text": [
      "Cannot fetch https://www.inc.com/kevin-j-ryan/elon-musk-the-boring-company-flamethrowers.html, HTTP error: 403 Client Error: Forbidden for url: https://www.inc.com/kevin-j-ryan/elon-musk-the-boring-company-flamethrowers.html\n"
     ]
    },
    {
     "name": "stderr",
     "output_type": "stream",
     "text": [
      "Scraping Progress:   2%|▏         | 200/8402 [05:24<3:10:51,  1.40s/it]"
     ]
    },
    {
     "name": "stdout",
     "output_type": "stream",
     "text": [
      "Successfully fetched: https://www.cnet.com/news/in-2019-virtual-reality-feels-like-a-dream-gathering-dust/\n"
     ]
    },
    {
     "name": "stderr",
     "output_type": "stream",
     "text": [
      "Scraping Progress:   2%|▏         | 202/8402 [05:29<4:17:26,  1.88s/it]"
     ]
    },
    {
     "name": "stdout",
     "output_type": "stream",
     "text": [
      "Successfully fetched: https://www.neatorama.com/2018/11/19/The-Carnival-Attraction-That-Saved-Thousands-of-Premature-Babies/\n"
     ]
    },
    {
     "name": "stderr",
     "output_type": "stream",
     "text": [
      "Scraping Progress:   2%|▏         | 203/8402 [05:31<4:01:26,  1.77s/it]"
     ]
    },
    {
     "name": "stdout",
     "output_type": "stream",
     "text": [
      "Successfully fetched: http://time.com/5597605/robert-mueller-rebukes-trump-no-obstruction/\n"
     ]
    },
    {
     "name": "stderr",
     "output_type": "stream",
     "text": [
      "Scraping Progress:   2%|▏         | 204/8402 [05:33<4:27:15,  1.96s/it]"
     ]
    },
    {
     "name": "stdout",
     "output_type": "stream",
     "text": [
      "Successfully fetched: https://www.npr.org/2019/06/07/730629404/supreme-court-pressed-for-sealed-documents-in-death-penalty-case\n"
     ]
    },
    {
     "name": "stderr",
     "output_type": "stream",
     "text": [
      "Scraping Progress:   2%|▏         | 205/8402 [05:35<4:43:43,  2.08s/it]"
     ]
    },
    {
     "name": "stdout",
     "output_type": "stream",
     "text": [
      "Cannot fetch https://news.avclub.com/its-3-p-m-lets-watch-gilbert-gottfried-ruin-a-game-of-1826903038, error: HTTPSConnectionPool(host='news.avclub.com', port=443): Max retries exceeded with url: /its-3-p-m-lets-watch-gilbert-gottfried-ruin-a-game-of-1826903038 (Caused by NewConnectionError('<urllib3.connection.HTTPSConnection object at 0x111443e90>: Failed to establish a new connection: [Errno 8] nodename nor servname provided, or not known'))\n"
     ]
    },
    {
     "name": "stderr",
     "output_type": "stream",
     "text": [
      "Scraping Progress:   2%|▏         | 206/8402 [05:36<4:00:02,  1.76s/it]"
     ]
    },
    {
     "name": "stdout",
     "output_type": "stream",
     "text": [
      "Successfully fetched: https://www.tomshw.it/culturapop/marvels-spider-man-ps4-una-nuova-statua-prodotta-dalla-pcs/\n"
     ]
    },
    {
     "name": "stderr",
     "output_type": "stream",
     "text": [
      "Scraping Progress:   2%|▏         | 207/8402 [05:38<4:01:19,  1.77s/it]"
     ]
    },
    {
     "name": "stdout",
     "output_type": "stream",
     "text": [
      "Successfully fetched: https://www.tomshw.it/culturapop/iron-man-mark-vii-maquette-prodotta-da-sideshow/\n"
     ]
    },
    {
     "name": "stderr",
     "output_type": "stream",
     "text": [
      "Scraping Progress:   2%|▏         | 208/8402 [05:40<4:00:17,  1.76s/it]"
     ]
    },
    {
     "name": "stdout",
     "output_type": "stream",
     "text": [
      "Successfully fetched: https://www.slashfilm.com/superhero-bits-1563/\n"
     ]
    },
    {
     "name": "stderr",
     "output_type": "stream",
     "text": [
      "Scraping Progress:   3%|▎         | 211/8402 [05:45<3:58:34,  1.75s/it]"
     ]
    },
    {
     "name": "stdout",
     "output_type": "stream",
     "text": [
      "Cannot fetch https://www.marketwatch.com/story/dollar-bounces-back-as-major-rivals-slip-2018-11-20, HTTP error: 401 Client Error: HTTP Forbidden for url: https://www.marketwatch.com/story/dollar-bounces-back-as-major-rivals-slip-2018-11-20\n"
     ]
    },
    {
     "name": "stderr",
     "output_type": "stream",
     "text": [
      "Scraping Progress:   3%|▎         | 212/8402 [05:47<3:34:07,  1.57s/it]"
     ]
    },
    {
     "name": "stdout",
     "output_type": "stream",
     "text": [
      "Successfully fetched: https://thinkprogress.org/paul-nehlen-gop-frontrunner-16e1882f2beb/\n"
     ]
    },
    {
     "name": "stderr",
     "output_type": "stream",
     "text": [
      "Scraping Progress:   3%|▎         | 213/8402 [05:48<3:31:57,  1.55s/it]"
     ]
    },
    {
     "name": "stdout",
     "output_type": "stream",
     "text": [
      "Successfully fetched: http://www.espn.com/blog/new-york/giants/post/_/id/56926/what-are-the-pros-and-cons-of-dez-bryant-with-the-giants\n"
     ]
    },
    {
     "name": "stderr",
     "output_type": "stream",
     "text": [
      "Scraping Progress:   3%|▎         | 214/8402 [05:50<3:35:16,  1.58s/it]"
     ]
    },
    {
     "name": "stdout",
     "output_type": "stream",
     "text": [
      "Successfully fetched: https://www.huffingtonpost.com/entry/harry-anderson-dead-night-court_us_5ad55dc8e4b016a07e9fc0b8\n"
     ]
    },
    {
     "name": "stderr",
     "output_type": "stream",
     "text": [
      "Scraping Progress:   3%|▎         | 215/8402 [05:51<3:30:51,  1.55s/it]"
     ]
    },
    {
     "name": "stdout",
     "output_type": "stream",
     "text": [
      "Successfully fetched: https://www.huffingtonpost.com/entry/opinion-dobbs-trump-wars_us_5ad4c8ece4b016a07e9f1f4c\n"
     ]
    },
    {
     "name": "stderr",
     "output_type": "stream",
     "text": [
      "Scraping Progress:   3%|▎         | 216/8402 [05:53<3:28:24,  1.53s/it]"
     ]
    },
    {
     "name": "stdout",
     "output_type": "stream",
     "text": [
      "Successfully fetched: https://www.bloomberg.com/news/articles/2018-08-09/bezos-cook-matter-most-musk-is-just-the-sideshow-taking-stock\n"
     ]
    },
    {
     "name": "stderr",
     "output_type": "stream",
     "text": [
      "Scraping Progress:   3%|▎         | 217/8402 [05:54<3:19:54,  1.47s/it]"
     ]
    },
    {
     "name": "stdout",
     "output_type": "stream",
     "text": [
      "Successfully fetched: https://www.gamespot.com/articles/free-ps4-and-xbox-one-game-to-play-this-weekend/1100-6459956/\n"
     ]
    },
    {
     "name": "stderr",
     "output_type": "stream",
     "text": [
      "Scraping Progress:   3%|▎         | 218/8402 [05:56<3:37:15,  1.59s/it]"
     ]
    },
    {
     "name": "stdout",
     "output_type": "stream",
     "text": [
      "Successfully fetched: https://www.bloomberg.com/tosv2.html?vid=&uuid=a03645e0-efc4-11e8-ad98-77e9505f8625&url=L25ld3MvYXJ0aWNsZXMvMjAxOC0xMS0yNC9ldS1zdW1taXQtYS1zaWRlc2hvdy1mb3ItcG91bmQtYXMtcGFybGlhbWVudC1odXJkbGUtbGllcy1haGVhZA==\n"
     ]
    },
    {
     "name": "stderr",
     "output_type": "stream",
     "text": [
      "Scraping Progress:   3%|▎         | 219/8402 [05:57<3:18:43,  1.46s/it]"
     ]
    },
    {
     "name": "stdout",
     "output_type": "stream",
     "text": [
      "Successfully fetched: https://www.heise.de/newsticker/meldung/ZenBook-Pro-Asus-Notebooks-mit-Touchscreen-als-Touchpad-4068420.html?wt_mc=rss.ho.beitrag.atom\n"
     ]
    },
    {
     "name": "stderr",
     "output_type": "stream",
     "text": [
      "Scraping Progress:   3%|▎         | 220/8402 [05:59<3:49:15,  1.68s/it]"
     ]
    },
    {
     "name": "stdout",
     "output_type": "stream",
     "text": [
      "Successfully fetched: http://mentalfloss.com/article/550390/stanley-kubrick-explains-ending-2001-a-space-odyssey\n"
     ]
    },
    {
     "name": "stderr",
     "output_type": "stream",
     "text": [
      "Scraping Progress:   3%|▎         | 221/8402 [06:01<3:54:15,  1.72s/it]"
     ]
    },
    {
     "name": "stdout",
     "output_type": "stream",
     "text": [
      "Successfully fetched: http://mentalfloss.com/article/65840/14-things-you-might-not-know-about-forrest-gump\n"
     ]
    },
    {
     "name": "stderr",
     "output_type": "stream",
     "text": [
      "Scraping Progress:   3%|▎         | 222/8402 [06:03<3:57:51,  1.74s/it]"
     ]
    },
    {
     "name": "stdout",
     "output_type": "stream",
     "text": [
      "Successfully fetched: http://www.espn.com/soccer/blog/the-match/60/post/3509635/super-sub-gareth-bale-earns-real-madrid-third-straight-champions-league-crown\n"
     ]
    },
    {
     "name": "stderr",
     "output_type": "stream",
     "text": [
      "Scraping Progress:   3%|▎         | 223/8402 [06:05<3:55:27,  1.73s/it]"
     ]
    },
    {
     "name": "stdout",
     "output_type": "stream",
     "text": [
      "Successfully fetched: https://www.forbes.com/sites/russespinoza/2018/10/23/arnold-to-keep-hunting-as-trump-tapes-ends-at-viceland/\n"
     ]
    },
    {
     "name": "stderr",
     "output_type": "stream",
     "text": [
      "Scraping Progress:   3%|▎         | 224/8402 [06:07<4:04:13,  1.79s/it]"
     ]
    },
    {
     "name": "stdout",
     "output_type": "stream",
     "text": [
      "Successfully fetched: https://hypebeast.com/2019/7/comic-con-san-diego-2019-best-exclusive-toys\n"
     ]
    },
    {
     "name": "stderr",
     "output_type": "stream",
     "text": [
      "Scraping Progress:   3%|▎         | 225/8402 [06:08<4:01:29,  1.77s/it]"
     ]
    },
    {
     "name": "stdout",
     "output_type": "stream",
     "text": [
      "Successfully fetched: https://www.thekitchn.com/family-friendly-thanksgiving-side-dishes-kitchn-collective-22958447\n"
     ]
    },
    {
     "name": "stderr",
     "output_type": "stream",
     "text": [
      "Scraping Progress:   3%|▎         | 226/8402 [06:10<3:44:45,  1.65s/it]"
     ]
    },
    {
     "name": "stdout",
     "output_type": "stream",
     "text": [
      "Successfully fetched: https://news.yahoo.com/barr-face-mueller-report-questions-senate-hearing-183411098--politics.html\n"
     ]
    },
    {
     "name": "stderr",
     "output_type": "stream",
     "text": [
      "Scraping Progress:   3%|▎         | 227/8402 [06:12<4:07:28,  1.82s/it]"
     ]
    },
    {
     "name": "stdout",
     "output_type": "stream",
     "text": [
      "Successfully fetched: https://www.highsnobiety.com/p/car-sideshows/\n"
     ]
    },
    {
     "name": "stderr",
     "output_type": "stream",
     "text": [
      "Scraping Progress:   3%|▎         | 228/8402 [06:13<3:54:44,  1.72s/it]"
     ]
    },
    {
     "name": "stdout",
     "output_type": "stream",
     "text": [
      "Cannot fetch https://www.marketwatch.com/story/how-support-for-impeaching-trump-has-risen-and-fallen-in-one-chart-2019-12-18, HTTP error: 401 Client Error: HTTP Forbidden for url: https://www.marketwatch.com/story/how-support-for-impeaching-trump-has-risen-and-fallen-in-one-chart-2019-12-18\n"
     ]
    },
    {
     "name": "stderr",
     "output_type": "stream",
     "text": [
      "Scraping Progress:   3%|▎         | 229/8402 [06:14<3:29:25,  1.54s/it]"
     ]
    },
    {
     "name": "stdout",
     "output_type": "stream",
     "text": [
      "Successfully fetched: https://hypebeast.com/2019/11/designercon-2019-exclusive-toys-info\n"
     ]
    },
    {
     "name": "stderr",
     "output_type": "stream",
     "text": [
      "Scraping Progress:   3%|▎         | 230/8402 [06:16<3:39:06,  1.61s/it]"
     ]
    },
    {
     "name": "stdout",
     "output_type": "stream",
     "text": [
      "Successfully fetched: https://www.geeksaresexy.net/2018/03/04/georgeous-life-size-infinity-gauntlet-prop-replica-hot-toys-pics/\n"
     ]
    },
    {
     "name": "stderr",
     "output_type": "stream",
     "text": [
      "Scraping Progress:   3%|▎         | 231/8402 [06:18<3:35:36,  1.58s/it]"
     ]
    },
    {
     "name": "stdout",
     "output_type": "stream",
     "text": [
      "Successfully fetched: https://www.windowscentral.com/always-connected-pcs-not-just-arm\n"
     ]
    },
    {
     "name": "stderr",
     "output_type": "stream",
     "text": [
      "Scraping Progress:   3%|▎         | 232/8402 [06:19<3:30:15,  1.54s/it]"
     ]
    },
    {
     "name": "stdout",
     "output_type": "stream",
     "text": [
      "Successfully fetched: https://www.engadget.com/2018/09/06/twitter-facebook-jack-dorsey-sheryl-sandberg-congress-regulation/\n"
     ]
    },
    {
     "name": "stderr",
     "output_type": "stream",
     "text": [
      "Scraping Progress:   3%|▎         | 233/8402 [06:21<3:33:56,  1.57s/it]"
     ]
    },
    {
     "name": "stdout",
     "output_type": "stream",
     "text": [
      "Successfully fetched: https://hypebeast.com/2019/9/lndn-drgs-town-bidness-casey-veggies-music-video\n"
     ]
    },
    {
     "name": "stderr",
     "output_type": "stream",
     "text": [
      "Scraping Progress:   3%|▎         | 234/8402 [06:23<3:44:20,  1.65s/it]"
     ]
    },
    {
     "name": "stdout",
     "output_type": "stream",
     "text": [
      "Successfully fetched: https://www.geeksaresexy.net/2018/04/11/sideshow-releases-gorgeous-thanos-sixth-scale-collectible-figure/\n"
     ]
    },
    {
     "name": "stderr",
     "output_type": "stream",
     "text": [
      "Scraping Progress:   3%|▎         | 235/8402 [06:24<3:30:48,  1.55s/it]"
     ]
    },
    {
     "name": "stdout",
     "output_type": "stream",
     "text": [
      "Successfully fetched: https://hypebeast.com/2019/2/hot-toys-captain-marvel-1-6th-scale-figure\n"
     ]
    },
    {
     "name": "stderr",
     "output_type": "stream",
     "text": [
      "Scraping Progress:   3%|▎         | 236/8402 [06:26<3:43:46,  1.64s/it]"
     ]
    },
    {
     "name": "stdout",
     "output_type": "stream",
     "text": [
      "Successfully fetched: https://www.theatlantic.com/politics/archive/2019/03/house-judiciary-committee-subpoenas-81-trump-associates/584122/\n"
     ]
    },
    {
     "name": "stderr",
     "output_type": "stream",
     "text": [
      "Scraping Progress:   3%|▎         | 237/8402 [06:28<3:52:01,  1.70s/it]"
     ]
    },
    {
     "name": "stdout",
     "output_type": "stream",
     "text": [
      "Successfully fetched: http://www.comingsoon.net/movies/news/964945-sideshow-doomsday-statue-revealed-in-new-photos\n"
     ]
    },
    {
     "name": "stderr",
     "output_type": "stream",
     "text": [
      "Scraping Progress:   3%|▎         | 238/8402 [06:30<4:00:02,  1.76s/it]"
     ]
    },
    {
     "name": "stdout",
     "output_type": "stream",
     "text": [
      "Successfully fetched: https://www.slashfilm.com/star-wars-bits-the-mandalorian-cast-reveals-their-favorite-star-wars-film-a-documentary-about-the-stormtrooper-who-hit-his-head-and-more/\n"
     ]
    },
    {
     "name": "stderr",
     "output_type": "stream",
     "text": [
      "Scraping Progress:   3%|▎         | 239/8402 [06:32<4:31:57,  2.00s/it]"
     ]
    },
    {
     "name": "stdout",
     "output_type": "stream",
     "text": [
      "Cannot fetch https://news.yahoo.com/van-jackson-north-korea-prediction-151100824.html, HTTP error: 404 Client Error: Not Found for url: https://news.yahoo.com/van-jackson-north-korea-prediction-151100824.html\n"
     ]
    },
    {
     "name": "stderr",
     "output_type": "stream",
     "text": [
      "Scraping Progress:   3%|▎         | 240/8402 [06:33<4:03:31,  1.79s/it]"
     ]
    },
    {
     "name": "stdout",
     "output_type": "stream",
     "text": [
      "Cannot fetch http://time.com/5580953/barr-senate-questioning-mueller-report/, HTTP error: 404 Client Error: Not Found for url: https://time.com/5580953/barr-senate-questioning-mueller-report/\n"
     ]
    },
    {
     "name": "stderr",
     "output_type": "stream",
     "text": [
      "Scraping Progress:   3%|▎         | 241/8402 [06:35<4:03:20,  1.79s/it]"
     ]
    },
    {
     "name": "stdout",
     "output_type": "stream",
     "text": [
      "Successfully fetched: https://www.thetruthaboutcars.com/2019/09/outgoing-chevrolet-bolt-less-range-but-more-desire/\n"
     ]
    },
    {
     "name": "stderr",
     "output_type": "stream",
     "text": [
      "Scraping Progress:   3%|▎         | 242/8402 [06:37<3:50:06,  1.69s/it]"
     ]
    },
    {
     "name": "stdout",
     "output_type": "stream",
     "text": [
      "Successfully fetched: https://io9.gizmodo.com/hold-my-beskar-hot-toys-is-making-a-rad-figure-of-that-1840083140\n"
     ]
    },
    {
     "name": "stderr",
     "output_type": "stream",
     "text": [
      "Scraping Progress:   3%|▎         | 243/8402 [06:39<3:55:37,  1.73s/it]"
     ]
    },
    {
     "name": "stdout",
     "output_type": "stream",
     "text": [
      "Cannot fetch https://www.wsj.com/articles/brazils-bolsonaro-is-sworn-in-as-president-marking-rightward-shift-11546365060, HTTP error: 401 Client Error: HTTP Forbidden for url: https://www.wsj.com/articles/brazils-bolsonaro-is-sworn-in-as-president-marking-rightward-shift-11546365060\n"
     ]
    },
    {
     "name": "stderr",
     "output_type": "stream",
     "text": [
      "Scraping Progress:   3%|▎         | 244/8402 [06:40<3:33:11,  1.57s/it]"
     ]
    },
    {
     "name": "stdout",
     "output_type": "stream",
     "text": [
      "Successfully fetched: https://www.engadget.com/2018/07/05/sideshow-collectibles-star-wars-life-size-bb-8/\n"
     ]
    },
    {
     "name": "stderr",
     "output_type": "stream",
     "text": [
      "Scraping Progress:   3%|▎         | 245/8402 [06:41<3:33:44,  1.57s/it]"
     ]
    },
    {
     "name": "stdout",
     "output_type": "stream",
     "text": [
      "Successfully fetched: https://www.gq.com/story/stormy-daniels-michael-cohen-trump\n"
     ]
    },
    {
     "name": "stderr",
     "output_type": "stream",
     "text": [
      "Scraping Progress:   3%|▎         | 246/8402 [06:43<3:46:44,  1.67s/it]"
     ]
    },
    {
     "name": "stdout",
     "output_type": "stream",
     "text": [
      "Successfully fetched: https://www.forbes.com/sites/richardkestenbaum/2019/10/11/american-dream-mall-is-the-next-step-in-the-evolution-of-retail/\n"
     ]
    },
    {
     "name": "stderr",
     "output_type": "stream",
     "text": [
      "Scraping Progress:   3%|▎         | 247/8402 [06:46<4:25:13,  1.95s/it]"
     ]
    },
    {
     "name": "stdout",
     "output_type": "stream",
     "text": [
      "Successfully fetched: https://www.gamespot.com/articles/insomniacs-spider-man-immortalized-with-super-pric/1100-6470715/\n"
     ]
    },
    {
     "name": "stderr",
     "output_type": "stream",
     "text": [
      "Scraping Progress:   3%|▎         | 248/8402 [06:48<4:34:23,  2.02s/it]"
     ]
    },
    {
     "name": "stdout",
     "output_type": "stream",
     "text": [
      "Successfully fetched: https://www.windowscentral.com/fallout-76-features-monsters-mothman-and-wendigo\n"
     ]
    },
    {
     "name": "stderr",
     "output_type": "stream",
     "text": [
      "Scraping Progress:   3%|▎         | 249/8402 [06:49<4:09:11,  1.83s/it]"
     ]
    },
    {
     "name": "stdout",
     "output_type": "stream",
     "text": [
      "Successfully fetched: https://www.giantbomb.com/videos/e3-2018-treacherous-skies-hang-over-killing-floor-/2300-13319/\n"
     ]
    },
    {
     "name": "stderr",
     "output_type": "stream",
     "text": [
      "Scraping Progress:   3%|▎         | 250/8402 [06:51<3:57:58,  1.75s/it]"
     ]
    },
    {
     "name": "stdout",
     "output_type": "stream",
     "text": [
      "Successfully fetched: https://www.usatoday.com/story/sports/mlb/columnist/bob-nightengale/2018/08/11/barry-bonds-no-25-jersey-retired-san-francisco-giants/969817002/?utm_source=google&utm_medium=amp&utm_campaign=speakable\n"
     ]
    },
    {
     "name": "stderr",
     "output_type": "stream",
     "text": [
      "Scraping Progress:   3%|▎         | 251/8402 [06:53<3:52:59,  1.72s/it]"
     ]
    },
    {
     "name": "stdout",
     "output_type": "stream",
     "text": [
      "Successfully fetched: http://gothamist.com/2019/05/31/schlitzie_pinhead_coney_island_comic.php\n"
     ]
    },
    {
     "name": "stderr",
     "output_type": "stream",
     "text": [
      "Scraping Progress:   3%|▎         | 252/8402 [06:55<4:06:51,  1.82s/it]"
     ]
    },
    {
     "name": "stdout",
     "output_type": "stream",
     "text": [
      "Cannot fetch https://phys.org/news/2018-01-fx-chief-peak-tv-sideshow.html, HTTP error: 422 Client Error: Unprocessable Content for url: https://phys.org/news/2018-01-fx-chief-peak-tv-sideshow.html\n"
     ]
    },
    {
     "name": "stderr",
     "output_type": "stream",
     "text": [
      "Scraping Progress:   3%|▎         | 253/8402 [06:56<3:40:23,  1.62s/it]"
     ]
    },
    {
     "name": "stdout",
     "output_type": "stream",
     "text": [
      "Cannot fetch https://abcnews.go.com/Entertainment/wireStory/thailands-cave-boys-centerpiece-mall-exhibition-57640465, HTTP error: 404 Client Error: Not Found for url: https://abcnews.go.com/Entertainment/wireStory/thailands-cave-boys-centerpiece-mall-exhibition-57640465\n"
     ]
    },
    {
     "name": "stderr",
     "output_type": "stream",
     "text": [
      "Scraping Progress:   3%|▎         | 254/8402 [06:57<3:25:15,  1.51s/it]"
     ]
    },
    {
     "name": "stdout",
     "output_type": "stream",
     "text": [
      "Successfully fetched: https://www.forbes.com/sites/derekscancarelli/2018/10/17/alice-cooper-on-beheadings-sideshow-attitude-and-johnny-depp/\n"
     ]
    },
    {
     "name": "stderr",
     "output_type": "stream",
     "text": [
      "Scraping Progress:   3%|▎         | 255/8402 [06:58<3:13:29,  1.43s/it]"
     ]
    },
    {
     "name": "stdout",
     "output_type": "stream",
     "text": [
      "Successfully fetched: http://geekologie.com/2018/03/a-930-life-size-infinity-gauntlet-replic.php\n"
     ]
    },
    {
     "name": "stderr",
     "output_type": "stream",
     "text": [
      "Scraping Progress:   3%|▎         | 256/8402 [07:00<3:15:15,  1.44s/it]"
     ]
    },
    {
     "name": "stdout",
     "output_type": "stream",
     "text": [
      "Successfully fetched: https://www.mercurynews.com/2018/08/19/bay-bridge-chp-arrests-one-after-sideshow-blocks-bridge-lanes/\n"
     ]
    },
    {
     "name": "stderr",
     "output_type": "stream",
     "text": [
      "Scraping Progress:   3%|▎         | 257/8402 [07:01<3:27:10,  1.53s/it]"
     ]
    },
    {
     "name": "stdout",
     "output_type": "stream",
     "text": [
      "Cannot fetch https://boingboing.net/2019/05/27/party-like-its-1982-2.html, HTTP error: 403 Client Error: Forbidden for url: https://boingboing.net/2019/05/27/party-like-its-1982-2.html\n"
     ]
    },
    {
     "name": "stderr",
     "output_type": "stream",
     "text": [
      "Scraping Progress:   3%|▎         | 258/8402 [07:03<3:13:46,  1.43s/it]"
     ]
    },
    {
     "name": "stdout",
     "output_type": "stream",
     "text": [
      "Successfully fetched: https://hypebeast.com/2019/8/terence-tee-150-iron-man-figures-room-video\n"
     ]
    },
    {
     "name": "stderr",
     "output_type": "stream",
     "text": [
      "Scraping Progress:   3%|▎         | 259/8402 [07:04<3:29:49,  1.55s/it]"
     ]
    },
    {
     "name": "stdout",
     "output_type": "stream",
     "text": [
      "Successfully fetched: https://www.vice.com/en_us/article/3kxw3k/billionaire-tom-steyers-aide-tried-to-literally-buy-endorsements\n"
     ]
    },
    {
     "name": "stderr",
     "output_type": "stream",
     "text": [
      "Scraping Progress:   3%|▎         | 260/8402 [07:07<3:49:47,  1.69s/it]"
     ]
    },
    {
     "name": "stdout",
     "output_type": "stream",
     "text": [
      "Successfully fetched: https://www.polygon.com/2019/4/10/18304723/man-who-killed-don-quixote-review-terry-gilliam-adam-driver\n"
     ]
    },
    {
     "name": "stderr",
     "output_type": "stream",
     "text": [
      "Scraping Progress:   3%|▎         | 261/8402 [07:08<3:37:57,  1.61s/it]"
     ]
    },
    {
     "name": "stdout",
     "output_type": "stream",
     "text": [
      "Successfully fetched: https://www.vidaextra.com/fps/killing-floor-2-se-puede-jugar-gratis-durante-este-fin-semana-xbox-one-ps4\n"
     ]
    },
    {
     "name": "stderr",
     "output_type": "stream",
     "text": [
      "Scraping Progress:   3%|▎         | 262/8402 [07:09<3:30:40,  1.55s/it]"
     ]
    },
    {
     "name": "stdout",
     "output_type": "stream",
     "text": [
      "Successfully fetched: https://bleacherreport.com/articles/2785494-2018-world-cup-final-rating-france-vs-croatia-head-to-head\n"
     ]
    },
    {
     "name": "stderr",
     "output_type": "stream",
     "text": [
      "Scraping Progress:   3%|▎         | 263/8402 [07:11<3:34:20,  1.58s/it]"
     ]
    },
    {
     "name": "stdout",
     "output_type": "stream",
     "text": [
      "Successfully fetched: http://www.foxnews.com/science/2018/08/15/stern-us-ww-ii-destroyer-discovered-near-remote-alaskan-island-survivor-recounts-harrowing-day.html\n"
     ]
    },
    {
     "name": "stderr",
     "output_type": "stream",
     "text": [
      "Scraping Progress:   3%|▎         | 264/8402 [07:16<5:55:24,  2.62s/it]"
     ]
    },
    {
     "name": "stdout",
     "output_type": "stream",
     "text": [
      "Successfully fetched: https://www.usatoday.com/story/news/politics/2018/01/05/jared-kushner-internet-unitarian/1006446001/?utm_source=google&utm_medium=amp&utm_campaign=speakable\n"
     ]
    },
    {
     "name": "stderr",
     "output_type": "stream",
     "text": [
      "Scraping Progress:   3%|▎         | 265/8402 [07:17<4:55:46,  2.18s/it]"
     ]
    },
    {
     "name": "stdout",
     "output_type": "stream",
     "text": [
      "Cannot fetch https://www.fastcompany.com/90207561/amplify-education-gets-a-new-lease-on-life-this-time-from-a-nonprofit?partner=feedburner&utm_source=feedburner&utm_medium=feed&utm_campaign=Feed%3A+fastcompany%2Fheadlines+%28Fast+Company%29, HTTP error: 403 Client Error: Forbidden for url: https://www.fastcompany.com/90207561/amplify-education-gets-a-new-lease-on-life-this-time-from-a-nonprofit?partner=feedburner&utm_source=feedburner&utm_medium=feed&utm_campaign=Feed%3A+fastcompany%2Fheadlines+%28Fast+Company%29\n"
     ]
    },
    {
     "name": "stderr",
     "output_type": "stream",
     "text": [
      "Scraping Progress:   3%|▎         | 266/8402 [07:18<4:15:12,  1.88s/it]"
     ]
    },
    {
     "name": "stdout",
     "output_type": "stream",
     "text": [
      "Successfully fetched: https://ritholtz.com/2019/10/sunday-reads-166/\n"
     ]
    },
    {
     "name": "stderr",
     "output_type": "stream",
     "text": [
      "Scraping Progress:   3%|▎         | 267/8402 [07:20<4:11:47,  1.86s/it]"
     ]
    },
    {
     "name": "stdout",
     "output_type": "stream",
     "text": [
      "Successfully fetched: https://www.huffpost.com/entry/barr-senate-testimony-mueller-report_n_5cc99764e4b0d123954cd790\n"
     ]
    },
    {
     "name": "stderr",
     "output_type": "stream",
     "text": [
      "Scraping Progress:   3%|▎         | 268/8402 [07:21<3:45:38,  1.66s/it]"
     ]
    },
    {
     "name": "stdout",
     "output_type": "stream",
     "text": [
      "Cannot fetch https://fashionista.com/2019/01/christian-dior-couture-2019-review, HTTP error: 403 Client Error: Forbidden for url: https://fashionista.com/2019/01/christian-dior-couture-2019-review\n"
     ]
    },
    {
     "name": "stderr",
     "output_type": "stream",
     "text": [
      "Scraping Progress:   3%|▎         | 269/8402 [07:23<3:27:56,  1.53s/it]"
     ]
    },
    {
     "name": "stdout",
     "output_type": "stream",
     "text": [
      "Successfully fetched: https://www.windowscentral.com/asus-zenbook-pro-15-has-screen-touchpad-and-i-dont-know-why\n"
     ]
    },
    {
     "name": "stderr",
     "output_type": "stream",
     "text": [
      "Scraping Progress:   3%|▎         | 270/8402 [07:24<3:14:52,  1.44s/it]"
     ]
    },
    {
     "name": "stdout",
     "output_type": "stream",
     "text": [
      "Successfully fetched: https://www.newyorker.com/news/our-columnists/what-the-ronny-jackson-debacle-reveals-about-donald-trump-and-the-swamp\n"
     ]
    },
    {
     "name": "stderr",
     "output_type": "stream",
     "text": [
      "Scraping Progress:   3%|▎         | 271/8402 [07:25<3:09:33,  1.40s/it]"
     ]
    },
    {
     "name": "stdout",
     "output_type": "stream",
     "text": [
      "Successfully fetched: https://theawesomer.com/sideshow-alien-queen-maquette/472731/\n"
     ]
    },
    {
     "name": "stderr",
     "output_type": "stream",
     "text": [
      "Scraping Progress:   3%|▎         | 272/8402 [07:27<3:37:44,  1.61s/it]"
     ]
    },
    {
     "name": "stdout",
     "output_type": "stream",
     "text": [
      "Successfully fetched: https://blog.adafruit.com/2018/06/05/automaton-report-mekanikos-vs-the-minotaur/\n"
     ]
    },
    {
     "name": "stderr",
     "output_type": "stream",
     "text": [
      "Scraping Progress:   3%|▎         | 273/8402 [07:29<3:31:56,  1.56s/it]"
     ]
    },
    {
     "name": "stdout",
     "output_type": "stream",
     "text": [
      "Cannot fetch https://www.washingtonpost.com/politics/state-of-the-union-gives-trump-the-chance-to-act-presidential-at-least-for-a-night/2018/01/30/3c819cb2-0536-11e8-b48c-b07fea957bd5_story.html, connection timed out.\n"
     ]
    },
    {
     "name": "stderr",
     "output_type": "stream",
     "text": [
      "Scraping Progress:   3%|▎         | 274/8402 [07:40<9:58:16,  4.42s/it]"
     ]
    },
    {
     "name": "stdout",
     "output_type": "stream",
     "text": [
      "Successfully fetched: https://www.newyorker.com/culture/culture-desk/the-simpsons-jokes-that-never-quite-made-it-and-a-few-that-barely-did\n"
     ]
    },
    {
     "name": "stderr",
     "output_type": "stream",
     "text": [
      "Scraping Progress:   3%|▎         | 275/8402 [07:42<8:43:52,  3.87s/it]"
     ]
    },
    {
     "name": "stdout",
     "output_type": "stream",
     "text": [
      "Cannot fetch https://film.avclub.com/a-mutant-girl-paranoid-dad-and-an-ice-cream-truck-sta-1837995794, error: HTTPSConnectionPool(host='film.avclub.com', port=443): Max retries exceeded with url: /a-mutant-girl-paranoid-dad-and-an-ice-cream-truck-sta-1837995794 (Caused by NewConnectionError('<urllib3.connection.HTTPSConnection object at 0x114d6cdd0>: Failed to establish a new connection: [Errno 8] nodename nor servname provided, or not known'))\n"
     ]
    },
    {
     "name": "stderr",
     "output_type": "stream",
     "text": [
      "Scraping Progress:   3%|▎         | 276/8402 [07:44<6:55:18,  3.07s/it]"
     ]
    },
    {
     "name": "stdout",
     "output_type": "stream",
     "text": [
      "Successfully fetched: https://slate.com/culture/2019/02/r-kelly-indictment-new-videotape.html\n"
     ]
    },
    {
     "name": "stderr",
     "output_type": "stream",
     "text": [
      "Scraping Progress:   3%|▎         | 277/8402 [07:45<5:51:59,  2.60s/it]"
     ]
    },
    {
     "name": "stdout",
     "output_type": "stream",
     "text": [
      "Successfully fetched: http://www.espn.com/soccer/australian-a-league/0/blog/post/3669121/usain-bolts-quest-for-a-professional-contract-has-a-league-community-divided\n"
     ]
    },
    {
     "name": "stderr",
     "output_type": "stream",
     "text": [
      "Scraping Progress:   3%|▎         | 278/8402 [07:47<5:05:39,  2.26s/it]"
     ]
    },
    {
     "name": "stdout",
     "output_type": "stream",
     "text": [
      "Successfully fetched: https://nerdist.com/article/avengers-endgame-sideshow-toy-figures/\n"
     ]
    },
    {
     "name": "stderr",
     "output_type": "stream",
     "text": [
      "Scraping Progress:   3%|▎         | 279/8402 [07:48<4:47:22,  2.12s/it]"
     ]
    },
    {
     "name": "stdout",
     "output_type": "stream",
     "text": [
      "Cannot fetch https://www.destructoid.com/lavish-castlevania-alucard-statue-coming-from-gantaku-538843.phtml, HTTP error: 404 Client Error: Not Found for url: https://www.destructoid.com/lavish-castlevania-alucard-statue-coming-from-gantaku-538843.phtml\n"
     ]
    },
    {
     "name": "stderr",
     "output_type": "stream",
     "text": [
      "Scraping Progress:   3%|▎         | 280/8402 [07:50<4:24:50,  1.96s/it]"
     ]
    },
    {
     "name": "stdout",
     "output_type": "stream",
     "text": [
      "Successfully fetched: https://nerdist.com/article/jurassic-park-jeff-goldblum-sideshow-toys/\n"
     ]
    },
    {
     "name": "stderr",
     "output_type": "stream",
     "text": [
      "Scraping Progress:   3%|▎         | 281/8402 [07:51<4:09:24,  1.84s/it]"
     ]
    },
    {
     "name": "stdout",
     "output_type": "stream",
     "text": [
      "Successfully fetched: https://www.tomshw.it/culturapop/la-stupenda-stampa-di-the-amazing-spider-man-renew-your-vows/\n"
     ]
    },
    {
     "name": "stderr",
     "output_type": "stream",
     "text": [
      "Scraping Progress:   3%|▎         | 282/8402 [07:54<4:18:12,  1.91s/it]"
     ]
    },
    {
     "name": "stdout",
     "output_type": "stream",
     "text": [
      "Successfully fetched: https://slate.com/business/2018/08/cfpb-ombudsman-resigns-heres-what-seth-frotmans-letter-was-really-about.html\n"
     ]
    },
    {
     "name": "stderr",
     "output_type": "stream",
     "text": [
      "Scraping Progress:   3%|▎         | 283/8402 [07:55<3:56:50,  1.75s/it]"
     ]
    },
    {
     "name": "stdout",
     "output_type": "stream",
     "text": [
      "Cannot fetch https://theslot.jezebel.com/the-brutal-incredibly-personal-gun-politics-of-the-flo-1828938080, error: HTTPSConnectionPool(host='theslot.jezebel.com', port=443): Max retries exceeded with url: /the-brutal-incredibly-personal-gun-politics-of-the-flo-1828938080 (Caused by SSLError(CertificateError(\"hostname 'theslot.jezebel.com' doesn't match either of 'g-omedia.com', '*.jalopnik.com', '*.kinja-embeds.com', '*.kinja-img.com', '*.kinja-labs.com', '*.kinja-static.com', '*.kinja.com', '*.kotaku.co.uk', '*.kotaku.com', '*.testkinja.com', '*.theinventory.com', '*.theroot.com', '*.verysmartbrothas.com', 'jalopnik.com', 'kinja-embeds.com', 'kinja-img.com', 'kinja-static.com', 'kinja.com', 'kotak.us', 'kotaku.co.uk', 'kotaku.com', 'testkinja.com', 'theinventory.com', 'theroot.com', 'verysmartbrothas.com', '*.g-omedia.com', 'qz.com', '*.qz.com', 'kotaku.nz', '*.kotaku.nz', '*.kotaku.co.nz', 'kotaku.co.nz', '*.kotaku.net.nz', 'kotaku.net.nz'\")))\n"
     ]
    },
    {
     "name": "stderr",
     "output_type": "stream",
     "text": [
      "Scraping Progress:   3%|▎         | 284/8402 [07:56<3:30:22,  1.55s/it]"
     ]
    },
    {
     "name": "stdout",
     "output_type": "stream",
     "text": [
      "Successfully fetched: https://www.apnews.com/a1ee0c8566674a758c5d3d888fac35d3\n"
     ]
    },
    {
     "name": "stderr",
     "output_type": "stream",
     "text": [
      "Scraping Progress:   3%|▎         | 285/8402 [07:58<3:38:34,  1.62s/it]"
     ]
    },
    {
     "name": "stdout",
     "output_type": "stream",
     "text": [
      "Successfully fetched: http://time.com/5527513/lorena-bobbitt-amazon-review/\n"
     ]
    },
    {
     "name": "stderr",
     "output_type": "stream",
     "text": [
      "Scraping Progress:   3%|▎         | 286/8402 [08:02<5:33:20,  2.46s/it]"
     ]
    },
    {
     "name": "stdout",
     "output_type": "stream",
     "text": [
      "Successfully fetched: https://slate.com/human-interest/2018/05/a-royals-hater-admits-she-loved-this-royal-wedding.html\n"
     ]
    },
    {
     "name": "stderr",
     "output_type": "stream",
     "text": [
      "Scraping Progress:   3%|▎         | 287/8402 [08:04<4:50:06,  2.14s/it]"
     ]
    },
    {
     "name": "stdout",
     "output_type": "stream",
     "text": [
      "Successfully fetched: http://www.comingsoon.net/movies/features/959335-sideshow-collectibles-comic-con-reveals-gallery\n"
     ]
    },
    {
     "name": "stderr",
     "output_type": "stream",
     "text": [
      "Scraping Progress:   3%|▎         | 288/8402 [08:05<4:34:07,  2.03s/it]"
     ]
    },
    {
     "name": "stdout",
     "output_type": "stream",
     "text": [
      "Successfully fetched: http://www.huffingtonpost.com/entry/joe-arpaio-2018-election_us_5a563b5ae4b03417e8743168\n"
     ]
    },
    {
     "name": "stderr",
     "output_type": "stream",
     "text": [
      "Scraping Progress:   3%|▎         | 289/8402 [08:07<4:12:10,  1.86s/it]"
     ]
    },
    {
     "name": "stdout",
     "output_type": "stream",
     "text": [
      "Successfully fetched: https://www.gq.com/story/why-asap-rocky-is-a-bit-player-in-the-trump-impeachment-hearings\n"
     ]
    },
    {
     "name": "stderr",
     "output_type": "stream",
     "text": [
      "Scraping Progress:   3%|▎         | 290/8402 [08:09<4:07:21,  1.83s/it]"
     ]
    },
    {
     "name": "stdout",
     "output_type": "stream",
     "text": [
      "Successfully fetched: https://thechive.com/2019/05/24/a-truly-terrifying-sideshow-bob-cosplay-my-dear-bart-video/\n"
     ]
    },
    {
     "name": "stderr",
     "output_type": "stream",
     "text": [
      "Scraping Progress:   3%|▎         | 291/8402 [08:10<3:55:37,  1.74s/it]"
     ]
    },
    {
     "name": "stdout",
     "output_type": "stream",
     "text": [
      "Successfully fetched: https://www.cbr.com/sideshow-collectibles-spooktacular-sale/\n"
     ]
    },
    {
     "name": "stderr",
     "output_type": "stream",
     "text": [
      "Scraping Progress:   3%|▎         | 292/8402 [08:12<3:44:42,  1.66s/it]"
     ]
    },
    {
     "name": "stdout",
     "output_type": "stream",
     "text": [
      "Cannot fetch https://9gag.com/gag/axzNR2Y/sideshow-bob-at-it-again, HTTP error: 403 Client Error: Forbidden for url: https://9gag.com/gag/axzNR2Y/sideshow-bob-at-it-again\n"
     ]
    },
    {
     "name": "stderr",
     "output_type": "stream",
     "text": [
      "Scraping Progress:   3%|▎         | 293/8402 [08:13<3:26:58,  1.53s/it]"
     ]
    },
    {
     "name": "stdout",
     "output_type": "stream",
     "text": [
      "Successfully fetched: https://www.slashfilm.com/superhero-bits-1585/\n"
     ]
    },
    {
     "name": "stderr",
     "output_type": "stream",
     "text": [
      "Scraping Progress:   3%|▎         | 294/8402 [08:16<4:49:50,  2.14s/it]"
     ]
    },
    {
     "name": "stdout",
     "output_type": "stream",
     "text": [
      "Successfully fetched: https://abc7news.com/driver-involved-in-sideshow-on-bay-bridge-arrested-chp-says/4001942/\n"
     ]
    },
    {
     "name": "stderr",
     "output_type": "stream",
     "text": [
      "Scraping Progress:   4%|▎         | 295/8402 [08:19<5:06:21,  2.27s/it]"
     ]
    },
    {
     "name": "stdout",
     "output_type": "stream",
     "text": [
      "Successfully fetched: http://www.ign.com/articles/2018/04/12/the-best-god-of-war-merch\n"
     ]
    },
    {
     "name": "stderr",
     "output_type": "stream",
     "text": [
      "Scraping Progress:   4%|▎         | 296/8402 [08:21<4:44:20,  2.10s/it]"
     ]
    },
    {
     "name": "stdout",
     "output_type": "stream",
     "text": [
      "Cannot fetch https://news.avclub.com/when-exactly-did-the-real-world-stop-being-real-1826606649, error: HTTPSConnectionPool(host='news.avclub.com', port=443): Max retries exceeded with url: /when-exactly-did-the-real-world-stop-being-real-1826606649 (Caused by NewConnectionError('<urllib3.connection.HTTPSConnection object at 0x117dac5d0>: Failed to establish a new connection: [Errno 8] nodename nor servname provided, or not known'))\n"
     ]
    },
    {
     "name": "stderr",
     "output_type": "stream",
     "text": [
      "Scraping Progress:   4%|▎         | 297/8402 [08:22<3:59:59,  1.78s/it]"
     ]
    },
    {
     "name": "stdout",
     "output_type": "stream",
     "text": [
      "Successfully fetched: https://www.slashfilm.com/the-mandalorian-hot-toys-figures/\n"
     ]
    },
    {
     "name": "stderr",
     "output_type": "stream",
     "text": [
      "Scraping Progress:   4%|▎         | 298/8402 [08:24<4:09:02,  1.84s/it]"
     ]
    },
    {
     "name": "stdout",
     "output_type": "stream",
     "text": [
      "Successfully fetched: https://io9.gizmodo.com/a-deadpool-figure-fit-for-the-dance-floor-and-more-of-1826013662\n"
     ]
    },
    {
     "name": "stderr",
     "output_type": "stream",
     "text": [
      "Scraping Progress:   4%|▎         | 299/8402 [08:26<4:09:56,  1.85s/it]"
     ]
    },
    {
     "name": "stdout",
     "output_type": "stream",
     "text": [
      "Successfully fetched: https://www.poynter.org/news/coney-island-sideshow-journalistic-scoop-factory\n"
     ]
    },
    {
     "name": "stderr",
     "output_type": "stream",
     "text": [
      "Scraping Progress:   4%|▎         | 300/8402 [08:30<6:01:19,  2.68s/it]"
     ]
    },
    {
     "name": "stdout",
     "output_type": "stream",
     "text": [
      "Successfully fetched: http://www.espn.com/boxing/story/_/id/24762579/anthony-joshua-beats-alexander-povetkin-maintain-date-destiny-deontay-wilder\n"
     ]
    },
    {
     "name": "stderr",
     "output_type": "stream",
     "text": [
      "Scraping Progress:   4%|▎         | 301/8402 [08:32<5:22:00,  2.38s/it]"
     ]
    },
    {
     "name": "stdout",
     "output_type": "stream",
     "text": [
      "Successfully fetched: https://bleacherreport.com/articles/2867391-the-10-defining-moments-for-wwe-in-the-last-decade\n"
     ]
    },
    {
     "name": "stderr",
     "output_type": "stream",
     "text": [
      "Scraping Progress:   4%|▎         | 302/8402 [08:33<4:47:06,  2.13s/it]"
     ]
    },
    {
     "name": "stdout",
     "output_type": "stream",
     "text": [
      "Successfully fetched: https://www.psychologytoday.com/us/blog/one-true-thing/201809/dawn-raffel-altruism-and-self-interest\n"
     ]
    },
    {
     "name": "stderr",
     "output_type": "stream",
     "text": [
      "Scraping Progress:   4%|▎         | 303/8402 [08:35<4:11:04,  1.86s/it]"
     ]
    },
    {
     "name": "stdout",
     "output_type": "stream",
     "text": [
      "Successfully fetched: https://www.cbr.com/x-23-sideshow-collectibles-statue/\n"
     ]
    },
    {
     "name": "stderr",
     "output_type": "stream",
     "text": [
      "Scraping Progress:   4%|▎         | 304/8402 [08:36<3:50:39,  1.71s/it]"
     ]
    },
    {
     "name": "stdout",
     "output_type": "stream",
     "text": [
      "Successfully fetched: https://io9.gizmodo.com/wonderfully-illogical-star-trek-headphones-and-more-of-1825163761\n"
     ]
    },
    {
     "name": "stderr",
     "output_type": "stream",
     "text": [
      "Scraping Progress:   4%|▎         | 305/8402 [08:38<3:56:21,  1.75s/it]"
     ]
    },
    {
     "name": "stdout",
     "output_type": "stream",
     "text": [
      "Successfully fetched: https://io9.gizmodo.com/dress-up-your-own-jeff-goldblum-and-more-of-the-goldbl-1824281997\n"
     ]
    },
    {
     "name": "stderr",
     "output_type": "stream",
     "text": [
      "Scraping Progress:   4%|▎         | 306/8402 [08:40<4:03:14,  1.80s/it]"
     ]
    },
    {
     "name": "stdout",
     "output_type": "stream",
     "text": [
      "Successfully fetched: https://www.stereogum.com/1998925/riot-fest-announces-initial-2018-lineup/news/\n"
     ]
    },
    {
     "name": "stderr",
     "output_type": "stream",
     "text": [
      "Scraping Progress:   4%|▎         | 307/8402 [08:42<4:32:17,  2.02s/it]"
     ]
    },
    {
     "name": "stdout",
     "output_type": "stream",
     "text": [
      "Successfully fetched: https://www.newyorker.com/culture/on-television/genius-junior-and-the-genial-throwback-kitsch-of-the-game-show-revival\n"
     ]
    },
    {
     "name": "stderr",
     "output_type": "stream",
     "text": [
      "Scraping Progress:   4%|▎         | 308/8402 [08:45<4:47:51,  2.13s/it]"
     ]
    },
    {
     "name": "stdout",
     "output_type": "stream",
     "text": [
      "Successfully fetched: https://www.businessinsider.com/what-happens-now-theresa-mays-brexit-deal-has-been-defeated-2019-1\n"
     ]
    },
    {
     "name": "stderr",
     "output_type": "stream",
     "text": [
      "Scraping Progress:   4%|▎         | 309/8402 [08:46<4:14:09,  1.88s/it]"
     ]
    },
    {
     "name": "stdout",
     "output_type": "stream",
     "text": [
      "Successfully fetched: https://nerdist.com/article/star-wars-collecting-a-galaxy-book-exclusive/\n"
     ]
    },
    {
     "name": "stderr",
     "output_type": "stream",
     "text": [
      "Scraping Progress:   4%|▎         | 310/8402 [08:47<3:57:44,  1.76s/it]"
     ]
    },
    {
     "name": "stdout",
     "output_type": "stream",
     "text": [
      "Successfully fetched: https://news.yahoo.com/israelis-head-polls-netanyahu-100339200.html\n"
     ]
    },
    {
     "name": "stderr",
     "output_type": "stream",
     "text": [
      "Scraping Progress:   4%|▎         | 311/8402 [08:50<4:08:15,  1.84s/it]"
     ]
    },
    {
     "name": "stdout",
     "output_type": "stream",
     "text": [
      "Successfully fetched: https://www.usatoday.com/story/news/politics/2019/09/24/gop-blasts-impeachment-inquiry-baseless-partisan-attack-trump/2434249001/?utm_source=google&utm_medium=amp&utm_campaign=speakable\n"
     ]
    },
    {
     "name": "stderr",
     "output_type": "stream",
     "text": [
      "Scraping Progress:   4%|▎         | 312/8402 [08:51<3:51:45,  1.72s/it]"
     ]
    },
    {
     "name": "stdout",
     "output_type": "stream",
     "text": [
      "Successfully fetched: https://www.theatlantic.com/entertainment/archive/2018/04/kendrick-lamar-pulitzer-prize/558197/\n"
     ]
    },
    {
     "name": "stderr",
     "output_type": "stream",
     "text": [
      "Scraping Progress:   4%|▎         | 313/8402 [08:53<4:09:51,  1.85s/it]"
     ]
    },
    {
     "name": "stdout",
     "output_type": "stream",
     "text": [
      "Successfully fetched: http://www.espn.com/racing/nascar/story/_/id/24303501/2018-nascar-furious-ceo-brian-france-dwi-arrest\n"
     ]
    },
    {
     "name": "stderr",
     "output_type": "stream",
     "text": [
      "Scraping Progress:   4%|▎         | 314/8402 [08:55<4:04:04,  1.81s/it]"
     ]
    },
    {
     "name": "stdout",
     "output_type": "stream",
     "text": [
      "Successfully fetched: https://pitchfork.com/news/foals-detail-new-album-share-song-exits-listen/\n"
     ]
    },
    {
     "name": "stderr",
     "output_type": "stream",
     "text": [
      "Scraping Progress:   4%|▎         | 315/8402 [08:57<4:06:41,  1.83s/it]"
     ]
    },
    {
     "name": "stdout",
     "output_type": "stream",
     "text": [
      "Successfully fetched: https://www.highsnobiety.com/p/affordable-art-fair-hong-kong-2018/\n"
     ]
    },
    {
     "name": "stderr",
     "output_type": "stream",
     "text": [
      "Scraping Progress:   4%|▍         | 316/8402 [08:59<4:06:18,  1.83s/it]"
     ]
    },
    {
     "name": "stdout",
     "output_type": "stream",
     "text": [
      "Successfully fetched: https://io9.gizmodo.com/ant-man-and-the-wasp-gets-a-snazzy-lego-set-and-more-o-1825685848\n"
     ]
    },
    {
     "name": "stderr",
     "output_type": "stream",
     "text": [
      "Scraping Progress:   4%|▍         | 317/8402 [09:00<4:09:01,  1.85s/it]"
     ]
    },
    {
     "name": "stdout",
     "output_type": "stream",
     "text": [
      "Successfully fetched: https://io9.gizmodo.com/a-master-sword-for-battling-rain-the-return-of-the-one-1822407804\n"
     ]
    },
    {
     "name": "stderr",
     "output_type": "stream",
     "text": [
      "Scraping Progress:   4%|▍         | 318/8402 [09:02<4:09:28,  1.85s/it]"
     ]
    },
    {
     "name": "stdout",
     "output_type": "stream",
     "text": [
      "Successfully fetched: https://www.theatlantic.com/international/archive/2018/08/steve-bannon-is-late-to-the-populist-party/567577/\n"
     ]
    },
    {
     "name": "stderr",
     "output_type": "stream",
     "text": [
      "Scraping Progress:   4%|▍         | 319/8402 [09:04<3:55:21,  1.75s/it]"
     ]
    },
    {
     "name": "stdout",
     "output_type": "stream",
     "text": [
      "Successfully fetched: https://news.yahoo.com/republicans-thought-yovanovitch-pushover-she-222139504.html\n"
     ]
    },
    {
     "name": "stderr",
     "output_type": "stream",
     "text": [
      "Scraping Progress:   4%|▍         | 320/8402 [09:06<4:01:24,  1.79s/it]"
     ]
    },
    {
     "name": "stdout",
     "output_type": "stream",
     "text": [
      "Successfully fetched: https://news.yahoo.com/republican-senators-wont-watching-trump-132629609.html\n"
     ]
    },
    {
     "name": "stderr",
     "output_type": "stream",
     "text": [
      "Scraping Progress:   4%|▍         | 321/8402 [09:08<4:04:03,  1.81s/it]"
     ]
    },
    {
     "name": "stdout",
     "output_type": "stream",
     "text": [
      "Cannot fetch https://www.fastcompany.com/40562328/how-this-african-american-pot-grower-is-mastering-californias-green-rush?partner=feedburner&utm_source=feedburner&utm_medium=feed&utm_campaign=Feed%3A+fastcompany%2Fheadlines+%28Fast+Company%29, HTTP error: 403 Client Error: Forbidden for url: https://www.fastcompany.com/40562328/how-this-african-american-pot-grower-is-mastering-californias-green-rush?partner=feedburner&utm_source=feedburner&utm_medium=feed&utm_campaign=Feed%3A+fastcompany%2Fheadlines+%28Fast+Company%29\n"
     ]
    },
    {
     "name": "stderr",
     "output_type": "stream",
     "text": [
      "Scraping Progress:   4%|▍         | 322/8402 [09:09<3:37:50,  1.62s/it]"
     ]
    },
    {
     "name": "stdout",
     "output_type": "stream",
     "text": [
      "Successfully fetched: https://io9.gizmodo.com/hellboy-waffle-makers-overwatch-nerf-blasters-and-mo-1827802322\n"
     ]
    },
    {
     "name": "stderr",
     "output_type": "stream",
     "text": [
      "Scraping Progress:   4%|▍         | 323/8402 [09:11<3:50:02,  1.71s/it]"
     ]
    },
    {
     "name": "stdout",
     "output_type": "stream",
     "text": [
      "Successfully fetched: https://www.cbr.com/best-batman-collectibles-sideshow-collectibles/\n"
     ]
    },
    {
     "name": "stderr",
     "output_type": "stream",
     "text": [
      "Scraping Progress:   4%|▍         | 324/8402 [09:12<3:34:02,  1.59s/it]"
     ]
    },
    {
     "name": "stdout",
     "output_type": "stream",
     "text": [
      "Cannot fetch https://nerdist.com/massive-magneto-figure-will-be-the-x-factor-in-your-collection/, HTTP error: 404 Client Error: Not Found for url: https://nerdist.com/massive-magneto-figure-will-be-the-x-factor-in-your-collection/\n"
     ]
    },
    {
     "name": "stderr",
     "output_type": "stream",
     "text": [
      "Scraping Progress:   4%|▍         | 325/8402 [09:14<3:41:24,  1.64s/it]"
     ]
    },
    {
     "name": "stdout",
     "output_type": "stream",
     "text": [
      "Successfully fetched: https://www.cbr.com/sideshow-collectibles-gifts-holiday-season/\n"
     ]
    },
    {
     "name": "stderr",
     "output_type": "stream",
     "text": [
      "Scraping Progress:   4%|▍         | 326/8402 [09:15<3:26:32,  1.53s/it]"
     ]
    },
    {
     "name": "stdout",
     "output_type": "stream",
     "text": [
      "Successfully fetched: https://www.slashfilm.com/superhero-bits-1712/\n"
     ]
    },
    {
     "name": "stderr",
     "output_type": "stream",
     "text": [
      "Scraping Progress:   4%|▍         | 327/8402 [09:18<4:09:18,  1.85s/it]"
     ]
    },
    {
     "name": "stdout",
     "output_type": "stream",
     "text": [
      "Successfully fetched: https://www.stereogum.com/1986678/martin-shkreli-sentenced-to-7-years-in-prison/news/\n"
     ]
    },
    {
     "name": "stderr",
     "output_type": "stream",
     "text": [
      "Scraping Progress:   4%|▍         | 328/8402 [09:20<4:28:45,  2.00s/it]"
     ]
    },
    {
     "name": "stdout",
     "output_type": "stream",
     "text": [
      "Successfully fetched: https://hypebeast.com/2019/3/under-armour-icon-curry-6-womens-day-release\n"
     ]
    },
    {
     "name": "stderr",
     "output_type": "stream",
     "text": [
      "Scraping Progress:   4%|▍         | 329/8402 [09:22<4:33:00,  2.03s/it]"
     ]
    },
    {
     "name": "stdout",
     "output_type": "stream",
     "text": [
      "Cannot fetch https://www.destructoid.com/when-brigitte-debuts-in-the-overwatch-league-next-week-she-won-t-have-her-nerfs-in-tow-502408.phtml, HTTP error: 404 Client Error: Not Found for url: https://www.destructoid.com/when-brigitte-debuts-in-the-overwatch-league-next-week-she-won-t-have-her-nerfs-in-tow-502408.phtml\n"
     ]
    },
    {
     "name": "stderr",
     "output_type": "stream",
     "text": [
      "Scraping Progress:   4%|▍         | 330/8402 [09:24<4:15:37,  1.90s/it]"
     ]
    },
    {
     "name": "stdout",
     "output_type": "stream",
     "text": [
      "Successfully fetched: https://www.nakedcapitalism.com/2018/11/erasing-economics-economic-policy-politics-race-xenophobia-sideshow.html\n"
     ]
    },
    {
     "name": "stderr",
     "output_type": "stream",
     "text": [
      "Scraping Progress:   4%|▍         | 331/8402 [09:26<4:53:58,  2.19s/it]"
     ]
    },
    {
     "name": "stdout",
     "output_type": "stream",
     "text": [
      "Successfully fetched: https://www.vice.com/en_us/article/wjp3by/im-sorry-i-hyped-oprah-2020\n"
     ]
    },
    {
     "name": "stderr",
     "output_type": "stream",
     "text": [
      "Scraping Progress:   4%|▍         | 332/8402 [09:28<4:45:19,  2.12s/it]"
     ]
    },
    {
     "name": "stdout",
     "output_type": "stream",
     "text": [
      "Successfully fetched: https://www.thedailybeast.com/john-bolton-syria-is-a-sideshow\n"
     ]
    },
    {
     "name": "stderr",
     "output_type": "stream",
     "text": [
      "Scraping Progress:   4%|▍         | 333/8402 [09:31<4:50:47,  2.16s/it]"
     ]
    },
    {
     "name": "stdout",
     "output_type": "stream",
     "text": [
      "Successfully fetched: https://www.comingsoon.net/movies/features/1021389-exclusive-first-look-at-sideshows-alien-mythos-bust\n"
     ]
    },
    {
     "name": "stderr",
     "output_type": "stream",
     "text": [
      "Scraping Progress:   4%|▍         | 334/8402 [09:32<4:31:10,  2.02s/it]"
     ]
    },
    {
     "name": "stdout",
     "output_type": "stream",
     "text": [
      "Successfully fetched: https://www.cbr.com/sideshow-collectibles-books/\n"
     ]
    },
    {
     "name": "stderr",
     "output_type": "stream",
     "text": [
      "Scraping Progress:   4%|▍         | 335/8402 [09:34<4:02:12,  1.80s/it]"
     ]
    },
    {
     "name": "stdout",
     "output_type": "stream",
     "text": [
      "Successfully fetched: https://geekologie.com/2018/10/well-hello-there-sexy-lounging-dr-ian-ma.php\n"
     ]
    },
    {
     "name": "stderr",
     "output_type": "stream",
     "text": [
      "Scraping Progress:   4%|▍         | 336/8402 [09:35<4:00:23,  1.79s/it]"
     ]
    },
    {
     "name": "stdout",
     "output_type": "stream",
     "text": [
      "Cannot fetch https://film.avclub.com/tim-burton-s-live-action-dumbo-bites-the-corporate-hand-1833553819, error: HTTPSConnectionPool(host='film.avclub.com', port=443): Max retries exceeded with url: /tim-burton-s-live-action-dumbo-bites-the-corporate-hand-1833553819 (Caused by NewConnectionError('<urllib3.connection.HTTPSConnection object at 0x1112145d0>: Failed to establish a new connection: [Errno 8] nodename nor servname provided, or not known'))\n"
     ]
    },
    {
     "name": "stderr",
     "output_type": "stream",
     "text": [
      "Scraping Progress:   4%|▍         | 337/8402 [09:36<3:28:54,  1.55s/it]"
     ]
    },
    {
     "name": "stdout",
     "output_type": "stream",
     "text": [
      "Cannot fetch https://dealbreaker.com/2018/11/anthony-scaramucci-begins-the-launching-reits-with-grace-from-will-graces-brother-stage-of-his-comeback/, HTTP error: 403 Client Error: Forbidden for url: https://dealbreaker.com/2018/11/anthony-scaramucci-begins-the-launching-reits-with-grace-from-will-graces-brother-stage-of-his-comeback/\n"
     ]
    },
    {
     "name": "stderr",
     "output_type": "stream",
     "text": [
      "Scraping Progress:   4%|▍         | 338/8402 [09:38<3:17:36,  1.47s/it]"
     ]
    },
    {
     "name": "stdout",
     "output_type": "stream",
     "text": [
      "Successfully fetched: https://www.si.com/soccer/2018/07/11/mattia-perin-hails-huge-bonus-cristiano-ronaldo-arrival-juventus-unveiling\n"
     ]
    },
    {
     "name": "stderr",
     "output_type": "stream",
     "text": [
      "Scraping Progress:   4%|▍         | 339/8402 [09:39<3:20:11,  1.49s/it]"
     ]
    },
    {
     "name": "stdout",
     "output_type": "stream",
     "text": [
      "Successfully fetched: http://www.foxnews.com/science/2018/08/16/stern-us-ww-ii-destroyer-discovered-near-remote-alaskan-island-survivor-recounts-harrowing-day.html\n"
     ]
    },
    {
     "name": "stderr",
     "output_type": "stream",
     "text": [
      "Scraping Progress:   4%|▍         | 340/8402 [09:41<3:21:17,  1.50s/it]"
     ]
    },
    {
     "name": "stdout",
     "output_type": "stream",
     "text": [
      "Cannot fetch https://aux.avclub.com/what-are-you-reading-in-february-1832401000, error: HTTPSConnectionPool(host='aux.avclub.com', port=443): Max retries exceeded with url: /what-are-you-reading-in-february-1832401000 (Caused by NewConnectionError('<urllib3.connection.HTTPSConnection object at 0x1112a6850>: Failed to establish a new connection: [Errno 8] nodename nor servname provided, or not known'))\n"
     ]
    },
    {
     "name": "stderr",
     "output_type": "stream",
     "text": [
      "Scraping Progress:   4%|▍         | 341/8402 [09:42<3:05:29,  1.38s/it]"
     ]
    },
    {
     "name": "stdout",
     "output_type": "stream",
     "text": [
      "Successfully fetched: https://thinkprogress.org/mitch-mcconnell-calls-experienced-lawyer-hired-for-kavanaugh-hearing-female-assistant-358d34719938/\n"
     ]
    },
    {
     "name": "stderr",
     "output_type": "stream",
     "text": [
      "Scraping Progress:   4%|▍         | 342/8402 [09:43<3:00:42,  1.35s/it]"
     ]
    },
    {
     "name": "stdout",
     "output_type": "stream",
     "text": [
      "Successfully fetched: https://www.espn.com/boxing/story/_/id/28013721/the-strange-unusual-history-celebrity-boxing\n"
     ]
    },
    {
     "name": "stderr",
     "output_type": "stream",
     "text": [
      "Scraping Progress:   4%|▍         | 343/8402 [09:44<2:58:29,  1.33s/it]"
     ]
    },
    {
     "name": "stdout",
     "output_type": "stream",
     "text": [
      "Successfully fetched: https://www.slashfilm.com/superhero-bits-1646/\n"
     ]
    },
    {
     "name": "stderr",
     "output_type": "stream",
     "text": [
      "Scraping Progress:   4%|▍         | 344/8402 [09:46<3:02:11,  1.36s/it]"
     ]
    },
    {
     "name": "stdout",
     "output_type": "stream",
     "text": [
      "Successfully fetched: https://www.polygon.com/2019/7/2/20677759/etika-desmond-amofah-mental-health-illness-youtube\n"
     ]
    },
    {
     "name": "stderr",
     "output_type": "stream",
     "text": [
      "Scraping Progress:   4%|▍         | 345/8402 [09:47<2:56:49,  1.32s/it]"
     ]
    },
    {
     "name": "stdout",
     "output_type": "stream",
     "text": [
      "Successfully fetched: https://www.espn.com/soccer/soccer-transfers/story/3934626/psg-the-big-losersinter-and-atletico-winners-in-europes-summer-transfer-window\n"
     ]
    },
    {
     "name": "stderr",
     "output_type": "stream",
     "text": [
      "Scraping Progress:   4%|▍         | 346/8402 [09:49<3:11:21,  1.43s/it]"
     ]
    },
    {
     "name": "stdout",
     "output_type": "stream",
     "text": [
      "Successfully fetched: https://kotaku.com/total-war-three-kingdoms-the-kotaku-review-1834993637\n"
     ]
    },
    {
     "name": "stderr",
     "output_type": "stream",
     "text": [
      "Scraping Progress:   4%|▍         | 347/8402 [09:50<3:10:03,  1.42s/it]"
     ]
    },
    {
     "name": "stdout",
     "output_type": "stream",
     "text": [
      "Successfully fetched: https://www.huffpost.com/entry/zion-williamson-duke-injury-shoe-ncaa_n_5c6e1aa1e4b0e37a1ed4c4c2\n"
     ]
    },
    {
     "name": "stderr",
     "output_type": "stream",
     "text": [
      "Scraping Progress:   4%|▍         | 348/8402 [09:51<3:03:10,  1.36s/it]"
     ]
    },
    {
     "name": "stdout",
     "output_type": "stream",
     "text": [
      "Successfully fetched: http://www.skysports.com/football/news/12020/11494696/martin-oneill-denies-problem-exists-between-roy-keane-and-some-republic-of-ireland-players\n"
     ]
    },
    {
     "name": "stderr",
     "output_type": "stream",
     "text": [
      "Scraping Progress:   4%|▍         | 349/8402 [09:53<3:28:17,  1.55s/it]"
     ]
    },
    {
     "name": "stdout",
     "output_type": "stream",
     "text": [
      "Successfully fetched: https://www.huffpost.com/entry/democrats-impeachment-time_n_5d9648f1e4b0da7f66239987\n"
     ]
    },
    {
     "name": "stderr",
     "output_type": "stream",
     "text": [
      "Scraping Progress:   4%|▍         | 350/8402 [09:55<3:13:27,  1.44s/it]"
     ]
    },
    {
     "name": "stdout",
     "output_type": "stream",
     "text": [
      "Successfully fetched: https://www.slashfilm.com/mark-hamill-beard-star-wars-episode-9/\n"
     ]
    },
    {
     "name": "stderr",
     "output_type": "stream",
     "text": [
      "Scraping Progress:   4%|▍         | 352/8402 [09:58<3:43:16,  1.66s/it]"
     ]
    },
    {
     "name": "stdout",
     "output_type": "stream",
     "text": [
      "Successfully fetched: https://www.vanityfair.com/hollywood/2019/03/donald-trump-jay-leno-late-night-one-sided\n"
     ]
    },
    {
     "name": "stderr",
     "output_type": "stream",
     "text": [
      "Scraping Progress:   4%|▍         | 353/8402 [10:01<4:02:37,  1.81s/it]"
     ]
    },
    {
     "name": "stdout",
     "output_type": "stream",
     "text": [
      "Successfully fetched: http://www.comingsoon.net/extras/features/960867-alien-egg-statue\n"
     ]
    },
    {
     "name": "stderr",
     "output_type": "stream",
     "text": [
      "Scraping Progress:   4%|▍         | 354/8402 [10:03<4:10:01,  1.86s/it]"
     ]
    },
    {
     "name": "stdout",
     "output_type": "stream",
     "text": [
      "Successfully fetched: https://www.tomshw.it/culturapop/ghostbusters-4-nuove-statue-da-hollywood-collectibles-group/\n"
     ]
    },
    {
     "name": "stderr",
     "output_type": "stream",
     "text": [
      "Scraping Progress:   4%|▍         | 355/8402 [10:05<4:33:38,  2.04s/it]"
     ]
    },
    {
     "name": "stdout",
     "output_type": "stream",
     "text": [
      "Successfully fetched: https://www.vice.com/en_us/article/kzjm5a/hurley-from-lost-builds-an-insane-haunted-house-in-hawaii-every-halloween\n"
     ]
    },
    {
     "name": "stderr",
     "output_type": "stream",
     "text": [
      "Scraping Progress:   4%|▍         | 356/8402 [10:07<4:30:15,  2.02s/it]"
     ]
    },
    {
     "name": "stdout",
     "output_type": "stream",
     "text": [
      "Successfully fetched: https://www.cbr.com/sideshow-superman-call-to-action-premium-figure/\n"
     ]
    },
    {
     "name": "stderr",
     "output_type": "stream",
     "text": [
      "Scraping Progress:   4%|▍         | 357/8402 [10:08<4:04:12,  1.82s/it]"
     ]
    },
    {
     "name": "stdout",
     "output_type": "stream",
     "text": [
      "Cannot fetch https://www.marketwatch.com/story/ges-biggest-mistake-is-doubling-down-on-its-habit-of-safe-thinking-2018-05-07, HTTP error: 401 Client Error: HTTP Forbidden for url: https://www.marketwatch.com/story/ges-biggest-mistake-is-doubling-down-on-its-habit-of-safe-thinking-2018-05-07\n"
     ]
    },
    {
     "name": "stderr",
     "output_type": "stream",
     "text": [
      "Scraping Progress:   4%|▍         | 358/8402 [10:09<3:35:43,  1.61s/it]"
     ]
    },
    {
     "name": "stdout",
     "output_type": "stream",
     "text": [
      "Successfully fetched: https://www.cbr.com/sideshow-spectacular-2019-gifts-dc-fans/\n"
     ]
    },
    {
     "name": "stderr",
     "output_type": "stream",
     "text": [
      "Scraping Progress:   4%|▍         | 359/8402 [10:11<3:24:41,  1.53s/it]"
     ]
    },
    {
     "name": "stdout",
     "output_type": "stream",
     "text": [
      "Successfully fetched: https://www.thedailybeast.com/what-kanye-wests-trump-sideshow-is-distracting-us-from\n"
     ]
    },
    {
     "name": "stderr",
     "output_type": "stream",
     "text": [
      "Scraping Progress:   4%|▍         | 360/8402 [10:13<3:56:04,  1.76s/it]"
     ]
    },
    {
     "name": "stdout",
     "output_type": "stream",
     "text": [
      "Successfully fetched: https://slate.com/news-and-politics/2019/02/2015-presidential-campaign-polls-scott-walker-jeb-bush-trump.html\n"
     ]
    },
    {
     "name": "stderr",
     "output_type": "stream",
     "text": [
      "Scraping Progress:   4%|▍         | 361/8402 [10:15<3:50:07,  1.72s/it]"
     ]
    },
    {
     "name": "stdout",
     "output_type": "stream",
     "text": [
      "Successfully fetched: https://nerdist.com/aquaman-sideshow-toys-statue/\n"
     ]
    },
    {
     "name": "stderr",
     "output_type": "stream",
     "text": [
      "Scraping Progress:   4%|▍         | 362/8402 [10:17<3:56:22,  1.76s/it]"
     ]
    },
    {
     "name": "stdout",
     "output_type": "stream",
     "text": [
      "Successfully fetched: https://seekingalpha.com/article/4234597-weighing-week-ahead-real-time-economics-lesson-continues\n"
     ]
    },
    {
     "name": "stderr",
     "output_type": "stream",
     "text": [
      "Scraping Progress:   4%|▍         | 363/8402 [10:18<4:00:56,  1.80s/it]"
     ]
    },
    {
     "name": "stdout",
     "output_type": "stream",
     "text": [
      "Successfully fetched: https://www.theatlantic.com/politics/archive/2019/05/trump-ask-mcgahn-defy-subpoena-politics-daily/589891/\n"
     ]
    },
    {
     "name": "stderr",
     "output_type": "stream",
     "text": [
      "Scraping Progress:   4%|▍         | 364/8402 [10:20<3:55:16,  1.76s/it]"
     ]
    },
    {
     "name": "stdout",
     "output_type": "stream",
     "text": [
      "Successfully fetched: https://www.newyorker.com/culture/postscript/luke-perry-knew-what-he-meant-to-so-many\n"
     ]
    },
    {
     "name": "stderr",
     "output_type": "stream",
     "text": [
      "Scraping Progress:   4%|▍         | 365/8402 [10:22<4:07:56,  1.85s/it]"
     ]
    },
    {
     "name": "stdout",
     "output_type": "stream",
     "text": [
      "Cannot fetch https://www.cnet.com/news/as-the-simpsons-turns-30-this-superfan-picks-the-best-20-episodes-ever/, connection timed out.\n"
     ]
    },
    {
     "name": "stderr",
     "output_type": "stream",
     "text": [
      "Scraping Progress:   4%|▍         | 366/8402 [10:34<10:47:52,  4.84s/it]"
     ]
    },
    {
     "name": "stdout",
     "output_type": "stream",
     "text": [
      "Successfully fetched: https://deadline.com/2018/09/burning-kiss-trailer-1202458148/\n"
     ]
    },
    {
     "name": "stderr",
     "output_type": "stream",
     "text": [
      "Scraping Progress:   4%|▍         | 367/8402 [10:36<9:07:12,  4.09s/it] "
     ]
    },
    {
     "name": "stdout",
     "output_type": "stream",
     "text": [
      "Cannot fetch https://nerdist.com/masters-of-the-universe-orko-statue-sideshow-collectibles/, HTTP error: 404 Client Error: Not Found for url: https://nerdist.com/masters-of-the-universe-orko-statue-sideshow-collectibles/\n"
     ]
    },
    {
     "name": "stderr",
     "output_type": "stream",
     "text": [
      "Scraping Progress:   4%|▍         | 368/8402 [10:38<7:41:47,  3.45s/it]"
     ]
    },
    {
     "name": "stdout",
     "output_type": "stream",
     "text": [
      "Successfully fetched: https://screenrant.com/green-arrow-premium-format-figure/\n"
     ]
    },
    {
     "name": "stderr",
     "output_type": "stream",
     "text": [
      "Scraping Progress:   4%|▍         | 369/8402 [10:40<6:18:41,  2.83s/it]"
     ]
    },
    {
     "name": "stdout",
     "output_type": "stream",
     "text": [
      "Successfully fetched: https://www.theatlantic.com/ideas/archive/2019/09/trumps-pointless-lie-hurricane-dorian-and-alabama/597469/\n"
     ]
    },
    {
     "name": "stderr",
     "output_type": "stream",
     "text": [
      "Scraping Progress:   4%|▍         | 371/8402 [10:43<5:15:44,  2.36s/it]"
     ]
    },
    {
     "name": "stdout",
     "output_type": "stream",
     "text": [
      "Successfully fetched: https://www.bleedingcool.com/2018/03/08/dc-collectibles-sideshow-new-partnership/\n"
     ]
    },
    {
     "name": "stderr",
     "output_type": "stream",
     "text": [
      "Scraping Progress:   4%|▍         | 372/8402 [10:45<4:34:51,  2.05s/it]"
     ]
    },
    {
     "name": "stdout",
     "output_type": "stream",
     "text": [
      "Successfully fetched: https://seekingalpha.com/article/4204560-tesla-additional-things-now-know-elon-musk\n"
     ]
    },
    {
     "name": "stderr",
     "output_type": "stream",
     "text": [
      "Scraping Progress:   4%|▍         | 373/8402 [10:46<4:24:08,  1.97s/it]"
     ]
    },
    {
     "name": "stdout",
     "output_type": "stream",
     "text": [
      "Successfully fetched: https://www.cbr.com/black-friday-deals-2019/\n"
     ]
    },
    {
     "name": "stderr",
     "output_type": "stream",
     "text": [
      "Scraping Progress:   4%|▍         | 374/8402 [10:48<3:58:33,  1.78s/it]"
     ]
    },
    {
     "name": "stdout",
     "output_type": "stream",
     "text": [
      "Successfully fetched: https://www.cbr.com/justice-league-deals-sideshow-collectibles/\n"
     ]
    },
    {
     "name": "stderr",
     "output_type": "stream",
     "text": [
      "Scraping Progress:   4%|▍         | 375/8402 [10:49<3:41:44,  1.66s/it]"
     ]
    },
    {
     "name": "stdout",
     "output_type": "stream",
     "text": [
      "Successfully fetched: https://www.npr.org/2018/01/19/579195588/get-caught-up-trumps-alleged-affair-with-adult-film-star-stormy-daniels\n"
     ]
    },
    {
     "name": "stderr",
     "output_type": "stream",
     "text": [
      "Scraping Progress:   4%|▍         | 376/8402 [10:51<3:52:03,  1.73s/it]"
     ]
    },
    {
     "name": "stdout",
     "output_type": "stream",
     "text": [
      "Successfully fetched: http://time.com/5247858/impossible-foods-meat-plant-based-agriculture/\n"
     ]
    },
    {
     "name": "stderr",
     "output_type": "stream",
     "text": [
      "Scraping Progress:   4%|▍         | 377/8402 [10:53<4:03:50,  1.82s/it]"
     ]
    },
    {
     "name": "stdout",
     "output_type": "stream",
     "text": [
      "Successfully fetched: https://www.tomshw.it/culturapop/pennywise-hot-toys-presenta-la-sua-figure/\n"
     ]
    },
    {
     "name": "stderr",
     "output_type": "stream",
     "text": [
      "Scraping Progress:   4%|▍         | 378/8402 [10:55<3:57:12,  1.77s/it]"
     ]
    },
    {
     "name": "stdout",
     "output_type": "stream",
     "text": [
      "Successfully fetched: https://www.cbr.com/star-wars-mandalorian-remnant-stormtrooper-hot-toys/\n"
     ]
    },
    {
     "name": "stderr",
     "output_type": "stream",
     "text": [
      "Scraping Progress:   5%|▍         | 379/8402 [10:56<3:42:27,  1.66s/it]"
     ]
    },
    {
     "name": "stdout",
     "output_type": "stream",
     "text": [
      "Successfully fetched: https://geekologie.com/2019/11/finally-a-decent-life-size-alien-queen-h.php\n"
     ]
    },
    {
     "name": "stderr",
     "output_type": "stream",
     "text": [
      "Scraping Progress:   5%|▍         | 380/8402 [10:57<3:27:30,  1.55s/it]"
     ]
    },
    {
     "name": "stdout",
     "output_type": "stream",
     "text": [
      "Successfully fetched: https://www.yahoo.com/news/kim-yo-jong-arrives-south-075914578.html\n"
     ]
    },
    {
     "name": "stderr",
     "output_type": "stream",
     "text": [
      "Scraping Progress:   5%|▍         | 381/8402 [10:59<3:33:09,  1.59s/it]"
     ]
    },
    {
     "name": "stdout",
     "output_type": "stream",
     "text": [
      "Cannot fetch https://www.yahoo.com/news/trump-battles-furor-over-stormy-daniels-hush-payment-180343172.html, HTTP error: 404 Client Error: Not Found for url: https://www.yahoo.com/news/trump-battles-furor-over-stormy-daniels-hush-payment-180343172.html\n"
     ]
    },
    {
     "name": "stderr",
     "output_type": "stream",
     "text": [
      "Scraping Progress:   5%|▍         | 382/8402 [11:00<3:22:04,  1.51s/it]"
     ]
    },
    {
     "name": "stdout",
     "output_type": "stream",
     "text": [
      "Cannot fetch https://cleantechnica.com/2018/11/30/trump-administration-plans-cop24-coal-sideshow/, HTTP error: 403 Client Error: Forbidden for url: https://cleantechnica.com/2018/11/30/trump-administration-plans-cop24-coal-sideshow/\n"
     ]
    },
    {
     "name": "stderr",
     "output_type": "stream",
     "text": [
      "Scraping Progress:   5%|▍         | 383/8402 [11:02<3:20:17,  1.50s/it]"
     ]
    },
    {
     "name": "stdout",
     "output_type": "stream",
     "text": [
      "Successfully fetched: https://io9.gizmodo.com/magneto-gets-a-gleaming-new-figure-and-more-of-the-shi-1830979921\n"
     ]
    },
    {
     "name": "stderr",
     "output_type": "stream",
     "text": [
      "Scraping Progress:   5%|▍         | 384/8402 [11:04<3:37:55,  1.63s/it]"
     ]
    },
    {
     "name": "stdout",
     "output_type": "stream",
     "text": [
      "Successfully fetched: https://paw.princeton.edu/article/anthony-grafton-defends-footnote\n"
     ]
    },
    {
     "name": "stderr",
     "output_type": "stream",
     "text": [
      "Scraping Progress:   5%|▍         | 386/8402 [11:07<3:42:21,  1.66s/it]"
     ]
    },
    {
     "name": "stdout",
     "output_type": "stream",
     "text": [
      "Successfully fetched: https://www.si.com/soccer/2018/11/05/jurgen-klopp-considering-leaving-xherdan-shaqiri-home-red-star-trip\n"
     ]
    },
    {
     "name": "stderr",
     "output_type": "stream",
     "text": [
      "Scraping Progress:   5%|▍         | 387/8402 [11:09<3:37:35,  1.63s/it]"
     ]
    },
    {
     "name": "stdout",
     "output_type": "stream",
     "text": [
      "Cannot fetch https://www.fastcompany.com/90411560/the-mythical-ipad-laptop-apples-forbidden-fruit?partner=feedburner&utm_source=feedburner&utm_medium=feed&utm_campaign=Feed%3A+fastcompany%2Fheadlines+%28Fast+Company%29, HTTP error: 403 Client Error: Forbidden for url: https://www.fastcompany.com/90411560/the-mythical-ipad-laptop-apples-forbidden-fruit?partner=feedburner&utm_source=feedburner&utm_medium=feed&utm_campaign=Feed%3A+fastcompany%2Fheadlines+%28Fast+Company%29\n"
     ]
    },
    {
     "name": "stderr",
     "output_type": "stream",
     "text": [
      "Scraping Progress:   5%|▍         | 388/8402 [11:10<3:21:57,  1.51s/it]"
     ]
    },
    {
     "name": "stdout",
     "output_type": "stream",
     "text": [
      "Successfully fetched: http://time.com/5164622/2018-winter-olympics-korean-history/\n"
     ]
    },
    {
     "name": "stderr",
     "output_type": "stream",
     "text": [
      "Scraping Progress:   5%|▍         | 389/8402 [11:11<3:17:36,  1.48s/it]"
     ]
    },
    {
     "name": "stdout",
     "output_type": "stream",
     "text": [
      "Successfully fetched: https://www.cbr.com/harley-quinn-roller-derby-premium-figure-sideshow/\n"
     ]
    },
    {
     "name": "stderr",
     "output_type": "stream",
     "text": [
      "Scraping Progress:   5%|▍         | 390/8402 [11:13<3:10:47,  1.43s/it]"
     ]
    },
    {
     "name": "stdout",
     "output_type": "stream",
     "text": [
      "Successfully fetched: https://www.cbr.com/simpsons-best-sideshow-bob-ranked/\n"
     ]
    },
    {
     "name": "stderr",
     "output_type": "stream",
     "text": [
      "Scraping Progress:   5%|▍         | 391/8402 [11:14<3:10:25,  1.43s/it]"
     ]
    },
    {
     "name": "stdout",
     "output_type": "stream",
     "text": [
      "Successfully fetched: https://www.geeksaresexy.net/2018/06/19/make-it-so-mcfarlane-to-release-gorgeous-new-star-trek-action-figures/\n"
     ]
    },
    {
     "name": "stderr",
     "output_type": "stream",
     "text": [
      "Scraping Progress:   5%|▍         | 392/8402 [11:16<3:21:02,  1.51s/it]"
     ]
    },
    {
     "name": "stdout",
     "output_type": "stream",
     "text": [
      "Cannot fetch https://nerdist.com/star-wars-designer-watches-invicta-sideshow-collectibles/, HTTP error: 404 Client Error: Not Found for url: https://nerdist.com/star-wars-designer-watches-invicta-sideshow-collectibles/\n"
     ]
    },
    {
     "name": "stderr",
     "output_type": "stream",
     "text": [
      "Scraping Progress:   5%|▍         | 393/8402 [11:18<3:36:54,  1.63s/it]"
     ]
    },
    {
     "name": "stdout",
     "output_type": "stream",
     "text": [
      "Successfully fetched: https://seekingalpha.com/article/4225934-trump-trade-war-sideshow-part-6\n"
     ]
    },
    {
     "name": "stderr",
     "output_type": "stream",
     "text": [
      "Scraping Progress:   5%|▍         | 394/8402 [11:20<3:53:57,  1.75s/it]"
     ]
    },
    {
     "name": "stdout",
     "output_type": "stream",
     "text": [
      "Cannot fetch https://jezebel.com/the-sad-murky-story-of-paranormal-romance-writer-sherr-1835657409, HTTP error: 403 Client Error: Forbidden for url: https://www.jezebel.com/the-sad-murky-story-of-paranormal-romance-writer-sherr-1835657409\n"
     ]
    },
    {
     "name": "stderr",
     "output_type": "stream",
     "text": [
      "Scraping Progress:   5%|▍         | 395/8402 [11:21<3:49:25,  1.72s/it]"
     ]
    },
    {
     "name": "stdout",
     "output_type": "stream",
     "text": [
      "Successfully fetched: http://www.hvper.com/?ref=feed_56e34662002e57eae5dd02c73637b36a\n"
     ]
    },
    {
     "name": "stderr",
     "output_type": "stream",
     "text": [
      "Scraping Progress:   5%|▍         | 396/8402 [11:24<4:06:17,  1.85s/it]"
     ]
    },
    {
     "name": "stdout",
     "output_type": "stream",
     "text": [
      "Successfully fetched: http://www.hvper.com/?ref=feed_ee2254ee6341a1d622ff9873cfd03290\n"
     ]
    },
    {
     "name": "stderr",
     "output_type": "stream",
     "text": [
      "Scraping Progress:   5%|▍         | 397/8402 [11:25<3:58:42,  1.79s/it]"
     ]
    },
    {
     "name": "stdout",
     "output_type": "stream",
     "text": [
      "Cannot fetch https://abcnews.go.com/Politics/wireStory/trump-voters-cringe-shrug-tweets-democrats-rage-64382892, HTTP error: 404 Client Error: Not Found for url: https://abcnews.go.com/Politics/wireStory/trump-voters-cringe-shrug-tweets-democrats-rage-64382892\n"
     ]
    },
    {
     "name": "stderr",
     "output_type": "stream",
     "text": [
      "Scraping Progress:   5%|▍         | 398/8402 [11:26<3:33:56,  1.60s/it]"
     ]
    },
    {
     "name": "stdout",
     "output_type": "stream",
     "text": [
      "Successfully fetched: http://www.shorpy.com/node/24106?utm_source=feedburner&utm_medium=feed&utm_campaign=Feed%3A+shorpy+%28Shorpy+-+The+100-Year-Old+Photo+Blog%29\n"
     ]
    },
    {
     "name": "stderr",
     "output_type": "stream",
     "text": [
      "Scraping Progress:   5%|▍         | 399/8402 [11:29<3:52:42,  1.74s/it]"
     ]
    },
    {
     "name": "stdout",
     "output_type": "stream",
     "text": [
      "Successfully fetched: https://www.bleedingcool.com/2018/06/13/mystique-sideshow-premium-format-figure/\n"
     ]
    },
    {
     "name": "stderr",
     "output_type": "stream",
     "text": [
      "Scraping Progress:   5%|▍         | 400/8402 [11:30<3:38:37,  1.64s/it]"
     ]
    },
    {
     "name": "stdout",
     "output_type": "stream",
     "text": [
      "Successfully fetched: https://www.slashfilm.com/avengers-endgame-thor-statues/\n"
     ]
    },
    {
     "name": "stderr",
     "output_type": "stream",
     "text": [
      "Scraping Progress:   5%|▍         | 401/8402 [11:32<3:46:25,  1.70s/it]"
     ]
    },
    {
     "name": "stdout",
     "output_type": "stream",
     "text": [
      "Successfully fetched: https://www.avclub.com/seth-meyers-and-stephen-colbert-wring-laughs-from-this-1822539889\n"
     ]
    },
    {
     "name": "stderr",
     "output_type": "stream",
     "text": [
      "Scraping Progress:   5%|▍         | 402/8402 [11:33<3:30:57,  1.58s/it]"
     ]
    },
    {
     "name": "stdout",
     "output_type": "stream",
     "text": [
      "Successfully fetched: https://www.bbc.co.uk/news/world-us-canada-46746603\n"
     ]
    },
    {
     "name": "stderr",
     "output_type": "stream",
     "text": [
      "Scraping Progress:   5%|▍         | 403/8402 [11:35<3:35:26,  1.62s/it]"
     ]
    },
    {
     "name": "stdout",
     "output_type": "stream",
     "text": [
      "Cannot fetch https://www.yahoo.com/news/poll-finds-minimal-interest-royal-wedding-among-britons-130501999.html, HTTP error: 404 Client Error: Not Found for url: https://www.yahoo.com/news/poll-finds-minimal-interest-royal-wedding-among-britons-130501999.html\n"
     ]
    },
    {
     "name": "stderr",
     "output_type": "stream",
     "text": [
      "Scraping Progress:   5%|▍         | 404/8402 [11:36<3:23:57,  1.53s/it]"
     ]
    },
    {
     "name": "stdout",
     "output_type": "stream",
     "text": [
      "Successfully fetched: https://www.poynter.org/news/writelane-podcast-finding-great-ideas-part-1\n"
     ]
    },
    {
     "name": "stderr",
     "output_type": "stream",
     "text": [
      "Scraping Progress:   5%|▍         | 405/8402 [11:40<5:18:31,  2.39s/it]"
     ]
    },
    {
     "name": "stdout",
     "output_type": "stream",
     "text": [
      "Successfully fetched: https://www.newyorker.com/culture/likes/what-to-stream-this-weekend-best-picture-oscar-runners-up\n"
     ]
    },
    {
     "name": "stderr",
     "output_type": "stream",
     "text": [
      "Scraping Progress:   5%|▍         | 406/8402 [11:42<4:37:25,  2.08s/it]"
     ]
    },
    {
     "name": "stdout",
     "output_type": "stream",
     "text": [
      "Successfully fetched: https://www.eonline.com/news/1024903/from-reality-tv-sideshow-to-a-shocking-arrest-inside-the-strange-saga-of-mama-june-shannon\n"
     ]
    },
    {
     "name": "stderr",
     "output_type": "stream",
     "text": [
      "Scraping Progress:   5%|▍         | 407/8402 [11:43<4:18:42,  1.94s/it]"
     ]
    },
    {
     "name": "stdout",
     "output_type": "stream",
     "text": [
      "Successfully fetched: https://www.indiewire.com/2018/07/the-simpsons-season-30-guests-bobs-burgers-1201986474/\n"
     ]
    },
    {
     "name": "stderr",
     "output_type": "stream",
     "text": [
      "Scraping Progress:   5%|▍         | 408/8402 [11:46<4:41:39,  2.11s/it]"
     ]
    },
    {
     "name": "stdout",
     "output_type": "stream",
     "text": [
      "Successfully fetched: https://www.bleedingcool.com/2018/09/12/superman-vs-batman-new-sideshow-statue/\n"
     ]
    },
    {
     "name": "stderr",
     "output_type": "stream",
     "text": [
      "Scraping Progress:   5%|▍         | 409/8402 [11:47<4:10:15,  1.88s/it]"
     ]
    },
    {
     "name": "stdout",
     "output_type": "stream",
     "text": [
      "Successfully fetched: https://www.usatoday.com/story/entertainment/movies/2019/07/02/jake-gyllenhaal-aka-mysterio-readies-screaming-spider-man-fans/1589672001/?utm_source=google&utm_medium=amp&utm_campaign=speakable\n"
     ]
    },
    {
     "name": "stderr",
     "output_type": "stream",
     "text": [
      "Scraping Progress:   5%|▍         | 410/8402 [11:49<3:55:45,  1.77s/it]"
     ]
    },
    {
     "name": "stdout",
     "output_type": "stream",
     "text": [
      "Successfully fetched: http://www.hvper.com/?ref=feed_2ea285240e50ba534d0e748f0f8c1401\n"
     ]
    },
    {
     "name": "stderr",
     "output_type": "stream",
     "text": [
      "Scraping Progress:   5%|▍         | 411/8402 [11:51<3:54:53,  1.76s/it]"
     ]
    },
    {
     "name": "stdout",
     "output_type": "stream",
     "text": [
      "Successfully fetched: http://www.hvper.com/?ref=feed_b8215cd05248421f447838b2ceeb1915\n"
     ]
    },
    {
     "name": "stderr",
     "output_type": "stream",
     "text": [
      "Scraping Progress:   5%|▍         | 412/8402 [11:52<3:55:10,  1.77s/it]"
     ]
    },
    {
     "name": "stdout",
     "output_type": "stream",
     "text": [
      "Successfully fetched: https://www.bleedingcool.com/2019/11/23/hawkgirl-statue-from-sideshow-collectibles/\n"
     ]
    },
    {
     "name": "stderr",
     "output_type": "stream",
     "text": [
      "Scraping Progress:   5%|▍         | 413/8402 [11:54<3:39:55,  1.65s/it]"
     ]
    },
    {
     "name": "stdout",
     "output_type": "stream",
     "text": [
      "Successfully fetched: https://www.bleedingcool.com/2019/11/30/superman-statue-bust-sideshow-collectibles/\n"
     ]
    },
    {
     "name": "stderr",
     "output_type": "stream",
     "text": [
      "Scraping Progress:   5%|▍         | 414/8402 [11:55<3:25:45,  1.55s/it]"
     ]
    },
    {
     "name": "stdout",
     "output_type": "stream",
     "text": [
      "Successfully fetched: https://www.bleedingcool.com/2019/12/10/yoda-bronze-statue-sideshow-collectibles/\n"
     ]
    },
    {
     "name": "stderr",
     "output_type": "stream",
     "text": [
      "Scraping Progress:   5%|▍         | 415/8402 [11:56<3:17:30,  1.48s/it]"
     ]
    },
    {
     "name": "stdout",
     "output_type": "stream",
     "text": [
      "Successfully fetched: https://www.huffingtonpost.com/entry/opinion-barnett-mental-health-insurance_us_5af210b1e4b00a3224ee0d42\n"
     ]
    },
    {
     "name": "stderr",
     "output_type": "stream",
     "text": [
      "Scraping Progress:   5%|▍         | 416/8402 [11:58<3:17:05,  1.48s/it]"
     ]
    },
    {
     "name": "stdout",
     "output_type": "stream",
     "text": [
      "Successfully fetched: http://www.espn.com/mens-college-basketball/story/_/id/22969138/everything-need-know-saturday-national-semifinals-2018-final-four-loyola-chicago-ramblers-kansas-jayhawks-villanova-wildcats-michigan-wolverines\n"
     ]
    },
    {
     "name": "stderr",
     "output_type": "stream",
     "text": [
      "Scraping Progress:   5%|▍         | 417/8402 [12:00<3:35:04,  1.62s/it]"
     ]
    },
    {
     "name": "stdout",
     "output_type": "stream",
     "text": [
      "Successfully fetched: http://www.hvper.com/?ref=feed_5aa366741f1323f595fefae4b82e729a\n"
     ]
    },
    {
     "name": "stderr",
     "output_type": "stream",
     "text": [
      "Scraping Progress:   5%|▍         | 418/8402 [12:02<3:40:34,  1.66s/it]"
     ]
    },
    {
     "name": "stdout",
     "output_type": "stream",
     "text": [
      "Successfully fetched: https://www.slashfilm.com/superhero-bits-1613/\n"
     ]
    },
    {
     "name": "stderr",
     "output_type": "stream",
     "text": [
      "Scraping Progress:   5%|▍         | 419/8402 [12:04<4:15:33,  1.92s/it]"
     ]
    },
    {
     "name": "stdout",
     "output_type": "stream",
     "text": [
      "Successfully fetched: https://www.project-syndicate.org/podcasts/the-evolution-of-global-governance\n"
     ]
    },
    {
     "name": "stderr",
     "output_type": "stream",
     "text": [
      "Scraping Progress:   5%|▍         | 420/8402 [12:07<4:46:11,  2.15s/it]"
     ]
    },
    {
     "name": "stdout",
     "output_type": "stream",
     "text": [
      "Successfully fetched: https://bleacherreport.com/articles/2822429-br-kicks-x-nba-nightly-lebron-james-mismatches-pj-tucker-wears-huarache-2k4\n"
     ]
    },
    {
     "name": "stderr",
     "output_type": "stream",
     "text": [
      "Scraping Progress:   5%|▌         | 421/8402 [12:08<4:22:26,  1.97s/it]"
     ]
    },
    {
     "name": "stdout",
     "output_type": "stream",
     "text": [
      "Successfully fetched: http://listverse.com/2018/07/10/10-heartbreaking-backstories-of-famous-sideshow-freaks/\n"
     ]
    },
    {
     "name": "stderr",
     "output_type": "stream",
     "text": [
      "Scraping Progress:   5%|▌         | 422/8402 [12:10<3:55:38,  1.77s/it]"
     ]
    },
    {
     "name": "stdout",
     "output_type": "stream",
     "text": [
      "Successfully fetched: https://www.slashfilm.com/hot-toys-heavy-infantry-mandalorian-figure/\n"
     ]
    },
    {
     "name": "stderr",
     "output_type": "stream",
     "text": [
      "Scraping Progress:   5%|▌         | 423/8402 [12:11<3:55:58,  1.77s/it]"
     ]
    },
    {
     "name": "stdout",
     "output_type": "stream",
     "text": [
      "Successfully fetched: https://www.cbr.com/batman-life-size-bust-scowl-sideshow/\n"
     ]
    },
    {
     "name": "stderr",
     "output_type": "stream",
     "text": [
      "Scraping Progress:   5%|▌         | 424/8402 [12:13<3:35:43,  1.62s/it]"
     ]
    },
    {
     "name": "stdout",
     "output_type": "stream",
     "text": [
      "Successfully fetched: https://www.nbcnews.com/think/opinion/north-korea-s-missile-launch-days-u-s-talks-resume-ncna1062711\n"
     ]
    },
    {
     "name": "stderr",
     "output_type": "stream",
     "text": [
      "Scraping Progress:   5%|▌         | 425/8402 [12:15<3:54:24,  1.76s/it]"
     ]
    },
    {
     "name": "stdout",
     "output_type": "stream",
     "text": [
      "Successfully fetched: https://bleacherreport.com/articles/2827255-chris-paul-aaron-rodgers-to-host-golf-showcase-the-baha-mar-showdown\n"
     ]
    },
    {
     "name": "stderr",
     "output_type": "stream",
     "text": [
      "Scraping Progress:   5%|▌         | 426/8402 [12:16<3:39:45,  1.65s/it]"
     ]
    },
    {
     "name": "stdout",
     "output_type": "stream",
     "text": [
      "Successfully fetched: https://bleacherreport.com/articles/2834696-team-elite-wins-ballislife-all-american-game-isaiah-mobley-jahmius-ramsey-mvps\n"
     ]
    },
    {
     "name": "stderr",
     "output_type": "stream",
     "text": [
      "Scraping Progress:   5%|▌         | 427/8402 [12:18<3:41:51,  1.67s/it]"
     ]
    },
    {
     "name": "stdout",
     "output_type": "stream",
     "text": [
      "Successfully fetched: https://www.pcgamer.com/killing-floor-2s-summer-sideshow-update-adds-an-airship-map-on-tuesday/\n"
     ]
    },
    {
     "name": "stderr",
     "output_type": "stream",
     "text": [
      "Scraping Progress:   5%|▌         | 428/8402 [12:19<3:25:22,  1.55s/it]"
     ]
    },
    {
     "name": "stdout",
     "output_type": "stream",
     "text": [
      "Successfully fetched: https://www.vice.com/en_us/article/wjb9pw/freedom-fries-walter-jones-now-antiwar-congressman\n"
     ]
    },
    {
     "name": "stderr",
     "output_type": "stream",
     "text": [
      "Scraping Progress:   5%|▌         | 429/8402 [12:21<3:43:04,  1.68s/it]"
     ]
    },
    {
     "name": "stdout",
     "output_type": "stream",
     "text": [
      "Successfully fetched: https://www.bleedingcool.com/2018/05/16/sideshow-collectibles-marvel-elektra-premium/\n"
     ]
    },
    {
     "name": "stderr",
     "output_type": "stream",
     "text": [
      "Scraping Progress:   5%|▌         | 430/8402 [12:23<3:34:38,  1.62s/it]"
     ]
    },
    {
     "name": "stdout",
     "output_type": "stream",
     "text": [
      "Cannot fetch https://news.avclub.com/homer-simpson-tony-stark-and-more-fictional-character-1836606083, error: HTTPSConnectionPool(host='news.avclub.com', port=443): Max retries exceeded with url: /homer-simpson-tony-stark-and-more-fictional-character-1836606083 (Caused by NewConnectionError('<urllib3.connection.HTTPSConnection object at 0x114d41150>: Failed to establish a new connection: [Errno 8] nodename nor servname provided, or not known'))\n"
     ]
    },
    {
     "name": "stderr",
     "output_type": "stream",
     "text": [
      "Scraping Progress:   5%|▌         | 431/8402 [12:24<3:10:28,  1.43s/it]"
     ]
    },
    {
     "name": "stdout",
     "output_type": "stream",
     "text": [
      "Successfully fetched: https://www.theatlantic.com/science/archive/2018/07/did-scott-pruitt-remake-us-environmental-law/564512/\n"
     ]
    },
    {
     "name": "stderr",
     "output_type": "stream",
     "text": [
      "Scraping Progress:   5%|▌         | 432/8402 [12:25<3:14:53,  1.47s/it]"
     ]
    },
    {
     "name": "stdout",
     "output_type": "stream",
     "text": [
      "Successfully fetched: https://www.theatlantic.com/politics/archive/2018/07/russia-hacking-trump-mueller/565157/\n"
     ]
    },
    {
     "name": "stderr",
     "output_type": "stream",
     "text": [
      "Scraping Progress:   5%|▌         | 433/8402 [12:27<3:18:35,  1.50s/it]"
     ]
    },
    {
     "name": "stdout",
     "output_type": "stream",
     "text": [
      "Successfully fetched: http://www.bbc.com/news/world-us-canada-42912720\n"
     ]
    },
    {
     "name": "stderr",
     "output_type": "stream",
     "text": [
      "Scraping Progress:   5%|▌         | 434/8402 [12:28<3:28:47,  1.57s/it]"
     ]
    },
    {
     "name": "stdout",
     "output_type": "stream",
     "text": [
      "Successfully fetched: https://slate.com/news-and-politics/2018/05/the-legal-battle-against-trump-is-better-off-without-eric-schneiderman.html\n"
     ]
    },
    {
     "name": "stderr",
     "output_type": "stream",
     "text": [
      "Scraping Progress:   5%|▌         | 435/8402 [12:30<3:19:52,  1.51s/it]"
     ]
    },
    {
     "name": "stdout",
     "output_type": "stream",
     "text": [
      "Successfully fetched: https://www.si.com/extra-mustard/2018/02/08/philadelphia-eagles-parade-fan-intentionally-breaks-finger-chris-long-jason-kelce\n"
     ]
    },
    {
     "name": "stderr",
     "output_type": "stream",
     "text": [
      "Scraping Progress:   5%|▌         | 436/8402 [12:31<3:21:59,  1.52s/it]"
     ]
    },
    {
     "name": "stdout",
     "output_type": "stream",
     "text": [
      "Successfully fetched: https://www.bleedingcool.com/2019/01/09/batgirl-sideshow-collectibles-premium-format-figure/\n"
     ]
    },
    {
     "name": "stderr",
     "output_type": "stream",
     "text": [
      "Scraping Progress:   5%|▌         | 437/8402 [12:33<3:12:35,  1.45s/it]"
     ]
    },
    {
     "name": "stdout",
     "output_type": "stream",
     "text": [
      "Successfully fetched: https://www.slashfilm.com/star-wars-bits-mark-hamill-on-whether-he-wants-luke-to-return-gary-whitta-on-rogue-one-inspiration-and-ahmed-best-thanks-fans/\n"
     ]
    },
    {
     "name": "stderr",
     "output_type": "stream",
     "text": [
      "Scraping Progress:   5%|▌         | 438/8402 [12:36<4:21:23,  1.97s/it]"
     ]
    },
    {
     "name": "stdout",
     "output_type": "stream",
     "text": [
      "Successfully fetched: https://www.bleedingcool.com/2019/03/14/lobo-maquette-sideshow-collectibles-preorder/\n"
     ]
    },
    {
     "name": "stderr",
     "output_type": "stream",
     "text": [
      "Scraping Progress:   5%|▌         | 439/8402 [12:37<3:52:42,  1.75s/it]"
     ]
    },
    {
     "name": "stdout",
     "output_type": "stream",
     "text": [
      "Successfully fetched: https://gizmodo.com/the-unforgetting-machine-1840148461\n"
     ]
    },
    {
     "name": "stderr",
     "output_type": "stream",
     "text": [
      "Scraping Progress:   5%|▌         | 440/8402 [12:39<3:40:26,  1.66s/it]"
     ]
    },
    {
     "name": "stdout",
     "output_type": "stream",
     "text": [
      "Successfully fetched: https://www.forbes.com/sites/stevehanke/2019/09/07/worried-about-a-recession-relax/\n"
     ]
    },
    {
     "name": "stderr",
     "output_type": "stream",
     "text": [
      "Scraping Progress:   5%|▌         | 442/8402 [12:44<4:40:32,  2.11s/it]"
     ]
    },
    {
     "name": "stdout",
     "output_type": "stream",
     "text": [
      "Successfully fetched: https://www.bleedingcool.com/2018/03/22/exclusive-batman-figure-sideshow/\n"
     ]
    },
    {
     "name": "stderr",
     "output_type": "stream",
     "text": [
      "Scraping Progress:   5%|▌         | 443/8402 [12:45<4:05:33,  1.85s/it]"
     ]
    },
    {
     "name": "stdout",
     "output_type": "stream",
     "text": [
      "Successfully fetched: https://tinhte.vn/threads/sideshow-collectibles-gioi-thieu-buc-tuong-an-theo-game-spider-man-ps4-ban-gia-1-100-usd.3029117/\n"
     ]
    },
    {
     "name": "stderr",
     "output_type": "stream",
     "text": [
      "Scraping Progress:   5%|▌         | 444/8402 [12:50<6:29:15,  2.93s/it]"
     ]
    },
    {
     "name": "stdout",
     "output_type": "stream",
     "text": [
      "Successfully fetched: https://www.bleedingcool.com/2019/04/03/jean-grey-premium-format-figure-sideshow-collectibles-x-men/\n"
     ]
    },
    {
     "name": "stderr",
     "output_type": "stream",
     "text": [
      "Scraping Progress:   5%|▌         | 445/8402 [12:52<5:22:05,  2.43s/it]"
     ]
    },
    {
     "name": "stdout",
     "output_type": "stream",
     "text": [
      "Successfully fetched: https://www.bleedingcool.com/2019/08/31/mikey-grabs-a-slice-with-new-tmnt-sideshow-collectibles-statue/\n"
     ]
    },
    {
     "name": "stderr",
     "output_type": "stream",
     "text": [
      "Scraping Progress:   5%|▌         | 446/8402 [12:53<4:35:01,  2.07s/it]"
     ]
    },
    {
     "name": "stdout",
     "output_type": "stream",
     "text": [
      "Successfully fetched: https://www.bleedingcool.com/2018/12/13/magneto-new-sixth-scale-figure-sideshow-collectibles/\n"
     ]
    },
    {
     "name": "stderr",
     "output_type": "stream",
     "text": [
      "Scraping Progress:   5%|▌         | 447/8402 [12:54<4:01:57,  1.82s/it]"
     ]
    },
    {
     "name": "stdout",
     "output_type": "stream",
     "text": [
      "Successfully fetched: https://www.bleedingcool.com/2018/12/06/sideshow-collectibles-premium-format-aquaman/\n"
     ]
    },
    {
     "name": "stderr",
     "output_type": "stream",
     "text": [
      "Scraping Progress:   5%|▌         | 448/8402 [12:55<3:37:55,  1.64s/it]"
     ]
    },
    {
     "name": "stdout",
     "output_type": "stream",
     "text": [
      "Successfully fetched: https://www.clickondetroit.com/news/local/2019/12/23/detroit-police-to-address-i-94-donuts-video/\n"
     ]
    },
    {
     "name": "stderr",
     "output_type": "stream",
     "text": [
      "Scraping Progress:   5%|▌         | 449/8402 [12:57<3:54:18,  1.77s/it]"
     ]
    },
    {
     "name": "stdout",
     "output_type": "stream",
     "text": [
      "Successfully fetched: https://www.foxsports.com/rugby/story/6n-best-says-scummy-irish-comments-just-a-sideshow-031618\n"
     ]
    },
    {
     "name": "stderr",
     "output_type": "stream",
     "text": [
      "Scraping Progress:   5%|▌         | 450/8402 [13:00<4:22:56,  1.98s/it]"
     ]
    },
    {
     "name": "stdout",
     "output_type": "stream",
     "text": [
      "Successfully fetched: https://www.toprankblog.com/2019/07/cmworld-greatest-content-marketing-show/\n"
     ]
    },
    {
     "name": "stderr",
     "output_type": "stream",
     "text": [
      "Scraping Progress:   5%|▌         | 451/8402 [13:03<5:02:07,  2.28s/it]"
     ]
    },
    {
     "name": "stdout",
     "output_type": "stream",
     "text": [
      "Successfully fetched: https://www.bleedingcool.com/2018/03/08/jabba-hutt-sideshow-collectibles/\n"
     ]
    },
    {
     "name": "stderr",
     "output_type": "stream",
     "text": [
      "Scraping Progress:   5%|▌         | 452/8402 [13:04<4:21:33,  1.97s/it]"
     ]
    },
    {
     "name": "stdout",
     "output_type": "stream",
     "text": [
      "Successfully fetched: http://www.cineblog.it/post/787686/ghostbusters-nuove-action-figure-sideshow-del-cane-infernale\n"
     ]
    },
    {
     "name": "stderr",
     "output_type": "stream",
     "text": [
      "Scraping Progress:   5%|▌         | 453/8402 [13:07<4:52:10,  2.21s/it]"
     ]
    },
    {
     "name": "stdout",
     "output_type": "stream",
     "text": [
      "Successfully fetched: https://www.rockpapershotgun.com/2018/03/01/assassins-creeds-discovery-tour-soma-difficulty/\n"
     ]
    },
    {
     "name": "stderr",
     "output_type": "stream",
     "text": [
      "Scraping Progress:   5%|▌         | 454/8402 [13:09<4:37:52,  2.10s/it]"
     ]
    },
    {
     "name": "stdout",
     "output_type": "stream",
     "text": [
      "Cannot fetch https://news.yahoo.com/trump-won-political-battle-not-144000268.html, HTTP error: 404 Client Error: Not Found for url: https://news.yahoo.com/trump-won-political-battle-not-144000268.html\n"
     ]
    },
    {
     "name": "stderr",
     "output_type": "stream",
     "text": [
      "Scraping Progress:   5%|▌         | 455/8402 [13:10<4:04:27,  1.85s/it]"
     ]
    },
    {
     "name": "stdout",
     "output_type": "stream",
     "text": [
      "Successfully fetched: http://www.espn.com/mlb/story/_/id/23250002/the-case-154-games-fenway-quest-mlb-next-big-thing\n"
     ]
    },
    {
     "name": "stderr",
     "output_type": "stream",
     "text": [
      "Scraping Progress:   5%|▌         | 456/8402 [13:11<3:42:18,  1.68s/it]"
     ]
    },
    {
     "name": "stdout",
     "output_type": "stream",
     "text": [
      "Successfully fetched: https://www.bleedingcool.com/2018/04/18/terminator-premium-format-figure-sideshow/\n"
     ]
    },
    {
     "name": "stderr",
     "output_type": "stream",
     "text": [
      "Scraping Progress:   5%|▌         | 457/8402 [13:12<3:24:39,  1.55s/it]"
     ]
    },
    {
     "name": "stdout",
     "output_type": "stream",
     "text": [
      "Successfully fetched: https://seekingalpha.com/article/4183505-trade-tensions-big-deal\n"
     ]
    },
    {
     "name": "stderr",
     "output_type": "stream",
     "text": [
      "Scraping Progress:   5%|▌         | 458/8402 [13:15<3:49:27,  1.73s/it]"
     ]
    },
    {
     "name": "stdout",
     "output_type": "stream",
     "text": [
      "Successfully fetched: https://www.lrb.co.uk/v41/n17/lynne-vallone/for-the-sake-of-the-dollars\n"
     ]
    },
    {
     "name": "stderr",
     "output_type": "stream",
     "text": [
      "Scraping Progress:   5%|▌         | 459/8402 [13:20<5:55:21,  2.68s/it]"
     ]
    },
    {
     "name": "stdout",
     "output_type": "stream",
     "text": [
      "Successfully fetched: https://deadspin.com/all-elite-wrestlings-newest-signing-is-as-divisive-as-w-1837294211\n"
     ]
    },
    {
     "name": "stderr",
     "output_type": "stream",
     "text": [
      "Scraping Progress:   5%|▌         | 460/8402 [13:21<5:10:33,  2.35s/it]"
     ]
    },
    {
     "name": "stdout",
     "output_type": "stream",
     "text": [
      "Successfully fetched: https://nerdist.com/han-solo-hot-toys-mudtrooper-figure/\n"
     ]
    },
    {
     "name": "stderr",
     "output_type": "stream",
     "text": [
      "Scraping Progress:   5%|▌         | 461/8402 [13:23<4:45:33,  2.16s/it]"
     ]
    },
    {
     "name": "stdout",
     "output_type": "stream",
     "text": [
      "Successfully fetched: https://newatlas.com/2018-monterey-car-week-top-40-motorcycles-auction-report/56064/\n"
     ]
    },
    {
     "name": "stderr",
     "output_type": "stream",
     "text": [
      "Scraping Progress:   5%|▌         | 462/8402 [13:26<5:11:06,  2.35s/it]"
     ]
    },
    {
     "name": "stdout",
     "output_type": "stream",
     "text": [
      "Successfully fetched: https://www.foxsports.com/golf/story/column-daly-turns-pga-championship-into-ridiculous-sideshow-051019\n"
     ]
    },
    {
     "name": "stderr",
     "output_type": "stream",
     "text": [
      "Scraping Progress:   6%|▌         | 463/8402 [13:28<5:22:30,  2.44s/it]"
     ]
    },
    {
     "name": "stdout",
     "output_type": "stream",
     "text": [
      "Cannot fetch https://nerdist.com/hot-toys-unleashes-3-new-versions-of-boba-fett-from-the-empire-strikes-back/, HTTP error: 404 Client Error: Not Found for url: https://nerdist.com/hot-toys-unleashes-3-new-versions-of-boba-fett-from-the-empire-strikes-back/\n"
     ]
    },
    {
     "name": "stderr",
     "output_type": "stream",
     "text": [
      "Scraping Progress:   6%|▌         | 464/8402 [13:31<5:23:38,  2.45s/it]"
     ]
    },
    {
     "name": "stdout",
     "output_type": "stream",
     "text": [
      "Cannot fetch https://www.channel3000.com/news/national-news/warrant-missing-moms-body-in-truck-estranged-husband-used/1117469473, HTTP error: 404 Client Error: Not Found for url: https://www.channel3000.com/news/national-news/warrant-missing-moms-body-in-truck-estranged-husband-used/1117469473/\n"
     ]
    },
    {
     "name": "stderr",
     "output_type": "stream",
     "text": [
      "Scraping Progress:   6%|▌         | 465/8402 [13:32<4:51:33,  2.20s/it]"
     ]
    },
    {
     "name": "stdout",
     "output_type": "stream",
     "text": [
      "Cannot fetch https://nerdist.com/sideshow-toys-star-wars-jabba-hutt-customizeable/, HTTP error: 404 Client Error: Not Found for url: https://nerdist.com/sideshow-toys-star-wars-jabba-hutt-customizeable/\n"
     ]
    },
    {
     "name": "stderr",
     "output_type": "stream",
     "text": [
      "Scraping Progress:   6%|▌         | 466/8402 [13:34<4:35:09,  2.08s/it]"
     ]
    },
    {
     "name": "stdout",
     "output_type": "stream",
     "text": [
      "Successfully fetched: https://www.bleedingcool.com/2018/04/03/alien-queen-sideshow-maquette-aliens/\n"
     ]
    },
    {
     "name": "stderr",
     "output_type": "stream",
     "text": [
      "Scraping Progress:   6%|▌         | 467/8402 [13:35<4:03:01,  1.84s/it]"
     ]
    },
    {
     "name": "stdout",
     "output_type": "stream",
     "text": [
      "Successfully fetched: https://www.bleedingcool.com/2018/03/21/miles-morales-premium-figure-sideshow/\n"
     ]
    },
    {
     "name": "stderr",
     "output_type": "stream",
     "text": [
      "Scraping Progress:   6%|▌         | 468/8402 [13:37<3:39:56,  1.66s/it]"
     ]
    },
    {
     "name": "stdout",
     "output_type": "stream",
     "text": [
      "Successfully fetched: https://www.bleedingcool.com/2018/04/22/bc-exclusive-poison-ivy-sideshow-premium-format/\n"
     ]
    },
    {
     "name": "stderr",
     "output_type": "stream",
     "text": [
      "Scraping Progress:   6%|▌         | 469/8402 [13:38<3:25:40,  1.56s/it]"
     ]
    },
    {
     "name": "stdout",
     "output_type": "stream",
     "text": [
      "Successfully fetched: https://www.bleedingcool.com/2018/04/12/daredevil-premium-format-figure-sideshow/\n"
     ]
    },
    {
     "name": "stderr",
     "output_type": "stream",
     "text": [
      "Scraping Progress:   6%|▌         | 470/8402 [13:39<3:14:30,  1.47s/it]"
     ]
    },
    {
     "name": "stdout",
     "output_type": "stream",
     "text": [
      "Successfully fetched: https://www.bleedingcool.com/2018/04/18/joker-gotham-statue-sideshow-collectibles/\n"
     ]
    },
    {
     "name": "stderr",
     "output_type": "stream",
     "text": [
      "Scraping Progress:   6%|▌         | 472/8402 [13:42<3:20:52,  1.52s/it]"
     ]
    },
    {
     "name": "stdout",
     "output_type": "stream",
     "text": [
      "Successfully fetched: https://www.vice.com/en_us/article/9kn8xv/i-watched-a-hologram-of-ray-j-host-a-terrible-freakshow\n"
     ]
    },
    {
     "name": "stderr",
     "output_type": "stream",
     "text": [
      "Scraping Progress:   6%|▌         | 473/8402 [13:44<3:40:49,  1.67s/it]"
     ]
    },
    {
     "name": "stdout",
     "output_type": "stream",
     "text": [
      "Cannot fetch https://www.wsj.com/articles/arab-leaders-mute-criticism-of-israel-at-trump-administrations-middle-east-peace-conference-11561578645, HTTP error: 401 Client Error: HTTP Forbidden for url: https://www.wsj.com/articles/arab-leaders-mute-criticism-of-israel-at-trump-administrations-middle-east-peace-conference-11561578645\n"
     ]
    },
    {
     "name": "stderr",
     "output_type": "stream",
     "text": [
      "Scraping Progress:   6%|▌         | 476/8402 [13:49<3:29:13,  1.58s/it]"
     ]
    },
    {
     "name": "stdout",
     "output_type": "stream",
     "text": [
      "Successfully fetched: https://www.bleedingcool.com/2018/11/21/joker-sixth-scale-figure-sideshow-collectibles/\n"
     ]
    },
    {
     "name": "stderr",
     "output_type": "stream",
     "text": [
      "Scraping Progress:   6%|▌         | 477/8402 [13:50<3:17:08,  1.49s/it]"
     ]
    },
    {
     "name": "stdout",
     "output_type": "stream",
     "text": [
      "Successfully fetched: https://deadline.com/2018/08/michael-luisi-exit-wwe-studios-shakeup-vince-mcmahon-dwayne-johnson-fighting-with-my-family-michelle-wilson-1202451189/\n"
     ]
    },
    {
     "name": "stderr",
     "output_type": "stream",
     "text": [
      "Scraping Progress:   6%|▌         | 478/8402 [13:52<3:41:59,  1.68s/it]"
     ]
    },
    {
     "name": "stdout",
     "output_type": "stream",
     "text": [
      "Successfully fetched: http://www.neatorama.com/2018/01/04/Student-Life-at-the-Worlds-First-Medical-School-for-Women/\n"
     ]
    },
    {
     "name": "stderr",
     "output_type": "stream",
     "text": [
      "Scraping Progress:   6%|▌         | 479/8402 [13:54<3:36:48,  1.64s/it]"
     ]
    },
    {
     "name": "stdout",
     "output_type": "stream",
     "text": [
      "Cannot fetch https://nerdist.com/hot-toys-black-panther-figure/, HTTP error: 404 Client Error: Not Found for url: https://nerdist.com/hot-toys-black-panther-figure/\n"
     ]
    },
    {
     "name": "stderr",
     "output_type": "stream",
     "text": [
      "Scraping Progress:   6%|▌         | 480/8402 [13:56<3:41:31,  1.68s/it]"
     ]
    },
    {
     "name": "stdout",
     "output_type": "stream",
     "text": [
      "Successfully fetched: https://www.tomshw.it/culturapop/ezio-auditore-assassins-creed-la-statua-di-pure-arts/\n"
     ]
    },
    {
     "name": "stderr",
     "output_type": "stream",
     "text": [
      "Scraping Progress:   6%|▌         | 481/8402 [13:57<3:43:22,  1.69s/it]"
     ]
    },
    {
     "name": "stdout",
     "output_type": "stream",
     "text": [
      "Successfully fetched: https://www.bleedingcool.com/2018/05/15/exclusive-sideshow-collectibles-dc-premium-format-green-arrow/\n"
     ]
    },
    {
     "name": "stderr",
     "output_type": "stream",
     "text": [
      "Scraping Progress:   6%|▌         | 482/8402 [13:59<3:26:39,  1.57s/it]"
     ]
    },
    {
     "name": "stdout",
     "output_type": "stream",
     "text": [
      "Cannot fetch https://nerdist.com/avengers-infinity-war-captain-marvel-easter-egg-cull-obsidian/, HTTP error: 404 Client Error: Not Found for url: https://nerdist.com/avengers-infinity-war-captain-marvel-easter-egg-cull-obsidian/\n"
     ]
    },
    {
     "name": "stderr",
     "output_type": "stream",
     "text": [
      "Scraping Progress:   6%|▌         | 483/8402 [14:00<3:35:56,  1.64s/it]"
     ]
    },
    {
     "name": "stdout",
     "output_type": "stream",
     "text": [
      "Successfully fetched: https://www.rollingstone.com/tv/tv-lists/best-tv-shows-2018-sepinwall-760478/\n"
     ]
    },
    {
     "name": "stderr",
     "output_type": "stream",
     "text": [
      "Scraping Progress:   6%|▌         | 484/8402 [14:03<4:04:42,  1.85s/it]"
     ]
    },
    {
     "name": "stdout",
     "output_type": "stream",
     "text": [
      "Successfully fetched: https://www.bleedingcool.com/2018/06/06/wolverine-sideshow-life-size-bust/\n"
     ]
    },
    {
     "name": "stderr",
     "output_type": "stream",
     "text": [
      "Scraping Progress:   6%|▌         | 485/8402 [14:04<3:40:13,  1.67s/it]"
     ]
    },
    {
     "name": "stdout",
     "output_type": "stream",
     "text": [
      "Successfully fetched: https://www.bleedingcool.com/2018/06/22/star-wars-sideshow-premium-format-obi-wan-kenobi/\n"
     ]
    },
    {
     "name": "stderr",
     "output_type": "stream",
     "text": [
      "Scraping Progress:   6%|▌         | 486/8402 [14:05<3:26:03,  1.56s/it]"
     ]
    },
    {
     "name": "stdout",
     "output_type": "stream",
     "text": [
      "Cannot fetch https://www.politico.com/story/2018/03/22/ben-carson-furniture-response-877930, HTTP error: 403 Client Error: Forbidden for url: https://www.politico.com/story/2018/03/22/ben-carson-furniture-response-877930\n"
     ]
    },
    {
     "name": "stderr",
     "output_type": "stream",
     "text": [
      "Scraping Progress:   6%|▌         | 487/8402 [14:06<3:10:09,  1.44s/it]"
     ]
    },
    {
     "name": "stdout",
     "output_type": "stream",
     "text": [
      "Successfully fetched: https://news.yahoo.com/ap-exclusive-trump-ally-may-200838185.html\n"
     ]
    },
    {
     "name": "stderr",
     "output_type": "stream",
     "text": [
      "Scraping Progress:   6%|▌         | 488/8402 [14:08<3:25:34,  1.56s/it]"
     ]
    },
    {
     "name": "stdout",
     "output_type": "stream",
     "text": [
      "Successfully fetched: https://www.tomshw.it/culturapop/bayek-assassins-creed-la-spettacolare-statua-di-pure-arts/\n"
     ]
    },
    {
     "name": "stderr",
     "output_type": "stream",
     "text": [
      "Scraping Progress:   6%|▌         | 489/8402 [14:10<3:31:10,  1.60s/it]"
     ]
    },
    {
     "name": "stdout",
     "output_type": "stream",
     "text": [
      "Successfully fetched: https://www.tomshw.it/culturapop/altair-assassins-creed-da-pure-arts-una-statua-in-scala-1-4/\n"
     ]
    },
    {
     "name": "stderr",
     "output_type": "stream",
     "text": [
      "Scraping Progress:   6%|▌         | 490/8402 [14:12<3:34:31,  1.63s/it]"
     ]
    },
    {
     "name": "stdout",
     "output_type": "stream",
     "text": [
      "Cannot fetch https://abovethelaw.com/2019/05/steve-mnuchin-jail-treasury/, HTTP error: 403 Client Error: Forbidden for url: https://abovethelaw.com/2019/05/steve-mnuchin-jail-treasury/\n"
     ]
    },
    {
     "name": "stderr",
     "output_type": "stream",
     "text": [
      "Scraping Progress:   6%|▌         | 491/8402 [14:13<3:30:24,  1.60s/it]"
     ]
    },
    {
     "name": "stdout",
     "output_type": "stream",
     "text": [
      "Cannot fetch https://www.politico.com/story/2018/03/09/sam-nunberg-mueller-grand-jury-449274, HTTP error: 403 Client Error: Forbidden for url: https://www.politico.com/story/2018/03/09/sam-nunberg-mueller-grand-jury-449274\n"
     ]
    },
    {
     "name": "stderr",
     "output_type": "stream",
     "text": [
      "Scraping Progress:   6%|▌         | 492/8402 [14:14<3:10:56,  1.45s/it]"
     ]
    },
    {
     "name": "stdout",
     "output_type": "stream",
     "text": [
      "Successfully fetched: https://nerdist.com/alien-covenant-neomorph-head-statue/\n"
     ]
    },
    {
     "name": "stderr",
     "output_type": "stream",
     "text": [
      "Scraping Progress:   6%|▌         | 493/8402 [14:16<3:23:03,  1.54s/it]"
     ]
    },
    {
     "name": "stdout",
     "output_type": "stream",
     "text": [
      "Cannot fetch https://news.avclub.com/sarah-paulson-cant-tear-herself-away-from-stormy-daniel-1829486093, error: HTTPSConnectionPool(host='news.avclub.com', port=443): Max retries exceeded with url: /sarah-paulson-cant-tear-herself-away-from-stormy-daniel-1829486093 (Caused by NewConnectionError('<urllib3.connection.HTTPSConnection object at 0x1172782d0>: Failed to establish a new connection: [Errno 8] nodename nor servname provided, or not known'))\n"
     ]
    },
    {
     "name": "stderr",
     "output_type": "stream",
     "text": [
      "Scraping Progress:   6%|▌         | 494/8402 [14:17<3:02:00,  1.38s/it]"
     ]
    },
    {
     "name": "stdout",
     "output_type": "stream",
     "text": [
      "Successfully fetched: https://www.bleedingcool.com/2018/09/25/dc-comics-sideshow-batman-animated-series-statue/\n"
     ]
    },
    {
     "name": "stderr",
     "output_type": "stream",
     "text": [
      "Scraping Progress:   6%|▌         | 495/8402 [14:18<2:56:19,  1.34s/it]"
     ]
    },
    {
     "name": "stdout",
     "output_type": "stream",
     "text": [
      "Successfully fetched: https://www.bleedingcool.com/2019/10/22/vampirella-50th-anniversary-sideshow-statue/\n"
     ]
    },
    {
     "name": "stderr",
     "output_type": "stream",
     "text": [
      "Scraping Progress:   6%|▌         | 496/8402 [14:19<2:51:30,  1.30s/it]"
     ]
    },
    {
     "name": "stdout",
     "output_type": "stream",
     "text": [
      "Successfully fetched: https://www.bleedingcool.com/2019/09/28/deadpool-shows-it-all-with-new-bust-by-sideshow-collectibles/\n"
     ]
    },
    {
     "name": "stderr",
     "output_type": "stream",
     "text": [
      "Scraping Progress:   6%|▌         | 497/8402 [14:21<2:48:56,  1.28s/it]"
     ]
    },
    {
     "name": "stdout",
     "output_type": "stream",
     "text": [
      "Successfully fetched: https://www.bleedingcool.com/2019/10/26/wonder-woman-new-sideshow-collectibles-bust/\n"
     ]
    },
    {
     "name": "stderr",
     "output_type": "stream",
     "text": [
      "Scraping Progress:   6%|▌         | 498/8402 [14:22<2:47:08,  1.27s/it]"
     ]
    },
    {
     "name": "stdout",
     "output_type": "stream",
     "text": [
      "Successfully fetched: https://www.cbr.com/aquaman-jason-momoa-comics-accurate-costume-figure-debut/\n"
     ]
    },
    {
     "name": "stderr",
     "output_type": "stream",
     "text": [
      "Scraping Progress:   6%|▌         | 499/8402 [14:23<2:52:13,  1.31s/it]"
     ]
    },
    {
     "name": "stdout",
     "output_type": "stream",
     "text": [
      "Successfully fetched: https://screenrant.com/sideshow-mystique-figure-x-men/\n"
     ]
    },
    {
     "name": "stderr",
     "output_type": "stream",
     "text": [
      "Scraping Progress:   6%|▌         | 500/8402 [14:25<2:56:06,  1.34s/it]"
     ]
    },
    {
     "name": "stdout",
     "output_type": "stream",
     "text": [
      "Successfully fetched: https://screenrant.com/mystique-premium-figure-sideshow/\n"
     ]
    },
    {
     "name": "stderr",
     "output_type": "stream",
     "text": [
      "Scraping Progress:   6%|▌         | 501/8402 [14:26<2:55:37,  1.33s/it]"
     ]
    },
    {
     "name": "stdout",
     "output_type": "stream",
     "text": [
      "Successfully fetched: http://thebloggess.com/2019/10/16/completely-and-utterly-overwhelmed-in-a-good-way-mostly/\n"
     ]
    },
    {
     "name": "stderr",
     "output_type": "stream",
     "text": [
      "Scraping Progress:   6%|▌         | 502/8402 [14:29<4:17:29,  1.96s/it]"
     ]
    },
    {
     "name": "stdout",
     "output_type": "stream",
     "text": [
      "Successfully fetched: http://thebloggess.com/2019/10/01/awkward-in-another-language/\n"
     ]
    },
    {
     "name": "stderr",
     "output_type": "stream",
     "text": [
      "Scraping Progress:   6%|▌         | 503/8402 [14:32<4:43:50,  2.16s/it]"
     ]
    },
    {
     "name": "stdout",
     "output_type": "stream",
     "text": [
      "Successfully fetched: http://thebloggess.com/2019/10/24/i-hate-it-when-hes-right/\n"
     ]
    },
    {
     "name": "stderr",
     "output_type": "stream",
     "text": [
      "Scraping Progress:   6%|▌         | 504/8402 [14:34<4:43:57,  2.16s/it]"
     ]
    },
    {
     "name": "stdout",
     "output_type": "stream",
     "text": [
      "Cannot fetch https://www.infowars.com/clown-world-debate-sideshow-launches-circus-of-memes/, HTTP error: 403 Client Error: Forbidden for url: https://www.infowars.com/clown-world-debate-sideshow-launches-circus-of-memes/\n"
     ]
    },
    {
     "name": "stderr",
     "output_type": "stream",
     "text": [
      "Scraping Progress:   6%|▌         | 505/8402 [14:35<4:04:17,  1.86s/it]"
     ]
    },
    {
     "name": "stdout",
     "output_type": "stream",
     "text": [
      "Cannot fetch https://www.politico.com/story/2018/07/18/jared-kushner-dnc-lawyers-court-summons-731593, HTTP error: 403 Client Error: Forbidden for url: https://www.politico.com/story/2018/07/18/jared-kushner-dnc-lawyers-court-summons-731593\n"
     ]
    },
    {
     "name": "stderr",
     "output_type": "stream",
     "text": [
      "Scraping Progress:   6%|▌         | 506/8402 [14:37<3:34:47,  1.63s/it]"
     ]
    },
    {
     "name": "stdout",
     "output_type": "stream",
     "text": [
      "Successfully fetched: http://www.espnfc.com/club/arsenal/359/blog/post/3607853/jack-wilshere-arsenal-return-a-sideshow-as-unai-emery-era-needs-a-kickstart\n"
     ]
    },
    {
     "name": "stderr",
     "output_type": "stream",
     "text": [
      "Scraping Progress:   6%|▌         | 507/8402 [14:38<3:25:22,  1.56s/it]"
     ]
    },
    {
     "name": "stdout",
     "output_type": "stream",
     "text": [
      "Successfully fetched: https://www.bleedingcool.com/2019/08/09/sideshow-collectibles-brings-batman-beyond-to-the-present/\n"
     ]
    },
    {
     "name": "stderr",
     "output_type": "stream",
     "text": [
      "Scraping Progress:   6%|▌         | 508/8402 [14:39<3:12:19,  1.46s/it]"
     ]
    },
    {
     "name": "stdout",
     "output_type": "stream",
     "text": [
      "Successfully fetched: https://www.espn.com/soccer/blog-marcottis-musings/story/3964796/germanys-new-look-team-pass-another-easy-test-plus-why-zlatan-could-return-to-europe\n"
     ]
    },
    {
     "name": "stderr",
     "output_type": "stream",
     "text": [
      "Scraping Progress:   6%|▌         | 509/8402 [14:41<3:10:33,  1.45s/it]"
     ]
    },
    {
     "name": "stdout",
     "output_type": "stream",
     "text": [
      "Successfully fetched: https://www.theatlantic.com/ideas/archive/2019/05/watchdog-ben-carsons-table-spending-broke-law/589804/\n"
     ]
    },
    {
     "name": "stderr",
     "output_type": "stream",
     "text": [
      "Scraping Progress:   6%|▌         | 510/8402 [14:42<3:12:56,  1.47s/it]"
     ]
    },
    {
     "name": "stdout",
     "output_type": "stream",
     "text": [
      "Successfully fetched: https://www.theatlantic.com/entertainment/archive/2019/07/womens-world-cup-final-boon-equal-pay/593419/\n"
     ]
    },
    {
     "name": "stderr",
     "output_type": "stream",
     "text": [
      "Scraping Progress:   6%|▌         | 511/8402 [14:44<3:21:54,  1.54s/it]"
     ]
    },
    {
     "name": "stdout",
     "output_type": "stream",
     "text": [
      "Successfully fetched: https://www.theatlantic.com/entertainment/archive/2019/10/killing-joke-and-joker/599512/\n"
     ]
    },
    {
     "name": "stderr",
     "output_type": "stream",
     "text": [
      "Scraping Progress:   6%|▌         | 512/8402 [14:45<3:06:37,  1.42s/it]"
     ]
    },
    {
     "name": "stdout",
     "output_type": "stream",
     "text": [
      "Successfully fetched: https://www.bleedingcool.com/2019/09/28/superman-is-the-worlds-finest-in-a-new-sideshow-collectibles-figure/\n"
     ]
    },
    {
     "name": "stderr",
     "output_type": "stream",
     "text": [
      "Scraping Progress:   6%|▌         | 513/8402 [14:46<3:00:19,  1.37s/it]"
     ]
    },
    {
     "name": "stdout",
     "output_type": "stream",
     "text": [
      "Successfully fetched: https://www.bleedingcool.com/2019/09/14/black-cat-is-stealing-our-hearts-with-new-sideshow-collectibles-statue/\n"
     ]
    },
    {
     "name": "stderr",
     "output_type": "stream",
     "text": [
      "Scraping Progress:   6%|▌         | 514/8402 [14:47<2:56:09,  1.34s/it]"
     ]
    },
    {
     "name": "stdout",
     "output_type": "stream",
     "text": [
      "Successfully fetched: https://www.bleedingcool.com/2019/09/01/gambit-enters-the-danger-room-with-new-sideshow-collectible-statue/\n"
     ]
    },
    {
     "name": "stderr",
     "output_type": "stream",
     "text": [
      "Scraping Progress:   6%|▌         | 515/8402 [14:49<2:51:32,  1.30s/it]"
     ]
    },
    {
     "name": "stdout",
     "output_type": "stream",
     "text": [
      "Successfully fetched: https://www.bleedingcool.com/2019/08/02/scarecrow-premium-format-figure-sideshow-collectibles/\n"
     ]
    },
    {
     "name": "stderr",
     "output_type": "stream",
     "text": [
      "Scraping Progress:   6%|▌         | 516/8402 [14:50<2:49:11,  1.29s/it]"
     ]
    },
    {
     "name": "stdout",
     "output_type": "stream",
     "text": [
      "Successfully fetched: https://www.bleedingcool.com/2019/10/30/black-widow-sideshow-collectible-statue/\n"
     ]
    },
    {
     "name": "stderr",
     "output_type": "stream",
     "text": [
      "Scraping Progress:   6%|▌         | 517/8402 [14:51<2:47:51,  1.28s/it]"
     ]
    },
    {
     "name": "stdout",
     "output_type": "stream",
     "text": [
      "Successfully fetched: http://thebloggess.com/2019/10/11/yall-are-too-damn-talented-but-im-not-complaining/\n"
     ]
    },
    {
     "name": "stderr",
     "output_type": "stream",
     "text": [
      "Scraping Progress:   6%|▌         | 518/8402 [14:54<3:42:39,  1.69s/it]"
     ]
    },
    {
     "name": "stdout",
     "output_type": "stream",
     "text": [
      "Successfully fetched: http://thebloggess.com/2019/10/08/you-are-needed-no-matter-what/\n"
     ]
    },
    {
     "name": "stderr",
     "output_type": "stream",
     "text": [
      "Scraping Progress:   6%|▌         | 519/8402 [14:56<4:00:33,  1.83s/it]"
     ]
    },
    {
     "name": "stdout",
     "output_type": "stream",
     "text": [
      "Successfully fetched: http://thebloggess.com/2019/10/15/welcome-to-nowhere/\n"
     ]
    },
    {
     "name": "stderr",
     "output_type": "stream",
     "text": [
      "Scraping Progress:   6%|▌         | 520/8402 [14:59<4:33:22,  2.08s/it]"
     ]
    },
    {
     "name": "stdout",
     "output_type": "stream",
     "text": [
      "Successfully fetched: http://thebloggess.com/2019/10/25/i-shouldnt-be-allowed-to-text/\n"
     ]
    },
    {
     "name": "stderr",
     "output_type": "stream",
     "text": [
      "Scraping Progress:   6%|▌         | 521/8402 [15:01<4:48:29,  2.20s/it]"
     ]
    },
    {
     "name": "stdout",
     "output_type": "stream",
     "text": [
      "Successfully fetched: https://hypebeast.com/2019/11/best-artworks-releasing-november-2019-week-3\n"
     ]
    },
    {
     "name": "stderr",
     "output_type": "stream",
     "text": [
      "Scraping Progress:   6%|▌         | 522/8402 [15:03<4:39:32,  2.13s/it]"
     ]
    },
    {
     "name": "stdout",
     "output_type": "stream",
     "text": [
      "Successfully fetched: https://www.bleedingcool.com/2018/08/01/check-out-sideshow-collectables-new-x-men-rogue-maquette/\n"
     ]
    },
    {
     "name": "stderr",
     "output_type": "stream",
     "text": [
      "Scraping Progress:   6%|▌         | 523/8402 [15:04<4:07:04,  1.88s/it]"
     ]
    },
    {
     "name": "stdout",
     "output_type": "stream",
     "text": [
      "Successfully fetched: http://thebloggess.com/2019/09/25/baggage/\n"
     ]
    },
    {
     "name": "stderr",
     "output_type": "stream",
     "text": [
      "Scraping Progress:   6%|▌         | 524/8402 [15:07<4:28:48,  2.05s/it]"
     ]
    },
    {
     "name": "stdout",
     "output_type": "stream",
     "text": [
      "Successfully fetched: http://thebloggess.com/2019/10/03/going-nowhere-slowly/\n"
     ]
    },
    {
     "name": "stderr",
     "output_type": "stream",
     "text": [
      "Scraping Progress:   6%|▌         | 525/8402 [15:10<5:12:17,  2.38s/it]"
     ]
    },
    {
     "name": "stdout",
     "output_type": "stream",
     "text": [
      "Successfully fetched: http://thebloggess.com/2019/09/29/happy-birthday/\n"
     ]
    },
    {
     "name": "stderr",
     "output_type": "stream",
     "text": [
      "Scraping Progress:   6%|▋         | 526/8402 [15:12<5:06:07,  2.33s/it]"
     ]
    },
    {
     "name": "stdout",
     "output_type": "stream",
     "text": [
      "Successfully fetched: http://thebloggess.com/2019/09/20/all-the-high-fives/\n"
     ]
    },
    {
     "name": "stderr",
     "output_type": "stream",
     "text": [
      "Scraping Progress:   6%|▋         | 527/8402 [15:15<5:19:32,  2.43s/it]"
     ]
    },
    {
     "name": "stdout",
     "output_type": "stream",
     "text": [
      "Successfully fetched: http://thebloggess.com/2019/10/22/if-we-are-our-dreams-im-fucked/\n"
     ]
    },
    {
     "name": "stderr",
     "output_type": "stream",
     "text": [
      "Scraping Progress:   6%|▋         | 528/8402 [15:18<5:36:25,  2.56s/it]"
     ]
    },
    {
     "name": "stdout",
     "output_type": "stream",
     "text": [
      "Successfully fetched: http://thebloggess.com/2019/10/13/the-most-metal-capricorn-ever/\n"
     ]
    },
    {
     "name": "stderr",
     "output_type": "stream",
     "text": [
      "Scraping Progress:   6%|▋         | 529/8402 [15:20<5:41:21,  2.60s/it]"
     ]
    },
    {
     "name": "stdout",
     "output_type": "stream",
     "text": [
      "Successfully fetched: http://thebloggess.com/2019/10/28/a-little-mouse-makeover/\n"
     ]
    },
    {
     "name": "stderr",
     "output_type": "stream",
     "text": [
      "Scraping Progress:   6%|▋         | 530/8402 [15:23<5:38:13,  2.58s/it]"
     ]
    },
    {
     "name": "stdout",
     "output_type": "stream",
     "text": [
      "Successfully fetched: http://thebloggess.com/2019/10/30/scare-me/\n"
     ]
    },
    {
     "name": "stderr",
     "output_type": "stream",
     "text": [
      "Scraping Progress:   6%|▋         | 531/8402 [15:26<5:38:01,  2.58s/it]"
     ]
    },
    {
     "name": "stdout",
     "output_type": "stream",
     "text": [
      "Successfully fetched: http://thebloggess.com/2019/10/31/happy-halloween-2/\n"
     ]
    },
    {
     "name": "stderr",
     "output_type": "stream",
     "text": [
      "Scraping Progress:   6%|▋         | 532/8402 [15:28<5:31:20,  2.53s/it]"
     ]
    },
    {
     "name": "stdout",
     "output_type": "stream",
     "text": [
      "Successfully fetched: https://www.dailydot.com/layer8/republicans-sideshow-bob-defense-the-simpsons/\n"
     ]
    },
    {
     "name": "stderr",
     "output_type": "stream",
     "text": [
      "Scraping Progress:   6%|▋         | 533/8402 [15:30<5:13:20,  2.39s/it]"
     ]
    },
    {
     "name": "stdout",
     "output_type": "stream",
     "text": [
      "Successfully fetched: https://www.bleedingcool.com/2018/07/05/emma-frost-premium-format-figure-sideshow-collectibles/\n"
     ]
    },
    {
     "name": "stderr",
     "output_type": "stream",
     "text": [
      "Scraping Progress:   6%|▋         | 534/8402 [15:31<4:28:26,  2.05s/it]"
     ]
    },
    {
     "name": "stdout",
     "output_type": "stream",
     "text": [
      "Successfully fetched: https://www.bleedingcool.com/2018/07/05/star-wars-life-size-bb-8-sideshow-collectibles/\n"
     ]
    },
    {
     "name": "stderr",
     "output_type": "stream",
     "text": [
      "Scraping Progress:   6%|▋         | 535/8402 [15:32<3:56:09,  1.80s/it]"
     ]
    },
    {
     "name": "stdout",
     "output_type": "stream",
     "text": [
      "Successfully fetched: http://rapradar.com/2019/09/16/new-video-lndn-drgs-ft-conway-the-machine-sideshow/\n"
     ]
    },
    {
     "name": "stderr",
     "output_type": "stream",
     "text": [
      "Scraping Progress:   6%|▋         | 536/8402 [15:34<3:43:25,  1.70s/it]"
     ]
    },
    {
     "name": "stdout",
     "output_type": "stream",
     "text": [
      "Successfully fetched: https://www.duluthnewstribune.com/sports/football/4633460-Report-Womens-soccer-star-Lloyd-has-offer-to-kick-in-NFL-game\n"
     ]
    },
    {
     "name": "stderr",
     "output_type": "stream",
     "text": [
      "Scraping Progress:   6%|▋         | 537/8402 [15:36<4:06:23,  1.88s/it]"
     ]
    },
    {
     "name": "stdout",
     "output_type": "stream",
     "text": [
      "Successfully fetched: https://www.bleedingcool.com/2019/10/20/cyclops-gives-us-a-90s-throwback-with-this-new-sideshow-statue/\n"
     ]
    },
    {
     "name": "stderr",
     "output_type": "stream",
     "text": [
      "Scraping Progress:   6%|▋         | 538/8402 [15:38<3:43:12,  1.70s/it]"
     ]
    },
    {
     "name": "stdout",
     "output_type": "stream",
     "text": [
      "Cannot fetch https://www.infowars.com/the-vice-presidents-men/, HTTP error: 403 Client Error: Forbidden for url: https://www.infowars.com/the-vice-presidents-men/\n"
     ]
    },
    {
     "name": "stderr",
     "output_type": "stream",
     "text": [
      "Scraping Progress:   6%|▋         | 539/8402 [15:39<3:19:51,  1.53s/it]"
     ]
    },
    {
     "name": "stdout",
     "output_type": "stream",
     "text": [
      "Successfully fetched: http://meljoulwan.com/2018/09/18/sideshow-prague/\n"
     ]
    },
    {
     "name": "stderr",
     "output_type": "stream",
     "text": [
      "Scraping Progress:   6%|▋         | 540/8402 [15:41<4:06:15,  1.88s/it]"
     ]
    },
    {
     "name": "stdout",
     "output_type": "stream",
     "text": [
      "Cannot fetch https://www.marketwatch.com/story/as-michael-cohen-goes-to-jail-trump-goes-to-the-wall-2018-12-12, HTTP error: 401 Client Error: HTTP Forbidden for url: https://www.marketwatch.com/story/as-michael-cohen-goes-to-jail-trump-goes-to-the-wall-2018-12-12\n"
     ]
    },
    {
     "name": "stderr",
     "output_type": "stream",
     "text": [
      "Scraping Progress:   6%|▋         | 541/8402 [15:43<3:38:59,  1.67s/it]"
     ]
    },
    {
     "name": "stdout",
     "output_type": "stream",
     "text": [
      "Successfully fetched: https://www.bleedingcool.com/2018/07/18/boba-fett-mythos-figure-sideshow/\n"
     ]
    },
    {
     "name": "stderr",
     "output_type": "stream",
     "text": [
      "Scraping Progress:   6%|▋         | 542/8402 [15:44<3:22:04,  1.54s/it]"
     ]
    },
    {
     "name": "stdout",
     "output_type": "stream",
     "text": [
      "Successfully fetched: https://www.bleedingcool.com/2018/07/20/50-pics-from-sideshow-collectibles-booth-sdcc/\n"
     ]
    },
    {
     "name": "stderr",
     "output_type": "stream",
     "text": [
      "Scraping Progress:   6%|▋         | 543/8402 [15:45<3:11:00,  1.46s/it]"
     ]
    },
    {
     "name": "stdout",
     "output_type": "stream",
     "text": [
      "Cannot fetch https://cleantechnica.com/2018/12/07/trumps-coal-sideshow-set-to-proceed-at-cop24/, HTTP error: 403 Client Error: Forbidden for url: https://cleantechnica.com/2018/12/07/trumps-coal-sideshow-set-to-proceed-at-cop24/\n"
     ]
    },
    {
     "name": "stderr",
     "output_type": "stream",
     "text": [
      "Scraping Progress:   6%|▋         | 544/8402 [15:46<3:01:12,  1.38s/it]"
     ]
    },
    {
     "name": "stdout",
     "output_type": "stream",
     "text": [
      "Cannot fetch https://cleantechnica.com/2018/12/12/hecklers-protestors-shout-down-trumps-laughable-coal-sideshow-at-cop24/, HTTP error: 403 Client Error: Forbidden for url: https://cleantechnica.com/2018/12/12/hecklers-protestors-shout-down-trumps-laughable-coal-sideshow-at-cop24/\n"
     ]
    },
    {
     "name": "stderr",
     "output_type": "stream",
     "text": [
      "Scraping Progress:   6%|▋         | 545/8402 [15:48<2:58:20,  1.36s/it]"
     ]
    },
    {
     "name": "stdout",
     "output_type": "stream",
     "text": [
      "Successfully fetched: https://www.yahoo.com/news/turkish-lira-slides-record-low-045953172.html\n"
     ]
    },
    {
     "name": "stderr",
     "output_type": "stream",
     "text": [
      "Scraping Progress:   6%|▋         | 546/8402 [15:49<3:07:41,  1.43s/it]"
     ]
    },
    {
     "name": "stdout",
     "output_type": "stream",
     "text": [
      "Successfully fetched: http://thechive.com/2018/01/24/shut-up-and-take-my-money-32/\n"
     ]
    },
    {
     "name": "stderr",
     "output_type": "stream",
     "text": [
      "Scraping Progress:   7%|▋         | 547/8402 [15:51<3:13:29,  1.48s/it]"
     ]
    },
    {
     "name": "stdout",
     "output_type": "stream",
     "text": [
      "Successfully fetched: http://www.espn.com/blog/carolina-panthers/post/_/id/31776/julius-peppers-should-be-no-brainer-as-first-ballot-hall-of-famer\n"
     ]
    },
    {
     "name": "stderr",
     "output_type": "stream",
     "text": [
      "Scraping Progress:   7%|▋         | 548/8402 [15:52<3:23:06,  1.55s/it]"
     ]
    },
    {
     "name": "stdout",
     "output_type": "stream",
     "text": [
      "Successfully fetched: http://thebloggess.com/2019/12/29/happy-birthday-to-us-all/\n"
     ]
    },
    {
     "name": "stderr",
     "output_type": "stream",
     "text": [
      "Scraping Progress:   7%|▋         | 549/8402 [15:55<3:53:33,  1.78s/it]"
     ]
    },
    {
     "name": "stdout",
     "output_type": "stream",
     "text": [
      "Successfully fetched: http://thebloggess.com/2019/11/04/lets-pretend-this-is-sunday/\n"
     ]
    },
    {
     "name": "stderr",
     "output_type": "stream",
     "text": [
      "Scraping Progress:   7%|▋         | 550/8402 [15:57<4:06:11,  1.88s/it]"
     ]
    },
    {
     "name": "stdout",
     "output_type": "stream",
     "text": [
      "Successfully fetched: http://thebloggess.com/2019/11/29/lovely-free-gifts-from-nowhere/\n"
     ]
    },
    {
     "name": "stderr",
     "output_type": "stream",
     "text": [
      "Scraping Progress:   7%|▋         | 551/8402 [15:59<4:19:02,  1.98s/it]"
     ]
    },
    {
     "name": "stdout",
     "output_type": "stream",
     "text": [
      "Successfully fetched: http://thebloggess.com/2019/12/26/revenge-is-a-dish-best-served-meowing/\n"
     ]
    },
    {
     "name": "stderr",
     "output_type": "stream",
     "text": [
      "Scraping Progress:   7%|▋         | 552/8402 [16:02<4:38:22,  2.13s/it]"
     ]
    },
    {
     "name": "stdout",
     "output_type": "stream",
     "text": [
      "Successfully fetched: http://thebloggess.com/2019/12/12/books/\n"
     ]
    },
    {
     "name": "stderr",
     "output_type": "stream",
     "text": [
      "Scraping Progress:   7%|▋         | 553/8402 [16:04<4:55:17,  2.26s/it]"
     ]
    },
    {
     "name": "stdout",
     "output_type": "stream",
     "text": [
      "Successfully fetched: http://thebloggess.com/2019/12/03/a-little-present-for-you/\n"
     ]
    },
    {
     "name": "stderr",
     "output_type": "stream",
     "text": [
      "Scraping Progress:   7%|▋         | 554/8402 [16:06<4:57:00,  2.27s/it]"
     ]
    },
    {
     "name": "stdout",
     "output_type": "stream",
     "text": [
      "Successfully fetched: https://www.slashfilm.com/star-wars-galaxys-edge-merchandise-2/\n"
     ]
    },
    {
     "name": "stderr",
     "output_type": "stream",
     "text": [
      "Scraping Progress:   7%|▋         | 555/8402 [16:08<4:38:57,  2.13s/it]"
     ]
    },
    {
     "name": "stdout",
     "output_type": "stream",
     "text": [
      "Successfully fetched: https://www.americanthinker.com/articles/2018/09/fake_rape_victims_are_more_fun_than_real_ones.html\n"
     ]
    },
    {
     "name": "stderr",
     "output_type": "stream",
     "text": [
      "Scraping Progress:   7%|▋         | 556/8402 [16:09<4:02:35,  1.86s/it]"
     ]
    },
    {
     "name": "stdout",
     "output_type": "stream",
     "text": [
      "Successfully fetched: http://thebloggess.com/2019/11/13/well-that-was-awkward/\n"
     ]
    },
    {
     "name": "stderr",
     "output_type": "stream",
     "text": [
      "Scraping Progress:   7%|▋         | 557/8402 [16:12<4:45:29,  2.18s/it]"
     ]
    },
    {
     "name": "stdout",
     "output_type": "stream",
     "text": [
      "Successfully fetched: http://thebloggess.com/2019/11/18/things-i-hate-that-everyone-else-loves/\n"
     ]
    },
    {
     "name": "stderr",
     "output_type": "stream",
     "text": [
      "Scraping Progress:   7%|▋         | 558/8402 [16:17<6:34:23,  3.02s/it]"
     ]
    },
    {
     "name": "stdout",
     "output_type": "stream",
     "text": [
      "Successfully fetched: http://thebloggess.com/2019/11/21/the-terrible-things-we-love/\n"
     ]
    },
    {
     "name": "stderr",
     "output_type": "stream",
     "text": [
      "Scraping Progress:   7%|▋         | 559/8402 [16:21<7:07:30,  3.27s/it]"
     ]
    },
    {
     "name": "stdout",
     "output_type": "stream",
     "text": [
      "Successfully fetched: http://thebloggess.com/2019/11/06/never-change-japan/\n"
     ]
    },
    {
     "name": "stderr",
     "output_type": "stream",
     "text": [
      "Scraping Progress:   7%|▋         | 560/8402 [16:24<6:39:22,  3.06s/it]"
     ]
    },
    {
     "name": "stdout",
     "output_type": "stream",
     "text": [
      "Successfully fetched: http://thebloggess.com/2019/12/17/butthole-sunbathing/\n"
     ]
    },
    {
     "name": "stderr",
     "output_type": "stream",
     "text": [
      "Scraping Progress:   7%|▋         | 561/8402 [16:26<6:12:44,  2.85s/it]"
     ]
    },
    {
     "name": "stdout",
     "output_type": "stream",
     "text": [
      "Successfully fetched: http://www.espnfc.com/team/mexico/203/blog/post/3626836/time-will-tell-if-diego-maradonas-move-to-dorados-is-legit-or-a-sideshow\n"
     ]
    },
    {
     "name": "stderr",
     "output_type": "stream",
     "text": [
      "Scraping Progress:   7%|▋         | 562/8402 [16:27<5:08:29,  2.36s/it]"
     ]
    },
    {
     "name": "stdout",
     "output_type": "stream",
     "text": [
      "Successfully fetched: https://www.bleedingcool.com/2019/11/15/wonder-woman-gets-real-with-new-figure-from-sideshow-collectibles/\n"
     ]
    },
    {
     "name": "stderr",
     "output_type": "stream",
     "text": [
      "Scraping Progress:   7%|▋         | 563/8402 [16:29<4:29:44,  2.06s/it]"
     ]
    },
    {
     "name": "stdout",
     "output_type": "stream",
     "text": [
      "Successfully fetched: https://www.bleedingcool.com/2019/12/17/james-dean-statue-sideshow-collectibles/\n"
     ]
    },
    {
     "name": "stderr",
     "output_type": "stream",
     "text": [
      "Scraping Progress:   7%|▋         | 564/8402 [16:30<3:57:47,  1.82s/it]"
     ]
    },
    {
     "name": "stdout",
     "output_type": "stream",
     "text": [
      "Successfully fetched: https://www.bleedingcool.com/2019/12/28/superman-call-to-action-statue/\n"
     ]
    },
    {
     "name": "stderr",
     "output_type": "stream",
     "text": [
      "Scraping Progress:   7%|▋         | 565/8402 [16:31<3:34:33,  1.64s/it]"
     ]
    },
    {
     "name": "stdout",
     "output_type": "stream",
     "text": [
      "Successfully fetched: https://screenrant.com/sideshow-toys-jim-lee-hush-batman-statue/\n"
     ]
    },
    {
     "name": "stderr",
     "output_type": "stream",
     "text": [
      "Scraping Progress:   7%|▋         | 566/8402 [16:33<3:21:06,  1.54s/it]"
     ]
    },
    {
     "name": "stdout",
     "output_type": "stream",
     "text": [
      "Cannot fetch https://www.wsj.com/articles/walter-ralegh-architect-of-empire-review-the-enlightened-adventurer-11573229189, HTTP error: 401 Client Error: HTTP Forbidden for url: https://www.wsj.com/articles/walter-ralegh-architect-of-empire-review-the-enlightened-adventurer-11573229189\n"
     ]
    },
    {
     "name": "stderr",
     "output_type": "stream",
     "text": [
      "Scraping Progress:   7%|▋         | 567/8402 [16:34<3:07:05,  1.43s/it]"
     ]
    },
    {
     "name": "stdout",
     "output_type": "stream",
     "text": [
      "Successfully fetched: http://thebloggess.com/2018/05/17/the-first-meeting-of-the-bloggess-book-club/\n"
     ]
    },
    {
     "name": "stderr",
     "output_type": "stream",
     "text": [
      "Scraping Progress:   7%|▋         | 568/8402 [16:36<3:37:22,  1.66s/it]"
     ]
    },
    {
     "name": "stdout",
     "output_type": "stream",
     "text": [
      "Successfully fetched: http://thebloggess.com/2018/01/30/ow-2/\n"
     ]
    },
    {
     "name": "stderr",
     "output_type": "stream",
     "text": [
      "Scraping Progress:   7%|▋         | 569/8402 [16:38<4:11:46,  1.93s/it]"
     ]
    },
    {
     "name": "stdout",
     "output_type": "stream",
     "text": [
      "Successfully fetched: http://thebloggess.com/2018/01/26/i-want-a-baby/\n"
     ]
    },
    {
     "name": "stderr",
     "output_type": "stream",
     "text": [
      "Scraping Progress:   7%|▋         | 570/8402 [16:41<4:32:48,  2.09s/it]"
     ]
    },
    {
     "name": "stdout",
     "output_type": "stream",
     "text": [
      "Successfully fetched: http://thebloggess.com/2018/01/01/borken/\n"
     ]
    },
    {
     "name": "stderr",
     "output_type": "stream",
     "text": [
      "Scraping Progress:   7%|▋         | 571/8402 [16:43<4:47:50,  2.21s/it]"
     ]
    },
    {
     "name": "stdout",
     "output_type": "stream",
     "text": [
      "Successfully fetched: https://www.pcgamer.com/discover-the-hidden-horrors-of-fallout-76-in-the-tales-from-the-west-virginia-hills/\n"
     ]
    },
    {
     "name": "stderr",
     "output_type": "stream",
     "text": [
      "Scraping Progress:   7%|▋         | 572/8402 [16:45<4:13:54,  1.95s/it]"
     ]
    },
    {
     "name": "stdout",
     "output_type": "stream",
     "text": [
      "Successfully fetched: https://screenrant.com/captain-america-600-lithograph-alex-ross/\n"
     ]
    },
    {
     "name": "stderr",
     "output_type": "stream",
     "text": [
      "Scraping Progress:   7%|▋         | 573/8402 [16:46<3:48:37,  1.75s/it]"
     ]
    },
    {
     "name": "stdout",
     "output_type": "stream",
     "text": [
      "Successfully fetched: https://www.theatlantic.com/international/archive/2018/11/senate-considers-withdrawing-support-saudis-yemen/576820/\n"
     ]
    },
    {
     "name": "stderr",
     "output_type": "stream",
     "text": [
      "Scraping Progress:   7%|▋         | 574/8402 [16:48<3:41:57,  1.70s/it]"
     ]
    },
    {
     "name": "stdout",
     "output_type": "stream",
     "text": [
      "Successfully fetched: https://www.pbs.org/newshour/show/are-the-russia-probe-memos-a-sideshow\n"
     ]
    },
    {
     "name": "stderr",
     "output_type": "stream",
     "text": [
      "Scraping Progress:   7%|▋         | 575/8402 [16:50<3:56:41,  1.81s/it]"
     ]
    },
    {
     "name": "stdout",
     "output_type": "stream",
     "text": [
      "Successfully fetched: https://www.cbr.com/avengers-infinity-war-hot-toys-where-find/\n"
     ]
    },
    {
     "name": "stderr",
     "output_type": "stream",
     "text": [
      "Scraping Progress:   7%|▋         | 576/8402 [16:51<3:34:49,  1.65s/it]"
     ]
    },
    {
     "name": "stdout",
     "output_type": "stream",
     "text": [
      "Successfully fetched: https://www.rockpapershotgun.com/2018/11/15/fallout-76-atoms-challenges-to-complete-to-get-atoms-quickly-3/\n"
     ]
    },
    {
     "name": "stderr",
     "output_type": "stream",
     "text": [
      "Scraping Progress:   7%|▋         | 577/8402 [16:53<3:42:09,  1.70s/it]"
     ]
    },
    {
     "name": "stdout",
     "output_type": "stream",
     "text": [
      "Successfully fetched: https://www.slashfilm.com/star-wars-bits-revelations-from-the-pages-of-star-wars-comics-classic-film-influences-and-ewan-mcgregor-geeks-out/\n"
     ]
    },
    {
     "name": "stderr",
     "output_type": "stream",
     "text": [
      "Scraping Progress:   7%|▋         | 578/8402 [16:55<4:10:37,  1.92s/it]"
     ]
    },
    {
     "name": "stdout",
     "output_type": "stream",
     "text": [
      "Successfully fetched: https://www.bleedingcool.com/2019/12/26/doctor-strange-sideshow-statue-first-look/\n"
     ]
    },
    {
     "name": "stderr",
     "output_type": "stream",
     "text": [
      "Scraping Progress:   7%|▋         | 579/8402 [16:56<3:43:30,  1.71s/it]"
     ]
    },
    {
     "name": "stdout",
     "output_type": "stream",
     "text": [
      "Successfully fetched: https://www.bleedingcool.com/2019/12/31/sideshow-collectibles-original-statue-series-2020/\n"
     ]
    },
    {
     "name": "stderr",
     "output_type": "stream",
     "text": [
      "Scraping Progress:   7%|▋         | 580/8402 [16:58<3:25:00,  1.57s/it]"
     ]
    },
    {
     "name": "stdout",
     "output_type": "stream",
     "text": [
      "Successfully fetched: https://www.bleedingcool.com/2019/12/11/darth-sidious-sideshow-collectibles-statue/\n"
     ]
    },
    {
     "name": "stderr",
     "output_type": "stream",
     "text": [
      "Scraping Progress:   7%|▋         | 581/8402 [16:59<3:11:23,  1.47s/it]"
     ]
    },
    {
     "name": "stdout",
     "output_type": "stream",
     "text": [
      "Successfully fetched: https://www.bleedingcool.com/2019/12/12/wolverine-sixth-scale-figure-from-sideshow/\n"
     ]
    },
    {
     "name": "stderr",
     "output_type": "stream",
     "text": [
      "Scraping Progress:   7%|▋         | 582/8402 [17:00<3:03:07,  1.41s/it]"
     ]
    },
    {
     "name": "stdout",
     "output_type": "stream",
     "text": [
      "Successfully fetched: http://thebloggess.com/2018/03/09/i-think-i-found-what-i-want-on-my-tombstone/\n"
     ]
    },
    {
     "name": "stderr",
     "output_type": "stream",
     "text": [
      "Scraping Progress:   7%|▋         | 583/8402 [17:03<3:46:32,  1.74s/it]"
     ]
    },
    {
     "name": "stdout",
     "output_type": "stream",
     "text": [
      "Successfully fetched: http://thebloggess.com/2018/03/07/why-are-there-penises-all-over-the-garage-an-attempted-explanation/\n"
     ]
    },
    {
     "name": "stderr",
     "output_type": "stream",
     "text": [
      "Scraping Progress:   7%|▋         | 584/8402 [17:05<4:09:22,  1.91s/it]"
     ]
    },
    {
     "name": "stdout",
     "output_type": "stream",
     "text": [
      "Successfully fetched: http://thebloggess.com/2018/03/01/break-all-your-legs/\n"
     ]
    },
    {
     "name": "stderr",
     "output_type": "stream",
     "text": [
      "Scraping Progress:   7%|▋         | 585/8402 [17:08<4:41:16,  2.16s/it]"
     ]
    },
    {
     "name": "stdout",
     "output_type": "stream",
     "text": [
      "Successfully fetched: https://www.bleedingcool.com/2019/11/30/asajj-ventress-star-wars-statue-sideshow/\n"
     ]
    },
    {
     "name": "stderr",
     "output_type": "stream",
     "text": [
      "Scraping Progress:   7%|▋         | 586/8402 [17:09<4:04:26,  1.88s/it]"
     ]
    },
    {
     "name": "stdout",
     "output_type": "stream",
     "text": [
      "Successfully fetched: https://www.bleedingcool.com/2019/12/31/harley-quinn-hell-on-wheels-sideshow-collectibles-statue/\n"
     ]
    },
    {
     "name": "stderr",
     "output_type": "stream",
     "text": [
      "Scraping Progress:   7%|▋         | 587/8402 [17:10<3:39:20,  1.68s/it]"
     ]
    },
    {
     "name": "stdout",
     "output_type": "stream",
     "text": [
      "Successfully fetched: http://thebloggess.com/2018/04/25/lets-be-friends/\n"
     ]
    },
    {
     "name": "stderr",
     "output_type": "stream",
     "text": [
      "Scraping Progress:   7%|▋         | 588/8402 [17:14<4:59:16,  2.30s/it]"
     ]
    },
    {
     "name": "stdout",
     "output_type": "stream",
     "text": [
      "Successfully fetched: http://thebloggess.com/2018/04/30/bloggess-book-club/\n"
     ]
    },
    {
     "name": "stderr",
     "output_type": "stream",
     "text": [
      "Scraping Progress:   7%|▋         | 589/8402 [17:16<4:58:18,  2.29s/it]"
     ]
    },
    {
     "name": "stdout",
     "output_type": "stream",
     "text": [
      "Successfully fetched: http://thebloggess.com/2018/05/03/never-stop/\n"
     ]
    },
    {
     "name": "stderr",
     "output_type": "stream",
     "text": [
      "Scraping Progress:   7%|▋         | 590/8402 [17:19<5:01:27,  2.32s/it]"
     ]
    },
    {
     "name": "stdout",
     "output_type": "stream",
     "text": [
      "Successfully fetched: http://www.openculture.com/2018/08/apocalyptic-m-t-computer-program-predicts-1973-civilization-will-end-2040.html\n"
     ]
    },
    {
     "name": "stderr",
     "output_type": "stream",
     "text": [
      "Scraping Progress:   7%|▋         | 591/8402 [17:20<4:24:22,  2.03s/it]"
     ]
    },
    {
     "name": "stdout",
     "output_type": "stream",
     "text": [
      "Successfully fetched: https://screenrant.com/mcu-10th-anniversary-art-sideshow/\n"
     ]
    },
    {
     "name": "stderr",
     "output_type": "stream",
     "text": [
      "Scraping Progress:   7%|▋         | 592/8402 [17:21<3:56:38,  1.82s/it]"
     ]
    },
    {
     "name": "stdout",
     "output_type": "stream",
     "text": [
      "Successfully fetched: https://screenrant.com/magneto-maquette-x-men-collectors-must/\n"
     ]
    },
    {
     "name": "stderr",
     "output_type": "stream",
     "text": [
      "Scraping Progress:   7%|▋         | 593/8402 [17:23<3:37:49,  1.67s/it]"
     ]
    },
    {
     "name": "stdout",
     "output_type": "stream",
     "text": [
      "Cannot fetch https://nerdist.com/hot-toys-iron-spider-man-figure-avengers-infinity-war/, HTTP error: 404 Client Error: Not Found for url: https://nerdist.com/hot-toys-iron-spider-man-figure-avengers-infinity-war/\n"
     ]
    },
    {
     "name": "stderr",
     "output_type": "stream",
     "text": [
      "Scraping Progress:   7%|▋         | 594/8402 [17:24<3:41:50,  1.70s/it]"
     ]
    },
    {
     "name": "stdout",
     "output_type": "stream",
     "text": [
      "Successfully fetched: http://thebloggess.com/2018/06/03/for-real-though-someone-get-to-work-on-those-fruit-roll-up-sleeves/\n"
     ]
    },
    {
     "name": "stderr",
     "output_type": "stream",
     "text": [
      "Scraping Progress:   7%|▋         | 595/8402 [17:27<4:13:05,  1.95s/it]"
     ]
    },
    {
     "name": "stdout",
     "output_type": "stream",
     "text": [
      "Successfully fetched: http://thebloggess.com/2018/06/17/happy-father-figure-day/\n"
     ]
    },
    {
     "name": "stderr",
     "output_type": "stream",
     "text": [
      "Scraping Progress:   7%|▋         | 596/8402 [17:29<4:21:04,  2.01s/it]"
     ]
    },
    {
     "name": "stdout",
     "output_type": "stream",
     "text": [
      "Successfully fetched: http://thebloggess.com/2018/07/13/trying-to-fix-the-broken-parts-not-actually-about-my-brain-for-once/\n"
     ]
    },
    {
     "name": "stderr",
     "output_type": "stream",
     "text": [
      "Scraping Progress:   7%|▋         | 597/8402 [17:34<5:59:42,  2.77s/it]"
     ]
    },
    {
     "name": "stdout",
     "output_type": "stream",
     "text": [
      "Successfully fetched: http://thebloggess.com/2018/07/31/ill-take-one-in-an-extra-large-please/\n"
     ]
    },
    {
     "name": "stderr",
     "output_type": "stream",
     "text": [
      "Scraping Progress:   7%|▋         | 598/8402 [17:36<5:38:19,  2.60s/it]"
     ]
    },
    {
     "name": "stdout",
     "output_type": "stream",
     "text": [
      "Successfully fetched: https://www.cbr.com/best-mcu-hot-toys/\n"
     ]
    },
    {
     "name": "stderr",
     "output_type": "stream",
     "text": [
      "Scraping Progress:   7%|▋         | 599/8402 [17:37<4:48:10,  2.22s/it]"
     ]
    },
    {
     "name": "stdout",
     "output_type": "stream",
     "text": [
      "Successfully fetched: http://thebloggess.com/2018/08/16/the-twentieth-argument-i-had-with-victor-this-week/\n"
     ]
    },
    {
     "name": "stderr",
     "output_type": "stream",
     "text": [
      "Scraping Progress:   7%|▋         | 600/8402 [17:39<4:44:44,  2.19s/it]"
     ]
    },
    {
     "name": "stdout",
     "output_type": "stream",
     "text": [
      "Successfully fetched: http://thebloggess.com/2018/09/03/you-will-thank-me/\n"
     ]
    },
    {
     "name": "stderr",
     "output_type": "stream",
     "text": [
      "Scraping Progress:   7%|▋         | 601/8402 [17:42<4:50:34,  2.23s/it]"
     ]
    },
    {
     "name": "stdout",
     "output_type": "stream",
     "text": [
      "Successfully fetched: http://thebloggess.com/2018/09/05/tms-a-month-later/\n"
     ]
    },
    {
     "name": "stderr",
     "output_type": "stream",
     "text": [
      "Scraping Progress:   7%|▋         | 602/8402 [17:44<4:57:46,  2.29s/it]"
     ]
    },
    {
     "name": "stdout",
     "output_type": "stream",
     "text": [
      "Successfully fetched: https://www.slashfilm.com/star-wars-bits-gina-carano-talks-the-mandalorian-john-boyega-eats-spicy-wings-star-wars-rise-of-the-resistance-opens-fans-give-back-and-more/\n"
     ]
    },
    {
     "name": "stderr",
     "output_type": "stream",
     "text": [
      "Scraping Progress:   7%|▋         | 603/8402 [17:45<4:19:55,  2.00s/it]"
     ]
    },
    {
     "name": "stdout",
     "output_type": "stream",
     "text": [
      "Successfully fetched: https://www.cbr.com/black-friday-comics-statues-funko-pops/\n"
     ]
    },
    {
     "name": "stderr",
     "output_type": "stream",
     "text": [
      "Scraping Progress:   7%|▋         | 604/8402 [17:47<3:51:43,  1.78s/it]"
     ]
    },
    {
     "name": "stdout",
     "output_type": "stream",
     "text": [
      "Successfully fetched: http://thebloggess.com/2018/06/12/dear-hank-and-john-and-jenny-and-dorothy-barker-and-sharknado/\n"
     ]
    },
    {
     "name": "stderr",
     "output_type": "stream",
     "text": [
      "Scraping Progress:   7%|▋         | 605/8402 [17:49<4:11:48,  1.94s/it]"
     ]
    },
    {
     "name": "stdout",
     "output_type": "stream",
     "text": [
      "Successfully fetched: http://thebloggess.com/2018/06/05/i-dont-even-know-how-to-spell-the-thing-that-im-going-to-do-to-myself-but-i-still-feel-good-about-it-so-dont-freak-me-out-okay/\n"
     ]
    },
    {
     "name": "stderr",
     "output_type": "stream",
     "text": [
      "Scraping Progress:   7%|▋         | 606/8402 [17:52<4:56:42,  2.28s/it]"
     ]
    },
    {
     "name": "stdout",
     "output_type": "stream",
     "text": [
      "Successfully fetched: http://thebloggess.com/2018/06/20/tell-me-where-to-go-not-to-hell-though-ive-been-there-and-the-weather-was-crap/\n"
     ]
    },
    {
     "name": "stderr",
     "output_type": "stream",
     "text": [
      "Scraping Progress:   7%|▋         | 607/8402 [17:55<5:23:31,  2.49s/it]"
     ]
    },
    {
     "name": "stdout",
     "output_type": "stream",
     "text": [
      "Successfully fetched: http://thebloggess.com/2018/06/15/its-okay-to-demand-the-love-you-need-a-lesson-my-cat-taught-us/\n"
     ]
    },
    {
     "name": "stderr",
     "output_type": "stream",
     "text": [
      "Scraping Progress:   7%|▋         | 608/8402 [17:57<5:12:31,  2.41s/it]"
     ]
    },
    {
     "name": "stdout",
     "output_type": "stream",
     "text": [
      "Successfully fetched: http://thebloggess.com/2018/03/13/i-dont-know-how-things-work-part-eleventy-thousand/\n"
     ]
    },
    {
     "name": "stderr",
     "output_type": "stream",
     "text": [
      "Scraping Progress:   7%|▋         | 609/8402 [18:00<5:11:45,  2.40s/it]"
     ]
    },
    {
     "name": "stdout",
     "output_type": "stream",
     "text": [
      "Successfully fetched: https://theawesomer.com/jack-burton-collectible-figure/513375/\n"
     ]
    },
    {
     "name": "stderr",
     "output_type": "stream",
     "text": [
      "Scraping Progress:   7%|▋         | 610/8402 [18:01<4:49:02,  2.23s/it]"
     ]
    },
    {
     "name": "stdout",
     "output_type": "stream",
     "text": [
      "Successfully fetched: https://nerdist.com/article/everything-we-know-about-guillermo-del-toros-nightmare-alley/\n"
     ]
    },
    {
     "name": "stderr",
     "output_type": "stream",
     "text": [
      "Scraping Progress:   7%|▋         | 611/8402 [18:03<4:16:56,  1.98s/it]"
     ]
    },
    {
     "name": "stdout",
     "output_type": "stream",
     "text": [
      "Successfully fetched: http://thebloggess.com/2018/02/21/follow-up/\n"
     ]
    },
    {
     "name": "stderr",
     "output_type": "stream",
     "text": [
      "Scraping Progress:   7%|▋         | 612/8402 [18:06<4:57:05,  2.29s/it]"
     ]
    },
    {
     "name": "stdout",
     "output_type": "stream",
     "text": [
      "Successfully fetched: http://thebloggess.com/2018/02/19/what-did-i-even-write/\n"
     ]
    },
    {
     "name": "stderr",
     "output_type": "stream",
     "text": [
      "Scraping Progress:   7%|▋         | 613/8402 [18:09<5:13:44,  2.42s/it]"
     ]
    },
    {
     "name": "stdout",
     "output_type": "stream",
     "text": [
      "Successfully fetched: http://thebloggess.com/2018/09/18/the-things-we-need-to-hear/\n"
     ]
    },
    {
     "name": "stderr",
     "output_type": "stream",
     "text": [
      "Scraping Progress:   7%|▋         | 614/8402 [18:12<5:41:50,  2.63s/it]"
     ]
    },
    {
     "name": "stdout",
     "output_type": "stream",
     "text": [
      "Successfully fetched: http://thebloggess.com/2018/09/20/animals-should-have-care-labels-attached-to-them/\n"
     ]
    },
    {
     "name": "stderr",
     "output_type": "stream",
     "text": [
      "Scraping Progress:   7%|▋         | 615/8402 [18:14<5:41:06,  2.63s/it]"
     ]
    },
    {
     "name": "stdout",
     "output_type": "stream",
     "text": [
      "Successfully fetched: https://es.ign.com/cyberpunk-2077-ps4/159230/news/anunciados-nuevos-coleccionables-de-cyberpunk-2077-y-the-witcher-3\n"
     ]
    },
    {
     "name": "stderr",
     "output_type": "stream",
     "text": [
      "Scraping Progress:   7%|▋         | 616/8402 [18:20<7:35:50,  3.51s/it]"
     ]
    },
    {
     "name": "stdout",
     "output_type": "stream",
     "text": [
      "Successfully fetched: http://thebloggess.com/2018/01/25/its-a-very-pretty-patronus/\n"
     ]
    },
    {
     "name": "stderr",
     "output_type": "stream",
     "text": [
      "Scraping Progress:   7%|▋         | 617/8402 [18:22<6:59:13,  3.23s/it]"
     ]
    },
    {
     "name": "stdout",
     "output_type": "stream",
     "text": [
      "Successfully fetched: http://thebloggess.com/2018/01/31/escape/\n"
     ]
    },
    {
     "name": "stderr",
     "output_type": "stream",
     "text": [
      "Scraping Progress:   7%|▋         | 618/8402 [18:25<6:30:23,  3.01s/it]"
     ]
    },
    {
     "name": "stdout",
     "output_type": "stream",
     "text": [
      "Successfully fetched: http://thebloggess.com/2018/01/11/i-am-a-terrible-mother/\n"
     ]
    },
    {
     "name": "stderr",
     "output_type": "stream",
     "text": [
      "Scraping Progress:   7%|▋         | 619/8402 [18:27<6:10:55,  2.86s/it]"
     ]
    },
    {
     "name": "stdout",
     "output_type": "stream",
     "text": [
      "Successfully fetched: http://thebloggess.com/2018/01/07/its-the-little-things-yall/\n"
     ]
    },
    {
     "name": "stderr",
     "output_type": "stream",
     "text": [
      "Scraping Progress:   7%|▋         | 620/8402 [18:30<6:04:37,  2.81s/it]"
     ]
    },
    {
     "name": "stdout",
     "output_type": "stream",
     "text": [
      "Successfully fetched: http://thebloggess.com/2018/01/05/the-great-bloggess-floods-day-10/\n"
     ]
    },
    {
     "name": "stderr",
     "output_type": "stream",
     "text": [
      "Scraping Progress:   7%|▋         | 621/8402 [18:33<6:00:25,  2.78s/it]"
     ]
    },
    {
     "name": "stdout",
     "output_type": "stream",
     "text": [
      "Successfully fetched: http://thebloggess.com/2018/01/03/im-sure-ill-find-this-funny-eventually/\n"
     ]
    },
    {
     "name": "stderr",
     "output_type": "stream",
     "text": [
      "Scraping Progress:   7%|▋         | 622/8402 [18:36<6:19:13,  2.92s/it]"
     ]
    },
    {
     "name": "stdout",
     "output_type": "stream",
     "text": [
      "Successfully fetched: http://thebloggess.com/2018/05/22/even-crazier-than-normal/\n"
     ]
    },
    {
     "name": "stderr",
     "output_type": "stream",
     "text": [
      "Scraping Progress:   7%|▋         | 623/8402 [18:39<6:28:01,  2.99s/it]"
     ]
    },
    {
     "name": "stdout",
     "output_type": "stream",
     "text": [
      "Successfully fetched: http://thebloggess.com/2018/05/24/honestly-i-might-be-better-mistranslated/\n"
     ]
    },
    {
     "name": "stderr",
     "output_type": "stream",
     "text": [
      "Scraping Progress:   7%|▋         | 624/8402 [18:42<6:04:30,  2.81s/it]"
     ]
    },
    {
     "name": "stdout",
     "output_type": "stream",
     "text": [
      "Successfully fetched: http://thebloggess.com/2018/05/29/twenty-questions/\n"
     ]
    },
    {
     "name": "stderr",
     "output_type": "stream",
     "text": [
      "Scraping Progress:   7%|▋         | 625/8402 [18:44<5:51:25,  2.71s/it]"
     ]
    },
    {
     "name": "stdout",
     "output_type": "stream",
     "text": [
      "Successfully fetched: http://thebloggess.com/2018/05/13/happy-whatever-2/\n"
     ]
    },
    {
     "name": "stderr",
     "output_type": "stream",
     "text": [
      "Scraping Progress:   7%|▋         | 626/8402 [18:47<5:43:09,  2.65s/it]"
     ]
    },
    {
     "name": "stdout",
     "output_type": "stream",
     "text": [
      "Successfully fetched: http://thebloggess.com/2018/05/10/well-thats-just-surreal/\n"
     ]
    },
    {
     "name": "stderr",
     "output_type": "stream",
     "text": [
      "Scraping Progress:   7%|▋         | 627/8402 [18:49<5:30:39,  2.55s/it]"
     ]
    },
    {
     "name": "stdout",
     "output_type": "stream",
     "text": [
      "Successfully fetched: http://thebloggess.com/2018/05/08/people-who-dont-word-good-part-3/\n"
     ]
    },
    {
     "name": "stderr",
     "output_type": "stream",
     "text": [
      "Scraping Progress:   7%|▋         | 628/8402 [18:51<5:22:02,  2.49s/it]"
     ]
    },
    {
     "name": "stdout",
     "output_type": "stream",
     "text": [
      "Successfully fetched: https://variety.com/2019/biz/markets-festivals/gremlins-steven-spielberg-1203140757-1203140757/\n"
     ]
    },
    {
     "name": "stderr",
     "output_type": "stream",
     "text": [
      "Scraping Progress:   7%|▋         | 629/8402 [18:53<4:57:09,  2.29s/it]"
     ]
    },
    {
     "name": "stdout",
     "output_type": "stream",
     "text": [
      "Successfully fetched: http://thebloggess.com/2018/05/31/i-still-havent-found-what-youre-looking-for/\n"
     ]
    },
    {
     "name": "stderr",
     "output_type": "stream",
     "text": [
      "Scraping Progress:   7%|▋         | 630/8402 [18:55<4:59:02,  2.31s/it]"
     ]
    },
    {
     "name": "stdout",
     "output_type": "stream",
     "text": [
      "Successfully fetched: http://thebloggess.com/2018/05/15/we-shouldnt-be-allowed-out-of-the-house-part-eleventy-million/\n"
     ]
    },
    {
     "name": "stderr",
     "output_type": "stream",
     "text": [
      "Scraping Progress:   8%|▊         | 631/8402 [18:57<4:18:47,  2.00s/it]"
     ]
    },
    {
     "name": "stdout",
     "output_type": "stream",
     "text": [
      "Successfully fetched: http://thebloggess.com/2018/05/11/dead-happy-worlds-brightest-leopard-depression-sufferer/\n"
     ]
    },
    {
     "name": "stderr",
     "output_type": "stream",
     "text": [
      "Scraping Progress:   8%|▊         | 632/8402 [18:59<4:48:18,  2.23s/it]"
     ]
    },
    {
     "name": "stdout",
     "output_type": "stream",
     "text": [
      "Successfully fetched: http://thebloggess.com/2018/05/06/you-like-me-even-when-i-dont-like-myself/\n"
     ]
    },
    {
     "name": "stderr",
     "output_type": "stream",
     "text": [
      "Scraping Progress:   8%|▊         | 633/8402 [19:02<4:56:32,  2.29s/it]"
     ]
    },
    {
     "name": "stdout",
     "output_type": "stream",
     "text": [
      "Successfully fetched: http://thebloggess.com/2018/07/17/what-an-asshole/\n"
     ]
    },
    {
     "name": "stderr",
     "output_type": "stream",
     "text": [
      "Scraping Progress:   8%|▊         | 634/8402 [19:05<5:21:51,  2.49s/it]"
     ]
    },
    {
     "name": "stdout",
     "output_type": "stream",
     "text": [
      "Successfully fetched: http://thebloggess.com/2018/07/16/murders-and-puppies-and-failed-selfies/\n"
     ]
    },
    {
     "name": "stderr",
     "output_type": "stream",
     "text": [
      "Scraping Progress:   8%|▊         | 635/8402 [19:08<5:29:25,  2.54s/it]"
     ]
    },
    {
     "name": "stdout",
     "output_type": "stream",
     "text": [
      "Successfully fetched: http://thebloggess.com/2018/07/04/22-years-ago-today/\n"
     ]
    },
    {
     "name": "stderr",
     "output_type": "stream",
     "text": [
      "Scraping Progress:   8%|▊         | 636/8402 [19:10<5:18:11,  2.46s/it]"
     ]
    },
    {
     "name": "stdout",
     "output_type": "stream",
     "text": [
      "Successfully fetched: http://thebloggess.com/2018/07/25/i-have-less-time-to-be-crazy/\n"
     ]
    },
    {
     "name": "stderr",
     "output_type": "stream",
     "text": [
      "Scraping Progress:   8%|▊         | 637/8402 [19:13<5:42:27,  2.65s/it]"
     ]
    },
    {
     "name": "stdout",
     "output_type": "stream",
     "text": [
      "Successfully fetched: http://thebloggess.com/2018/07/19/lucky-22/\n"
     ]
    },
    {
     "name": "stderr",
     "output_type": "stream",
     "text": [
      "Scraping Progress:   8%|▊         | 638/8402 [19:15<5:25:40,  2.52s/it]"
     ]
    },
    {
     "name": "stdout",
     "output_type": "stream",
     "text": [
      "Successfully fetched: http://thebloggess.com/2018/07/20/its-casual-friday/\n"
     ]
    },
    {
     "name": "stderr",
     "output_type": "stream",
     "text": [
      "Scraping Progress:   8%|▊         | 639/8402 [19:17<5:19:21,  2.47s/it]"
     ]
    },
    {
     "name": "stdout",
     "output_type": "stream",
     "text": [
      "Successfully fetched: http://thebloggess.com/2018/08/02/do-you-want-a-free-book-of-course-you-do-unless-youre-some-kind-of-monster/\n"
     ]
    },
    {
     "name": "stderr",
     "output_type": "stream",
     "text": [
      "Scraping Progress:   8%|▊         | 640/8402 [19:22<6:38:34,  3.08s/it]"
     ]
    },
    {
     "name": "stdout",
     "output_type": "stream",
     "text": [
      "Successfully fetched: http://thebloggess.com/2018/06/10/happy-birthday-to-you-yes-you/\n"
     ]
    },
    {
     "name": "stderr",
     "output_type": "stream",
     "text": [
      "Scraping Progress:   8%|▊         | 641/8402 [19:26<7:03:42,  3.28s/it]"
     ]
    },
    {
     "name": "stdout",
     "output_type": "stream",
     "text": [
      "Successfully fetched: http://thebloggess.com/2018/06/28/the-pursuit-of-zappiness/\n"
     ]
    },
    {
     "name": "stderr",
     "output_type": "stream",
     "text": [
      "Scraping Progress:   8%|▊         | 642/8402 [19:29<6:45:50,  3.14s/it]"
     ]
    },
    {
     "name": "stdout",
     "output_type": "stream",
     "text": [
      "Successfully fetched: http://thebloggess.com/2018/06/26/and-on-the-seventh-day-she-was-cautiously-optimistic-but-also-totally-expecting-some-sort-of-emotional-avalanche-to-hit-at-any-moment/\n"
     ]
    },
    {
     "name": "stderr",
     "output_type": "stream",
     "text": [
      "Scraping Progress:   8%|▊         | 643/8402 [19:31<6:25:55,  2.98s/it]"
     ]
    },
    {
     "name": "stdout",
     "output_type": "stream",
     "text": [
      "Successfully fetched: http://thebloggess.com/2018/06/22/its-like-trepanation-but-not-at-all/\n"
     ]
    },
    {
     "name": "stderr",
     "output_type": "stream",
     "text": [
      "Scraping Progress:   8%|▊         | 644/8402 [19:34<6:21:26,  2.95s/it]"
     ]
    },
    {
     "name": "stdout",
     "output_type": "stream",
     "text": [
      "Cannot fetch https://www.geek.com/culture/11-geeky-splurges-to-spend-your-tax-refund-on-1782840/, HTTP error: 404 Client Error: Not Found for url: https://www.geek.com/culture/11-geeky-splurges-to-spend-your-tax-refund-on-1782840/\n"
     ]
    },
    {
     "name": "stderr",
     "output_type": "stream",
     "text": [
      "Scraping Progress:   8%|▊         | 645/8402 [19:35<5:18:05,  2.46s/it]"
     ]
    },
    {
     "name": "stdout",
     "output_type": "stream",
     "text": [
      "Successfully fetched: http://thebloggess.com/2018/05/02/honestly-im-pretty-sure-you-can-download-fortnite-for-free-so-i-sort-of-blame-kevin-here/\n"
     ]
    },
    {
     "name": "stderr",
     "output_type": "stream",
     "text": [
      "Scraping Progress:   8%|▊         | 646/8402 [19:38<5:22:52,  2.50s/it]"
     ]
    },
    {
     "name": "stdout",
     "output_type": "stream",
     "text": [
      "Successfully fetched: http://thebloggess.com/2018/08/26/what-would-you-choose-to-have-squirt-out-of-your-finger/\n"
     ]
    },
    {
     "name": "stderr",
     "output_type": "stream",
     "text": [
      "Scraping Progress:   8%|▊         | 647/8402 [19:40<5:14:59,  2.44s/it]"
     ]
    },
    {
     "name": "stdout",
     "output_type": "stream",
     "text": [
      "Successfully fetched: http://thebloggess.com/2018/08/14/the-fifteenth-argument-i-had-with-victor-this-week/\n"
     ]
    },
    {
     "name": "stderr",
     "output_type": "stream",
     "text": [
      "Scraping Progress:   8%|▊         | 648/8402 [19:43<5:24:04,  2.51s/it]"
     ]
    },
    {
     "name": "stdout",
     "output_type": "stream",
     "text": [
      "Successfully fetched: http://thebloggess.com/2018/08/28/this-day-took-a-turn/\n"
     ]
    },
    {
     "name": "stderr",
     "output_type": "stream",
     "text": [
      "Scraping Progress:   8%|▊         | 649/8402 [19:46<5:45:01,  2.67s/it]"
     ]
    },
    {
     "name": "stdout",
     "output_type": "stream",
     "text": [
      "Successfully fetched: http://thebloggess.com/2018/08/30/finding-light/\n"
     ]
    },
    {
     "name": "stderr",
     "output_type": "stream",
     "text": [
      "Scraping Progress:   8%|▊         | 650/8402 [19:49<5:44:40,  2.67s/it]"
     ]
    },
    {
     "name": "stdout",
     "output_type": "stream",
     "text": [
      "Successfully fetched: http://thebloggess.com/2018/09/06/read-a-book-day/\n"
     ]
    },
    {
     "name": "stderr",
     "output_type": "stream",
     "text": [
      "Scraping Progress:   8%|▊         | 651/8402 [19:53<6:42:11,  3.11s/it]"
     ]
    },
    {
     "name": "stdout",
     "output_type": "stream",
     "text": [
      "Successfully fetched: http://thebloggess.com/2018/09/09/virtual-reality-is-scarier-than-reality-if-youre-my-dog/\n"
     ]
    },
    {
     "name": "stderr",
     "output_type": "stream",
     "text": [
      "Scraping Progress:   8%|▊         | 652/8402 [19:55<6:03:52,  2.82s/it]"
     ]
    },
    {
     "name": "stdout",
     "output_type": "stream",
     "text": [
      "Successfully fetched: http://www.espn.com/soccer/report?gameId=491490\n"
     ]
    },
    {
     "name": "stderr",
     "output_type": "stream",
     "text": [
      "Scraping Progress:   8%|▊         | 653/8402 [19:56<5:10:45,  2.41s/it]"
     ]
    },
    {
     "name": "stdout",
     "output_type": "stream",
     "text": [
      "Successfully fetched: https://www.npr.org/sections/money/2018/03/06/591265523/cobalt-rare-and-everywhere\n"
     ]
    },
    {
     "name": "stderr",
     "output_type": "stream",
     "text": [
      "Scraping Progress:   8%|▊         | 654/8402 [19:58<4:52:51,  2.27s/it]"
     ]
    },
    {
     "name": "stdout",
     "output_type": "stream",
     "text": [
      "Cannot fetch http://news.trust.org/item/20190128212106-pmd7e, HTTP error: 404 Client Error:  for url: https://news.trust.org:443/item/20190128212106-pmd7e\n"
     ]
    },
    {
     "name": "stderr",
     "output_type": "stream",
     "text": [
      "Scraping Progress:   8%|▊         | 655/8402 [20:02<5:47:09,  2.69s/it]"
     ]
    },
    {
     "name": "stdout",
     "output_type": "stream",
     "text": [
      "Successfully fetched: https://www.vulture.com/2018/11/the-economist-hates-tenacious-d.html\n"
     ]
    },
    {
     "name": "stderr",
     "output_type": "stream",
     "text": [
      "Scraping Progress:   8%|▊         | 656/8402 [20:04<5:06:08,  2.37s/it]"
     ]
    },
    {
     "name": "stdout",
     "output_type": "stream",
     "text": [
      "Successfully fetched: https://www.si.com/soccer/2018/04/21/richarlison-manchester-united-less-pipe-dream-more-late-night-cheese-nightmare\n"
     ]
    },
    {
     "name": "stderr",
     "output_type": "stream",
     "text": [
      "Scraping Progress:   8%|▊         | 657/8402 [20:05<4:32:41,  2.11s/it]"
     ]
    },
    {
     "name": "stdout",
     "output_type": "stream",
     "text": [
      "Successfully fetched: http://thebloggess.com/2018/08/09/on-finding-the-cure-for-depression/\n"
     ]
    },
    {
     "name": "stderr",
     "output_type": "stream",
     "text": [
      "Scraping Progress:   8%|▊         | 658/8402 [20:08<4:59:51,  2.32s/it]"
     ]
    },
    {
     "name": "stdout",
     "output_type": "stream",
     "text": [
      "Successfully fetched: http://thebloggess.com/2018/08/07/help-if-youve-ever-been-to-london-paris-or-ireland-please-tell-me-what-to-do/\n"
     ]
    },
    {
     "name": "stderr",
     "output_type": "stream",
     "text": [
      "Scraping Progress:   8%|▊         | 659/8402 [20:11<5:43:25,  2.66s/it]"
     ]
    },
    {
     "name": "stdout",
     "output_type": "stream",
     "text": [
      "Successfully fetched: http://thebloggess.com/2018/08/21/and-then-everything-changed-scotland/\n"
     ]
    },
    {
     "name": "stderr",
     "output_type": "stream",
     "text": [
      "Scraping Progress:   8%|▊         | 660/8402 [20:14<5:41:02,  2.64s/it]"
     ]
    },
    {
     "name": "stdout",
     "output_type": "stream",
     "text": [
      "Successfully fetched: http://collider.com/thanos-legendary-scale-bust-sideshow/\n"
     ]
    },
    {
     "name": "stderr",
     "output_type": "stream",
     "text": [
      "Scraping Progress:   8%|▊         | 661/8402 [20:15<4:51:38,  2.26s/it]"
     ]
    },
    {
     "name": "stdout",
     "output_type": "stream",
     "text": [
      "Successfully fetched: https://www.slashfilm.com/bill-and-teds-excellent-adventure-figures/\n"
     ]
    },
    {
     "name": "stderr",
     "output_type": "stream",
     "text": [
      "Scraping Progress:   8%|▊         | 662/8402 [20:17<4:33:37,  2.12s/it]"
     ]
    },
    {
     "name": "stdout",
     "output_type": "stream",
     "text": [
      "Successfully fetched: https://www.cbr.com/best-sideshow-collectibles-toys-ranked/\n"
     ]
    },
    {
     "name": "stderr",
     "output_type": "stream",
     "text": [
      "Scraping Progress:   8%|▊         | 663/8402 [20:18<4:02:23,  1.88s/it]"
     ]
    },
    {
     "name": "stdout",
     "output_type": "stream",
     "text": [
      "Successfully fetched: http://thebloggess.com/2018/02/23/life-is-complicated/\n"
     ]
    },
    {
     "name": "stderr",
     "output_type": "stream",
     "text": [
      "Scraping Progress:   8%|▊         | 664/8402 [20:22<5:27:34,  2.54s/it]"
     ]
    },
    {
     "name": "stdout",
     "output_type": "stream",
     "text": [
      "Successfully fetched: http://thebloggess.com/2018/02/08/i-think-im-in-a-black-mirror-episode/\n"
     ]
    },
    {
     "name": "stderr",
     "output_type": "stream",
     "text": [
      "Scraping Progress:   8%|▊         | 665/8402 [20:25<5:22:08,  2.50s/it]"
     ]
    },
    {
     "name": "stdout",
     "output_type": "stream",
     "text": [
      "Successfully fetched: http://thebloggess.com/2018/02/14/i-wrote-this-whole-post-and-didnt-once-make-a-joke-about-getting-a-little-head-youre-welcome-world/\n"
     ]
    },
    {
     "name": "stderr",
     "output_type": "stream",
     "text": [
      "Scraping Progress:   8%|▊         | 666/8402 [20:28<5:35:07,  2.60s/it]"
     ]
    },
    {
     "name": "stdout",
     "output_type": "stream",
     "text": [
      "Successfully fetched: http://thebloggess.com/2018/02/04/stephen-colbert-stole-my-giant-baby/\n"
     ]
    },
    {
     "name": "stderr",
     "output_type": "stream",
     "text": [
      "Scraping Progress:   8%|▊         | 668/8402 [20:31<4:42:45,  2.19s/it]"
     ]
    },
    {
     "name": "stdout",
     "output_type": "stream",
     "text": [
      "Cannot fetch https://www.politico.com/story/2019/05/01/barr-testimony-house-democrats-1296377, HTTP error: 403 Client Error: Forbidden for url: https://www.politico.com/story/2019/05/01/barr-testimony-house-democrats-1296377\n"
     ]
    },
    {
     "name": "stderr",
     "output_type": "stream",
     "text": [
      "Scraping Progress:   8%|▊         | 669/8402 [20:33<4:02:08,  1.88s/it]"
     ]
    },
    {
     "name": "stdout",
     "output_type": "stream",
     "text": [
      "Successfully fetched: http://www.shorpy.com/node/24101?utm_source=feedburner&utm_medium=feed&utm_campaign=Feed%3A+shorpy+%28Shorpy+-+The+100-Year-Old+Photo+Blog%29\n"
     ]
    },
    {
     "name": "stderr",
     "output_type": "stream",
     "text": [
      "Scraping Progress:   8%|▊         | 670/8402 [20:34<3:58:52,  1.85s/it]"
     ]
    },
    {
     "name": "stdout",
     "output_type": "stream",
     "text": [
      "Successfully fetched: https://nerdist.com/spider-man-ps4-mondo-hot-toys-playstation-pro/\n"
     ]
    },
    {
     "name": "stderr",
     "output_type": "stream",
     "text": [
      "Scraping Progress:   8%|▊         | 671/8402 [20:36<3:57:43,  1.85s/it]"
     ]
    },
    {
     "name": "stdout",
     "output_type": "stream",
     "text": [
      "Cannot fetch https://jalopnik.com/why-elon-musk-is-considering-taking-tesla-private-1828170402, HTTP error: 503 Server Error: backend read error for url: https://jalopnik.com/why-elon-musk-is-considering-taking-tesla-private-1828170402\n"
     ]
    },
    {
     "name": "stderr",
     "output_type": "stream",
     "text": [
      "Scraping Progress:   8%|▊         | 672/8402 [20:38<3:41:12,  1.72s/it]"
     ]
    },
    {
     "name": "stdout",
     "output_type": "stream",
     "text": [
      "Cannot fetch https://nerdist.com/hot-toys-iron-spider-figure-helps-bring-in-the-next-generation-of-avengers/, HTTP error: 404 Client Error: Not Found for url: https://nerdist.com/hot-toys-iron-spider-figure-helps-bring-in-the-next-generation-of-avengers/\n"
     ]
    },
    {
     "name": "stderr",
     "output_type": "stream",
     "text": [
      "Scraping Progress:   8%|▊         | 673/8402 [20:39<3:39:41,  1.71s/it]"
     ]
    },
    {
     "name": "stdout",
     "output_type": "stream",
     "text": [
      "Successfully fetched: http://thebloggess.com/2018/07/06/fuck-all-this-i-wanna-be-a-dragon/\n"
     ]
    },
    {
     "name": "stderr",
     "output_type": "stream",
     "text": [
      "Scraping Progress:   8%|▊         | 674/8402 [20:42<4:14:58,  1.98s/it]"
     ]
    },
    {
     "name": "stdout",
     "output_type": "stream",
     "text": [
      "Successfully fetched: http://thebloggess.com/2018/07/30/bogo/\n"
     ]
    },
    {
     "name": "stderr",
     "output_type": "stream",
     "text": [
      "Scraping Progress:   8%|▊         | 675/8402 [20:44<4:26:01,  2.07s/it]"
     ]
    },
    {
     "name": "stdout",
     "output_type": "stream",
     "text": [
      "Successfully fetched: http://thebloggess.com/2018/07/26/be-careful-out-there/\n"
     ]
    },
    {
     "name": "stderr",
     "output_type": "stream",
     "text": [
      "Scraping Progress:   8%|▊         | 676/8402 [20:47<5:11:00,  2.42s/it]"
     ]
    },
    {
     "name": "stdout",
     "output_type": "stream",
     "text": [
      "Successfully fetched: http://thebloggess.com/2018/09/24/happy-birthday-sweet-girl/\n"
     ]
    },
    {
     "name": "stderr",
     "output_type": "stream",
     "text": [
      "Scraping Progress:   8%|▊         | 677/8402 [20:50<5:22:48,  2.51s/it]"
     ]
    },
    {
     "name": "stdout",
     "output_type": "stream",
     "text": [
      "Successfully fetched: http://thebloggess.com/2018/09/28/hi-there-its-gonna-be-okay/\n"
     ]
    },
    {
     "name": "stderr",
     "output_type": "stream",
     "text": [
      "Scraping Progress:   8%|▊         | 678/8402 [20:53<5:27:44,  2.55s/it]"
     ]
    },
    {
     "name": "stdout",
     "output_type": "stream",
     "text": [
      "Successfully fetched: https://screenrant.com/supergirl-figure-art-sideshow-collectibles/\n"
     ]
    },
    {
     "name": "stderr",
     "output_type": "stream",
     "text": [
      "Scraping Progress:   8%|▊         | 679/8402 [20:54<4:44:37,  2.21s/it]"
     ]
    },
    {
     "name": "stdout",
     "output_type": "stream",
     "text": [
      "Successfully fetched: https://www.aljazeera.com/indepth/features/view-london-brexit-delay-adds-sense-fatigue-190411135703403.html\n"
     ]
    },
    {
     "name": "stderr",
     "output_type": "stream",
     "text": [
      "Scraping Progress:   8%|▊         | 680/8402 [20:56<4:39:50,  2.17s/it]"
     ]
    },
    {
     "name": "stdout",
     "output_type": "stream",
     "text": [
      "Successfully fetched: http://thebloggess.com/2018/09/13/catscrabble/\n"
     ]
    },
    {
     "name": "stderr",
     "output_type": "stream",
     "text": [
      "Scraping Progress:   8%|▊         | 681/8402 [20:58<4:38:13,  2.16s/it]"
     ]
    },
    {
     "name": "stdout",
     "output_type": "stream",
     "text": [
      "Successfully fetched: http://thebloggess.com/2018/09/14/id-point-it-out-but-it-makes-me-too-entertained-when-i-see-it/\n"
     ]
    },
    {
     "name": "stderr",
     "output_type": "stream",
     "text": [
      "Scraping Progress:   8%|▊         | 682/8402 [21:01<4:35:27,  2.14s/it]"
     ]
    },
    {
     "name": "stdout",
     "output_type": "stream",
     "text": [
      "Successfully fetched: http://thebloggess.com/2018/09/25/im-a-star-and-i-didnt-even-have-to-leave-my-house/\n"
     ]
    },
    {
     "name": "stderr",
     "output_type": "stream",
     "text": [
      "Scraping Progress:   8%|▊         | 683/8402 [21:03<4:44:00,  2.21s/it]"
     ]
    },
    {
     "name": "stdout",
     "output_type": "stream",
     "text": [
      "Successfully fetched: http://thebloggess.com/2018/10/01/its-october-time-for-a-little-horror/\n"
     ]
    },
    {
     "name": "stderr",
     "output_type": "stream",
     "text": [
      "Scraping Progress:   8%|▊         | 684/8402 [21:07<5:38:20,  2.63s/it]"
     ]
    },
    {
     "name": "stdout",
     "output_type": "stream",
     "text": [
      "Cannot fetch https://www.politico.com/story/2019/02/14/dnc-fundraising-polling-early-debates-1170182, HTTP error: 403 Client Error: Forbidden for url: https://www.politico.com/story/2019/02/14/dnc-fundraising-polling-early-debates-1170182\n"
     ]
    },
    {
     "name": "stderr",
     "output_type": "stream",
     "text": [
      "Scraping Progress:   8%|▊         | 685/8402 [21:08<4:40:32,  2.18s/it]"
     ]
    },
    {
     "name": "stdout",
     "output_type": "stream",
     "text": [
      "Cannot fetch https://www.politico.com/story/2019/09/04/kansas-republican-steve-watkins-jake-laturner-3786105, HTTP error: 403 Client Error: Forbidden for url: https://www.politico.com/story/2019/09/04/kansas-republican-steve-watkins-jake-laturner-3786105\n"
     ]
    },
    {
     "name": "stderr",
     "output_type": "stream",
     "text": [
      "Scraping Progress:   8%|▊         | 686/8402 [21:09<3:59:06,  1.86s/it]"
     ]
    },
    {
     "name": "stdout",
     "output_type": "stream",
     "text": [
      "Successfully fetched: https://jalopnik.com/tesla-posts-743-million-loss-as-it-expects-to-make-ave-1828036590\n"
     ]
    },
    {
     "name": "stderr",
     "output_type": "stream",
     "text": [
      "Scraping Progress:   8%|▊         | 687/8402 [21:10<3:43:53,  1.74s/it]"
     ]
    },
    {
     "name": "stdout",
     "output_type": "stream",
     "text": [
      "Cannot fetch https://www.geek.com/television/tossed-pitches-and-scrambled-ideas-for-the-frasier-reboot-1747425/, HTTP error: 404 Client Error: Not Found for url: https://www.geek.com/television/tossed-pitches-and-scrambled-ideas-for-the-frasier-reboot-1747425/\n"
     ]
    },
    {
     "name": "stderr",
     "output_type": "stream",
     "text": [
      "Scraping Progress:   8%|▊         | 688/8402 [21:11<3:20:38,  1.56s/it]"
     ]
    },
    {
     "name": "stdout",
     "output_type": "stream",
     "text": [
      "Successfully fetched: https://www.forbes.com/sites/wlf/2019/02/25/childrens-crusade-for-judicially-managed-climate-regulation-stalls-in-federal-court/\n"
     ]
    },
    {
     "name": "stderr",
     "output_type": "stream",
     "text": [
      "Scraping Progress:   8%|▊         | 689/8402 [21:13<3:31:58,  1.65s/it]"
     ]
    },
    {
     "name": "stdout",
     "output_type": "stream",
     "text": [
      "Cannot fetch https://news.avclub.com/tom-arnold-is-gonna-find-the-pee-tape-1825748465, error: HTTPSConnectionPool(host='news.avclub.com', port=443): Max retries exceeded with url: /tom-arnold-is-gonna-find-the-pee-tape-1825748465 (Caused by NewConnectionError('<urllib3.connection.HTTPSConnection object at 0x11b367b50>: Failed to establish a new connection: [Errno 8] nodename nor servname provided, or not known'))\n"
     ]
    },
    {
     "name": "stderr",
     "output_type": "stream",
     "text": [
      "Scraping Progress:   8%|▊         | 690/8402 [21:14<3:07:26,  1.46s/it]"
     ]
    },
    {
     "name": "stdout",
     "output_type": "stream",
     "text": [
      "Successfully fetched: https://www.bleedingcool.com/2018/02/02/sideshow-unveils-their-spider-man-premium-format-collection/\n"
     ]
    },
    {
     "name": "stderr",
     "output_type": "stream",
     "text": [
      "Scraping Progress:   8%|▊         | 691/8402 [21:16<3:04:00,  1.43s/it]"
     ]
    },
    {
     "name": "stdout",
     "output_type": "stream",
     "text": [
      "Successfully fetched: https://timesofindia.indiatimes.com/india/bjp-leaves-the-floor-hd-kumaraswamy-wins-test/articleshow/64325709.cms\n"
     ]
    },
    {
     "name": "stderr",
     "output_type": "stream",
     "text": [
      "Scraping Progress:   8%|▊         | 692/8402 [21:17<3:11:38,  1.49s/it]"
     ]
    },
    {
     "name": "stdout",
     "output_type": "stream",
     "text": [
      "Cannot fetch https://realmoney.thestreet.com/jim-cramer/jim-cramer-the-truth-is-the-sec-has-no-juice-with-musk-14918490, HTTP error: 403 Client Error: Forbidden for url: https://realmoney.thestreet.com/jim-cramer/jim-cramer-the-truth-is-the-sec-has-no-juice-with-musk-14918490\n"
     ]
    },
    {
     "name": "stderr",
     "output_type": "stream",
     "text": [
      "Scraping Progress:   8%|▊         | 693/8402 [21:19<3:04:37,  1.44s/it]"
     ]
    },
    {
     "name": "stdout",
     "output_type": "stream",
     "text": [
      "Successfully fetched: https://theawesomer.com/spider-man-miles-morales-statue/471322/\n"
     ]
    },
    {
     "name": "stderr",
     "output_type": "stream",
     "text": [
      "Scraping Progress:   8%|▊         | 694/8402 [21:20<3:08:48,  1.47s/it]"
     ]
    },
    {
     "name": "stdout",
     "output_type": "stream",
     "text": [
      "Successfully fetched: https://www.si.com/soccer/2018/07/08/world-cup-daily-podcast-semifinals-england-france-belgium\n"
     ]
    },
    {
     "name": "stderr",
     "output_type": "stream",
     "text": [
      "Scraping Progress:   8%|▊         | 695/8402 [21:22<3:16:32,  1.53s/it]"
     ]
    },
    {
     "name": "stdout",
     "output_type": "stream",
     "text": [
      "Cannot fetch https://www.autoblog.comhttps://www.autoblog.com/2019/07/08/bmw-future-next-harald-kruger/, error: HTTPSConnectionPool(host='www.autoblog.comhttps', port=443): Max retries exceeded with url: //www.autoblog.com/2019/07/08/bmw-future-next-harald-kruger/ (Caused by NewConnectionError('<urllib3.connection.HTTPSConnection object at 0x117fef350>: Failed to establish a new connection: [Errno 8] nodename nor servname provided, or not known'))\n"
     ]
    },
    {
     "name": "stderr",
     "output_type": "stream",
     "text": [
      "Scraping Progress:   8%|▊         | 696/8402 [21:23<2:58:08,  1.39s/it]"
     ]
    },
    {
     "name": "stdout",
     "output_type": "stream",
     "text": [
      "Successfully fetched: https://www.abc.net.au/news/2019-07-05/wimbledon-nick-kyrgios-rafa-nadal-ash-barty/11280820\n"
     ]
    },
    {
     "name": "stderr",
     "output_type": "stream",
     "text": [
      "Scraping Progress:   8%|▊         | 697/8402 [21:25<3:27:50,  1.62s/it]"
     ]
    },
    {
     "name": "stdout",
     "output_type": "stream",
     "text": [
      "Successfully fetched: https://www.thehindu.com/life-and-style/fashion/winging-it-in-london/article29353984.ece\n"
     ]
    },
    {
     "name": "stderr",
     "output_type": "stream",
     "text": [
      "Scraping Progress:   8%|▊         | 698/8402 [21:28<4:04:10,  1.90s/it]"
     ]
    },
    {
     "name": "stdout",
     "output_type": "stream",
     "text": [
      "Successfully fetched: https://www.foxnews.com/auto/elon-musk-explains-reason-for-tesla-model-3s-mysterious-cockpit-camera\n"
     ]
    },
    {
     "name": "stderr",
     "output_type": "stream",
     "text": [
      "Scraping Progress:   8%|▊         | 699/8402 [21:29<3:50:30,  1.80s/it]"
     ]
    },
    {
     "name": "stdout",
     "output_type": "stream",
     "text": [
      "Successfully fetched: https://finance.yahoo.com/news/craig-wright-shmeg-wright-argument-070007850.html\n"
     ]
    },
    {
     "name": "stderr",
     "output_type": "stream",
     "text": [
      "Scraping Progress:   8%|▊         | 700/8402 [21:31<3:49:42,  1.79s/it]"
     ]
    },
    {
     "name": "stdout",
     "output_type": "stream",
     "text": [
      "Cannot fetch https://goodmenproject.com/all-things-geek/first-lookbatman-the-dark-knight-returns-collectible-figure-xela/, HTTP error: 403 Client Error: Forbidden for url: https://goodmenproject.com/all-things-geek/first-lookbatman-the-dark-knight-returns-collectible-figure-xela/\n"
     ]
    },
    {
     "name": "stderr",
     "output_type": "stream",
     "text": [
      "Scraping Progress:   8%|▊         | 701/8402 [21:32<3:29:04,  1.63s/it]"
     ]
    },
    {
     "name": "stdout",
     "output_type": "stream",
     "text": [
      "Cannot fetch https://www.marketwatch.com/story/stick-with-tech-stocks-or-miss-some-big-gains-says-this-analyst-2019-04-10, HTTP error: 401 Client Error: HTTP Forbidden for url: https://www.marketwatch.com/story/stick-with-tech-stocks-or-miss-some-big-gains-says-this-analyst-2019-04-10\n"
     ]
    },
    {
     "name": "stderr",
     "output_type": "stream",
     "text": [
      "Scraping Progress:   8%|▊         | 702/8402 [21:33<3:09:55,  1.48s/it]"
     ]
    },
    {
     "name": "stdout",
     "output_type": "stream",
     "text": [
      "Cannot fetch http://www.brooklynvegan.com/stephin-merritt-daniel-handler-performing-live-score-to-tod-browning-film-the-unholy-three-in-nyc/, HTTP error: 403 Client Error: Forbidden for url: https://www.brooklynvegan.com/stephin-merritt-daniel-handler-performing-live-score-to-tod-browning-film-the-unholy-three-in-nyc/\n"
     ]
    },
    {
     "name": "stderr",
     "output_type": "stream",
     "text": [
      "Scraping Progress:   8%|▊         | 703/8402 [21:35<3:05:21,  1.44s/it]"
     ]
    },
    {
     "name": "stdout",
     "output_type": "stream",
     "text": [
      "Successfully fetched: https://www.salon.com/2018/06/29/did-anthony-kennedys-son-loan-donald-trump-1-billion/\n"
     ]
    },
    {
     "name": "stderr",
     "output_type": "stream",
     "text": [
      "Scraping Progress:   8%|▊         | 704/8402 [21:36<3:01:24,  1.41s/it]"
     ]
    },
    {
     "name": "stdout",
     "output_type": "stream",
     "text": [
      "Successfully fetched: https://www.neatorama.com/2019/05/04/Tracy-Edwards-A-Real-Life-Female-Superhero-Who-Sailed-Around-the-World/\n"
     ]
    },
    {
     "name": "stderr",
     "output_type": "stream",
     "text": [
      "Scraping Progress:   8%|▊         | 705/8402 [21:37<3:02:17,  1.42s/it]"
     ]
    },
    {
     "name": "stdout",
     "output_type": "stream",
     "text": [
      "Successfully fetched: https://www.usatoday.com/story/news/2019/12/05/donald-trump-impeachment-strategy-unravels-london-nato-meeting/4350332002/?utm_source=google&utm_medium=amp&utm_campaign=speakable\n"
     ]
    },
    {
     "name": "stderr",
     "output_type": "stream",
     "text": [
      "Scraping Progress:   8%|▊         | 706/8402 [21:39<3:15:30,  1.52s/it]"
     ]
    },
    {
     "name": "stdout",
     "output_type": "stream",
     "text": [
      "Successfully fetched: http://www.cineblog.it/post/791689/stanlio-e-ollio-nuova-statua-sideshow-di-stan-laurel-oliver-hardy\n"
     ]
    },
    {
     "name": "stderr",
     "output_type": "stream",
     "text": [
      "Scraping Progress:   8%|▊         | 707/8402 [21:42<3:53:42,  1.82s/it]"
     ]
    },
    {
     "name": "stdout",
     "output_type": "stream",
     "text": [
      "Successfully fetched: https://theawesomer.com/batman-animated-series-statue/495859/\n"
     ]
    },
    {
     "name": "stderr",
     "output_type": "stream",
     "text": [
      "Scraping Progress:   8%|▊         | 708/8402 [21:44<4:12:01,  1.97s/it]"
     ]
    },
    {
     "name": "stdout",
     "output_type": "stream",
     "text": [
      "Successfully fetched: https://www.newyorker.com/culture/podcast-dept/public-official-a-reviewed-the-sins-of-rod-blagojevich-are-the-sins-of-our-time\n"
     ]
    },
    {
     "name": "stderr",
     "output_type": "stream",
     "text": [
      "Scraping Progress:   8%|▊         | 709/8402 [21:46<4:30:49,  2.11s/it]"
     ]
    },
    {
     "name": "stdout",
     "output_type": "stream",
     "text": [
      "Cannot fetch http://www.rlslog.net/the-electric-woman-a-memoir-in-death-defying-acts-audiobook-p2p/, error: HTTPConnectionPool(host='www.rlslog.net', port=80): Max retries exceeded with url: /the-electric-woman-a-memoir-in-death-defying-acts-audiobook-p2p/ (Caused by NewConnectionError('<urllib3.connection.HTTPConnection object at 0x1177e00d0>: Failed to establish a new connection: [Errno 8] nodename nor servname provided, or not known'))\n"
     ]
    },
    {
     "name": "stderr",
     "output_type": "stream",
     "text": [
      "Scraping Progress:   8%|▊         | 710/8402 [21:50<5:09:27,  2.41s/it]"
     ]
    },
    {
     "name": "stdout",
     "output_type": "stream",
     "text": [
      "Successfully fetched: http://thebloggess.com/2019/08/23/does-this-happen-everywhere/\n"
     ]
    },
    {
     "name": "stderr",
     "output_type": "stream",
     "text": [
      "Scraping Progress:   8%|▊         | 711/8402 [21:53<5:46:40,  2.70s/it]"
     ]
    },
    {
     "name": "stdout",
     "output_type": "stream",
     "text": [
      "Successfully fetched: http://thebloggess.com/2019/09/10/big-news/\n"
     ]
    },
    {
     "name": "stderr",
     "output_type": "stream",
     "text": [
      "Scraping Progress:   8%|▊         | 712/8402 [21:55<5:40:38,  2.66s/it]"
     ]
    },
    {
     "name": "stdout",
     "output_type": "stream",
     "text": [
      "Cannot fetch https://www.bleedingcool.com/2019/11/26/darth-sidous-sideshow-collectibles-statue-first-look%ef%bf%bc/, HTTP error: 404 Client Error: Not Found for url: https://bleedingcool.com/path.php?psg=/darth-sidous-sideshow-collectibles-statue-first-look%EF%BF%BC/\n"
     ]
    },
    {
     "name": "stderr",
     "output_type": "stream",
     "text": [
      "Scraping Progress:   8%|▊         | 713/8402 [21:57<4:44:24,  2.22s/it]"
     ]
    },
    {
     "name": "stdout",
     "output_type": "stream",
     "text": [
      "Cannot fetch https://quartzy.qz.com/1186767/instagram-and-facebook-food-fads-and-videos-is-killing-our-tastes/, HTTP error: 404 Client Error: Not Found for url: https://quartzy.qz.com/1186767/instagram-and-facebook-food-fads-and-videos-is-killing-our-tastes\n"
     ]
    },
    {
     "name": "stderr",
     "output_type": "stream",
     "text": [
      "Scraping Progress:   8%|▊         | 714/8402 [21:58<4:07:36,  1.93s/it]"
     ]
    },
    {
     "name": "stdout",
     "output_type": "stream",
     "text": [
      "Successfully fetched: https://hypebeast.com/2019/9/best-new-tracks-september-20-2019-young-thug-e-40-danny-brown\n"
     ]
    },
    {
     "name": "stderr",
     "output_type": "stream",
     "text": [
      "Scraping Progress:   9%|▊         | 715/8402 [22:01<4:59:36,  2.34s/it]"
     ]
    },
    {
     "name": "stdout",
     "output_type": "stream",
     "text": [
      "Successfully fetched: http://www.huffingtonpost.com/entry/democrats-banks-racial-discrimination_us_5a96e489e4b0e6a523042fc8\n"
     ]
    },
    {
     "name": "stderr",
     "output_type": "stream",
     "text": [
      "Scraping Progress:   9%|▊         | 716/8402 [22:03<4:27:17,  2.09s/it]"
     ]
    },
    {
     "name": "stdout",
     "output_type": "stream",
     "text": [
      "Successfully fetched: https://www.cnet.com/news/9-great-reads-from-cnet-this-week-071319/\n"
     ]
    },
    {
     "name": "stderr",
     "output_type": "stream",
     "text": [
      "Scraping Progress:   9%|▊         | 717/8402 [22:07<6:02:48,  2.83s/it]"
     ]
    },
    {
     "name": "stdout",
     "output_type": "stream",
     "text": [
      "Successfully fetched: https://blog.adafruit.com/2018/11/14/growing-the-future-high-tech-farmers-are-using-led-lights/\n"
     ]
    },
    {
     "name": "stderr",
     "output_type": "stream",
     "text": [
      "Scraping Progress:   9%|▊         | 718/8402 [22:09<5:19:15,  2.49s/it]"
     ]
    },
    {
     "name": "stdout",
     "output_type": "stream",
     "text": [
      "Cannot fetch https://www.marketwatch.com/story/impeachment-is-necessary-but-not-sufficient-to-save-the-constitution-2019-12-11, HTTP error: 401 Client Error: HTTP Forbidden for url: https://www.marketwatch.com/story/impeachment-is-necessary-but-not-sufficient-to-save-the-constitution-2019-12-11\n"
     ]
    },
    {
     "name": "stderr",
     "output_type": "stream",
     "text": [
      "Scraping Progress:   9%|▊         | 719/8402 [22:10<4:25:54,  2.08s/it]"
     ]
    },
    {
     "name": "stdout",
     "output_type": "stream",
     "text": [
      "Successfully fetched: http://thebloggess.com/2019/08/09/positively-indecent/\n"
     ]
    },
    {
     "name": "stderr",
     "output_type": "stream",
     "text": [
      "Scraping Progress:   9%|▊         | 720/8402 [22:13<4:54:03,  2.30s/it]"
     ]
    },
    {
     "name": "stdout",
     "output_type": "stream",
     "text": [
      "Successfully fetched: http://thebloggess.com/2019/08/30/italy/\n"
     ]
    },
    {
     "name": "stderr",
     "output_type": "stream",
     "text": [
      "Scraping Progress:   9%|▊         | 721/8402 [22:16<5:36:54,  2.63s/it]"
     ]
    },
    {
     "name": "stdout",
     "output_type": "stream",
     "text": [
      "Successfully fetched: http://thebloggess.com/2019/07/26/well-shit-2/\n"
     ]
    },
    {
     "name": "stderr",
     "output_type": "stream",
     "text": [
      "Scraping Progress:   9%|▊         | 722/8402 [22:19<5:53:31,  2.76s/it]"
     ]
    },
    {
     "name": "stdout",
     "output_type": "stream",
     "text": [
      "Successfully fetched: http://thebloggess.com/2019/07/29/dottie-update-2/\n"
     ]
    },
    {
     "name": "stderr",
     "output_type": "stream",
     "text": [
      "Scraping Progress:   9%|▊         | 723/8402 [22:22<5:45:55,  2.70s/it]"
     ]
    },
    {
     "name": "stdout",
     "output_type": "stream",
     "text": [
      "Successfully fetched: http://thebloggess.com/2019/09/04/vergernia/\n"
     ]
    },
    {
     "name": "stderr",
     "output_type": "stream",
     "text": [
      "Scraping Progress:   9%|▊         | 724/8402 [22:24<5:38:38,  2.65s/it]"
     ]
    },
    {
     "name": "stdout",
     "output_type": "stream",
     "text": [
      "Successfully fetched: https://www.rollingstone.com/culture/culture-news/photographer-robert-frank-cocksucker-blues-rolling-stones-doc-882701/\n"
     ]
    },
    {
     "name": "stderr",
     "output_type": "stream",
     "text": [
      "Scraping Progress:   9%|▊         | 725/8402 [22:26<5:07:55,  2.41s/it]"
     ]
    },
    {
     "name": "stdout",
     "output_type": "stream",
     "text": [
      "Successfully fetched: http://thebloggess.com/2019/07/31/i-dont-even-fucking-know-but-maybe-thats-good/\n"
     ]
    },
    {
     "name": "stderr",
     "output_type": "stream",
     "text": [
      "Scraping Progress:   9%|▊         | 726/8402 [22:29<5:26:07,  2.55s/it]"
     ]
    },
    {
     "name": "stdout",
     "output_type": "stream",
     "text": [
      "Successfully fetched: http://thebloggess.com/2019/07/23/i-have-some-regrets/\n"
     ]
    },
    {
     "name": "stderr",
     "output_type": "stream",
     "text": [
      "Scraping Progress:   9%|▊         | 727/8402 [22:31<5:12:14,  2.44s/it]"
     ]
    },
    {
     "name": "stdout",
     "output_type": "stream",
     "text": [
      "Successfully fetched: http://thebloggess.com/2019/08/05/you-need-to-read-this/\n"
     ]
    },
    {
     "name": "stderr",
     "output_type": "stream",
     "text": [
      "Scraping Progress:   9%|▊         | 728/8402 [22:35<5:43:22,  2.68s/it]"
     ]
    },
    {
     "name": "stdout",
     "output_type": "stream",
     "text": [
      "Successfully fetched: http://thebloggess.com/2019/08/19/papa/\n"
     ]
    },
    {
     "name": "stderr",
     "output_type": "stream",
     "text": [
      "Scraping Progress:   9%|▊         | 729/8402 [22:38<5:59:24,  2.81s/it]"
     ]
    },
    {
     "name": "stdout",
     "output_type": "stream",
     "text": [
      "Successfully fetched: http://thebloggess.com/2019/08/27/and-it-has-pockets/\n"
     ]
    },
    {
     "name": "stderr",
     "output_type": "stream",
     "text": [
      "Scraping Progress:   9%|▊         | 730/8402 [22:44<8:14:37,  3.87s/it]"
     ]
    },
    {
     "name": "stdout",
     "output_type": "stream",
     "text": [
      "Successfully fetched: http://thebloggess.com/2019/08/11/the-silver-moth/\n"
     ]
    },
    {
     "name": "stderr",
     "output_type": "stream",
     "text": [
      "Scraping Progress:   9%|▊         | 731/8402 [22:47<7:41:15,  3.61s/it]"
     ]
    },
    {
     "name": "stdout",
     "output_type": "stream",
     "text": [
      "Successfully fetched: http://thebloggess.com/2019/09/13/thank-you-for-coming-to-my-ted-talk-but-seriously/\n"
     ]
    },
    {
     "name": "stderr",
     "output_type": "stream",
     "text": [
      "Scraping Progress:   9%|▊         | 732/8402 [22:50<6:56:31,  3.26s/it]"
     ]
    },
    {
     "name": "stdout",
     "output_type": "stream",
     "text": [
      "Successfully fetched: http://thebloggess.com/2019/09/05/excited-and-terrified-and-a-little-bit-nauseus/\n"
     ]
    },
    {
     "name": "stderr",
     "output_type": "stream",
     "text": [
      "Scraping Progress:   9%|▊         | 733/8402 [22:53<6:58:59,  3.28s/it]"
     ]
    },
    {
     "name": "stdout",
     "output_type": "stream",
     "text": [
      "Successfully fetched: http://thebloggess.com/2019/09/08/corpses/\n"
     ]
    },
    {
     "name": "stderr",
     "output_type": "stream",
     "text": [
      "Scraping Progress:   9%|▊         | 734/8402 [22:56<6:35:41,  3.10s/it]"
     ]
    },
    {
     "name": "stdout",
     "output_type": "stream",
     "text": [
      "Successfully fetched: http://thebloggess.com/2019/09/17/i-was-going-to-call-her-jennifur-jason-leigh-but-it-just-didnt-sing/\n"
     ]
    },
    {
     "name": "stderr",
     "output_type": "stream",
     "text": [
      "Scraping Progress:   9%|▊         | 735/8402 [22:58<6:17:51,  2.96s/it]"
     ]
    },
    {
     "name": "stdout",
     "output_type": "stream",
     "text": [
      "Successfully fetched: https://kotaku.com/an-overwatch-pro-is-turning-the-games-zen-monk-into-a-v-1823925643\n"
     ]
    },
    {
     "name": "stderr",
     "output_type": "stream",
     "text": [
      "Scraping Progress:   9%|▉         | 736/8402 [23:00<5:19:34,  2.50s/it]"
     ]
    },
    {
     "name": "stdout",
     "output_type": "stream",
     "text": [
      "Successfully fetched: https://deadspin.com/fans-are-revolting-against-wwe-honoring-fabulous-moolah-1823744298\n"
     ]
    },
    {
     "name": "stderr",
     "output_type": "stream",
     "text": [
      "Scraping Progress:   9%|▉         | 737/8402 [23:01<4:50:53,  2.28s/it]"
     ]
    },
    {
     "name": "stdout",
     "output_type": "stream",
     "text": [
      "Cannot fetch https://www.sfgate.com/bayarea/article/Bay-Bridge-side-show-leads-to-arrest-13167105.php, HTTP error: 403 Client Error: Forbidden for url: https://www.sfgate.com/bayarea/article/Bay-Bridge-side-show-leads-to-arrest-13167105.php\n"
     ]
    },
    {
     "name": "stderr",
     "output_type": "stream",
     "text": [
      "Scraping Progress:   9%|▉         | 738/8402 [23:03<4:09:09,  1.95s/it]"
     ]
    },
    {
     "name": "stdout",
     "output_type": "stream",
     "text": [
      "Successfully fetched: https://indianexpress.com/elections/maharashtra-assembly-elections-bjp-sena-gain-in-konkan-despite-rebellion-6087015/\n"
     ]
    },
    {
     "name": "stderr",
     "output_type": "stream",
     "text": [
      "Scraping Progress:   9%|▉         | 739/8402 [23:05<4:25:19,  2.08s/it]"
     ]
    },
    {
     "name": "stdout",
     "output_type": "stream",
     "text": [
      "Cannot fetch https://abovethelaw.com/2018/03/morning-docket-03-13-18/, HTTP error: 403 Client Error: Forbidden for url: https://abovethelaw.com/2018/03/morning-docket-03-13-18/\n"
     ]
    },
    {
     "name": "stderr",
     "output_type": "stream",
     "text": [
      "Scraping Progress:   9%|▉         | 741/8402 [23:08<3:59:43,  1.88s/it]"
     ]
    },
    {
     "name": "stdout",
     "output_type": "stream",
     "text": [
      "Successfully fetched: http://thebloggess.com/2018/10/14/my-washing-machine-is-mainly-used-to-remind-me-how-bad-i-am-at-housekeeping/\n"
     ]
    },
    {
     "name": "stderr",
     "output_type": "stream",
     "text": [
      "Scraping Progress:   9%|▉         | 742/8402 [23:11<4:36:06,  2.16s/it]"
     ]
    },
    {
     "name": "stdout",
     "output_type": "stream",
     "text": [
      "Successfully fetched: http://thebloggess.com/2018/10/03/a-thank-you-to-everyone-who-keeps-this-place-going/\n"
     ]
    },
    {
     "name": "stderr",
     "output_type": "stream",
     "text": [
      "Scraping Progress:   9%|▉         | 743/8402 [23:13<4:43:10,  2.22s/it]"
     ]
    },
    {
     "name": "stdout",
     "output_type": "stream",
     "text": [
      "Successfully fetched: http://thebloggess.com/2018/10/16/working-the-program/\n"
     ]
    },
    {
     "name": "stderr",
     "output_type": "stream",
     "text": [
      "Scraping Progress:   9%|▉         | 744/8402 [23:17<5:16:26,  2.48s/it]"
     ]
    },
    {
     "name": "stdout",
     "output_type": "stream",
     "text": [
      "Successfully fetched: http://thebloggess.com/2018/10/05/the-coven-of-witches-with-questionable-powers-applications-being-accepted-now/\n"
     ]
    },
    {
     "name": "stderr",
     "output_type": "stream",
     "text": [
      "Scraping Progress:   9%|▉         | 745/8402 [23:20<5:42:19,  2.68s/it]"
     ]
    },
    {
     "name": "stdout",
     "output_type": "stream",
     "text": [
      "Successfully fetched: http://thebloggess.com/2018/10/07/lily-is-all-of-us-also-were-the-person-yelling-at-lily-also-we-might-be-the-mud-hard-to-say-at-this-point/\n"
     ]
    },
    {
     "name": "stderr",
     "output_type": "stream",
     "text": [
      "Scraping Progress:   9%|▉         | 746/8402 [23:22<5:27:56,  2.57s/it]"
     ]
    },
    {
     "name": "stdout",
     "output_type": "stream",
     "text": [
      "Successfully fetched: http://thebloggess.com/2018/10/09/my-amazing-daughter-alternate-title-i-dont-think-youll-have-a-problem-with-this-at-all-but-if-you-do-you-can-fuck-all-the-way-off/\n"
     ]
    },
    {
     "name": "stderr",
     "output_type": "stream",
     "text": [
      "Scraping Progress:   9%|▉         | 747/8402 [23:26<6:23:05,  3.00s/it]"
     ]
    },
    {
     "name": "stdout",
     "output_type": "stream",
     "text": [
      "Successfully fetched: http://thebloggess.com/2018/10/12/my-biggest-accomplishment-of-the-week/\n"
     ]
    },
    {
     "name": "stderr",
     "output_type": "stream",
     "text": [
      "Scraping Progress:   9%|▉         | 748/8402 [23:28<5:51:48,  2.76s/it]"
     ]
    },
    {
     "name": "stdout",
     "output_type": "stream",
     "text": [
      "Successfully fetched: https://www.bleedingcool.com/2019/09/06/the-flash-races-to-our-shelves-with-new-sideshow-collectibles-statue/\n"
     ]
    },
    {
     "name": "stderr",
     "output_type": "stream",
     "text": [
      "Scraping Progress:   9%|▉         | 749/8402 [23:30<5:01:26,  2.36s/it]"
     ]
    },
    {
     "name": "stdout",
     "output_type": "stream",
     "text": [
      "Cannot fetch https://hotair.com/archives/2018/12/10/cnn-sure-looks-like-maria-butina-just-scored-plea-deal/, HTTP error: 404 Client Error: Not Found for url: https://hotair.com/2018/12/10/cnn-sure-looks-like-maria-butina-just-scored-plea-deal/\n"
     ]
    },
    {
     "name": "stderr",
     "output_type": "stream",
     "text": [
      "Scraping Progress:   9%|▉         | 750/8402 [23:31<4:21:27,  2.05s/it]"
     ]
    },
    {
     "name": "stdout",
     "output_type": "stream",
     "text": [
      "Successfully fetched: https://designyoutrust.com/2019/12/love-like-blood-the-superb-macabre-and-gothic-artworks-of-abigail-larson/\n"
     ]
    },
    {
     "name": "stderr",
     "output_type": "stream",
     "text": [
      "Scraping Progress:   9%|▉         | 751/8402 [23:32<3:57:48,  1.86s/it]"
     ]
    },
    {
     "name": "stdout",
     "output_type": "stream",
     "text": [
      "Successfully fetched: https://geektyrant.com/news/check-out-this-premium-format-aquaman-figure-from-sideshow-collectibles\n"
     ]
    },
    {
     "name": "stderr",
     "output_type": "stream",
     "text": [
      "Scraping Progress:   9%|▉         | 752/8402 [23:35<4:23:08,  2.06s/it]"
     ]
    },
    {
     "name": "stdout",
     "output_type": "stream",
     "text": [
      "Successfully fetched: https://www.cleveland19.com/2019/10/08/cleveland-councilman-calls-cpds-handling-high-tech-security-cameras-sideshow/\n"
     ]
    },
    {
     "name": "stderr",
     "output_type": "stream",
     "text": [
      "Scraping Progress:   9%|▉         | 753/8402 [23:37<4:31:32,  2.13s/it]"
     ]
    },
    {
     "name": "stdout",
     "output_type": "stream",
     "text": [
      "Successfully fetched: https://pjmedia.com/instapundit/325236/\n"
     ]
    },
    {
     "name": "stderr",
     "output_type": "stream",
     "text": [
      "Scraping Progress:   9%|▉         | 754/8402 [23:38<3:59:36,  1.88s/it]"
     ]
    },
    {
     "name": "stdout",
     "output_type": "stream",
     "text": [
      "Successfully fetched: https://www.bloomberg.com/news/articles/2018-03-09/brexit-denial-leaves-u-k-energy-industry-pleading-for-no-change\n"
     ]
    },
    {
     "name": "stderr",
     "output_type": "stream",
     "text": [
      "Scraping Progress:   9%|▉         | 755/8402 [23:40<3:35:34,  1.69s/it]"
     ]
    },
    {
     "name": "stdout",
     "output_type": "stream",
     "text": [
      "Cannot fetch https://jovemnerd.com.br/nerdbunker/john-wick-so-precisa-de-uma-caneta-mas-nesse-figure-da-sdcc-ele-tem-ainda-mais-armas/, HTTP error: 404 Client Error: Not Found for url: https://jovemnerd.com.br/noticias/filmes/john-wick-so-precisa-de-uma-caneta-mas-nesse-figure-da-sdcc-ele-tem-ainda-mais-armas\n"
     ]
    },
    {
     "name": "stderr",
     "output_type": "stream",
     "text": [
      "Scraping Progress:   9%|▉         | 756/8402 [23:42<3:50:11,  1.81s/it]"
     ]
    },
    {
     "name": "stdout",
     "output_type": "stream",
     "text": [
      "Successfully fetched: https://www.thehindu.com/business/Industry/investors-can-just-ignore-glimmers-of-china-trade-hope/article25016229.ece\n"
     ]
    },
    {
     "name": "stderr",
     "output_type": "stream",
     "text": [
      "Scraping Progress:   9%|▉         | 757/8402 [23:44<4:20:41,  2.05s/it]"
     ]
    },
    {
     "name": "stdout",
     "output_type": "stream",
     "text": [
      "Successfully fetched: https://bookriot.com/2018/01/08/whats-wrong-every-circus-story/\n"
     ]
    },
    {
     "name": "stderr",
     "output_type": "stream",
     "text": [
      "Scraping Progress:   9%|▉         | 758/8402 [23:46<4:10:32,  1.97s/it]"
     ]
    },
    {
     "name": "stdout",
     "output_type": "stream",
     "text": [
      "Successfully fetched: https://bookriot.com/2018/01/05/always-assign-books-ghost-babies/\n"
     ]
    },
    {
     "name": "stderr",
     "output_type": "stream",
     "text": [
      "Scraping Progress:   9%|▉         | 759/8402 [23:48<3:57:25,  1.86s/it]"
     ]
    },
    {
     "name": "stdout",
     "output_type": "stream",
     "text": [
      "Successfully fetched: https://www.vanityfair.com/news/2018/11/jim-acosta-and-cnn-is-an-ugly-sideshow\n"
     ]
    },
    {
     "name": "stderr",
     "output_type": "stream",
     "text": [
      "Scraping Progress:   9%|▉         | 760/8402 [23:49<3:36:41,  1.70s/it]"
     ]
    },
    {
     "name": "stdout",
     "output_type": "stream",
     "text": [
      "Successfully fetched: https://www.bleedingcool.com/2019/11/22/the-rancor-new-sideshow-collectibles-deluxe-statue/\n"
     ]
    },
    {
     "name": "stderr",
     "output_type": "stream",
     "text": [
      "Scraping Progress:   9%|▉         | 761/8402 [23:50<3:18:53,  1.56s/it]"
     ]
    },
    {
     "name": "stdout",
     "output_type": "stream",
     "text": [
      "Successfully fetched: https://geektyrant.com/news/mark-hamill-shows-off-awesome-new-joker-cane\n"
     ]
    },
    {
     "name": "stderr",
     "output_type": "stream",
     "text": [
      "Scraping Progress:   9%|▉         | 762/8402 [23:53<3:44:19,  1.76s/it]"
     ]
    },
    {
     "name": "stdout",
     "output_type": "stream",
     "text": [
      "Cannot fetch http://www.brooklynvegan.com/st-vincent-covered-pearl-jams-tremor-christ-watch/, HTTP error: 403 Client Error: Forbidden for url: https://www.brooklynvegan.com/st-vincent-covered-pearl-jams-tremor-christ-watch/\n"
     ]
    },
    {
     "name": "stderr",
     "output_type": "stream",
     "text": [
      "Scraping Progress:   9%|▉         | 763/8402 [23:54<3:20:41,  1.58s/it]"
     ]
    },
    {
     "name": "stdout",
     "output_type": "stream",
     "text": [
      "Successfully fetched: https://www.bleedingcool.com/2019/11/21/grimlock-statue-first-look-pcs-sideshow/\n"
     ]
    },
    {
     "name": "stderr",
     "output_type": "stream",
     "text": [
      "Scraping Progress:   9%|▉         | 764/8402 [23:55<3:08:22,  1.48s/it]"
     ]
    },
    {
     "name": "stdout",
     "output_type": "stream",
     "text": [
      "Successfully fetched: https://www.bleedingcool.com/2019/11/27/asajj-ventress-is-back-with-a-new-sideshow-collectibles-statue-first-look/\n"
     ]
    },
    {
     "name": "stderr",
     "output_type": "stream",
     "text": [
      "Scraping Progress:   9%|▉         | 765/8402 [23:56<2:59:13,  1.41s/it]"
     ]
    },
    {
     "name": "stdout",
     "output_type": "stream",
     "text": [
      "Successfully fetched: https://www.bleedingcool.com/2019/12/28/venompool-new-pcs-collectibles-statue/\n"
     ]
    },
    {
     "name": "stderr",
     "output_type": "stream",
     "text": [
      "Scraping Progress:   9%|▉         | 766/8402 [23:57<2:52:37,  1.36s/it]"
     ]
    },
    {
     "name": "stdout",
     "output_type": "stream",
     "text": [
      "Successfully fetched: https://www.gizmodo.com.au/2018/09/forget-the-xenomorph-jonesy-the-cat-is-the-real-star-of-this-alien-statue/\n"
     ]
    },
    {
     "name": "stderr",
     "output_type": "stream",
     "text": [
      "Scraping Progress:   9%|▉         | 767/8402 [24:00<3:29:34,  1.65s/it]"
     ]
    },
    {
     "name": "stdout",
     "output_type": "stream",
     "text": [
      "Successfully fetched: https://www.tomshw.it/culturapop/captain-america-avengers-endgame-sixth-scale-figure-in-arrivo-da-hot-toys/\n"
     ]
    },
    {
     "name": "stderr",
     "output_type": "stream",
     "text": [
      "Scraping Progress:   9%|▉         | 768/8402 [24:02<3:34:58,  1.69s/it]"
     ]
    },
    {
     "name": "stdout",
     "output_type": "stream",
     "text": [
      "Successfully fetched: https://www.tomshw.it/culturapop/optimus-prime-bumblebee-movie-collectible-figure-di-threea-toys/\n"
     ]
    },
    {
     "name": "stderr",
     "output_type": "stream",
     "text": [
      "Scraping Progress:   9%|▉         | 769/8402 [24:03<3:36:46,  1.70s/it]"
     ]
    },
    {
     "name": "stdout",
     "output_type": "stream",
     "text": [
      "Successfully fetched: https://www.tomshw.it/culturapop/black-widow-avengersendgame-annunciata-da-hot-toys/\n"
     ]
    },
    {
     "name": "stderr",
     "output_type": "stream",
     "text": [
      "Scraping Progress:   9%|▉         | 770/8402 [24:05<3:50:01,  1.81s/it]"
     ]
    },
    {
     "name": "stdout",
     "output_type": "stream",
     "text": [
      "Successfully fetched: https://theintercept.com/2019/09/12/debate-alexandria-ocasio-cortez-new-faces-pac-ad/\n"
     ]
    },
    {
     "name": "stderr",
     "output_type": "stream",
     "text": [
      "Scraping Progress:   9%|▉         | 771/8402 [24:07<3:37:07,  1.71s/it]"
     ]
    },
    {
     "name": "stdout",
     "output_type": "stream",
     "text": [
      "Successfully fetched: http://www.skysports.com/football/news/25706/11492471/fleetwood-are-equals-with-sunderland-despite-gulf-between-clubs-says-joey-barton\n"
     ]
    },
    {
     "name": "stderr",
     "output_type": "stream",
     "text": [
      "Scraping Progress:   9%|▉         | 772/8402 [24:09<3:49:15,  1.80s/it]"
     ]
    },
    {
     "name": "stdout",
     "output_type": "stream",
     "text": [
      "Successfully fetched: https://www.tomshw.it/culturapop/rocket-avengers-endgame-annunciato-da-hot-toys/\n"
     ]
    },
    {
     "name": "stderr",
     "output_type": "stream",
     "text": [
      "Scraping Progress:   9%|▉         | 773/8402 [24:11<3:46:39,  1.78s/it]"
     ]
    },
    {
     "name": "stdout",
     "output_type": "stream",
     "text": [
      "Successfully fetched: https://www.tomshw.it/culturapop/miles-morales-prodotto-da-unruly-industries/\n"
     ]
    },
    {
     "name": "stderr",
     "output_type": "stream",
     "text": [
      "Scraping Progress:   9%|▉         | 774/8402 [24:12<3:46:02,  1.78s/it]"
     ]
    },
    {
     "name": "stdout",
     "output_type": "stream",
     "text": [
      "Successfully fetched: https://www.tomshw.it/culturapop/arc-reactor-di-iron-man-a-grandezza-reale-da-hot-toys/\n"
     ]
    },
    {
     "name": "stderr",
     "output_type": "stream",
     "text": [
      "Scraping Progress:   9%|▉         | 775/8402 [24:14<3:42:18,  1.75s/it]"
     ]
    },
    {
     "name": "stdout",
     "output_type": "stream",
     "text": [
      "Successfully fetched: https://www.tomshw.it/culturapop/iron-patriot-da-avengers-endgame-annunciato-da-hot-toys/\n"
     ]
    },
    {
     "name": "stderr",
     "output_type": "stream",
     "text": [
      "Scraping Progress:   9%|▉         | 776/8402 [24:16<3:37:43,  1.71s/it]"
     ]
    },
    {
     "name": "stdout",
     "output_type": "stream",
     "text": [
      "Successfully fetched: https://www.tomshw.it/culturapop/hulk-avengersendgame-da-hot-toys/\n"
     ]
    },
    {
     "name": "stderr",
     "output_type": "stream",
     "text": [
      "Scraping Progress:   9%|▉         | 777/8402 [24:17<3:38:02,  1.72s/it]"
     ]
    },
    {
     "name": "stdout",
     "output_type": "stream",
     "text": [
      "Successfully fetched: https://deadline.com/2019/06/the-circus-director-sharon-grimberg-pbs-emmys-interview-1202636780/\n"
     ]
    },
    {
     "name": "stderr",
     "output_type": "stream",
     "text": [
      "Scraping Progress:   9%|▉         | 778/8402 [24:20<4:05:22,  1.93s/it]"
     ]
    },
    {
     "name": "stdout",
     "output_type": "stream",
     "text": [
      "Successfully fetched: http://dlisted.com/2019/01/29/the-cops-got-called-over-a-fight-between-blac-chyna-and-kid-buu-in-hawaii-as-rob-kardashian-gets-pissed-she-left-their-daughter-behind/\n"
     ]
    },
    {
     "name": "stderr",
     "output_type": "stream",
     "text": [
      "Scraping Progress:   9%|▉         | 779/8402 [24:21<3:52:05,  1.83s/it]"
     ]
    },
    {
     "name": "stdout",
     "output_type": "stream",
     "text": [
      "Cannot fetch https://www.fastcodesign.com/90160155/meet-the-jury-of-the-2018-innovation-by-design-awards?partner=feedburner&utm_source=feedburner&utm_medium=feed&utm_campaign=Feed%3A+fastcodesign%2Ffeed+%28Co.Design%29, HTTP error: 403 Client Error: Forbidden for url: https://www.fastcodesign.com/90160155/meet-the-jury-of-the-2018-innovation-by-design-awards?partner=feedburner&utm_source=feedburner&utm_medium=feed&utm_campaign=Feed%3A+fastcodesign%2Ffeed+%28Co.Design%29\n"
     ]
    },
    {
     "name": "stderr",
     "output_type": "stream",
     "text": [
      "Scraping Progress:   9%|▉         | 780/8402 [24:23<3:30:13,  1.65s/it]"
     ]
    },
    {
     "name": "stdout",
     "output_type": "stream",
     "text": [
      "Successfully fetched: https://crooksandliars.com/2019/05/mikes-blog-round-13\n"
     ]
    },
    {
     "name": "stderr",
     "output_type": "stream",
     "text": [
      "Scraping Progress:   9%|▉         | 781/8402 [24:24<3:25:41,  1.62s/it]"
     ]
    },
    {
     "name": "stdout",
     "output_type": "stream",
     "text": [
      "Cannot fetch https://nerdist.com/thanos-hot-toys-figure-avengers-infinity-war/, HTTP error: 404 Client Error: Not Found for url: https://nerdist.com/thanos-hot-toys-figure-avengers-infinity-war/\n"
     ]
    },
    {
     "name": "stderr",
     "output_type": "stream",
     "text": [
      "Scraping Progress:   9%|▉         | 782/8402 [24:26<3:35:58,  1.70s/it]"
     ]
    },
    {
     "name": "stdout",
     "output_type": "stream",
     "text": [
      "Successfully fetched: https://www.eurogamer.es/articles/2019-10-21-figura-de-spider-man-basada-en-juego-ps4\n"
     ]
    },
    {
     "name": "stderr",
     "output_type": "stream",
     "text": [
      "Scraping Progress:   9%|▉         | 783/8402 [24:28<3:39:07,  1.73s/it]"
     ]
    },
    {
     "name": "stdout",
     "output_type": "stream",
     "text": [
      "Successfully fetched: https://www.atlasobscura.com/places/the-ilkeston-giant\n"
     ]
    },
    {
     "name": "stderr",
     "output_type": "stream",
     "text": [
      "Scraping Progress:   9%|▉         | 784/8402 [24:29<3:19:21,  1.57s/it]"
     ]
    },
    {
     "name": "stdout",
     "output_type": "stream",
     "text": [
      "Cannot fetch https://www.starwars.com/news/sdcc-2018-14-things-we-learned-from-the-star-wars-collectibles-panel, connection timed out.\n"
     ]
    },
    {
     "name": "stderr",
     "output_type": "stream",
     "text": [
      "Scraping Progress:   9%|▉         | 785/8402 [24:40<9:25:30,  4.45s/it]"
     ]
    },
    {
     "name": "stdout",
     "output_type": "stream",
     "text": [
      "Cannot fetch https://www.thenation.com/article/net-neutrality-broadband-fcc/, HTTP error: 404 Client Error: Not Found for url: https://www.thenation.com/article/net-neutrality-broadband-fcc/\n"
     ]
    },
    {
     "name": "stderr",
     "output_type": "stream",
     "text": [
      "Scraping Progress:   9%|▉         | 786/8402 [24:42<7:32:29,  3.56s/it]"
     ]
    },
    {
     "name": "stdout",
     "output_type": "stream",
     "text": [
      "Successfully fetched: http://spacenews.com/air-force-tries-to-create-a-warrior-culture-in-space/\n"
     ]
    },
    {
     "name": "stderr",
     "output_type": "stream",
     "text": [
      "Scraping Progress:   9%|▉         | 787/8402 [24:43<6:14:33,  2.95s/it]"
     ]
    },
    {
     "name": "stdout",
     "output_type": "stream",
     "text": [
      "Cannot fetch http://www.powerlineblog.com/archives/2019/11/an-omar-sideshow.php, HTTP error: 403 Client Error: Forbidden for url: https://www.powerlineblog.com/archives/2019/11/an-omar-sideshow.php\n"
     ]
    },
    {
     "name": "stderr",
     "output_type": "stream",
     "text": [
      "Scraping Progress:   9%|▉         | 788/8402 [24:45<5:08:48,  2.43s/it]"
     ]
    },
    {
     "name": "stdout",
     "output_type": "stream",
     "text": [
      "Successfully fetched: https://jalopnik.com/tesla-puts-restraining-order-on-car-following-short-sel-1834214987\n"
     ]
    },
    {
     "name": "stderr",
     "output_type": "stream",
     "text": [
      "Scraping Progress:   9%|▉         | 789/8402 [24:46<4:31:04,  2.14s/it]"
     ]
    },
    {
     "name": "stdout",
     "output_type": "stream",
     "text": [
      "Cannot fetch https://nerdist.com/what-aquamans-old-school-lego-look-means-for-the-dceu/, HTTP error: 404 Client Error: Not Found for url: https://nerdist.com/what-aquamans-old-school-lego-look-means-for-the-dceu/\n"
     ]
    },
    {
     "name": "stderr",
     "output_type": "stream",
     "text": [
      "Scraping Progress:   9%|▉         | 790/8402 [24:48<4:15:30,  2.01s/it]"
     ]
    },
    {
     "name": "stdout",
     "output_type": "stream",
     "text": [
      "Successfully fetched: http://www.latimes.com/entertainment/movies/la-et-mn-mini-china-salesman-review-20180614-story.html\n"
     ]
    },
    {
     "name": "stderr",
     "output_type": "stream",
     "text": [
      "Scraping Progress:   9%|▉         | 792/8402 [24:51<3:59:30,  1.89s/it]"
     ]
    },
    {
     "name": "stdout",
     "output_type": "stream",
     "text": [
      "Successfully fetched: https://vandal.elespanol.com/noticia/1350722716/gecco-presenta-su-figura-crystal-lizard-de-dark-souls/\n"
     ]
    },
    {
     "name": "stderr",
     "output_type": "stream",
     "text": [
      "Scraping Progress:   9%|▉         | 793/8402 [24:53<3:43:51,  1.77s/it]"
     ]
    },
    {
     "name": "stdout",
     "output_type": "stream",
     "text": [
      "Successfully fetched: http://www.vulture.com/2018/07/lizzy-mcgroders-web-series-middle-school-talent-show.html\n"
     ]
    },
    {
     "name": "stderr",
     "output_type": "stream",
     "text": [
      "Scraping Progress:   9%|▉         | 794/8402 [24:55<3:52:39,  1.83s/it]"
     ]
    },
    {
     "name": "stdout",
     "output_type": "stream",
     "text": [
      "Successfully fetched: https://motherboard.vice.com/en_us/article/kznnnn/why-machine-learning-needs-gpus\n"
     ]
    },
    {
     "name": "stderr",
     "output_type": "stream",
     "text": [
      "Scraping Progress:   9%|▉         | 795/8402 [24:57<4:04:32,  1.93s/it]"
     ]
    },
    {
     "name": "stdout",
     "output_type": "stream",
     "text": [
      "Cannot fetch https://www.autoblog.com/2018/08/06/2019-ford-mustang-bullitt-first-drive-review-fmb019/, HTTP error: 403 Client Error: Forbidden for url: https://www.autoblog.com/2018/08/06/2019-ford-mustang-bullitt-first-drive-review-fmb019/\n"
     ]
    },
    {
     "name": "stderr",
     "output_type": "stream",
     "text": [
      "Scraping Progress:   9%|▉         | 796/8402 [24:58<3:41:11,  1.74s/it]"
     ]
    },
    {
     "name": "stdout",
     "output_type": "stream",
     "text": [
      "Successfully fetched: https://www.tomshw.it/culturapop/remnant-stormtrooper-la-nuova-hot-toys-tratta-da-the-mandalorian/\n"
     ]
    },
    {
     "name": "stderr",
     "output_type": "stream",
     "text": [
      "Scraping Progress:   9%|▉         | 797/8402 [25:00<3:37:13,  1.71s/it]"
     ]
    },
    {
     "name": "stdout",
     "output_type": "stream",
     "text": [
      "Successfully fetched: https://www.abc.net.au/news/2019-04-26/grattan-all-is-forgiven-in-the-liberal-embrace-of-clive-palmer/11048174\n"
     ]
    },
    {
     "name": "stderr",
     "output_type": "stream",
     "text": [
      "Scraping Progress:   9%|▉         | 798/8402 [25:03<4:17:58,  2.04s/it]"
     ]
    },
    {
     "name": "stdout",
     "output_type": "stream",
     "text": [
      "Successfully fetched: https://www.bostonglobe.com/sports/bruins/2019/06/02/tuukka-rask-holding-off-blues-bump-and-run-game/ZKcFhvMeXZ7v3c78WiGYrJ/story.html\n"
     ]
    },
    {
     "name": "stderr",
     "output_type": "stream",
     "text": [
      "Scraping Progress:  10%|▉         | 799/8402 [25:05<4:31:58,  2.15s/it]"
     ]
    },
    {
     "name": "stdout",
     "output_type": "stream",
     "text": [
      "Cannot fetch https://nerdist.com/solo-a-star-wars-story-hot-toys/, HTTP error: 404 Client Error: Not Found for url: https://nerdist.com/solo-a-star-wars-story-hot-toys/\n"
     ]
    },
    {
     "name": "stderr",
     "output_type": "stream",
     "text": [
      "Scraping Progress:  10%|▉         | 800/8402 [25:07<4:21:01,  2.06s/it]"
     ]
    },
    {
     "name": "stdout",
     "output_type": "stream",
     "text": [
      "Successfully fetched: https://screenrant.com/iron-man-extremis-mark-ii-statue-adi-granov/\n"
     ]
    },
    {
     "name": "stderr",
     "output_type": "stream",
     "text": [
      "Scraping Progress:  10%|▉         | 801/8402 [25:08<3:53:37,  1.84s/it]"
     ]
    },
    {
     "name": "stdout",
     "output_type": "stream",
     "text": [
      "Successfully fetched: https://www.gizmodo.com.au/2018/08/after-trump-rants-top-gop-senator-asks-ftc-to-re-open-google-antitrust-probe/\n"
     ]
    },
    {
     "name": "stderr",
     "output_type": "stream",
     "text": [
      "Scraping Progress:  10%|▉         | 802/8402 [25:10<3:42:01,  1.75s/it]"
     ]
    },
    {
     "name": "stdout",
     "output_type": "stream",
     "text": [
      "Successfully fetched: https://www.theatlantic.com/ideas/archive/2019/03/michael-cohens-testimony-shed-light-trumps-racism/584038/\n"
     ]
    },
    {
     "name": "stderr",
     "output_type": "stream",
     "text": [
      "Scraping Progress:  10%|▉         | 803/8402 [25:11<3:38:42,  1.73s/it]"
     ]
    },
    {
     "name": "stdout",
     "output_type": "stream",
     "text": [
      "Successfully fetched: https://www.thetruthaboutcars.com/2019/03/ghosn-tries-to-speak-with-alliance-board-over-big-changes-blocked-by-court/\n"
     ]
    },
    {
     "name": "stderr",
     "output_type": "stream",
     "text": [
      "Scraping Progress:  10%|▉         | 804/8402 [25:13<3:30:15,  1.66s/it]"
     ]
    },
    {
     "name": "stdout",
     "output_type": "stream",
     "text": [
      "Successfully fetched: http://thebloggess.com/2018/01/18/winnie-the-pooh-is-overrated-eeyore-probably/\n"
     ]
    },
    {
     "name": "stderr",
     "output_type": "stream",
     "text": [
      "Scraping Progress:  10%|▉         | 805/8402 [25:16<4:21:48,  2.07s/it]"
     ]
    },
    {
     "name": "stdout",
     "output_type": "stream",
     "text": [
      "Successfully fetched: http://thebloggess.com/2018/01/22/my-body-is-a-deadly-weapon-usually-just-to-myself-but-today-its-really-going-the-extra-mile/\n"
     ]
    },
    {
     "name": "stderr",
     "output_type": "stream",
     "text": [
      "Scraping Progress:  10%|▉         | 807/8402 [25:20<4:17:39,  2.04s/it]"
     ]
    },
    {
     "name": "stdout",
     "output_type": "stream",
     "text": [
      "Successfully fetched: https://qz.com/1650449/electric-airplanes-take-flight-at-the-paris-air-show/\n"
     ]
    },
    {
     "name": "stderr",
     "output_type": "stream",
     "text": [
      "Scraping Progress:  10%|▉         | 808/8402 [25:22<3:59:16,  1.89s/it]"
     ]
    },
    {
     "name": "stdout",
     "output_type": "stream",
     "text": [
      "Successfully fetched: https://www.theatlantic.com/international/archive/2019/06/post-brexit-paradox-theresa-may-global-britain/591244/\n"
     ]
    },
    {
     "name": "stderr",
     "output_type": "stream",
     "text": [
      "Scraping Progress:  10%|▉         | 809/8402 [25:23<3:47:18,  1.80s/it]"
     ]
    },
    {
     "name": "stdout",
     "output_type": "stream",
     "text": [
      "Successfully fetched: https://www.theatlantic.com/entertainment/archive/2019/07/us-womens-soccer-must-win/593161/\n"
     ]
    },
    {
     "name": "stderr",
     "output_type": "stream",
     "text": [
      "Scraping Progress:  10%|▉         | 810/8402 [25:25<3:49:07,  1.81s/it]"
     ]
    },
    {
     "name": "stdout",
     "output_type": "stream",
     "text": [
      "Successfully fetched: https://www.theatlantic.com/ideas/archive/2019/06/reparations-are-not-answer-poverty/592594/\n"
     ]
    },
    {
     "name": "stderr",
     "output_type": "stream",
     "text": [
      "Scraping Progress:  10%|▉         | 811/8402 [25:27<3:39:20,  1.73s/it]"
     ]
    },
    {
     "name": "stdout",
     "output_type": "stream",
     "text": [
      "Successfully fetched: https://www.bostonglobe.com/arts/music/2019/09/28/boston-lyric-opera-takes-pagliacci-circus/4StvyBLppiPsWVCfM4lpOO/story.html\n"
     ]
    },
    {
     "name": "stderr",
     "output_type": "stream",
     "text": [
      "Scraping Progress:  10%|▉         | 812/8402 [25:29<3:52:16,  1.84s/it]"
     ]
    },
    {
     "name": "stdout",
     "output_type": "stream",
     "text": [
      "Successfully fetched: http://thebloggess.com/2018/03/16/amazon-knows-me-too-well-and-its-insulting-and-also-costing-me-money/\n"
     ]
    },
    {
     "name": "stderr",
     "output_type": "stream",
     "text": [
      "Scraping Progress:  10%|▉         | 813/8402 [25:31<4:15:52,  2.02s/it]"
     ]
    },
    {
     "name": "stdout",
     "output_type": "stream",
     "text": [
      "Successfully fetched: http://thebloggess.com/2018/04/02/laservag/\n"
     ]
    },
    {
     "name": "stderr",
     "output_type": "stream",
     "text": [
      "Scraping Progress:  10%|▉         | 814/8402 [25:33<4:20:05,  2.06s/it]"
     ]
    },
    {
     "name": "stdout",
     "output_type": "stream",
     "text": [
      "Successfully fetched: http://thebloggess.com/2018/04/01/shes-naturally-part-rabbit/\n"
     ]
    },
    {
     "name": "stderr",
     "output_type": "stream",
     "text": [
      "Scraping Progress:  10%|▉         | 815/8402 [25:36<4:34:00,  2.17s/it]"
     ]
    },
    {
     "name": "stdout",
     "output_type": "stream",
     "text": [
      "Successfully fetched: http://thebloggess.com/2018/03/28/crowdsourcing-how-to-be-a-good-parent/\n"
     ]
    },
    {
     "name": "stderr",
     "output_type": "stream",
     "text": [
      "Scraping Progress:  10%|▉         | 816/8402 [25:39<5:03:54,  2.40s/it]"
     ]
    },
    {
     "name": "stdout",
     "output_type": "stream",
     "text": [
      "Successfully fetched: http://thebloggess.com/2018/03/18/i-need-a-lot-of-pills/\n"
     ]
    },
    {
     "name": "stderr",
     "output_type": "stream",
     "text": [
      "Scraping Progress:  10%|▉         | 817/8402 [25:41<5:03:12,  2.40s/it]"
     ]
    },
    {
     "name": "stdout",
     "output_type": "stream",
     "text": [
      "Successfully fetched: https://www.slashfilm.com/star-wars-bits-cassian-andor-show-episode-9-rumors-celebration-guests-and-more/\n"
     ]
    },
    {
     "name": "stderr",
     "output_type": "stream",
     "text": [
      "Scraping Progress:  10%|▉         | 818/8402 [25:45<6:09:05,  2.92s/it]"
     ]
    },
    {
     "name": "stdout",
     "output_type": "stream",
     "text": [
      "Successfully fetched: http://thebloggess.com/2018/03/22/i-quit-sort-of/\n"
     ]
    },
    {
     "name": "stderr",
     "output_type": "stream",
     "text": [
      "Scraping Progress:  10%|▉         | 819/8402 [25:48<6:06:18,  2.90s/it]"
     ]
    },
    {
     "name": "stdout",
     "output_type": "stream",
     "text": [
      "Successfully fetched: http://thebloggess.com/2018/03/20/i-see-a-big-box-of-knives-in-my-future-and-possibly-a-tetanus-shot-maybe-both/\n"
     ]
    },
    {
     "name": "stderr",
     "output_type": "stream",
     "text": [
      "Scraping Progress:  10%|▉         | 820/8402 [25:51<5:54:44,  2.81s/it]"
     ]
    },
    {
     "name": "stdout",
     "output_type": "stream",
     "text": [
      "Successfully fetched: http://thebloggess.com/2018/04/04/confession-i-dont-understand-the-tiny-blood-bucket/\n"
     ]
    },
    {
     "name": "stderr",
     "output_type": "stream",
     "text": [
      "Scraping Progress:  10%|▉         | 821/8402 [25:53<5:49:45,  2.77s/it]"
     ]
    },
    {
     "name": "stdout",
     "output_type": "stream",
     "text": [
      "Successfully fetched: http://thebloggess.com/2018/04/12/i-mean-its-so-so-accurate/\n"
     ]
    },
    {
     "name": "stderr",
     "output_type": "stream",
     "text": [
      "Scraping Progress:  10%|▉         | 822/8402 [25:56<5:51:49,  2.78s/it]"
     ]
    },
    {
     "name": "stdout",
     "output_type": "stream",
     "text": [
      "Successfully fetched: https://crooksandliars.com/2018/08/mikes-blog-round-27\n"
     ]
    },
    {
     "name": "stderr",
     "output_type": "stream",
     "text": [
      "Scraping Progress:  10%|▉         | 823/8402 [25:58<5:04:17,  2.41s/it]"
     ]
    },
    {
     "name": "stdout",
     "output_type": "stream",
     "text": [
      "Successfully fetched: http://thebloggess.com/2018/04/23/the-most-baffling-things-amazon-recommended/\n"
     ]
    },
    {
     "name": "stderr",
     "output_type": "stream",
     "text": [
      "Scraping Progress:  10%|▉         | 824/8402 [26:00<5:08:57,  2.45s/it]"
     ]
    },
    {
     "name": "stdout",
     "output_type": "stream",
     "text": [
      "Successfully fetched: http://thebloggess.com/2018/04/18/giants-are-terrible-cooks/\n"
     ]
    },
    {
     "name": "stderr",
     "output_type": "stream",
     "text": [
      "Scraping Progress:  10%|▉         | 825/8402 [26:03<5:05:09,  2.42s/it]"
     ]
    },
    {
     "name": "stdout",
     "output_type": "stream",
     "text": [
      "Successfully fetched: http://thebloggess.com/2018/04/16/scariest-movie-ever/\n"
     ]
    },
    {
     "name": "stderr",
     "output_type": "stream",
     "text": [
      "Scraping Progress:  10%|▉         | 826/8402 [26:05<5:17:35,  2.52s/it]"
     ]
    },
    {
     "name": "stdout",
     "output_type": "stream",
     "text": [
      "Successfully fetched: http://thebloggess.com/2018/04/09/who-run-the-world-squirrel/\n"
     ]
    },
    {
     "name": "stderr",
     "output_type": "stream",
     "text": [
      "Scraping Progress:  10%|▉         | 827/8402 [26:08<5:11:35,  2.47s/it]"
     ]
    },
    {
     "name": "stdout",
     "output_type": "stream",
     "text": [
      "Successfully fetched: https://www.cnet.com/news/facebook-twitter-and-uber-fall-from-grace-equifax-hacked-metoo-tech-scandals-2017-18/\n"
     ]
    },
    {
     "name": "stderr",
     "output_type": "stream",
     "text": [
      "Scraping Progress:  10%|▉         | 828/8402 [26:10<5:16:57,  2.51s/it]"
     ]
    },
    {
     "name": "stdout",
     "output_type": "stream",
     "text": [
      "Successfully fetched: https://www.bleedingcool.com/2018/10/31/sideshow-collectibles-trademarks-unruly-industries-comics-coins-busts-clothing/\n"
     ]
    },
    {
     "name": "stderr",
     "output_type": "stream",
     "text": [
      "Scraping Progress:  10%|▉         | 829/8402 [26:12<4:35:43,  2.18s/it]"
     ]
    },
    {
     "name": "stdout",
     "output_type": "stream",
     "text": [
      "Successfully fetched: http://www.slashfilm.com/the-most-wtf-movie-moments-of-2017/\n"
     ]
    },
    {
     "name": "stderr",
     "output_type": "stream",
     "text": [
      "Scraping Progress:  10%|▉         | 830/8402 [26:14<4:26:15,  2.11s/it]"
     ]
    },
    {
     "name": "stdout",
     "output_type": "stream",
     "text": [
      "Successfully fetched: http://thebloggess.com/2018/03/27/why-i-love-twitter/\n"
     ]
    },
    {
     "name": "stderr",
     "output_type": "stream",
     "text": [
      "Scraping Progress:  10%|▉         | 831/8402 [26:16<4:25:05,  2.10s/it]"
     ]
    },
    {
     "name": "stdout",
     "output_type": "stream",
     "text": [
      "Successfully fetched: http://thebloggess.com/2018/03/26/there-is-a-fine-line-between-crazy-and-sane-and-i-live-there/\n"
     ]
    },
    {
     "name": "stderr",
     "output_type": "stream",
     "text": [
      "Scraping Progress:  10%|▉         | 832/8402 [26:18<4:46:37,  2.27s/it]"
     ]
    },
    {
     "name": "stdout",
     "output_type": "stream",
     "text": [
      "Successfully fetched: https://www.bleedingcool.com/2019/11/15/spider-man-and-mary-jane-sideshow-statue/\n"
     ]
    },
    {
     "name": "stderr",
     "output_type": "stream",
     "text": [
      "Scraping Progress:  10%|▉         | 833/8402 [26:20<4:06:47,  1.96s/it]"
     ]
    },
    {
     "name": "stdout",
     "output_type": "stream",
     "text": [
      "Successfully fetched: https://slate.com/culture/2019/02/leaving-neverland-michael-jackson-surviving-r-kelly-lorena-reckoning-with-past.html\n"
     ]
    },
    {
     "name": "stderr",
     "output_type": "stream",
     "text": [
      "Scraping Progress:  10%|▉         | 834/8402 [26:21<3:50:08,  1.82s/it]"
     ]
    },
    {
     "name": "stdout",
     "output_type": "stream",
     "text": [
      "Cannot fetch https://abovethelaw.com/2019/04/the-best-part-of-the-mueller-report-is-definitely-don-mcgahns-notegate/, HTTP error: 403 Client Error: Forbidden for url: https://abovethelaw.com/2019/04/the-best-part-of-the-mueller-report-is-definitely-don-mcgahns-notegate/\n"
     ]
    },
    {
     "name": "stderr",
     "output_type": "stream",
     "text": [
      "Scraping Progress:  10%|▉         | 835/8402 [26:22<3:24:40,  1.62s/it]"
     ]
    },
    {
     "name": "stdout",
     "output_type": "stream",
     "text": [
      "Successfully fetched: https://www.bleedingcool.com/2019/11/14/dumbledore-new-enesco-statue-harry-potter/\n"
     ]
    },
    {
     "name": "stderr",
     "output_type": "stream",
     "text": [
      "Scraping Progress:  10%|▉         | 836/8402 [26:24<3:10:56,  1.51s/it]"
     ]
    },
    {
     "name": "stdout",
     "output_type": "stream",
     "text": [
      "Successfully fetched: https://www.gizmodo.com.au/2018/04/cyberdynes-attempt-to-make-a-sexy-lady-assassin-terminator-appears-to-have-backfired/\n"
     ]
    },
    {
     "name": "stderr",
     "output_type": "stream",
     "text": [
      "Scraping Progress:  10%|▉         | 837/8402 [26:25<3:14:47,  1.54s/it]"
     ]
    },
    {
     "name": "stdout",
     "output_type": "stream",
     "text": [
      "Cannot fetch https://www.politico.com/story/2018/03/19/donald-trump-plan-for-opioid-epidemic-424325, HTTP error: 403 Client Error: Forbidden for url: https://www.politico.com/story/2018/03/19/donald-trump-plan-for-opioid-epidemic-424325\n"
     ]
    },
    {
     "name": "stderr",
     "output_type": "stream",
     "text": [
      "Scraping Progress:  10%|▉         | 838/8402 [26:26<2:58:40,  1.42s/it]"
     ]
    },
    {
     "name": "stdout",
     "output_type": "stream",
     "text": [
      "Cannot fetch https://www.politico.com/story/2018/03/09/sam-nunberg-russia-probe-grand-jury-452012, HTTP error: 403 Client Error: Forbidden for url: https://www.politico.com/story/2018/03/09/sam-nunberg-russia-probe-grand-jury-452012\n"
     ]
    },
    {
     "name": "stderr",
     "output_type": "stream",
     "text": [
      "Scraping Progress:  10%|▉         | 839/8402 [26:27<2:46:42,  1.32s/it]"
     ]
    },
    {
     "name": "stdout",
     "output_type": "stream",
     "text": [
      "Successfully fetched: https://www.ozbargain.com.au/node/499497\n"
     ]
    },
    {
     "name": "stderr",
     "output_type": "stream",
     "text": [
      "Scraping Progress:  10%|▉         | 840/8402 [26:30<3:18:49,  1.58s/it]"
     ]
    },
    {
     "name": "stdout",
     "output_type": "stream",
     "text": [
      "Successfully fetched: https://www.yahoo.com/news/michael-cohen-legal-sideshow-gasps-pratfalls-paparazzi-230036815.html\n"
     ]
    },
    {
     "name": "stderr",
     "output_type": "stream",
     "text": [
      "Scraping Progress:  10%|█         | 841/8402 [26:31<3:24:06,  1.62s/it]"
     ]
    },
    {
     "name": "stdout",
     "output_type": "stream",
     "text": [
      "Successfully fetched: https://www.tomshw.it/culturapop/i-migliori-artbook-per-veri-appassionati-di-cultura-pop/\n"
     ]
    },
    {
     "name": "stderr",
     "output_type": "stream",
     "text": [
      "Scraping Progress:  10%|█         | 842/8402 [26:33<3:26:29,  1.64s/it]"
     ]
    },
    {
     "name": "stdout",
     "output_type": "stream",
     "text": [
      "Successfully fetched: https://es.ign.com/aquaman-2/140049/news/jason-momoa-viste-el-traje-clasico-de-aquaman-en-una-figura\n"
     ]
    },
    {
     "name": "stderr",
     "output_type": "stream",
     "text": [
      "Scraping Progress:  10%|█         | 843/8402 [26:35<3:23:12,  1.61s/it]"
     ]
    },
    {
     "name": "stdout",
     "output_type": "stream",
     "text": [
      "Successfully fetched: http://www.slashfilm.com/star-wars-bits-solo-a-star-wars-story-timeline-revealed-more-solo-easter-eggs-and-our-first-resistance-reveal/\n"
     ]
    },
    {
     "name": "stderr",
     "output_type": "stream",
     "text": [
      "Scraping Progress:  10%|█         | 844/8402 [26:38<4:27:13,  2.12s/it]"
     ]
    },
    {
     "name": "stdout",
     "output_type": "stream",
     "text": [
      "Successfully fetched: http://thebloggess.com/2018/01/15/hi-im-still-alive/\n"
     ]
    },
    {
     "name": "stderr",
     "output_type": "stream",
     "text": [
      "Scraping Progress:  10%|█         | 845/8402 [26:41<4:56:31,  2.35s/it]"
     ]
    },
    {
     "name": "stdout",
     "output_type": "stream",
     "text": [
      "Successfully fetched: https://www.rt.com/news/456069-israeli-election-analysts-netanyahu-referendum/\n"
     ]
    },
    {
     "name": "stderr",
     "output_type": "stream",
     "text": [
      "Scraping Progress:  10%|█         | 846/8402 [26:44<5:20:28,  2.54s/it]"
     ]
    },
    {
     "name": "stdout",
     "output_type": "stream",
     "text": [
      "Successfully fetched: http://thebloggess.com/2018/04/11/the-funniest-book-you-ever-read/\n"
     ]
    },
    {
     "name": "stderr",
     "output_type": "stream",
     "text": [
      "Scraping Progress:  10%|█         | 847/8402 [26:48<6:29:01,  3.09s/it]"
     ]
    },
    {
     "name": "stdout",
     "output_type": "stream",
     "text": [
      "Successfully fetched: https://www.bleedingcool.com/2019/02/14/punisher-premium-format-figure-goes-up-for-order-today/\n"
     ]
    },
    {
     "name": "stderr",
     "output_type": "stream",
     "text": [
      "Scraping Progress:  10%|█         | 848/8402 [26:49<5:18:57,  2.53s/it]"
     ]
    },
    {
     "name": "stdout",
     "output_type": "stream",
     "text": [
      "Cannot fetch https://marginalrevolution.com/marginalrevolution/2019/06/the-libra-reserve-discussion-of-background-documents.html, HTTP error: 403 Client Error: Forbidden for url: https://marginalrevolution.com/marginalrevolution/2019/06/the-libra-reserve-discussion-of-background-documents.html\n"
     ]
    },
    {
     "name": "stderr",
     "output_type": "stream",
     "text": [
      "Scraping Progress:  10%|█         | 849/8402 [26:51<4:34:41,  2.18s/it]"
     ]
    },
    {
     "name": "stdout",
     "output_type": "stream",
     "text": [
      "Cannot fetch https://nerdist.com/hot-toys-brings-the-man-of-steel-to-life-again-with-its-superman-figure/, HTTP error: 404 Client Error: Not Found for url: https://nerdist.com/hot-toys-brings-the-man-of-steel-to-life-again-with-its-superman-figure/\n"
     ]
    },
    {
     "name": "stderr",
     "output_type": "stream",
     "text": [
      "Scraping Progress:  10%|█         | 850/8402 [26:52<4:18:35,  2.05s/it]"
     ]
    },
    {
     "name": "stdout",
     "output_type": "stream",
     "text": [
      "Cannot fetch https://www.ign.com/articles/2019/10/05/vin-diesels-look-in-bloodshot-movie-revealed-with-an-action-figure, HTTP error: 404 Client Error: Not Found for url: https://www.ign.com/articles/2019/10/05/vin-diesels-look-in-bloodshot-movie-revealed-with-an-action-figure\n"
     ]
    },
    {
     "name": "stderr",
     "output_type": "stream",
     "text": [
      "Scraping Progress:  10%|█         | 851/8402 [26:54<3:47:30,  1.81s/it]"
     ]
    },
    {
     "name": "stdout",
     "output_type": "stream",
     "text": [
      "Successfully fetched: https://io9.gizmodo.com/all-the-coolest-weirdest-movies-youll-probably-be-talk-1830725467\n"
     ]
    },
    {
     "name": "stderr",
     "output_type": "stream",
     "text": [
      "Scraping Progress:  10%|█         | 852/8402 [26:56<3:51:47,  1.84s/it]"
     ]
    },
    {
     "name": "stdout",
     "output_type": "stream",
     "text": [
      "Cannot fetch https://www.tomsguide.fr/actualite/bb-8-a-taille-reelle,63500.html, HTTP error: 404 Client Error: Not Found for url: https://www.tomsguide.fr/le-bb-8-a-taille-reelle-cest-4000-et-ca-ne-bouge-pas/\n"
     ]
    },
    {
     "name": "stderr",
     "output_type": "stream",
     "text": [
      "Scraping Progress:  10%|█         | 853/8402 [26:58<4:12:15,  2.00s/it]"
     ]
    },
    {
     "name": "stdout",
     "output_type": "stream",
     "text": [
      "Successfully fetched: https://kotaku.com/far-cry-5-the-kotaku-review-1824076892\n"
     ]
    },
    {
     "name": "stderr",
     "output_type": "stream",
     "text": [
      "Scraping Progress:  10%|█         | 854/8402 [26:59<3:49:57,  1.83s/it]"
     ]
    },
    {
     "name": "stdout",
     "output_type": "stream",
     "text": [
      "Successfully fetched: https://www.vice.com/en_us/article/a3bmaj/trump-never-had-anything-to-fear-from-an-insider-like-robert-mueller\n"
     ]
    },
    {
     "name": "stderr",
     "output_type": "stream",
     "text": [
      "Scraping Progress:  10%|█         | 856/8402 [27:04<4:07:28,  1.97s/it]"
     ]
    },
    {
     "name": "stdout",
     "output_type": "stream",
     "text": [
      "Cannot fetch https://cleantechnica.com/2018/10/14/8-impossible-goals-tesla-achieved/, HTTP error: 403 Client Error: Forbidden for url: https://cleantechnica.com/2018/10/14/8-impossible-goals-tesla-achieved/\n"
     ]
    },
    {
     "name": "stderr",
     "output_type": "stream",
     "text": [
      "Scraping Progress:  10%|█         | 857/8402 [27:05<3:47:37,  1.81s/it]"
     ]
    },
    {
     "name": "stdout",
     "output_type": "stream",
     "text": [
      "Cannot fetch https://nerdist.com/teen-groot-rocket-avengers-infinity-war-deluxe-figures/, HTTP error: 404 Client Error: Not Found for url: https://nerdist.com/teen-groot-rocket-avengers-infinity-war-deluxe-figures/\n"
     ]
    },
    {
     "name": "stderr",
     "output_type": "stream",
     "text": [
      "Scraping Progress:  10%|█         | 858/8402 [27:07<3:45:50,  1.80s/it]"
     ]
    },
    {
     "name": "stdout",
     "output_type": "stream",
     "text": [
      "Successfully fetched: http://www.espn.com/mma/story/_/id/26713527/what-learned-pfl-1\n"
     ]
    },
    {
     "name": "stderr",
     "output_type": "stream",
     "text": [
      "Scraping Progress:  10%|█         | 859/8402 [27:08<3:41:16,  1.76s/it]"
     ]
    },
    {
     "name": "stdout",
     "output_type": "stream",
     "text": [
      "Cannot fetch https://www.politico.com/story/2018/08/24/dnc-convention-location-2020-795495, HTTP error: 403 Client Error: Forbidden for url: https://www.politico.com/story/2018/08/24/dnc-convention-location-2020-795495\n"
     ]
    },
    {
     "name": "stderr",
     "output_type": "stream",
     "text": [
      "Scraping Progress:  10%|█         | 860/8402 [27:10<3:17:01,  1.57s/it]"
     ]
    },
    {
     "name": "stdout",
     "output_type": "stream",
     "text": [
      "Successfully fetched: https://www.bleedingcool.com/2019/07/19/sdcc-2019-hot-toys-booth-pics-mcu-star-wars-pennywise/\n"
     ]
    },
    {
     "name": "stderr",
     "output_type": "stream",
     "text": [
      "Scraping Progress:  10%|█         | 861/8402 [27:11<3:06:31,  1.48s/it]"
     ]
    },
    {
     "name": "stdout",
     "output_type": "stream",
     "text": [
      "Cannot fetch https://nerdist.com/hot-toys-thor-ragnarok-loki/, HTTP error: 404 Client Error: Not Found for url: https://nerdist.com/hot-toys-thor-ragnarok-loki/\n"
     ]
    },
    {
     "name": "stderr",
     "output_type": "stream",
     "text": [
      "Scraping Progress:  10%|█         | 862/8402 [27:13<3:12:47,  1.53s/it]"
     ]
    },
    {
     "name": "stdout",
     "output_type": "stream",
     "text": [
      "Successfully fetched: https://deadspin.com/the-nfl-concussion-settlement-is-getting-personal-and-1832461360\n"
     ]
    },
    {
     "name": "stderr",
     "output_type": "stream",
     "text": [
      "Scraping Progress:  10%|█         | 863/8402 [27:14<3:08:46,  1.50s/it]"
     ]
    },
    {
     "name": "stdout",
     "output_type": "stream",
     "text": [
      "Successfully fetched: https://www.vintag.es/2019/10/betty-broadbent-the-tattooed-venus.html\n"
     ]
    },
    {
     "name": "stderr",
     "output_type": "stream",
     "text": [
      "Scraping Progress:  10%|█         | 864/8402 [27:19<5:22:59,  2.57s/it]"
     ]
    },
    {
     "name": "stdout",
     "output_type": "stream",
     "text": [
      "Successfully fetched: http://www.cineblog.it/post/778833/avengers-infinity-war-laction-figure-hot-toys-della-nuova-vedova-nera-di-scarlett-johansson\n"
     ]
    },
    {
     "name": "stderr",
     "output_type": "stream",
     "text": [
      "Scraping Progress:  10%|█         | 865/8402 [27:21<5:09:22,  2.46s/it]"
     ]
    },
    {
     "name": "stdout",
     "output_type": "stream",
     "text": [
      "Cannot fetch http://www.brooklynvegan.com/baby-dee-retiring-playing-final-show-at-national-sawdust/, HTTP error: 403 Client Error: Forbidden for url: https://www.brooklynvegan.com/baby-dee-retiring-playing-final-show-at-national-sawdust/\n"
     ]
    },
    {
     "name": "stderr",
     "output_type": "stream",
     "text": [
      "Scraping Progress:  10%|█         | 866/8402 [27:22<4:20:30,  2.07s/it]"
     ]
    },
    {
     "name": "stdout",
     "output_type": "stream",
     "text": [
      "Cannot fetch https://www.macleans.ca/opinion/canadas-climate-change-sideshow/, HTTP error: 403 Client Error: Forbidden for url: https://www.macleans.ca/opinion/canadas-climate-change-sideshow/\n"
     ]
    },
    {
     "name": "stderr",
     "output_type": "stream",
     "text": [
      "Scraping Progress:  10%|█         | 867/8402 [27:24<3:48:57,  1.82s/it]"
     ]
    },
    {
     "name": "stdout",
     "output_type": "stream",
     "text": [
      "Successfully fetched: https://www.slashfilm.com/nicolas-winding-refn-streaming-service/\n"
     ]
    },
    {
     "name": "stderr",
     "output_type": "stream",
     "text": [
      "Scraping Progress:  10%|█         | 870/8402 [27:28<3:15:54,  1.56s/it]"
     ]
    },
    {
     "name": "stdout",
     "output_type": "stream",
     "text": [
      "Cannot fetch http://www.brooklynvegan.com/foals-announce-two-new-albums-watch-a-trailer-touring/, HTTP error: 403 Client Error: Forbidden for url: https://www.brooklynvegan.com/foals-announce-two-new-albums-watch-a-trailer-touring/\n"
     ]
    },
    {
     "name": "stderr",
     "output_type": "stream",
     "text": [
      "Scraping Progress:  10%|█         | 871/8402 [27:29<3:01:23,  1.45s/it]"
     ]
    },
    {
     "name": "stdout",
     "output_type": "stream",
     "text": [
      "Cannot fetch https://nerdist.com/hots-toys-iron-man-gantry-collectible-sideshow/, HTTP error: 404 Client Error: Not Found for url: https://nerdist.com/hots-toys-iron-man-gantry-collectible-sideshow/\n"
     ]
    },
    {
     "name": "stderr",
     "output_type": "stream",
     "text": [
      "Scraping Progress:  10%|█         | 872/8402 [27:31<3:12:34,  1.53s/it]"
     ]
    },
    {
     "name": "stdout",
     "output_type": "stream",
     "text": [
      "Successfully fetched: https://www.outlookindia.com/website/story/how-to-build-a-wall-and-lose-an-empire/306995\n"
     ]
    },
    {
     "name": "stderr",
     "output_type": "stream",
     "text": [
      "Scraping Progress:  10%|█         | 873/8402 [27:32<3:16:20,  1.56s/it]"
     ]
    },
    {
     "name": "stdout",
     "output_type": "stream",
     "text": [
      "Successfully fetched: https://www.nicekicks.com/new-under-armour-curry-6-honors-bay-area-car-culture/\n"
     ]
    },
    {
     "name": "stderr",
     "output_type": "stream",
     "text": [
      "Scraping Progress:  10%|█         | 874/8402 [27:34<3:25:00,  1.63s/it]"
     ]
    },
    {
     "name": "stdout",
     "output_type": "stream",
     "text": [
      "Successfully fetched: https://www.cbr.com/cyber-monday-2019-deals/\n"
     ]
    },
    {
     "name": "stderr",
     "output_type": "stream",
     "text": [
      "Scraping Progress:  10%|█         | 875/8402 [27:36<3:14:59,  1.55s/it]"
     ]
    },
    {
     "name": "stdout",
     "output_type": "stream",
     "text": [
      "Successfully fetched: http://collider.com/venom-life-sized-bust-sideshow-collectibles/\n"
     ]
    },
    {
     "name": "stderr",
     "output_type": "stream",
     "text": [
      "Scraping Progress:  10%|█         | 876/8402 [27:37<3:08:47,  1.51s/it]"
     ]
    },
    {
     "name": "stdout",
     "output_type": "stream",
     "text": [
      "Successfully fetched: https://www.politico.eu/article/italy-budget-europe-brussels-spat-sideshow/\n"
     ]
    },
    {
     "name": "stderr",
     "output_type": "stream",
     "text": [
      "Scraping Progress:  10%|█         | 877/8402 [27:39<3:45:47,  1.80s/it]"
     ]
    },
    {
     "name": "stdout",
     "output_type": "stream",
     "text": [
      "Successfully fetched: https://www.businessinsider.com/paulie-malignaggi-artem-lobov-bareknuckle-fc-safety-2019-6\n"
     ]
    },
    {
     "name": "stderr",
     "output_type": "stream",
     "text": [
      "Scraping Progress:  10%|█         | 878/8402 [27:41<3:31:43,  1.69s/it]"
     ]
    },
    {
     "name": "stdout",
     "output_type": "stream",
     "text": [
      "Cannot fetch https://www.wsj.com/articles/brazil-voters-buck-status-quo-with-rise-of-right-wing-firebrand-1539034621, HTTP error: 401 Client Error: HTTP Forbidden for url: https://www.wsj.com/articles/brazil-voters-buck-status-quo-with-rise-of-right-wing-firebrand-1539034621\n"
     ]
    },
    {
     "name": "stderr",
     "output_type": "stream",
     "text": [
      "Scraping Progress:  10%|█         | 879/8402 [27:42<3:14:58,  1.55s/it]"
     ]
    },
    {
     "name": "stdout",
     "output_type": "stream",
     "text": [
      "Cannot fetch https://nerdist.com/hot-toys-gamora-avengers-infinity-war-thanos/, HTTP error: 404 Client Error: Not Found for url: https://nerdist.com/hot-toys-gamora-avengers-infinity-war-thanos/\n"
     ]
    },
    {
     "name": "stderr",
     "output_type": "stream",
     "text": [
      "Scraping Progress:  10%|█         | 880/8402 [27:45<3:52:15,  1.85s/it]"
     ]
    },
    {
     "name": "stdout",
     "output_type": "stream",
     "text": [
      "Successfully fetched: http://tvline.com/2018/06/01/proven-innocent-recast-kelsey-grammer-brian-darcy-james/\n"
     ]
    },
    {
     "name": "stderr",
     "output_type": "stream",
     "text": [
      "Scraping Progress:  10%|█         | 881/8402 [27:47<4:14:56,  2.03s/it]"
     ]
    },
    {
     "name": "stdout",
     "output_type": "stream",
     "text": [
      "Successfully fetched: https://www.sbnation.com/golf/2019/5/16/18628395/john-daly-golf-cart-2019-pga-championship-bethpage\n"
     ]
    },
    {
     "name": "stderr",
     "output_type": "stream",
     "text": [
      "Scraping Progress:  10%|█         | 882/8402 [27:50<4:43:57,  2.27s/it]"
     ]
    },
    {
     "name": "stdout",
     "output_type": "stream",
     "text": [
      "Successfully fetched: https://www.insider.com/alan-dershowitz-david-boies-lawsuit-jeffrey-epstein-accuser-virginia-giuffre-case-2019-7\n"
     ]
    },
    {
     "name": "stderr",
     "output_type": "stream",
     "text": [
      "Scraping Progress:  11%|█         | 883/8402 [27:52<4:19:07,  2.07s/it]"
     ]
    },
    {
     "name": "stdout",
     "output_type": "stream",
     "text": [
      "Cannot fetch https://www.gameinformer.com/gamer-culture/2019/10/18/insomniacs-spider-man-is-now-a-1100-statue, HTTP error: 404 Client Error: Not Found for url: https://www.gameinformer.com/gamer-culture/2019/10/18/insomniacs-spider-man-is-now-a-1100-statue\n"
     ]
    },
    {
     "name": "stderr",
     "output_type": "stream",
     "text": [
      "Scraping Progress:  11%|█         | 884/8402 [27:53<3:57:54,  1.90s/it]"
     ]
    },
    {
     "name": "stdout",
     "output_type": "stream",
     "text": [
      "Successfully fetched: https://www.cosmopolitan.com/food-cocktails/g11653469/best-milkshake-in-every-state/\n"
     ]
    },
    {
     "name": "stderr",
     "output_type": "stream",
     "text": [
      "Scraping Progress:  11%|█         | 885/8402 [27:54<3:33:57,  1.71s/it]"
     ]
    },
    {
     "name": "stdout",
     "output_type": "stream",
     "text": [
      "Cannot fetch https://disneyparks.disney.go.com/blog/2018/07/disney-doodles-lambert-finds-friends-in-fantasyland/, error: HTTPSConnectionPool(host='disneyparks.disney.go.com', port=443): Max retries exceeded with url: /blog/2018/07/disney-doodles-lambert-finds-friends-in-fantasyland/ (Caused by SSLError(SSLCertVerificationError(1, '[SSL: CERTIFICATE_VERIFY_FAILED] certificate verify failed: unable to get local issuer certificate (_ssl.c:1002)')))\n"
     ]
    },
    {
     "name": "stderr",
     "output_type": "stream",
     "text": [
      "Scraping Progress:  11%|█         | 886/8402 [27:55<3:11:51,  1.53s/it]"
     ]
    },
    {
     "name": "stdout",
     "output_type": "stream",
     "text": [
      "Cannot fetch https://www.geek.com/deals-2/bring-the-magic-of-themyscira-to-your-home-with-this-wonder-woman-gift-guide-1698766/, HTTP error: 404 Client Error: Not Found for url: https://www.geek.com/deals-2/bring-the-magic-of-themyscira-to-your-home-with-this-wonder-woman-gift-guide-1698766/\n"
     ]
    },
    {
     "name": "stderr",
     "output_type": "stream",
     "text": [
      "Scraping Progress:  11%|█         | 887/8402 [27:57<3:07:40,  1.50s/it]"
     ]
    },
    {
     "name": "stdout",
     "output_type": "stream",
     "text": [
      "Successfully fetched: https://www.neatorama.com/2018/10/25/Sword-Swallowers-and-Shrunken-Heads-An-Ode-to-Johnny-Fox-and-His-Freakatorium/\n"
     ]
    },
    {
     "name": "stderr",
     "output_type": "stream",
     "text": [
      "Scraping Progress:  11%|█         | 888/8402 [27:58<3:07:29,  1.50s/it]"
     ]
    },
    {
     "name": "stdout",
     "output_type": "stream",
     "text": [
      "Successfully fetched: http://www.bbc.com/news/uk-politics-43186005\n"
     ]
    },
    {
     "name": "stderr",
     "output_type": "stream",
     "text": [
      "Scraping Progress:  11%|█         | 889/8402 [28:01<3:48:36,  1.83s/it]"
     ]
    },
    {
     "name": "stdout",
     "output_type": "stream",
     "text": [
      "Cannot fetch https://www.sfgate.com/bayarea/article/85-cars-towed-2-arrests-in-East-Oakland-sideshows-13251401.php, HTTP error: 403 Client Error: Forbidden for url: https://www.sfgate.com/bayarea/article/85-cars-towed-2-arrests-in-East-Oakland-sideshows-13251401.php\n"
     ]
    },
    {
     "name": "stderr",
     "output_type": "stream",
     "text": [
      "Scraping Progress:  11%|█         | 890/8402 [28:02<3:28:18,  1.66s/it]"
     ]
    },
    {
     "name": "stdout",
     "output_type": "stream",
     "text": [
      "Successfully fetched: http://gothamist.com/2019/01/07/mayor_de_blasio_the_simpsons.php\n"
     ]
    },
    {
     "name": "stderr",
     "output_type": "stream",
     "text": [
      "Scraping Progress:  11%|█         | 891/8402 [28:04<3:44:50,  1.80s/it]"
     ]
    },
    {
     "name": "stdout",
     "output_type": "stream",
     "text": [
      "Cannot fetch https://www.sfgate.com/bayarea/article/Oakland-sideshow-social-media-video-bus-fire-13768721.php, HTTP error: 403 Client Error: Forbidden for url: https://www.sfgate.com/bayarea/article/Oakland-sideshow-social-media-video-bus-fire-13768721.php\n"
     ]
    },
    {
     "name": "stderr",
     "output_type": "stream",
     "text": [
      "Scraping Progress:  11%|█         | 892/8402 [28:05<3:19:21,  1.59s/it]"
     ]
    },
    {
     "name": "stdout",
     "output_type": "stream",
     "text": [
      "Successfully fetched: http://nymag.com/daily/intelligencer/2018/08/manaforts-first-trial-is-a-sideshow-the-next-one-wont-be.html\n"
     ]
    },
    {
     "name": "stderr",
     "output_type": "stream",
     "text": [
      "Scraping Progress:  11%|█         | 893/8402 [28:08<3:36:32,  1.73s/it]"
     ]
    },
    {
     "name": "stdout",
     "output_type": "stream",
     "text": [
      "Successfully fetched: https://www.bleedingcool.com/2018/01/21/sideshow-black-widow-captain-america-print/\n"
     ]
    },
    {
     "name": "stderr",
     "output_type": "stream",
     "text": [
      "Scraping Progress:  11%|█         | 894/8402 [28:09<3:22:35,  1.62s/it]"
     ]
    },
    {
     "name": "stdout",
     "output_type": "stream",
     "text": [
      "Cannot fetch https://nerdist.com/captain-america-hot-toys-avengers-infinity-war/, HTTP error: 404 Client Error: Not Found for url: https://nerdist.com/captain-america-hot-toys-avengers-infinity-war/\n"
     ]
    },
    {
     "name": "stderr",
     "output_type": "stream",
     "text": [
      "Scraping Progress:  11%|█         | 895/8402 [28:11<3:34:03,  1.71s/it]"
     ]
    },
    {
     "name": "stdout",
     "output_type": "stream",
     "text": [
      "Cannot fetch https://goodmenproject.com/featured-content/chb-jehovahs-witness-soldier/, HTTP error: 403 Client Error: Forbidden for url: https://goodmenproject.com/featured-content/chb-jehovahs-witness-soldier/\n"
     ]
    },
    {
     "name": "stderr",
     "output_type": "stream",
     "text": [
      "Scraping Progress:  11%|█         | 896/8402 [28:12<3:17:46,  1.58s/it]"
     ]
    },
    {
     "name": "stdout",
     "output_type": "stream",
     "text": [
      "Cannot fetch https://www.fastcompany.com/40540128/the-lonely-island-wrote-an-oscars-song-deemed-impossible-to-film-here-it-is?partner=feedburner&utm_source=feedburner&utm_medium=feed&utm_campaign=Feed%3A+fastcocreate%2Ffeed+%28Co.Create%29, HTTP error: 403 Client Error: Forbidden for url: https://www.fastcompany.com/40540128/the-lonely-island-wrote-an-oscars-song-deemed-impossible-to-film-here-it-is?partner=feedburner&utm_source=feedburner&utm_medium=feed&utm_campaign=Feed%3A+fastcocreate%2Ffeed+%28Co.Create%29\n"
     ]
    },
    {
     "name": "stderr",
     "output_type": "stream",
     "text": [
      "Scraping Progress:  11%|█         | 897/8402 [28:13<3:03:51,  1.47s/it]"
     ]
    },
    {
     "name": "stdout",
     "output_type": "stream",
     "text": [
      "Successfully fetched: https://www.rt.com/news/429420-trump-kim-summit-sideshow/?utm_source=rss&utm_medium=rss&utm_campaign=RSS\n"
     ]
    },
    {
     "name": "stderr",
     "output_type": "stream",
     "text": [
      "Scraping Progress:  11%|█         | 898/8402 [28:15<3:13:44,  1.55s/it]"
     ]
    },
    {
     "name": "stdout",
     "output_type": "stream",
     "text": [
      "Successfully fetched: https://www.apartmenttherapy.com/los-angeles-house-tour-a-colorful-patterned-rental-259725\n"
     ]
    },
    {
     "name": "stderr",
     "output_type": "stream",
     "text": [
      "Scraping Progress:  11%|█         | 899/8402 [28:16<3:07:17,  1.50s/it]"
     ]
    },
    {
     "name": "stdout",
     "output_type": "stream",
     "text": [
      "Successfully fetched: https://www.fark.com/comments/10595742/Trump-declines-to-participate-in-Chinese-hoax\n"
     ]
    },
    {
     "name": "stderr",
     "output_type": "stream",
     "text": [
      "Scraping Progress:  11%|█         | 900/8402 [28:18<3:22:34,  1.62s/it]"
     ]
    },
    {
     "name": "stdout",
     "output_type": "stream",
     "text": [
      "Successfully fetched: https://www.rawstory.com/2018/11/republican-rick-santorum-bashes-white-house-for-sideshow-behavior-that-has-a-corrosive-effect-on-the-gop/\n"
     ]
    },
    {
     "name": "stderr",
     "output_type": "stream",
     "text": [
      "Scraping Progress:  11%|█         | 901/8402 [28:20<3:12:15,  1.54s/it]"
     ]
    },
    {
     "name": "stdout",
     "output_type": "stream",
     "text": [
      "Successfully fetched: https://deadline.com/2018/06/starz-donates-border-family-fund-raices-texas-this-is-us-1202415389/\n"
     ]
    },
    {
     "name": "stderr",
     "output_type": "stream",
     "text": [
      "Scraping Progress:  11%|█         | 902/8402 [28:22<3:42:32,  1.78s/it]"
     ]
    },
    {
     "name": "stdout",
     "output_type": "stream",
     "text": [
      "Cannot fetch https://www.ozy.com/good-sht/welcome-to-the-macabre-world-of-dollhouse-taxidermy/82844, HTTP error: 404 Client Error: Not Found for url: https://www.ozy.com/good-sht/welcome-to-the-macabre-world-of-dollhouse-taxidermy/82844\n"
     ]
    },
    {
     "name": "stderr",
     "output_type": "stream",
     "text": [
      "Scraping Progress:  11%|█         | 903/8402 [28:23<3:22:50,  1.62s/it]"
     ]
    },
    {
     "name": "stdout",
     "output_type": "stream",
     "text": [
      "Successfully fetched: https://people.com/tv/agt-howie-mandel-calls-joseph-allen-shining-star-in-crowded-world/\n"
     ]
    },
    {
     "name": "stderr",
     "output_type": "stream",
     "text": [
      "Scraping Progress:  11%|█         | 904/8402 [28:25<3:10:57,  1.53s/it]"
     ]
    },
    {
     "name": "stdout",
     "output_type": "stream",
     "text": [
      "Successfully fetched: https://ritholtz.com/2018/09/beto-orourke/\n"
     ]
    },
    {
     "name": "stderr",
     "output_type": "stream",
     "text": [
      "Scraping Progress:  11%|█         | 905/8402 [28:26<3:13:59,  1.55s/it]"
     ]
    },
    {
     "name": "stdout",
     "output_type": "stream",
     "text": [
      "Successfully fetched: https://technabob.com/blog/2019/07/15/meowlting-catpuccino-figure/\n"
     ]
    },
    {
     "name": "stderr",
     "output_type": "stream",
     "text": [
      "Scraping Progress:  11%|█         | 906/8402 [28:28<3:24:18,  1.64s/it]"
     ]
    },
    {
     "name": "stdout",
     "output_type": "stream",
     "text": [
      "Successfully fetched: https://vandal.elespanol.com/noticia/1350711016/asi-sera-la-espectacular-figura-de-spiderman-disenada-por-hot-toys/\n"
     ]
    },
    {
     "name": "stderr",
     "output_type": "stream",
     "text": [
      "Scraping Progress:  11%|█         | 907/8402 [28:30<3:19:44,  1.60s/it]"
     ]
    },
    {
     "name": "stdout",
     "output_type": "stream",
     "text": [
      "Successfully fetched: http://ritholtz.com/2018/09/beto-orourke/\n"
     ]
    },
    {
     "name": "stderr",
     "output_type": "stream",
     "text": [
      "Scraping Progress:  11%|█         | 908/8402 [28:31<3:05:59,  1.49s/it]"
     ]
    },
    {
     "name": "stdout",
     "output_type": "stream",
     "text": [
      "Successfully fetched: https://www.bleedingcool.com/2019/10/11/mysterio-takes-on-molten-man-in-new-iron-studios-statues/\n"
     ]
    },
    {
     "name": "stderr",
     "output_type": "stream",
     "text": [
      "Scraping Progress:  11%|█         | 909/8402 [28:32<2:58:42,  1.43s/it]"
     ]
    },
    {
     "name": "stdout",
     "output_type": "stream",
     "text": [
      "Successfully fetched: http://www.bbc.com/news/uk-politics-43403975\n"
     ]
    },
    {
     "name": "stderr",
     "output_type": "stream",
     "text": [
      "Scraping Progress:  11%|█         | 910/8402 [28:35<3:39:27,  1.76s/it]"
     ]
    },
    {
     "name": "stdout",
     "output_type": "stream",
     "text": [
      "Successfully fetched: https://deadspin.com/the-ioc-graciously-takes-credit-for-improved-relationsh-1831439228\n"
     ]
    },
    {
     "name": "stderr",
     "output_type": "stream",
     "text": [
      "Scraping Progress:  11%|█         | 911/8402 [28:36<3:29:12,  1.68s/it]"
     ]
    },
    {
     "name": "stdout",
     "output_type": "stream",
     "text": [
      "Successfully fetched: http://beerpulse.com/2018/04/forgotten-boardwalk-opens-speakeasy-style-sideshow-room-to-showcase-barrel-aged-beers-5895/\n"
     ]
    },
    {
     "name": "stderr",
     "output_type": "stream",
     "text": [
      "Scraping Progress:  11%|█         | 912/8402 [28:37<3:20:11,  1.60s/it]"
     ]
    },
    {
     "name": "stdout",
     "output_type": "stream",
     "text": [
      "Successfully fetched: https://www.gizmodo.com.au/2018/05/an-exclusive-look-at-sideshows-stunning-new-princess-leia-figure/\n"
     ]
    },
    {
     "name": "stderr",
     "output_type": "stream",
     "text": [
      "Scraping Progress:  11%|█         | 913/8402 [28:39<3:21:53,  1.62s/it]"
     ]
    },
    {
     "name": "stdout",
     "output_type": "stream",
     "text": [
      "Successfully fetched: http://www.espn.com/wwe/story/_/id/25533427/wwe-looks-right-ship-tlc\n"
     ]
    },
    {
     "name": "stderr",
     "output_type": "stream",
     "text": [
      "Scraping Progress:  11%|█         | 914/8402 [28:41<3:36:59,  1.74s/it]"
     ]
    },
    {
     "name": "stdout",
     "output_type": "stream",
     "text": [
      "Successfully fetched: https://www.cbr.com/x-men-collectibles-ranking/\n"
     ]
    },
    {
     "name": "stderr",
     "output_type": "stream",
     "text": [
      "Scraping Progress:  11%|█         | 915/8402 [28:42<3:21:04,  1.61s/it]"
     ]
    },
    {
     "name": "stdout",
     "output_type": "stream",
     "text": [
      "Successfully fetched: https://www.npr.org/sections/13.7/2018/02/12/585057058/a-new-goal-aim-to-be-less-wrong\n"
     ]
    },
    {
     "name": "stderr",
     "output_type": "stream",
     "text": [
      "Scraping Progress:  11%|█         | 916/8402 [28:44<3:22:13,  1.62s/it]"
     ]
    },
    {
     "name": "stdout",
     "output_type": "stream",
     "text": [
      "Cannot fetch https://www.reuters.com/article/us-global-economy/high-noon-in-brussels-italy-prepares-for-budget-showdown-idUSKCN1MT1WU, HTTP error: 401 Client Error: HTTP Forbidden for url: https://www.reuters.com/article/us-global-economy/high-noon-in-brussels-italy-prepares-for-budget-showdown-idUSKCN1MT1WU\n"
     ]
    },
    {
     "name": "stderr",
     "output_type": "stream",
     "text": [
      "Scraping Progress:  11%|█         | 917/8402 [28:45<3:06:08,  1.49s/it]"
     ]
    },
    {
     "name": "stdout",
     "output_type": "stream",
     "text": [
      "Successfully fetched: https://www.al.com/auburnfootball/2019/10/auburns-bo-nix-is-in-trouble-against-florida.html\n"
     ]
    },
    {
     "name": "stderr",
     "output_type": "stream",
     "text": [
      "Scraping Progress:  11%|█         | 918/8402 [28:48<3:47:01,  1.82s/it]"
     ]
    },
    {
     "name": "stdout",
     "output_type": "stream",
     "text": [
      "Successfully fetched: https://vandal.elespanol.com/noticia/1350703101/medicom-muestra-nuevas-imagenes-de-la-figura-de-link-de-breath-of-the-wild/\n"
     ]
    },
    {
     "name": "stderr",
     "output_type": "stream",
     "text": [
      "Scraping Progress:  11%|█         | 919/8402 [28:50<3:42:51,  1.79s/it]"
     ]
    },
    {
     "name": "stdout",
     "output_type": "stream",
     "text": [
      "Successfully fetched: https://www.bleedingcool.com/2019/10/11/nick-fury-maria-hill-get-statues-from-iron-studios/\n"
     ]
    },
    {
     "name": "stderr",
     "output_type": "stream",
     "text": [
      "Scraping Progress:  11%|█         | 920/8402 [28:51<3:22:50,  1.63s/it]"
     ]
    },
    {
     "name": "stdout",
     "output_type": "stream",
     "text": [
      "Successfully fetched: https://www.ozbargain.com.au/node/372427\n"
     ]
    },
    {
     "name": "stderr",
     "output_type": "stream",
     "text": [
      "Scraping Progress:  11%|█         | 921/8402 [28:53<3:33:52,  1.72s/it]"
     ]
    },
    {
     "name": "stdout",
     "output_type": "stream",
     "text": [
      "Successfully fetched: https://nerdist.com/marvel-spider-man-hot-toys-punk-figure-ps-4/\n"
     ]
    },
    {
     "name": "stderr",
     "output_type": "stream",
     "text": [
      "Scraping Progress:  11%|█         | 922/8402 [28:55<3:41:21,  1.78s/it]"
     ]
    },
    {
     "name": "stdout",
     "output_type": "stream",
     "text": [
      "Successfully fetched: https://www.tomshw.it/culturapop/two-face-the-dark-knight-annunciato-da-hot-toys/\n"
     ]
    },
    {
     "name": "stderr",
     "output_type": "stream",
     "text": [
      "Scraping Progress:  11%|█         | 923/8402 [28:56<3:41:15,  1.77s/it]"
     ]
    },
    {
     "name": "stdout",
     "output_type": "stream",
     "text": [
      "Successfully fetched: https://www.tomshw.it/culturapop/spider-man-deluxe-in-scala-1-4-prodotto-da-hot-toys/\n"
     ]
    },
    {
     "name": "stderr",
     "output_type": "stream",
     "text": [
      "Scraping Progress:  11%|█         | 924/8402 [28:58<3:38:09,  1.75s/it]"
     ]
    },
    {
     "name": "stdout",
     "output_type": "stream",
     "text": [
      "Successfully fetched: https://www.tomshw.it/culturapop/zorro-da-blitzway-una-figure-in-scala-1-6/\n"
     ]
    },
    {
     "name": "stderr",
     "output_type": "stream",
     "text": [
      "Scraping Progress:  11%|█         | 925/8402 [29:00<3:28:19,  1.67s/it]"
     ]
    },
    {
     "name": "stdout",
     "output_type": "stream",
     "text": [
      "Successfully fetched: https://www.tomshw.it/culturapop/sdcc-2019-hot-toys-presenta-le-sue-novita/\n"
     ]
    },
    {
     "name": "stderr",
     "output_type": "stream",
     "text": [
      "Scraping Progress:  11%|█         | 926/8402 [29:01<3:31:24,  1.70s/it]"
     ]
    },
    {
     "name": "stdout",
     "output_type": "stream",
     "text": [
      "Successfully fetched: https://www.rawstory.com/2018/11/un-climate-talks-trump-team-plans-sideshow-coal/\n"
     ]
    },
    {
     "name": "stderr",
     "output_type": "stream",
     "text": [
      "Scraping Progress:  11%|█         | 927/8402 [29:03<3:17:33,  1.59s/it]"
     ]
    },
    {
     "name": "stdout",
     "output_type": "stream",
     "text": [
      "Successfully fetched: https://www.forbes.com/sites/kevinmurnane/2018/09/22/cd-projekt-red-is-releasing-a-new-rpg-set-in-the-world-of-the-witcher/\n"
     ]
    },
    {
     "name": "stderr",
     "output_type": "stream",
     "text": [
      "Scraping Progress:  11%|█         | 928/8402 [29:05<3:30:34,  1.69s/it]"
     ]
    },
    {
     "name": "stdout",
     "output_type": "stream",
     "text": [
      "Successfully fetched: https://www.bleedingcool.com/2018/07/27/talking-super7-toys-jeremy-konrad/\n"
     ]
    },
    {
     "name": "stderr",
     "output_type": "stream",
     "text": [
      "Scraping Progress:  11%|█         | 929/8402 [29:06<3:14:36,  1.56s/it]"
     ]
    },
    {
     "name": "stdout",
     "output_type": "stream",
     "text": [
      "Successfully fetched: http://www.thestar.com.my/news/nation/2019/06/20/i-am-one-of-the-many-scapegoatsfarhash-until-the-video-is-proven-real-or-fake-theres-going-to-be-man/\n"
     ]
    },
    {
     "name": "stderr",
     "output_type": "stream",
     "text": [
      "Scraping Progress:  11%|█         | 930/8402 [29:08<3:27:07,  1.66s/it]"
     ]
    },
    {
     "name": "stdout",
     "output_type": "stream",
     "text": [
      "Successfully fetched: https://www.thecut.com/2018/09/mitch-mcconnell-hire-female-assistant-for-ford-kavanaugh-hearing.html\n"
     ]
    },
    {
     "name": "stderr",
     "output_type": "stream",
     "text": [
      "Scraping Progress:  11%|█         | 931/8402 [29:10<3:32:47,  1.71s/it]"
     ]
    },
    {
     "name": "stdout",
     "output_type": "stream",
     "text": [
      "Cannot fetch https://www.sfgate.com/news/article/Trump-calls-Stormy-Daniels-horseface-cheers-13311256.php, HTTP error: 403 Client Error: Forbidden for url: https://www.sfgate.com/news/article/Trump-calls-Stormy-Daniels-horseface-cheers-13311256.php\n"
     ]
    },
    {
     "name": "stderr",
     "output_type": "stream",
     "text": [
      "Scraping Progress:  11%|█         | 932/8402 [29:11<3:11:00,  1.53s/it]"
     ]
    },
    {
     "name": "stdout",
     "output_type": "stream",
     "text": [
      "Successfully fetched: https://pjmedia.com/instapundit/349626/\n"
     ]
    },
    {
     "name": "stderr",
     "output_type": "stream",
     "text": [
      "Scraping Progress:  11%|█         | 933/8402 [29:12<3:01:19,  1.46s/it]"
     ]
    },
    {
     "name": "stdout",
     "output_type": "stream",
     "text": [
      "Successfully fetched: http://www.thedieline.com/blog/2018/5/18/old-new-come-together-in-nashvilles-only-bean-to-bar-chocolate\n"
     ]
    },
    {
     "name": "stderr",
     "output_type": "stream",
     "text": [
      "Scraping Progress:  11%|█         | 934/8402 [29:15<4:05:23,  1.97s/it]"
     ]
    },
    {
     "name": "stdout",
     "output_type": "stream",
     "text": [
      "Successfully fetched: https://www.cnet.com/news/qanon-the-conspiracy-theory-thats-sparked-reddit-bans-explained/\n"
     ]
    },
    {
     "name": "stderr",
     "output_type": "stream",
     "text": [
      "Scraping Progress:  11%|█         | 935/8402 [29:18<4:22:30,  2.11s/it]"
     ]
    },
    {
     "name": "stdout",
     "output_type": "stream",
     "text": [
      "Successfully fetched: https://www.tomshw.it/culturapop/theoden-signore-degli-anelli-asmus/\n"
     ]
    },
    {
     "name": "stderr",
     "output_type": "stream",
     "text": [
      "Scraping Progress:  11%|█         | 936/8402 [29:19<4:06:05,  1.98s/it]"
     ]
    },
    {
     "name": "stdout",
     "output_type": "stream",
     "text": [
      "Successfully fetched: https://www.tomshw.it/culturapop/night-king-la-nuova-figure-1-6-di-threezero/\n"
     ]
    },
    {
     "name": "stderr",
     "output_type": "stream",
     "text": [
      "Scraping Progress:  11%|█         | 937/8402 [29:21<3:47:53,  1.83s/it]"
     ]
    },
    {
     "name": "stdout",
     "output_type": "stream",
     "text": [
      "Successfully fetched: https://www.tomshw.it/culturapop/wade-prodotto-da-unruly-industries/\n"
     ]
    },
    {
     "name": "stderr",
     "output_type": "stream",
     "text": [
      "Scraping Progress:  11%|█         | 938/8402 [29:23<3:59:53,  1.93s/it]"
     ]
    },
    {
     "name": "stdout",
     "output_type": "stream",
     "text": [
      "Successfully fetched: https://www.tomshw.it/culturapop/devil-may-cry-dante-1-6-da-asmus-toys/\n"
     ]
    },
    {
     "name": "stderr",
     "output_type": "stream",
     "text": [
      "Scraping Progress:  11%|█         | 939/8402 [29:24<3:42:32,  1.79s/it]"
     ]
    },
    {
     "name": "stdout",
     "output_type": "stream",
     "text": [
      "Successfully fetched: https://www.tomshw.it/culturapop/the-flash-da-hot-toys/\n"
     ]
    },
    {
     "name": "stderr",
     "output_type": "stream",
     "text": [
      "Scraping Progress:  11%|█         | 940/8402 [29:26<3:38:04,  1.75s/it]"
     ]
    },
    {
     "name": "stdout",
     "output_type": "stream",
     "text": [
      "Cannot fetch https://seekingalpha.com/article/4176067-italian-sovereign-risks-blowing, HTTP error: 403 Client Error: Forbidden for url: https://seekingalpha.com/article/4176067-italian-sovereign-risks-blowing\n"
     ]
    },
    {
     "name": "stderr",
     "output_type": "stream",
     "text": [
      "Scraping Progress:  11%|█         | 941/8402 [29:27<3:19:48,  1.61s/it]"
     ]
    },
    {
     "name": "stdout",
     "output_type": "stream",
     "text": [
      "Successfully fetched: https://www.pcgamer.com/killing-floor-2-is-free-this-weekend-to-start-the-back-and-kickin-brass-summer-event/\n"
     ]
    },
    {
     "name": "stderr",
     "output_type": "stream",
     "text": [
      "Scraping Progress:  11%|█         | 942/8402 [29:31<4:24:54,  2.13s/it]"
     ]
    },
    {
     "name": "stdout",
     "output_type": "stream",
     "text": [
      "Successfully fetched: http://thebloggess.com/2019/01/10/ive-taken-on-a-writing-partner-and-youll-never-guess-who-it-is/\n"
     ]
    },
    {
     "name": "stderr",
     "output_type": "stream",
     "text": [
      "Scraping Progress:  11%|█         | 943/8402 [29:33<4:29:54,  2.17s/it]"
     ]
    },
    {
     "name": "stdout",
     "output_type": "stream",
     "text": [
      "Successfully fetched: http://thebloggess.com/2019/02/20/falcon-sex-hats/\n"
     ]
    },
    {
     "name": "stderr",
     "output_type": "stream",
     "text": [
      "Scraping Progress:  11%|█         | 944/8402 [29:36<4:46:55,  2.31s/it]"
     ]
    },
    {
     "name": "stdout",
     "output_type": "stream",
     "text": [
      "Successfully fetched: http://thebloggess.com/2019/03/04/i-could-care-less-i-think/\n"
     ]
    },
    {
     "name": "stderr",
     "output_type": "stream",
     "text": [
      "Scraping Progress:  11%|█         | 945/8402 [29:39<5:09:59,  2.49s/it]"
     ]
    },
    {
     "name": "stdout",
     "output_type": "stream",
     "text": [
      "Successfully fetched: http://thebloggess.com/2019/02/26/in-and-out-and-back-again/\n"
     ]
    },
    {
     "name": "stderr",
     "output_type": "stream",
     "text": [
      "Scraping Progress:  11%|█▏        | 946/8402 [29:41<5:24:22,  2.61s/it]"
     ]
    },
    {
     "name": "stdout",
     "output_type": "stream",
     "text": [
      "Successfully fetched: http://thebloggess.com/2019/02/12/unraveled/\n"
     ]
    },
    {
     "name": "stderr",
     "output_type": "stream",
     "text": [
      "Scraping Progress:  11%|█▏        | 947/8402 [29:44<5:22:21,  2.59s/it]"
     ]
    },
    {
     "name": "stdout",
     "output_type": "stream",
     "text": [
      "Successfully fetched: http://thebloggess.com/2019/02/07/booksgiving-part-4/\n"
     ]
    },
    {
     "name": "stderr",
     "output_type": "stream",
     "text": [
      "Scraping Progress:  11%|█▏        | 948/8402 [29:50<7:22:47,  3.56s/it]"
     ]
    },
    {
     "name": "stdout",
     "output_type": "stream",
     "text": [
      "Successfully fetched: http://thebloggess.com/2019/02/15/i-dont-get-it/\n"
     ]
    },
    {
     "name": "stderr",
     "output_type": "stream",
     "text": [
      "Scraping Progress:  11%|█▏        | 949/8402 [29:52<6:44:34,  3.26s/it]"
     ]
    },
    {
     "name": "stdout",
     "output_type": "stream",
     "text": [
      "Successfully fetched: http://thebloggess.com/2019/03/17/do-you-want-to-hear-a-ghost-story/\n"
     ]
    },
    {
     "name": "stderr",
     "output_type": "stream",
     "text": [
      "Scraping Progress:  11%|█▏        | 950/8402 [29:55<6:17:36,  3.04s/it]"
     ]
    },
    {
     "name": "stdout",
     "output_type": "stream",
     "text": [
      "Successfully fetched: http://thebloggess.com/2019/03/31/i-suppose-its-a-type-of-airmail-in-a-way/\n"
     ]
    },
    {
     "name": "stderr",
     "output_type": "stream",
     "text": [
      "Scraping Progress:  11%|█▏        | 951/8402 [29:58<6:05:26,  2.94s/it]"
     ]
    },
    {
     "name": "stdout",
     "output_type": "stream",
     "text": [
      "Successfully fetched: http://thebloggess.com/2019/04/02/hello-big-announcement-get-ready/\n"
     ]
    },
    {
     "name": "stderr",
     "output_type": "stream",
     "text": [
      "Scraping Progress:  11%|█▏        | 952/8402 [30:03<7:23:02,  3.57s/it]"
     ]
    },
    {
     "name": "stdout",
     "output_type": "stream",
     "text": [
      "Successfully fetched: http://thebloggess.com/2019/03/20/reaching-out/\n"
     ]
    },
    {
     "name": "stderr",
     "output_type": "stream",
     "text": [
      "Scraping Progress:  11%|█▏        | 953/8402 [30:07<7:59:59,  3.87s/it]"
     ]
    },
    {
     "name": "stdout",
     "output_type": "stream",
     "text": [
      "Successfully fetched: http://thebloggess.com/2019/05/05/never-read-the-comments-is-a-good-rule-for-everywhere-that-isnt-this-community/\n"
     ]
    },
    {
     "name": "stderr",
     "output_type": "stream",
     "text": [
      "Scraping Progress:  11%|█▏        | 954/8402 [30:10<7:03:25,  3.41s/it]"
     ]
    },
    {
     "name": "stdout",
     "output_type": "stream",
     "text": [
      "Successfully fetched: http://thebloggess.com/2019/05/02/getting-closer-to-nowhere/\n"
     ]
    },
    {
     "name": "stderr",
     "output_type": "stream",
     "text": [
      "Scraping Progress:  11%|█▏        | 955/8402 [30:12<6:25:14,  3.10s/it]"
     ]
    },
    {
     "name": "stdout",
     "output_type": "stream",
     "text": [
      "Successfully fetched: http://thebloggess.com/2019/04/24/going-nowhere-but-in-a-good-way-for-once/\n"
     ]
    },
    {
     "name": "stderr",
     "output_type": "stream",
     "text": [
      "Scraping Progress:  11%|█▏        | 956/8402 [30:15<6:07:04,  2.96s/it]"
     ]
    },
    {
     "name": "stdout",
     "output_type": "stream",
     "text": [
      "Successfully fetched: http://thebloggess.com/2019/04/30/i-bet-people-are-sad-about-the-lack-of-squirrel-swag-though/\n"
     ]
    },
    {
     "name": "stderr",
     "output_type": "stream",
     "text": [
      "Scraping Progress:  11%|█▏        | 957/8402 [30:17<5:47:01,  2.80s/it]"
     ]
    },
    {
     "name": "stdout",
     "output_type": "stream",
     "text": [
      "Successfully fetched: http://thebloggess.com/2019/04/14/progress-looks-weirder-for-some-than-others/\n"
     ]
    },
    {
     "name": "stderr",
     "output_type": "stream",
     "text": [
      "Scraping Progress:  11%|█▏        | 958/8402 [30:20<5:38:07,  2.73s/it]"
     ]
    },
    {
     "name": "stdout",
     "output_type": "stream",
     "text": [
      "Successfully fetched: http://thebloggess.com/2019/04/22/the-search-for-a-bookstore-strike-2/\n"
     ]
    },
    {
     "name": "stderr",
     "output_type": "stream",
     "text": [
      "Scraping Progress:  11%|█▏        | 959/8402 [30:22<5:25:30,  2.62s/it]"
     ]
    },
    {
     "name": "stdout",
     "output_type": "stream",
     "text": [
      "Successfully fetched: http://thebloggess.com/2019/05/22/hard-decisions/\n"
     ]
    },
    {
     "name": "stderr",
     "output_type": "stream",
     "text": [
      "Scraping Progress:  11%|█▏        | 960/8402 [30:23<4:42:16,  2.28s/it]"
     ]
    },
    {
     "name": "stdout",
     "output_type": "stream",
     "text": [
      "Successfully fetched: http://thebloggess.com/2019/06/05/once-its-in-a-book-its-a-real-word-thats-the-law-i-think/\n"
     ]
    },
    {
     "name": "stderr",
     "output_type": "stream",
     "text": [
      "Scraping Progress:  11%|█▏        | 961/8402 [30:26<4:55:09,  2.38s/it]"
     ]
    },
    {
     "name": "stdout",
     "output_type": "stream",
     "text": [
      "Successfully fetched: http://thebloggess.com/2019/07/04/isnt-it-romantic/\n"
     ]
    },
    {
     "name": "stderr",
     "output_type": "stream",
     "text": [
      "Scraping Progress:  11%|█▏        | 962/8402 [30:29<5:08:15,  2.49s/it]"
     ]
    },
    {
     "name": "stdout",
     "output_type": "stream",
     "text": [
      "Successfully fetched: https://www.bleedingcool.com/2019/11/15/professor-mcgonagall-statue-sideshow-collectibles/\n"
     ]
    },
    {
     "name": "stderr",
     "output_type": "stream",
     "text": [
      "Scraping Progress:  11%|█▏        | 963/8402 [30:30<4:31:58,  2.19s/it]"
     ]
    },
    {
     "name": "stdout",
     "output_type": "stream",
     "text": [
      "Successfully fetched: https://www.bleedingcool.com/2019/11/19/jason-freenys-micro-anatomic-supersized-new-statue/\n"
     ]
    },
    {
     "name": "stderr",
     "output_type": "stream",
     "text": [
      "Scraping Progress:  11%|█▏        | 964/8402 [30:32<3:58:34,  1.92s/it]"
     ]
    },
    {
     "name": "stdout",
     "output_type": "stream",
     "text": [
      "Successfully fetched: https://www.tomshw.it/culturapop/alphonse-elric-edward-elric-twin-pack-in-uscita-un-set-da-threezero/\n"
     ]
    },
    {
     "name": "stderr",
     "output_type": "stream",
     "text": [
      "Scraping Progress:  11%|█▏        | 965/8402 [30:34<4:20:08,  2.10s/it]"
     ]
    },
    {
     "name": "stdout",
     "output_type": "stream",
     "text": [
      "Successfully fetched: https://www.tomshw.it/culturapop/nebula-avengersendgame-da-hot-toys/\n"
     ]
    },
    {
     "name": "stderr",
     "output_type": "stream",
     "text": [
      "Scraping Progress:  11%|█▏        | 966/8402 [30:36<3:57:11,  1.91s/it]"
     ]
    },
    {
     "name": "stdout",
     "output_type": "stream",
     "text": [
      "Successfully fetched: https://www.tomshw.it/culturapop/mysterio-la-nuova-figure-annunciata-da-hot-toys/\n"
     ]
    },
    {
     "name": "stderr",
     "output_type": "stream",
     "text": [
      "Scraping Progress:  12%|█▏        | 967/8402 [30:37<3:48:31,  1.84s/it]"
     ]
    },
    {
     "name": "stdout",
     "output_type": "stream",
     "text": [
      "Successfully fetched: https://www.gizmodo.com.au/2018/07/heres-boba-fett-like-youve-never-seen-him-before/\n"
     ]
    },
    {
     "name": "stderr",
     "output_type": "stream",
     "text": [
      "Scraping Progress:  12%|█▏        | 968/8402 [30:39<3:49:09,  1.85s/it]"
     ]
    },
    {
     "name": "stdout",
     "output_type": "stream",
     "text": [
      "Successfully fetched: https://www.cbr.com/green-lantern-gift-guide/\n"
     ]
    },
    {
     "name": "stderr",
     "output_type": "stream",
     "text": [
      "Scraping Progress:  12%|█▏        | 969/8402 [30:40<3:30:14,  1.70s/it]"
     ]
    },
    {
     "name": "stdout",
     "output_type": "stream",
     "text": [
      "Successfully fetched: https://www.al.com/alabamafootball/2019/11/lsu-will-be-exposed-by-alabama-presidential-winning-streak-continues.html\n"
     ]
    },
    {
     "name": "stderr",
     "output_type": "stream",
     "text": [
      "Scraping Progress:  12%|█▏        | 970/8402 [30:43<4:10:02,  2.02s/it]"
     ]
    },
    {
     "name": "stdout",
     "output_type": "stream",
     "text": [
      "Successfully fetched: https://www.bleedingcool.com/2018/07/20/77-pics-hot-toys-display-sdcc/\n"
     ]
    },
    {
     "name": "stderr",
     "output_type": "stream",
     "text": [
      "Scraping Progress:  12%|█▏        | 971/8402 [30:45<3:45:17,  1.82s/it]"
     ]
    },
    {
     "name": "stdout",
     "output_type": "stream",
     "text": [
      "Successfully fetched: https://www.bleedingcool.com/2018/07/21/star-wars-collectibles-sdcc-kotobukiya-sidewhow-anovos/\n"
     ]
    },
    {
     "name": "stderr",
     "output_type": "stream",
     "text": [
      "Scraping Progress:  12%|█▏        | 972/8402 [30:46<3:31:06,  1.70s/it]"
     ]
    },
    {
     "name": "stdout",
     "output_type": "stream",
     "text": [
      "Successfully fetched: https://deadline.com/2019/10/reelabilities-film-festival-los-angeles-the-peanut-butter-falcon-chained-for-life-freaks-disabilities-diversity-inclusion-representation-1202755374/\n"
     ]
    },
    {
     "name": "stderr",
     "output_type": "stream",
     "text": [
      "Scraping Progress:  12%|█▏        | 973/8402 [30:48<3:58:54,  1.93s/it]"
     ]
    },
    {
     "name": "stdout",
     "output_type": "stream",
     "text": [
      "Successfully fetched: https://www.npr.org/2019/06/11/731648558/flying-lotus-comes-back-from-the-afterlife-flamagra\n"
     ]
    },
    {
     "name": "stderr",
     "output_type": "stream",
     "text": [
      "Scraping Progress:  12%|█▏        | 974/8402 [30:50<3:40:37,  1.78s/it]"
     ]
    },
    {
     "name": "stdout",
     "output_type": "stream",
     "text": [
      "Successfully fetched: https://www.bleedingcool.com/2019/11/23/altair-new-pure-arts-statue-assassins-creed/\n"
     ]
    },
    {
     "name": "stderr",
     "output_type": "stream",
     "text": [
      "Scraping Progress:  12%|█▏        | 975/8402 [30:51<3:21:41,  1.63s/it]"
     ]
    },
    {
     "name": "stdout",
     "output_type": "stream",
     "text": [
      "Successfully fetched: https://www.bleedingcool.com/2019/11/15/medievals-sir-dan-new-level-52-statue/\n"
     ]
    },
    {
     "name": "stderr",
     "output_type": "stream",
     "text": [
      "Scraping Progress:  12%|█▏        | 976/8402 [30:52<3:11:19,  1.55s/it]"
     ]
    },
    {
     "name": "stdout",
     "output_type": "stream",
     "text": [
      "Successfully fetched: https://screenrant.com/deadpool-hot-toys-figure-x-men-shirt/\n"
     ]
    },
    {
     "name": "stderr",
     "output_type": "stream",
     "text": [
      "Scraping Progress:  12%|█▏        | 977/8402 [30:54<3:08:29,  1.52s/it]"
     ]
    },
    {
     "name": "stdout",
     "output_type": "stream",
     "text": [
      "Successfully fetched: http://thebloggess.com/2019/01/25/i-think-my-underwear-just-tricked-me-into-entering-a-legal-agreement-and-from-now-on-im-adding-a-page-to-my-books-informing-people-that-purchasing-the-book-legally-entitles-me-to-half-of-all-their-e/\n"
     ]
    },
    {
     "name": "stderr",
     "output_type": "stream",
     "text": [
      "Scraping Progress:  12%|█▏        | 978/8402 [30:57<3:58:01,  1.92s/it]"
     ]
    },
    {
     "name": "stdout",
     "output_type": "stream",
     "text": [
      "Successfully fetched: http://thebloggess.com/2019/01/29/if-youre-reading-this-you-win/\n"
     ]
    },
    {
     "name": "stderr",
     "output_type": "stream",
     "text": [
      "Scraping Progress:  12%|█▏        | 979/8402 [31:01<5:17:49,  2.57s/it]"
     ]
    },
    {
     "name": "stdout",
     "output_type": "stream",
     "text": [
      "Successfully fetched: http://thebloggess.com/2019/01/23/im-back/\n"
     ]
    },
    {
     "name": "stderr",
     "output_type": "stream",
     "text": [
      "Scraping Progress:  12%|█▏        | 980/8402 [31:04<5:41:14,  2.76s/it]"
     ]
    },
    {
     "name": "stdout",
     "output_type": "stream",
     "text": [
      "Successfully fetched: http://thebloggess.com/2019/01/30/furiously-stabby/\n"
     ]
    },
    {
     "name": "stderr",
     "output_type": "stream",
     "text": [
      "Scraping Progress:  12%|█▏        | 981/8402 [31:07<5:36:21,  2.72s/it]"
     ]
    },
    {
     "name": "stdout",
     "output_type": "stream",
     "text": [
      "Successfully fetched: http://thebloggess.com/2019/02/04/we-dont-deserve-cats-yall/\n"
     ]
    },
    {
     "name": "stderr",
     "output_type": "stream",
     "text": [
      "Scraping Progress:  12%|█▏        | 982/8402 [31:10<5:42:21,  2.77s/it]"
     ]
    },
    {
     "name": "stdout",
     "output_type": "stream",
     "text": [
      "Successfully fetched: http://thebloggess.com/2019/03/01/i-sort-of-want-to-take-this-class-just-to-see-if-i-know-myself-as-much-as-i-think-i-do-but-im-not-sure-i-could-take-failing-myself-literally/\n"
     ]
    },
    {
     "name": "stderr",
     "output_type": "stream",
     "text": [
      "Scraping Progress:  12%|█▏        | 983/8402 [31:12<5:45:36,  2.80s/it]"
     ]
    },
    {
     "name": "stdout",
     "output_type": "stream",
     "text": [
      "Successfully fetched: http://thebloggess.com/2019/03/22/really-keeping-the-repetitive-in-repetitive-transcranial-magnetic-stimulation/\n"
     ]
    },
    {
     "name": "stderr",
     "output_type": "stream",
     "text": [
      "Scraping Progress:  12%|█▏        | 984/8402 [31:15<5:43:38,  2.78s/it]"
     ]
    },
    {
     "name": "stdout",
     "output_type": "stream",
     "text": [
      "Successfully fetched: http://thebloggess.com/2019/04/12/well-thats-embarrassing-2/\n"
     ]
    },
    {
     "name": "stderr",
     "output_type": "stream",
     "text": [
      "Scraping Progress:  12%|█▏        | 985/8402 [31:18<5:48:26,  2.82s/it]"
     ]
    },
    {
     "name": "stdout",
     "output_type": "stream",
     "text": [
      "Successfully fetched: http://thebloggess.com/2019/05/07/tell-me-a-story/\n"
     ]
    },
    {
     "name": "stderr",
     "output_type": "stream",
     "text": [
      "Scraping Progress:  12%|█▏        | 986/8402 [31:21<5:56:22,  2.88s/it]"
     ]
    },
    {
     "name": "stdout",
     "output_type": "stream",
     "text": [
      "Successfully fetched: http://thebloggess.com/2019/05/09/the-bookmobile/\n"
     ]
    },
    {
     "name": "stderr",
     "output_type": "stream",
     "text": [
      "Scraping Progress:  12%|█▏        | 987/8402 [31:26<6:53:31,  3.35s/it]"
     ]
    },
    {
     "name": "stdout",
     "output_type": "stream",
     "text": [
      "Successfully fetched: http://thebloggess.com/2019/05/29/this-isnt-a-real-post-but-its-a-nice-one/\n"
     ]
    },
    {
     "name": "stderr",
     "output_type": "stream",
     "text": [
      "Scraping Progress:  12%|█▏        | 988/8402 [31:30<7:24:50,  3.60s/it]"
     ]
    },
    {
     "name": "stdout",
     "output_type": "stream",
     "text": [
      "Successfully fetched: http://thebloggess.com/2019/06/03/betitted-its-my-new-favorite-word/\n"
     ]
    },
    {
     "name": "stderr",
     "output_type": "stream",
     "text": [
      "Scraping Progress:  12%|█▏        | 989/8402 [31:38<10:25:14,  5.06s/it]"
     ]
    },
    {
     "name": "stdout",
     "output_type": "stream",
     "text": [
      "Successfully fetched: http://thebloggess.com/2019/06/16/im-going-home-i-hope/\n"
     ]
    },
    {
     "name": "stderr",
     "output_type": "stream",
     "text": [
      "Scraping Progress:  12%|█▏        | 990/8402 [31:41<9:07:14,  4.43s/it] "
     ]
    },
    {
     "name": "stdout",
     "output_type": "stream",
     "text": [
      "Successfully fetched: http://thebloggess.com/2019/06/18/happy-birthday-to-us/\n"
     ]
    },
    {
     "name": "stderr",
     "output_type": "stream",
     "text": [
      "Scraping Progress:  12%|█▏        | 991/8402 [31:43<7:48:51,  3.80s/it]"
     ]
    },
    {
     "name": "stdout",
     "output_type": "stream",
     "text": [
      "Successfully fetched: http://thebloggess.com/2019/06/24/the-superhero-we-need-not-the-superhero-we-deserve/\n"
     ]
    },
    {
     "name": "stderr",
     "output_type": "stream",
     "text": [
      "Scraping Progress:  12%|█▏        | 992/8402 [31:46<7:12:11,  3.50s/it]"
     ]
    },
    {
     "name": "stdout",
     "output_type": "stream",
     "text": [
      "Successfully fetched: http://thebloggess.com/2019/06/27/i-was-going-with-hermoine-grrrrranger-but-i-couldnt-find-the-wig/\n"
     ]
    },
    {
     "name": "stderr",
     "output_type": "stream",
     "text": [
      "Scraping Progress:  12%|█▏        | 993/8402 [31:49<6:24:08,  3.11s/it]"
     ]
    },
    {
     "name": "stdout",
     "output_type": "stream",
     "text": [
      "Successfully fetched: http://thebloggess.com/2019/07/08/kids-can-be-assholes-kids-can-be-amazing-both-of-these-are-true/\n"
     ]
    },
    {
     "name": "stderr",
     "output_type": "stream",
     "text": [
      "Scraping Progress:  12%|█▏        | 994/8402 [31:52<6:23:14,  3.10s/it]"
     ]
    },
    {
     "name": "stdout",
     "output_type": "stream",
     "text": [
      "Successfully fetched: http://thebloggess.com/2019/07/10/and-then-i-caught-urine-straight-from-a-dogs-vagina/\n"
     ]
    },
    {
     "name": "stderr",
     "output_type": "stream",
     "text": [
      "Scraping Progress:  12%|█▏        | 995/8402 [31:54<6:12:53,  3.02s/it]"
     ]
    },
    {
     "name": "stdout",
     "output_type": "stream",
     "text": [
      "Cannot fetch https://www.geek.com/culture/toy-tuesday-the-most-powerful-he-man-toys-1784709/, HTTP error: 404 Client Error: Not Found for url: https://www.geek.com/culture/toy-tuesday-the-most-powerful-he-man-toys-1784709/\n"
     ]
    },
    {
     "name": "stderr",
     "output_type": "stream",
     "text": [
      "Scraping Progress:  12%|█▏        | 996/8402 [31:56<5:03:41,  2.46s/it]"
     ]
    },
    {
     "name": "stdout",
     "output_type": "stream",
     "text": [
      "Cannot fetch https://www.geek.com/culture/toy-tuesday-the-most-radical-1980s-throwback-toys-1804049/, HTTP error: 404 Client Error: Not Found for url: https://www.geek.com/culture/toy-tuesday-the-most-radical-1980s-throwback-toys-1804049/\n"
     ]
    },
    {
     "name": "stderr",
     "output_type": "stream",
     "text": [
      "Scraping Progress:  12%|█▏        | 997/8402 [31:57<4:15:45,  2.07s/it]"
     ]
    },
    {
     "name": "stdout",
     "output_type": "stream",
     "text": [
      "Cannot fetch https://disneyparks.disney.go.com/blog/2019/09/disneykids-disney-characters-a-highlight-for-little-ones/, error: HTTPSConnectionPool(host='disneyparks.disney.go.com', port=443): Max retries exceeded with url: /blog/2019/09/disneykids-disney-characters-a-highlight-for-little-ones/ (Caused by SSLError(SSLCertVerificationError(1, '[SSL: CERTIFICATE_VERIFY_FAILED] certificate verify failed: unable to get local issuer certificate (_ssl.c:1002)')))\n"
     ]
    },
    {
     "name": "stderr",
     "output_type": "stream",
     "text": [
      "Scraping Progress:  12%|█▏        | 998/8402 [31:58<3:45:26,  1.83s/it]"
     ]
    },
    {
     "name": "stdout",
     "output_type": "stream",
     "text": [
      "Cannot fetch https://www.axios.com/america-radicalized-kavanaugh-deepens-partisan-divide-a9a51207-f2e2-4c22-9bfd-4daaf9e5633f.html, HTTP error: 403 Client Error: Forbidden for url: https://www.axios.com/america-radicalized-kavanaugh-deepens-partisan-divide-a9a51207-f2e2-4c22-9bfd-4daaf9e5633f.html\n"
     ]
    },
    {
     "name": "stderr",
     "output_type": "stream",
     "text": [
      "Scraping Progress:  12%|█▏        | 999/8402 [31:59<3:20:12,  1.62s/it]"
     ]
    },
    {
     "name": "stdout",
     "output_type": "stream",
     "text": [
      "Successfully fetched: https://pjmedia.com/instapundit/289627/\n"
     ]
    },
    {
     "name": "stderr",
     "output_type": "stream",
     "text": [
      "Scraping Progress:  12%|█▏        | 1000/8402 [32:01<3:19:55,  1.62s/it]"
     ]
    },
    {
     "name": "stdout",
     "output_type": "stream",
     "text": [
      "Successfully fetched: https://www.bleedingcool.com/2019/11/08/captain-spock-star-trek-statue-darkside/\n"
     ]
    },
    {
     "name": "stderr",
     "output_type": "stream",
     "text": [
      "Scraping Progress:  12%|█▏        | 1001/8402 [32:02<3:13:07,  1.57s/it]"
     ]
    },
    {
     "name": "stdout",
     "output_type": "stream",
     "text": [
      "Successfully fetched: https://www.zive.cz/clanky/dve-obrazovky-v-jednom-zarizeni-slepa-cesta-nebo-hudba-budoucnosti/sc-3-a-197630/default.aspx\n"
     ]
    },
    {
     "name": "stderr",
     "output_type": "stream",
     "text": [
      "Scraping Progress:  12%|█▏        | 1002/8402 [32:05<3:49:30,  1.86s/it]"
     ]
    },
    {
     "name": "stdout",
     "output_type": "stream",
     "text": [
      "Successfully fetched: http://thebloggess.com/2019/01/17/im-struggling/\n"
     ]
    },
    {
     "name": "stderr",
     "output_type": "stream",
     "text": [
      "Scraping Progress:  12%|█▏        | 1003/8402 [32:09<5:01:49,  2.45s/it]"
     ]
    },
    {
     "name": "stdout",
     "output_type": "stream",
     "text": [
      "Successfully fetched: http://thebloggess.com/2019/02/05/do-you-still-like-me/\n"
     ]
    },
    {
     "name": "stderr",
     "output_type": "stream",
     "text": [
      "Scraping Progress:  12%|█▏        | 1004/8402 [32:12<5:29:18,  2.67s/it]"
     ]
    },
    {
     "name": "stdout",
     "output_type": "stream",
     "text": [
      "Successfully fetched: http://thebloggess.com/2019/03/11/i-suspect-my-body-is-trying-to-do-a-murder-on-me-and-i-dont-appreciate-it/\n"
     ]
    },
    {
     "name": "stderr",
     "output_type": "stream",
     "text": [
      "Scraping Progress:  12%|█▏        | 1005/8402 [32:15<5:45:52,  2.81s/it]"
     ]
    },
    {
     "name": "stdout",
     "output_type": "stream",
     "text": [
      "Successfully fetched: http://thebloggess.com/2019/03/14/there-was-a-bear-attack-in-my-house-in-that-a-bear-was-attacked-in-my-house/\n"
     ]
    },
    {
     "name": "stderr",
     "output_type": "stream",
     "text": [
      "Scraping Progress:  12%|█▏        | 1006/8402 [32:17<5:32:39,  2.70s/it]"
     ]
    },
    {
     "name": "stdout",
     "output_type": "stream",
     "text": [
      "Successfully fetched: http://thebloggess.com/2019/02/18/have-the-talk/\n"
     ]
    },
    {
     "name": "stderr",
     "output_type": "stream",
     "text": [
      "Scraping Progress:  12%|█▏        | 1007/8402 [32:20<5:50:04,  2.84s/it]"
     ]
    },
    {
     "name": "stdout",
     "output_type": "stream",
     "text": [
      "Successfully fetched: http://thebloggess.com/2019/03/07/humbled-maybe-too-humbled/\n"
     ]
    },
    {
     "name": "stderr",
     "output_type": "stream",
     "text": [
      "Scraping Progress:  12%|█▏        | 1008/8402 [32:24<5:56:59,  2.90s/it]"
     ]
    },
    {
     "name": "stdout",
     "output_type": "stream",
     "text": [
      "Successfully fetched: http://thebloggess.com/2019/03/27/its-all-in-the-way-you-look-at-it/\n"
     ]
    },
    {
     "name": "stderr",
     "output_type": "stream",
     "text": [
      "Scraping Progress:  12%|█▏        | 1009/8402 [32:27<6:03:35,  2.95s/it]"
     ]
    },
    {
     "name": "stdout",
     "output_type": "stream",
     "text": [
      "Successfully fetched: http://thebloggess.com/2019/04/09/celebrating-sort-of/\n"
     ]
    },
    {
     "name": "stderr",
     "output_type": "stream",
     "text": [
      "Scraping Progress:  12%|█▏        | 1010/8402 [32:29<5:58:44,  2.91s/it]"
     ]
    },
    {
     "name": "stdout",
     "output_type": "stream",
     "text": [
      "Successfully fetched: http://thebloggess.com/2019/04/17/really-me/\n"
     ]
    },
    {
     "name": "stderr",
     "output_type": "stream",
     "text": [
      "Scraping Progress:  12%|█▏        | 1011/8402 [32:32<5:54:39,  2.88s/it]"
     ]
    },
    {
     "name": "stdout",
     "output_type": "stream",
     "text": [
      "Successfully fetched: http://thebloggess.com/2019/04/07/strike-one-holy-haunted-hot-dog-magic-church-bookstore/\n"
     ]
    },
    {
     "name": "stderr",
     "output_type": "stream",
     "text": [
      "Scraping Progress:  12%|█▏        | 1012/8402 [32:35<5:50:40,  2.85s/it]"
     ]
    },
    {
     "name": "stdout",
     "output_type": "stream",
     "text": [
      "Successfully fetched: http://thebloggess.com/2019/05/15/you-dont-have-to-do-it-all/\n"
     ]
    },
    {
     "name": "stderr",
     "output_type": "stream",
     "text": [
      "Scraping Progress:  12%|█▏        | 1013/8402 [32:38<5:41:25,  2.77s/it]"
     ]
    },
    {
     "name": "stdout",
     "output_type": "stream",
     "text": [
      "Successfully fetched: http://thebloggess.com/2019/05/19/who-should-win-the-game-of-thrones-good-girls-thats-who/\n"
     ]
    },
    {
     "name": "stderr",
     "output_type": "stream",
     "text": [
      "Scraping Progress:  12%|█▏        | 1014/8402 [32:40<5:29:55,  2.68s/it]"
     ]
    },
    {
     "name": "stdout",
     "output_type": "stream",
     "text": [
      "Successfully fetched: http://thebloggess.com/2019/05/14/weird-in-every-language/\n"
     ]
    },
    {
     "name": "stderr",
     "output_type": "stream",
     "text": [
      "Scraping Progress:  12%|█▏        | 1015/8402 [32:42<5:14:54,  2.56s/it]"
     ]
    },
    {
     "name": "stdout",
     "output_type": "stream",
     "text": [
      "Successfully fetched: http://thebloggess.com/2019/05/24/lawson-academy-for-gifted-strangelings/\n"
     ]
    },
    {
     "name": "stderr",
     "output_type": "stream",
     "text": [
      "Scraping Progress:  12%|█▏        | 1016/8402 [32:45<5:15:35,  2.56s/it]"
     ]
    },
    {
     "name": "stdout",
     "output_type": "stream",
     "text": [
      "Successfully fetched: http://thebloggess.com/2019/06/12/not-all-mermaids-all-disney-like/\n"
     ]
    },
    {
     "name": "stderr",
     "output_type": "stream",
     "text": [
      "Scraping Progress:  12%|█▏        | 1017/8402 [32:47<5:12:42,  2.54s/it]"
     ]
    },
    {
     "name": "stdout",
     "output_type": "stream",
     "text": [
      "Successfully fetched: http://thebloggess.com/2019/06/08/japan/\n"
     ]
    },
    {
     "name": "stderr",
     "output_type": "stream",
     "text": [
      "Scraping Progress:  12%|█▏        | 1018/8402 [32:50<5:16:40,  2.57s/it]"
     ]
    },
    {
     "name": "stdout",
     "output_type": "stream",
     "text": [
      "Successfully fetched: http://thebloggess.com/2019/06/21/japan-is-weird-but-so-am-i-so-it-worked-out-shockingly-well/\n"
     ]
    },
    {
     "name": "stderr",
     "output_type": "stream",
     "text": [
      "Scraping Progress:  12%|█▏        | 1019/8402 [32:53<5:22:45,  2.62s/it]"
     ]
    },
    {
     "name": "stdout",
     "output_type": "stream",
     "text": [
      "Successfully fetched: http://thebloggess.com/2019/06/14/i-dont-have-the-answers-either/\n"
     ]
    },
    {
     "name": "stderr",
     "output_type": "stream",
     "text": [
      "Scraping Progress:  12%|█▏        | 1020/8402 [32:55<5:21:59,  2.62s/it]"
     ]
    },
    {
     "name": "stdout",
     "output_type": "stream",
     "text": [
      "Successfully fetched: http://thebloggess.com/2019/05/27/name-that-bear/\n"
     ]
    },
    {
     "name": "stderr",
     "output_type": "stream",
     "text": [
      "Scraping Progress:  12%|█▏        | 1021/8402 [32:58<5:37:10,  2.74s/it]"
     ]
    },
    {
     "name": "stdout",
     "output_type": "stream",
     "text": [
      "Successfully fetched: http://thebloggess.com/2019/07/01/summer-reading-list/\n"
     ]
    },
    {
     "name": "stderr",
     "output_type": "stream",
     "text": [
      "Scraping Progress:  12%|█▏        | 1022/8402 [33:02<6:20:47,  3.10s/it]"
     ]
    },
    {
     "name": "stdout",
     "output_type": "stream",
     "text": [
      "Successfully fetched: http://thebloggess.com/2019/07/17/dottie-update/\n"
     ]
    },
    {
     "name": "stderr",
     "output_type": "stream",
     "text": [
      "Scraping Progress:  12%|█▏        | 1023/8402 [33:05<6:04:56,  2.97s/it]"
     ]
    },
    {
     "name": "stdout",
     "output_type": "stream",
     "text": [
      "Successfully fetched: http://collider.com/sideshow-dc-animated-series-collection-video/\n"
     ]
    },
    {
     "name": "stderr",
     "output_type": "stream",
     "text": [
      "Scraping Progress:  12%|█▏        | 1024/8402 [33:06<5:07:23,  2.50s/it]"
     ]
    },
    {
     "name": "stdout",
     "output_type": "stream",
     "text": [
      "Successfully fetched: https://www.bleedingcool.com/2019/11/27/scooby-doo-new-enesco-figurine/\n"
     ]
    },
    {
     "name": "stderr",
     "output_type": "stream",
     "text": [
      "Scraping Progress:  12%|█▏        | 1025/8402 [33:08<4:21:56,  2.13s/it]"
     ]
    },
    {
     "name": "stdout",
     "output_type": "stream",
     "text": [
      "Cannot fetch https://www.washingtonpost.com/politics/stormy-daniels-star-of-the-latest-trump-sideshow-took-her-act-to-a-strip-club-it-was-a-scene/2018/01/21/57a469d2-fe7b-11e7-a46b-a3614530bd87_story.html, connection timed out.\n"
     ]
    },
    {
     "name": "stderr",
     "output_type": "stream",
     "text": [
      "Scraping Progress:  12%|█▏        | 1026/8402 [33:19<9:52:42,  4.82s/it]"
     ]
    },
    {
     "name": "stdout",
     "output_type": "stream",
     "text": [
      "Cannot fetch https://www.fastcompany.com/40540128/the-lonely-island-wrote-an-oscars-song-deemed-impossible-to-film-here-it-is?partner=feedburner&utm_source=feedburner&utm_medium=feed&utm_campaign=Feed%3A+fastcoexist%2Ffeed+%28Co.Exist%29, HTTP error: 403 Client Error: Forbidden for url: https://www.fastcompany.com/40540128/the-lonely-island-wrote-an-oscars-song-deemed-impossible-to-film-here-it-is?partner=feedburner&utm_source=feedburner&utm_medium=feed&utm_campaign=Feed%3A+fastcoexist%2Ffeed+%28Co.Exist%29\n"
     ]
    },
    {
     "name": "stderr",
     "output_type": "stream",
     "text": [
      "Scraping Progress:  12%|█▏        | 1027/8402 [33:20<7:38:38,  3.73s/it]"
     ]
    },
    {
     "name": "stdout",
     "output_type": "stream",
     "text": [
      "Successfully fetched: http://thebloggess.com/2018/10/19/stop-grinding-on-jesus/\n"
     ]
    },
    {
     "name": "stderr",
     "output_type": "stream",
     "text": [
      "Scraping Progress:  12%|█▏        | 1028/8402 [33:23<7:08:24,  3.49s/it]"
     ]
    },
    {
     "name": "stdout",
     "output_type": "stream",
     "text": [
      "Successfully fetched: http://thebloggess.com/2018/10/22/dont-be-a-hater-dear/\n"
     ]
    },
    {
     "name": "stderr",
     "output_type": "stream",
     "text": [
      "Scraping Progress:  12%|█▏        | 1029/8402 [33:25<6:28:49,  3.16s/it]"
     ]
    },
    {
     "name": "stdout",
     "output_type": "stream",
     "text": [
      "Successfully fetched: http://thebloggess.com/2018/10/29/in-honor-of-national-cat-day-i-got-a-tattoo-sort-of/\n"
     ]
    },
    {
     "name": "stderr",
     "output_type": "stream",
     "text": [
      "Scraping Progress:  12%|█▏        | 1030/8402 [33:28<5:53:46,  2.88s/it]"
     ]
    },
    {
     "name": "stdout",
     "output_type": "stream",
     "text": [
      "Successfully fetched: http://thebloggess.com/2018/11/01/they-really-should-get-a-writers-credit-at-this-point/\n"
     ]
    },
    {
     "name": "stderr",
     "output_type": "stream",
     "text": [
      "Scraping Progress:  12%|█▏        | 1031/8402 [33:30<5:46:55,  2.82s/it]"
     ]
    },
    {
     "name": "stdout",
     "output_type": "stream",
     "text": [
      "Successfully fetched: https://www.bleedingcool.com/2019/11/07/the-terminator-new-statue-judegment-day/\n"
     ]
    },
    {
     "name": "stderr",
     "output_type": "stream",
     "text": [
      "Scraping Progress:  12%|█▏        | 1032/8402 [33:32<4:54:22,  2.40s/it]"
     ]
    },
    {
     "name": "stdout",
     "output_type": "stream",
     "text": [
      "Successfully fetched: http://leganerd.com/2018/08/27/tinkerbell-statue-by-sideshow-collectibles/\n"
     ]
    },
    {
     "name": "stderr",
     "output_type": "stream",
     "text": [
      "Scraping Progress:  12%|█▏        | 1033/8402 [33:34<4:41:36,  2.29s/it]"
     ]
    },
    {
     "name": "stdout",
     "output_type": "stream",
     "text": [
      "Successfully fetched: https://www.billboard.com/articles/news/8384099/kendrick-lamar-damn-tour-australia-new-zealand\n"
     ]
    },
    {
     "name": "stderr",
     "output_type": "stream",
     "text": [
      "Scraping Progress:  12%|█▏        | 1034/8402 [33:36<4:53:14,  2.39s/it]"
     ]
    },
    {
     "name": "stdout",
     "output_type": "stream",
     "text": [
      "Successfully fetched: https://www.slashfilm.com/this-week-in-trailers-fleabag-lunatics-street-food-walking-on-water-seahorse/\n"
     ]
    },
    {
     "name": "stderr",
     "output_type": "stream",
     "text": [
      "Scraping Progress:  12%|█▏        | 1035/8402 [33:38<4:43:05,  2.31s/it]"
     ]
    },
    {
     "name": "stdout",
     "output_type": "stream",
     "text": [
      "Successfully fetched: https://www.slashfilm.com/video-lets-explore-the-comic-con-2019-show-floor/\n"
     ]
    },
    {
     "name": "stderr",
     "output_type": "stream",
     "text": [
      "Scraping Progress:  12%|█▏        | 1036/8402 [33:40<4:01:02,  1.96s/it]"
     ]
    },
    {
     "name": "stdout",
     "output_type": "stream",
     "text": [
      "Successfully fetched: http://mentalfloss.com/article/605725/curiosity-shops-you-should-visit\n"
     ]
    },
    {
     "name": "stderr",
     "output_type": "stream",
     "text": [
      "Scraping Progress:  12%|█▏        | 1037/8402 [33:41<3:58:00,  1.94s/it]"
     ]
    },
    {
     "name": "stdout",
     "output_type": "stream",
     "text": [
      "Successfully fetched: http://thebloggess.com/2018/10/24/this-is-rent-for-living-with-me/\n"
     ]
    },
    {
     "name": "stderr",
     "output_type": "stream",
     "text": [
      "Scraping Progress:  12%|█▏        | 1038/8402 [33:44<4:10:21,  2.04s/it]"
     ]
    },
    {
     "name": "stdout",
     "output_type": "stream",
     "text": [
      "Successfully fetched: http://thebloggess.com/2018/11/12/things-fall-apart-around-me-or-because-of-me-one-of-those/\n"
     ]
    },
    {
     "name": "stderr",
     "output_type": "stream",
     "text": [
      "Scraping Progress:  12%|█▏        | 1039/8402 [33:46<4:30:13,  2.20s/it]"
     ]
    },
    {
     "name": "stdout",
     "output_type": "stream",
     "text": [
      "Successfully fetched: http://thebloggess.com/2018/11/26/a-week-of-great-things-because-we-need-it/\n"
     ]
    },
    {
     "name": "stderr",
     "output_type": "stream",
     "text": [
      "Scraping Progress:  12%|█▏        | 1040/8402 [33:49<5:02:27,  2.47s/it]"
     ]
    },
    {
     "name": "stdout",
     "output_type": "stream",
     "text": [
      "Successfully fetched: http://thebloggess.com/2018/10/26/so-i-just-got-proposed-to/\n"
     ]
    },
    {
     "name": "stderr",
     "output_type": "stream",
     "text": [
      "Scraping Progress:  12%|█▏        | 1041/8402 [33:52<4:54:24,  2.40s/it]"
     ]
    },
    {
     "name": "stdout",
     "output_type": "stream",
     "text": [
      "Successfully fetched: http://thebloggess.com/2018/10/31/happy-halloween/\n"
     ]
    },
    {
     "name": "stderr",
     "output_type": "stream",
     "text": [
      "Scraping Progress:  12%|█▏        | 1042/8402 [33:54<4:46:05,  2.33s/it]"
     ]
    },
    {
     "name": "stdout",
     "output_type": "stream",
     "text": [
      "Cannot fetch http://www.brooklynvegan.com/tours-announced-phony-ppl-lee-ranaldo-cl-smooth-more/, HTTP error: 403 Client Error: Forbidden for url: https://www.brooklynvegan.com/tours-announced-phony-ppl-lee-ranaldo-cl-smooth-more/\n"
     ]
    },
    {
     "name": "stderr",
     "output_type": "stream",
     "text": [
      "Scraping Progress:  12%|█▏        | 1043/8402 [33:55<4:06:15,  2.01s/it]"
     ]
    },
    {
     "name": "stdout",
     "output_type": "stream",
     "text": [
      "Successfully fetched: https://www.gizmodo.com.au/2018/04/forget-the-gauntlet-thanos-looks-far-more-intimidating-in-this-100-avengers-infinity-war-hat/\n"
     ]
    },
    {
     "name": "stderr",
     "output_type": "stream",
     "text": [
      "Scraping Progress:  12%|█▏        | 1044/8402 [33:57<3:56:14,  1.93s/it]"
     ]
    },
    {
     "name": "stdout",
     "output_type": "stream",
     "text": [
      "Successfully fetched: https://www.tomshw.it/culturapop/spider-man-negative-suit-da-hot-toys/\n"
     ]
    },
    {
     "name": "stderr",
     "output_type": "stream",
     "text": [
      "Scraping Progress:  12%|█▏        | 1045/8402 [33:58<3:47:02,  1.85s/it]"
     ]
    },
    {
     "name": "stdout",
     "output_type": "stream",
     "text": [
      "Successfully fetched: https://www.vox.com/future-perfect/2019/4/23/18511105/novocaine-shortage-pain-animal-cruelty-welfare\n"
     ]
    },
    {
     "name": "stderr",
     "output_type": "stream",
     "text": [
      "Scraping Progress:  12%|█▏        | 1046/8402 [34:00<3:21:54,  1.65s/it]"
     ]
    },
    {
     "name": "stdout",
     "output_type": "stream",
     "text": [
      "Successfully fetched: http://www.vintag.es/2018/01/story-and-vintage-photos-of-olga.html\n"
     ]
    },
    {
     "name": "stderr",
     "output_type": "stream",
     "text": [
      "Scraping Progress:  12%|█▏        | 1047/8402 [34:01<3:23:06,  1.66s/it]"
     ]
    },
    {
     "name": "stdout",
     "output_type": "stream",
     "text": [
      "Successfully fetched: https://www.inquirer.com/soccer/carli-lloyd-nfl-offer-james-galanis-55-yard-field-goal-eagles-ravens-20190827.html\n"
     ]
    },
    {
     "name": "stderr",
     "output_type": "stream",
     "text": [
      "Scraping Progress:  12%|█▏        | 1048/8402 [34:03<3:08:45,  1.54s/it]"
     ]
    },
    {
     "name": "stdout",
     "output_type": "stream",
     "text": [
      "Successfully fetched: https://www.cbssports.com/mma/news/ufc-245-colby-covington-can-cash-in-on-his-cringeworthy-ruse-by-winning-the-welterweight-title/\n"
     ]
    },
    {
     "name": "stderr",
     "output_type": "stream",
     "text": [
      "Scraping Progress:  12%|█▏        | 1049/8402 [34:05<3:36:10,  1.76s/it]"
     ]
    },
    {
     "name": "stdout",
     "output_type": "stream",
     "text": [
      "Cannot fetch https://finance.yahoo.com/news/manafort-mystery-lender-battles-mueller-090002474.html, HTTP error: 404 Client Error: Not Found for url: https://finance.yahoo.com/news/manafort-mystery-lender-battles-mueller-090002474.html\n"
     ]
    },
    {
     "name": "stderr",
     "output_type": "stream",
     "text": [
      "Scraping Progress:  13%|█▎        | 1051/8402 [34:08<3:26:28,  1.69s/it]"
     ]
    },
    {
     "name": "stdout",
     "output_type": "stream",
     "text": [
      "Cannot fetch https://www.geek.com/culture/toy-tuesday-the-best-james-bond-toys-1812334/, HTTP error: 404 Client Error: Not Found for url: https://www.geek.com/culture/toy-tuesday-the-best-james-bond-toys-1812334/\n"
     ]
    },
    {
     "name": "stderr",
     "output_type": "stream",
     "text": [
      "Scraping Progress:  13%|█▎        | 1052/8402 [34:09<3:07:47,  1.53s/it]"
     ]
    },
    {
     "name": "stdout",
     "output_type": "stream",
     "text": [
      "Cannot fetch https://www.wsj.com/articles/move-it-along-manafort-judge-sets-a-brisk-pace-for-prosecutors-1533494175, HTTP error: 401 Client Error: HTTP Forbidden for url: https://www.wsj.com/articles/move-it-along-manafort-judge-sets-a-brisk-pace-for-prosecutors-1533494175\n"
     ]
    },
    {
     "name": "stderr",
     "output_type": "stream",
     "text": [
      "Scraping Progress:  13%|█▎        | 1053/8402 [34:10<2:56:14,  1.44s/it]"
     ]
    },
    {
     "name": "stdout",
     "output_type": "stream",
     "text": [
      "Successfully fetched: http://collider.com/spider-man-legendary-statue-sideshow-collectibles/\n"
     ]
    },
    {
     "name": "stderr",
     "output_type": "stream",
     "text": [
      "Scraping Progress:  13%|█▎        | 1054/8402 [34:12<2:52:49,  1.41s/it]"
     ]
    },
    {
     "name": "stdout",
     "output_type": "stream",
     "text": [
      "Cannot fetch https://dealbreaker.com/2019/10/ubs-sucks-says-ubs-ceo-guy, HTTP error: 403 Client Error: Forbidden for url: https://dealbreaker.com/2019/10/ubs-sucks-says-ubs-ceo-guy\n"
     ]
    },
    {
     "name": "stderr",
     "output_type": "stream",
     "text": [
      "Scraping Progress:  13%|█▎        | 1055/8402 [34:13<2:43:03,  1.33s/it]"
     ]
    },
    {
     "name": "stdout",
     "output_type": "stream",
     "text": [
      "Successfully fetched: https://www.eater.com/2019/10/9/20905412/nathans-hot-dog-eating-contest-coney-island-cult-following\n"
     ]
    },
    {
     "name": "stderr",
     "output_type": "stream",
     "text": [
      "Scraping Progress:  13%|█▎        | 1056/8402 [34:15<3:09:31,  1.55s/it]"
     ]
    },
    {
     "name": "stdout",
     "output_type": "stream",
     "text": [
      "Successfully fetched: https://www.hrw.org/news/2019/06/24/trumps-deal-century-palestine-sideshow\n"
     ]
    },
    {
     "name": "stderr",
     "output_type": "stream",
     "text": [
      "Scraping Progress:  13%|█▎        | 1057/8402 [34:17<3:22:08,  1.65s/it]"
     ]
    },
    {
     "name": "stdout",
     "output_type": "stream",
     "text": [
      "Cannot fetch https://news.yahoo.com/manafort-mystery-lender-battles-mueller-090002538.html, HTTP error: 404 Client Error: Not Found for url: https://news.yahoo.com/manafort-mystery-lender-battles-mueller-090002538.html\n"
     ]
    },
    {
     "name": "stderr",
     "output_type": "stream",
     "text": [
      "Scraping Progress:  13%|█▎        | 1058/8402 [34:18<3:15:59,  1.60s/it]"
     ]
    },
    {
     "name": "stdout",
     "output_type": "stream",
     "text": [
      "Successfully fetched: http://thebloggess.com/2018/11/06/i-left-my-house-today-to-fight-for-your-rights-and-all-i-got-was-a-sticker-and-the-chance-to-change-the-world/\n"
     ]
    },
    {
     "name": "stderr",
     "output_type": "stream",
     "text": [
      "Scraping Progress:  13%|█▎        | 1059/8402 [34:20<3:07:54,  1.54s/it]"
     ]
    },
    {
     "name": "stdout",
     "output_type": "stream",
     "text": [
      "Successfully fetched: http://thebloggess.com/2018/11/08/eyes-are-the-window-to-the-soul-but-my-eyelids-are-the-miniblinds-to-my-anxiety-disorder/\n"
     ]
    },
    {
     "name": "stderr",
     "output_type": "stream",
     "text": [
      "Scraping Progress:  13%|█▎        | 1060/8402 [34:21<3:01:16,  1.48s/it]"
     ]
    },
    {
     "name": "stdout",
     "output_type": "stream",
     "text": [
      "Successfully fetched: http://thebloggess.com/2018/11/29/the-best-advice-i-ever-got/\n"
     ]
    },
    {
     "name": "stderr",
     "output_type": "stream",
     "text": [
      "Scraping Progress:  13%|█▎        | 1061/8402 [34:24<3:58:45,  1.95s/it]"
     ]
    },
    {
     "name": "stdout",
     "output_type": "stream",
     "text": [
      "Successfully fetched: http://thebloggess.com/2018/11/28/the-best-thing-i-bought/\n"
     ]
    },
    {
     "name": "stderr",
     "output_type": "stream",
     "text": [
      "Scraping Progress:  13%|█▎        | 1062/8402 [34:27<4:30:40,  2.21s/it]"
     ]
    },
    {
     "name": "stdout",
     "output_type": "stream",
     "text": [
      "Successfully fetched: https://nypost.com/2018/11/01/performer-accidentally-stabs-himself-with-13-swords-during-stunt/\n"
     ]
    },
    {
     "name": "stderr",
     "output_type": "stream",
     "text": [
      "Scraping Progress:  13%|█▎        | 1063/8402 [34:29<4:12:32,  2.06s/it]"
     ]
    },
    {
     "name": "stdout",
     "output_type": "stream",
     "text": [
      "Successfully fetched: https://www.slashfilm.com/star-wars-bits-warwick-davis-returns-resistance-hits-our-screens-and-photos-from-the-episode-ix-set-hit-the-web/\n"
     ]
    },
    {
     "name": "stderr",
     "output_type": "stream",
     "text": [
      "Scraping Progress:  13%|█▎        | 1064/8402 [34:30<3:41:02,  1.81s/it]"
     ]
    },
    {
     "name": "stdout",
     "output_type": "stream",
     "text": [
      "Successfully fetched: https://www.bostonherald.com/2019/06/04/trump-sideshow-meant-to-distract/\n"
     ]
    },
    {
     "name": "stderr",
     "output_type": "stream",
     "text": [
      "Scraping Progress:  13%|█▎        | 1065/8402 [34:32<3:38:34,  1.79s/it]"
     ]
    },
    {
     "name": "stdout",
     "output_type": "stream",
     "text": [
      "Successfully fetched: https://nerdist.com/lego-hurts-your-feet-more-coals-glass/\n"
     ]
    },
    {
     "name": "stderr",
     "output_type": "stream",
     "text": [
      "Scraping Progress:  13%|█▎        | 1067/8402 [34:35<3:22:36,  1.66s/it]"
     ]
    },
    {
     "name": "stdout",
     "output_type": "stream",
     "text": [
      "Successfully fetched: https://www.cbr.com/spider-man-ps4-hot-toys-figure/\n"
     ]
    },
    {
     "name": "stderr",
     "output_type": "stream",
     "text": [
      "Scraping Progress:  13%|█▎        | 1068/8402 [34:36<3:10:06,  1.56s/it]"
     ]
    },
    {
     "name": "stdout",
     "output_type": "stream",
     "text": [
      "Cannot fetch https://www.politico.com/story/2018/10/24/elizabeth-warren-dna-poll-935346, HTTP error: 403 Client Error: Forbidden for url: https://www.politico.com/story/2018/10/24/elizabeth-warren-dna-poll-935346\n"
     ]
    },
    {
     "name": "stderr",
     "output_type": "stream",
     "text": [
      "Scraping Progress:  13%|█▎        | 1069/8402 [34:37<2:55:13,  1.43s/it]"
     ]
    },
    {
     "name": "stdout",
     "output_type": "stream",
     "text": [
      "Successfully fetched: http://thebloggess.com/2018/11/14/calling-all-bloggers/\n"
     ]
    },
    {
     "name": "stderr",
     "output_type": "stream",
     "text": [
      "Scraping Progress:  13%|█▎        | 1070/8402 [34:41<4:11:21,  2.06s/it]"
     ]
    },
    {
     "name": "stdout",
     "output_type": "stream",
     "text": [
      "Successfully fetched: http://thebloggess.com/2018/11/27/the-best-thing-i-read/\n"
     ]
    },
    {
     "name": "stderr",
     "output_type": "stream",
     "text": [
      "Scraping Progress:  13%|█▎        | 1071/8402 [34:43<4:33:49,  2.24s/it]"
     ]
    },
    {
     "name": "stdout",
     "output_type": "stream",
     "text": [
      "Successfully fetched: http://thebloggess.com/2018/11/19/nice-one-squirrely-temple/\n"
     ]
    },
    {
     "name": "stderr",
     "output_type": "stream",
     "text": [
      "Scraping Progress:  13%|█▎        | 1072/8402 [34:46<4:46:31,  2.35s/it]"
     ]
    },
    {
     "name": "stdout",
     "output_type": "stream",
     "text": [
      "Successfully fetched: http://thebloggess.com/2018/11/30/tell-me-something-good-2/\n"
     ]
    },
    {
     "name": "stderr",
     "output_type": "stream",
     "text": [
      "Scraping Progress:  13%|█▎        | 1073/8402 [34:49<4:59:22,  2.45s/it]"
     ]
    },
    {
     "name": "stdout",
     "output_type": "stream",
     "text": [
      "Successfully fetched: http://thebloggess.com/2018/12/05/2019-bloggess-calendar/\n"
     ]
    },
    {
     "name": "stderr",
     "output_type": "stream",
     "text": [
      "Scraping Progress:  13%|█▎        | 1074/8402 [34:51<4:53:54,  2.41s/it]"
     ]
    },
    {
     "name": "stdout",
     "output_type": "stream",
     "text": [
      "Successfully fetched: http://thebloggess.com/2018/12/28/im-probably-not-dying-yet/\n"
     ]
    },
    {
     "name": "stderr",
     "output_type": "stream",
     "text": [
      "Scraping Progress:  13%|█▎        | 1075/8402 [34:53<4:48:51,  2.37s/it]"
     ]
    },
    {
     "name": "stdout",
     "output_type": "stream",
     "text": [
      "Successfully fetched: http://thebloggess.com/2018/12/18/i-feel-dirty/\n"
     ]
    },
    {
     "name": "stderr",
     "output_type": "stream",
     "text": [
      "Scraping Progress:  13%|█▎        | 1076/8402 [34:56<4:57:30,  2.44s/it]"
     ]
    },
    {
     "name": "stdout",
     "output_type": "stream",
     "text": [
      "Successfully fetched: http://thebloggess.com/2018/12/03/i-wonder-if-hemingway-had-this-problem/\n"
     ]
    },
    {
     "name": "stderr",
     "output_type": "stream",
     "text": [
      "Scraping Progress:  13%|█▎        | 1077/8402 [34:58<5:05:46,  2.50s/it]"
     ]
    },
    {
     "name": "stdout",
     "output_type": "stream",
     "text": [
      "Successfully fetched: http://thebloggess.com/2018/12/04/this-is-why-i-dont-clean-victor/\n"
     ]
    },
    {
     "name": "stderr",
     "output_type": "stream",
     "text": [
      "Scraping Progress:  13%|█▎        | 1078/8402 [35:01<5:06:44,  2.51s/it]"
     ]
    },
    {
     "name": "stdout",
     "output_type": "stream",
     "text": [
      "Successfully fetched: http://thebloggess.com/2018/12/09/its-coming/\n"
     ]
    },
    {
     "name": "stderr",
     "output_type": "stream",
     "text": [
      "Scraping Progress:  13%|█▎        | 1079/8402 [35:03<5:05:03,  2.50s/it]"
     ]
    },
    {
     "name": "stdout",
     "output_type": "stream",
     "text": [
      "Successfully fetched: http://thebloggess.com/2019/01/02/not-sure-whats-traditional-about-this-but-i-still-love-it/\n"
     ]
    },
    {
     "name": "stderr",
     "output_type": "stream",
     "text": [
      "Scraping Progress:  13%|█▎        | 1080/8402 [35:06<5:06:11,  2.51s/it]"
     ]
    },
    {
     "name": "stdout",
     "output_type": "stream",
     "text": [
      "Successfully fetched: http://thebloggess.com/2018/12/30/i-paid-to-get-locked-in-a-tiny-room-with-a-frustrated-victor-and-im-not-sure-what-that-says-about-my-state-of-mind/\n"
     ]
    },
    {
     "name": "stderr",
     "output_type": "stream",
     "text": [
      "Scraping Progress:  13%|█▎        | 1081/8402 [35:09<5:09:58,  2.54s/it]"
     ]
    },
    {
     "name": "stdout",
     "output_type": "stream",
     "text": [
      "Successfully fetched: http://thebloggess.com/2018/12/29/happy-birthday-to-we/\n"
     ]
    },
    {
     "name": "stderr",
     "output_type": "stream",
     "text": [
      "Scraping Progress:  13%|█▎        | 1082/8402 [35:12<5:23:16,  2.65s/it]"
     ]
    },
    {
     "name": "stdout",
     "output_type": "stream",
     "text": [
      "Successfully fetched: http://leganerd.com/2018/08/13/r2-me2-sideshow-exhibition-catalog/\n"
     ]
    },
    {
     "name": "stderr",
     "output_type": "stream",
     "text": [
      "Scraping Progress:  13%|█▎        | 1083/8402 [35:13<4:53:34,  2.41s/it]"
     ]
    },
    {
     "name": "stdout",
     "output_type": "stream",
     "text": [
      "Successfully fetched: https://www.theatlantic.com/entertainment/archive/2018/02/2018-winter-olympics-preview-nathan-chen-lindsey-vonn/552218/\n"
     ]
    },
    {
     "name": "stderr",
     "output_type": "stream",
     "text": [
      "Scraping Progress:  13%|█▎        | 1084/8402 [35:15<4:27:37,  2.19s/it]"
     ]
    },
    {
     "name": "stdout",
     "output_type": "stream",
     "text": [
      "Cannot fetch http://perezhilton.com/2018-01-03-donald-trump-announces-corrupt-media-awards-twitter-reactions, HTTP error: 403 Client Error: Forbidden for url: https://perezhilton.com/2018-01-03-donald-trump-announces-corrupt-media-awards-twitter-reactions\n"
     ]
    },
    {
     "name": "stderr",
     "output_type": "stream",
     "text": [
      "Scraping Progress:  13%|█▎        | 1085/8402 [35:16<3:55:08,  1.93s/it]"
     ]
    },
    {
     "name": "stdout",
     "output_type": "stream",
     "text": [
      "Successfully fetched: https://www.bleedingcool.com/2018/06/26/anakin-skywalker-star-wars-sdcc-exclusive-hot-toys/\n"
     ]
    },
    {
     "name": "stderr",
     "output_type": "stream",
     "text": [
      "Scraping Progress:  13%|█▎        | 1086/8402 [35:18<3:33:00,  1.75s/it]"
     ]
    },
    {
     "name": "stdout",
     "output_type": "stream",
     "text": [
      "Successfully fetched: https://www.gizmodo.com.au/2018/07/your-very-own-lifesize-replica-of-bb-8-will-cost-you-almost-5400/\n"
     ]
    },
    {
     "name": "stderr",
     "output_type": "stream",
     "text": [
      "Scraping Progress:  13%|█▎        | 1087/8402 [35:19<3:28:39,  1.71s/it]"
     ]
    },
    {
     "name": "stdout",
     "output_type": "stream",
     "text": [
      "Successfully fetched: https://www.toodaylab.com/76770\n"
     ]
    },
    {
     "name": "stderr",
     "output_type": "stream",
     "text": [
      "Scraping Progress:  13%|█▎        | 1088/8402 [35:23<4:24:51,  2.17s/it]"
     ]
    },
    {
     "name": "stdout",
     "output_type": "stream",
     "text": [
      "Successfully fetched: https://www.bostonglobe.com/metro/obituaries/2018/09/10/ward-hall-kept-sideshow-going/LppgXCaBaUbwdBQeUNt0EL/story.html\n"
     ]
    },
    {
     "name": "stderr",
     "output_type": "stream",
     "text": [
      "Scraping Progress:  13%|█▎        | 1089/8402 [35:25<4:27:41,  2.20s/it]"
     ]
    },
    {
     "name": "stdout",
     "output_type": "stream",
     "text": [
      "Successfully fetched: https://appleinsider.com/articles/19/07/24/how-to-speed-up-working-on-your-mac-by-making-windows-snap-into-position\n"
     ]
    },
    {
     "name": "stderr",
     "output_type": "stream",
     "text": [
      "Scraping Progress:  13%|█▎        | 1090/8402 [35:26<4:03:27,  2.00s/it]"
     ]
    },
    {
     "name": "stdout",
     "output_type": "stream",
     "text": [
      "Cannot fetch https://www.comicbookmovie.com/sideshow_collectibles/unboxing-check-out-sideshow-collectibles-thrilling-carnage-premium-format-figure-a158934, HTTP error: 404 Client Error: Not Found for url: https://comicbookmovie.com/sideshow_collectibles/unboxing-check-out-sideshow-collectibles-thrilling-carnage-premium-format-figure-a158934\n"
     ]
    },
    {
     "name": "stderr",
     "output_type": "stream",
     "text": [
      "Scraping Progress:  13%|█▎        | 1091/8402 [35:28<3:52:25,  1.91s/it]"
     ]
    },
    {
     "name": "stdout",
     "output_type": "stream",
     "text": [
      "Cannot fetch https://www.realclearpolitics.com/2019/10/10/the_biden_story_is_more_pathetic_than_nefarious_488599.html, HTTP error: 403 Client Error: HTTP Forbidden for url: https://www.realclearpolitics.com/2019/10/10/the_biden_story_is_more_pathetic_than_nefarious_488599.html\n"
     ]
    },
    {
     "name": "stderr",
     "output_type": "stream",
     "text": [
      "Scraping Progress:  13%|█▎        | 1092/8402 [35:29<3:26:22,  1.69s/it]"
     ]
    },
    {
     "name": "stdout",
     "output_type": "stream",
     "text": [
      "Cannot fetch https://www.miamiherald.com/sports/college/state-college-sports/article230436929.html, connection timed out.\n"
     ]
    },
    {
     "name": "stderr",
     "output_type": "stream",
     "text": [
      "Scraping Progress:  13%|█▎        | 1093/8402 [35:40<9:10:14,  4.52s/it]"
     ]
    },
    {
     "name": "stdout",
     "output_type": "stream",
     "text": [
      "Cannot fetch https://film.avclub.com/it-chapter-two-is-a-bad-horror-movie-but-it-s-a-pretty-1837937721, error: HTTPSConnectionPool(host='film.avclub.com', port=443): Max retries exceeded with url: /it-chapter-two-is-a-bad-horror-movie-but-it-s-a-pretty-1837937721 (Caused by NewConnectionError('<urllib3.connection.HTTPSConnection object at 0x118229290>: Failed to establish a new connection: [Errno 8] nodename nor servname provided, or not known'))\n"
     ]
    },
    {
     "name": "stderr",
     "output_type": "stream",
     "text": [
      "Scraping Progress:  13%|█▎        | 1094/8402 [35:41<7:02:10,  3.47s/it]"
     ]
    },
    {
     "name": "stdout",
     "output_type": "stream",
     "text": [
      "Successfully fetched: http://thebloggess.com/2018/12/25/christmas-in-the-shower/\n"
     ]
    },
    {
     "name": "stderr",
     "output_type": "stream",
     "text": [
      "Scraping Progress:  13%|█▎        | 1095/8402 [35:44<6:16:52,  3.09s/it]"
     ]
    },
    {
     "name": "stdout",
     "output_type": "stream",
     "text": [
      "Successfully fetched: http://thebloggess.com/2018/12/21/i-just-want-someone-to-tell-me-im-okay/\n"
     ]
    },
    {
     "name": "stderr",
     "output_type": "stream",
     "text": [
      "Scraping Progress:  13%|█▎        | 1096/8402 [35:48<6:47:57,  3.35s/it]"
     ]
    },
    {
     "name": "stdout",
     "output_type": "stream",
     "text": [
      "Successfully fetched: http://thebloggess.com/2018/12/22/considering-this-holiday-arose-from-the-severed-head-of-a-wild-boar-i-think-its-actually-worked-out-pretty-well/\n"
     ]
    },
    {
     "name": "stderr",
     "output_type": "stream",
     "text": [
      "Scraping Progress:  13%|█▎        | 1097/8402 [35:50<6:21:54,  3.14s/it]"
     ]
    },
    {
     "name": "stdout",
     "output_type": "stream",
     "text": [
      "Successfully fetched: http://thebloggess.com/2018/12/16/hi-im-a-heathen/\n"
     ]
    },
    {
     "name": "stderr",
     "output_type": "stream",
     "text": [
      "Scraping Progress:  13%|█▎        | 1098/8402 [35:52<5:48:09,  2.86s/it]"
     ]
    },
    {
     "name": "stdout",
     "output_type": "stream",
     "text": [
      "Successfully fetched: http://thebloggess.com/2019/01/07/finish/\n"
     ]
    },
    {
     "name": "stderr",
     "output_type": "stream",
     "text": [
      "Scraping Progress:  13%|█▎        | 1099/8402 [35:55<5:44:56,  2.83s/it]"
     ]
    },
    {
     "name": "stdout",
     "output_type": "stream",
     "text": [
      "Successfully fetched: https://www.buzzfeed.com/pdominguez/grey-gardens-that-summer-documentary\n"
     ]
    },
    {
     "name": "stderr",
     "output_type": "stream",
     "text": [
      "Scraping Progress:  13%|█▎        | 1100/8402 [35:57<5:07:37,  2.53s/it]"
     ]
    },
    {
     "name": "stdout",
     "output_type": "stream",
     "text": [
      "Successfully fetched: https://indianexpress.com/article/world/donald-trump-tweets-g7-pictures-to-prove-that-he-gets-along-well-with-world-leaders-5219642/\n"
     ]
    },
    {
     "name": "stderr",
     "output_type": "stream",
     "text": [
      "Scraping Progress:  13%|█▎        | 1101/8402 [35:59<4:54:53,  2.42s/it]"
     ]
    },
    {
     "name": "stdout",
     "output_type": "stream",
     "text": [
      "Cannot fetch http://www.vintage-everyday.com/2018/01/story-and-vintage-photos-of-olga.html, HTTP error: 404 Client Error: Not Found for url: https://www.vintage-everyday.com/2018/01/story-and-vintage-photos-of-olga.html\n"
     ]
    },
    {
     "name": "stderr",
     "output_type": "stream",
     "text": [
      "Scraping Progress:  13%|█▎        | 1102/8402 [36:01<4:31:34,  2.23s/it]"
     ]
    },
    {
     "name": "stdout",
     "output_type": "stream",
     "text": [
      "Successfully fetched: https://indianexpress.com/article/india/darjeeling-toy-trains-railways-and-its-struggle-with-heritage-5269367/\n"
     ]
    },
    {
     "name": "stderr",
     "output_type": "stream",
     "text": [
      "Scraping Progress:  13%|█▎        | 1103/8402 [36:03<4:23:33,  2.17s/it]"
     ]
    },
    {
     "name": "stdout",
     "output_type": "stream",
     "text": [
      "Cannot fetch https://nerdist.com/ego-hurts-your-feet-more-coals-glass/, HTTP error: 404 Client Error: Not Found for url: https://nerdist.com/ego-hurts-your-feet-more-coals-glass/\n"
     ]
    },
    {
     "name": "stderr",
     "output_type": "stream",
     "text": [
      "Scraping Progress:  13%|█▎        | 1104/8402 [36:05<4:10:17,  2.06s/it]"
     ]
    },
    {
     "name": "stdout",
     "output_type": "stream",
     "text": [
      "Successfully fetched: http://www.cracked.com/blog/5-signs-tlc-shows-have-gone-from-stupid-to-evil\n"
     ]
    },
    {
     "name": "stderr",
     "output_type": "stream",
     "text": [
      "Scraping Progress:  13%|█▎        | 1105/8402 [36:06<3:51:17,  1.90s/it]"
     ]
    },
    {
     "name": "stdout",
     "output_type": "stream",
     "text": [
      "Successfully fetched: https://geektyrant.com/news/dr-deaths-sideshow-spookhouse-spectacular-unleashes-the-freaks-in-trailer-for-candy-corn\n"
     ]
    },
    {
     "name": "stderr",
     "output_type": "stream",
     "text": [
      "Scraping Progress:  13%|█▎        | 1106/8402 [36:09<4:13:16,  2.08s/it]"
     ]
    },
    {
     "name": "stdout",
     "output_type": "stream",
     "text": [
      "Successfully fetched: https://www.bleedingcool.com/2018/01/26/masters-of-the-universe-orko-statue/\n"
     ]
    },
    {
     "name": "stderr",
     "output_type": "stream",
     "text": [
      "Scraping Progress:  13%|█▎        | 1107/8402 [36:10<3:44:04,  1.84s/it]"
     ]
    },
    {
     "name": "stdout",
     "output_type": "stream",
     "text": [
      "Successfully fetched: https://geektyrant.com/news/inside-look-at-the-creation-of-sideshow-collectibles-batman-the-animated-series-statue\n"
     ]
    },
    {
     "name": "stderr",
     "output_type": "stream",
     "text": [
      "Scraping Progress:  13%|█▎        | 1108/8402 [36:13<4:27:03,  2.20s/it]"
     ]
    },
    {
     "name": "stdout",
     "output_type": "stream",
     "text": [
      "Cannot fetch https://www.politico.com/magazine/story/2018/11/13/donald-trump-jim-acosta-222463, HTTP error: 403 Client Error: Forbidden for url: https://www.politico.com/magazine/story/2018/11/13/donald-trump-jim-acosta-222463\n"
     ]
    },
    {
     "name": "stderr",
     "output_type": "stream",
     "text": [
      "Scraping Progress:  13%|█▎        | 1109/8402 [36:14<3:48:33,  1.88s/it]"
     ]
    },
    {
     "name": "stdout",
     "output_type": "stream",
     "text": [
      "Cannot fetch https://www.washingtonpost.com/entertainment/celebrities/globes-roll-out-red-carpet-under-cloud-of-sex-scandals/2018/01/07/209c529c-f408-11e7-9af7-a50bc3300042_story.html, connection timed out.\n"
     ]
    },
    {
     "name": "stderr",
     "output_type": "stream",
     "text": [
      "Scraping Progress:  13%|█▎        | 1110/8402 [36:25<9:23:47,  4.64s/it]"
     ]
    },
    {
     "name": "stdout",
     "output_type": "stream",
     "text": [
      "Successfully fetched: https://qz.com/1199308/uber-waymo-trial-emails-texts-and-memos-what-not-to-write/\n"
     ]
    },
    {
     "name": "stderr",
     "output_type": "stream",
     "text": [
      "Scraping Progress:  13%|█▎        | 1111/8402 [36:27<7:29:26,  3.70s/it]"
     ]
    },
    {
     "name": "stdout",
     "output_type": "stream",
     "text": [
      "Successfully fetched: https://qz.com/africa/1365977/dambudzo-marecheras-the-house-of-hunger-novel-still-plays-out-in-zimbabwe/\n"
     ]
    },
    {
     "name": "stderr",
     "output_type": "stream",
     "text": [
      "Scraping Progress:  13%|█▎        | 1112/8402 [36:28<6:05:18,  3.01s/it]"
     ]
    },
    {
     "name": "stdout",
     "output_type": "stream",
     "text": [
      "Successfully fetched: https://www.ozbargain.com.au/node/474578\n"
     ]
    },
    {
     "name": "stderr",
     "output_type": "stream",
     "text": [
      "Scraping Progress:  13%|█▎        | 1113/8402 [36:30<5:12:55,  2.58s/it]"
     ]
    },
    {
     "name": "stdout",
     "output_type": "stream",
     "text": [
      "Successfully fetched: https://www.bleedingcool.com/2019/12/18/darth-vader-kotobukiya-artfx-statue/\n"
     ]
    },
    {
     "name": "stderr",
     "output_type": "stream",
     "text": [
      "Scraping Progress:  13%|█▎        | 1114/8402 [36:31<4:25:08,  2.18s/it]"
     ]
    },
    {
     "name": "stdout",
     "output_type": "stream",
     "text": [
      "Successfully fetched: https://motherboard.vice.com/en_us/article/8xk83a/what-is-the-condom-snorting-challenge-explained\n"
     ]
    },
    {
     "name": "stderr",
     "output_type": "stream",
     "text": [
      "Scraping Progress:  13%|█▎        | 1115/8402 [36:33<4:22:45,  2.16s/it]"
     ]
    },
    {
     "name": "stdout",
     "output_type": "stream",
     "text": [
      "Successfully fetched: https://www.redstate.com/streiff/2019/07/03/friday-deadline-set-trump-administration-make-final-decision-citizenship-question-census-2020/\n"
     ]
    },
    {
     "name": "stderr",
     "output_type": "stream",
     "text": [
      "Scraping Progress:  13%|█▎        | 1116/8402 [36:35<4:03:43,  2.01s/it]"
     ]
    },
    {
     "name": "stdout",
     "output_type": "stream",
     "text": [
      "Successfully fetched: https://www.bleedingcool.com/2019/11/17/star-wars-queen-amidala-new-statue/\n"
     ]
    },
    {
     "name": "stderr",
     "output_type": "stream",
     "text": [
      "Scraping Progress:  13%|█▎        | 1117/8402 [36:36<3:44:24,  1.85s/it]"
     ]
    },
    {
     "name": "stdout",
     "output_type": "stream",
     "text": [
      "Successfully fetched: https://www.vox.com/2018/12/12/18138207/theresa-may-no-confidence-vote-brexit\n"
     ]
    },
    {
     "name": "stderr",
     "output_type": "stream",
     "text": [
      "Scraping Progress:  13%|█▎        | 1118/8402 [36:38<3:31:17,  1.74s/it]"
     ]
    },
    {
     "name": "stdout",
     "output_type": "stream",
     "text": [
      "Successfully fetched: https://crooksandliars.com/2018/06/north-korea-summit-nothing-more-photo-op\n"
     ]
    },
    {
     "name": "stderr",
     "output_type": "stream",
     "text": [
      "Scraping Progress:  13%|█▎        | 1119/8402 [36:39<3:22:59,  1.67s/it]"
     ]
    },
    {
     "name": "stdout",
     "output_type": "stream",
     "text": [
      "Successfully fetched: https://jalopnik.com/major-tesla-short-seller-changes-mind-over-proven-hit-o-1829963560\n"
     ]
    },
    {
     "name": "stderr",
     "output_type": "stream",
     "text": [
      "Scraping Progress:  13%|█▎        | 1120/8402 [36:41<3:14:22,  1.60s/it]"
     ]
    },
    {
     "name": "stdout",
     "output_type": "stream",
     "text": [
      "Successfully fetched: http://collider.com/spider-man-miles-morales-premium-format-figure-sideshow/\n"
     ]
    },
    {
     "name": "stderr",
     "output_type": "stream",
     "text": [
      "Scraping Progress:  13%|█▎        | 1121/8402 [36:42<3:07:10,  1.54s/it]"
     ]
    },
    {
     "name": "stdout",
     "output_type": "stream",
     "text": [
      "Successfully fetched: https://www.cbr.com/avengers-endgame-statue-thanos-new-weapon/\n"
     ]
    },
    {
     "name": "stderr",
     "output_type": "stream",
     "text": [
      "Scraping Progress:  13%|█▎        | 1122/8402 [36:43<2:59:18,  1.48s/it]"
     ]
    },
    {
     "name": "stdout",
     "output_type": "stream",
     "text": [
      "Successfully fetched: https://nofilmschool.com/2022/01/diay-do-it-all-yourself-director-johannes-nyholhm-0\n"
     ]
    },
    {
     "name": "stderr",
     "output_type": "stream",
     "text": [
      "Scraping Progress:  13%|█▎        | 1123/8402 [36:45<2:55:14,  1.44s/it]"
     ]
    },
    {
     "name": "stdout",
     "output_type": "stream",
     "text": [
      "Successfully fetched: https://chicago.suntimes.com/news/dnc-summer-meeting-chicago-2018-updates/\n"
     ]
    },
    {
     "name": "stderr",
     "output_type": "stream",
     "text": [
      "Scraping Progress:  13%|█▎        | 1124/8402 [36:47<3:28:47,  1.72s/it]"
     ]
    },
    {
     "name": "stdout",
     "output_type": "stream",
     "text": [
      "Successfully fetched: https://thinkprogress.org/trump-threatens-russia-on-syria-then-seeks-cooperation-12f2dc8fd0db/\n"
     ]
    },
    {
     "name": "stderr",
     "output_type": "stream",
     "text": [
      "Scraping Progress:  13%|█▎        | 1125/8402 [36:49<3:23:24,  1.68s/it]"
     ]
    },
    {
     "name": "stdout",
     "output_type": "stream",
     "text": [
      "Successfully fetched: http://leganerd.com/2018/11/23/wonder-woman-statue-by-sideshow-collectibles/\n"
     ]
    },
    {
     "name": "stderr",
     "output_type": "stream",
     "text": [
      "Scraping Progress:  13%|█▎        | 1126/8402 [36:51<3:28:55,  1.72s/it]"
     ]
    },
    {
     "name": "stdout",
     "output_type": "stream",
     "text": [
      "Successfully fetched: https://www.theblaze.com/news/2018/08/25/watch-cnn-asks-americans-about-trump-after-cohen-manafort-legal-troubles-it-gets-ugly-real-fast\n"
     ]
    },
    {
     "name": "stderr",
     "output_type": "stream",
     "text": [
      "Scraping Progress:  13%|█▎        | 1127/8402 [36:52<3:14:45,  1.61s/it]"
     ]
    },
    {
     "name": "stdout",
     "output_type": "stream",
     "text": [
      "Successfully fetched: https://www.comicbookmovie.com/justice_league/update-alex-rosss-liberty-and-justice-trinity-print-unboxing-and-giveaway-a156895\n"
     ]
    },
    {
     "name": "stderr",
     "output_type": "stream",
     "text": [
      "Scraping Progress:  13%|█▎        | 1128/8402 [36:53<3:07:09,  1.54s/it]"
     ]
    },
    {
     "name": "stdout",
     "output_type": "stream",
     "text": [
      "Successfully fetched: http://leganerd.com/2018/09/27/psylocke-premium-format-figure-by-sideshow-collectibles/\n"
     ]
    },
    {
     "name": "stderr",
     "output_type": "stream",
     "text": [
      "Scraping Progress:  13%|█▎        | 1129/8402 [36:55<3:20:08,  1.65s/it]"
     ]
    },
    {
     "name": "stdout",
     "output_type": "stream",
     "text": [
      "Successfully fetched: https://www.comicbookmovie.com/venom/unboxing-check-out-sideshow-collectibles-terrifying-venom-premium-format-figure-a159163\n"
     ]
    },
    {
     "name": "stderr",
     "output_type": "stream",
     "text": [
      "Scraping Progress:  13%|█▎        | 1130/8402 [36:57<3:08:05,  1.55s/it]"
     ]
    },
    {
     "name": "stdout",
     "output_type": "stream",
     "text": [
      "Cannot fetch https://www.comicbookmovie.com/sideshow_collectibles/unboxing-sideshow-collectibles-lovely-black-cat-premium-format-figure-a158802, HTTP error: 404 Client Error: Not Found for url: https://comicbookmovie.com/sideshow_collectibles/unboxing-sideshow-collectibles-lovely-black-cat-premium-format-figure-a158802\n"
     ]
    },
    {
     "name": "stderr",
     "output_type": "stream",
     "text": [
      "Scraping Progress:  13%|█▎        | 1131/8402 [36:58<3:03:00,  1.51s/it]"
     ]
    },
    {
     "name": "stdout",
     "output_type": "stream",
     "text": [
      "Successfully fetched: https://bleacherreport.com/articles/2752580-nfl-playoff-schedule-2018-wild-card-tv-schedule-live-stream-and-picks\n"
     ]
    },
    {
     "name": "stderr",
     "output_type": "stream",
     "text": [
      "Scraping Progress:  13%|█▎        | 1132/8402 [37:00<3:04:00,  1.52s/it]"
     ]
    },
    {
     "name": "stdout",
     "output_type": "stream",
     "text": [
      "Successfully fetched: https://www.foxbusiness.com/economy/us-veterans-unemployment-rate\n"
     ]
    },
    {
     "name": "stderr",
     "output_type": "stream",
     "text": [
      "Scraping Progress:  13%|█▎        | 1133/8402 [37:02<3:39:29,  1.81s/it]"
     ]
    },
    {
     "name": "stdout",
     "output_type": "stream",
     "text": [
      "Successfully fetched: https://www.vox.com/policy-and-politics/2018/6/12/17450944/att-time-warner-decision-merger\n"
     ]
    },
    {
     "name": "stderr",
     "output_type": "stream",
     "text": [
      "Scraping Progress:  13%|█▎        | 1134/8402 [37:03<3:15:49,  1.62s/it]"
     ]
    },
    {
     "name": "stdout",
     "output_type": "stream",
     "text": [
      "Successfully fetched: https://ritholtz.com/2019/11/warren-taylorswift-pe/\n"
     ]
    },
    {
     "name": "stderr",
     "output_type": "stream",
     "text": [
      "Scraping Progress:  14%|█▎        | 1135/8402 [37:05<3:19:08,  1.64s/it]"
     ]
    },
    {
     "name": "stdout",
     "output_type": "stream",
     "text": [
      "Successfully fetched: https://www.hollywoodreporter.com/news/simpsons-boss-al-jean-penny-marshall-shows-first-guest-star-1170561\n"
     ]
    },
    {
     "name": "stderr",
     "output_type": "stream",
     "text": [
      "Scraping Progress:  14%|█▎        | 1136/8402 [37:07<3:49:45,  1.90s/it]"
     ]
    },
    {
     "name": "stdout",
     "output_type": "stream",
     "text": [
      "Successfully fetched: https://finance.yahoo.com/news/twitter-isnt-shadow-banning-republican-lawmakers-211340399.html\n"
     ]
    },
    {
     "name": "stderr",
     "output_type": "stream",
     "text": [
      "Scraping Progress:  14%|█▎        | 1137/8402 [37:09<3:47:44,  1.88s/it]"
     ]
    },
    {
     "name": "stdout",
     "output_type": "stream",
     "text": [
      "Successfully fetched: https://www.newyorker.com/humor/borowitz-report/giuliani-kidnapped-by-ukrainian-circus\n"
     ]
    },
    {
     "name": "stderr",
     "output_type": "stream",
     "text": [
      "Scraping Progress:  14%|█▎        | 1138/8402 [37:10<3:25:06,  1.69s/it]"
     ]
    },
    {
     "name": "stdout",
     "output_type": "stream",
     "text": [
      "Successfully fetched: https://www.aljazeera.com/news/2019/01/trump-move-sotu-democrats-pushback-190122200953490.html\n"
     ]
    },
    {
     "name": "stderr",
     "output_type": "stream",
     "text": [
      "Scraping Progress:  14%|█▎        | 1139/8402 [37:13<3:50:14,  1.90s/it]"
     ]
    },
    {
     "name": "stdout",
     "output_type": "stream",
     "text": [
      "Successfully fetched: https://www.aljazeera.com/news/2019/07/muslim-caucus-hold-conference-trump-attacks-190722231405411.html\n"
     ]
    },
    {
     "name": "stderr",
     "output_type": "stream",
     "text": [
      "Scraping Progress:  14%|█▎        | 1140/8402 [37:15<3:45:25,  1.86s/it]"
     ]
    },
    {
     "name": "stdout",
     "output_type": "stream",
     "text": [
      "Successfully fetched: https://www.project-syndicate.org/onpoint/the-victoria-delusion-by-edoardo-campanella-2019-07\n"
     ]
    },
    {
     "name": "stderr",
     "output_type": "stream",
     "text": [
      "Scraping Progress:  14%|█▎        | 1141/8402 [37:18<4:55:55,  2.45s/it]"
     ]
    },
    {
     "name": "stdout",
     "output_type": "stream",
     "text": [
      "Cannot fetch https://nerdist.com/mark-hamill-on-how-kelsey-grammer-and-classic-hollywood-inspired-his-trollhunters-character/, HTTP error: 404 Client Error: Not Found for url: https://nerdist.com/mark-hamill-on-how-kelsey-grammer-and-classic-hollywood-inspired-his-trollhunters-character/\n"
     ]
    },
    {
     "name": "stderr",
     "output_type": "stream",
     "text": [
      "Scraping Progress:  14%|█▎        | 1142/8402 [37:20<4:27:49,  2.21s/it]"
     ]
    },
    {
     "name": "stdout",
     "output_type": "stream",
     "text": [
      "Successfully fetched: http://www.slashfilm.com/gothic-romance-movies/\n"
     ]
    },
    {
     "name": "stderr",
     "output_type": "stream",
     "text": [
      "Scraping Progress:  14%|█▎        | 1143/8402 [37:21<3:54:38,  1.94s/it]"
     ]
    },
    {
     "name": "stdout",
     "output_type": "stream",
     "text": [
      "Cannot fetch https://www.reuters.com/article/us-usa-fed-repo-reaction-instant-view-idUSKBN1W31TW, HTTP error: 401 Client Error: HTTP Forbidden for url: https://www.reuters.com/article/us-usa-fed-repo-reaction-instant-view-idUSKBN1W31TW\n"
     ]
    },
    {
     "name": "stderr",
     "output_type": "stream",
     "text": [
      "Scraping Progress:  14%|█▎        | 1144/8402 [37:23<3:26:04,  1.70s/it]"
     ]
    },
    {
     "name": "stdout",
     "output_type": "stream",
     "text": [
      "Successfully fetched: http://www.espnfc.com/central-coast-mariners/story/3671531/usain-bolt-contract-uncertainty-hangs-over-start-of-a-league-season\n"
     ]
    },
    {
     "name": "stderr",
     "output_type": "stream",
     "text": [
      "Scraping Progress:  14%|█▎        | 1145/8402 [37:24<3:23:09,  1.68s/it]"
     ]
    },
    {
     "name": "stdout",
     "output_type": "stream",
     "text": [
      "Successfully fetched: https://www.cbr.com/hot-toys-punisher-war-machine-figure/\n"
     ]
    },
    {
     "name": "stderr",
     "output_type": "stream",
     "text": [
      "Scraping Progress:  14%|█▎        | 1146/8402 [37:25<3:09:37,  1.57s/it]"
     ]
    },
    {
     "name": "stdout",
     "output_type": "stream",
     "text": [
      "Successfully fetched: https://www.pcgamer.com/devolvers-e3-conference-was-bloody-and-weird-as-usual/\n"
     ]
    },
    {
     "name": "stderr",
     "output_type": "stream",
     "text": [
      "Scraping Progress:  14%|█▎        | 1147/8402 [37:27<2:59:13,  1.48s/it]"
     ]
    },
    {
     "name": "stdout",
     "output_type": "stream",
     "text": [
      "Successfully fetched: https://thinkprogress.org/trump-unemployment-black-america-e12eaa60f532/\n"
     ]
    },
    {
     "name": "stderr",
     "output_type": "stream",
     "text": [
      "Scraping Progress:  14%|█▎        | 1148/8402 [37:28<2:44:52,  1.36s/it]"
     ]
    },
    {
     "name": "stdout",
     "output_type": "stream",
     "text": [
      "Successfully fetched: https://www.cbc.ca/news/world/trump-voters-not-bothered-by-tweets-1.5214590\n"
     ]
    },
    {
     "name": "stderr",
     "output_type": "stream",
     "text": [
      "Scraping Progress:  14%|█▎        | 1149/8402 [37:29<2:51:04,  1.42s/it]"
     ]
    },
    {
     "name": "stdout",
     "output_type": "stream",
     "text": [
      "Successfully fetched: https://www.espn.com/blog/atlanta-falcons/post/_/id/34705/matt-ryans-ankle-injury-adds-to-implosion-for-hopeless-falcons\n"
     ]
    },
    {
     "name": "stderr",
     "output_type": "stream",
     "text": [
      "Scraping Progress:  14%|█▎        | 1150/8402 [37:31<2:50:08,  1.41s/it]"
     ]
    },
    {
     "name": "stdout",
     "output_type": "stream",
     "text": [
      "Successfully fetched: https://www.cbr.com/wonder-woman-hot-toys-gal-gadot-comic-costume/\n"
     ]
    },
    {
     "name": "stderr",
     "output_type": "stream",
     "text": [
      "Scraping Progress:  14%|█▎        | 1151/8402 [37:32<2:45:46,  1.37s/it]"
     ]
    },
    {
     "name": "stdout",
     "output_type": "stream",
     "text": [
      "Successfully fetched: https://www.comicbookmovie.com/spider-man/unboxing-sideshow-collectibles-awesome-the-amazing-spider-man-premium-format-figure-a158512\n"
     ]
    },
    {
     "name": "stderr",
     "output_type": "stream",
     "text": [
      "Scraping Progress:  14%|█▎        | 1152/8402 [37:34<2:50:09,  1.41s/it]"
     ]
    },
    {
     "name": "stdout",
     "output_type": "stream",
     "text": [
      "Successfully fetched: https://www.gq.com/story/angry-fan-re-edited-star-wars-the-last-jedi-to-make-it-less-feminist\n"
     ]
    },
    {
     "name": "stderr",
     "output_type": "stream",
     "text": [
      "Scraping Progress:  14%|█▎        | 1153/8402 [37:35<3:06:29,  1.54s/it]"
     ]
    },
    {
     "name": "stdout",
     "output_type": "stream",
     "text": [
      "Successfully fetched: https://www.bleedingcool.com/2019/08/27/deadpool-goes-camping-with-ghost-rider-in-new-q-master-statue/\n"
     ]
    },
    {
     "name": "stderr",
     "output_type": "stream",
     "text": [
      "Scraping Progress:  14%|█▎        | 1154/8402 [37:37<2:57:29,  1.47s/it]"
     ]
    },
    {
     "name": "stdout",
     "output_type": "stream",
     "text": [
      "Successfully fetched: https://lebronwire.usatoday.com/2019/02/08/wayne-ellington-closing-in-on-an-agreement-with-pistons/\n"
     ]
    },
    {
     "name": "stderr",
     "output_type": "stream",
     "text": [
      "Scraping Progress:  14%|█▎        | 1155/8402 [37:39<3:16:04,  1.62s/it]"
     ]
    },
    {
     "name": "stdout",
     "output_type": "stream",
     "text": [
      "Cannot fetch https://www.recode.net/2018/4/24/17275202/bitcoin-scam-cryptocurrency-mining-pump-dump-fraud-ico-value, error: Exceeded 30 redirects.\n"
     ]
    },
    {
     "name": "stderr",
     "output_type": "stream",
     "text": [
      "Scraping Progress:  14%|█▍        | 1156/8402 [37:45<5:48:16,  2.88s/it]"
     ]
    },
    {
     "name": "stdout",
     "output_type": "stream",
     "text": [
      "Cannot fetch http://www.brooklynvegan.com/riot-fest-2018-lineup-blink-182-beck-elvis-costello-jesus-lizard-liz-phair-digable-planets-much-more/, HTTP error: 403 Client Error: Forbidden for url: https://www.brooklynvegan.com/riot-fest-2018-lineup-blink-182-beck-elvis-costello-jesus-lizard-liz-phair-digable-planets-much-more/\n"
     ]
    },
    {
     "name": "stderr",
     "output_type": "stream",
     "text": [
      "Scraping Progress:  14%|█▍        | 1157/8402 [37:46<4:46:07,  2.37s/it]"
     ]
    },
    {
     "name": "stdout",
     "output_type": "stream",
     "text": [
      "Successfully fetched: https://www.carscoops.com/2019/07/police-arrest-seven-people-after-hoons-block-california-highway-to-do-burnouts/\n"
     ]
    },
    {
     "name": "stderr",
     "output_type": "stream",
     "text": [
      "Scraping Progress:  14%|█▍        | 1158/8402 [37:47<4:13:08,  2.10s/it]"
     ]
    },
    {
     "name": "stdout",
     "output_type": "stream",
     "text": [
      "Successfully fetched: https://www.cbr.com/mandalorian-baby-yoda-the-rock/\n"
     ]
    },
    {
     "name": "stderr",
     "output_type": "stream",
     "text": [
      "Scraping Progress:  14%|█▍        | 1159/8402 [37:48<3:45:12,  1.87s/it]"
     ]
    },
    {
     "name": "stdout",
     "output_type": "stream",
     "text": [
      "Successfully fetched: https://www.fark.com/comments/10008449/Man-parks-expensive-bicycle-inside-thrift-shop-while-going-shopping-What-could-go-wrong\n"
     ]
    },
    {
     "name": "stderr",
     "output_type": "stream",
     "text": [
      "Scraping Progress:  14%|█▍        | 1160/8402 [37:50<3:46:25,  1.88s/it]"
     ]
    },
    {
     "name": "stdout",
     "output_type": "stream",
     "text": [
      "Successfully fetched: https://www.indiewire.com/2019/03/luke-perry-simpsons-90210-community-spoofs-1202048724/\n"
     ]
    },
    {
     "name": "stderr",
     "output_type": "stream",
     "text": [
      "Scraping Progress:  14%|█▍        | 1161/8402 [37:53<4:05:26,  2.03s/it]"
     ]
    },
    {
     "name": "stdout",
     "output_type": "stream",
     "text": [
      "Successfully fetched: http://collider.com/john-wick-sideshow-toy-images/\n"
     ]
    },
    {
     "name": "stderr",
     "output_type": "stream",
     "text": [
      "Scraping Progress:  14%|█▍        | 1162/8402 [37:54<3:40:28,  1.83s/it]"
     ]
    },
    {
     "name": "stdout",
     "output_type": "stream",
     "text": [
      "Successfully fetched: https://www.bloomberg.com/news/articles/2018-06-15/brexit-bulletin-pull-yourselves-together\n"
     ]
    },
    {
     "name": "stderr",
     "output_type": "stream",
     "text": [
      "Scraping Progress:  14%|█▍        | 1163/8402 [37:55<3:20:08,  1.66s/it]"
     ]
    },
    {
     "name": "stdout",
     "output_type": "stream",
     "text": [
      "Successfully fetched: http://leganerd.com/2018/08/18/alice-in-wonderland-statue-by-sideshow-collectibles/\n"
     ]
    },
    {
     "name": "stderr",
     "output_type": "stream",
     "text": [
      "Scraping Progress:  14%|█▍        | 1164/8402 [37:57<3:19:35,  1.65s/it]"
     ]
    },
    {
     "name": "stdout",
     "output_type": "stream",
     "text": [
      "Successfully fetched: http://leganerd.com/2018/08/22/the-little-mermaid-statue-by-sideshow-collectibles/\n"
     ]
    },
    {
     "name": "stderr",
     "output_type": "stream",
     "text": [
      "Scraping Progress:  14%|█▍        | 1165/8402 [37:59<3:25:47,  1.71s/it]"
     ]
    },
    {
     "name": "stdout",
     "output_type": "stream",
     "text": [
      "Successfully fetched: https://nerdist.com/hot-toys-tchaka-black-panther-captain-america/\n"
     ]
    },
    {
     "name": "stderr",
     "output_type": "stream",
     "text": [
      "Scraping Progress:  14%|█▍        | 1166/8402 [38:01<3:29:21,  1.74s/it]"
     ]
    },
    {
     "name": "stdout",
     "output_type": "stream",
     "text": [
      "Successfully fetched: http://collider.com/sidseshow-collectibles-thor-breaker-of-brimstone/\n"
     ]
    },
    {
     "name": "stderr",
     "output_type": "stream",
     "text": [
      "Scraping Progress:  14%|█▍        | 1167/8402 [38:02<3:17:34,  1.64s/it]"
     ]
    },
    {
     "name": "stdout",
     "output_type": "stream",
     "text": [
      "Successfully fetched: https://www.atlasobscura.com/places/grave-of-americas-oldest-man\n"
     ]
    },
    {
     "name": "stderr",
     "output_type": "stream",
     "text": [
      "Scraping Progress:  14%|█▍        | 1168/8402 [38:03<3:03:31,  1.52s/it]"
     ]
    },
    {
     "name": "stdout",
     "output_type": "stream",
     "text": [
      "Cannot fetch https://www.realclearpolitics.com/2018/02/26/democratic_memo_shows_no_abuse_of_power_with_wiretap_435442.html, HTTP error: 403 Client Error: HTTP Forbidden for url: https://www.realclearpolitics.com/2018/02/26/democratic_memo_shows_no_abuse_of_power_with_wiretap_435442.html\n"
     ]
    },
    {
     "name": "stderr",
     "output_type": "stream",
     "text": [
      "Scraping Progress:  14%|█▍        | 1169/8402 [38:05<2:50:31,  1.41s/it]"
     ]
    },
    {
     "name": "stdout",
     "output_type": "stream",
     "text": [
      "Successfully fetched: http://variety.com/2018/film/reviews/dead-pigs-review-1202675664/\n"
     ]
    },
    {
     "name": "stderr",
     "output_type": "stream",
     "text": [
      "Scraping Progress:  14%|█▍        | 1171/8402 [38:08<3:25:39,  1.71s/it]"
     ]
    },
    {
     "name": "stdout",
     "output_type": "stream",
     "text": [
      "Successfully fetched: https://www.cbr.com/hi-res-aquaman-black-manta-mera-movie-statue-photos/\n"
     ]
    },
    {
     "name": "stderr",
     "output_type": "stream",
     "text": [
      "Scraping Progress:  14%|█▍        | 1172/8402 [38:10<3:11:31,  1.59s/it]"
     ]
    },
    {
     "name": "stdout",
     "output_type": "stream",
     "text": [
      "Successfully fetched: https://www.slashfilm.com/star-wars-bits-madcap-mashups-mini-series-mayhem-and-carbonite-craziness/\n"
     ]
    },
    {
     "name": "stderr",
     "output_type": "stream",
     "text": [
      "Scraping Progress:  14%|█▍        | 1173/8402 [38:11<2:57:33,  1.47s/it]"
     ]
    },
    {
     "name": "stdout",
     "output_type": "stream",
     "text": [
      "Successfully fetched: https://www.comicbookmovie.com/guardians_of_the_galaxy/unboxing-sideshow-collectibles-guardians-of-the-galaxy-angela-premium-format-figure-a159820\n"
     ]
    },
    {
     "name": "stderr",
     "output_type": "stream",
     "text": [
      "Scraping Progress:  14%|█▍        | 1174/8402 [38:12<2:55:29,  1.46s/it]"
     ]
    },
    {
     "name": "stdout",
     "output_type": "stream",
     "text": [
      "Successfully fetched: https://www.comicbookmovie.com/justice_league/alex-rosss-liberty-and-justice-trinity-print-unboxing-and-giveaway-a156895\n"
     ]
    },
    {
     "name": "stderr",
     "output_type": "stream",
     "text": [
      "Scraping Progress:  14%|█▍        | 1175/8402 [38:14<2:53:06,  1.44s/it]"
     ]
    },
    {
     "name": "stdout",
     "output_type": "stream",
     "text": [
      "Successfully fetched: http://www.cineblog.it/post/870499/alien-40-anni-speciale-figure-funko-pop-xenomorfo\n"
     ]
    },
    {
     "name": "stderr",
     "output_type": "stream",
     "text": [
      "Scraping Progress:  14%|█▍        | 1176/8402 [38:17<3:40:53,  1.83s/it]"
     ]
    },
    {
     "name": "stdout",
     "output_type": "stream",
     "text": [
      "Successfully fetched: http://variety.com/2018/film/reviews/the-great-mystical-circus-review-1202816671/\n"
     ]
    },
    {
     "name": "stderr",
     "output_type": "stream",
     "text": [
      "Scraping Progress:  14%|█▍        | 1177/8402 [38:19<3:46:26,  1.88s/it]"
     ]
    },
    {
     "name": "stdout",
     "output_type": "stream",
     "text": [
      "Cannot fetch https://disneyparks.disney.go.com/blog/2019/06/disneykids-frolic-and-refresh-at-magic-kingdom-splash-zone/, error: HTTPSConnectionPool(host='disneyparks.disney.go.com', port=443): Max retries exceeded with url: /blog/2019/06/disneykids-frolic-and-refresh-at-magic-kingdom-splash-zone/ (Caused by SSLError(SSLCertVerificationError(1, '[SSL: CERTIFICATE_VERIFY_FAILED] certificate verify failed: unable to get local issuer certificate (_ssl.c:1002)')))\n"
     ]
    },
    {
     "name": "stderr",
     "output_type": "stream",
     "text": [
      "Scraping Progress:  14%|█▍        | 1178/8402 [38:20<3:20:56,  1.67s/it]"
     ]
    },
    {
     "name": "stdout",
     "output_type": "stream",
     "text": [
      "Successfully fetched: https://www.comicbookmovie.com/sci-fi/star_wars/supreme-leader-kylo-ren-1-6-scale-sideshow-collectibles-figure-commands-you-to-give-in-to-the-dark-side-a171827\n"
     ]
    },
    {
     "name": "stderr",
     "output_type": "stream",
     "text": [
      "Scraping Progress:  14%|█▍        | 1179/8402 [38:21<3:12:28,  1.60s/it]"
     ]
    },
    {
     "name": "stdout",
     "output_type": "stream",
     "text": [
      "Cannot fetch https://markets.businessinsider.com/news/stocks/tesla-stock-price-daniel-ives-tesla-bull-downgrades-shares-2019-4-1028140012, HTTP error: 404 Client Error: Not Found for url: https://markets.businessinsider.com/news/stocks/tesla-stock-price-daniel-ives-tesla-bull-downgrades-shares-2019-4?miRedirects=3\n"
     ]
    },
    {
     "name": "stderr",
     "output_type": "stream",
     "text": [
      "Scraping Progress:  14%|█▍        | 1180/8402 [38:25<4:16:56,  2.13s/it]"
     ]
    },
    {
     "name": "stdout",
     "output_type": "stream",
     "text": [
      "Successfully fetched: https://www.cbssports.com/nba/news/jack-cooley-is-the-king-of-las-vegas-summer-league-and-a-star-hungry-to-prove-he-belongs-in-the-nba/\n"
     ]
    },
    {
     "name": "stderr",
     "output_type": "stream",
     "text": [
      "Scraping Progress:  14%|█▍        | 1181/8402 [38:27<4:20:33,  2.17s/it]"
     ]
    },
    {
     "name": "stdout",
     "output_type": "stream",
     "text": [
      "Successfully fetched: https://www.gamevicio.com/noticias/2019/10/figura-de-spider-man-baseada-no-jogo-do-ps4-custa-1100/\n"
     ]
    },
    {
     "name": "stderr",
     "output_type": "stream",
     "text": [
      "Scraping Progress:  14%|█▍        | 1182/8402 [38:32<6:00:25,  3.00s/it]"
     ]
    },
    {
     "name": "stdout",
     "output_type": "stream",
     "text": [
      "Successfully fetched: http://leganerd.com/2018/09/19/batman-vs-superman-diorama-by-sideshow-collectibles/\n"
     ]
    },
    {
     "name": "stderr",
     "output_type": "stream",
     "text": [
      "Scraping Progress:  14%|█▍        | 1183/8402 [38:34<5:18:24,  2.65s/it]"
     ]
    },
    {
     "name": "stdout",
     "output_type": "stream",
     "text": [
      "Successfully fetched: https://www.si.com/boxing/2019/01/18/manny-pacquiao-adrien-broner-predictions-fight-preview\n"
     ]
    },
    {
     "name": "stderr",
     "output_type": "stream",
     "text": [
      "Scraping Progress:  14%|█▍        | 1184/8402 [38:35<4:38:45,  2.32s/it]"
     ]
    },
    {
     "name": "stdout",
     "output_type": "stream",
     "text": [
      "Successfully fetched: https://www.si.com/soccer/2019/07/05/6-fascinating-subplots-keep-eye-during-sundays-womens-world-cup-final-lyon\n"
     ]
    },
    {
     "name": "stderr",
     "output_type": "stream",
     "text": [
      "Scraping Progress:  14%|█▍        | 1185/8402 [38:36<4:05:03,  2.04s/it]"
     ]
    },
    {
     "name": "stdout",
     "output_type": "stream",
     "text": [
      "Successfully fetched: https://www.si.com/soccer/2019/08/25/arsenal-promising-signs-anfield-dont-outweigh-same-old-glaring-deficiencies\n"
     ]
    },
    {
     "name": "stderr",
     "output_type": "stream",
     "text": [
      "Scraping Progress:  14%|█▍        | 1186/8402 [38:38<3:58:22,  1.98s/it]"
     ]
    },
    {
     "name": "stdout",
     "output_type": "stream",
     "text": [
      "Successfully fetched: https://offbeatbride.com/sideshow-music-fest-wedding/\n"
     ]
    },
    {
     "name": "stderr",
     "output_type": "stream",
     "text": [
      "Scraping Progress:  14%|█▍        | 1188/8402 [38:42<3:55:08,  1.96s/it]"
     ]
    },
    {
     "name": "stdout",
     "output_type": "stream",
     "text": [
      "Cannot fetch https://www.gaycities.com/outthere/40337/dj-drew-g-talks-monster-thruples-partying-new-orleans-halloween/, HTTP error: 403 Client Error: Forbidden for url: https://www.gaycities.com/outthere/40337/dj-drew-g-talks-monster-thruples-partying-new-orleans-halloween/\n"
     ]
    },
    {
     "name": "stderr",
     "output_type": "stream",
     "text": [
      "Scraping Progress:  14%|█▍        | 1189/8402 [38:44<3:29:24,  1.74s/it]"
     ]
    },
    {
     "name": "stdout",
     "output_type": "stream",
     "text": [
      "Cannot fetch https://www.sfgate.com/bayarea/article/antioch-sideshow-arrest-lone-tree-way-golf-course-13114997.php, HTTP error: 403 Client Error: Forbidden for url: https://www.sfgate.com/bayarea/article/antioch-sideshow-arrest-lone-tree-way-golf-course-13114997.php\n"
     ]
    },
    {
     "name": "stderr",
     "output_type": "stream",
     "text": [
      "Scraping Progress:  14%|█▍        | 1190/8402 [38:45<3:09:37,  1.58s/it]"
     ]
    },
    {
     "name": "stdout",
     "output_type": "stream",
     "text": [
      "Cannot fetch https://www.comicbookmovie.com/sideshow_collectibles/unboxing-guardians-of-the-galaxy-groot-premium-format-figure-from-sideshow-a160759, HTTP error: 404 Client Error: Not Found for url: https://comicbookmovie.com/sideshow_collectibles/unboxing-guardians-of-the-galaxy-groot-premium-format-figure-from-sideshow-a160759\n"
     ]
    },
    {
     "name": "stderr",
     "output_type": "stream",
     "text": [
      "Scraping Progress:  14%|█▍        | 1191/8402 [38:46<3:00:27,  1.50s/it]"
     ]
    },
    {
     "name": "stdout",
     "output_type": "stream",
     "text": [
      "Cannot fetch https://www.comicbookmovie.com/sideshow_collectibles/unboxing-sideshow-collectibles-guardians-of-the-galaxy-rocket-raccoon-premium-format-figure-a160516, HTTP error: 404 Client Error: Not Found for url: https://comicbookmovie.com/sideshow_collectibles/unboxing-sideshow-collectibles-guardians-of-the-galaxy-rocket-raccoon-premium-format-figure-a160516\n"
     ]
    },
    {
     "name": "stderr",
     "output_type": "stream",
     "text": [
      "Scraping Progress:  14%|█▍        | 1192/8402 [38:47<2:53:18,  1.44s/it]"
     ]
    },
    {
     "name": "stdout",
     "output_type": "stream",
     "text": [
      "Cannot fetch https://leiterreports.typepad.com/blog/2019/03/the-mueller-report.html, HTTP error: 403 Client Error: Forbidden for url: https://leiterreports.typepad.com/blog/2019/03/the-mueller-report.html\n"
     ]
    },
    {
     "name": "stderr",
     "output_type": "stream",
     "text": [
      "Scraping Progress:  14%|█▍        | 1193/8402 [38:49<2:45:34,  1.38s/it]"
     ]
    },
    {
     "name": "stdout",
     "output_type": "stream",
     "text": [
      "Successfully fetched: https://www.neowin.net/news/download-macx-video-converter-pro-normally-5995-for-free-until-april-12?utm_source=feedburner&utm_medium=feed&utm_campaign=Feed%3A+neowin-main+%28Neowin+News%29\n"
     ]
    },
    {
     "name": "stderr",
     "output_type": "stream",
     "text": [
      "Scraping Progress:  14%|█▍        | 1194/8402 [38:51<3:13:48,  1.61s/it]"
     ]
    },
    {
     "name": "stdout",
     "output_type": "stream",
     "text": [
      "Successfully fetched: https://ca.ign.com/articles/2019/09/26/efootball-pes-2020-review\n"
     ]
    },
    {
     "name": "stderr",
     "output_type": "stream",
     "text": [
      "Scraping Progress:  14%|█▍        | 1195/8402 [38:53<3:47:26,  1.89s/it]"
     ]
    },
    {
     "name": "stdout",
     "output_type": "stream",
     "text": [
      "Successfully fetched: http://collider.com/jason-momoa-aquaman-classic-costume-sideshow-collectibles/\n"
     ]
    },
    {
     "name": "stderr",
     "output_type": "stream",
     "text": [
      "Scraping Progress:  14%|█▍        | 1196/8402 [38:55<3:30:51,  1.76s/it]"
     ]
    },
    {
     "name": "stdout",
     "output_type": "stream",
     "text": [
      "Successfully fetched: http://collider.com/joker-iron-man-anakin-hot-toys-sideshow-comic-con-2019/\n"
     ]
    },
    {
     "name": "stderr",
     "output_type": "stream",
     "text": [
      "Scraping Progress:  14%|█▍        | 1197/8402 [38:56<3:17:01,  1.64s/it]"
     ]
    },
    {
     "name": "stdout",
     "output_type": "stream",
     "text": [
      "Successfully fetched: http://leganerd.com/2018/08/31/sideshow-stormtrooper-porcelain-pattern-version/\n"
     ]
    },
    {
     "name": "stderr",
     "output_type": "stream",
     "text": [
      "Scraping Progress:  14%|█▍        | 1198/8402 [38:58<3:18:39,  1.65s/it]"
     ]
    },
    {
     "name": "stdout",
     "output_type": "stream",
     "text": [
      "Successfully fetched: https://politiken.dk/kultur/art6571867/Til-Vegas-bryllup-og-okkult-gudstjeneste-p%C3%A5-Northside\n"
     ]
    },
    {
     "name": "stderr",
     "output_type": "stream",
     "text": [
      "Scraping Progress:  14%|█▍        | 1199/8402 [39:01<4:01:25,  2.01s/it]"
     ]
    },
    {
     "name": "stdout",
     "output_type": "stream",
     "text": [
      "Cannot fetch https://www.comicsbeat.com/dynamite-and-sideshow-limited-collectible-vampirella-coins/, connection timed out.\n"
     ]
    },
    {
     "name": "stderr",
     "output_type": "stream",
     "text": [
      "Scraping Progress:  14%|█▍        | 1200/8402 [39:12<9:31:51,  4.76s/it]"
     ]
    },
    {
     "name": "stdout",
     "output_type": "stream",
     "text": [
      "Successfully fetched: https://www.syfy.com/syfywire/sideshow-offers-up-three-creepy-clowns-with-new-pennywise-and-joker-statues\n"
     ]
    },
    {
     "name": "stderr",
     "output_type": "stream",
     "text": [
      "Scraping Progress:  14%|█▍        | 1201/8402 [39:14<7:49:29,  3.91s/it]"
     ]
    },
    {
     "name": "stdout",
     "output_type": "stream",
     "text": [
      "Cannot fetch https://www.reuters.com/article/us-britain-eu-labour/with-green-jobs-uks-labour-pursues-radical-plan-for-power-idUSKCN1M52Y0, HTTP error: 401 Client Error: HTTP Forbidden for url: https://www.reuters.com/article/us-britain-eu-labour/with-green-jobs-uks-labour-pursues-radical-plan-for-power-idUSKCN1M52Y0\n"
     ]
    },
    {
     "name": "stderr",
     "output_type": "stream",
     "text": [
      "Scraping Progress:  14%|█▍        | 1202/8402 [39:15<6:13:35,  3.11s/it]"
     ]
    },
    {
     "name": "stdout",
     "output_type": "stream",
     "text": [
      "Successfully fetched: https://www.engadget.com/2018/08/10/anonymous-deals-with-its-qanon-branding-problem/\n"
     ]
    },
    {
     "name": "stderr",
     "output_type": "stream",
     "text": [
      "Scraping Progress:  14%|█▍        | 1203/8402 [39:17<5:31:02,  2.76s/it]"
     ]
    },
    {
     "name": "stdout",
     "output_type": "stream",
     "text": [
      "Successfully fetched: https://crooksandliars.com/2018/01/house-chairmen-devin-nunez-refused-share\n"
     ]
    },
    {
     "name": "stderr",
     "output_type": "stream",
     "text": [
      "Scraping Progress:  14%|█▍        | 1204/8402 [39:18<4:43:46,  2.37s/it]"
     ]
    },
    {
     "name": "stdout",
     "output_type": "stream",
     "text": [
      "Successfully fetched: https://theweek.com/speedreads/847983/stephen-colbert-amused-trump-orlando-rally-sideshow-fox-news-polling-betrayal\n"
     ]
    },
    {
     "name": "stderr",
     "output_type": "stream",
     "text": [
      "Scraping Progress:  14%|█▍        | 1205/8402 [39:21<5:09:04,  2.58s/it]"
     ]
    },
    {
     "name": "stdout",
     "output_type": "stream",
     "text": [
      "Successfully fetched: https://pjmedia.com/instapundit/351271/\n"
     ]
    },
    {
     "name": "stderr",
     "output_type": "stream",
     "text": [
      "Scraping Progress:  14%|█▍        | 1206/8402 [39:23<4:28:06,  2.24s/it]"
     ]
    },
    {
     "name": "stdout",
     "output_type": "stream",
     "text": [
      "Successfully fetched: https://abc7news.com/crowd-roughs-up-security-guards-at-paul-walker-sideshow-in-socal/4245150/\n"
     ]
    },
    {
     "name": "stderr",
     "output_type": "stream",
     "text": [
      "Scraping Progress:  14%|█▍        | 1207/8402 [39:25<4:12:15,  2.10s/it]"
     ]
    },
    {
     "name": "stdout",
     "output_type": "stream",
     "text": [
      "Successfully fetched: http://www.fosspatents.com/2018/10/federal-trade-commission-makes.html\n"
     ]
    },
    {
     "name": "stderr",
     "output_type": "stream",
     "text": [
      "Scraping Progress:  14%|█▍        | 1208/8402 [39:27<4:01:46,  2.02s/it]"
     ]
    },
    {
     "name": "stdout",
     "output_type": "stream",
     "text": [
      "Successfully fetched: http://www.cineblog.it/post/800702/aliens-nuova-statua-mythos-alien-warrior-sideshow\n"
     ]
    },
    {
     "name": "stderr",
     "output_type": "stream",
     "text": [
      "Scraping Progress:  14%|█▍        | 1209/8402 [39:29<4:21:37,  2.18s/it]"
     ]
    },
    {
     "name": "stdout",
     "output_type": "stream",
     "text": [
      "Successfully fetched: https://blogs.timesofindia.indiatimes.com/toi-edit-page/let-the-rupee-depreciate-why-reserve-bank-did-the-right-thing-in-not-trying-to-prop-it-up-artificially/\n"
     ]
    },
    {
     "name": "stderr",
     "output_type": "stream",
     "text": [
      "Scraping Progress:  14%|█▍        | 1210/8402 [39:32<4:45:09,  2.38s/it]"
     ]
    },
    {
     "name": "stdout",
     "output_type": "stream",
     "text": [
      "Successfully fetched: http://profootballtalk.nbcsports.com/2018/03/13/as-free-agents-agree-to-terms-tim-tebow-gets-cut/\n"
     ]
    },
    {
     "name": "stderr",
     "output_type": "stream",
     "text": [
      "Scraping Progress:  14%|█▍        | 1211/8402 [39:34<4:32:39,  2.28s/it]"
     ]
    },
    {
     "name": "stdout",
     "output_type": "stream",
     "text": [
      "Successfully fetched: https://www.ozbargain.com.au/node/490083\n"
     ]
    },
    {
     "name": "stderr",
     "output_type": "stream",
     "text": [
      "Scraping Progress:  14%|█▍        | 1212/8402 [39:35<4:04:54,  2.04s/it]"
     ]
    },
    {
     "name": "stdout",
     "output_type": "stream",
     "text": [
      "Successfully fetched: https://www.theatlantic.com/technology/archive/2019/09/tiktok-celebrity-mix-challenge-ariana-grande-billie-eilish/598408/\n"
     ]
    },
    {
     "name": "stderr",
     "output_type": "stream",
     "text": [
      "Scraping Progress:  14%|█▍        | 1213/8402 [39:37<3:48:33,  1.91s/it]"
     ]
    },
    {
     "name": "stdout",
     "output_type": "stream",
     "text": [
      "Successfully fetched: http://www.cineblog.it/post/782816/iron-man-rubata-larmatura-del-film-originale\n"
     ]
    },
    {
     "name": "stderr",
     "output_type": "stream",
     "text": [
      "Scraping Progress:  14%|█▍        | 1214/8402 [39:39<3:41:30,  1.85s/it]"
     ]
    },
    {
     "name": "stdout",
     "output_type": "stream",
     "text": [
      "Successfully fetched: https://omelete.com.br/filmes/noticia/homem-aranha-de-volta-ao-lar-tom-holland-posa-com-colecionavel-da-hot-toys-do-filme/\n"
     ]
    },
    {
     "name": "stderr",
     "output_type": "stream",
     "text": [
      "Scraping Progress:  14%|█▍        | 1215/8402 [39:41<3:59:27,  2.00s/it]"
     ]
    },
    {
     "name": "stdout",
     "output_type": "stream",
     "text": [
      "Successfully fetched: https://3dnews.ru/992264\n"
     ]
    },
    {
     "name": "stderr",
     "output_type": "stream",
     "text": [
      "Scraping Progress:  14%|█▍        | 1216/8402 [39:45<4:57:07,  2.48s/it]"
     ]
    },
    {
     "name": "stdout",
     "output_type": "stream",
     "text": [
      "Successfully fetched: http://ritholtz.com/2018/09/jewtropolis/\n"
     ]
    },
    {
     "name": "stderr",
     "output_type": "stream",
     "text": [
      "Scraping Progress:  14%|█▍        | 1217/8402 [39:46<4:19:07,  2.16s/it]"
     ]
    },
    {
     "name": "stdout",
     "output_type": "stream",
     "text": [
      "Successfully fetched: https://www.si.com/more-sports/2018/12/10/matthew-whitaker-sports-public-service-government\n"
     ]
    },
    {
     "name": "stderr",
     "output_type": "stream",
     "text": [
      "Scraping Progress:  14%|█▍        | 1218/8402 [39:48<4:00:03,  2.00s/it]"
     ]
    },
    {
     "name": "stdout",
     "output_type": "stream",
     "text": [
      "Successfully fetched: https://people.com/movies/awkwafina-moms-death-changed-her-life/\n"
     ]
    },
    {
     "name": "stderr",
     "output_type": "stream",
     "text": [
      "Scraping Progress:  15%|█▍        | 1219/8402 [39:49<3:35:00,  1.80s/it]"
     ]
    },
    {
     "name": "stdout",
     "output_type": "stream",
     "text": [
      "Successfully fetched: https://www.thurrott.com/dev/212149/programming-windows-hello-javascript\n"
     ]
    },
    {
     "name": "stderr",
     "output_type": "stream",
     "text": [
      "Scraping Progress:  15%|█▍        | 1220/8402 [39:50<3:18:21,  1.66s/it]"
     ]
    },
    {
     "name": "stdout",
     "output_type": "stream",
     "text": [
      "Successfully fetched: https://www.eurogamer.es/articles/2018-06-22-killing-floor-2-se-puede-jugar-gratis-durante-este-fin-de-semana-en-consolas\n"
     ]
    },
    {
     "name": "stderr",
     "output_type": "stream",
     "text": [
      "Scraping Progress:  15%|█▍        | 1221/8402 [39:52<3:28:29,  1.74s/it]"
     ]
    },
    {
     "name": "stdout",
     "output_type": "stream",
     "text": [
      "Successfully fetched: http://www.shutterbean.com/2018/my-everyday-life-week-7-6/\n"
     ]
    },
    {
     "name": "stderr",
     "output_type": "stream",
     "text": [
      "Scraping Progress:  15%|█▍        | 1222/8402 [39:59<6:18:10,  3.16s/it]"
     ]
    },
    {
     "name": "stdout",
     "output_type": "stream",
     "text": [
      "Successfully fetched: http://www.cineblog.it/post/788567/joker-nuova-action-figure-lakor-baby-del-joker-di-heath-ledger\n"
     ]
    },
    {
     "name": "stderr",
     "output_type": "stream",
     "text": [
      "Scraping Progress:  15%|█▍        | 1223/8402 [40:01<5:49:35,  2.92s/it]"
     ]
    },
    {
     "name": "stdout",
     "output_type": "stream",
     "text": [
      "Successfully fetched: https://www.bleedingcool.com/2019/11/16/professor-snape-is-your-dark-arts-teacher-with-a-new-statue/\n"
     ]
    },
    {
     "name": "stderr",
     "output_type": "stream",
     "text": [
      "Scraping Progress:  15%|█▍        | 1224/8402 [40:03<4:51:39,  2.44s/it]"
     ]
    },
    {
     "name": "stdout",
     "output_type": "stream",
     "text": [
      "Successfully fetched: https://www.bleedingcool.com/2019/12/15/batman-war-on-crime-dc-collectibles-statue/\n"
     ]
    },
    {
     "name": "stderr",
     "output_type": "stream",
     "text": [
      "Scraping Progress:  15%|█▍        | 1225/8402 [40:04<4:09:36,  2.09s/it]"
     ]
    },
    {
     "name": "stdout",
     "output_type": "stream",
     "text": [
      "Cannot fetch https://www.reuters.com/article/us-cbs-moonves/analysts-stick-with-cbs-as-moonves-allegations-probed-idUSKBN1KR22T, HTTP error: 401 Client Error: HTTP Forbidden for url: https://www.reuters.com/article/us-cbs-moonves/analysts-stick-with-cbs-as-moonves-allegations-probed-idUSKBN1KR22T\n"
     ]
    },
    {
     "name": "stderr",
     "output_type": "stream",
     "text": [
      "Scraping Progress:  15%|█▍        | 1226/8402 [40:05<3:35:24,  1.80s/it]"
     ]
    },
    {
     "name": "stdout",
     "output_type": "stream",
     "text": [
      "Successfully fetched: https://indianexpress.com/article/sports/cricket/gautam-gambhir-rajat-sharma-stand-feroz-shah-kotla-6138319/\n"
     ]
    },
    {
     "name": "stderr",
     "output_type": "stream",
     "text": [
      "Scraping Progress:  15%|█▍        | 1227/8402 [40:07<3:59:20,  2.00s/it]"
     ]
    },
    {
     "name": "stdout",
     "output_type": "stream",
     "text": [
      "Successfully fetched: https://www.thetruthaboutcars.com/2019/06/ask-bark-did-i-throw-away-the-key-to-a-new-car/\n"
     ]
    },
    {
     "name": "stderr",
     "output_type": "stream",
     "text": [
      "Scraping Progress:  15%|█▍        | 1228/8402 [40:09<3:46:35,  1.90s/it]"
     ]
    },
    {
     "name": "stdout",
     "output_type": "stream",
     "text": [
      "Cannot fetch https://www.ccn.com/chinas-3-6-billion-wto-case-win-sideshow/, HTTP error: 403 Client Error: Forbidden for url: https://www.ccn.com/chinas-3-6-billion-wto-case-win-sideshow/\n"
     ]
    },
    {
     "name": "stderr",
     "output_type": "stream",
     "text": [
      "Scraping Progress:  15%|█▍        | 1230/8402 [40:12<3:39:59,  1.84s/it]"
     ]
    },
    {
     "name": "stdout",
     "output_type": "stream",
     "text": [
      "Successfully fetched: https://www.gizmodo.com.au/2018/07/get-a-load-of-this-ridiculous-story-about-how-elon-musk-called-a-tesla-critics-boss-to-complain-about-him/\n"
     ]
    },
    {
     "name": "stderr",
     "output_type": "stream",
     "text": [
      "Scraping Progress:  15%|█▍        | 1231/8402 [40:14<3:39:13,  1.83s/it]"
     ]
    },
    {
     "name": "stdout",
     "output_type": "stream",
     "text": [
      "Successfully fetched: https://filmschoolrejects.com/hbos-patria-series/\n"
     ]
    },
    {
     "name": "stderr",
     "output_type": "stream",
     "text": [
      "Scraping Progress:  15%|█▍        | 1232/8402 [40:16<3:31:33,  1.77s/it]"
     ]
    },
    {
     "name": "stdout",
     "output_type": "stream",
     "text": [
      "Successfully fetched: https://www.buzzfeednews.com/article/stevenperlberg/michael-avenatti-brett-kavanaugh-2020-president\n"
     ]
    },
    {
     "name": "stderr",
     "output_type": "stream",
     "text": [
      "Scraping Progress:  15%|█▍        | 1233/8402 [40:18<3:37:45,  1.82s/it]"
     ]
    },
    {
     "name": "stdout",
     "output_type": "stream",
     "text": [
      "Cannot fetch https://www.realclearpolitics.com/articles/2018/11/20/kissinger_and_i_were_once_at_odds_but_let_him_speak_138694.html, HTTP error: 403 Client Error: HTTP Forbidden for url: https://www.realclearpolitics.com/articles/2018/11/20/kissinger_and_i_were_once_at_odds_but_let_him_speak_138694.html\n"
     ]
    },
    {
     "name": "stderr",
     "output_type": "stream",
     "text": [
      "Scraping Progress:  15%|█▍        | 1234/8402 [40:19<3:14:45,  1.63s/it]"
     ]
    },
    {
     "name": "stdout",
     "output_type": "stream",
     "text": [
      "Successfully fetched: https://www.highsnobiety.com/p/kanye-west-trump-meeting-twitter-reactions/\n"
     ]
    },
    {
     "name": "stderr",
     "output_type": "stream",
     "text": [
      "Scraping Progress:  15%|█▍        | 1235/8402 [40:21<3:13:52,  1.62s/it]"
     ]
    },
    {
     "name": "stdout",
     "output_type": "stream",
     "text": [
      "Cannot fetch https://www.weeklystandard.com/tws-podcast/stormy-and-the-fixer, connection timed out.\n"
     ]
    },
    {
     "name": "stderr",
     "output_type": "stream",
     "text": [
      "Scraping Progress:  15%|█▍        | 1236/8402 [40:32<8:59:42,  4.52s/it]"
     ]
    },
    {
     "name": "stdout",
     "output_type": "stream",
     "text": [
      "Successfully fetched: https://thinkprogress.org/trump-house-subpoenas-invalid-because-should-be-passing-bipartisan-legislation-cb3dedd25329/\n"
     ]
    },
    {
     "name": "stderr",
     "output_type": "stream",
     "text": [
      "Scraping Progress:  15%|█▍        | 1237/8402 [40:33<7:03:42,  3.55s/it]"
     ]
    },
    {
     "name": "stdout",
     "output_type": "stream",
     "text": [
      "Successfully fetched: https://www.avclub.com/the-most-talked-about-political-mystery-of-1996-involvi-1823409980\n"
     ]
    },
    {
     "name": "stderr",
     "output_type": "stream",
     "text": [
      "Scraping Progress:  15%|█▍        | 1238/8402 [40:35<5:45:55,  2.90s/it]"
     ]
    },
    {
     "name": "stdout",
     "output_type": "stream",
     "text": [
      "Cannot fetch https://tv.avclub.com/mayans-maniac-murphy-brown-and-all-the-new-shows-to-w-1828681818, HTTP error: 404 Client Error: Not Found for url: https://tv.avclub.com/mayans-maniac-murphy-brown-and-all-the-new-shows-to-w-1828681818\n"
     ]
    },
    {
     "name": "stderr",
     "output_type": "stream",
     "text": [
      "Scraping Progress:  15%|█▍        | 1239/8402 [40:36<4:54:59,  2.47s/it]"
     ]
    },
    {
     "name": "stdout",
     "output_type": "stream",
     "text": [
      "Successfully fetched: https://mobile-ar.reality.news/news/google-brings-marvels-avengers-childish-gambino-ar-with-playground-for-pixel-0188243/\n"
     ]
    },
    {
     "name": "stderr",
     "output_type": "stream",
     "text": [
      "Scraping Progress:  15%|█▍        | 1240/8402 [40:39<4:56:17,  2.48s/it]"
     ]
    },
    {
     "name": "stdout",
     "output_type": "stream",
     "text": [
      "Successfully fetched: http://theconversation.com/what-the-effs-self-styled-militarism-says-about-south-africas-third-largest-party-116463\n"
     ]
    },
    {
     "name": "stderr",
     "output_type": "stream",
     "text": [
      "Scraping Progress:  15%|█▍        | 1241/8402 [40:40<4:21:39,  2.19s/it]"
     ]
    },
    {
     "name": "stdout",
     "output_type": "stream",
     "text": [
      "Cannot fetch https://www.balloon-juice.com/2019/02/09/late-night-russiafvckery-open-thread-the-sideshow-artistes/, HTTP error: 403 Client Error: Forbidden for url: https://balloon-juice.com/2019/02/09/late-night-russiafvckery-open-thread-the-sideshow-artistes/\n"
     ]
    },
    {
     "name": "stderr",
     "output_type": "stream",
     "text": [
      "Scraping Progress:  15%|█▍        | 1242/8402 [40:42<3:55:16,  1.97s/it]"
     ]
    },
    {
     "name": "stdout",
     "output_type": "stream",
     "text": [
      "Successfully fetched: https://www.si.com/soccer/2018/05/19/world-cup-countdown-5-weeks-go-france-claim-maiden-world-cup-home-soil-win-over-brazil\n"
     ]
    },
    {
     "name": "stderr",
     "output_type": "stream",
     "text": [
      "Scraping Progress:  15%|█▍        | 1243/8402 [40:43<3:36:23,  1.81s/it]"
     ]
    },
    {
     "name": "stdout",
     "output_type": "stream",
     "text": [
      "Successfully fetched: https://www.cnn.com/2018/09/21/opinions/trump-global-insignificance-unga-opinion-intl/index.html\n"
     ]
    },
    {
     "name": "stderr",
     "output_type": "stream",
     "text": [
      "Scraping Progress:  15%|█▍        | 1244/8402 [40:45<3:54:39,  1.97s/it]"
     ]
    },
    {
     "name": "stdout",
     "output_type": "stream",
     "text": [
      "Successfully fetched: https://www.cbr.com/avengers-endgame-hot-toys-tony-stark-iron-man-infinity-gauntlet/\n"
     ]
    },
    {
     "name": "stderr",
     "output_type": "stream",
     "text": [
      "Scraping Progress:  15%|█▍        | 1245/8402 [40:47<3:32:33,  1.78s/it]"
     ]
    },
    {
     "name": "stdout",
     "output_type": "stream",
     "text": [
      "Successfully fetched: http://www.disneyfoodblog.com/2019/12/15/photos-update-petes-silly-sideshow-reopens-at-disneys-magic-kingdom-after-sudden-closure/\n"
     ]
    },
    {
     "name": "stderr",
     "output_type": "stream",
     "text": [
      "Scraping Progress:  15%|█▍        | 1246/8402 [40:49<3:46:37,  1.90s/it]"
     ]
    },
    {
     "name": "stdout",
     "output_type": "stream",
     "text": [
      "Successfully fetched: http://www.metafilter.com/173082/David-Avocado-Wolfe-Is-The-Biggest-Asshole-In-The-Multiverse\n"
     ]
    },
    {
     "name": "stderr",
     "output_type": "stream",
     "text": [
      "Scraping Progress:  15%|█▍        | 1247/8402 [40:51<3:47:58,  1.91s/it]"
     ]
    },
    {
     "name": "stdout",
     "output_type": "stream",
     "text": [
      "Successfully fetched: https://www.vox.com/policy-and-politics/2019/9/9/20856907/impeachment-inquiry-judiciary-committee-vote\n"
     ]
    },
    {
     "name": "stderr",
     "output_type": "stream",
     "text": [
      "Scraping Progress:  15%|█▍        | 1248/8402 [40:52<3:28:32,  1.75s/it]"
     ]
    },
    {
     "name": "stdout",
     "output_type": "stream",
     "text": [
      "Successfully fetched: https://www.thefader.com/2019/01/21/foals-new-song-exits-announce-tour\n"
     ]
    },
    {
     "name": "stderr",
     "output_type": "stream",
     "text": [
      "Scraping Progress:  15%|█▍        | 1249/8402 [40:53<3:11:05,  1.60s/it]"
     ]
    },
    {
     "name": "stdout",
     "output_type": "stream",
     "text": [
      "Successfully fetched: https://www.cbr.com/dc-fan-gift-guide/\n"
     ]
    },
    {
     "name": "stderr",
     "output_type": "stream",
     "text": [
      "Scraping Progress:  15%|█▍        | 1250/8402 [40:55<3:02:10,  1.53s/it]"
     ]
    },
    {
     "name": "stdout",
     "output_type": "stream",
     "text": [
      "Successfully fetched: http://leganerd.com/2018/08/03/boba-fett-sixth-scale-figure-by-sideshow-collectibles-mythos/\n"
     ]
    },
    {
     "name": "stderr",
     "output_type": "stream",
     "text": [
      "Scraping Progress:  15%|█▍        | 1251/8402 [40:57<3:16:04,  1.65s/it]"
     ]
    },
    {
     "name": "stdout",
     "output_type": "stream",
     "text": [
      "Successfully fetched: https://aquariumdrunkard.com/2019/06/04/oh-how-she-dances-an-evening-with-tav-falco-panther-burns/\n"
     ]
    },
    {
     "name": "stderr",
     "output_type": "stream",
     "text": [
      "Scraping Progress:  15%|█▍        | 1252/8402 [40:58<3:17:28,  1.66s/it]"
     ]
    },
    {
     "name": "stdout",
     "output_type": "stream",
     "text": [
      "Cannot fetch https://www.geek.com/culture/bringing-art-to-fandom-merch-interview-with-mondo-collectibles-1799724/, HTTP error: 404 Client Error: Not Found for url: https://www.geek.com/culture/bringing-art-to-fandom-merch-interview-with-mondo-collectibles-1799724/\n"
     ]
    },
    {
     "name": "stderr",
     "output_type": "stream",
     "text": [
      "Scraping Progress:  15%|█▍        | 1253/8402 [41:00<3:07:26,  1.57s/it]"
     ]
    },
    {
     "name": "stdout",
     "output_type": "stream",
     "text": [
      "Successfully fetched: https://www.memeorandum.com/191114/p66\n"
     ]
    },
    {
     "name": "stderr",
     "output_type": "stream",
     "text": [
      "Scraping Progress:  15%|█▍        | 1254/8402 [41:02<3:20:11,  1.68s/it]"
     ]
    },
    {
     "name": "stdout",
     "output_type": "stream",
     "text": [
      "Cannot fetch https://www.geek.com/culture/toy-tuesday-the-best-dc-universe-toys-1807208/, HTTP error: 404 Client Error: Not Found for url: https://www.geek.com/culture/toy-tuesday-the-best-dc-universe-toys-1807208/\n"
     ]
    },
    {
     "name": "stderr",
     "output_type": "stream",
     "text": [
      "Scraping Progress:  15%|█▍        | 1255/8402 [41:03<3:01:26,  1.52s/it]"
     ]
    },
    {
     "name": "stdout",
     "output_type": "stream",
     "text": [
      "Successfully fetched: http://leganerd.com/2018/10/15/spider-man-legendary-scale-figure-by-sideshow-collectibles/\n"
     ]
    },
    {
     "name": "stderr",
     "output_type": "stream",
     "text": [
      "Scraping Progress:  15%|█▍        | 1256/8402 [41:05<3:12:19,  1.61s/it]"
     ]
    },
    {
     "name": "stdout",
     "output_type": "stream",
     "text": [
      "Cannot fetch https://www.reuters.com/article/us-usa-trump-russia-stone-idUSKBN1XE1ZM, HTTP error: 401 Client Error: HTTP Forbidden for url: https://www.reuters.com/article/us-usa-trump-russia-stone-idUSKBN1XE1ZM\n"
     ]
    },
    {
     "name": "stderr",
     "output_type": "stream",
     "text": [
      "Scraping Progress:  15%|█▍        | 1257/8402 [41:06<2:54:56,  1.47s/it]"
     ]
    },
    {
     "name": "stdout",
     "output_type": "stream",
     "text": [
      "Successfully fetched: https://tvline.com/2019/01/18/agt-champions-watch-episode-3-paul-potts-video/\n"
     ]
    },
    {
     "name": "stderr",
     "output_type": "stream",
     "text": [
      "Scraping Progress:  15%|█▍        | 1258/8402 [41:08<3:15:42,  1.64s/it]"
     ]
    },
    {
     "name": "stdout",
     "output_type": "stream",
     "text": [
      "Successfully fetched: https://tvline.com/2019/08/19/americas-got-talent-live-shows-season-14-quarterfinals-susan-boyle/\n"
     ]
    },
    {
     "name": "stderr",
     "output_type": "stream",
     "text": [
      "Scraping Progress:  15%|█▍        | 1259/8402 [41:10<3:40:21,  1.85s/it]"
     ]
    },
    {
     "name": "stdout",
     "output_type": "stream",
     "text": [
      "Successfully fetched: https://www.vox.com/future-perfect/2019/4/4/18295933/google-cancels-ai-ethics-board\n"
     ]
    },
    {
     "name": "stderr",
     "output_type": "stream",
     "text": [
      "Scraping Progress:  15%|█▍        | 1260/8402 [41:11<3:15:47,  1.64s/it]"
     ]
    },
    {
     "name": "stdout",
     "output_type": "stream",
     "text": [
      "Successfully fetched: http://www.foxnews.com/world/2018/09/11/diplomats-from-iran-russia-turkey-meet-un-envoy-on-syria.html\n"
     ]
    },
    {
     "name": "stderr",
     "output_type": "stream",
     "text": [
      "Scraping Progress:  15%|█▌        | 1261/8402 [41:13<3:23:26,  1.71s/it]"
     ]
    },
    {
     "name": "stdout",
     "output_type": "stream",
     "text": [
      "Successfully fetched: https://www.slashfilm.com/star-wars-bits-ron-howards-gets-real-about-trolls-some-seriously-great-collectibles-and-some-solo-number-crunching/\n"
     ]
    },
    {
     "name": "stderr",
     "output_type": "stream",
     "text": [
      "Scraping Progress:  15%|█▌        | 1262/8402 [41:14<3:06:09,  1.56s/it]"
     ]
    },
    {
     "name": "stdout",
     "output_type": "stream",
     "text": [
      "Successfully fetched: https://newrepublic.com/article/152263/ballad-buster-scruggs-coen-brothers-odd-paean-western\n"
     ]
    },
    {
     "name": "stderr",
     "output_type": "stream",
     "text": [
      "Scraping Progress:  15%|█▌        | 1263/8402 [41:16<3:04:11,  1.55s/it]"
     ]
    },
    {
     "name": "stdout",
     "output_type": "stream",
     "text": [
      "Successfully fetched: https://pitchfork.com/reviews/albums/e-40-b-legit-connected-and-respected/\n"
     ]
    },
    {
     "name": "stderr",
     "output_type": "stream",
     "text": [
      "Scraping Progress:  15%|█▌        | 1264/8402 [41:18<3:34:39,  1.80s/it]"
     ]
    },
    {
     "name": "stdout",
     "output_type": "stream",
     "text": [
      "Successfully fetched: https://www.redstate.com/jimjamitis/2018/01/10/political-sideshow-state-union-time-means-circus-town/\n"
     ]
    },
    {
     "name": "stderr",
     "output_type": "stream",
     "text": [
      "Scraping Progress:  15%|█▌        | 1265/8402 [41:20<3:20:19,  1.68s/it]"
     ]
    },
    {
     "name": "stdout",
     "output_type": "stream",
     "text": [
      "Successfully fetched: https://www.cbr.com/gifts-fans-batman-villains/\n"
     ]
    },
    {
     "name": "stderr",
     "output_type": "stream",
     "text": [
      "Scraping Progress:  15%|█▌        | 1266/8402 [41:21<3:07:33,  1.58s/it]"
     ]
    },
    {
     "name": "stdout",
     "output_type": "stream",
     "text": [
      "Cannot fetch https://www.politico.com/magazine/story/2019/07/24/democrats-dont-lock-trump-up-prosecute-president-after-office-democracy-mueller-227418, HTTP error: 403 Client Error: Forbidden for url: https://www.politico.com/magazine/story/2019/07/24/democrats-dont-lock-trump-up-prosecute-president-after-office-democracy-mueller-227418\n"
     ]
    },
    {
     "name": "stderr",
     "output_type": "stream",
     "text": [
      "Scraping Progress:  15%|█▌        | 1267/8402 [41:22<2:51:29,  1.44s/it]"
     ]
    },
    {
     "name": "stdout",
     "output_type": "stream",
     "text": [
      "Cannot fetch https://www.seattletimes.com/nation-world/nation-politics/manaforts-case-saddled-by-side-issues-disputes-with-judge/, connection timed out.\n"
     ]
    },
    {
     "name": "stderr",
     "output_type": "stream",
     "text": [
      "Scraping Progress:  15%|█▌        | 1268/8402 [41:33<8:37:59,  4.36s/it]"
     ]
    },
    {
     "name": "stdout",
     "output_type": "stream",
     "text": [
      "Successfully fetched: https://www.cbr.com/mbti-myers-briggs-personality-simpsons/\n"
     ]
    },
    {
     "name": "stderr",
     "output_type": "stream",
     "text": [
      "Scraping Progress:  15%|█▌        | 1269/8402 [41:35<6:50:17,  3.45s/it]"
     ]
    },
    {
     "name": "stdout",
     "output_type": "stream",
     "text": [
      "Successfully fetched: https://www.rawstory.com/2019/11/searing-internal-memo-from-syria-expert-hammers-white-house-for-catastrophic-sideshow-in-the-middle-east/\n"
     ]
    },
    {
     "name": "stderr",
     "output_type": "stream",
     "text": [
      "Scraping Progress:  15%|█▌        | 1270/8402 [41:36<5:32:26,  2.80s/it]"
     ]
    },
    {
     "name": "stdout",
     "output_type": "stream",
     "text": [
      "Cannot fetch https://www.politico.com/story/2019/04/30/nancy-pelosi-impeachment-2020-1295265, HTTP error: 403 Client Error: Forbidden for url: https://www.politico.com/story/2019/04/30/nancy-pelosi-impeachment-2020-1295265\n"
     ]
    },
    {
     "name": "stderr",
     "output_type": "stream",
     "text": [
      "Scraping Progress:  15%|█▌        | 1271/8402 [41:37<4:32:25,  2.29s/it]"
     ]
    },
    {
     "name": "stdout",
     "output_type": "stream",
     "text": [
      "Cannot fetch https://www.politico.com/blogs/under-the-radar/2019/07/10/judge-blocks-evidence-greg-craig-paul-manafort-daughter-1405825, HTTP error: 403 Client Error: Forbidden for url: https://www.politico.com/blogs/under-the-radar/2019/07/10/judge-blocks-evidence-greg-craig-paul-manafort-daughter-1405825\n"
     ]
    },
    {
     "name": "stderr",
     "output_type": "stream",
     "text": [
      "Scraping Progress:  15%|█▌        | 1272/8402 [41:38<3:50:55,  1.94s/it]"
     ]
    },
    {
     "name": "stdout",
     "output_type": "stream",
     "text": [
      "Successfully fetched: https://www.cbr.com/spider-man-negative-hot-toys/\n"
     ]
    },
    {
     "name": "stderr",
     "output_type": "stream",
     "text": [
      "Scraping Progress:  15%|█▌        | 1273/8402 [41:39<3:26:40,  1.74s/it]"
     ]
    },
    {
     "name": "stdout",
     "output_type": "stream",
     "text": [
      "Cannot fetch https://www.houstonchronicle.com/sports/columnists/mcclain/article/Supreme-pass-rushers-on-both-sides-spice-up-13356275.php, HTTP error: 403 Client Error: Forbidden for url: https://www.houstonchronicle.com/sports/columnists/mcclain/article/Supreme-pass-rushers-on-both-sides-spice-up-13356275.php\n"
     ]
    },
    {
     "name": "stderr",
     "output_type": "stream",
     "text": [
      "Scraping Progress:  15%|█▌        | 1274/8402 [41:41<3:09:29,  1.60s/it]"
     ]
    },
    {
     "name": "stdout",
     "output_type": "stream",
     "text": [
      "Cannot fetch https://www.sfgate.com/bayarea/article/Police-arrest-three-and-ticket-42-in-attempted-13114997.php, HTTP error: 403 Client Error: Forbidden for url: https://www.sfgate.com/bayarea/article/Police-arrest-three-and-ticket-42-in-attempted-13114997.php\n"
     ]
    },
    {
     "name": "stderr",
     "output_type": "stream",
     "text": [
      "Scraping Progress:  15%|█▌        | 1275/8402 [41:42<2:52:36,  1.45s/it]"
     ]
    },
    {
     "name": "stdout",
     "output_type": "stream",
     "text": [
      "Cannot fetch https://www.politico.com/story/2018/10/31/ryan-zinke-interior-department-possible-successor-bernhardt-952984, HTTP error: 403 Client Error: Forbidden for url: https://www.politico.com/story/2018/10/31/ryan-zinke-interior-department-possible-successor-bernhardt-952984\n"
     ]
    },
    {
     "name": "stderr",
     "output_type": "stream",
     "text": [
      "Scraping Progress:  15%|█▌        | 1277/8402 [41:44<2:39:22,  1.34s/it]"
     ]
    },
    {
     "name": "stdout",
     "output_type": "stream",
     "text": [
      "Successfully fetched: https://www.bleedingcool.com/2018/08/28/wwe-hall-of-famer-ultimate-warrior-statue-2019/\n"
     ]
    },
    {
     "name": "stderr",
     "output_type": "stream",
     "text": [
      "Scraping Progress:  15%|█▌        | 1278/8402 [41:46<2:36:25,  1.32s/it]"
     ]
    },
    {
     "name": "stdout",
     "output_type": "stream",
     "text": [
      "Successfully fetched: https://www.dissentmagazine.org/article/david-simon-the-deuce-review-sex-work-porn-economy\n"
     ]
    },
    {
     "name": "stderr",
     "output_type": "stream",
     "text": [
      "Scraping Progress:  15%|█▌        | 1279/8402 [41:48<3:14:19,  1.64s/it]"
     ]
    },
    {
     "name": "stdout",
     "output_type": "stream",
     "text": [
      "Successfully fetched: https://www.firstshowing.net/2019/review-tim-burtons-live-action-dumbo-movie-lives-up-to-its-name/\n"
     ]
    },
    {
     "name": "stderr",
     "output_type": "stream",
     "text": [
      "Scraping Progress:  15%|█▌        | 1280/8402 [41:50<3:14:14,  1.64s/it]"
     ]
    },
    {
     "name": "stdout",
     "output_type": "stream",
     "text": [
      "Successfully fetched: http://mentalfloss.com/article/62444/15-things-you-probably-didnt-know-about-animal-house\n"
     ]
    },
    {
     "name": "stderr",
     "output_type": "stream",
     "text": [
      "Scraping Progress:  15%|█▌        | 1281/8402 [41:51<3:21:48,  1.70s/it]"
     ]
    },
    {
     "name": "stdout",
     "output_type": "stream",
     "text": [
      "Successfully fetched: https://variety.com/2019/tv/news/veep-final-season-7-review-hbo-julia-louis-dreyfus-1203175046/\n"
     ]
    },
    {
     "name": "stderr",
     "output_type": "stream",
     "text": [
      "Scraping Progress:  15%|█▌        | 1282/8402 [41:53<3:03:48,  1.55s/it]"
     ]
    },
    {
     "name": "stdout",
     "output_type": "stream",
     "text": [
      "Successfully fetched: https://geektyrant.com/news/life-size-wall-sculpture-of-the-alien-queen-from-ripleys-iconic-battle-in-aliens\n"
     ]
    },
    {
     "name": "stderr",
     "output_type": "stream",
     "text": [
      "Scraping Progress:  15%|█▌        | 1283/8402 [41:55<3:35:25,  1.82s/it]"
     ]
    },
    {
     "name": "stdout",
     "output_type": "stream",
     "text": [
      "Successfully fetched: https://www.theblaze.com/news/2018/09/24/amnesty-international-inexplicably-jumps-into-the-kavanaugh-debate-and-gets-brutal-backlash\n"
     ]
    },
    {
     "name": "stderr",
     "output_type": "stream",
     "text": [
      "Scraping Progress:  15%|█▌        | 1284/8402 [41:56<3:16:20,  1.66s/it]"
     ]
    },
    {
     "name": "stdout",
     "output_type": "stream",
     "text": [
      "Successfully fetched: https://bleacherreport.com/articles/2851059-mxgp-2019-review-gameplay-videos-features-and-impressions\n"
     ]
    },
    {
     "name": "stderr",
     "output_type": "stream",
     "text": [
      "Scraping Progress:  15%|█▌        | 1285/8402 [41:58<3:09:23,  1.60s/it]"
     ]
    },
    {
     "name": "stdout",
     "output_type": "stream",
     "text": [
      "Successfully fetched: https://www.nakedcapitalism.com/2019/10/making-profit-should-not-now-be-the-primary-goal-of-a-business-being-net-zero-carbon-should-be.html\n"
     ]
    },
    {
     "name": "stderr",
     "output_type": "stream",
     "text": [
      "Scraping Progress:  15%|█▌        | 1286/8402 [42:00<3:41:35,  1.87s/it]"
     ]
    },
    {
     "name": "stdout",
     "output_type": "stream",
     "text": [
      "Successfully fetched: http://bloody-disgusting.com/toys/3494067/sideshows-gotham-city-nightmare-joker-statue-incredibly-cool/\n"
     ]
    },
    {
     "name": "stderr",
     "output_type": "stream",
     "text": [
      "Scraping Progress:  15%|█▌        | 1287/8402 [42:02<3:47:47,  1.92s/it]"
     ]
    },
    {
     "name": "stdout",
     "output_type": "stream",
     "text": [
      "Cannot fetch https://www.politico.com/story/2018/10/16/warren-dna-native-american-905705, HTTP error: 403 Client Error: Forbidden for url: https://www.politico.com/story/2018/10/16/warren-dna-native-american-905705\n"
     ]
    },
    {
     "name": "stderr",
     "output_type": "stream",
     "text": [
      "Scraping Progress:  15%|█▌        | 1288/8402 [42:03<3:19:25,  1.68s/it]"
     ]
    },
    {
     "name": "stdout",
     "output_type": "stream",
     "text": [
      "Successfully fetched: http://www.cineblog.it/post/802181/animali-fantastici-2-nuova-action-figure-hot-toys-newt-scamander-eddie-redmayne\n"
     ]
    },
    {
     "name": "stderr",
     "output_type": "stream",
     "text": [
      "Scraping Progress:  15%|█▌        | 1289/8402 [42:06<3:40:55,  1.86s/it]"
     ]
    },
    {
     "name": "stdout",
     "output_type": "stream",
     "text": [
      "Successfully fetched: https://bleacherreport.com/articles/2826041-nbas-reality-show-swallowing-kyrie-irving-and-the-games-biggest-stars-whole\n"
     ]
    },
    {
     "name": "stderr",
     "output_type": "stream",
     "text": [
      "Scraping Progress:  15%|█▌        | 1290/8402 [42:07<3:23:31,  1.72s/it]"
     ]
    },
    {
     "name": "stdout",
     "output_type": "stream",
     "text": [
      "Cannot fetch https://www.reuters.com/article/us-bayer-glyphosate-lawsuit-idUSKCN1PM2H3, HTTP error: 401 Client Error: HTTP Forbidden for url: https://www.reuters.com/article/us-bayer-glyphosate-lawsuit-idUSKCN1PM2H3\n"
     ]
    },
    {
     "name": "stderr",
     "output_type": "stream",
     "text": [
      "Scraping Progress:  15%|█▌        | 1291/8402 [42:08<3:03:47,  1.55s/it]"
     ]
    },
    {
     "name": "stdout",
     "output_type": "stream",
     "text": [
      "Successfully fetched: https://finance.yahoo.com/news/google-ceo-sundar-pichai-calls-privacy-legislation-215612164.html\n"
     ]
    },
    {
     "name": "stderr",
     "output_type": "stream",
     "text": [
      "Scraping Progress:  15%|█▌        | 1292/8402 [42:11<3:37:23,  1.83s/it]"
     ]
    },
    {
     "name": "stdout",
     "output_type": "stream",
     "text": [
      "Successfully fetched: https://www.challies.com/a-la-carte/a-la-carte-november-16-4/\n"
     ]
    },
    {
     "name": "stderr",
     "output_type": "stream",
     "text": [
      "Scraping Progress:  15%|█▌        | 1293/8402 [42:12<3:19:19,  1.68s/it]"
     ]
    },
    {
     "name": "stdout",
     "output_type": "stream",
     "text": [
      "Cannot fetch https://www.politico.com/story/2018/10/08/democrats-debates-2020-elections-853029, HTTP error: 403 Client Error: Forbidden for url: https://www.politico.com/story/2018/10/08/democrats-debates-2020-elections-853029\n"
     ]
    },
    {
     "name": "stderr",
     "output_type": "stream",
     "text": [
      "Scraping Progress:  15%|█▌        | 1294/8402 [42:13<2:59:32,  1.52s/it]"
     ]
    },
    {
     "name": "stdout",
     "output_type": "stream",
     "text": [
      "Successfully fetched: https://www.cbr.com/archie-comics-weirdest-changes/\n"
     ]
    },
    {
     "name": "stderr",
     "output_type": "stream",
     "text": [
      "Scraping Progress:  15%|█▌        | 1295/8402 [42:15<2:52:54,  1.46s/it]"
     ]
    },
    {
     "name": "stdout",
     "output_type": "stream",
     "text": [
      "Cannot fetch https://www.morningstar.com/news/dow-jones/2019072413134/tech-up-as-texas-instruments-earnings-offset-regulatory-fears-tech-roundup, HTTP error: 404 Client Error: Not Found for url: https://www.morningstar.com/news/dow-jones/2019072413134/tech-up-as-texas-instruments-earnings-offset-regulatory-fears-tech-roundup\n"
     ]
    },
    {
     "name": "stderr",
     "output_type": "stream",
     "text": [
      "Scraping Progress:  15%|█▌        | 1296/8402 [42:16<2:54:28,  1.47s/it]"
     ]
    },
    {
     "name": "stdout",
     "output_type": "stream",
     "text": [
      "Successfully fetched: https://www.thedailybeast.com/donald-trump-strikes-a-blow-against-stormy-daniels-but-not-where-it-counts\n"
     ]
    },
    {
     "name": "stderr",
     "output_type": "stream",
     "text": [
      "Scraping Progress:  15%|█▌        | 1297/8402 [42:18<3:23:50,  1.72s/it]"
     ]
    },
    {
     "name": "stdout",
     "output_type": "stream",
     "text": [
      "Successfully fetched: https://crooksandliars.com/2019/06/trump-mocks-american-people-his-hidden\n"
     ]
    },
    {
     "name": "stderr",
     "output_type": "stream",
     "text": [
      "Scraping Progress:  15%|█▌        | 1298/8402 [42:20<3:15:33,  1.65s/it]"
     ]
    },
    {
     "name": "stdout",
     "output_type": "stream",
     "text": [
      "Successfully fetched: https://www.tomshw.it/culturapop/alita-battle-angel-ecco-il-merchandise-ufficiale-ispirato-al-film/\n"
     ]
    },
    {
     "name": "stderr",
     "output_type": "stream",
     "text": [
      "Scraping Progress:  15%|█▌        | 1299/8402 [42:22<3:26:37,  1.75s/it]"
     ]
    },
    {
     "name": "stdout",
     "output_type": "stream",
     "text": [
      "Successfully fetched: https://www.gq.com/story/dennis-rodman-style-icon\n"
     ]
    },
    {
     "name": "stderr",
     "output_type": "stream",
     "text": [
      "Scraping Progress:  15%|█▌        | 1300/8402 [42:24<3:26:22,  1.74s/it]"
     ]
    },
    {
     "name": "stdout",
     "output_type": "stream",
     "text": [
      "Cannot fetch https://news.marvel.com/gear-toys/84913/hasbro-reveals-tons-upcoming-marvel-toys-new-york-toy-fair/?utm_campaign=rss_feeds&utm_source=headline_news&utm_medium=rss&utm_content=story-84913&, HTTP error: 503 Server Error: Service Unavailable for url: https://news.marvel.com/gear-toys/84913/hasbro-reveals-tons-upcoming-marvel-toys-new-york-toy-fair/?utm_campaign=rss_feeds&utm_source=headline_news&utm_medium=rss&utm_content=story-84913&\n"
     ]
    },
    {
     "name": "stderr",
     "output_type": "stream",
     "text": [
      "Scraping Progress:  15%|█▌        | 1301/8402 [42:25<3:17:23,  1.67s/it]"
     ]
    },
    {
     "name": "stdout",
     "output_type": "stream",
     "text": [
      "Successfully fetched: https://finance.yahoo.com/news/qualcomm-won-31-million-patent-173323403.html\n"
     ]
    },
    {
     "name": "stderr",
     "output_type": "stream",
     "text": [
      "Scraping Progress:  15%|█▌        | 1302/8402 [42:27<3:26:38,  1.75s/it]"
     ]
    },
    {
     "name": "stdout",
     "output_type": "stream",
     "text": [
      "Successfully fetched: https://qz.com/1186009/dave-pells-next-draft-january-22nd-2018/\n"
     ]
    },
    {
     "name": "stderr",
     "output_type": "stream",
     "text": [
      "Scraping Progress:  16%|█▌        | 1303/8402 [42:29<3:19:54,  1.69s/it]"
     ]
    },
    {
     "name": "stdout",
     "output_type": "stream",
     "text": [
      "Successfully fetched: https://www.oncewed.com/featured/we-love-our-vendors-100718/\n"
     ]
    },
    {
     "name": "stderr",
     "output_type": "stream",
     "text": [
      "Scraping Progress:  16%|█▌        | 1304/8402 [42:30<3:24:15,  1.73s/it]"
     ]
    },
    {
     "name": "stdout",
     "output_type": "stream",
     "text": [
      "Cannot fetch https://www.seattletimes.com/nation-world/fx-chief-even-peak-tv-can-be-a-sideshow-to-internet/, connection timed out.\n"
     ]
    },
    {
     "name": "stderr",
     "output_type": "stream",
     "text": [
      "Scraping Progress:  16%|█▌        | 1305/8402 [42:42<9:02:41,  4.59s/it]"
     ]
    },
    {
     "name": "stdout",
     "output_type": "stream",
     "text": [
      "Successfully fetched: https://www.gq.com/story/toy-story-4-review-warped-weird-and-good\n"
     ]
    },
    {
     "name": "stderr",
     "output_type": "stream",
     "text": [
      "Scraping Progress:  16%|█▌        | 1306/8402 [42:43<7:03:22,  3.58s/it]"
     ]
    },
    {
     "name": "stdout",
     "output_type": "stream",
     "text": [
      "Cannot fetch https://www.ozbargain.com.au/node/468460, HTTP error: 403 Client Error: Forbidden for url: https://www.ozbargain.com.au/node/468460\n"
     ]
    },
    {
     "name": "stderr",
     "output_type": "stream",
     "text": [
      "Scraping Progress:  16%|█▌        | 1307/8402 [42:44<5:43:29,  2.90s/it]"
     ]
    },
    {
     "name": "stdout",
     "output_type": "stream",
     "text": [
      "Successfully fetched: https://www.usatoday.com/story/sports/boxing/2018/03/13/50-years-ago-today-muhammad-ali-lost-former-nun/412119002/?utm_source=google&utm_medium=amp&utm_campaign=speakable\n"
     ]
    },
    {
     "name": "stderr",
     "output_type": "stream",
     "text": [
      "Scraping Progress:  16%|█▌        | 1308/8402 [42:45<4:43:33,  2.40s/it]"
     ]
    },
    {
     "name": "stdout",
     "output_type": "stream",
     "text": [
      "Cannot fetch https://www.seattletimes.com/business/mississippi-suit-over-british-citizens-data-alive-for-now/, connection timed out.\n"
     ]
    },
    {
     "name": "stderr",
     "output_type": "stream",
     "text": [
      "Scraping Progress:  16%|█▌        | 1309/8402 [42:56<9:51:37,  5.00s/it]"
     ]
    },
    {
     "name": "stdout",
     "output_type": "stream",
     "text": [
      "Cannot fetch https://nerdist.com/hot-toys-infinity-war-gauntlet-iron-man-thanos-thor/, HTTP error: 404 Client Error: Not Found for url: https://nerdist.com/hot-toys-infinity-war-gauntlet-iron-man-thanos-thor/\n"
     ]
    },
    {
     "name": "stderr",
     "output_type": "stream",
     "text": [
      "Scraping Progress:  16%|█▌        | 1310/8402 [42:58<7:58:55,  4.05s/it]"
     ]
    },
    {
     "name": "stdout",
     "output_type": "stream",
     "text": [
      "Successfully fetched: https://leganerd.com/2018/12/07/magni-bronzebeard-premium-statue-by-damtoys-sideshow-collectibles/\n"
     ]
    },
    {
     "name": "stderr",
     "output_type": "stream",
     "text": [
      "Scraping Progress:  16%|█▌        | 1311/8402 [43:00<6:33:20,  3.33s/it]"
     ]
    },
    {
     "name": "stdout",
     "output_type": "stream",
     "text": [
      "Successfully fetched: https://brokelyn.com/best-things-weekend-wrestling-edition/\n"
     ]
    },
    {
     "name": "stderr",
     "output_type": "stream",
     "text": [
      "Scraping Progress:  16%|█▌        | 1312/8402 [43:02<5:41:35,  2.89s/it]"
     ]
    },
    {
     "name": "stdout",
     "output_type": "stream",
     "text": [
      "Successfully fetched: https://www.bleedingcool.com/2018/07/21/jakks-pacific-harry-potter-nintendo-wwe-batman-sdcc/\n"
     ]
    },
    {
     "name": "stderr",
     "output_type": "stream",
     "text": [
      "Scraping Progress:  16%|█▌        | 1313/8402 [43:03<4:50:00,  2.45s/it]"
     ]
    },
    {
     "name": "stdout",
     "output_type": "stream",
     "text": [
      "Successfully fetched: http://mentalfloss.com/article/89272/11-dashing-facts-about-robin-hood-men-tights\n"
     ]
    },
    {
     "name": "stderr",
     "output_type": "stream",
     "text": [
      "Scraping Progress:  16%|█▌        | 1314/8402 [43:05<4:25:25,  2.25s/it]"
     ]
    },
    {
     "name": "stdout",
     "output_type": "stream",
     "text": [
      "Successfully fetched: https://www.newyorker.com/culture/culture-desk/a-lifetime-of-carla-bley\n"
     ]
    },
    {
     "name": "stderr",
     "output_type": "stream",
     "text": [
      "Scraping Progress:  16%|█▌        | 1315/8402 [43:06<3:51:06,  1.96s/it]"
     ]
    },
    {
     "name": "stdout",
     "output_type": "stream",
     "text": [
      "Successfully fetched: https://vandal.elespanol.com/noticia/1350728239/marvels-spiderman-asi-es-la-figura-de-1100-basada-en-el-juego-de-ps4/\n"
     ]
    },
    {
     "name": "stderr",
     "output_type": "stream",
     "text": [
      "Scraping Progress:  16%|█▌        | 1316/8402 [43:08<3:34:20,  1.81s/it]"
     ]
    },
    {
     "name": "stdout",
     "output_type": "stream",
     "text": [
      "Successfully fetched: http://es.ign.com/deadpool-2/134064/feature/las-mejores-figuras-de-deadpool-que-has-visto\n"
     ]
    },
    {
     "name": "stderr",
     "output_type": "stream",
     "text": [
      "Scraping Progress:  16%|█▌        | 1317/8402 [43:09<3:18:59,  1.69s/it]"
     ]
    },
    {
     "name": "stdout",
     "output_type": "stream",
     "text": [
      "Successfully fetched: http://leganerd.com/2018/08/28/iron-man-extremis-mark-ii-statue-by-sideshow-collectibles/\n"
     ]
    },
    {
     "name": "stderr",
     "output_type": "stream",
     "text": [
      "Scraping Progress:  16%|█▌        | 1318/8402 [43:11<3:25:15,  1.74s/it]"
     ]
    },
    {
     "name": "stdout",
     "output_type": "stream",
     "text": [
      "Cannot fetch https://phys.org/news/2019-03-outsourcing-speech-social-media.html, HTTP error: 422 Client Error: Unprocessable Content for url: https://phys.org/news/2019-03-outsourcing-speech-social-media.html\n"
     ]
    },
    {
     "name": "stderr",
     "output_type": "stream",
     "text": [
      "Scraping Progress:  16%|█▌        | 1319/8402 [43:12<3:04:15,  1.56s/it]"
     ]
    },
    {
     "name": "stdout",
     "output_type": "stream",
     "text": [
      "Successfully fetched: https://variety.com/2019/tv/news/tv-news-roundup-hulu-little-fires-everywhere-premiere-date-1203436075/\n"
     ]
    },
    {
     "name": "stderr",
     "output_type": "stream",
     "text": [
      "Scraping Progress:  16%|█▌        | 1320/8402 [43:14<3:21:58,  1.71s/it]"
     ]
    },
    {
     "name": "stdout",
     "output_type": "stream",
     "text": [
      "Cannot fetch http://www.sheldoncomics.com/news/1747.html, HTTP error: 404 Client Error: Not Found for url: https://www.sheldoncomics.com/news/1747.html\n"
     ]
    },
    {
     "name": "stderr",
     "output_type": "stream",
     "text": [
      "Scraping Progress:  16%|█▌        | 1321/8402 [43:17<3:59:01,  2.03s/it]"
     ]
    },
    {
     "name": "stdout",
     "output_type": "stream",
     "text": [
      "Cannot fetch http://www.syfy.com/syfywire/bb-8-life-sized-replica-will-give-you-happy-beeps-but-itll-cost-you-4000-credits, HTTP error: 404 Client Error: Not Found for url: https://www.syfy.com/syfy-wire/bb-8-life-sized-replica-will-give-you-happy-beeps-but-itll-cost-you-4000-credits\n"
     ]
    },
    {
     "name": "stderr",
     "output_type": "stream",
     "text": [
      "Scraping Progress:  16%|█▌        | 1322/8402 [43:19<3:48:21,  1.94s/it]"
     ]
    },
    {
     "name": "stdout",
     "output_type": "stream",
     "text": [
      "Cannot fetch http://www.syfy.com/syfywire/exclusive-sideshows-legendary-scale-spider-man-is-web-slinging-his-way-to-comic-con, HTTP error: 404 Client Error: Not Found for url: https://www.syfy.com/syfy-wire/exclusive-sideshows-legendary-scale-spider-man-is-web-slinging-his-way-to-comic-con\n"
     ]
    },
    {
     "name": "stderr",
     "output_type": "stream",
     "text": [
      "Scraping Progress:  16%|█▌        | 1323/8402 [43:20<3:33:40,  1.81s/it]"
     ]
    },
    {
     "name": "stdout",
     "output_type": "stream",
     "text": [
      "Cannot fetch https://www.washingtonpost.com/graphics/2018/opinions/charles-krauthammer-columns/, connection timed out.\n"
     ]
    },
    {
     "name": "stderr",
     "output_type": "stream",
     "text": [
      "Scraping Progress:  16%|█▌        | 1324/8402 [43:31<9:03:00,  4.60s/it]"
     ]
    },
    {
     "name": "stdout",
     "output_type": "stream",
     "text": [
      "Successfully fetched: http://www.speedhunters.com/2019/01/the-main-event-at-turn-11/\n"
     ]
    },
    {
     "name": "stderr",
     "output_type": "stream",
     "text": [
      "Scraping Progress:  16%|█▌        | 1325/8402 [43:34<7:53:30,  4.01s/it]"
     ]
    },
    {
     "name": "stdout",
     "output_type": "stream",
     "text": [
      "Successfully fetched: https://www.aljazeera.com/news/2018/12/brexit-contempt-ruling-largely-symbolic-181205174839264.html\n"
     ]
    },
    {
     "name": "stderr",
     "output_type": "stream",
     "text": [
      "Scraping Progress:  16%|█▌        | 1326/8402 [43:36<6:39:58,  3.39s/it]"
     ]
    },
    {
     "name": "stdout",
     "output_type": "stream",
     "text": [
      "Successfully fetched: https://www.salon.com/2018/07/12/house-republicans-farcical-interrogation-of-peter-strzok-turns-embattled-fbi-agent-into-an-hero/\n"
     ]
    },
    {
     "name": "stderr",
     "output_type": "stream",
     "text": [
      "Scraping Progress:  16%|█▌        | 1327/8402 [43:37<5:25:08,  2.76s/it]"
     ]
    },
    {
     "name": "stdout",
     "output_type": "stream",
     "text": [
      "Successfully fetched: http://leganerd.com/2018/11/06/r2d2-deluxe-version-by-sideshow-collectibles-hot-toys/\n"
     ]
    },
    {
     "name": "stderr",
     "output_type": "stream",
     "text": [
      "Scraping Progress:  16%|█▌        | 1328/8402 [43:39<4:50:43,  2.47s/it]"
     ]
    },
    {
     "name": "stdout",
     "output_type": "stream",
     "text": [
      "Cannot fetch https://www.channelnewsasia.com/news/world/katowice-cop24-notebook--spotlight-on-us-coal-sideshow-11017978, HTTP error: 404 Client Error: Not Found for url: https://www.channelnewsasia.com/news/world/katowice-cop24-notebook--spotlight-on-us-coal-sideshow-11017978\n"
     ]
    },
    {
     "name": "stderr",
     "output_type": "stream",
     "text": [
      "Scraping Progress:  16%|█▌        | 1329/8402 [43:42<5:23:15,  2.74s/it]"
     ]
    },
    {
     "name": "stdout",
     "output_type": "stream",
     "text": [
      "Cannot fetch https://news.marvel.com/gear-toys/83717/new-deadpool-toys-include-lady-deadpool-omega-red/?utm_campaign=rss_feeds&utm_source=headline_news&utm_medium=rss&utm_content=story-83717&, HTTP error: 503 Server Error: Service Unavailable for url: https://news.marvel.com/gear-toys/83717/new-deadpool-toys-include-lady-deadpool-omega-red/?utm_campaign=rss_feeds&utm_source=headline_news&utm_medium=rss&utm_content=story-83717&\n"
     ]
    },
    {
     "name": "stderr",
     "output_type": "stream",
     "text": [
      "Scraping Progress:  16%|█▌        | 1330/8402 [43:44<4:32:42,  2.31s/it]"
     ]
    },
    {
     "name": "stdout",
     "output_type": "stream",
     "text": [
      "Successfully fetched: https://www.comicbookmovie.com/he-man_and_the_masters_of_the_universe/she-ra-princess-of-power-sideshow-collectibles-statue-giveaway-and-unboxing-a163388\n"
     ]
    },
    {
     "name": "stderr",
     "output_type": "stream",
     "text": [
      "Scraping Progress:  16%|█▌        | 1331/8402 [43:45<4:06:07,  2.09s/it]"
     ]
    },
    {
     "name": "stdout",
     "output_type": "stream",
     "text": [
      "Cannot fetch https://news.marvel.com/gear-toys/82959/creating-sideshows-mark-brooks-spider-man-spider-verse-statues-fine-art-print/?utm_campaign=rss_feeds&utm_source=headline_news&utm_medium=rss&utm_content=story-82959&, HTTP error: 503 Server Error: Service Unavailable for url: https://news.marvel.com/gear-toys/82959/creating-sideshows-mark-brooks-spider-man-spider-verse-statues-fine-art-print/?utm_campaign=rss_feeds&utm_source=headline_news&utm_medium=rss&utm_content=story-82959&\n"
     ]
    },
    {
     "name": "stderr",
     "output_type": "stream",
     "text": [
      "Scraping Progress:  16%|█▌        | 1332/8402 [43:47<3:38:49,  1.86s/it]"
     ]
    },
    {
     "name": "stdout",
     "output_type": "stream",
     "text": [
      "Cannot fetch https://news.marvel.com/gear-toys/83661/new-ant-man-wasp-action-figures-role-play-masks-toys-hasbro/?utm_campaign=rss_feeds&utm_source=headline_news&utm_medium=rss&utm_content=story-83661&, HTTP error: 503 Server Error: Service Unavailable for url: https://news.marvel.com/gear-toys/83661/new-ant-man-wasp-action-figures-role-play-masks-toys-hasbro/?utm_campaign=rss_feeds&utm_source=headline_news&utm_medium=rss&utm_content=story-83661&\n"
     ]
    },
    {
     "name": "stderr",
     "output_type": "stream",
     "text": [
      "Scraping Progress:  16%|█▌        | 1333/8402 [43:48<3:20:22,  1.70s/it]"
     ]
    },
    {
     "name": "stdout",
     "output_type": "stream",
     "text": [
      "Successfully fetched: http://www.espn.com/blog/new-york-giants/post/_/id/56926/what-are-the-pros-and-cons-of-dez-bryant-with-the-giants\n"
     ]
    },
    {
     "name": "stderr",
     "output_type": "stream",
     "text": [
      "Scraping Progress:  16%|█▌        | 1334/8402 [43:49<3:14:27,  1.65s/it]"
     ]
    },
    {
     "name": "stdout",
     "output_type": "stream",
     "text": [
      "Successfully fetched: https://www.nomadicmatt.com/travel-blogs/pere-lachaise-cemetery/\n"
     ]
    },
    {
     "name": "stderr",
     "output_type": "stream",
     "text": [
      "Scraping Progress:  16%|█▌        | 1335/8402 [43:51<3:02:59,  1.55s/it]"
     ]
    },
    {
     "name": "stdout",
     "output_type": "stream",
     "text": [
      "Successfully fetched: https://qz.com/work/1408428/the-first-two-questions-to-ask-when-your-team-is-struggling/\n"
     ]
    },
    {
     "name": "stderr",
     "output_type": "stream",
     "text": [
      "Scraping Progress:  16%|█▌        | 1336/8402 [43:52<2:58:06,  1.51s/it]"
     ]
    },
    {
     "name": "stdout",
     "output_type": "stream",
     "text": [
      "Successfully fetched: https://bloody-disgusting.com/video-games/3541372/sideshow-collectibles-unveils-alucard-statue-symphony-night/\n"
     ]
    },
    {
     "name": "stderr",
     "output_type": "stream",
     "text": [
      "Scraping Progress:  16%|█▌        | 1337/8402 [43:54<3:09:37,  1.61s/it]"
     ]
    },
    {
     "name": "stdout",
     "output_type": "stream",
     "text": [
      "Cannot fetch https://www.gaycities.com/outthere/40329/dj-kitty-glitter-halloween-new-orleans-sex-count-dracula/, HTTP error: 403 Client Error: Forbidden for url: https://www.gaycities.com/outthere/40329/dj-kitty-glitter-halloween-new-orleans-sex-count-dracula/\n"
     ]
    },
    {
     "name": "stderr",
     "output_type": "stream",
     "text": [
      "Scraping Progress:  16%|█▌        | 1338/8402 [43:55<2:51:59,  1.46s/it]"
     ]
    },
    {
     "name": "stdout",
     "output_type": "stream",
     "text": [
      "Cannot fetch http://www.chicagobusiness.com/article/20180221/NEWS02/180229987/tax-overhaul-sideshow-long-on-gimmicks-short-on-solutions, HTTP error: 403 Client Error: Forbidden for url: https://www.chicagobusiness.com/article/20180221/NEWS02/180229987/tax-overhaul-sideshow-long-on-gimmicks-short-on-solutions\n"
     ]
    },
    {
     "name": "stderr",
     "output_type": "stream",
     "text": [
      "Scraping Progress:  16%|█▌        | 1339/8402 [43:56<2:46:24,  1.41s/it]"
     ]
    },
    {
     "name": "stdout",
     "output_type": "stream",
     "text": [
      "Successfully fetched: https://www.hotnewhiphop.com/conway-links-up-with-lndn-drgs-for-sideshow-new-song.1984524.html\n"
     ]
    },
    {
     "name": "stderr",
     "output_type": "stream",
     "text": [
      "Scraping Progress:  16%|█▌        | 1340/8402 [43:58<2:48:31,  1.43s/it]"
     ]
    },
    {
     "name": "stdout",
     "output_type": "stream",
     "text": [
      "Successfully fetched: https://ohnotheydidnt.livejournal.com/113187479.html\n"
     ]
    },
    {
     "name": "stderr",
     "output_type": "stream",
     "text": [
      "Scraping Progress:  16%|█▌        | 1341/8402 [44:01<3:37:39,  1.85s/it]"
     ]
    },
    {
     "name": "stdout",
     "output_type": "stream",
     "text": [
      "Successfully fetched: https://bleacherreport.com/articles/2811305-saints-road-struggles-prove-they-need-home-field-advantage\n"
     ]
    },
    {
     "name": "stderr",
     "output_type": "stream",
     "text": [
      "Scraping Progress:  16%|█▌        | 1342/8402 [44:02<3:25:47,  1.75s/it]"
     ]
    },
    {
     "name": "stdout",
     "output_type": "stream",
     "text": [
      "Successfully fetched: https://www.avclub.com/6-episodes-in-true-detective-digs-into-story-but-squan-1832511296\n"
     ]
    },
    {
     "name": "stderr",
     "output_type": "stream",
     "text": [
      "Scraping Progress:  16%|█▌        | 1343/8402 [44:03<3:05:40,  1.58s/it]"
     ]
    },
    {
     "name": "stdout",
     "output_type": "stream",
     "text": [
      "Successfully fetched: https://www.hotnewhiphop.com/under-armour-curry-6-oakland-sideshow-release-details-news.72773.html\n"
     ]
    },
    {
     "name": "stderr",
     "output_type": "stream",
     "text": [
      "Scraping Progress:  16%|█▌        | 1344/8402 [44:05<2:51:55,  1.46s/it]"
     ]
    },
    {
     "name": "stdout",
     "output_type": "stream",
     "text": [
      "Successfully fetched: https://www.flickeringmyth.com/2018/09/spider-punk-gets-a-video-game-masterpiece-series-figure-from-hot-toys/\n"
     ]
    },
    {
     "name": "stderr",
     "output_type": "stream",
     "text": [
      "Scraping Progress:  16%|█▌        | 1345/8402 [44:06<2:49:37,  1.44s/it]"
     ]
    },
    {
     "name": "stdout",
     "output_type": "stream",
     "text": [
      "Successfully fetched: http://www.aljazeera.com/indepth/opinion/tragedy-blessing-trump-180103093704701.html\n"
     ]
    },
    {
     "name": "stderr",
     "output_type": "stream",
     "text": [
      "Scraping Progress:  16%|█▌        | 1346/8402 [44:08<3:07:07,  1.59s/it]"
     ]
    },
    {
     "name": "stdout",
     "output_type": "stream",
     "text": [
      "Successfully fetched: https://www.bbc.com/portuguese/brasil-49026834\n"
     ]
    },
    {
     "name": "stderr",
     "output_type": "stream",
     "text": [
      "Scraping Progress:  16%|█▌        | 1347/8402 [44:10<3:09:10,  1.61s/it]"
     ]
    },
    {
     "name": "stdout",
     "output_type": "stream",
     "text": [
      "Successfully fetched: https://therumpus.net/2019/03/next-letter-in-the-mail-tessa-fontaine/\n"
     ]
    },
    {
     "name": "stderr",
     "output_type": "stream",
     "text": [
      "Scraping Progress:  16%|█▌        | 1348/8402 [44:12<3:42:58,  1.90s/it]"
     ]
    },
    {
     "name": "stdout",
     "output_type": "stream",
     "text": [
      "Successfully fetched: http://leganerd.com/2018/09/07/darth-vader-premium-format-figure-by-sideshow-collectibles/\n"
     ]
    },
    {
     "name": "stderr",
     "output_type": "stream",
     "text": [
      "Scraping Progress:  16%|█▌        | 1349/8402 [44:14<3:41:23,  1.88s/it]"
     ]
    },
    {
     "name": "stdout",
     "output_type": "stream",
     "text": [
      "Successfully fetched: https://www.rollingstone.com/tv/tv-reviews/my-dinner-with-herve-review-peter-dinklage-738288/\n"
     ]
    },
    {
     "name": "stderr",
     "output_type": "stream",
     "text": [
      "Scraping Progress:  16%|█▌        | 1350/8402 [44:16<3:46:10,  1.92s/it]"
     ]
    },
    {
     "name": "stdout",
     "output_type": "stream",
     "text": [
      "Cannot fetch http://www.brooklynvegan.com/big-thief-debut-new-songs-in-great-live-video-buck-meek-shares-new-song-too/, HTTP error: 403 Client Error: Forbidden for url: https://www.brooklynvegan.com/big-thief-debut-new-songs-in-great-live-video-buck-meek-shares-new-song-too/\n"
     ]
    },
    {
     "name": "stderr",
     "output_type": "stream",
     "text": [
      "Scraping Progress:  16%|█▌        | 1351/8402 [44:17<3:25:24,  1.75s/it]"
     ]
    },
    {
     "name": "stdout",
     "output_type": "stream",
     "text": [
      "Cannot fetch http://www.powerlineblog.com/archives/2018/12/william-shawcross-let-kissinger-speak.php, HTTP error: 403 Client Error: Forbidden for url: https://www.powerlineblog.com/archives/2018/12/william-shawcross-let-kissinger-speak.php\n"
     ]
    },
    {
     "name": "stderr",
     "output_type": "stream",
     "text": [
      "Scraping Progress:  16%|█▌        | 1352/8402 [44:19<3:05:35,  1.58s/it]"
     ]
    },
    {
     "name": "stdout",
     "output_type": "stream",
     "text": [
      "Successfully fetched: https://99percentinvisible.org/episode/the-infantorium/\n"
     ]
    },
    {
     "name": "stderr",
     "output_type": "stream",
     "text": [
      "Scraping Progress:  16%|█▌        | 1353/8402 [44:20<2:59:15,  1.53s/it]"
     ]
    },
    {
     "name": "stdout",
     "output_type": "stream",
     "text": [
      "Successfully fetched: https://apnews.com/f857b3f06c7b48db91989377b008db90\n"
     ]
    },
    {
     "name": "stderr",
     "output_type": "stream",
     "text": [
      "Scraping Progress:  16%|█▌        | 1354/8402 [44:22<3:11:21,  1.63s/it]"
     ]
    },
    {
     "name": "stdout",
     "output_type": "stream",
     "text": [
      "Successfully fetched: https://www.firstpost.com/firstcricket/sports-news/england-vs-west-indies-icc-cricket-world-cup-2019-jofra-archer-turns-caribbean-sub-plot-to-sideshow-with-clinical-performance-6816871.html\n"
     ]
    },
    {
     "name": "stderr",
     "output_type": "stream",
     "text": [
      "Scraping Progress:  16%|█▌        | 1355/8402 [44:24<3:26:57,  1.76s/it]"
     ]
    },
    {
     "name": "stdout",
     "output_type": "stream",
     "text": [
      "Successfully fetched: https://www.foxnews.com/politics/gidley-scary-that-dem-plan-to-reopen-government-spends-more-on-foreign-aid-than-border-security\n"
     ]
    },
    {
     "name": "stderr",
     "output_type": "stream",
     "text": [
      "Scraping Progress:  16%|█▌        | 1356/8402 [44:26<3:23:26,  1.73s/it]"
     ]
    },
    {
     "name": "stdout",
     "output_type": "stream",
     "text": [
      "Successfully fetched: https://www.hollywoodreporter.com/fien-print/critics-notebook-luke-perry-defined-coolness-a-generation-tv-watchers-1192092\n"
     ]
    },
    {
     "name": "stderr",
     "output_type": "stream",
     "text": [
      "Scraping Progress:  16%|█▌        | 1357/8402 [44:28<3:47:47,  1.94s/it]"
     ]
    },
    {
     "name": "stdout",
     "output_type": "stream",
     "text": [
      "Successfully fetched: https://www.rawstory.com/2019/02/shame-republican-party-cnn-analyst-roasts-freedom-caucus-chairman-pattern-racist-actions/\n"
     ]
    },
    {
     "name": "stderr",
     "output_type": "stream",
     "text": [
      "Scraping Progress:  16%|█▌        | 1358/8402 [44:29<3:25:17,  1.75s/it]"
     ]
    },
    {
     "name": "stdout",
     "output_type": "stream",
     "text": [
      "Successfully fetched: https://www.scientificamerican.com/article/u-s-stands-with-russia-and-saudi-arabia-against-climate-science/\n"
     ]
    },
    {
     "name": "stderr",
     "output_type": "stream",
     "text": [
      "Scraping Progress:  16%|█▌        | 1359/8402 [44:31<3:40:12,  1.88s/it]"
     ]
    },
    {
     "name": "stdout",
     "output_type": "stream",
     "text": [
      "Successfully fetched: http://www.pcgamer.com/opening-day-of-overwatch-league-lived-up-to-the-hype/\n"
     ]
    },
    {
     "name": "stderr",
     "output_type": "stream",
     "text": [
      "Scraping Progress:  16%|█▌        | 1360/8402 [44:33<3:31:14,  1.80s/it]"
     ]
    },
    {
     "name": "stdout",
     "output_type": "stream",
     "text": [
      "Cannot fetch https://news.marvel.com/gear-toys/84728/marvel-future-fight-funko-pop-coming-in-may/?utm_campaign=rss_feeds&utm_source=headline_news&utm_medium=rss&utm_content=story-84728&, HTTP error: 503 Server Error: Service Unavailable for url: https://news.marvel.com/gear-toys/84728/marvel-future-fight-funko-pop-coming-in-may/?utm_campaign=rss_feeds&utm_source=headline_news&utm_medium=rss&utm_content=story-84728&\n"
     ]
    },
    {
     "name": "stderr",
     "output_type": "stream",
     "text": [
      "Scraping Progress:  16%|█▌        | 1361/8402 [44:34<3:14:45,  1.66s/it]"
     ]
    },
    {
     "name": "stdout",
     "output_type": "stream",
     "text": [
      "Cannot fetch https://news.marvel.com/gear-toys/85360/funko-reveals-avengers-infinity-war-pops-dorbz/?utm_campaign=rss_feeds&utm_source=headline_news&utm_medium=rss&utm_content=story-85360&, HTTP error: 503 Server Error: Service Unavailable for url: https://news.marvel.com/gear-toys/85360/funko-reveals-avengers-infinity-war-pops-dorbz/?utm_campaign=rss_feeds&utm_source=headline_news&utm_medium=rss&utm_content=story-85360&\n"
     ]
    },
    {
     "name": "stderr",
     "output_type": "stream",
     "text": [
      "Scraping Progress:  16%|█▌        | 1362/8402 [44:36<3:01:39,  1.55s/it]"
     ]
    },
    {
     "name": "stdout",
     "output_type": "stream",
     "text": [
      "Cannot fetch https://news.marvel.com/gear-toys/85432/hasbros-avengers-infinity-war-toys-include-new-marvel-legends-figures-much/?utm_campaign=rss_feeds&utm_source=headline_news&utm_medium=rss&utm_content=story-85432&, HTTP error: 503 Server Error: Service Unavailable for url: https://news.marvel.com/gear-toys/85432/hasbros-avengers-infinity-war-toys-include-new-marvel-legends-figures-much/?utm_campaign=rss_feeds&utm_source=headline_news&utm_medium=rss&utm_content=story-85432&\n"
     ]
    },
    {
     "name": "stderr",
     "output_type": "stream",
     "text": [
      "Scraping Progress:  16%|█▌        | 1363/8402 [44:37<2:51:38,  1.46s/it]"
     ]
    },
    {
     "name": "stdout",
     "output_type": "stream",
     "text": [
      "Successfully fetched: https://slate.com/culture/2019/01/patriots-fan-interview-super-bowl.html\n"
     ]
    },
    {
     "name": "stderr",
     "output_type": "stream",
     "text": [
      "Scraping Progress:  16%|█▌        | 1364/8402 [44:39<3:01:51,  1.55s/it]"
     ]
    },
    {
     "name": "stdout",
     "output_type": "stream",
     "text": [
      "Cannot fetch https://www.news965.com/news/national-govt--politics/joe-arpaio-long-goodbye-redemption-kamikaze-mission/3nJhRsFInbp4eTGL4bLZIL/, HTTP error: 404 Client Error: Not Found for url: https://www.wdbo.com/news/national-govt--politics/joe-arpaio-long-goodbye-redemption-kamikaze-mission/3nJhRsFInbp4eTGL4bLZIL/\n"
     ]
    },
    {
     "name": "stderr",
     "output_type": "stream",
     "text": [
      "Scraping Progress:  16%|█▌        | 1365/8402 [44:42<3:46:27,  1.93s/it]"
     ]
    },
    {
     "name": "stdout",
     "output_type": "stream",
     "text": [
      "Successfully fetched: https://www.rollingstone.com/politics/politics-news/donald-trump-2020-election-758840/\n"
     ]
    },
    {
     "name": "stderr",
     "output_type": "stream",
     "text": [
      "Scraping Progress:  16%|█▋        | 1366/8402 [44:43<3:47:23,  1.94s/it]"
     ]
    },
    {
     "name": "stdout",
     "output_type": "stream",
     "text": [
      "Cannot fetch https://news.marvel.com/gear-toys/83174/first-look-diamond-select-toys-marvel-gallery-savage-land-rogue-pvc-diorama/?utm_campaign=rss_feeds&utm_source=headline_news&utm_medium=rss&utm_content=story-83174&, HTTP error: 503 Server Error: Service Unavailable for url: https://news.marvel.com/gear-toys/83174/first-look-diamond-select-toys-marvel-gallery-savage-land-rogue-pvc-diorama/?utm_campaign=rss_feeds&utm_source=headline_news&utm_medium=rss&utm_content=story-83174&\n"
     ]
    },
    {
     "name": "stderr",
     "output_type": "stream",
     "text": [
      "Scraping Progress:  16%|█▋        | 1367/8402 [44:45<3:26:25,  1.76s/it]"
     ]
    },
    {
     "name": "stdout",
     "output_type": "stream",
     "text": [
      "Successfully fetched: https://www.wral.com/what-you-need-to-know-about-the-flu-vaccine-and-flu-season/17869438/\n"
     ]
    },
    {
     "name": "stderr",
     "output_type": "stream",
     "text": [
      "Scraping Progress:  16%|█▋        | 1368/8402 [44:47<3:26:50,  1.76s/it]"
     ]
    },
    {
     "name": "stdout",
     "output_type": "stream",
     "text": [
      "Cannot fetch https://www.infowars.com/leaked-audio-google-discusses-steering-the-conservative-movement/, HTTP error: 403 Client Error: Forbidden for url: https://www.infowars.com/leaked-audio-google-discusses-steering-the-conservative-movement/\n"
     ]
    },
    {
     "name": "stderr",
     "output_type": "stream",
     "text": [
      "Scraping Progress:  16%|█▋        | 1369/8402 [44:48<3:05:02,  1.58s/it]"
     ]
    },
    {
     "name": "stdout",
     "output_type": "stream",
     "text": [
      "Successfully fetched: http://www.latimes.com/opinion/editorials/la-ed-paul-ryan-retires-20180411-story.html\n"
     ]
    },
    {
     "name": "stderr",
     "output_type": "stream",
     "text": [
      "Scraping Progress:  16%|█▋        | 1370/8402 [44:50<3:13:19,  1.65s/it]"
     ]
    },
    {
     "name": "stdout",
     "output_type": "stream",
     "text": [
      "Successfully fetched: https://mubi.com/notebook/posts/remaking-film-mistakes-chained-for-life-and-ableism-in-film\n"
     ]
    },
    {
     "name": "stderr",
     "output_type": "stream",
     "text": [
      "Scraping Progress:  16%|█▋        | 1371/8402 [44:51<3:05:14,  1.58s/it]"
     ]
    },
    {
     "name": "stdout",
     "output_type": "stream",
     "text": [
      "Successfully fetched: https://brobible.com/sports/article/curry-6-oakland-sideshow-nba2k-challenge/\n"
     ]
    },
    {
     "name": "stderr",
     "output_type": "stream",
     "text": [
      "Scraping Progress:  16%|█▋        | 1372/8402 [44:53<3:09:08,  1.61s/it]"
     ]
    },
    {
     "name": "stdout",
     "output_type": "stream",
     "text": [
      "Successfully fetched: https://www.bleedingcool.com/2019/08/27/the-bat-family-teams-up-for-adorable-q-master-statue/\n"
     ]
    },
    {
     "name": "stderr",
     "output_type": "stream",
     "text": [
      "Scraping Progress:  16%|█▋        | 1373/8402 [44:54<2:57:42,  1.52s/it]"
     ]
    },
    {
     "name": "stdout",
     "output_type": "stream",
     "text": [
      "Cannot fetch https://phys.org/news/2018-12-climate-action-focus-global-rich.html, HTTP error: 422 Client Error: Unprocessable Content for url: https://phys.org/news/2018-12-climate-action-focus-global-rich.html\n"
     ]
    },
    {
     "name": "stderr",
     "output_type": "stream",
     "text": [
      "Scraping Progress:  16%|█▋        | 1374/8402 [44:55<2:42:36,  1.39s/it]"
     ]
    },
    {
     "name": "stdout",
     "output_type": "stream",
     "text": [
      "Successfully fetched: http://hyperallergic.com/460020/a-personal-tribute-to-richard-timperio-a-beloved-figure-of-the-brooklyn-art-scene/\n"
     ]
    },
    {
     "name": "stderr",
     "output_type": "stream",
     "text": [
      "Scraping Progress:  16%|█▋        | 1375/8402 [44:59<4:03:10,  2.08s/it]"
     ]
    },
    {
     "name": "stdout",
     "output_type": "stream",
     "text": [
      "Successfully fetched: http://theconversation.com/grattan-on-friday-all-is-forgiven-in-the-liberal-embrace-of-palmer-116011\n"
     ]
    },
    {
     "name": "stderr",
     "output_type": "stream",
     "text": [
      "Scraping Progress:  16%|█▋        | 1376/8402 [45:00<3:39:41,  1.88s/it]"
     ]
    },
    {
     "name": "stdout",
     "output_type": "stream",
     "text": [
      "Cannot fetch https://www.sify.com/sports/ashes-5th-test-smith-joins-wade-as-sledging-sideshow-continues-imagegallery-cricket-tjnpmOdjehejf.html, HTTP error: 403 Client Error: Forbidden for url: https://www.sify.com/sports/ashes-5th-test-smith-joins-wade-as-sledging-sideshow-continues-imagegallery-cricket-tjnpmOdjehejf.html\n"
     ]
    },
    {
     "name": "stderr",
     "output_type": "stream",
     "text": [
      "Scraping Progress:  16%|█▋        | 1377/8402 [45:03<4:02:17,  2.07s/it]"
     ]
    },
    {
     "name": "stdout",
     "output_type": "stream",
     "text": [
      "Successfully fetched: https://www.popmatters.com/electric-woman-tessa-fontaine-2582996899.html\n"
     ]
    },
    {
     "name": "stderr",
     "output_type": "stream",
     "text": [
      "Scraping Progress:  16%|█▋        | 1378/8402 [45:04<3:38:35,  1.87s/it]"
     ]
    },
    {
     "name": "stdout",
     "output_type": "stream",
     "text": [
      "Successfully fetched: http://www.espn.com/mma/story/_/id/25217775/ranking-25-most-influential-people-ufc-history\n"
     ]
    },
    {
     "name": "stderr",
     "output_type": "stream",
     "text": [
      "Scraping Progress:  16%|█▋        | 1379/8402 [45:05<3:20:42,  1.71s/it]"
     ]
    },
    {
     "name": "stdout",
     "output_type": "stream",
     "text": [
      "Successfully fetched: https://deadspin.com/the-egyptian-football-association-turned-mo-salahs-worl-1827167435\n"
     ]
    },
    {
     "name": "stderr",
     "output_type": "stream",
     "text": [
      "Scraping Progress:  16%|█▋        | 1380/8402 [45:07<3:17:01,  1.68s/it]"
     ]
    },
    {
     "name": "stdout",
     "output_type": "stream",
     "text": [
      "Successfully fetched: https://www.papelpop.com/2019/12/rita-ora-tambem-fara-show-fora-do-lollapalooza-aqui-no-brasil/\n"
     ]
    },
    {
     "name": "stderr",
     "output_type": "stream",
     "text": [
      "Scraping Progress:  16%|█▋        | 1381/8402 [45:09<3:31:04,  1.80s/it]"
     ]
    },
    {
     "name": "stdout",
     "output_type": "stream",
     "text": [
      "Successfully fetched: https://www.aljazeera.com/indepth/opinion/ahvaz-ahwaz-difference-180925145037386.html\n"
     ]
    },
    {
     "name": "stderr",
     "output_type": "stream",
     "text": [
      "Scraping Progress:  16%|█▋        | 1382/8402 [45:12<4:10:23,  2.14s/it]"
     ]
    },
    {
     "name": "stdout",
     "output_type": "stream",
     "text": [
      "Successfully fetched: http://www.vulture.com/2018/05/at-the-met-huma-bhabha-brings-you-into-the-realm-of-gods.html\n"
     ]
    },
    {
     "name": "stderr",
     "output_type": "stream",
     "text": [
      "Scraping Progress:  16%|█▋        | 1383/8402 [45:14<4:07:41,  2.12s/it]"
     ]
    },
    {
     "name": "stdout",
     "output_type": "stream",
     "text": [
      "Cannot fetch https://allthatsinteresting.com/sideshow-freaks, HTTP error: 403 Client Error: Forbidden for url: https://allthatsinteresting.com/sideshow-freaks\n"
     ]
    },
    {
     "name": "stderr",
     "output_type": "stream",
     "text": [
      "Scraping Progress:  16%|█▋        | 1384/8402 [45:15<3:38:45,  1.87s/it]"
     ]
    },
    {
     "name": "stdout",
     "output_type": "stream",
     "text": [
      "Cannot fetch https://www.balloon-juice.com/2018/06/27/ignore-the-sideshow-keep-your-eyes-on-the-targets/, HTTP error: 403 Client Error: Forbidden for url: https://balloon-juice.com/2018/06/27/ignore-the-sideshow-keep-your-eyes-on-the-targets/\n"
     ]
    },
    {
     "name": "stderr",
     "output_type": "stream",
     "text": [
      "Scraping Progress:  16%|█▋        | 1385/8402 [45:17<3:14:24,  1.66s/it]"
     ]
    },
    {
     "name": "stdout",
     "output_type": "stream",
     "text": [
      "Successfully fetched: https://deadspin.com/what-is-wwe-doing-in-saudi-arabia-1825506325\n"
     ]
    },
    {
     "name": "stderr",
     "output_type": "stream",
     "text": [
      "Scraping Progress:  16%|█▋        | 1386/8402 [45:18<3:11:58,  1.64s/it]"
     ]
    },
    {
     "name": "stdout",
     "output_type": "stream",
     "text": [
      "Successfully fetched: http://www.nola.com/saints/index.ssf/2018/01/sean_payton_making_saints_most.html\n"
     ]
    },
    {
     "name": "stderr",
     "output_type": "stream",
     "text": [
      "Scraping Progress:  17%|█▋        | 1387/8402 [45:20<3:00:54,  1.55s/it]"
     ]
    },
    {
     "name": "stdout",
     "output_type": "stream",
     "text": [
      "Successfully fetched: https://www.bleedingcool.com/2019/12/22/iron-patriot-hot-toys-figure-updated-new-head/\n"
     ]
    },
    {
     "name": "stderr",
     "output_type": "stream",
     "text": [
      "Scraping Progress:  17%|█▋        | 1388/8402 [45:21<2:48:59,  1.45s/it]"
     ]
    },
    {
     "name": "stdout",
     "output_type": "stream",
     "text": [
      "Successfully fetched: http://www.slashfilm.com/star-wars-bits-the-last-jedi-hits-sxsw-john-boyega-solves-a-mystery-and-rebels-says-goodbye/\n"
     ]
    },
    {
     "name": "stderr",
     "output_type": "stream",
     "text": [
      "Scraping Progress:  17%|█▋        | 1389/8402 [45:23<3:12:35,  1.65s/it]"
     ]
    },
    {
     "name": "stdout",
     "output_type": "stream",
     "text": [
      "Cannot fetch https://www.mentalfloss.com/article/606821/tim-burton-batman-lego-batmobile, HTTP error: 410 Client Error: Gone for url: https://www.mentalfloss.com/article/606821/tim-burton-batman-lego-batmobile\n"
     ]
    },
    {
     "name": "stderr",
     "output_type": "stream",
     "text": [
      "Scraping Progress:  17%|█▋        | 1390/8402 [45:24<3:02:33,  1.56s/it]"
     ]
    },
    {
     "name": "stdout",
     "output_type": "stream",
     "text": [
      "Successfully fetched: https://www.mentalfloss.com/article/606710/lon-chaney-sr-movie-actor-facts\n"
     ]
    },
    {
     "name": "stderr",
     "output_type": "stream",
     "text": [
      "Scraping Progress:  17%|█▋        | 1391/8402 [45:26<3:01:14,  1.55s/it]"
     ]
    },
    {
     "name": "stdout",
     "output_type": "stream",
     "text": [
      "Cannot fetch https://news.marvel.com/gear-toys/84132/gentle-giant-ltds-new-spider-man-mary-jane-animated-statue-brings-awww/?utm_campaign=rss_feeds&utm_source=headline_news&utm_medium=rss&utm_content=story-84132&, HTTP error: 503 Server Error: Service Unavailable for url: https://news.marvel.com/gear-toys/84132/gentle-giant-ltds-new-spider-man-mary-jane-animated-statue-brings-awww/?utm_campaign=rss_feeds&utm_source=headline_news&utm_medium=rss&utm_content=story-84132&\n"
     ]
    },
    {
     "name": "stderr",
     "output_type": "stream",
     "text": [
      "Scraping Progress:  17%|█▋        | 1392/8402 [45:27<2:54:42,  1.50s/it]"
     ]
    },
    {
     "name": "stdout",
     "output_type": "stream",
     "text": [
      "Cannot fetch https://www.politico.com/magazine/story/2018/03/19/i-thought-there-would-be-more-jeff-flakes-more-john-mccains-more-bob-corkers-217655, HTTP error: 403 Client Error: Forbidden for url: https://www.politico.com/magazine/story/2018/03/19/i-thought-there-would-be-more-jeff-flakes-more-john-mccains-more-bob-corkers-217655\n"
     ]
    },
    {
     "name": "stderr",
     "output_type": "stream",
     "text": [
      "Scraping Progress:  17%|█▋        | 1393/8402 [45:28<2:41:13,  1.38s/it]"
     ]
    },
    {
     "name": "stdout",
     "output_type": "stream",
     "text": [
      "Successfully fetched: https://www.mentalfloss.com/article/606736/stranger-things-jim-hopper-campaign-signs\n"
     ]
    },
    {
     "name": "stderr",
     "output_type": "stream",
     "text": [
      "Scraping Progress:  17%|█▋        | 1394/8402 [45:30<2:39:30,  1.37s/it]"
     ]
    },
    {
     "name": "stdout",
     "output_type": "stream",
     "text": [
      "Successfully fetched: https://technabob.com/blog/2018/03/09/life-size-infinity-gauntlet-replica/\n"
     ]
    },
    {
     "name": "stderr",
     "output_type": "stream",
     "text": [
      "Scraping Progress:  17%|█▋        | 1395/8402 [45:31<2:52:53,  1.48s/it]"
     ]
    },
    {
     "name": "stdout",
     "output_type": "stream",
     "text": [
      "Successfully fetched: https://www.vox.com/2018/8/22/17693844/mueller-trump-russia-manafort\n"
     ]
    },
    {
     "name": "stderr",
     "output_type": "stream",
     "text": [
      "Scraping Progress:  17%|█▋        | 1396/8402 [45:33<2:53:08,  1.48s/it]"
     ]
    },
    {
     "name": "stdout",
     "output_type": "stream",
     "text": [
      "Successfully fetched: https://www.chicagotribune.com/entertainment/theater/ct-ent-sideshow-season-announcement0718-20190718-kgthtcvqhngi5mwaknrs6i6ep4-story.html\n"
     ]
    },
    {
     "name": "stderr",
     "output_type": "stream",
     "text": [
      "Scraping Progress:  17%|█▋        | 1397/8402 [45:35<3:07:06,  1.60s/it]"
     ]
    },
    {
     "name": "stdout",
     "output_type": "stream",
     "text": [
      "Cannot fetch https://www.wsj.com/articles/cambridge-university-pushes-back-against-facebook-scrutiny-of-research-apps-1523703601, HTTP error: 401 Client Error: HTTP Forbidden for url: https://www.wsj.com/articles/cambridge-university-pushes-back-against-facebook-scrutiny-of-research-apps-1523703601\n"
     ]
    },
    {
     "name": "stderr",
     "output_type": "stream",
     "text": [
      "Scraping Progress:  17%|█▋        | 1398/8402 [45:36<2:54:43,  1.50s/it]"
     ]
    },
    {
     "name": "stdout",
     "output_type": "stream",
     "text": [
      "Successfully fetched: https://www.si.com/soccer/2019/09/04/neymar-what-now-barcelona-paris-saint-germain\n"
     ]
    },
    {
     "name": "stderr",
     "output_type": "stream",
     "text": [
      "Scraping Progress:  17%|█▋        | 1399/8402 [45:37<2:52:16,  1.48s/it]"
     ]
    },
    {
     "name": "stdout",
     "output_type": "stream",
     "text": [
      "Successfully fetched: https://gnn.gamer.com.tw/8/172048.html\n"
     ]
    },
    {
     "name": "stderr",
     "output_type": "stream",
     "text": [
      "Scraping Progress:  17%|█▋        | 1400/8402 [45:39<3:16:39,  1.69s/it]"
     ]
    },
    {
     "name": "stdout",
     "output_type": "stream",
     "text": [
      "Successfully fetched: https://geekdad.com/2019/04/tabletop-kickstarter-alert-break-a-leg-with-sideshow-swap/\n"
     ]
    },
    {
     "name": "stderr",
     "output_type": "stream",
     "text": [
      "Scraping Progress:  17%|█▋        | 1401/8402 [45:42<3:40:59,  1.89s/it]"
     ]
    },
    {
     "name": "stdout",
     "output_type": "stream",
     "text": [
      "Successfully fetched: https://www.bleedingcool.com/2018/06/27/thor-2-lady-allmour-pleasure-lands/\n"
     ]
    },
    {
     "name": "stderr",
     "output_type": "stream",
     "text": [
      "Scraping Progress:  17%|█▋        | 1402/8402 [45:43<3:19:48,  1.71s/it]"
     ]
    },
    {
     "name": "stdout",
     "output_type": "stream",
     "text": [
      "Successfully fetched: https://hiphopdx.com/news/id.52960/title.lndn-drgs-presents-affiliated-compilation\n"
     ]
    },
    {
     "name": "stderr",
     "output_type": "stream",
     "text": [
      "Scraping Progress:  17%|█▋        | 1403/8402 [45:45<3:26:34,  1.77s/it]"
     ]
    },
    {
     "name": "stdout",
     "output_type": "stream",
     "text": [
      "Successfully fetched: https://www.washingtonexaminer.com/opinion/trump-cant-win-culture-wars-by-rejecting-basic-understanding-of-culture\n"
     ]
    },
    {
     "name": "stderr",
     "output_type": "stream",
     "text": [
      "Scraping Progress:  17%|█▋        | 1404/8402 [45:47<3:25:54,  1.77s/it]"
     ]
    },
    {
     "name": "stdout",
     "output_type": "stream",
     "text": [
      "Successfully fetched: http://www.eurogamer.net/articles/2018-02-23-metal-gear-survive-review-surprisingly-enjoyable-horror-spin-off\n"
     ]
    },
    {
     "name": "stderr",
     "output_type": "stream",
     "text": [
      "Scraping Progress:  17%|█▋        | 1405/8402 [45:49<3:28:50,  1.79s/it]"
     ]
    },
    {
     "name": "stdout",
     "output_type": "stream",
     "text": [
      "Successfully fetched: https://www.bleedingcool.com/2018/11/29/bc-figure-history-thursday-spider-gwen/\n"
     ]
    },
    {
     "name": "stderr",
     "output_type": "stream",
     "text": [
      "Scraping Progress:  17%|█▋        | 1406/8402 [45:50<3:10:52,  1.64s/it]"
     ]
    },
    {
     "name": "stdout",
     "output_type": "stream",
     "text": [
      "Cannot fetch https://www.alternet.org/news-amp-politics/spectacular-failure-msnbcs-rachel-maddow-apologizes-her-strong-language-denouncing, HTTP error: 404 Client Error: Not Found for url: https://www.alternet.org/news-amp-politics/spectacular-failure-msnbcs-rachel-maddow-apologizes-her-strong-language-denouncing\n"
     ]
    },
    {
     "name": "stderr",
     "output_type": "stream",
     "text": [
      "Scraping Progress:  17%|█▋        | 1407/8402 [45:51<2:58:17,  1.53s/it]"
     ]
    },
    {
     "name": "stdout",
     "output_type": "stream",
     "text": [
      "Successfully fetched: https://www.jpost.com/Middle-East/Behind-the-Lines-The-Syrian-sideshow-596132\n"
     ]
    },
    {
     "name": "stderr",
     "output_type": "stream",
     "text": [
      "Scraping Progress:  17%|█▋        | 1408/8402 [45:53<2:49:27,  1.45s/it]"
     ]
    },
    {
     "name": "stdout",
     "output_type": "stream",
     "text": [
      "Successfully fetched: https://www.bostonglobe.com/arts/2019/03/14/bill-griffith-real-person-behind-zippy/gU1ZdDGvC8RtUWN9RwA2RJ/story.html\n"
     ]
    },
    {
     "name": "stderr",
     "output_type": "stream",
     "text": [
      "Scraping Progress:  17%|█▋        | 1409/8402 [45:55<3:24:27,  1.75s/it]"
     ]
    },
    {
     "name": "stdout",
     "output_type": "stream",
     "text": [
      "Cannot fetch https://www.nationalreview.com/news/graham-joins-other-senate-republicans-in-not-watching-un-american-impeachment/, HTTP error: 403 Client Error: Forbidden for url: https://www.nationalreview.com/news/graham-joins-other-senate-republicans-in-not-watching-un-american-impeachment/\n"
     ]
    },
    {
     "name": "stderr",
     "output_type": "stream",
     "text": [
      "Scraping Progress:  17%|█▋        | 1410/8402 [45:56<3:03:51,  1.58s/it]"
     ]
    },
    {
     "name": "stdout",
     "output_type": "stream",
     "text": [
      "Successfully fetched: https://bleacherreport.com/articles/2780937-plan-to-make-lamar-jackson-a-gimmick-qb-sure-to-fail-ravens-and-jackson-too\n"
     ]
    },
    {
     "name": "stderr",
     "output_type": "stream",
     "text": [
      "Scraping Progress:  17%|█▋        | 1411/8402 [45:58<3:00:15,  1.55s/it]"
     ]
    },
    {
     "name": "stdout",
     "output_type": "stream",
     "text": [
      "Cannot fetch https://tv.avclub.com/you-know-who-wouldve-done-a-better-interview-with-the-m-1832057272, HTTP error: 404 Client Error: Not Found for url: https://tv.avclub.com/you-know-who-wouldve-done-a-better-interview-with-the-m-1832057272\n"
     ]
    },
    {
     "name": "stderr",
     "output_type": "stream",
     "text": [
      "Scraping Progress:  17%|█▋        | 1412/8402 [45:59<2:47:03,  1.43s/it]"
     ]
    },
    {
     "name": "stdout",
     "output_type": "stream",
     "text": [
      "Cannot fetch https://film.avclub.com/eva-green-brings-wild-adult-energy-to-the-maligned-late-1833475860, error: HTTPSConnectionPool(host='film.avclub.com', port=443): Max retries exceeded with url: /eva-green-brings-wild-adult-energy-to-the-maligned-late-1833475860 (Caused by NewConnectionError('<urllib3.connection.HTTPSConnection object at 0x116b615d0>: Failed to establish a new connection: [Errno 8] nodename nor servname provided, or not known'))\n"
     ]
    },
    {
     "name": "stderr",
     "output_type": "stream",
     "text": [
      "Scraping Progress:  17%|█▋        | 1413/8402 [46:00<2:43:08,  1.40s/it]"
     ]
    },
    {
     "name": "stdout",
     "output_type": "stream",
     "text": [
      "Cannot fetch https://www.realclearpolitics.com/2019/10/08/the_biden_story_is_more_pathetic_than_nefarious_488599.html, HTTP error: 403 Client Error: HTTP Forbidden for url: https://www.realclearpolitics.com/2019/10/08/the_biden_story_is_more_pathetic_than_nefarious_488599.html\n"
     ]
    },
    {
     "name": "stderr",
     "output_type": "stream",
     "text": [
      "Scraping Progress:  17%|█▋        | 1414/8402 [46:01<2:34:42,  1.33s/it]"
     ]
    },
    {
     "name": "stdout",
     "output_type": "stream",
     "text": [
      "Successfully fetched: https://filmschoolrejects.com/marvel-movie-marathon/\n"
     ]
    },
    {
     "name": "stderr",
     "output_type": "stream",
     "text": [
      "Scraping Progress:  17%|█▋        | 1415/8402 [46:02<2:30:44,  1.29s/it]"
     ]
    },
    {
     "name": "stdout",
     "output_type": "stream",
     "text": [
      "Cannot fetch https://tv.avclub.com/6-episodes-in-true-detective-digs-into-story-but-squan-1832511296, HTTP error: 404 Client Error: Not Found for url: https://tv.avclub.com/6-episodes-in-true-detective-digs-into-story-but-squan-1832511296\n"
     ]
    },
    {
     "name": "stderr",
     "output_type": "stream",
     "text": [
      "Scraping Progress:  17%|█▋        | 1416/8402 [46:04<2:27:06,  1.26s/it]"
     ]
    },
    {
     "name": "stdout",
     "output_type": "stream",
     "text": [
      "Successfully fetched: https://indianexpress.com/article/world/former-trump-campaign-chairman-paul-manafort-guilty-on-8-charges/\n"
     ]
    },
    {
     "name": "stderr",
     "output_type": "stream",
     "text": [
      "Scraping Progress:  17%|█▋        | 1417/8402 [46:06<2:55:51,  1.51s/it]"
     ]
    },
    {
     "name": "stdout",
     "output_type": "stream",
     "text": [
      "Successfully fetched: https://www.slashfilm.com/star-wars-bits-san-diego-comic-con-goes-star-wars-crazy-palpatine-killed-and-rogue-one-writer-reveals-secrets/\n"
     ]
    },
    {
     "name": "stderr",
     "output_type": "stream",
     "text": [
      "Scraping Progress:  17%|█▋        | 1418/8402 [46:07<2:43:57,  1.41s/it]"
     ]
    },
    {
     "name": "stdout",
     "output_type": "stream",
     "text": [
      "Successfully fetched: http://www.thehindu.com/news/national/telangana/nirmala-interacts-with-dak-sevaks/article24124507.ece\n"
     ]
    },
    {
     "name": "stderr",
     "output_type": "stream",
     "text": [
      "Scraping Progress:  17%|█▋        | 1419/8402 [46:09<3:03:48,  1.58s/it]"
     ]
    },
    {
     "name": "stdout",
     "output_type": "stream",
     "text": [
      "Successfully fetched: https://www.cnbc.com/2018/11/15/at-un-climate-talks-trump-team-plans-sideshow-on-coal.html\n"
     ]
    },
    {
     "name": "stderr",
     "output_type": "stream",
     "text": [
      "Scraping Progress:  17%|█▋        | 1420/8402 [46:11<3:23:23,  1.75s/it]"
     ]
    },
    {
     "name": "stdout",
     "output_type": "stream",
     "text": [
      "Successfully fetched: https://filmschoolrejects.com/jared-leto-doubles-up-on-comic-book-villains-with-morbius/\n"
     ]
    },
    {
     "name": "stderr",
     "output_type": "stream",
     "text": [
      "Scraping Progress:  17%|█▋        | 1421/8402 [46:12<3:11:38,  1.65s/it]"
     ]
    },
    {
     "name": "stdout",
     "output_type": "stream",
     "text": [
      "Successfully fetched: https://technabob.com/blog/2018/07/23/hot-toys-darth-vader-special-edition-1-4-scale-figure/\n"
     ]
    },
    {
     "name": "stderr",
     "output_type": "stream",
     "text": [
      "Scraping Progress:  17%|█▋        | 1422/8402 [46:14<3:08:15,  1.62s/it]"
     ]
    },
    {
     "name": "stdout",
     "output_type": "stream",
     "text": [
      "Successfully fetched: https://www.hodinkee.com/articles/goodwood-festival-of-speed-2019-photo-report\n"
     ]
    },
    {
     "name": "stderr",
     "output_type": "stream",
     "text": [
      "Scraping Progress:  17%|█▋        | 1423/8402 [46:16<3:04:52,  1.59s/it]"
     ]
    },
    {
     "name": "stdout",
     "output_type": "stream",
     "text": [
      "Cannot fetch http://www.bostonherald.com/entertainment/television/2018/01/men_a_sideshow_at_a_golden_globes_that_celebrated_women, HTTP error: 404 Client Error: Not Found for url: https://www.bostonherald.com/entertainment/television/2018/01/men_a_sideshow_at_a_golden_globes_that_celebrated_women\n"
     ]
    },
    {
     "name": "stderr",
     "output_type": "stream",
     "text": [
      "Scraping Progress:  17%|█▋        | 1424/8402 [46:17<3:00:31,  1.55s/it]"
     ]
    },
    {
     "name": "stdout",
     "output_type": "stream",
     "text": [
      "Cannot fetch https://www.macleans.ca/politics/ottawa/justin-trudeau-and-the-antiracism-trap/, HTTP error: 403 Client Error: Forbidden for url: https://www.macleans.ca/politics/ottawa/justin-trudeau-and-the-antiracism-trap/\n"
     ]
    },
    {
     "name": "stderr",
     "output_type": "stream",
     "text": [
      "Scraping Progress:  17%|█▋        | 1425/8402 [46:18<2:46:19,  1.43s/it]"
     ]
    },
    {
     "name": "stdout",
     "output_type": "stream",
     "text": [
      "Successfully fetched: https://www.bostonglobe.com/arts/2018/01/08/golden-globes-that-celebrated-women-men-were-sideshow/O1qZUjnhEPvrfU0U7adnHL/story.html\n"
     ]
    },
    {
     "name": "stderr",
     "output_type": "stream",
     "text": [
      "Scraping Progress:  17%|█▋        | 1426/8402 [46:20<3:08:46,  1.62s/it]"
     ]
    },
    {
     "name": "stdout",
     "output_type": "stream",
     "text": [
      "Cannot fetch http://www.syfy.com/syfywire/agent-m-teases-marvels-upcoming-projects-and-looks-back-on-the-mcu-explosion, HTTP error: 404 Client Error: Not Found for url: https://www.syfy.com/syfy-wire/agent-m-teases-marvels-upcoming-projects-and-looks-back-on-the-mcu-explosion\n"
     ]
    },
    {
     "name": "stderr",
     "output_type": "stream",
     "text": [
      "Scraping Progress:  17%|█▋        | 1427/8402 [46:23<3:35:02,  1.85s/it]"
     ]
    },
    {
     "name": "stdout",
     "output_type": "stream",
     "text": [
      "Successfully fetched: https://www.mediagazer.com/180102/p9\n"
     ]
    },
    {
     "name": "stderr",
     "output_type": "stream",
     "text": [
      "Scraping Progress:  17%|█▋        | 1428/8402 [46:24<3:27:52,  1.79s/it]"
     ]
    },
    {
     "name": "stdout",
     "output_type": "stream",
     "text": [
      "Successfully fetched: https://www.cbr.com/life-size-terminator-replicas/\n"
     ]
    },
    {
     "name": "stderr",
     "output_type": "stream",
     "text": [
      "Scraping Progress:  17%|█▋        | 1429/8402 [46:26<3:12:27,  1.66s/it]"
     ]
    },
    {
     "name": "stdout",
     "output_type": "stream",
     "text": [
      "Successfully fetched: http://www.espn.com/chalk/story/_/id/22543343/nba-how-las-vegas-bookmakers-approaching-second-half-tanking\n"
     ]
    },
    {
     "name": "stderr",
     "output_type": "stream",
     "text": [
      "Scraping Progress:  17%|█▋        | 1430/8402 [46:27<3:13:19,  1.66s/it]"
     ]
    },
    {
     "name": "stdout",
     "output_type": "stream",
     "text": [
      "Successfully fetched: http://www.egotastic.com/russian-glamour-model-anastasiya-kvitko-displays-her-outrageous-bikini-curves/\n"
     ]
    },
    {
     "name": "stderr",
     "output_type": "stream",
     "text": [
      "Scraping Progress:  17%|█▋        | 1431/8402 [46:33<5:48:07,  3.00s/it]"
     ]
    },
    {
     "name": "stdout",
     "output_type": "stream",
     "text": [
      "Successfully fetched: http://leganerd.com/2018/08/30/batman-statue-by-sideshow-prime-1-studio/\n"
     ]
    },
    {
     "name": "stderr",
     "output_type": "stream",
     "text": [
      "Scraping Progress:  17%|█▋        | 1432/8402 [46:35<5:00:41,  2.59s/it]"
     ]
    },
    {
     "name": "stdout",
     "output_type": "stream",
     "text": [
      "Successfully fetched: https://www.ozbargain.com.au/node/470820\n"
     ]
    },
    {
     "name": "stderr",
     "output_type": "stream",
     "text": [
      "Scraping Progress:  17%|█▋        | 1433/8402 [46:37<4:47:07,  2.47s/it]"
     ]
    },
    {
     "name": "stdout",
     "output_type": "stream",
     "text": [
      "Successfully fetched: https://www.tomshw.it/culturapop/san-diego-comic-con-gadget/\n"
     ]
    },
    {
     "name": "stderr",
     "output_type": "stream",
     "text": [
      "Scraping Progress:  17%|█▋        | 1434/8402 [46:39<4:19:53,  2.24s/it]"
     ]
    },
    {
     "name": "stdout",
     "output_type": "stream",
     "text": [
      "Successfully fetched: https://news.yahoo.com/trial-longtime-trump-adviser-roger-181810725.html\n"
     ]
    },
    {
     "name": "stderr",
     "output_type": "stream",
     "text": [
      "Scraping Progress:  17%|█▋        | 1435/8402 [46:41<4:05:56,  2.12s/it]"
     ]
    },
    {
     "name": "stdout",
     "output_type": "stream",
     "text": [
      "Cannot fetch https://www.ozy.com/flashback/that-time-the-king-of-the-streets-tussled-with-a-polar-bear/94574, HTTP error: 404 Client Error: Not Found for url: https://www.ozy.com/flashback/that-time-the-king-of-the-streets-tussled-with-a-polar-bear/94574\n"
     ]
    },
    {
     "name": "stderr",
     "output_type": "stream",
     "text": [
      "Scraping Progress:  17%|█▋        | 1436/8402 [46:42<3:34:20,  1.85s/it]"
     ]
    },
    {
     "name": "stdout",
     "output_type": "stream",
     "text": [
      "Cannot fetch https://thebiglead.com/2019/06/20/jaxson-hayes-sideshow-bob/, HTTP error: 410 Client Error: Gone for url: https://www.thebiglead.com/2019/06/20/jaxson-hayes-sideshow-bob/\n"
     ]
    },
    {
     "name": "stderr",
     "output_type": "stream",
     "text": [
      "Scraping Progress:  17%|█▋        | 1437/8402 [46:44<3:48:26,  1.97s/it]"
     ]
    },
    {
     "name": "stdout",
     "output_type": "stream",
     "text": [
      "Cannot fetch https://news.marvel.com/gear-toys/87247/the-design-elements-at-work-in-sideshow-collectibles-daredevil-sixth-scale-figure/?utm_campaign=rss_feeds&utm_source=headline_news&utm_medium=rss&utm_content=story-87247&, HTTP error: 503 Server Error: Service Unavailable for url: https://news.marvel.com/gear-toys/87247/the-design-elements-at-work-in-sideshow-collectibles-daredevil-sixth-scale-figure/?utm_campaign=rss_feeds&utm_source=headline_news&utm_medium=rss&utm_content=story-87247&\n"
     ]
    },
    {
     "name": "stderr",
     "output_type": "stream",
     "text": [
      "Scraping Progress:  17%|█▋        | 1438/8402 [46:45<3:24:50,  1.76s/it]"
     ]
    },
    {
     "name": "stdout",
     "output_type": "stream",
     "text": [
      "Successfully fetched: https://profootballtalk.nbcsports.com/2019/09/29/odell-beckham-marlon-humphrey-get-into-it-as-jarvis-landry-stars/\n"
     ]
    },
    {
     "name": "stderr",
     "output_type": "stream",
     "text": [
      "Scraping Progress:  17%|█▋        | 1439/8402 [46:48<3:36:07,  1.86s/it]"
     ]
    },
    {
     "name": "stdout",
     "output_type": "stream",
     "text": [
      "Successfully fetched: https://www.thedailybeast.com/trump-has-no-plan-for-michael-avenatti\n"
     ]
    },
    {
     "name": "stderr",
     "output_type": "stream",
     "text": [
      "Scraping Progress:  17%|█▋        | 1440/8402 [46:50<3:53:29,  2.01s/it]"
     ]
    },
    {
     "name": "stdout",
     "output_type": "stream",
     "text": [
      "Cannot fetch https://www.si.com/college-football/2018/12/31/arizona-state-herm-edwards-coaches-film-room-playoff-alabama-oklahoma, HTTP error: 404 Client Error: Not Found for url: https://www.si.com/college-football/2018/12/31/arizona-state-herm-edwards-coaches-film-room-playoff-alabama-oklahoma\n"
     ]
    },
    {
     "name": "stderr",
     "output_type": "stream",
     "text": [
      "Scraping Progress:  17%|█▋        | 1441/8402 [46:51<3:33:13,  1.84s/it]"
     ]
    },
    {
     "name": "stdout",
     "output_type": "stream",
     "text": [
      "Cannot fetch https://www.ozy.com/good-sht/get-creeped-out-and-freaked-out-at-this-oddities-expo/96048, HTTP error: 404 Client Error: Not Found for url: https://www.ozy.com/good-sht/get-creeped-out-and-freaked-out-at-this-oddities-expo/96048\n"
     ]
    },
    {
     "name": "stderr",
     "output_type": "stream",
     "text": [
      "Scraping Progress:  17%|█▋        | 1442/8402 [46:53<3:11:14,  1.65s/it]"
     ]
    },
    {
     "name": "stdout",
     "output_type": "stream",
     "text": [
      "Successfully fetched: https://pitchfork.com/reviews/albums/cate-le-bon-bradford-cox-myths-004/\n"
     ]
    },
    {
     "name": "stderr",
     "output_type": "stream",
     "text": [
      "Scraping Progress:  17%|█▋        | 1443/8402 [46:56<4:21:20,  2.25s/it]"
     ]
    },
    {
     "name": "stdout",
     "output_type": "stream",
     "text": [
      "Cannot fetch https://cleantechnica.com/2018/02/01/pentagon-half-us-military-sites-threatened-climate-change/, HTTP error: 403 Client Error: Forbidden for url: https://cleantechnica.com/2018/02/01/pentagon-half-us-military-sites-threatened-climate-change/\n"
     ]
    },
    {
     "name": "stderr",
     "output_type": "stream",
     "text": [
      "Scraping Progress:  17%|█▋        | 1444/8402 [46:58<3:55:55,  2.03s/it]"
     ]
    },
    {
     "name": "stdout",
     "output_type": "stream",
     "text": [
      "Successfully fetched: https://www.cnn.com/2019/10/29/politics/ted-yoho-impeachment-depositions-cnntv/index.html\n"
     ]
    },
    {
     "name": "stderr",
     "output_type": "stream",
     "text": [
      "Scraping Progress:  17%|█▋        | 1445/8402 [47:00<4:10:57,  2.16s/it]"
     ]
    },
    {
     "name": "stdout",
     "output_type": "stream",
     "text": [
      "Successfully fetched: https://www.ajc.com/news/local/former-candidate-for-governor-indicted/mFyt65azxuJhQPu5ANuRbJ/\n"
     ]
    },
    {
     "name": "stderr",
     "output_type": "stream",
     "text": [
      "Scraping Progress:  17%|█▋        | 1446/8402 [47:03<4:25:26,  2.29s/it]"
     ]
    },
    {
     "name": "stdout",
     "output_type": "stream",
     "text": [
      "Successfully fetched: https://www.gizmodo.com.au/2018/05/area-man-obscure-sidekick-asked-to-leave-google-fibers-austin-office-by-the-police/\n"
     ]
    },
    {
     "name": "stderr",
     "output_type": "stream",
     "text": [
      "Scraping Progress:  17%|█▋        | 1447/8402 [47:05<4:11:16,  2.17s/it]"
     ]
    },
    {
     "name": "stdout",
     "output_type": "stream",
     "text": [
      "Successfully fetched: https://2dopeboyz.com/2019/09/27/lndn-drgs-affiliated-album-stream/\n"
     ]
    },
    {
     "name": "stderr",
     "output_type": "stream",
     "text": [
      "Scraping Progress:  17%|█▋        | 1448/8402 [47:06<3:52:32,  2.01s/it]"
     ]
    },
    {
     "name": "stdout",
     "output_type": "stream",
     "text": [
      "Successfully fetched: http://www.cineblog.it/post/899858/essi-vivono-film-nuove-action-figures-neca-alieni\n"
     ]
    },
    {
     "name": "stderr",
     "output_type": "stream",
     "text": [
      "Scraping Progress:  17%|█▋        | 1449/8402 [47:09<4:28:52,  2.32s/it]"
     ]
    },
    {
     "name": "stdout",
     "output_type": "stream",
     "text": [
      "Successfully fetched: https://www.wallpaper.com/lifestyle/the-best-ice-cream-parlous-around-the-world-for-design-lovers-2018\n"
     ]
    },
    {
     "name": "stderr",
     "output_type": "stream",
     "text": [
      "Scraping Progress:  17%|█▋        | 1450/8402 [47:11<3:58:45,  2.06s/it]"
     ]
    },
    {
     "name": "stdout",
     "output_type": "stream",
     "text": [
      "Cannot fetch https://news.marvel.com/gear-toys/88279/cap-gets-tactical-in-sideshow-collectibles-new-captain-america-premium-format-figure/?utm_campaign=rss_feeds&utm_source=headline_news&utm_medium=rss&utm_content=story-88279&, HTTP error: 503 Server Error: Service Unavailable for url: https://news.marvel.com/gear-toys/88279/cap-gets-tactical-in-sideshow-collectibles-new-captain-america-premium-format-figure/?utm_campaign=rss_feeds&utm_source=headline_news&utm_medium=rss&utm_content=story-88279&\n"
     ]
    },
    {
     "name": "stderr",
     "output_type": "stream",
     "text": [
      "Scraping Progress:  17%|█▋        | 1451/8402 [47:12<3:34:32,  1.85s/it]"
     ]
    },
    {
     "name": "stdout",
     "output_type": "stream",
     "text": [
      "Successfully fetched: https://www.insidehighered.com/news/2018/05/03/tennessee-chancellor-dismissed-abruptly-president-cites-poor-performance\n"
     ]
    },
    {
     "name": "stderr",
     "output_type": "stream",
     "text": [
      "Scraping Progress:  17%|█▋        | 1452/8402 [47:15<3:53:52,  2.02s/it]"
     ]
    },
    {
     "name": "stdout",
     "output_type": "stream",
     "text": [
      "Successfully fetched: https://www.salon.com/2019/05/02/candidates-feeding-frenzy-2020-democrats-all-want-a-piece-of-bill-barr/\n"
     ]
    },
    {
     "name": "stderr",
     "output_type": "stream",
     "text": [
      "Scraping Progress:  17%|█▋        | 1453/8402 [47:16<3:29:30,  1.81s/it]"
     ]
    },
    {
     "name": "stdout",
     "output_type": "stream",
     "text": [
      "Successfully fetched: https://www.gizmodo.com.au/2018/03/a-truly-amazingbatman-the-animated-seriesfigure-and-more-of-the-best-toys-of-the-week/\n"
     ]
    },
    {
     "name": "stderr",
     "output_type": "stream",
     "text": [
      "Scraping Progress:  17%|█▋        | 1454/8402 [47:18<3:23:56,  1.76s/it]"
     ]
    },
    {
     "name": "stdout",
     "output_type": "stream",
     "text": [
      "Successfully fetched: http://www.playstationlifestyle.net/2018/07/30/spiderman-ps4-figure-sideshow/\n"
     ]
    },
    {
     "name": "stderr",
     "output_type": "stream",
     "text": [
      "Scraping Progress:  17%|█▋        | 1455/8402 [47:19<3:12:10,  1.66s/it]"
     ]
    },
    {
     "name": "stdout",
     "output_type": "stream",
     "text": [
      "Cannot fetch https://www.reuters.com/article/us-mexico-election-corral/vowing-anti-graft-revolution-mexican-governor-shakes-election-idUSKBN1F912F, HTTP error: 401 Client Error: HTTP Forbidden for url: https://www.reuters.com/article/us-mexico-election-corral/vowing-anti-graft-revolution-mexican-governor-shakes-election-idUSKBN1F912F\n"
     ]
    },
    {
     "name": "stderr",
     "output_type": "stream",
     "text": [
      "Scraping Progress:  17%|█▋        | 1456/8402 [47:20<2:54:45,  1.51s/it]"
     ]
    },
    {
     "name": "stdout",
     "output_type": "stream",
     "text": [
      "Successfully fetched: https://www.stereogum.com/1990550/damaged-city-proves-just-how-not-dead-hardcore-is/franchises/sounding-board/\n"
     ]
    },
    {
     "name": "stderr",
     "output_type": "stream",
     "text": [
      "Scraping Progress:  17%|█▋        | 1457/8402 [47:23<3:42:17,  1.92s/it]"
     ]
    },
    {
     "name": "stdout",
     "output_type": "stream",
     "text": [
      "Successfully fetched: http://www.davidbordwell.net/blog/2018/06/19/the-pawns/\n"
     ]
    },
    {
     "name": "stderr",
     "output_type": "stream",
     "text": [
      "Scraping Progress:  17%|█▋        | 1458/8402 [47:25<3:29:14,  1.81s/it]"
     ]
    },
    {
     "name": "stdout",
     "output_type": "stream",
     "text": [
      "Successfully fetched: http://therumpus.net/2018/04/what-to-read-when-you-want-to-run-away-with-the-circus/\n"
     ]
    },
    {
     "name": "stderr",
     "output_type": "stream",
     "text": [
      "Scraping Progress:  17%|█▋        | 1459/8402 [47:27<4:02:56,  2.10s/it]"
     ]
    },
    {
     "name": "stdout",
     "output_type": "stream",
     "text": [
      "Successfully fetched: https://www.demilked.com/fake-doctor-saves-premature-babies-martin-couney/\n"
     ]
    },
    {
     "name": "stderr",
     "output_type": "stream",
     "text": [
      "Scraping Progress:  17%|█▋        | 1460/8402 [47:29<3:42:05,  1.92s/it]"
     ]
    },
    {
     "name": "stdout",
     "output_type": "stream",
     "text": [
      "Successfully fetched: http://www.comicsbeat.com/indie-view-from-monkeys-and-men-to-myths/\n"
     ]
    },
    {
     "name": "stderr",
     "output_type": "stream",
     "text": [
      "Scraping Progress:  17%|█▋        | 1461/8402 [47:32<4:33:05,  2.36s/it]"
     ]
    },
    {
     "name": "stdout",
     "output_type": "stream",
     "text": [
      "Cannot fetch https://www.washingtonpost.com/news/worldviews/wp/2018/06/01/south-koreas-military-just-wants-a-golf-course-but-nothing-is-easy-ahead-of-the-trump-kim-summit/, connection timed out.\n"
     ]
    },
    {
     "name": "stderr",
     "output_type": "stream",
     "text": [
      "Scraping Progress:  17%|█▋        | 1462/8402 [47:43<9:36:05,  4.98s/it]"
     ]
    },
    {
     "name": "stdout",
     "output_type": "stream",
     "text": [
      "Cannot fetch https://www.ozbargain.com.au/node/394206, HTTP error: 403 Client Error: Forbidden for url: https://www.ozbargain.com.au/node/394206\n"
     ]
    },
    {
     "name": "stderr",
     "output_type": "stream",
     "text": [
      "Scraping Progress:  17%|█▋        | 1463/8402 [47:45<7:44:29,  4.02s/it]"
     ]
    },
    {
     "name": "stdout",
     "output_type": "stream",
     "text": [
      "Successfully fetched: https://www.gq.com/story/the-flat-world-of-kyrie-irving\n"
     ]
    },
    {
     "name": "stderr",
     "output_type": "stream",
     "text": [
      "Scraping Progress:  17%|█▋        | 1464/8402 [47:48<6:52:36,  3.57s/it]"
     ]
    },
    {
     "name": "stdout",
     "output_type": "stream",
     "text": [
      "Successfully fetched: https://www.gamespot.com/articles/comic-con-2018-the-purge-tv-show-trailer-sets-up-a/1100-6460636/\n"
     ]
    },
    {
     "name": "stderr",
     "output_type": "stream",
     "text": [
      "Scraping Progress:  17%|█▋        | 1465/8402 [47:50<5:59:01,  3.11s/it]"
     ]
    },
    {
     "name": "stdout",
     "output_type": "stream",
     "text": [
      "Successfully fetched: https://www.gamespot.com/articles/comic-con-2018-supergirl-season-4-trailer-reveals-/1100-6460638/\n"
     ]
    },
    {
     "name": "stderr",
     "output_type": "stream",
     "text": [
      "Scraping Progress:  17%|█▋        | 1466/8402 [47:52<5:22:36,  2.79s/it]"
     ]
    },
    {
     "name": "stdout",
     "output_type": "stream",
     "text": [
      "Successfully fetched: https://www.nrc.nl/nieuws/2018/04/16/full-metal-jacket-acteur-r-lee-ermey-74-overleden-a1599584\n"
     ]
    },
    {
     "name": "stderr",
     "output_type": "stream",
     "text": [
      "Scraping Progress:  17%|█▋        | 1467/8402 [47:53<4:46:33,  2.48s/it]"
     ]
    },
    {
     "name": "stdout",
     "output_type": "stream",
     "text": [
      "Successfully fetched: http://www.indiewire.com/2018/03/westworld-season-2-easter-eggs-sxsw-samurai-1201937482/\n"
     ]
    },
    {
     "name": "stderr",
     "output_type": "stream",
     "text": [
      "Scraping Progress:  17%|█▋        | 1468/8402 [47:56<4:37:16,  2.40s/it]"
     ]
    },
    {
     "name": "stdout",
     "output_type": "stream",
     "text": [
      "Successfully fetched: https://www.rawstory.com/2018/07/farcical-strzok-hearing-exposed-republicans-absolute-trump-defending-worst/\n"
     ]
    },
    {
     "name": "stderr",
     "output_type": "stream",
     "text": [
      "Scraping Progress:  17%|█▋        | 1469/8402 [47:57<3:58:48,  2.07s/it]"
     ]
    },
    {
     "name": "stdout",
     "output_type": "stream",
     "text": [
      "Cannot fetch https://jezebel.com/a-plant-mom-grows-in-brooklyn-1825692659, HTTP error: 403 Client Error: Forbidden for url: https://www.jezebel.com/a-plant-mom-grows-in-brooklyn-1825692659\n"
     ]
    },
    {
     "name": "stderr",
     "output_type": "stream",
     "text": [
      "Scraping Progress:  17%|█▋        | 1470/8402 [47:59<3:44:13,  1.94s/it]"
     ]
    },
    {
     "name": "stdout",
     "output_type": "stream",
     "text": [
      "Successfully fetched: https://www.gamespot.com/articles/comic-con-2018-legacies-the-new-vampire-diaries-sp/1100-6460632/\n"
     ]
    },
    {
     "name": "stderr",
     "output_type": "stream",
     "text": [
      "Scraping Progress:  18%|█▊        | 1471/8402 [48:01<3:44:28,  1.94s/it]"
     ]
    },
    {
     "name": "stdout",
     "output_type": "stream",
     "text": [
      "Successfully fetched: https://www.gamespot.com/articles/comic-con-2018-new-show-gets-trailer-comes-to-netf/1100-6460641/\n"
     ]
    },
    {
     "name": "stderr",
     "output_type": "stream",
     "text": [
      "Scraping Progress:  18%|█▊        | 1472/8402 [48:03<3:54:00,  2.03s/it]"
     ]
    },
    {
     "name": "stdout",
     "output_type": "stream",
     "text": [
      "Successfully fetched: http://www.fosspatents.com/2019/02/qualcomm-surprisingly-enlists-americas.html\n"
     ]
    },
    {
     "name": "stderr",
     "output_type": "stream",
     "text": [
      "Scraping Progress:  18%|█▊        | 1473/8402 [48:04<3:31:13,  1.83s/it]"
     ]
    },
    {
     "name": "stdout",
     "output_type": "stream",
     "text": [
      "Cannot fetch https://thinkprogress.org/carli-lloyd-is-not-a-stunt/, HTTP error: 403 Client Error: Forbidden for url: https://thinkprogress.org/carli-lloyd-is-not-a-stunt/\n"
     ]
    },
    {
     "name": "stderr",
     "output_type": "stream",
     "text": [
      "Scraping Progress:  18%|█▊        | 1474/8402 [48:05<3:10:11,  1.65s/it]"
     ]
    },
    {
     "name": "stdout",
     "output_type": "stream",
     "text": [
      "Successfully fetched: https://www.gizmodo.com.au/2018/02/an-incredible-black-panther-steps-into-the-spotlight-and-more-of-the-best-toys-of-the-week/\n"
     ]
    },
    {
     "name": "stderr",
     "output_type": "stream",
     "text": [
      "Scraping Progress:  18%|█▊        | 1475/8402 [48:07<3:09:19,  1.64s/it]"
     ]
    },
    {
     "name": "stdout",
     "output_type": "stream",
     "text": [
      "Cannot fetch http://www.sfgate.com/bayarea/article/townhouse-fire-santa-clara-man-dies-cardiac-arrest-12531752.php, HTTP error: 403 Client Error: Forbidden for url: https://www.sfgate.com/bayarea/article/townhouse-fire-santa-clara-man-dies-cardiac-arrest-12531752.php\n"
     ]
    },
    {
     "name": "stderr",
     "output_type": "stream",
     "text": [
      "Scraping Progress:  18%|█▊        | 1476/8402 [48:08<2:55:27,  1.52s/it]"
     ]
    },
    {
     "name": "stdout",
     "output_type": "stream",
     "text": [
      "Successfully fetched: https://www.nakedcapitalism.com/2018/01/links-12118.html\n"
     ]
    },
    {
     "name": "stderr",
     "output_type": "stream",
     "text": [
      "Scraping Progress:  18%|█▊        | 1477/8402 [48:11<3:44:14,  1.94s/it]"
     ]
    },
    {
     "name": "stdout",
     "output_type": "stream",
     "text": [
      "Successfully fetched: https://thinkprogress.org/carli-lloyd-is-not-a-stunt-679ada2fd6ba/\n"
     ]
    },
    {
     "name": "stderr",
     "output_type": "stream",
     "text": [
      "Scraping Progress:  18%|█▊        | 1478/8402 [48:12<3:15:49,  1.70s/it]"
     ]
    },
    {
     "name": "stdout",
     "output_type": "stream",
     "text": [
      "Cannot fetch http://plixid.com/2018/07/06/sideshow-cinema-palace-2018-mp3/?utm_source=feedburner&utm_medium=feed&utm_campaign=Feed%3A+PlixidMusic+%28Plixid.com+%7C+Bringing+music+to+life%29, error: HTTPConnectionPool(host='plixid.com', port=80): Max retries exceeded with url: /2018/07/06/sideshow-cinema-palace-2018-mp3/?utm_source=feedburner&utm_medium=feed&utm_campaign=Feed%3A+PlixidMusic+%28Plixid.com+%7C+Bringing+music+to+life%29 (Caused by NewConnectionError('<urllib3.connection.HTTPConnection object at 0x1149fe350>: Failed to establish a new connection: [Errno 8] nodename nor servname provided, or not known'))\n"
     ]
    },
    {
     "name": "stderr",
     "output_type": "stream",
     "text": [
      "Scraping Progress:  18%|█▊        | 1479/8402 [48:13<2:55:26,  1.52s/it]"
     ]
    },
    {
     "name": "stdout",
     "output_type": "stream",
     "text": [
      "Successfully fetched: http://www.belloflostsouls.net/2018/11/toyland-new-joker-fig-from-sideshow-gets-the-last-laugh.html\n"
     ]
    },
    {
     "name": "stderr",
     "output_type": "stream",
     "text": [
      "Scraping Progress:  18%|█▊        | 1480/8402 [48:15<3:06:41,  1.62s/it]"
     ]
    },
    {
     "name": "stdout",
     "output_type": "stream",
     "text": [
      "Successfully fetched: https://finance.yahoo.com/news/republican-voters-done-tax-cuts-222512893.html\n"
     ]
    },
    {
     "name": "stderr",
     "output_type": "stream",
     "text": [
      "Scraping Progress:  18%|█▊        | 1481/8402 [48:17<3:12:31,  1.67s/it]"
     ]
    },
    {
     "name": "stdout",
     "output_type": "stream",
     "text": [
      "Successfully fetched: http://www.eurogamer.net/articles/2018-01-05-gran-turismo-sports-update-brings-back-the-game-you-thought-you-wanted\n"
     ]
    },
    {
     "name": "stderr",
     "output_type": "stream",
     "text": [
      "Scraping Progress:  18%|█▊        | 1482/8402 [48:19<3:22:06,  1.75s/it]"
     ]
    },
    {
     "name": "stdout",
     "output_type": "stream",
     "text": [
      "Successfully fetched: https://www.bleedingcool.com/2019/03/17/graham-crackers-comics-c2e2-bondage/\n"
     ]
    },
    {
     "name": "stderr",
     "output_type": "stream",
     "text": [
      "Scraping Progress:  18%|█▊        | 1483/8402 [48:20<3:07:28,  1.63s/it]"
     ]
    },
    {
     "name": "stdout",
     "output_type": "stream",
     "text": [
      "Successfully fetched: https://www.bleedingcool.com/2019/09/04/teenage-mutant-ninja-turtles-1980s-figures-return-with-gamestop/\n"
     ]
    },
    {
     "name": "stderr",
     "output_type": "stream",
     "text": [
      "Scraping Progress:  18%|█▊        | 1484/8402 [48:22<2:57:13,  1.54s/it]"
     ]
    },
    {
     "name": "stdout",
     "output_type": "stream",
     "text": [
      "Successfully fetched: https://www.gamespot.com/articles/comic-con-2018-netflixs-the-dragon-prince-anime-ge/1100-6460631/\n"
     ]
    },
    {
     "name": "stderr",
     "output_type": "stream",
     "text": [
      "Scraping Progress:  18%|█▊        | 1485/8402 [48:23<3:07:48,  1.63s/it]"
     ]
    },
    {
     "name": "stdout",
     "output_type": "stream",
     "text": [
      "Successfully fetched: https://www.gamespot.com/articles/comic-con-2018-arrow-season-7-trailer-oliver-is-li/1100-6460633/\n"
     ]
    },
    {
     "name": "stderr",
     "output_type": "stream",
     "text": [
      "Scraping Progress:  18%|█▊        | 1486/8402 [48:26<3:34:45,  1.86s/it]"
     ]
    },
    {
     "name": "stdout",
     "output_type": "stream",
     "text": [
      "Successfully fetched: http://www.playstationlifestyle.net/2018/06/12/e3-2018-killing-floor-2-update-the-summer-sideshow-announced/\n"
     ]
    },
    {
     "name": "stderr",
     "output_type": "stream",
     "text": [
      "Scraping Progress:  18%|█▊        | 1487/8402 [48:27<3:13:36,  1.68s/it]"
     ]
    },
    {
     "name": "stdout",
     "output_type": "stream",
     "text": [
      "Successfully fetched: https://www.fxstreet.com/news/forex-today-dollar-slides-from-new-trend-highs-at-934160-201805092335\n"
     ]
    },
    {
     "name": "stderr",
     "output_type": "stream",
     "text": [
      "Scraping Progress:  18%|█▊        | 1488/8402 [48:29<3:28:58,  1.81s/it]"
     ]
    },
    {
     "name": "stdout",
     "output_type": "stream",
     "text": [
      "Successfully fetched: https://www.bleedingcool.com/2019/07/19/sdcc-2019-40-pics-icon-heroes-and-3a-displays/\n"
     ]
    },
    {
     "name": "stderr",
     "output_type": "stream",
     "text": [
      "Scraping Progress:  18%|█▊        | 1489/8402 [48:31<3:10:13,  1.65s/it]"
     ]
    },
    {
     "name": "stdout",
     "output_type": "stream",
     "text": [
      "Successfully fetched: https://www.bleedingcool.com/2019/10/04/j-scott-campbell-gallery-to-open-in-new-york-tonight/\n"
     ]
    },
    {
     "name": "stderr",
     "output_type": "stream",
     "text": [
      "Scraping Progress:  18%|█▊        | 1490/8402 [48:32<2:56:05,  1.53s/it]"
     ]
    },
    {
     "name": "stdout",
     "output_type": "stream",
     "text": [
      "Cannot fetch https://www.pinkbike.com/news/full-highlights-video-leogang-world-cup-dh-2018.html, HTTP error: 403 Client Error: Forbidden for url: https://www.pinkbike.com/news/full-highlights-video-leogang-world-cup-dh-2018.html\n"
     ]
    },
    {
     "name": "stderr",
     "output_type": "stream",
     "text": [
      "Scraping Progress:  18%|█▊        | 1491/8402 [48:33<2:47:45,  1.46s/it]"
     ]
    },
    {
     "name": "stdout",
     "output_type": "stream",
     "text": [
      "Successfully fetched: http://www.madshrimps.be/news/item/178991?utm_source=feedburner&utm_medium=feed&utm_campaign=Feed%3A+madshrimps+%28Madshrimps+News+RSS+Feed%29\n"
     ]
    },
    {
     "name": "stderr",
     "output_type": "stream",
     "text": [
      "Scraping Progress:  18%|█▊        | 1492/8402 [48:35<2:59:04,  1.55s/it]"
     ]
    },
    {
     "name": "stdout",
     "output_type": "stream",
     "text": [
      "Successfully fetched: http://nymag.com/daily/intelligencer/2018/08/paul-manafort-trial-gates-says-he-and-manafort-broke-law.html\n"
     ]
    },
    {
     "name": "stderr",
     "output_type": "stream",
     "text": [
      "Scraping Progress:  18%|█▊        | 1493/8402 [48:37<3:28:47,  1.81s/it]"
     ]
    },
    {
     "name": "stdout",
     "output_type": "stream",
     "text": [
      "Successfully fetched: http://gothamist.com/2019/05/20/de_blasio_campaign_weekend.php\n"
     ]
    },
    {
     "name": "stderr",
     "output_type": "stream",
     "text": [
      "Scraping Progress:  18%|█▊        | 1494/8402 [48:39<3:20:11,  1.74s/it]"
     ]
    },
    {
     "name": "stdout",
     "output_type": "stream",
     "text": [
      "Successfully fetched: https://gothamist.com/2019/07/22/best_things_mid_july_2019.php\n"
     ]
    },
    {
     "name": "stderr",
     "output_type": "stream",
     "text": [
      "Scraping Progress:  18%|█▊        | 1496/8402 [48:43<3:31:00,  1.83s/it]"
     ]
    },
    {
     "name": "stdout",
     "output_type": "stream",
     "text": [
      "Successfully fetched: http://www.comicsbeat.com/looking-for-some-black-friday-deals-we-got-em-from-comixology-to-sideshow-and-more/\n"
     ]
    },
    {
     "name": "stderr",
     "output_type": "stream",
     "text": [
      "Scraping Progress:  18%|█▊        | 1497/8402 [48:46<4:16:16,  2.23s/it]"
     ]
    },
    {
     "name": "stdout",
     "output_type": "stream",
     "text": [
      "Successfully fetched: https://www.nakedcapitalism.com/2018/06/brexit-an-11th-hour-referendum-headfake-to-again-blame-the-eu-for-the-goverments-failings.html\n"
     ]
    },
    {
     "name": "stderr",
     "output_type": "stream",
     "text": [
      "Scraping Progress:  18%|█▊        | 1498/8402 [48:48<4:21:24,  2.27s/it]"
     ]
    },
    {
     "name": "stdout",
     "output_type": "stream",
     "text": [
      "Successfully fetched: http://flavorwire.com/615137/the-coen-brothers-ballad-of-buster-scruggs-is-a-wild-western-treat\n"
     ]
    },
    {
     "name": "stderr",
     "output_type": "stream",
     "text": [
      "Scraping Progress:  18%|█▊        | 1499/8402 [48:50<3:58:46,  2.08s/it]"
     ]
    },
    {
     "name": "stdout",
     "output_type": "stream",
     "text": [
      "Successfully fetched: https://www.businessinsider.com/tesla-stock-price-gigafactory-fremont-factory-toured-by-analyst-2019-3\n"
     ]
    },
    {
     "name": "stderr",
     "output_type": "stream",
     "text": [
      "Scraping Progress:  18%|█▊        | 1500/8402 [48:51<3:34:02,  1.86s/it]"
     ]
    },
    {
     "name": "stdout",
     "output_type": "stream",
     "text": [
      "Successfully fetched: https://www.gizmodo.com.au/2018/08/sideshows-imposing-doomsday-statue-is-ready-to-kill-every-superman-on-your-toy-shelf/\n"
     ]
    },
    {
     "name": "stderr",
     "output_type": "stream",
     "text": [
      "Scraping Progress:  18%|█▊        | 1501/8402 [48:53<3:27:46,  1.81s/it]"
     ]
    },
    {
     "name": "stdout",
     "output_type": "stream",
     "text": [
      "Cannot fetch https://www.ozbargain.com.au/node/394288, HTTP error: 403 Client Error: Forbidden for url: https://www.ozbargain.com.au/node/394288\n"
     ]
    },
    {
     "name": "stderr",
     "output_type": "stream",
     "text": [
      "Scraping Progress:  18%|█▊        | 1502/8402 [48:54<3:11:27,  1.66s/it]"
     ]
    },
    {
     "name": "stdout",
     "output_type": "stream",
     "text": [
      "Successfully fetched: https://variety.com/2019/film/awards/bafta-awards-are-more-relevant-to-americans-1203129458/\n"
     ]
    },
    {
     "name": "stderr",
     "output_type": "stream",
     "text": [
      "Scraping Progress:  18%|█▊        | 1503/8402 [48:56<3:30:37,  1.83s/it]"
     ]
    },
    {
     "name": "stdout",
     "output_type": "stream",
     "text": [
      "Successfully fetched: https://variety.com/2019/tv/reviews/the-politician-netflix-review-ben-platt-ryan-murphy-1203343878/\n"
     ]
    },
    {
     "name": "stderr",
     "output_type": "stream",
     "text": [
      "Scraping Progress:  18%|█▊        | 1504/8402 [48:58<3:28:13,  1.81s/it]"
     ]
    },
    {
     "name": "stdout",
     "output_type": "stream",
     "text": [
      "Successfully fetched: https://www.washingtonexaminer.com/news/congress/mcconnell-vows-senate-will-block-house-funding-bill-that-excludes-wall-money\n"
     ]
    },
    {
     "name": "stderr",
     "output_type": "stream",
     "text": [
      "Scraping Progress:  18%|█▊        | 1505/8402 [49:00<3:21:59,  1.76s/it]"
     ]
    },
    {
     "name": "stdout",
     "output_type": "stream",
     "text": [
      "Cannot fetch http://plixid.com/2018/10/08/scarecrow-sideshow-an-exit-strategy-2018-mp3/?utm_source=feedburner&utm_medium=feed&utm_campaign=Feed%3A+PlixidMusic+%28Plixid.com+%7C+Bringing+music+to+life%29, error: HTTPConnectionPool(host='plixid.com', port=80): Max retries exceeded with url: /2018/10/08/scarecrow-sideshow-an-exit-strategy-2018-mp3/?utm_source=feedburner&utm_medium=feed&utm_campaign=Feed%3A+PlixidMusic+%28Plixid.com+%7C+Bringing+music+to+life%29 (Caused by NewConnectionError('<urllib3.connection.HTTPConnection object at 0x1169d05d0>: Failed to establish a new connection: [Errno 8] nodename nor servname provided, or not known'))\n"
     ]
    },
    {
     "name": "stderr",
     "output_type": "stream",
     "text": [
      "Scraping Progress:  18%|█▊        | 1506/8402 [49:01<2:56:09,  1.53s/it]"
     ]
    },
    {
     "name": "stdout",
     "output_type": "stream",
     "text": [
      "Successfully fetched: http://www.disneyfoodblog.com/2019/12/18/the-big-top-treats-and-souvenirs-has-reopened-at-disney-worlds-storybook-circus/\n"
     ]
    },
    {
     "name": "stderr",
     "output_type": "stream",
     "text": [
      "Scraping Progress:  18%|█▊        | 1507/8402 [49:03<3:15:04,  1.70s/it]"
     ]
    },
    {
     "name": "stdout",
     "output_type": "stream",
     "text": [
      "Successfully fetched: https://mumbaimirror.indiatimes.com/opinion/columnists/supriya-nair/the-tie-that-binds/articleshow/65973387.cms\n"
     ]
    },
    {
     "name": "stderr",
     "output_type": "stream",
     "text": [
      "Scraping Progress:  18%|█▊        | 1508/8402 [49:05<3:35:05,  1.87s/it]"
     ]
    },
    {
     "name": "stdout",
     "output_type": "stream",
     "text": [
      "Successfully fetched: https://thefederalist.com/2019/10/14/net-neutrality-is-a-sideshow-to-big-techs-online-conversation-bans/\n"
     ]
    },
    {
     "name": "stderr",
     "output_type": "stream",
     "text": [
      "Scraping Progress:  18%|█▊        | 1509/8402 [49:07<3:27:47,  1.81s/it]"
     ]
    },
    {
     "name": "stdout",
     "output_type": "stream",
     "text": [
      "Cannot fetch https://www.fastcompany.com/90243247/kanye-west-tries-to-hijack-todays-news-with-the-trump-playbook?partner=feedburner&utm_source=feedburner&utm_medium=feed&utm_campaign=Feed%3A+fastcocreate%2Ffeed+%28Co.Create%29, HTTP error: 403 Client Error: Forbidden for url: https://www.fastcompany.com/90243247/kanye-west-tries-to-hijack-todays-news-with-the-trump-playbook?partner=feedburner&utm_source=feedburner&utm_medium=feed&utm_campaign=Feed%3A+fastcocreate%2Ffeed+%28Co.Create%29\n"
     ]
    },
    {
     "name": "stderr",
     "output_type": "stream",
     "text": [
      "Scraping Progress:  18%|█▊        | 1510/8402 [49:08<3:05:59,  1.62s/it]"
     ]
    },
    {
     "name": "stdout",
     "output_type": "stream",
     "text": [
      "Successfully fetched: https://www.thestranger.com/slog/2018/04/30/26113965/anyone-complaining-about-michelle-wolfs-very-funny-whca-monologue\n"
     ]
    },
    {
     "name": "stderr",
     "output_type": "stream",
     "text": [
      "Scraping Progress:  18%|█▊        | 1511/8402 [49:16<6:32:45,  3.42s/it]"
     ]
    },
    {
     "name": "stdout",
     "output_type": "stream",
     "text": [
      "Cannot fetch https://disneyparks.disney.go.com/blog/2018/11/the-countdown-is-underway-for-mickey-minnies-surprise-celebration-at-magic-kingdom-park/, error: HTTPSConnectionPool(host='disneyparks.disney.go.com', port=443): Max retries exceeded with url: /blog/2018/11/the-countdown-is-underway-for-mickey-minnies-surprise-celebration-at-magic-kingdom-park/ (Caused by SSLError(SSLCertVerificationError(1, '[SSL: CERTIFICATE_VERIFY_FAILED] certificate verify failed: unable to get local issuer certificate (_ssl.c:1002)')))\n"
     ]
    },
    {
     "name": "stderr",
     "output_type": "stream",
     "text": [
      "Scraping Progress:  18%|█▊        | 1512/8402 [49:17<5:13:07,  2.73s/it]"
     ]
    },
    {
     "name": "stdout",
     "output_type": "stream",
     "text": [
      "Successfully fetched: http://www.metafilter.com/178731/Moshpit-Memories-II-1982-2002-Alan-Moore-The-Pogues-Jim-Rose-and-pals\n"
     ]
    },
    {
     "name": "stderr",
     "output_type": "stream",
     "text": [
      "Scraping Progress:  18%|█▊        | 1513/8402 [49:18<4:37:10,  2.41s/it]"
     ]
    },
    {
     "name": "stdout",
     "output_type": "stream",
     "text": [
      "Successfully fetched: https://www.syfy.com/syfywire/chomp-down-on-a-full-size-ghostbusters-terror-dog-40th-anniversary-alien-print-and\n"
     ]
    },
    {
     "name": "stderr",
     "output_type": "stream",
     "text": [
      "Scraping Progress:  18%|█▊        | 1514/8402 [49:20<3:59:33,  2.09s/it]"
     ]
    },
    {
     "name": "stdout",
     "output_type": "stream",
     "text": [
      "Cannot fetch https://www.si.com/college-basketball/2018/03/06/pac-12-tournament-preview-bracket-schedule-picks, HTTP error: 404 Client Error: Not Found for url: https://www.si.com/college-basketball/2018/03/06/pac-12-tournament-preview-bracket-schedule-picks\n"
     ]
    },
    {
     "name": "stderr",
     "output_type": "stream",
     "text": [
      "Scraping Progress:  18%|█▊        | 1515/8402 [49:21<3:37:50,  1.90s/it]"
     ]
    },
    {
     "name": "stdout",
     "output_type": "stream",
     "text": [
      "Successfully fetched: https://www.vintag.es/2019/10/albino-circus-performers.html\n"
     ]
    },
    {
     "name": "stderr",
     "output_type": "stream",
     "text": [
      "Scraping Progress:  18%|█▊        | 1516/8402 [49:23<3:19:42,  1.74s/it]"
     ]
    },
    {
     "name": "stdout",
     "output_type": "stream",
     "text": [
      "Successfully fetched: https://www.comicbookmovie.com/green_lantern/update-green-lantern-deserted-print-unboxing-and-giveaway-a157769\n"
     ]
    },
    {
     "name": "stderr",
     "output_type": "stream",
     "text": [
      "Scraping Progress:  18%|█▊        | 1517/8402 [49:24<3:09:21,  1.65s/it]"
     ]
    },
    {
     "name": "stdout",
     "output_type": "stream",
     "text": [
      "Successfully fetched: https://www.serienjunkies.de/news/frasier-fortsetzung-erfolgs-comedy-geplant-91396.html\n"
     ]
    },
    {
     "name": "stderr",
     "output_type": "stream",
     "text": [
      "Scraping Progress:  18%|█▊        | 1518/8402 [49:27<3:37:05,  1.89s/it]"
     ]
    },
    {
     "name": "stdout",
     "output_type": "stream",
     "text": [
      "Successfully fetched: https://www.vintag.es/2019/03/80s-geeks.html\n"
     ]
    },
    {
     "name": "stderr",
     "output_type": "stream",
     "text": [
      "Scraping Progress:  18%|█▊        | 1519/8402 [49:28<3:19:54,  1.74s/it]"
     ]
    },
    {
     "name": "stdout",
     "output_type": "stream",
     "text": [
      "Successfully fetched: https://www.salon.com/2018/05/25/focus-on-scott-pruitts-scandals-ignores-the-biggest-of-all-destruction-of-environmental-safeguards/\n"
     ]
    },
    {
     "name": "stderr",
     "output_type": "stream",
     "text": [
      "Scraping Progress:  18%|█▊        | 1520/8402 [49:29<3:06:43,  1.63s/it]"
     ]
    },
    {
     "name": "stdout",
     "output_type": "stream",
     "text": [
      "Successfully fetched: https://www.si.com/soccer/2018/05/28/world-cup-countdown-4-weeks-go-remembering-south-koreas-tarnished-run-2002-semis\n"
     ]
    },
    {
     "name": "stderr",
     "output_type": "stream",
     "text": [
      "Scraping Progress:  18%|█▊        | 1521/8402 [49:31<3:00:45,  1.58s/it]"
     ]
    },
    {
     "name": "stdout",
     "output_type": "stream",
     "text": [
      "Successfully fetched: https://www.bleedingcool.com/2019/12/27/magneto-new-statue-royal-selangor/\n"
     ]
    },
    {
     "name": "stderr",
     "output_type": "stream",
     "text": [
      "Scraping Progress:  18%|█▊        | 1522/8402 [49:32<2:50:43,  1.49s/it]"
     ]
    },
    {
     "name": "stdout",
     "output_type": "stream",
     "text": [
      "Successfully fetched: https://www.bleedingcool.com/2019/12/11/gremlins-3d-gizmo-prop-medicom/\n"
     ]
    },
    {
     "name": "stderr",
     "output_type": "stream",
     "text": [
      "Scraping Progress:  18%|█▊        | 1523/8402 [49:33<2:49:31,  1.48s/it]"
     ]
    },
    {
     "name": "stdout",
     "output_type": "stream",
     "text": [
      "Successfully fetched: https://www.bleedingcool.com/2019/12/28/ezio-new-purearts-statue-assassins-creed/\n"
     ]
    },
    {
     "name": "stderr",
     "output_type": "stream",
     "text": [
      "Scraping Progress:  18%|█▊        | 1524/8402 [49:35<2:43:02,  1.42s/it]"
     ]
    },
    {
     "name": "stdout",
     "output_type": "stream",
     "text": [
      "Successfully fetched: http://www.gameblog.fr/news/76344-killing-floor-2-est-gratuit-ce-week-end-sur-ps4-et-xbox-one\n"
     ]
    },
    {
     "name": "stderr",
     "output_type": "stream",
     "text": [
      "Scraping Progress:  18%|█▊        | 1525/8402 [49:37<3:05:08,  1.62s/it]"
     ]
    },
    {
     "name": "stdout",
     "output_type": "stream",
     "text": [
      "Successfully fetched: https://www.autocar.co.uk/car-review/mercedes-benz/g-class/first-drives/mercedes-benz-g-class-g350d-2018-review\n"
     ]
    },
    {
     "name": "stderr",
     "output_type": "stream",
     "text": [
      "Scraping Progress:  18%|█▊        | 1526/8402 [49:40<4:11:10,  2.19s/it]"
     ]
    },
    {
     "name": "stdout",
     "output_type": "stream",
     "text": [
      "Successfully fetched: http://www.latimes.com/opinion/readersreact/la-ol-le-trump-kanye-west-20181012-story.html\n"
     ]
    },
    {
     "name": "stderr",
     "output_type": "stream",
     "text": [
      "Scraping Progress:  18%|█▊        | 1527/8402 [49:42<3:52:15,  2.03s/it]"
     ]
    },
    {
     "name": "stdout",
     "output_type": "stream",
     "text": [
      "Successfully fetched: https://www.sopitas.com/musica/que-se-arme-el-sideshow-5-fiestas-para-antes-y-despues-del-corona-capital-2019/\n"
     ]
    },
    {
     "name": "stderr",
     "output_type": "stream",
     "text": [
      "Scraping Progress:  18%|█▊        | 1528/8402 [49:47<5:24:05,  2.83s/it]"
     ]
    },
    {
     "name": "stdout",
     "output_type": "stream",
     "text": [
      "Successfully fetched: https://www.forbes.com/sites/lukethompson/2019/01/18/makeup-master-rick-baker-dc-collectibles-joker-bust-batman-joaquin-phoenix-jared-leto-heath-ledger-mark-hamill-jack-nicholson-batman/\n"
     ]
    },
    {
     "name": "stderr",
     "output_type": "stream",
     "text": [
      "Scraping Progress:  18%|█▊        | 1529/8402 [49:49<4:54:50,  2.57s/it]"
     ]
    },
    {
     "name": "stdout",
     "output_type": "stream",
     "text": [
      "Successfully fetched: https://www.forbes.com/sites/barrymbloom/2019/02/11/oakland-as-wait-for-kyler-murray-over-as-qb-chooses-football/\n"
     ]
    },
    {
     "name": "stderr",
     "output_type": "stream",
     "text": [
      "Scraping Progress:  18%|█▊        | 1530/8402 [49:50<4:28:57,  2.35s/it]"
     ]
    },
    {
     "name": "stdout",
     "output_type": "stream",
     "text": [
      "Successfully fetched: https://www.forbes.com/sites/hankcardello/2019/02/08/a-bs-beer-ads-the-sober-message-behind-dilly-dilly/\n"
     ]
    },
    {
     "name": "stderr",
     "output_type": "stream",
     "text": [
      "Scraping Progress:  18%|█▊        | 1531/8402 [49:52<4:15:48,  2.23s/it]"
     ]
    },
    {
     "name": "stdout",
     "output_type": "stream",
     "text": [
      "Successfully fetched: http://www.aei.org/publication/the-u-s-and-india-stumble-toward-a-trade-war/\n"
     ]
    },
    {
     "name": "stderr",
     "output_type": "stream",
     "text": [
      "Scraping Progress:  18%|█▊        | 1532/8402 [49:58<6:24:41,  3.36s/it]"
     ]
    },
    {
     "name": "stdout",
     "output_type": "stream",
     "text": [
      "Successfully fetched: https://nofilmschool.com/2018/11/production-director-jess-gonchor-solving-problems-coen-brothers-ballad-buster-scruggs\n"
     ]
    },
    {
     "name": "stderr",
     "output_type": "stream",
     "text": [
      "Scraping Progress:  18%|█▊        | 1534/8402 [50:01<4:18:34,  2.26s/it]"
     ]
    },
    {
     "name": "stdout",
     "output_type": "stream",
     "text": [
      "Successfully fetched: http://mentalfloss.com/article/533974/see-what-paddington-2-looks-without-bear\n"
     ]
    },
    {
     "name": "stderr",
     "output_type": "stream",
     "text": [
      "Scraping Progress:  18%|█▊        | 1535/8402 [50:03<4:12:51,  2.21s/it]"
     ]
    },
    {
     "name": "stdout",
     "output_type": "stream",
     "text": [
      "Successfully fetched: http://mentalfloss.com/article/76347/20-bizarre-beasts-ancient-bestiaries\n"
     ]
    },
    {
     "name": "stderr",
     "output_type": "stream",
     "text": [
      "Scraping Progress:  18%|█▊        | 1536/8402 [50:05<3:59:16,  2.09s/it]"
     ]
    },
    {
     "name": "stdout",
     "output_type": "stream",
     "text": [
      "Successfully fetched: http://mentalfloss.com/article/55134/10-oscar-winners-whose-speeches-were-under-11-words\n"
     ]
    },
    {
     "name": "stderr",
     "output_type": "stream",
     "text": [
      "Scraping Progress:  18%|█▊        | 1537/8402 [50:07<3:55:43,  2.06s/it]"
     ]
    },
    {
     "name": "stdout",
     "output_type": "stream",
     "text": [
      "Successfully fetched: http://www.ign.com/articles/2018/04/11/andre-the-giant-documentary-review\n"
     ]
    },
    {
     "name": "stderr",
     "output_type": "stream",
     "text": [
      "Scraping Progress:  18%|█▊        | 1538/8402 [50:09<3:59:17,  2.09s/it]"
     ]
    },
    {
     "name": "stdout",
     "output_type": "stream",
     "text": [
      "Successfully fetched: https://sports.yahoo.com/robert-kraft-prostitution-case-threaten-steal-nfl-scouting-combines-spotlight-054020098.html\n"
     ]
    },
    {
     "name": "stderr",
     "output_type": "stream",
     "text": [
      "Scraping Progress:  18%|█▊        | 1539/8402 [50:11<3:48:11,  1.99s/it]"
     ]
    },
    {
     "name": "stdout",
     "output_type": "stream",
     "text": [
      "Successfully fetched: https://www.forbes.com/sites/jamiemadigan/2019/10/11/in-game-purchase-offers-how-much-targeting-is-too-much/\n"
     ]
    },
    {
     "name": "stderr",
     "output_type": "stream",
     "text": [
      "Scraping Progress:  18%|█▊        | 1540/8402 [50:14<4:16:45,  2.24s/it]"
     ]
    },
    {
     "name": "stdout",
     "output_type": "stream",
     "text": [
      "Successfully fetched: https://www.cbr.com/batman-the-animated-series-killer-croc-romance/\n"
     ]
    },
    {
     "name": "stderr",
     "output_type": "stream",
     "text": [
      "Scraping Progress:  18%|█▊        | 1541/8402 [50:15<3:47:07,  1.99s/it]"
     ]
    },
    {
     "name": "stdout",
     "output_type": "stream",
     "text": [
      "Successfully fetched: http://mentalfloss.com/article/533886/how-old-would-the-simpsons-family-be\n"
     ]
    },
    {
     "name": "stderr",
     "output_type": "stream",
     "text": [
      "Scraping Progress:  18%|█▊        | 1542/8402 [50:17<3:42:35,  1.95s/it]"
     ]
    },
    {
     "name": "stdout",
     "output_type": "stream",
     "text": [
      "Cannot fetch https://www.fastcompany.com/90243247/kanye-west-tries-to-hijack-todays-news-with-the-trump-playbook?partner=feedburner&utm_source=feedburner&utm_medium=feed&utm_campaign=Feed%3A+fastcoexist%2Ffeed+%28Co.Exist%29, HTTP error: 403 Client Error: Forbidden for url: https://www.fastcompany.com/90243247/kanye-west-tries-to-hijack-todays-news-with-the-trump-playbook?partner=feedburner&utm_source=feedburner&utm_medium=feed&utm_campaign=Feed%3A+fastcoexist%2Ffeed+%28Co.Exist%29\n"
     ]
    },
    {
     "name": "stderr",
     "output_type": "stream",
     "text": [
      "Scraping Progress:  18%|█▊        | 1543/8402 [50:18<3:14:44,  1.70s/it]"
     ]
    },
    {
     "name": "stdout",
     "output_type": "stream",
     "text": [
      "Successfully fetched: http://howlround.com/coney-island-s-fantastical-history-what-love-never-dies-leaves-out\n"
     ]
    },
    {
     "name": "stderr",
     "output_type": "stream",
     "text": [
      "Scraping Progress:  18%|█▊        | 1544/8402 [50:21<3:53:44,  2.05s/it]"
     ]
    },
    {
     "name": "stdout",
     "output_type": "stream",
     "text": [
      "Successfully fetched: https://www.forbes.com/sites/blakeoestriecher/2018/10/28/wwe-evolution-2018-results-ronda-rousey-defeats-nikki-bella-but-is-running-out-of-viable-opponents/\n"
     ]
    },
    {
     "name": "stderr",
     "output_type": "stream",
     "text": [
      "Scraping Progress:  18%|█▊        | 1545/8402 [50:23<3:50:28,  2.02s/it]"
     ]
    },
    {
     "name": "stdout",
     "output_type": "stream",
     "text": [
      "Successfully fetched: https://www.vox.com/future-perfect/2019/10/30/20938604/larry-summers-ford-wealth-tax-billionaire-philanthropy\n"
     ]
    },
    {
     "name": "stderr",
     "output_type": "stream",
     "text": [
      "Scraping Progress:  18%|█▊        | 1546/8402 [50:24<3:24:35,  1.79s/it]"
     ]
    },
    {
     "name": "stdout",
     "output_type": "stream",
     "text": [
      "Cannot fetch http://gothamist.com/2018/10/22/nyc_fall_october_halloween_events.php, HTTP error: 404 Client Error: Not Found for url: https://gothamist.com/2018/10/22/nyc_fall_october_halloween_events.php\n"
     ]
    },
    {
     "name": "stderr",
     "output_type": "stream",
     "text": [
      "Scraping Progress:  18%|█▊        | 1547/8402 [50:25<3:14:52,  1.71s/it]"
     ]
    },
    {
     "name": "stdout",
     "output_type": "stream",
     "text": [
      "Successfully fetched: https://www.levelup.com/noticias/547819/Eres-fan-de-Spider-Man-Esta-costosa-figura-no-puede-faltar-en-tu-coleccion\n"
     ]
    },
    {
     "name": "stderr",
     "output_type": "stream",
     "text": [
      "Scraping Progress:  18%|█▊        | 1548/8402 [50:29<4:03:50,  2.13s/it]"
     ]
    },
    {
     "name": "stdout",
     "output_type": "stream",
     "text": [
      "Successfully fetched: https://www.vulture.com/2018/11/the-economist-hates-tenacious-d.html\n"
     ]
    },
    {
     "name": "stderr",
     "output_type": "stream",
     "text": [
      "Scraping Progress:  18%|█▊        | 1549/8402 [50:30<3:48:15,  2.00s/it]"
     ]
    },
    {
     "name": "stdout",
     "output_type": "stream",
     "text": [
      "Successfully fetched: https://www.latestly.com/social-viral/headless-chicken-survives-for-a-week-after-being-decapitated-vet-calls-it-a-true-warrior-87865.html\n"
     ]
    },
    {
     "name": "stderr",
     "output_type": "stream",
     "text": [
      "Scraping Progress:  18%|█▊        | 1550/8402 [50:33<4:25:54,  2.33s/it]"
     ]
    },
    {
     "name": "stdout",
     "output_type": "stream",
     "text": [
      "Successfully fetched: https://www.comicbookmovie.com/green_lantern/green-lantern-deserted-print-unboxing-and-giveaway-a157769\n"
     ]
    },
    {
     "name": "stderr",
     "output_type": "stream",
     "text": [
      "Scraping Progress:  18%|█▊        | 1551/8402 [50:35<4:02:55,  2.13s/it]"
     ]
    },
    {
     "name": "stdout",
     "output_type": "stream",
     "text": [
      "Cannot fetch https://www.spin.com/2019/01/foals-announce-2-new-albums-release-exits/, HTTP error: 403 Client Error: Forbidden for url: https://www.spin.com/2019/01/foals-announce-2-new-albums-release-exits/\n"
     ]
    },
    {
     "name": "stderr",
     "output_type": "stream",
     "text": [
      "Scraping Progress:  18%|█▊        | 1552/8402 [50:36<3:33:20,  1.87s/it]"
     ]
    },
    {
     "name": "stdout",
     "output_type": "stream",
     "text": [
      "Successfully fetched: http://mentalfloss.com/article/530681/9-bizarre-facts-about-nicolas-cage\n"
     ]
    },
    {
     "name": "stderr",
     "output_type": "stream",
     "text": [
      "Scraping Progress:  18%|█▊        | 1553/8402 [50:38<3:19:24,  1.75s/it]"
     ]
    },
    {
     "name": "stdout",
     "output_type": "stream",
     "text": [
      "Successfully fetched: http://mentalfloss.com/article/62513/15-women-who-deserve-their-own-biopics\n"
     ]
    },
    {
     "name": "stderr",
     "output_type": "stream",
     "text": [
      "Scraping Progress:  18%|█▊        | 1554/8402 [50:39<3:17:53,  1.73s/it]"
     ]
    },
    {
     "name": "stdout",
     "output_type": "stream",
     "text": [
      "Cannot fetch https://dangerousminds.net/comments/the_extraordinary_work_of_frank_kelly_freas_the_dean_of_science_fiction_art, HTTP error: 403 Client Error: Forbidden for url: https://dangerousminds.net/comments/the_extraordinary_work_of_frank_kelly_freas_the_dean_of_science_fiction_art\n"
     ]
    },
    {
     "name": "stderr",
     "output_type": "stream",
     "text": [
      "Scraping Progress:  19%|█▊        | 1555/8402 [50:41<3:07:20,  1.64s/it]"
     ]
    },
    {
     "name": "stdout",
     "output_type": "stream",
     "text": [
      "Successfully fetched: https://www.yahoo.com/news/york-times-calls-gop-protect-032742158.html\n"
     ]
    },
    {
     "name": "stderr",
     "output_type": "stream",
     "text": [
      "Scraping Progress:  19%|█▊        | 1556/8402 [50:42<3:05:12,  1.62s/it]"
     ]
    },
    {
     "name": "stdout",
     "output_type": "stream",
     "text": [
      "Successfully fetched: https://www.pcgamer.com/uk/killing-floor-2-will-offer-paid-weapon-dlc-in-future-content-updates/\n"
     ]
    },
    {
     "name": "stderr",
     "output_type": "stream",
     "text": [
      "Scraping Progress:  19%|█▊        | 1557/8402 [50:45<3:22:00,  1.77s/it]"
     ]
    },
    {
     "name": "stdout",
     "output_type": "stream",
     "text": [
      "Successfully fetched: https://www.mediaite.com/uncategorized/dershowitz-dismisses-avenatti-sideshow-stormy-daniels-case-is-a-nothing-case/\n"
     ]
    },
    {
     "name": "stderr",
     "output_type": "stream",
     "text": [
      "Scraping Progress:  19%|█▊        | 1558/8402 [50:47<3:49:27,  2.01s/it]"
     ]
    },
    {
     "name": "stdout",
     "output_type": "stream",
     "text": [
      "Successfully fetched: https://digiday.com/marketing/really-going-feel-vibes-facebooks-f8-attracts-marketers-wanting-answers/\n"
     ]
    },
    {
     "name": "stderr",
     "output_type": "stream",
     "text": [
      "Scraping Progress:  19%|█▊        | 1559/8402 [50:49<3:40:08,  1.93s/it]"
     ]
    },
    {
     "name": "stdout",
     "output_type": "stream",
     "text": [
      "Successfully fetched: https://www.joblo.com/movie-news/you-can-now-pre-order-hot-toys-stunning-alita-battle-angel-figure\n"
     ]
    },
    {
     "name": "stderr",
     "output_type": "stream",
     "text": [
      "Scraping Progress:  19%|█▊        | 1560/8402 [50:51<3:42:30,  1.95s/it]"
     ]
    },
    {
     "name": "stdout",
     "output_type": "stream",
     "text": [
      "Successfully fetched: http://www.disneyfoodblog.com/2019/11/08/you-can-stan-for-a-popcorn-bucket-right-thats-cool/\n"
     ]
    },
    {
     "name": "stderr",
     "output_type": "stream",
     "text": [
      "Scraping Progress:  19%|█▊        | 1561/8402 [50:53<3:43:06,  1.96s/it]"
     ]
    },
    {
     "name": "stdout",
     "output_type": "stream",
     "text": [
      "Successfully fetched: https://www.forbes.com/sites/brianmull/2019/03/01/john-smoltz-takes-his-swing-at-pga-tour-champions-in-tucson/\n"
     ]
    },
    {
     "name": "stderr",
     "output_type": "stream",
     "text": [
      "Scraping Progress:  19%|█▊        | 1562/8402 [50:55<3:40:48,  1.94s/it]"
     ]
    },
    {
     "name": "stdout",
     "output_type": "stream",
     "text": [
      "Successfully fetched: https://au.sports.yahoo.com/circus-freak-show-league-fire-usain-bolt-gimmick-051950821.html\n"
     ]
    },
    {
     "name": "stderr",
     "output_type": "stream",
     "text": [
      "Scraping Progress:  19%|█▊        | 1563/8402 [50:56<3:32:33,  1.86s/it]"
     ]
    },
    {
     "name": "stdout",
     "output_type": "stream",
     "text": [
      "Cannot fetch https://goodmenproject.com/featured-content/2019-nba-draft-review-mkdn/, HTTP error: 403 Client Error: Forbidden for url: https://goodmenproject.com/featured-content/2019-nba-draft-review-mkdn/\n"
     ]
    },
    {
     "name": "stderr",
     "output_type": "stream",
     "text": [
      "Scraping Progress:  19%|█▊        | 1564/8402 [50:58<3:13:32,  1.70s/it]"
     ]
    },
    {
     "name": "stdout",
     "output_type": "stream",
     "text": [
      "Successfully fetched: https://www.dailydot.com/layer8/abramson-trump-alabama-theory/\n"
     ]
    },
    {
     "name": "stderr",
     "output_type": "stream",
     "text": [
      "Scraping Progress:  19%|█▊        | 1565/8402 [51:00<3:25:36,  1.80s/it]"
     ]
    },
    {
     "name": "stdout",
     "output_type": "stream",
     "text": [
      "Successfully fetched: https://bloody-disgusting.com/toys/3556212/sideshow-collectibles-brings-nun-toy-shelf-terrifying-statue/\n"
     ]
    },
    {
     "name": "stderr",
     "output_type": "stream",
     "text": [
      "Scraping Progress:  19%|█▊        | 1566/8402 [51:02<3:23:14,  1.78s/it]"
     ]
    },
    {
     "name": "stdout",
     "output_type": "stream",
     "text": [
      "Successfully fetched: https://lithub.com/how-the-coney-island-sideshow-saved-thousands-of-babies/\n"
     ]
    },
    {
     "name": "stderr",
     "output_type": "stream",
     "text": [
      "Scraping Progress:  19%|█▊        | 1567/8402 [51:03<3:17:24,  1.73s/it]"
     ]
    },
    {
     "name": "stdout",
     "output_type": "stream",
     "text": [
      "Successfully fetched: https://www.forbes.com/sites/tendayiviki/2019/01/27/how-to-bring-an-innovation-culture-to-life/\n"
     ]
    },
    {
     "name": "stderr",
     "output_type": "stream",
     "text": [
      "Scraping Progress:  19%|█▊        | 1568/8402 [51:04<2:59:52,  1.58s/it]"
     ]
    },
    {
     "name": "stdout",
     "output_type": "stream",
     "text": [
      "Successfully fetched: https://www.bbc.co.uk/sport/football/48148785\n"
     ]
    },
    {
     "name": "stderr",
     "output_type": "stream",
     "text": [
      "Scraping Progress:  19%|█▊        | 1569/8402 [51:06<2:55:50,  1.54s/it]"
     ]
    },
    {
     "name": "stdout",
     "output_type": "stream",
     "text": [
      "Successfully fetched: https://www.bbc.co.uk/sport/football/49392889\n"
     ]
    },
    {
     "name": "stderr",
     "output_type": "stream",
     "text": [
      "Scraping Progress:  19%|█▊        | 1570/8402 [51:07<2:54:38,  1.53s/it]"
     ]
    },
    {
     "name": "stdout",
     "output_type": "stream",
     "text": [
      "Successfully fetched: https://comicbook.com/dc/2018/09/28/dc-animated-series-statues-trailer-teases-villains/\n"
     ]
    },
    {
     "name": "stderr",
     "output_type": "stream",
     "text": [
      "Scraping Progress:  19%|█▊        | 1571/8402 [51:09<3:01:01,  1.59s/it]"
     ]
    },
    {
     "name": "stdout",
     "output_type": "stream",
     "text": [
      "Successfully fetched: https://www.salon.com/2018/06/11/whats-next-for-trump-a-supervillain-alliance-of-autocrats-to-replace-nato-and-the-g7/\n"
     ]
    },
    {
     "name": "stderr",
     "output_type": "stream",
     "text": [
      "Scraping Progress:  19%|█▊        | 1572/8402 [51:11<2:59:02,  1.57s/it]"
     ]
    },
    {
     "name": "stdout",
     "output_type": "stream",
     "text": [
      "Cannot fetch https://www.politico.com/story/2019/09/19/andrew-yang-politico-interview-1503898, HTTP error: 403 Client Error: Forbidden for url: https://www.politico.com/story/2019/09/19/andrew-yang-politico-interview-1503898\n"
     ]
    },
    {
     "name": "stderr",
     "output_type": "stream",
     "text": [
      "Scraping Progress:  19%|█▊        | 1573/8402 [51:12<2:44:03,  1.44s/it]"
     ]
    },
    {
     "name": "stdout",
     "output_type": "stream",
     "text": [
      "Cannot fetch https://allthatsinteresting.com/schlitzie, HTTP error: 403 Client Error: Forbidden for url: https://allthatsinteresting.com/schlitzie\n"
     ]
    },
    {
     "name": "stderr",
     "output_type": "stream",
     "text": [
      "Scraping Progress:  19%|█▊        | 1574/8402 [51:13<2:32:15,  1.34s/it]"
     ]
    },
    {
     "name": "stdout",
     "output_type": "stream",
     "text": [
      "Successfully fetched: https://news.vice.com/en_us/article/a3qnwk/kim-jong-un-trump-letter-thanks-tweet-north-korea\n"
     ]
    },
    {
     "name": "stderr",
     "output_type": "stream",
     "text": [
      "Scraping Progress:  19%|█▊        | 1575/8402 [51:15<3:06:47,  1.64s/it]"
     ]
    },
    {
     "name": "stdout",
     "output_type": "stream",
     "text": [
      "Successfully fetched: https://www.thehollywoodgossip.com/slideshows/jenelle-evans-is-driving-across-the-country-and-fans-think-they/\n"
     ]
    },
    {
     "name": "stderr",
     "output_type": "stream",
     "text": [
      "Scraping Progress:  19%|█▉        | 1576/8402 [51:17<3:15:59,  1.72s/it]"
     ]
    },
    {
     "name": "stdout",
     "output_type": "stream",
     "text": [
      "Successfully fetched: https://www.forbes.com/sites/jefffeld/2019/06/26/as-3-on-3-basketball-makes-a-global-debut-usa-eyes-its-entrance/\n"
     ]
    },
    {
     "name": "stderr",
     "output_type": "stream",
     "text": [
      "Scraping Progress:  19%|█▉        | 1577/8402 [51:19<3:19:59,  1.76s/it]"
     ]
    },
    {
     "name": "stdout",
     "output_type": "stream",
     "text": [
      "Cannot fetch https://www.yahoo.com/news/poll-finds-minimal-interest-royal-wedding-among-britons-104543237.html, HTTP error: 404 Client Error: Not Found for url: https://www.yahoo.com/news/poll-finds-minimal-interest-royal-wedding-among-britons-104543237.html\n"
     ]
    },
    {
     "name": "stderr",
     "output_type": "stream",
     "text": [
      "Scraping Progress:  19%|█▉        | 1578/8402 [51:20<3:04:41,  1.62s/it]"
     ]
    },
    {
     "name": "stdout",
     "output_type": "stream",
     "text": [
      "Successfully fetched: http://www.patheos.com/blogs/friendlyatheist/2018/02/23/satanists-sue-scottsdale-az-officials-who-rejected-their-invocation-request/\n"
     ]
    },
    {
     "name": "stderr",
     "output_type": "stream",
     "text": [
      "Scraping Progress:  19%|█▉        | 1579/8402 [51:22<3:11:48,  1.69s/it]"
     ]
    },
    {
     "name": "stdout",
     "output_type": "stream",
     "text": [
      "Successfully fetched: https://sputniknews.com/analysis/201807251066679016-us-eu-trade-negotiations-analysis/\n"
     ]
    },
    {
     "name": "stderr",
     "output_type": "stream",
     "text": [
      "Scraping Progress:  19%|█▉        | 1580/8402 [51:26<4:21:25,  2.30s/it]"
     ]
    },
    {
     "name": "stdout",
     "output_type": "stream",
     "text": [
      "Successfully fetched: https://www.creativebloq.com/inspiration/8-great-examples-of-graphic-design-portfolios\n"
     ]
    },
    {
     "name": "stderr",
     "output_type": "stream",
     "text": [
      "Scraping Progress:  19%|█▉        | 1581/8402 [51:27<3:47:11,  2.00s/it]"
     ]
    },
    {
     "name": "stdout",
     "output_type": "stream",
     "text": [
      "Successfully fetched: http://comicbook.com/marvel/2018/03/14/spider-man-miles-morales-sideshow-premium-format-venom/\n"
     ]
    },
    {
     "name": "stderr",
     "output_type": "stream",
     "text": [
      "Scraping Progress:  19%|█▉        | 1582/8402 [51:29<3:37:19,  1.91s/it]"
     ]
    },
    {
     "name": "stdout",
     "output_type": "stream",
     "text": [
      "Successfully fetched: https://www.bleedingcool.com/2018/05/16/kotobukiya-xmen-92-professor-x/\n"
     ]
    },
    {
     "name": "stderr",
     "output_type": "stream",
     "text": [
      "Scraping Progress:  19%|█▉        | 1583/8402 [51:30<3:18:52,  1.75s/it]"
     ]
    },
    {
     "name": "stdout",
     "output_type": "stream",
     "text": [
      "Successfully fetched: https://filmschoolrejects.com/making-moon/\n"
     ]
    },
    {
     "name": "stderr",
     "output_type": "stream",
     "text": [
      "Scraping Progress:  19%|█▉        | 1584/8402 [51:32<3:06:02,  1.64s/it]"
     ]
    },
    {
     "name": "stdout",
     "output_type": "stream",
     "text": [
      "Successfully fetched: https://www.firstpost.com/india/unpacking-row-over-iaf-air-strikes-in-balakot-satellite-data-unless-india-releases-proof-disbelief-will-only-gain-momentum-6205611.html\n"
     ]
    },
    {
     "name": "stderr",
     "output_type": "stream",
     "text": [
      "Scraping Progress:  19%|█▉        | 1585/8402 [51:34<3:27:11,  1.82s/it]"
     ]
    },
    {
     "name": "stdout",
     "output_type": "stream",
     "text": [
      "Successfully fetched: https://comicbook.com/gaming/2019/12/31/sideshow-witcher-cyberpunk-2077-collectibles/\n"
     ]
    },
    {
     "name": "stderr",
     "output_type": "stream",
     "text": [
      "Scraping Progress:  19%|█▉        | 1586/8402 [51:36<3:23:33,  1.79s/it]"
     ]
    },
    {
     "name": "stdout",
     "output_type": "stream",
     "text": [
      "Cannot fetch https://cleantechnica.com/2018/03/25/baidu-given-permission-begin-testing-self-driving-vehicles-beijing/, HTTP error: 403 Client Error: Forbidden for url: https://cleantechnica.com/2018/03/25/baidu-given-permission-begin-testing-self-driving-vehicles-beijing/\n"
     ]
    },
    {
     "name": "stderr",
     "output_type": "stream",
     "text": [
      "Scraping Progress:  19%|█▉        | 1587/8402 [51:37<3:08:33,  1.66s/it]"
     ]
    },
    {
     "name": "stdout",
     "output_type": "stream",
     "text": [
      "Successfully fetched: https://www.kinopoisk.ru/media/article/4000095/\n"
     ]
    },
    {
     "name": "stderr",
     "output_type": "stream",
     "text": [
      "Scraping Progress:  19%|█▉        | 1588/8402 [51:39<3:35:42,  1.90s/it]"
     ]
    },
    {
     "name": "stdout",
     "output_type": "stream",
     "text": [
      "Successfully fetched: https://www.slashfilm.com/star-wars-bits-a-preview-of-star-wars-the-rise-of-kylo-ren-1-deaf-actor-troy-kotsur-in-the-mandalorian-rian-johnson-on-writing-the-last-jedi-porsches-women-of/\n"
     ]
    },
    {
     "name": "stderr",
     "output_type": "stream",
     "text": [
      "Scraping Progress:  19%|█▉        | 1589/8402 [51:41<3:13:19,  1.70s/it]"
     ]
    },
    {
     "name": "stdout",
     "output_type": "stream",
     "text": [
      "Successfully fetched: https://www.memeorandum.com/191022/p43\n"
     ]
    },
    {
     "name": "stderr",
     "output_type": "stream",
     "text": [
      "Scraping Progress:  19%|█▉        | 1590/8402 [51:42<3:17:11,  1.74s/it]"
     ]
    },
    {
     "name": "stdout",
     "output_type": "stream",
     "text": [
      "Successfully fetched: https://www.huffpost.com/entry/white-evangelicals-trump-impeachment_n_5df950c6e4b08083dc5ae146\n"
     ]
    },
    {
     "name": "stderr",
     "output_type": "stream",
     "text": [
      "Scraping Progress:  19%|█▉        | 1591/8402 [51:44<2:59:21,  1.58s/it]"
     ]
    },
    {
     "name": "stdout",
     "output_type": "stream",
     "text": [
      "Cannot fetch http://www.powerlineblog.com/archives/2018/05/the-wind-energy-fiasco-writ-large.php, HTTP error: 403 Client Error: Forbidden for url: https://www.powerlineblog.com/archives/2018/05/the-wind-energy-fiasco-writ-large.php\n"
     ]
    },
    {
     "name": "stderr",
     "output_type": "stream",
     "text": [
      "Scraping Progress:  19%|█▉        | 1592/8402 [51:45<2:46:23,  1.47s/it]"
     ]
    },
    {
     "name": "stdout",
     "output_type": "stream",
     "text": [
      "Successfully fetched: https://www.theartblog.org/2018/05/s-o-s-from-portside-arts-center-trumpmore-and-carnival-de-resistance-wants-you/\n"
     ]
    },
    {
     "name": "stderr",
     "output_type": "stream",
     "text": [
      "Scraping Progress:  19%|█▉        | 1593/8402 [51:46<2:44:49,  1.45s/it]"
     ]
    },
    {
     "name": "stdout",
     "output_type": "stream",
     "text": [
      "Successfully fetched: https://www.thedailybeast.com/obama-was-right-about-kanye-west-and-taylor-swift\n"
     ]
    },
    {
     "name": "stderr",
     "output_type": "stream",
     "text": [
      "Scraping Progress:  19%|█▉        | 1594/8402 [51:49<3:21:12,  1.77s/it]"
     ]
    },
    {
     "name": "stdout",
     "output_type": "stream",
     "text": [
      "Successfully fetched: https://www.avclub.com/the-simpsons-vacation-episodes-ranked-1826806649\n"
     ]
    },
    {
     "name": "stderr",
     "output_type": "stream",
     "text": [
      "Scraping Progress:  19%|█▉        | 1595/8402 [51:50<3:05:44,  1.64s/it]"
     ]
    },
    {
     "name": "stdout",
     "output_type": "stream",
     "text": [
      "Successfully fetched: http://comicbook.com/dc/2018/01/11/sideshow-premium-format-figures-batman-superman-wonder-woman/\n"
     ]
    },
    {
     "name": "stderr",
     "output_type": "stream",
     "text": [
      "Scraping Progress:  19%|█▉        | 1596/8402 [51:52<3:08:10,  1.66s/it]"
     ]
    },
    {
     "name": "stdout",
     "output_type": "stream",
     "text": [
      "Successfully fetched: http://comicbook.com/marvel/2018/01/11/sideshow-reveals-new-black-widow-statue/\n"
     ]
    },
    {
     "name": "stderr",
     "output_type": "stream",
     "text": [
      "Scraping Progress:  19%|█▉        | 1597/8402 [51:54<3:10:35,  1.68s/it]"
     ]
    },
    {
     "name": "stdout",
     "output_type": "stream",
     "text": [
      "Successfully fetched: https://indianexpress.com/article/india/a-large-section-of-media-appears-reticent-to-ask-questions-pranab-mukherjee-6138526/\n"
     ]
    },
    {
     "name": "stderr",
     "output_type": "stream",
     "text": [
      "Scraping Progress:  19%|█▉        | 1598/8402 [51:56<3:30:06,  1.85s/it]"
     ]
    },
    {
     "name": "stdout",
     "output_type": "stream",
     "text": [
      "Successfully fetched: https://www.comicbookmovie.com/avengers/avengers_endgame/avengers-endgame-get-your-best-look-yet-at-war-machines-iron-patriot-armor-in-latest-hot-toys-reveal-a169662\n"
     ]
    },
    {
     "name": "stderr",
     "output_type": "stream",
     "text": [
      "Scraping Progress:  19%|█▉        | 1599/8402 [51:57<3:16:24,  1.73s/it]"
     ]
    },
    {
     "name": "stdout",
     "output_type": "stream",
     "text": [
      "Successfully fetched: https://www.pinknews.co.uk/2019/12/06/california-court-case-homophobia-christopher-hook/\n"
     ]
    },
    {
     "name": "stderr",
     "output_type": "stream",
     "text": [
      "Scraping Progress:  19%|█▉        | 1600/8402 [52:00<3:49:43,  2.03s/it]"
     ]
    },
    {
     "name": "stdout",
     "output_type": "stream",
     "text": [
      "Cannot fetch https://www.balloon-juice.com/2018/02/03/cancellation-is-the-sensation-rocking-the-nation/, HTTP error: 403 Client Error: Forbidden for url: https://balloon-juice.com/2018/02/03/cancellation-is-the-sensation-rocking-the-nation/\n"
     ]
    },
    {
     "name": "stderr",
     "output_type": "stream",
     "text": [
      "Scraping Progress:  19%|█▉        | 1601/8402 [52:01<3:24:23,  1.80s/it]"
     ]
    },
    {
     "name": "stdout",
     "output_type": "stream",
     "text": [
      "Successfully fetched: https://geektyrant.com/news/take-your-dampd-party-to-a-spooky-carnival-in-step-right-up\n"
     ]
    },
    {
     "name": "stderr",
     "output_type": "stream",
     "text": [
      "Scraping Progress:  19%|█▉        | 1602/8402 [52:03<3:31:28,  1.87s/it]"
     ]
    },
    {
     "name": "stdout",
     "output_type": "stream",
     "text": [
      "Successfully fetched: https://www.cbr.com/the-mighty-thor-gift-guide/\n"
     ]
    },
    {
     "name": "stderr",
     "output_type": "stream",
     "text": [
      "Scraping Progress:  19%|█▉        | 1603/8402 [52:05<3:13:43,  1.71s/it]"
     ]
    },
    {
     "name": "stdout",
     "output_type": "stream",
     "text": [
      "Cannot fetch https://sports.yahoo.com/joel-embiid-lonzo-ball-headline-233712542.html, HTTP error: 404 Client Error: Not Found for url: https://sports.yahoo.com/joel-embiid-lonzo-ball-headline-233712542.html\n"
     ]
    },
    {
     "name": "stderr",
     "output_type": "stream",
     "text": [
      "Scraping Progress:  19%|█▉        | 1604/8402 [52:06<3:00:42,  1.60s/it]"
     ]
    },
    {
     "name": "stdout",
     "output_type": "stream",
     "text": [
      "Successfully fetched: https://www.forbes.com/sites/sap/2019/11/12/emotion-and-motion-a-leading-animator-illustrates-the-power-of-storytelling/\n"
     ]
    },
    {
     "name": "stderr",
     "output_type": "stream",
     "text": [
      "Scraping Progress:  19%|█▉        | 1605/8402 [52:08<3:02:43,  1.61s/it]"
     ]
    },
    {
     "name": "stdout",
     "output_type": "stream",
     "text": [
      "Successfully fetched: https://www.forbes.com/sites/laurendebter/2019/11/14/online-retail-brands-most-brick-and-mortar-stores/\n"
     ]
    },
    {
     "name": "stderr",
     "output_type": "stream",
     "text": [
      "Scraping Progress:  19%|█▉        | 1606/8402 [52:10<3:18:28,  1.75s/it]"
     ]
    },
    {
     "name": "stdout",
     "output_type": "stream",
     "text": [
      "Cannot fetch https://www.politico.com/story/2019/02/06/alexandria-ocasio-cortez-budget-1143084, HTTP error: 403 Client Error: Forbidden for url: https://www.politico.com/story/2019/02/06/alexandria-ocasio-cortez-budget-1143084\n"
     ]
    },
    {
     "name": "stderr",
     "output_type": "stream",
     "text": [
      "Scraping Progress:  19%|█▉        | 1607/8402 [52:11<2:56:57,  1.56s/it]"
     ]
    },
    {
     "name": "stdout",
     "output_type": "stream",
     "text": [
      "Successfully fetched: https://www.apnews.com/dc5b20480ec14d1ea79e3c38ce78b1ff\n"
     ]
    },
    {
     "name": "stderr",
     "output_type": "stream",
     "text": [
      "Scraping Progress:  19%|█▉        | 1608/8402 [52:12<2:52:13,  1.52s/it]"
     ]
    },
    {
     "name": "stdout",
     "output_type": "stream",
     "text": [
      "Successfully fetched: https://www.cbr.com/walking-dead-everything-happened-massive-time-jump/\n"
     ]
    },
    {
     "name": "stderr",
     "output_type": "stream",
     "text": [
      "Scraping Progress:  19%|█▉        | 1609/8402 [52:13<2:44:15,  1.45s/it]"
     ]
    },
    {
     "name": "stdout",
     "output_type": "stream",
     "text": [
      "Cannot fetch https://www.balloon-juice.com/2018/02/24/today-in-bullshit/, HTTP error: 403 Client Error: Forbidden for url: https://balloon-juice.com/2018/02/24/today-in-bullshit/\n"
     ]
    },
    {
     "name": "stderr",
     "output_type": "stream",
     "text": [
      "Scraping Progress:  19%|█▉        | 1610/8402 [52:15<2:34:59,  1.37s/it]"
     ]
    },
    {
     "name": "stdout",
     "output_type": "stream",
     "text": [
      "Cannot fetch http://www.syfy.com/syfywire/sideshow-gotham-city-nightmare-joker-statue-easter-eggs, HTTP error: 404 Client Error: Not Found for url: https://www.syfy.com/syfy-wire/sideshow-gotham-city-nightmare-joker-statue-easter-eggs\n"
     ]
    },
    {
     "name": "stderr",
     "output_type": "stream",
     "text": [
      "Scraping Progress:  19%|█▉        | 1611/8402 [52:16<2:47:31,  1.48s/it]"
     ]
    },
    {
     "name": "stdout",
     "output_type": "stream",
     "text": [
      "Successfully fetched: https://www.activistpost.com/2019/08/amazons-treasure-trucks-sell-discounted-ring-doorbells-across-the-us-and-uk.html\n"
     ]
    },
    {
     "name": "stderr",
     "output_type": "stream",
     "text": [
      "Scraping Progress:  19%|█▉        | 1612/8402 [52:20<3:52:53,  2.06s/it]"
     ]
    },
    {
     "name": "stdout",
     "output_type": "stream",
     "text": [
      "Successfully fetched: https://bloody-disgusting.com/toys/3532460/can-now-real-working-replica-snakes-escape-new-york-watch-pre-order/\n"
     ]
    },
    {
     "name": "stderr",
     "output_type": "stream",
     "text": [
      "Scraping Progress:  19%|█▉        | 1613/8402 [52:22<4:05:19,  2.17s/it]"
     ]
    },
    {
     "name": "stdout",
     "output_type": "stream",
     "text": [
      "Successfully fetched: http://www.nba.com/article/2018/11/13/about-last-night-11-13-18\n"
     ]
    },
    {
     "name": "stderr",
     "output_type": "stream",
     "text": [
      "Scraping Progress:  19%|█▉        | 1614/8402 [52:24<4:08:34,  2.20s/it]"
     ]
    },
    {
     "name": "stdout",
     "output_type": "stream",
     "text": [
      "Successfully fetched: https://www.mediaite.com/election-2020/9-biggest-moments-from-cnns-democratic-presidential-debate/\n"
     ]
    },
    {
     "name": "stderr",
     "output_type": "stream",
     "text": [
      "Scraping Progress:  19%|█▉        | 1615/8402 [52:27<4:13:08,  2.24s/it]"
     ]
    },
    {
     "name": "stdout",
     "output_type": "stream",
     "text": [
      "Successfully fetched: https://economictimes.indiatimes.com/mf/analysis/aadhaar-is-back-for-mutual-fund-investments/articleshow/70954556.cms\n"
     ]
    },
    {
     "name": "stderr",
     "output_type": "stream",
     "text": [
      "Scraping Progress:  19%|█▉        | 1616/8402 [52:30<4:42:41,  2.50s/it]"
     ]
    },
    {
     "name": "stdout",
     "output_type": "stream",
     "text": [
      "Successfully fetched: https://www.avclub.com/scary-movie-was-ground-zero-for-some-of-the-worst-comed-1820591381\n"
     ]
    },
    {
     "name": "stderr",
     "output_type": "stream",
     "text": [
      "Scraping Progress:  19%|█▉        | 1617/8402 [52:31<3:56:53,  2.09s/it]"
     ]
    },
    {
     "name": "stdout",
     "output_type": "stream",
     "text": [
      "Cannot fetch http://www.sportingnews.com/nba/news/nba-trade-rumors-kawhi-leonard-spurs-news-contract-lakers-free-agency-lebron-james-paul-george/9bflwmgyv9uf1vc2v25s2uv5j, HTTP error: 404 Client Error: Not Found for url: https://www.sportingnews.com/nba/news/nba-trade-rumors-kawhi-leonard-spurs-news-contract-lakers-free-agency-lebron-james-paul-george/9bflwmgyv9uf1vc2v25s2uv5j\n"
     ]
    },
    {
     "name": "stderr",
     "output_type": "stream",
     "text": [
      "Scraping Progress:  19%|█▉        | 1618/8402 [52:33<3:36:42,  1.92s/it]"
     ]
    },
    {
     "name": "stdout",
     "output_type": "stream",
     "text": [
      "Successfully fetched: http://www.kraftfuttermischwerk.de/blogg/rekall-paul-st-hilaire-tikiman-tribute-mix/\n"
     ]
    },
    {
     "name": "stderr",
     "output_type": "stream",
     "text": [
      "Scraping Progress:  19%|█▉        | 1619/8402 [52:35<3:40:45,  1.95s/it]"
     ]
    },
    {
     "name": "stdout",
     "output_type": "stream",
     "text": [
      "Successfully fetched: http://www.skysports.com/football/news/12098/11388288/world-cups-remembered-west-germany-1974\n"
     ]
    },
    {
     "name": "stderr",
     "output_type": "stream",
     "text": [
      "Scraping Progress:  19%|█▉        | 1620/8402 [52:36<3:36:58,  1.92s/it]"
     ]
    },
    {
     "name": "stdout",
     "output_type": "stream",
     "text": [
      "Successfully fetched: https://www.usmagazine.com/stylish/pictures/mtv-movie-tv-awards-2018-red-carpet-fashion-what-the-stars-wore/\n"
     ]
    },
    {
     "name": "stderr",
     "output_type": "stream",
     "text": [
      "Scraping Progress:  19%|█▉        | 1621/8402 [52:38<3:36:06,  1.91s/it]"
     ]
    },
    {
     "name": "stdout",
     "output_type": "stream",
     "text": [
      "Cannot fetch https://www.channelnewsasia.com/news/world/exclusive--at-un-climate-talks--trump-team-plans-sideshow-on-coal-10934936, HTTP error: 404 Client Error: Not Found for url: https://www.channelnewsasia.com/news/world/exclusive--at-un-climate-talks--trump-team-plans-sideshow-on-coal-10934936\n"
     ]
    },
    {
     "name": "stderr",
     "output_type": "stream",
     "text": [
      "Scraping Progress:  19%|█▉        | 1622/8402 [52:41<4:03:40,  2.16s/it]"
     ]
    },
    {
     "name": "stdout",
     "output_type": "stream",
     "text": [
      "Successfully fetched: https://www.engadget.com/2018/09/07/the-us-government-comes-for-google-facebook-and-twitter/\n"
     ]
    },
    {
     "name": "stderr",
     "output_type": "stream",
     "text": [
      "Scraping Progress:  19%|█▉        | 1623/8402 [52:43<3:41:25,  1.96s/it]"
     ]
    },
    {
     "name": "stdout",
     "output_type": "stream",
     "text": [
      "Successfully fetched: https://www.forbes.com/sites/billwilliamson/2018/12/13/where-will-oakland-raiders-call-home-in-2019/\n"
     ]
    },
    {
     "name": "stderr",
     "output_type": "stream",
     "text": [
      "Scraping Progress:  19%|█▉        | 1624/8402 [52:44<3:39:22,  1.94s/it]"
     ]
    },
    {
     "name": "stdout",
     "output_type": "stream",
     "text": [
      "Successfully fetched: https://www.we-heart.com/2018/01/10/tickets-photographs-by-hunter-barnes/\n"
     ]
    },
    {
     "name": "stderr",
     "output_type": "stream",
     "text": [
      "Scraping Progress:  19%|█▉        | 1625/8402 [52:46<3:16:41,  1.74s/it]"
     ]
    },
    {
     "name": "stdout",
     "output_type": "stream",
     "text": [
      "Successfully fetched: https://drunkenstepfather.com/2018/04/10/julianne-hough-nude-bra-of-the-day\n"
     ]
    },
    {
     "name": "stderr",
     "output_type": "stream",
     "text": [
      "Scraping Progress:  19%|█▉        | 1626/8402 [52:48<3:43:57,  1.98s/it]"
     ]
    },
    {
     "name": "stdout",
     "output_type": "stream",
     "text": [
      "Successfully fetched: https://www.memeorandum.com/190307/p44\n"
     ]
    },
    {
     "name": "stderr",
     "output_type": "stream",
     "text": [
      "Scraping Progress:  19%|█▉        | 1627/8402 [52:50<3:40:54,  1.96s/it]"
     ]
    },
    {
     "name": "stdout",
     "output_type": "stream",
     "text": [
      "Successfully fetched: https://www.memeorandum.com/191006/p36\n"
     ]
    },
    {
     "name": "stderr",
     "output_type": "stream",
     "text": [
      "Scraping Progress:  19%|█▉        | 1628/8402 [52:52<3:32:56,  1.89s/it]"
     ]
    },
    {
     "name": "stdout",
     "output_type": "stream",
     "text": [
      "Successfully fetched: http://collider.com/it-2-screening-pictures-arclight-hollywood/\n"
     ]
    },
    {
     "name": "stderr",
     "output_type": "stream",
     "text": [
      "Scraping Progress:  19%|█▉        | 1629/8402 [52:53<3:16:53,  1.74s/it]"
     ]
    },
    {
     "name": "stdout",
     "output_type": "stream",
     "text": [
      "Cannot fetch https://dealbreaker.com/2018/12/tom-farleys-greatest-act-at-nyse-was-pranking-snap-into-going-public/, HTTP error: 403 Client Error: Forbidden for url: https://dealbreaker.com/2018/12/tom-farleys-greatest-act-at-nyse-was-pranking-snap-into-going-public/\n"
     ]
    },
    {
     "name": "stderr",
     "output_type": "stream",
     "text": [
      "Scraping Progress:  19%|█▉        | 1630/8402 [52:55<3:00:04,  1.60s/it]"
     ]
    },
    {
     "name": "stdout",
     "output_type": "stream",
     "text": [
      "Successfully fetched: https://www.cbc.ca/news/canada/british-columbia/alberta-bc-turn-off-taps-trans-mountain-1.5118519\n"
     ]
    },
    {
     "name": "stderr",
     "output_type": "stream",
     "text": [
      "Scraping Progress:  19%|█▉        | 1631/8402 [52:58<3:56:34,  2.10s/it]"
     ]
    },
    {
     "name": "stdout",
     "output_type": "stream",
     "text": [
      "Successfully fetched: http://www.nba.com/article/2018/11/14/about-last-night-11-14-18\n"
     ]
    },
    {
     "name": "stderr",
     "output_type": "stream",
     "text": [
      "Scraping Progress:  19%|█▉        | 1632/8402 [53:00<3:50:31,  2.04s/it]"
     ]
    },
    {
     "name": "stdout",
     "output_type": "stream",
     "text": [
      "Successfully fetched: https://bloody-disgusting.com/movie/3578896/trailer-sideshow-performers-strike-back-halloween-set-horror-movie-candy-corn/\n"
     ]
    },
    {
     "name": "stderr",
     "output_type": "stream",
     "text": [
      "Scraping Progress:  19%|█▉        | 1633/8402 [53:02<3:53:09,  2.07s/it]"
     ]
    },
    {
     "name": "stdout",
     "output_type": "stream",
     "text": [
      "Cannot fetch https://tomandlorenzo.com/2018/02/perry-ellis-fall-2018-menswear-collection-nyfw/, HTTP error: 404 Client Error: Not Found for url: https://tomandlorenzo.com/2018/02/perry-ellis-fall-2018-menswear-collection-nyfw/\n"
     ]
    },
    {
     "name": "stderr",
     "output_type": "stream",
     "text": [
      "Scraping Progress:  19%|█▉        | 1634/8402 [53:03<3:33:10,  1.89s/it]"
     ]
    },
    {
     "name": "stdout",
     "output_type": "stream",
     "text": [
      "Successfully fetched: https://www.rawstory.com/2018/08/watch-reagan-era-budget-director-david-stockman-viciously-shreds-neanderthal-trump-trade-missteps/\n"
     ]
    },
    {
     "name": "stderr",
     "output_type": "stream",
     "text": [
      "Scraping Progress:  19%|█▉        | 1635/8402 [53:05<3:13:23,  1.71s/it]"
     ]
    },
    {
     "name": "stdout",
     "output_type": "stream",
     "text": [
      "Successfully fetched: https://economictimes.indiatimes.com/markets/stocks/news/high-noon-in-brussels-italy-prepares-for-budget-showdown/articleshow/66291504.cms\n"
     ]
    },
    {
     "name": "stderr",
     "output_type": "stream",
     "text": [
      "Scraping Progress:  19%|█▉        | 1636/8402 [53:07<3:43:11,  1.98s/it]"
     ]
    },
    {
     "name": "stdout",
     "output_type": "stream",
     "text": [
      "Successfully fetched: https://www.globalsecurity.org/wmd/library/news/ukraine/2019/ukraine-190412-rferl02.htm\n"
     ]
    },
    {
     "name": "stderr",
     "output_type": "stream",
     "text": [
      "Scraping Progress:  19%|█▉        | 1637/8402 [53:09<3:21:21,  1.79s/it]"
     ]
    },
    {
     "name": "stdout",
     "output_type": "stream",
     "text": [
      "Successfully fetched: https://www.memeorandum.com/180327/p93\n"
     ]
    },
    {
     "name": "stderr",
     "output_type": "stream",
     "text": [
      "Scraping Progress:  19%|█▉        | 1638/8402 [53:10<3:21:09,  1.78s/it]"
     ]
    },
    {
     "name": "stdout",
     "output_type": "stream",
     "text": [
      "Successfully fetched: https://www.bostonherald.com/2019/09/18/prosecutor-calls-attempt-to-pry-into-uscs-admissions-process-a-sideshow/\n"
     ]
    },
    {
     "name": "stderr",
     "output_type": "stream",
     "text": [
      "Scraping Progress:  20%|█▉        | 1639/8402 [53:12<3:14:49,  1.73s/it]"
     ]
    },
    {
     "name": "stdout",
     "output_type": "stream",
     "text": [
      "Successfully fetched: http://www.cyclingnews.com/news/vaughters-chris-froome-should-do-the-honourable-thing/\n"
     ]
    },
    {
     "name": "stderr",
     "output_type": "stream",
     "text": [
      "Scraping Progress:  20%|█▉        | 1640/8402 [53:14<3:09:15,  1.68s/it]"
     ]
    },
    {
     "name": "stdout",
     "output_type": "stream",
     "text": [
      "Successfully fetched: http://www.liverpoolfc.com/match/2017-18/first-team/everton-v-liverpool-live-matchday-blog\n"
     ]
    },
    {
     "name": "stderr",
     "output_type": "stream",
     "text": [
      "Scraping Progress:  20%|█▉        | 1641/8402 [53:16<3:22:20,  1.80s/it]"
     ]
    },
    {
     "name": "stdout",
     "output_type": "stream",
     "text": [
      "Successfully fetched: http://nymag.com/intelligencer/2019/06/mcconnell-blocking-plans-to-prevent-russian-election-attack.html\n"
     ]
    },
    {
     "name": "stderr",
     "output_type": "stream",
     "text": [
      "Scraping Progress:  20%|█▉        | 1642/8402 [53:17<3:21:54,  1.79s/it]"
     ]
    },
    {
     "name": "stdout",
     "output_type": "stream",
     "text": [
      "Cannot fetch https://www.balloon-juice.com/2018/06/20/ignore-the-sideshow-focus-on-the-main-event-where-are-the-toddlers-where-are-the-girls/, HTTP error: 403 Client Error: Forbidden for url: https://balloon-juice.com/2018/06/20/ignore-the-sideshow-focus-on-the-main-event-where-are-the-toddlers-where-are-the-girls/\n"
     ]
    },
    {
     "name": "stderr",
     "output_type": "stream",
     "text": [
      "Scraping Progress:  20%|█▉        | 1643/8402 [53:19<3:01:52,  1.61s/it]"
     ]
    },
    {
     "name": "stdout",
     "output_type": "stream",
     "text": [
      "Successfully fetched: https://www.memeorandum.com/191008/p150\n"
     ]
    },
    {
     "name": "stderr",
     "output_type": "stream",
     "text": [
      "Scraping Progress:  20%|█▉        | 1644/8402 [53:20<3:07:23,  1.66s/it]"
     ]
    },
    {
     "name": "stdout",
     "output_type": "stream",
     "text": [
      "Successfully fetched: https://www.whudat.de/lndn-drgs-jay-worthy-x-sean-house-x-conway-sideshow-official-video/\n"
     ]
    },
    {
     "name": "stderr",
     "output_type": "stream",
     "text": [
      "Scraping Progress:  20%|█▉        | 1645/8402 [53:22<3:19:35,  1.77s/it]"
     ]
    },
    {
     "name": "stdout",
     "output_type": "stream",
     "text": [
      "Cannot fetch https://www.balloon-juice.com/2018/09/26/gop-misogyny-open-thread-a-female-assistant/, HTTP error: 403 Client Error: Forbidden for url: https://balloon-juice.com/2018/09/26/gop-misogyny-open-thread-a-female-assistant/\n"
     ]
    },
    {
     "name": "stderr",
     "output_type": "stream",
     "text": [
      "Scraping Progress:  20%|█▉        | 1646/8402 [53:24<2:59:43,  1.60s/it]"
     ]
    },
    {
     "name": "stdout",
     "output_type": "stream",
     "text": [
      "Successfully fetched: https://www.rollingstone.com/politics/politics-features/andrew-yang-presidential-campaign-warren-sanders-primary-new-hampshire-894641/\n"
     ]
    },
    {
     "name": "stderr",
     "output_type": "stream",
     "text": [
      "Scraping Progress:  20%|█▉        | 1647/8402 [53:25<3:05:47,  1.65s/it]"
     ]
    },
    {
     "name": "stdout",
     "output_type": "stream",
     "text": [
      "Successfully fetched: https://www.memeorandum.com/191112/p132\n"
     ]
    },
    {
     "name": "stderr",
     "output_type": "stream",
     "text": [
      "Scraping Progress:  20%|█▉        | 1648/8402 [53:27<3:10:47,  1.69s/it]"
     ]
    },
    {
     "name": "stdout",
     "output_type": "stream",
     "text": [
      "Successfully fetched: https://www.memeorandum.com/180121/p16\n"
     ]
    },
    {
     "name": "stderr",
     "output_type": "stream",
     "text": [
      "Scraping Progress:  20%|█▉        | 1649/8402 [53:29<3:11:15,  1.70s/it]"
     ]
    },
    {
     "name": "stdout",
     "output_type": "stream",
     "text": [
      "Successfully fetched: https://www.thedailybeast.com/noaa-left-federal-weather-workers-shocked-and-irate-by-backing-trump-union-head-says\n"
     ]
    },
    {
     "name": "stderr",
     "output_type": "stream",
     "text": [
      "Scraping Progress:  20%|█▉        | 1650/8402 [53:32<3:49:57,  2.04s/it]"
     ]
    },
    {
     "name": "stdout",
     "output_type": "stream",
     "text": [
      "Successfully fetched: https://www.memeorandum.com/190115/p69\n"
     ]
    },
    {
     "name": "stderr",
     "output_type": "stream",
     "text": [
      "Scraping Progress:  20%|█▉        | 1651/8402 [53:34<3:43:29,  1.99s/it]"
     ]
    },
    {
     "name": "stdout",
     "output_type": "stream",
     "text": [
      "Cannot fetch https://www.washingtonpost.com/news/business/wp/2018/01/05/fx-chief-says-it-has-conducted-an-exhaustive-investigation-into-louis-c-k-s-past-behavior/, connection timed out.\n"
     ]
    },
    {
     "name": "stderr",
     "output_type": "stream",
     "text": [
      "Scraping Progress:  20%|█▉        | 1652/8402 [53:45<8:50:29,  4.72s/it]"
     ]
    },
    {
     "name": "stdout",
     "output_type": "stream",
     "text": [
      "Cannot fetch https://sports.yahoo.com/trent-williams-rumor-emerges-cleveland-220830378.html, HTTP error: 404 Client Error: Not Found for url: https://sports.yahoo.com/trent-williams-rumor-emerges-cleveland-220830378.html\n"
     ]
    },
    {
     "name": "stderr",
     "output_type": "stream",
     "text": [
      "Scraping Progress:  20%|█▉        | 1653/8402 [53:46<6:56:45,  3.71s/it]"
     ]
    },
    {
     "name": "stdout",
     "output_type": "stream",
     "text": [
      "Successfully fetched: https://www.playstationlifestyle.net/2019/10/18/spider-man-ps4-statue-pop-culture-shock/\n"
     ]
    },
    {
     "name": "stderr",
     "output_type": "stream",
     "text": [
      "Scraping Progress:  20%|█▉        | 1654/8402 [53:47<5:37:29,  3.00s/it]"
     ]
    },
    {
     "name": "stdout",
     "output_type": "stream",
     "text": [
      "Successfully fetched: http://www.latimes.com/entertainment/la-et-jim-carrey-sarah-huckabee-sanders-portrait-20180319-story.html\n"
     ]
    },
    {
     "name": "stderr",
     "output_type": "stream",
     "text": [
      "Scraping Progress:  20%|█▉        | 1655/8402 [53:49<4:57:44,  2.65s/it]"
     ]
    },
    {
     "name": "stdout",
     "output_type": "stream",
     "text": [
      "Successfully fetched: https://www.theatlantic.com/politics/archive/2019/11/joe-biden-2020-frontrunner/601720/\n"
     ]
    },
    {
     "name": "stderr",
     "output_type": "stream",
     "text": [
      "Scraping Progress:  20%|█▉        | 1656/8402 [53:51<4:22:23,  2.33s/it]"
     ]
    },
    {
     "name": "stdout",
     "output_type": "stream",
     "text": [
      "Cannot fetch http://www.syfy.com/syfywire/exclusive-how-sideshows-nightmare-joker-statue-emerged-from-the-sewers-of-gotham, HTTP error: 404 Client Error: Not Found for url: https://www.syfy.com/syfy-wire/exclusive-how-sideshows-nightmare-joker-statue-emerged-from-the-sewers-of-gotham\n"
     ]
    },
    {
     "name": "stderr",
     "output_type": "stream",
     "text": [
      "Scraping Progress:  20%|█▉        | 1657/8402 [53:52<3:56:26,  2.10s/it]"
     ]
    },
    {
     "name": "stdout",
     "output_type": "stream",
     "text": [
      "Cannot fetch https://www.news24.com/Columnists/Pieter_du_Toit/gordhan-meeting-the-guptas-is-a-sideshow-the-real-story-is-zuma-20181108, HTTP error: 403 Client Error: Forbidden for url: https://www.news24.com/Columnists/Pieter_du_Toit/gordhan-meeting-the-guptas-is-a-sideshow-the-real-story-is-zuma-20181108\n"
     ]
    },
    {
     "name": "stderr",
     "output_type": "stream",
     "text": [
      "Scraping Progress:  20%|█▉        | 1658/8402 [53:54<3:27:23,  1.85s/it]"
     ]
    },
    {
     "name": "stdout",
     "output_type": "stream",
     "text": [
      "Successfully fetched: https://www.memeorandum.com/191018/p25\n"
     ]
    },
    {
     "name": "stderr",
     "output_type": "stream",
     "text": [
      "Scraping Progress:  20%|█▉        | 1659/8402 [53:55<3:25:53,  1.83s/it]"
     ]
    },
    {
     "name": "stdout",
     "output_type": "stream",
     "text": [
      "Successfully fetched: https://canaltech.com.br/hardware/bb-8-em-tamanho-real-deve-chegar-em-breve-ao-mercado-mas-com-preco-salgadissimo-117390/\n"
     ]
    },
    {
     "name": "stderr",
     "output_type": "stream",
     "text": [
      "Scraping Progress:  20%|█▉        | 1660/8402 [53:57<3:24:50,  1.82s/it]"
     ]
    },
    {
     "name": "stdout",
     "output_type": "stream",
     "text": [
      "Successfully fetched: https://losangeles.cbslocal.com/2019/12/30/police-use-tech-to-track-street-racers-make-arrests/\n"
     ]
    },
    {
     "name": "stderr",
     "output_type": "stream",
     "text": [
      "Scraping Progress:  20%|█▉        | 1661/8402 [53:59<3:22:12,  1.80s/it]"
     ]
    },
    {
     "name": "stdout",
     "output_type": "stream",
     "text": [
      "Successfully fetched: http://worldsoccertalk.com/2019/01/23/sanchez-ozil-cast-to-sideshow-as-buoyant-man-utd-visit-arsenal/\n"
     ]
    },
    {
     "name": "stderr",
     "output_type": "stream",
     "text": [
      "Scraping Progress:  20%|█▉        | 1662/8402 [54:02<3:52:38,  2.07s/it]"
     ]
    },
    {
     "name": "stdout",
     "output_type": "stream",
     "text": [
      "Successfully fetched: https://www.ozbargain.com.au/node/386435\n"
     ]
    },
    {
     "name": "stderr",
     "output_type": "stream",
     "text": [
      "Scraping Progress:  20%|█▉        | 1663/8402 [54:03<3:33:59,  1.91s/it]"
     ]
    },
    {
     "name": "stdout",
     "output_type": "stream",
     "text": [
      "Successfully fetched: https://www.memeorandum.com/180411/p91\n"
     ]
    },
    {
     "name": "stderr",
     "output_type": "stream",
     "text": [
      "Scraping Progress:  20%|█▉        | 1664/8402 [54:05<3:29:58,  1.87s/it]"
     ]
    },
    {
     "name": "stdout",
     "output_type": "stream",
     "text": [
      "Successfully fetched: http://www.vulture.com/2018/02/today-explained-vox-media-daily-news-podcast.html\n"
     ]
    },
    {
     "name": "stderr",
     "output_type": "stream",
     "text": [
      "Scraping Progress:  20%|█▉        | 1665/8402 [54:07<3:26:23,  1.84s/it]"
     ]
    },
    {
     "name": "stdout",
     "output_type": "stream",
     "text": [
      "Successfully fetched: https://www.aljazeera.com/indepth/features/untold-history-wwi-battles-levelled-east-africa-181106001050166.html\n"
     ]
    },
    {
     "name": "stderr",
     "output_type": "stream",
     "text": [
      "Scraping Progress:  20%|█▉        | 1666/8402 [54:08<3:21:28,  1.79s/it]"
     ]
    },
    {
     "name": "stdout",
     "output_type": "stream",
     "text": [
      "Successfully fetched: https://www.cbr.com/the-walking-dead-10-things-from-the-comics-we-wont-see-in-the-series/\n"
     ]
    },
    {
     "name": "stderr",
     "output_type": "stream",
     "text": [
      "Scraping Progress:  20%|█▉        | 1668/8402 [54:11<3:02:51,  1.63s/it]"
     ]
    },
    {
     "name": "stdout",
     "output_type": "stream",
     "text": [
      "Successfully fetched: https://www.rawstory.com/2018/04/new-york-times-blisters-trump-gop-enablers-president-not-law/\n"
     ]
    },
    {
     "name": "stderr",
     "output_type": "stream",
     "text": [
      "Scraping Progress:  20%|█▉        | 1669/8402 [54:13<2:49:43,  1.51s/it]"
     ]
    },
    {
     "name": "stdout",
     "output_type": "stream",
     "text": [
      "Successfully fetched: https://www.sneakerfiles.com/under-armour-curry-6-oakland-sideshow-release-date/\n"
     ]
    },
    {
     "name": "stderr",
     "output_type": "stream",
     "text": [
      "Scraping Progress:  20%|█▉        | 1670/8402 [54:14<2:46:58,  1.49s/it]"
     ]
    },
    {
     "name": "stdout",
     "output_type": "stream",
     "text": [
      "Successfully fetched: https://www.cbr.com/middlewest-comic-explained/\n"
     ]
    },
    {
     "name": "stderr",
     "output_type": "stream",
     "text": [
      "Scraping Progress:  20%|█▉        | 1671/8402 [54:15<2:40:18,  1.43s/it]"
     ]
    },
    {
     "name": "stdout",
     "output_type": "stream",
     "text": [
      "Successfully fetched: https://www.cbr.com/xbox-one-x-gaming-deals-walmart/\n"
     ]
    },
    {
     "name": "stderr",
     "output_type": "stream",
     "text": [
      "Scraping Progress:  20%|█▉        | 1672/8402 [54:17<2:40:02,  1.43s/it]"
     ]
    },
    {
     "name": "stdout",
     "output_type": "stream",
     "text": [
      "Successfully fetched: https://www.memeorandum.com/180102/p30\n"
     ]
    },
    {
     "name": "stderr",
     "output_type": "stream",
     "text": [
      "Scraping Progress:  20%|█▉        | 1673/8402 [54:18<2:52:14,  1.54s/it]"
     ]
    },
    {
     "name": "stdout",
     "output_type": "stream",
     "text": [
      "Successfully fetched: https://www.comicbookmovie.com/spider-man/marvel-spider-verse-art-print-reveal-plus-another-giveaway-a158362\n"
     ]
    },
    {
     "name": "stderr",
     "output_type": "stream",
     "text": [
      "Scraping Progress:  20%|█▉        | 1674/8402 [54:20<2:47:22,  1.49s/it]"
     ]
    },
    {
     "name": "stdout",
     "output_type": "stream",
     "text": [
      "Successfully fetched: https://www.comicbookmovie.com/spider-man/marvel-spider-verse-fine-art-print-reveal-and-giveaway-a158362\n"
     ]
    },
    {
     "name": "stderr",
     "output_type": "stream",
     "text": [
      "Scraping Progress:  20%|█▉        | 1675/8402 [54:21<2:44:10,  1.46s/it]"
     ]
    },
    {
     "name": "stdout",
     "output_type": "stream",
     "text": [
      "Successfully fetched: https://www.aljazeera.com/indepth/opinion/racism-race-conversations-180927144746901.html\n"
     ]
    },
    {
     "name": "stderr",
     "output_type": "stream",
     "text": [
      "Scraping Progress:  20%|█▉        | 1676/8402 [54:23<3:02:39,  1.63s/it]"
     ]
    },
    {
     "name": "stdout",
     "output_type": "stream",
     "text": [
      "Successfully fetched: http://www.abc.net.au/news/2018-01-25/why-hillary-clinton-still-haunts-donald-trump/9356520\n"
     ]
    },
    {
     "name": "stderr",
     "output_type": "stream",
     "text": [
      "Scraping Progress:  20%|█▉        | 1677/8402 [54:25<3:17:49,  1.77s/it]"
     ]
    },
    {
     "name": "stdout",
     "output_type": "stream",
     "text": [
      "Cannot fetch https://seekingalpha.com/article/4235587-praise-problem-solvers-asset-allocation-daily, HTTP error: 403 Client Error: Forbidden for url: https://seekingalpha.com/article/4235587-praise-problem-solvers-asset-allocation-daily\n"
     ]
    },
    {
     "name": "stderr",
     "output_type": "stream",
     "text": [
      "Scraping Progress:  20%|█▉        | 1678/8402 [54:27<3:00:03,  1.61s/it]"
     ]
    },
    {
     "name": "stdout",
     "output_type": "stream",
     "text": [
      "Successfully fetched: http://www.goldderby.com/article/2018/black-panther-mtv-movie-and-tv-awards-predictions-news-579364208/\n"
     ]
    },
    {
     "name": "stderr",
     "output_type": "stream",
     "text": [
      "Scraping Progress:  20%|█▉        | 1679/8402 [54:28<3:07:36,  1.67s/it]"
     ]
    },
    {
     "name": "stdout",
     "output_type": "stream",
     "text": [
      "Successfully fetched: https://www.eurogamer.net/articles/2019-07-26-gtas-casino-isnt-the-worst-of-gambling-in-games-but-it-puts-it-in-perspective\n"
     ]
    },
    {
     "name": "stderr",
     "output_type": "stream",
     "text": [
      "Scraping Progress:  20%|█▉        | 1680/8402 [54:30<3:11:14,  1.71s/it]"
     ]
    },
    {
     "name": "stdout",
     "output_type": "stream",
     "text": [
      "Successfully fetched: http://bloody-disgusting.com/toys/3490919/sideshows-jaw-dropping-aliens-queen-maquette-supervised-films-artists/\n"
     ]
    },
    {
     "name": "stderr",
     "output_type": "stream",
     "text": [
      "Scraping Progress:  20%|██        | 1681/8402 [54:32<3:22:19,  1.81s/it]"
     ]
    },
    {
     "name": "stdout",
     "output_type": "stream",
     "text": [
      "Successfully fetched: https://www.washingtonexaminer.com/opinion/tucker-carlson-makes-me-sad\n"
     ]
    },
    {
     "name": "stderr",
     "output_type": "stream",
     "text": [
      "Scraping Progress:  20%|██        | 1682/8402 [54:34<3:22:07,  1.80s/it]"
     ]
    },
    {
     "name": "stdout",
     "output_type": "stream",
     "text": [
      "Cannot fetch http://www.wwtdd.com/2018/03/katy-perry-disgusting-talent/, HTTP error: 404 Client Error: Not Found for url: http://www.wwtdd.com/2018/03/katy-perry-disgusting-talent/\n"
     ]
    },
    {
     "name": "stderr",
     "output_type": "stream",
     "text": [
      "Scraping Progress:  20%|██        | 1683/8402 [54:37<4:03:20,  2.17s/it]"
     ]
    },
    {
     "name": "stdout",
     "output_type": "stream",
     "text": [
      "Cannot fetch https://uk.reuters.com/article/uk-soccer-australia/soccer-a-league-to-kick-off-with-bolt-question-left-hanging-idUKKCN1MR0S8, HTTP error: 401 Client Error: HTTP Forbidden for url: https://www.reuters.com?edition-redirect=uk\n"
     ]
    },
    {
     "name": "stderr",
     "output_type": "stream",
     "text": [
      "Scraping Progress:  20%|██        | 1684/8402 [54:39<3:39:18,  1.96s/it]"
     ]
    },
    {
     "name": "stdout",
     "output_type": "stream",
     "text": [
      "Successfully fetched: http://bloody-disgusting.com/video-games/3503717/trailer-brand-new-killing-floor-2-update-summer-sideshow-coming-tomorrow/\n"
     ]
    },
    {
     "name": "stderr",
     "output_type": "stream",
     "text": [
      "Scraping Progress:  20%|██        | 1685/8402 [54:41<3:55:28,  2.10s/it]"
     ]
    },
    {
     "name": "stdout",
     "output_type": "stream",
     "text": [
      "Successfully fetched: https://www.vice.com/en_us/article/vbkxda/the-best-stuff-at-new-york-comic-con-was-the-actual-comics\n"
     ]
    },
    {
     "name": "stderr",
     "output_type": "stream",
     "text": [
      "Scraping Progress:  20%|██        | 1686/8402 [54:43<3:55:11,  2.10s/it]"
     ]
    },
    {
     "name": "stdout",
     "output_type": "stream",
     "text": [
      "Successfully fetched: https://www.breitbart.com/national-security/2019/10/03/watch-hong-kong-protesters-battle-cleaver-swinging-old-man/\n"
     ]
    },
    {
     "name": "stderr",
     "output_type": "stream",
     "text": [
      "Scraping Progress:  20%|██        | 1687/8402 [54:45<4:05:15,  2.19s/it]"
     ]
    },
    {
     "name": "stdout",
     "output_type": "stream",
     "text": [
      "Successfully fetched: https://www.memeorandum.com/180416/p140\n"
     ]
    },
    {
     "name": "stderr",
     "output_type": "stream",
     "text": [
      "Scraping Progress:  20%|██        | 1688/8402 [54:47<3:53:07,  2.08s/it]"
     ]
    },
    {
     "name": "stdout",
     "output_type": "stream",
     "text": [
      "Successfully fetched: https://www.nakedcapitalism.com/2018/11/links-11-18-18.html\n"
     ]
    },
    {
     "name": "stderr",
     "output_type": "stream",
     "text": [
      "Scraping Progress:  20%|██        | 1689/8402 [54:50<4:24:16,  2.36s/it]"
     ]
    },
    {
     "name": "stdout",
     "output_type": "stream",
     "text": [
      "Successfully fetched: https://www.mediaite.com/trump/lou-dobbs-corrects-bannon-for-saying-trumps-been-a-follower-of-yours-im-a-follower-of-his/\n"
     ]
    },
    {
     "name": "stderr",
     "output_type": "stream",
     "text": [
      "Scraping Progress:  20%|██        | 1690/8402 [54:52<3:58:14,  2.13s/it]"
     ]
    },
    {
     "name": "stdout",
     "output_type": "stream",
     "text": [
      "Cannot fetch https://www.washingtonpost.com/news/the-intersect/wp/2018/09/04/that-was-no-white-power-hand-signal-at-the-kavanaugh-hearing-zina-bashs-husband-says/, connection timed out.\n"
     ]
    },
    {
     "name": "stderr",
     "output_type": "stream",
     "text": [
      "Scraping Progress:  20%|██        | 1691/8402 [55:03<8:58:55,  4.82s/it]"
     ]
    },
    {
     "name": "stdout",
     "output_type": "stream",
     "text": [
      "Successfully fetched: https://www.bleedingcool.com/2019/06/06/call-for-lgbtq-creators-for-out-in-comics-panel-at-san-diego-comic-con/\n"
     ]
    },
    {
     "name": "stderr",
     "output_type": "stream",
     "text": [
      "Scraping Progress:  20%|██        | 1692/8402 [55:04<7:06:28,  3.81s/it]"
     ]
    },
    {
     "name": "stdout",
     "output_type": "stream",
     "text": [
      "Successfully fetched: https://www.bleedingcool.com/2019/10/11/spider-man-is-far-from-home-gets-his-own-iron-studios-statue/\n"
     ]
    },
    {
     "name": "stderr",
     "output_type": "stream",
     "text": [
      "Scraping Progress:  20%|██        | 1693/8402 [55:06<5:40:58,  3.05s/it]"
     ]
    },
    {
     "name": "stdout",
     "output_type": "stream",
     "text": [
      "Cannot fetch https://seekingalpha.com/article/4233966-will-shutdown-risk-end-years-equity-sector-rallies, HTTP error: 403 Client Error: Forbidden for url: https://seekingalpha.com/article/4233966-will-shutdown-risk-end-years-equity-sector-rallies\n"
     ]
    },
    {
     "name": "stderr",
     "output_type": "stream",
     "text": [
      "Scraping Progress:  20%|██        | 1694/8402 [55:07<4:39:34,  2.50s/it]"
     ]
    },
    {
     "name": "stdout",
     "output_type": "stream",
     "text": [
      "Successfully fetched: https://insidethemagic.net/2018/07/new-on-shopdisney-7-31-18-4-display-worthy-star-wars-and-marvel-items-from-sideshow-collectibles/\n"
     ]
    },
    {
     "name": "stderr",
     "output_type": "stream",
     "text": [
      "Scraping Progress:  20%|██        | 1695/8402 [55:09<4:18:55,  2.32s/it]"
     ]
    },
    {
     "name": "stdout",
     "output_type": "stream",
     "text": [
      "Cannot fetch http://thekidshouldseethis.com/post/a-new-republic-the-portrait-work-of-artist-kehinde-wiley, HTTP error: 403 Client Error: Forbidden for url: https://thekidshouldseethis.com/post/a-new-republic-the-portrait-work-of-artist-kehinde-wiley\n"
     ]
    },
    {
     "name": "stderr",
     "output_type": "stream",
     "text": [
      "Scraping Progress:  20%|██        | 1696/8402 [55:10<3:44:51,  2.01s/it]"
     ]
    },
    {
     "name": "stdout",
     "output_type": "stream",
     "text": [
      "Successfully fetched: https://www.bostonherald.com/2019/03/27/feds-want-tsarnaev-barred-from-reading-secret-talks-about-his-brother/\n"
     ]
    },
    {
     "name": "stderr",
     "output_type": "stream",
     "text": [
      "Scraping Progress:  20%|██        | 1697/8402 [55:12<3:30:15,  1.88s/it]"
     ]
    },
    {
     "name": "stdout",
     "output_type": "stream",
     "text": [
      "Successfully fetched: http://www.blogto.com/arts/2016/01/burlesque_shows_and_clubs_in_toronto/\n"
     ]
    },
    {
     "name": "stderr",
     "output_type": "stream",
     "text": [
      "Scraping Progress:  20%|██        | 1698/8402 [55:13<3:19:09,  1.78s/it]"
     ]
    },
    {
     "name": "stdout",
     "output_type": "stream",
     "text": [
      "Successfully fetched: https://www.bleedingcool.com/2018/10/31/image-comics-to-publish-isola-prologue-separately-free-with-isola-6/\n"
     ]
    },
    {
     "name": "stderr",
     "output_type": "stream",
     "text": [
      "Scraping Progress:  20%|██        | 1699/8402 [55:15<3:02:34,  1.63s/it]"
     ]
    },
    {
     "name": "stdout",
     "output_type": "stream",
     "text": [
      "Cannot fetch https://www.washingtonpost.com/news/business/wp/2018/05/18/house-moves-toward-vote-on-farm-bill-with-outcome-uncertain-in-dispute-over-immigration/, connection timed out.\n"
     ]
    },
    {
     "name": "stderr",
     "output_type": "stream",
     "text": [
      "Scraping Progress:  20%|██        | 1700/8402 [55:26<8:18:54,  4.47s/it]"
     ]
    },
    {
     "name": "stdout",
     "output_type": "stream",
     "text": [
      "Cannot fetch http://www.powerlineblog.com/archives/2018/06/trumps-absurd-olive-branch-offer-to-nfl-protesters.php, HTTP error: 403 Client Error: Forbidden for url: https://www.powerlineblog.com/archives/2018/06/trumps-absurd-olive-branch-offer-to-nfl-protesters.php\n"
     ]
    },
    {
     "name": "stderr",
     "output_type": "stream",
     "text": [
      "Scraping Progress:  20%|██        | 1701/8402 [55:27<6:29:38,  3.49s/it]"
     ]
    },
    {
     "name": "stdout",
     "output_type": "stream",
     "text": [
      "Cannot fetch https://dangerousminds.net/comments/decline_iv_the_lost_penelope_spheeris_documentary_on_ozzfest_991, HTTP error: 403 Client Error: Forbidden for url: https://dangerousminds.net/comments/decline_iv_the_lost_penelope_spheeris_documentary_on_ozzfest_991\n"
     ]
    },
    {
     "name": "stderr",
     "output_type": "stream",
     "text": [
      "Scraping Progress:  20%|██        | 1702/8402 [55:28<5:17:19,  2.84s/it]"
     ]
    },
    {
     "name": "stdout",
     "output_type": "stream",
     "text": [
      "Successfully fetched: https://www.thedailybeast.com/marcia-clark-finds-bombshell-evidence-of-casey-anthonys-guilt-10\n"
     ]
    },
    {
     "name": "stderr",
     "output_type": "stream",
     "text": [
      "Scraping Progress:  20%|██        | 1703/8402 [55:31<5:00:44,  2.69s/it]"
     ]
    },
    {
     "name": "stdout",
     "output_type": "stream",
     "text": [
      "Cannot fetch https://www.ccn.com/wells-fargo-analyst-stock-market-rally-to-continue-despite-impeachment-inquiry/, HTTP error: 403 Client Error: Forbidden for url: https://www.ccn.com/wells-fargo-analyst-stock-market-rally-to-continue-despite-impeachment-inquiry/\n"
     ]
    },
    {
     "name": "stderr",
     "output_type": "stream",
     "text": [
      "Scraping Progress:  20%|██        | 1704/8402 [55:32<4:10:52,  2.25s/it]"
     ]
    },
    {
     "name": "stdout",
     "output_type": "stream",
     "text": [
      "Successfully fetched: https://freebeacon.com/politics/gillum-receipt-hamilton-tickets-undercover-fbi-agent-sideshow/\n"
     ]
    },
    {
     "name": "stderr",
     "output_type": "stream",
     "text": [
      "Scraping Progress:  20%|██        | 1705/8402 [55:34<4:03:27,  2.18s/it]"
     ]
    },
    {
     "name": "stdout",
     "output_type": "stream",
     "text": [
      "Successfully fetched: https://www.cbr.com/marvel-avengers-art-prints-displate/\n"
     ]
    },
    {
     "name": "stderr",
     "output_type": "stream",
     "text": [
      "Scraping Progress:  20%|██        | 1706/8402 [55:35<3:33:31,  1.91s/it]"
     ]
    },
    {
     "name": "stdout",
     "output_type": "stream",
     "text": [
      "Successfully fetched: https://www.cbr.com/dc-digital-comics-comixology-holiday-sale/\n"
     ]
    },
    {
     "name": "stderr",
     "output_type": "stream",
     "text": [
      "Scraping Progress:  20%|██        | 1707/8402 [55:36<3:15:32,  1.75s/it]"
     ]
    },
    {
     "name": "stdout",
     "output_type": "stream",
     "text": [
      "Successfully fetched: https://www.cbr.com/comixology-dc-through-the-ages-digital-comics/\n"
     ]
    },
    {
     "name": "stderr",
     "output_type": "stream",
     "text": [
      "Scraping Progress:  20%|██        | 1708/8402 [55:38<3:00:44,  1.62s/it]"
     ]
    },
    {
     "name": "stdout",
     "output_type": "stream",
     "text": [
      "Successfully fetched: https://www.dutchcowboys.nl/entertainment/op-28-juli-is-het-gele-zaterdag-marathon-premiere-van-the-simpsons\n"
     ]
    },
    {
     "name": "stderr",
     "output_type": "stream",
     "text": [
      "Scraping Progress:  20%|██        | 1709/8402 [55:40<3:18:15,  1.78s/it]"
     ]
    },
    {
     "name": "stdout",
     "output_type": "stream",
     "text": [
      "Cannot fetch https://www.geek.com/culture/toy-tuesday-the-best-simpsons-toys-1809911/, HTTP error: 404 Client Error: Not Found for url: https://www.geek.com/culture/toy-tuesday-the-best-simpsons-toys-1809911/\n"
     ]
    },
    {
     "name": "stderr",
     "output_type": "stream",
     "text": [
      "Scraping Progress:  20%|██        | 1710/8402 [55:41<2:56:49,  1.59s/it]"
     ]
    },
    {
     "name": "stdout",
     "output_type": "stream",
     "text": [
      "Cannot fetch https://film.avclub.com/wayne-s-world-director-penelope-spheeris-on-leaving-hol-1833211775, error: HTTPSConnectionPool(host='film.avclub.com', port=443): Max retries exceeded with url: /wayne-s-world-director-penelope-spheeris-on-leaving-hol-1833211775 (Caused by NewConnectionError('<urllib3.connection.HTTPSConnection object at 0x11128b850>: Failed to establish a new connection: [Errno 8] nodename nor servname provided, or not known'))\n"
     ]
    },
    {
     "name": "stderr",
     "output_type": "stream",
     "text": [
      "Scraping Progress:  20%|██        | 1711/8402 [55:42<2:37:41,  1.41s/it]"
     ]
    },
    {
     "name": "stdout",
     "output_type": "stream",
     "text": [
      "Successfully fetched: https://www.bleedingcool.com/2018/10/31/cover-stories-archie-700-dutch-bloodshot-mighty-morphin-miguel-mercado/\n"
     ]
    },
    {
     "name": "stderr",
     "output_type": "stream",
     "text": [
      "Scraping Progress:  20%|██        | 1712/8402 [55:43<2:33:17,  1.37s/it]"
     ]
    },
    {
     "name": "stdout",
     "output_type": "stream",
     "text": [
      "Successfully fetched: http://www.abc.net.au/news/2018-02-11/resurrecting-the-country-show-in-a-struggling-town/9420720\n"
     ]
    },
    {
     "name": "stderr",
     "output_type": "stream",
     "text": [
      "Scraping Progress:  20%|██        | 1713/8402 [55:46<3:05:47,  1.67s/it]"
     ]
    },
    {
     "name": "stdout",
     "output_type": "stream",
     "text": [
      "Successfully fetched: http://www.wwtdd.com/2018/08/you-wont-believe-what-nicki-minajs-butt-looked-like-at-vmas/\n"
     ]
    },
    {
     "name": "stderr",
     "output_type": "stream",
     "text": [
      "Scraping Progress:  20%|██        | 1714/8402 [55:47<3:11:13,  1.72s/it]"
     ]
    },
    {
     "name": "stdout",
     "output_type": "stream",
     "text": [
      "Successfully fetched: http://www.skysports.com/football/news/12098/11388240/world-cups-remembered-mexico-1970\n"
     ]
    },
    {
     "name": "stderr",
     "output_type": "stream",
     "text": [
      "Scraping Progress:  20%|██        | 1715/8402 [55:49<3:18:15,  1.78s/it]"
     ]
    },
    {
     "name": "stdout",
     "output_type": "stream",
     "text": [
      "Successfully fetched: http://www.insidethemagic.net/2018/01/disney-music-reviews-sideshow-sound-theater/\n"
     ]
    },
    {
     "name": "stderr",
     "output_type": "stream",
     "text": [
      "Scraping Progress:  20%|██        | 1716/8402 [55:52<3:31:19,  1.90s/it]"
     ]
    },
    {
     "name": "stdout",
     "output_type": "stream",
     "text": [
      "Successfully fetched: https://www.bleedingcool.com/2019/11/26/jim-lee-hex-backpacks-portfolios-comic-store/\n"
     ]
    },
    {
     "name": "stderr",
     "output_type": "stream",
     "text": [
      "Scraping Progress:  20%|██        | 1717/8402 [55:53<3:11:21,  1.72s/it]"
     ]
    },
    {
     "name": "stdout",
     "output_type": "stream",
     "text": [
      "Cannot fetch https://canadianhomesteading.ca/science/dimming-the-sun-to-stop-global-warming-is-not-something-scientists-suggested/7482, HTTP error: 404 Client Error: Not Found for url: https://canadianhomesteading.ca/science/dimming-the-sun-to-stop-global-warming-is-not-something-scientists-suggested/7482/\n"
     ]
    },
    {
     "name": "stderr",
     "output_type": "stream",
     "text": [
      "Scraping Progress:  20%|██        | 1718/8402 [55:54<3:00:18,  1.62s/it]"
     ]
    },
    {
     "name": "stdout",
     "output_type": "stream",
     "text": [
      "Successfully fetched: http://dailycaller.com/2018/06/19/ice-director-its-an-insult-that-critics-compare-border-patrol-to-nazi-germany/\n"
     ]
    },
    {
     "name": "stderr",
     "output_type": "stream",
     "text": [
      "Scraping Progress:  20%|██        | 1719/8402 [55:58<4:11:54,  2.26s/it]"
     ]
    },
    {
     "name": "stdout",
     "output_type": "stream",
     "text": [
      "Successfully fetched: https://nypost.com/2019/11/28/teens-plead-guilty-to-harassing-lesbian-couple-in-brutal-london-bus-attack/\n"
     ]
    },
    {
     "name": "stderr",
     "output_type": "stream",
     "text": [
      "Scraping Progress:  20%|██        | 1720/8402 [56:00<3:54:12,  2.10s/it]"
     ]
    },
    {
     "name": "stdout",
     "output_type": "stream",
     "text": [
      "Successfully fetched: https://fontsinuse.com/uses/25100/kicks-sports-bar?utm_source=feedburner&utm_medium=feed&utm_campaign=Feed%3A+FontsInUseAll+%28Fonts+In+Use%29\n"
     ]
    },
    {
     "name": "stderr",
     "output_type": "stream",
     "text": [
      "Scraping Progress:  20%|██        | 1721/8402 [56:02<4:04:40,  2.20s/it]"
     ]
    },
    {
     "name": "stdout",
     "output_type": "stream",
     "text": [
      "Successfully fetched: https://www.thecut.com/2018/09/what-to-expect-during-kavanaugh-ford-senate-hearing.html\n"
     ]
    },
    {
     "name": "stderr",
     "output_type": "stream",
     "text": [
      "Scraping Progress:  20%|██        | 1722/8402 [56:04<3:58:03,  2.14s/it]"
     ]
    },
    {
     "name": "stdout",
     "output_type": "stream",
     "text": [
      "Successfully fetched: https://www.cbsnews.com/news/gavin-newsom-says-trump-proposal-to-release-immigrants-into-sanctuary-cities-is-asinine/\n"
     ]
    },
    {
     "name": "stderr",
     "output_type": "stream",
     "text": [
      "Scraping Progress:  21%|██        | 1723/8402 [56:06<3:48:35,  2.05s/it]"
     ]
    },
    {
     "name": "stdout",
     "output_type": "stream",
     "text": [
      "Successfully fetched: https://bleacherreport.com/articles/2808325-wwe-205-live-results-winners-grades-reaction-and-highlights-from-november-28\n"
     ]
    },
    {
     "name": "stderr",
     "output_type": "stream",
     "text": [
      "Scraping Progress:  21%|██        | 1724/8402 [56:07<3:27:53,  1.87s/it]"
     ]
    },
    {
     "name": "stdout",
     "output_type": "stream",
     "text": [
      "Successfully fetched: https://talkingpointsmemo.com/news/roy-moore-corfman-charade-publicity-stunt\n"
     ]
    },
    {
     "name": "stderr",
     "output_type": "stream",
     "text": [
      "Scraping Progress:  21%|██        | 1725/8402 [56:09<3:22:37,  1.82s/it]"
     ]
    },
    {
     "name": "stdout",
     "output_type": "stream",
     "text": [
      "Successfully fetched: https://talkingpointsmemo.com/news/republican-ted-yoho-not-attended-impeachment-testimony\n"
     ]
    },
    {
     "name": "stderr",
     "output_type": "stream",
     "text": [
      "Scraping Progress:  21%|██        | 1726/8402 [56:11<3:18:35,  1.78s/it]"
     ]
    },
    {
     "name": "stdout",
     "output_type": "stream",
     "text": [
      "Successfully fetched: https://www.bleedingcool.com/2019/12/26/dark-souls-iii-unleashes-a-might-yhorm-statue-from-purearts/\n"
     ]
    },
    {
     "name": "stderr",
     "output_type": "stream",
     "text": [
      "Scraping Progress:  21%|██        | 1727/8402 [56:12<3:02:18,  1.64s/it]"
     ]
    },
    {
     "name": "stdout",
     "output_type": "stream",
     "text": [
      "Successfully fetched: https://sf.funcheap.com/dark-comedy-san-franfreakshow-punch-line-2/\n"
     ]
    },
    {
     "name": "stderr",
     "output_type": "stream",
     "text": [
      "Scraping Progress:  21%|██        | 1728/8402 [56:14<3:20:02,  1.80s/it]"
     ]
    },
    {
     "name": "stdout",
     "output_type": "stream",
     "text": [
      "Cannot fetch https://abcnews.go.com/Technology/wireStory/infowars-host-reaches-spotlight-senate-hearing-57623878, HTTP error: 404 Client Error: Not Found for url: https://abcnews.go.com/Technology/wireStory/infowars-host-reaches-spotlight-senate-hearing-57623878\n"
     ]
    },
    {
     "name": "stderr",
     "output_type": "stream",
     "text": [
      "Scraping Progress:  21%|██        | 1729/8402 [56:16<3:00:07,  1.62s/it]"
     ]
    },
    {
     "name": "stdout",
     "output_type": "stream",
     "text": [
      "Cannot fetch https://www.bloodyelbow.com/2018/6/8/17443224/ufc-225-video-reaction-yoel-romero-missing-weight, HTTP error: 404 Client Error: Not Found for url: https://bloodyelbow.com/2018/6/8/17443224/ufc-225-video-reaction-yoel-romero-missing-weight\n"
     ]
    },
    {
     "name": "stderr",
     "output_type": "stream",
     "text": [
      "Scraping Progress:  21%|██        | 1730/8402 [56:17<2:53:50,  1.56s/it]"
     ]
    },
    {
     "name": "stdout",
     "output_type": "stream",
     "text": [
      "Successfully fetched: https://www.cbr.com/comixology-marvel-zombies/\n"
     ]
    },
    {
     "name": "stderr",
     "output_type": "stream",
     "text": [
      "Scraping Progress:  21%|██        | 1731/8402 [56:18<2:45:13,  1.49s/it]"
     ]
    },
    {
     "name": "stdout",
     "output_type": "stream",
     "text": [
      "Successfully fetched: https://loudwire.com/epicenter-2019-set-times-revealed/\n"
     ]
    },
    {
     "name": "stderr",
     "output_type": "stream",
     "text": [
      "Scraping Progress:  21%|██        | 1733/8402 [56:21<2:37:12,  1.41s/it]"
     ]
    },
    {
     "name": "stdout",
     "output_type": "stream",
     "text": [
      "Successfully fetched: https://sf.funcheap.com/dark-comedy-san-franfreakshow-punch-line/\n"
     ]
    },
    {
     "name": "stderr",
     "output_type": "stream",
     "text": [
      "Scraping Progress:  21%|██        | 1734/8402 [56:23<2:52:48,  1.55s/it]"
     ]
    },
    {
     "name": "stdout",
     "output_type": "stream",
     "text": [
      "Successfully fetched: http://www.joblo.com/movie-news/watch-our-epic-sideshow-collectibles-video-from-comic-con-2018-203\n"
     ]
    },
    {
     "name": "stderr",
     "output_type": "stream",
     "text": [
      "Scraping Progress:  21%|██        | 1735/8402 [56:25<3:04:02,  1.66s/it]"
     ]
    },
    {
     "name": "stdout",
     "output_type": "stream",
     "text": [
      "Cannot fetch http://www.sewmamasew.com/2018/01/quilts-alias-grace-identification-tutorial-roundup/, HTTP error: 404 Client Error: Not Found for url: http://www.sewmamasew.com/2018/01/quilts-alias-grace-identification-tutorial-roundup/\n"
     ]
    },
    {
     "name": "stderr",
     "output_type": "stream",
     "text": [
      "Scraping Progress:  21%|██        | 1736/8402 [56:26<2:51:28,  1.54s/it]"
     ]
    },
    {
     "name": "stdout",
     "output_type": "stream",
     "text": [
      "Successfully fetched: https://www.activistpost.com/2018/01/olympic-games-south-korea-perfect-opportunity-false-flag-attack.html\n"
     ]
    },
    {
     "name": "stderr",
     "output_type": "stream",
     "text": [
      "Scraping Progress:  21%|██        | 1737/8402 [56:29<3:38:11,  1.96s/it]"
     ]
    },
    {
     "name": "stdout",
     "output_type": "stream",
     "text": [
      "Cannot fetch http://www.conservativehq.com/article/30685-assault-america-day-204-circus-sideshow-2020-democrats-amp-absurdity-debate-looms, HTTP error: 404 Client Error: Not Found for url: https://www.conservativehq.com/article/30685-assault-america-day-204-circus-sideshow-2020-democrats-amp-absurdity-debate-looms\n"
     ]
    },
    {
     "name": "stderr",
     "output_type": "stream",
     "text": [
      "Scraping Progress:  21%|██        | 1738/8402 [56:30<3:17:13,  1.78s/it]"
     ]
    },
    {
     "name": "stdout",
     "output_type": "stream",
     "text": [
      "Successfully fetched: https://www.cbr.com/comixology-sale-marvel-2099/\n"
     ]
    },
    {
     "name": "stderr",
     "output_type": "stream",
     "text": [
      "Scraping Progress:  21%|██        | 1739/8402 [56:32<3:01:27,  1.63s/it]"
     ]
    },
    {
     "name": "stdout",
     "output_type": "stream",
     "text": [
      "Successfully fetched: https://www.cbr.com/alex-ross-artwork-displate/\n"
     ]
    },
    {
     "name": "stderr",
     "output_type": "stream",
     "text": [
      "Scraping Progress:  21%|██        | 1740/8402 [56:33<2:51:44,  1.55s/it]"
     ]
    },
    {
     "name": "stdout",
     "output_type": "stream",
     "text": [
      "Successfully fetched: https://www.cbr.com/star-wars-toys-and-collectibles/\n"
     ]
    },
    {
     "name": "stderr",
     "output_type": "stream",
     "text": [
      "Scraping Progress:  21%|██        | 1741/8402 [56:34<2:43:31,  1.47s/it]"
     ]
    },
    {
     "name": "stdout",
     "output_type": "stream",
     "text": [
      "Successfully fetched: https://www.cbr.com/entertainment-earths-new-comic-toys-and-collectibles/\n"
     ]
    },
    {
     "name": "stderr",
     "output_type": "stream",
     "text": [
      "Scraping Progress:  21%|██        | 1742/8402 [56:36<2:38:53,  1.43s/it]"
     ]
    },
    {
     "name": "stdout",
     "output_type": "stream",
     "text": [
      "Successfully fetched: https://sportsnaut.com/2018/12/winners-losers-from-monday-night-football-in-week-15/\n"
     ]
    },
    {
     "name": "stderr",
     "output_type": "stream",
     "text": [
      "Scraping Progress:  21%|██        | 1743/8402 [56:39<3:30:18,  1.89s/it]"
     ]
    },
    {
     "name": "stdout",
     "output_type": "stream",
     "text": [
      "Successfully fetched: https://www.tbray.org/ongoing/When/201x/2018/03/18/SotD-I-Put-A-Spell-On-You\n"
     ]
    },
    {
     "name": "stderr",
     "output_type": "stream",
     "text": [
      "Scraping Progress:  21%|██        | 1744/8402 [56:40<3:28:09,  1.88s/it]"
     ]
    },
    {
     "name": "stdout",
     "output_type": "stream",
     "text": [
      "Successfully fetched: https://toynewsi.com/news.php?itemid=31890\n"
     ]
    },
    {
     "name": "stderr",
     "output_type": "stream",
     "text": [
      "Scraping Progress:  21%|██        | 1745/8402 [56:42<3:25:35,  1.85s/it]"
     ]
    },
    {
     "name": "stdout",
     "output_type": "stream",
     "text": [
      "Cannot fetch http://www.bostonherald.com/entertainment/television/2018/01/fx_chief_even_peak_tv_can_be_a_sideshow_to_internet, HTTP error: 404 Client Error: Not Found for url: https://www.bostonherald.com/entertainment/television/2018/01/fx_chief_even_peak_tv_can_be_a_sideshow_to_internet\n"
     ]
    },
    {
     "name": "stderr",
     "output_type": "stream",
     "text": [
      "Scraping Progress:  21%|██        | 1746/8402 [56:44<3:09:26,  1.71s/it]"
     ]
    },
    {
     "name": "stdout",
     "output_type": "stream",
     "text": [
      "Successfully fetched: https://cafehayek.com/2018/07/some-links-1192.html\n"
     ]
    },
    {
     "name": "stderr",
     "output_type": "stream",
     "text": [
      "Scraping Progress:  21%|██        | 1747/8402 [56:45<3:04:45,  1.67s/it]"
     ]
    },
    {
     "name": "stdout",
     "output_type": "stream",
     "text": [
      "Successfully fetched: https://www.forbes.com/sites/insertcoin/2018/01/02/five-new-years-resolutions-for-destiny-2-in-2018/\n"
     ]
    },
    {
     "name": "stderr",
     "output_type": "stream",
     "text": [
      "Scraping Progress:  21%|██        | 1748/8402 [56:47<3:00:34,  1.63s/it]"
     ]
    },
    {
     "name": "stdout",
     "output_type": "stream",
     "text": [
      "Successfully fetched: https://www.memeorandum.com/180712/p22\n"
     ]
    },
    {
     "name": "stderr",
     "output_type": "stream",
     "text": [
      "Scraping Progress:  21%|██        | 1749/8402 [56:49<3:06:51,  1.69s/it]"
     ]
    },
    {
     "name": "stdout",
     "output_type": "stream",
     "text": [
      "Successfully fetched: http://bloody-disgusting.com/toys/3493080/sideshows-rebel-terminator-statue-gives-classic-movie-badass-gender-twist/\n"
     ]
    },
    {
     "name": "stderr",
     "output_type": "stream",
     "text": [
      "Scraping Progress:  21%|██        | 1750/8402 [56:51<3:30:40,  1.90s/it]"
     ]
    },
    {
     "name": "stdout",
     "output_type": "stream",
     "text": [
      "Successfully fetched: http://mentalfloss.com/article/561630/giant-inflatable-colon-stolen-kansas-city\n"
     ]
    },
    {
     "name": "stderr",
     "output_type": "stream",
     "text": [
      "Scraping Progress:  21%|██        | 1751/8402 [56:53<3:34:01,  1.93s/it]"
     ]
    },
    {
     "name": "stdout",
     "output_type": "stream",
     "text": [
      "Successfully fetched: https://www.hotnewhiphop.com/lil-yachty-teases-upcoming-trippie-redd-collaboration-news.49198.html\n"
     ]
    },
    {
     "name": "stderr",
     "output_type": "stream",
     "text": [
      "Scraping Progress:  21%|██        | 1752/8402 [56:54<3:13:42,  1.75s/it]"
     ]
    },
    {
     "name": "stdout",
     "output_type": "stream",
     "text": [
      "Successfully fetched: https://www.patspulpit.com/2018/6/13/17458166/new-england-patriots-links-6-13-18-most-intriguing-roster-battle-may-be-around-the-corner\n"
     ]
    },
    {
     "name": "stderr",
     "output_type": "stream",
     "text": [
      "Scraping Progress:  21%|██        | 1753/8402 [56:56<3:26:50,  1.87s/it]"
     ]
    },
    {
     "name": "stdout",
     "output_type": "stream",
     "text": [
      "Successfully fetched: https://www.rogerebert.com/reviews/dont-worry-he-wont-get-far-on-foot-2018\n"
     ]
    },
    {
     "name": "stderr",
     "output_type": "stream",
     "text": [
      "Scraping Progress:  21%|██        | 1754/8402 [56:58<3:08:46,  1.70s/it]"
     ]
    },
    {
     "name": "stdout",
     "output_type": "stream",
     "text": [
      "Successfully fetched: https://www.bleedingcool.com/2018/12/17/godzilla-neca-1956-poster-version-figure/\n"
     ]
    },
    {
     "name": "stderr",
     "output_type": "stream",
     "text": [
      "Scraping Progress:  21%|██        | 1755/8402 [56:59<3:01:10,  1.64s/it]"
     ]
    },
    {
     "name": "stdout",
     "output_type": "stream",
     "text": [
      "Successfully fetched: https://www.bleedingcool.com/2018/12/17/funko-round-up-titanic-romeo-juliet-disney/\n"
     ]
    },
    {
     "name": "stderr",
     "output_type": "stream",
     "text": [
      "Scraping Progress:  21%|██        | 1756/8402 [57:00<2:49:01,  1.53s/it]"
     ]
    },
    {
     "name": "stdout",
     "output_type": "stream",
     "text": [
      "Successfully fetched: https://www.vice.com/en_us/article/paj93b/this-is-what-its-like-to-watch-the-arctic-die\n"
     ]
    },
    {
     "name": "stderr",
     "output_type": "stream",
     "text": [
      "Scraping Progress:  21%|██        | 1757/8402 [57:02<2:49:15,  1.53s/it]"
     ]
    },
    {
     "name": "stdout",
     "output_type": "stream",
     "text": [
      "Cannot fetch http://www.syfy.com/syfywire/fandom-files-agent-m-talks-twitter-teases-marvels-upcoming-projects, HTTP error: 404 Client Error: Not Found for url: https://www.syfy.com/syfy-wire/fandom-files-agent-m-talks-twitter-teases-marvels-upcoming-projects\n"
     ]
    },
    {
     "name": "stderr",
     "output_type": "stream",
     "text": [
      "Scraping Progress:  21%|██        | 1758/8402 [57:04<3:00:15,  1.63s/it]"
     ]
    },
    {
     "name": "stdout",
     "output_type": "stream",
     "text": [
      "Successfully fetched: https://ca.sports.yahoo.com/news/lavar-ball-will-coach-sons-lithuanian-team-seems-like-terrible-idea-154617336.html\n"
     ]
    },
    {
     "name": "stderr",
     "output_type": "stream",
     "text": [
      "Scraping Progress:  21%|██        | 1759/8402 [57:06<3:17:18,  1.78s/it]"
     ]
    },
    {
     "name": "stdout",
     "output_type": "stream",
     "text": [
      "Successfully fetched: https://bloody-disgusting.com/toys/3532675/now-pre-order-sideshows-life-size-venom-bust-perfectly-captures-marvels-hungry-beast/\n"
     ]
    },
    {
     "name": "stderr",
     "output_type": "stream",
     "text": [
      "Scraping Progress:  21%|██        | 1760/8402 [57:09<3:41:00,  2.00s/it]"
     ]
    },
    {
     "name": "stdout",
     "output_type": "stream",
     "text": [
      "Cannot fetch https://www.nationalreview.com/corner/boris-johnsons-bus-hobby-and-bexit/, HTTP error: 403 Client Error: Forbidden for url: https://www.nationalreview.com/corner/boris-johnsons-bus-hobby-and-bexit/\n"
     ]
    },
    {
     "name": "stderr",
     "output_type": "stream",
     "text": [
      "Scraping Progress:  21%|██        | 1761/8402 [57:10<3:14:40,  1.76s/it]"
     ]
    },
    {
     "name": "stdout",
     "output_type": "stream",
     "text": [
      "Successfully fetched: https://www.poynter.org/tech-tools/2019/these-how-to-podcast-videos-are-designed-to-help-beginners-and-they-come-in-six-languages/\n"
     ]
    },
    {
     "name": "stderr",
     "output_type": "stream",
     "text": [
      "Scraping Progress:  21%|██        | 1762/8402 [57:13<3:53:07,  2.11s/it]"
     ]
    },
    {
     "name": "stdout",
     "output_type": "stream",
     "text": [
      "Successfully fetched: https://www.memeorandum.com/180806/p134\n"
     ]
    },
    {
     "name": "stderr",
     "output_type": "stream",
     "text": [
      "Scraping Progress:  21%|██        | 1763/8402 [57:14<3:43:39,  2.02s/it]"
     ]
    },
    {
     "name": "stdout",
     "output_type": "stream",
     "text": [
      "Successfully fetched: http://bloody-disgusting.com/toys/3499957/full-image-gallery-sideshows-aliens-queen-maquette-supervised-films-artists/\n"
     ]
    },
    {
     "name": "stderr",
     "output_type": "stream",
     "text": [
      "Scraping Progress:  21%|██        | 1764/8402 [57:16<3:43:20,  2.02s/it]"
     ]
    },
    {
     "name": "stdout",
     "output_type": "stream",
     "text": [
      "Successfully fetched: https://www.project-syndicate.org/commentary/investment-portfolio-active-passive-debate-by-larry-hatheway-2019-05\n"
     ]
    },
    {
     "name": "stderr",
     "output_type": "stream",
     "text": [
      "Scraping Progress:  21%|██        | 1765/8402 [57:20<4:20:46,  2.36s/it]"
     ]
    },
    {
     "name": "stdout",
     "output_type": "stream",
     "text": [
      "Successfully fetched: https://www.crikey.com.au/2019/04/29/leaders-debate-election/\n"
     ]
    },
    {
     "name": "stderr",
     "output_type": "stream",
     "text": [
      "Scraping Progress:  21%|██        | 1766/8402 [57:22<4:09:24,  2.26s/it]"
     ]
    },
    {
     "name": "stdout",
     "output_type": "stream",
     "text": [
      "Successfully fetched: https://friendlyatheist.patheos.com/2019/01/01/after-three-year-wait-satanists-will-deliver-invocation-in-sahuarita-arizona/\n"
     ]
    },
    {
     "name": "stderr",
     "output_type": "stream",
     "text": [
      "Scraping Progress:  21%|██        | 1767/8402 [57:23<3:41:40,  2.00s/it]"
     ]
    },
    {
     "name": "stdout",
     "output_type": "stream",
     "text": [
      "Cannot fetch https://www.thetruthaboutcars.com/2019/10/spic-n-span-best-car-cleaning-products/, HTTP error: 404 Client Error: Not Found for url: https://www.thetruthaboutcars.com/products/best-car-cleaning-products/\n"
     ]
    },
    {
     "name": "stderr",
     "output_type": "stream",
     "text": [
      "Scraping Progress:  21%|██        | 1768/8402 [57:24<3:19:18,  1.80s/it]"
     ]
    },
    {
     "name": "stdout",
     "output_type": "stream",
     "text": [
      "Successfully fetched: http://mysteriousuniverse.org/2018/01/worlds-hairiest-girl-shaves-her-face-and-finds-true-love/\n"
     ]
    },
    {
     "name": "stderr",
     "output_type": "stream",
     "text": [
      "Scraping Progress:  21%|██        | 1769/8402 [57:26<3:12:28,  1.74s/it]"
     ]
    },
    {
     "name": "stdout",
     "output_type": "stream",
     "text": [
      "Successfully fetched: http://nymag.com/daily/intelligencer/2018/09/ben-sasse-has-considered-leaving-the-gop-to-support-the-gop.html\n"
     ]
    },
    {
     "name": "stderr",
     "output_type": "stream",
     "text": [
      "Scraping Progress:  21%|██        | 1770/8402 [57:28<3:16:28,  1.78s/it]"
     ]
    },
    {
     "name": "stdout",
     "output_type": "stream",
     "text": [
      "Cannot fetch http://www.bradford-delong.com/2018/06/ten-years-ago-at-grasping-reality-june-20-2008.html, HTTP error: 403 Client Error: Forbidden for url: https://www.bradford-delong.com/2018/06/ten-years-ago-at-grasping-reality-june-20-2008.html\n"
     ]
    },
    {
     "name": "stderr",
     "output_type": "stream",
     "text": [
      "Scraping Progress:  21%|██        | 1772/8402 [57:31<3:07:47,  1.70s/it]"
     ]
    },
    {
     "name": "stdout",
     "output_type": "stream",
     "text": [
      "Successfully fetched: http://toynewsi.com/news.php?itemid=30585\n"
     ]
    },
    {
     "name": "stderr",
     "output_type": "stream",
     "text": [
      "Scraping Progress:  21%|██        | 1773/8402 [57:32<2:53:33,  1.57s/it]"
     ]
    },
    {
     "name": "stdout",
     "output_type": "stream",
     "text": [
      "Successfully fetched: https://www.foxsports.com/nfl/story/raiders-start-long-road-stretch-with-34-14-loss-to-vikings-092219\n"
     ]
    },
    {
     "name": "stderr",
     "output_type": "stream",
     "text": [
      "Scraping Progress:  21%|██        | 1774/8402 [57:35<3:27:00,  1.87s/it]"
     ]
    },
    {
     "name": "stdout",
     "output_type": "stream",
     "text": [
      "Successfully fetched: http://www.espnfc.com/club/atletico-madrid/1068/blog/post/3526420/antoine-griezmann-decision-to-stay-at-atletico-madrid-was-right-one-but-he-did-it-all-wrong\n"
     ]
    },
    {
     "name": "stderr",
     "output_type": "stream",
     "text": [
      "Scraping Progress:  21%|██        | 1775/8402 [57:36<3:13:20,  1.75s/it]"
     ]
    },
    {
     "name": "stdout",
     "output_type": "stream",
     "text": [
      "Successfully fetched: https://gothamist.com/arts-entertainment/best-things-do-nyc-week-autumnal-apple-dinner-hitchcock-halloween\n"
     ]
    },
    {
     "name": "stderr",
     "output_type": "stream",
     "text": [
      "Scraping Progress:  21%|██        | 1776/8402 [57:38<3:23:37,  1.84s/it]"
     ]
    },
    {
     "name": "stdout",
     "output_type": "stream",
     "text": [
      "Successfully fetched: https://www.theatlantic.com/politics/archive/2019/10/debates-elizabeth-warren-medicare-for-all-politics-daily/600112/\n"
     ]
    },
    {
     "name": "stderr",
     "output_type": "stream",
     "text": [
      "Scraping Progress:  21%|██        | 1777/8402 [57:40<3:15:13,  1.77s/it]"
     ]
    },
    {
     "name": "stdout",
     "output_type": "stream",
     "text": [
      "Successfully fetched: https://news.vice.com/en_us/article/wj3pb5/russia-tried-to-hack-ukraines-critical-infrastructure-again\n"
     ]
    },
    {
     "name": "stderr",
     "output_type": "stream",
     "text": [
      "Scraping Progress:  21%|██        | 1778/8402 [57:42<3:22:02,  1.83s/it]"
     ]
    },
    {
     "name": "stdout",
     "output_type": "stream",
     "text": [
      "Successfully fetched: https://decrypt.co/10786/vitalik-buterin-google-quantum-supremacy-no-problem-for-crypto\n"
     ]
    },
    {
     "name": "stderr",
     "output_type": "stream",
     "text": [
      "Scraping Progress:  21%|██        | 1779/8402 [57:44<3:16:16,  1.78s/it]"
     ]
    },
    {
     "name": "stdout",
     "output_type": "stream",
     "text": [
      "Successfully fetched: https://geektyrant.com/news/it-looks-like-terry-gilliams-next-film-project-will-be-mr-vertigo-with-ralph-fiennes\n"
     ]
    },
    {
     "name": "stderr",
     "output_type": "stream",
     "text": [
      "Scraping Progress:  21%|██        | 1780/8402 [57:46<3:30:03,  1.90s/it]"
     ]
    },
    {
     "name": "stdout",
     "output_type": "stream",
     "text": [
      "Successfully fetched: https://www.theatlantic.com/politics/archive/2019/06/trump-increases-economic-sanctions-iran/592438/\n"
     ]
    },
    {
     "name": "stderr",
     "output_type": "stream",
     "text": [
      "Scraping Progress:  21%|██        | 1781/8402 [57:47<3:17:10,  1.79s/it]"
     ]
    },
    {
     "name": "stdout",
     "output_type": "stream",
     "text": [
      "Successfully fetched: https://www.dailysignal.com/2018/09/26/arizona-democrats-defense-attorneys-heap-praise-on-senates-chosen-prosecutor-to-question-kavanaugh-ford/\n"
     ]
    },
    {
     "name": "stderr",
     "output_type": "stream",
     "text": [
      "Scraping Progress:  21%|██        | 1782/8402 [57:50<3:31:49,  1.92s/it]"
     ]
    },
    {
     "name": "stdout",
     "output_type": "stream",
     "text": [
      "Cannot fetch https://thekidshouldseethis.com/post/frida-kahlo-the-woman-behind-the-legend, HTTP error: 403 Client Error: Forbidden for url: https://thekidshouldseethis.com/post/frida-kahlo-the-woman-behind-the-legend\n"
     ]
    },
    {
     "name": "stderr",
     "output_type": "stream",
     "text": [
      "Scraping Progress:  21%|██        | 1783/8402 [57:51<3:05:00,  1.68s/it]"
     ]
    },
    {
     "name": "stdout",
     "output_type": "stream",
     "text": [
      "Cannot fetch https://cleantechnica.com/2018/04/03/skepticism-of-autonomous-vehicles-highest-in-usa-canada-according-to-ipsos-report/, HTTP error: 403 Client Error: Forbidden for url: https://cleantechnica.com/2018/04/03/skepticism-of-autonomous-vehicles-highest-in-usa-canada-according-to-ipsos-report/\n"
     ]
    },
    {
     "name": "stderr",
     "output_type": "stream",
     "text": [
      "Scraping Progress:  21%|██        | 1784/8402 [57:52<2:54:26,  1.58s/it]"
     ]
    },
    {
     "name": "stdout",
     "output_type": "stream",
     "text": [
      "Successfully fetched: http://exystence.net/blog/2018/01/10/the-sideshow-tragedy-the-view-from-nowhere-2017/\n"
     ]
    },
    {
     "name": "stderr",
     "output_type": "stream",
     "text": [
      "Scraping Progress:  21%|██        | 1785/8402 [57:54<3:15:00,  1.77s/it]"
     ]
    },
    {
     "name": "stdout",
     "output_type": "stream",
     "text": [
      "Successfully fetched: https://toynewsi.com/news.php?itemid=34174\n"
     ]
    },
    {
     "name": "stderr",
     "output_type": "stream",
     "text": [
      "Scraping Progress:  21%|██▏       | 1786/8402 [57:55<2:58:34,  1.62s/it]"
     ]
    },
    {
     "name": "stdout",
     "output_type": "stream",
     "text": [
      "Cannot fetch https://m.cnbeta.com/view/784439.htm, error: HTTPSConnectionPool(host='m.cnbeta.com', port=443): Max retries exceeded with url: /view/784439.htm (Caused by NewConnectionError('<urllib3.connection.HTTPSConnection object at 0x11a524550>: Failed to establish a new connection: [Errno 8] nodename nor servname provided, or not known'))\n"
     ]
    },
    {
     "name": "stderr",
     "output_type": "stream",
     "text": [
      "Scraping Progress:  21%|██▏       | 1787/8402 [57:57<2:41:41,  1.47s/it]"
     ]
    },
    {
     "name": "stdout",
     "output_type": "stream",
     "text": [
      "Successfully fetched: https://www.dawgsbynature.com/2019/8/25/20831460/cleveland-browns-5-veterans-on-roster-bubble\n"
     ]
    },
    {
     "name": "stderr",
     "output_type": "stream",
     "text": [
      "Scraping Progress:  21%|██▏       | 1788/8402 [57:59<3:00:56,  1.64s/it]"
     ]
    },
    {
     "name": "stdout",
     "output_type": "stream",
     "text": [
      "Successfully fetched: https://www.bbc.com/news/world-africa-49702703\n"
     ]
    },
    {
     "name": "stderr",
     "output_type": "stream",
     "text": [
      "Scraping Progress:  21%|██▏       | 1789/8402 [58:00<2:56:39,  1.60s/it]"
     ]
    },
    {
     "name": "stdout",
     "output_type": "stream",
     "text": [
      "Successfully fetched: http://sf.funcheap.com/san-freakcisco-freak-show-oasis/\n"
     ]
    },
    {
     "name": "stderr",
     "output_type": "stream",
     "text": [
      "Scraping Progress:  21%|██▏       | 1790/8402 [58:02<3:11:24,  1.74s/it]"
     ]
    },
    {
     "name": "stdout",
     "output_type": "stream",
     "text": [
      "Successfully fetched: https://www.mcsweeneys.net/articles/signs-you-may-work-for-a-failing-college\n"
     ]
    },
    {
     "name": "stderr",
     "output_type": "stream",
     "text": [
      "Scraping Progress:  21%|██▏       | 1791/8402 [58:04<2:59:30,  1.63s/it]"
     ]
    },
    {
     "name": "stdout",
     "output_type": "stream",
     "text": [
      "Successfully fetched: https://gothamist.com/arts-entertainment/best-things-do-nyc-week-bushwig-pig-island\n"
     ]
    },
    {
     "name": "stderr",
     "output_type": "stream",
     "text": [
      "Scraping Progress:  21%|██▏       | 1792/8402 [58:05<3:07:50,  1.71s/it]"
     ]
    },
    {
     "name": "stdout",
     "output_type": "stream",
     "text": [
      "Successfully fetched: http://leganerd.com/2018/11/07/starscream-g1-statue-by-pop-culture-shock-museum-scale/\n"
     ]
    },
    {
     "name": "stderr",
     "output_type": "stream",
     "text": [
      "Scraping Progress:  21%|██▏       | 1793/8402 [58:07<3:15:48,  1.78s/it]"
     ]
    },
    {
     "name": "stdout",
     "output_type": "stream",
     "text": [
      "Successfully fetched: http://leganerd.com/2018/11/07/superman-statue-animated-series-collection/\n"
     ]
    },
    {
     "name": "stderr",
     "output_type": "stream",
     "text": [
      "Scraping Progress:  21%|██▏       | 1794/8402 [58:09<3:17:40,  1.79s/it]"
     ]
    },
    {
     "name": "stdout",
     "output_type": "stream",
     "text": [
      "Successfully fetched: http://www.espnfc.com/blog/the-match/60/post/3509635/super-sub-gareth-bale-earns-real-madrid-third-straight-champions-league-crown\n"
     ]
    },
    {
     "name": "stderr",
     "output_type": "stream",
     "text": [
      "Scraping Progress:  21%|██▏       | 1795/8402 [58:10<2:58:13,  1.62s/it]"
     ]
    },
    {
     "name": "stdout",
     "output_type": "stream",
     "text": [
      "Successfully fetched: https://www.highsnobiety.com/p/quiksilver-50-anniversary/\n"
     ]
    },
    {
     "name": "stderr",
     "output_type": "stream",
     "text": [
      "Scraping Progress:  21%|██▏       | 1796/8402 [58:12<2:48:35,  1.53s/it]"
     ]
    },
    {
     "name": "stdout",
     "output_type": "stream",
     "text": [
      "Successfully fetched: https://bloody-disgusting.com/toys/3513762/sideshow-revealed-insane-neomorph-life-size-head/\n"
     ]
    },
    {
     "name": "stderr",
     "output_type": "stream",
     "text": [
      "Scraping Progress:  21%|██▏       | 1797/8402 [58:14<3:03:48,  1.67s/it]"
     ]
    },
    {
     "name": "stdout",
     "output_type": "stream",
     "text": [
      "Successfully fetched: https://www.elitedaily.com/p/these-american-horror-story-group-costume-ideas-are-much-easier-than-you-realize-12121133\n"
     ]
    },
    {
     "name": "stderr",
     "output_type": "stream",
     "text": [
      "Scraping Progress:  21%|██▏       | 1798/8402 [58:15<2:55:21,  1.59s/it]"
     ]
    },
    {
     "name": "stdout",
     "output_type": "stream",
     "text": [
      "Cannot fetch https://www.washingtonpost.com/local/legal-issues/roger-stone-barred-by-us-judge-from-posting-on-instagram-twitter-facebook-through-trial/2019/07/16/2dd98f06-a7d5-11e9-a3a6-ab670962db05_story.html, connection timed out.\n"
     ]
    },
    {
     "name": "stderr",
     "output_type": "stream",
     "text": [
      "Scraping Progress:  21%|██▏       | 1799/8402 [58:26<8:08:57,  4.44s/it]"
     ]
    },
    {
     "name": "stdout",
     "output_type": "stream",
     "text": [
      "Successfully fetched: https://www.playstationlifestyle.net/2019/11/15/medievil-sir-dan-statue-preorders-level52/\n"
     ]
    },
    {
     "name": "stderr",
     "output_type": "stream",
     "text": [
      "Scraping Progress:  21%|██▏       | 1800/8402 [58:28<6:39:00,  3.63s/it]"
     ]
    },
    {
     "name": "stdout",
     "output_type": "stream",
     "text": [
      "Successfully fetched: http://www.latimes.com/entertainment/arts/la-ca-cm-grammer-ebersole-candide-20180118-story.html\n"
     ]
    },
    {
     "name": "stderr",
     "output_type": "stream",
     "text": [
      "Scraping Progress:  21%|██▏       | 1801/8402 [58:30<5:32:39,  3.02s/it]"
     ]
    },
    {
     "name": "stdout",
     "output_type": "stream",
     "text": [
      "Successfully fetched: https://www.comicbookmovie.com/avengers/avengers_endgame/avengers-endgame-rocket-raccoon-cant-stop-roaring-in-another-cool-hot-toys-reveal-a169665\n"
     ]
    },
    {
     "name": "stderr",
     "output_type": "stream",
     "text": [
      "Scraping Progress:  21%|██▏       | 1802/8402 [58:31<4:45:19,  2.59s/it]"
     ]
    },
    {
     "name": "stdout",
     "output_type": "stream",
     "text": [
      "Successfully fetched: http://smokeroom.com/2019/04/13/michigan-state-football-alternate-uniforms/\n"
     ]
    },
    {
     "name": "stderr",
     "output_type": "stream",
     "text": [
      "Scraping Progress:  21%|██▏       | 1803/8402 [58:33<4:25:27,  2.41s/it]"
     ]
    },
    {
     "name": "stdout",
     "output_type": "stream",
     "text": [
      "Successfully fetched: https://slate.com/culture/2019/05/stephen-colbert-monologue-trump-trade-war-china-iran.html\n"
     ]
    },
    {
     "name": "stderr",
     "output_type": "stream",
     "text": [
      "Scraping Progress:  21%|██▏       | 1804/8402 [58:35<3:58:59,  2.17s/it]"
     ]
    },
    {
     "name": "stdout",
     "output_type": "stream",
     "text": [
      "Cannot fetch https://allthatsinteresting.com/general-tom-thumb, HTTP error: 403 Client Error: Forbidden for url: https://allthatsinteresting.com/general-tom-thumb\n"
     ]
    },
    {
     "name": "stderr",
     "output_type": "stream",
     "text": [
      "Scraping Progress:  21%|██▏       | 1805/8402 [58:36<3:27:54,  1.89s/it]"
     ]
    },
    {
     "name": "stdout",
     "output_type": "stream",
     "text": [
      "Successfully fetched: https://www.washingtonexaminer.com/opinion/op-eds/judges-show-their-concern-for-women-by-letting-abortionists-operate-unregulated-and-unlicensed\n"
     ]
    },
    {
     "name": "stderr",
     "output_type": "stream",
     "text": [
      "Scraping Progress:  21%|██▏       | 1806/8402 [58:39<3:54:59,  2.14s/it]"
     ]
    },
    {
     "name": "stdout",
     "output_type": "stream",
     "text": [
      "Successfully fetched: https://www.sltrib.com/opinion/commentary/2019/08/13/eugene-robinson-trumps/\n"
     ]
    },
    {
     "name": "stderr",
     "output_type": "stream",
     "text": [
      "Scraping Progress:  22%|██▏       | 1807/8402 [58:41<3:56:57,  2.16s/it]"
     ]
    },
    {
     "name": "stdout",
     "output_type": "stream",
     "text": [
      "Successfully fetched: https://toynewsi.com/news.php?itemid=33399\n"
     ]
    },
    {
     "name": "stderr",
     "output_type": "stream",
     "text": [
      "Scraping Progress:  22%|██▏       | 1808/8402 [58:42<3:28:18,  1.90s/it]"
     ]
    },
    {
     "name": "stdout",
     "output_type": "stream",
     "text": [
      "Successfully fetched: https://www.dailydot.com/upstream/drake-degrassi-reunion/\n"
     ]
    },
    {
     "name": "stderr",
     "output_type": "stream",
     "text": [
      "Scraping Progress:  22%|██▏       | 1809/8402 [58:44<3:28:21,  1.90s/it]"
     ]
    },
    {
     "name": "stdout",
     "output_type": "stream",
     "text": [
      "Successfully fetched: https://www.comicbookmovie.com/spider-man/homecoming/spider-man-homecoming-spectacular-1-4th-scale-spider-man-collectible-figure-deluxe-version-unveiled-a169664\n"
     ]
    },
    {
     "name": "stderr",
     "output_type": "stream",
     "text": [
      "Scraping Progress:  22%|██▏       | 1810/8402 [58:46<3:21:08,  1.83s/it]"
     ]
    },
    {
     "name": "stdout",
     "output_type": "stream",
     "text": [
      "Successfully fetched: https://www.comicbookmovie.com/avengers/avengers_endgame/avengers-endgame-the-god-of-thunder-thor-gets-a-mighty-spotlight-in-the-latest-hot-toys-reveal-a171072\n"
     ]
    },
    {
     "name": "stderr",
     "output_type": "stream",
     "text": [
      "Scraping Progress:  22%|██▏       | 1811/8402 [58:47<3:06:38,  1.70s/it]"
     ]
    },
    {
     "name": "stdout",
     "output_type": "stream",
     "text": [
      "Successfully fetched: http://www.metalunderground.com/news/details.cfm?newsid=143877\n"
     ]
    },
    {
     "name": "stderr",
     "output_type": "stream",
     "text": [
      "Scraping Progress:  22%|██▏       | 1812/8402 [58:49<3:25:20,  1.87s/it]"
     ]
    },
    {
     "name": "stdout",
     "output_type": "stream",
     "text": [
      "Successfully fetched: https://elpais.com/cultura/2018/07/19/actualidad/1532015642_050306.html\n"
     ]
    },
    {
     "name": "stderr",
     "output_type": "stream",
     "text": [
      "Scraping Progress:  22%|██▏       | 1813/8402 [58:54<4:37:11,  2.52s/it]"
     ]
    },
    {
     "name": "stdout",
     "output_type": "stream",
     "text": [
      "Successfully fetched: http://www.espnfc.com/english-fa-cup/40/blog/post/3341418/premier-league-priorities-hurt-the-fa-cup-but-the-magic-can-remain\n"
     ]
    },
    {
     "name": "stderr",
     "output_type": "stream",
     "text": [
      "Scraping Progress:  22%|██▏       | 1815/8402 [58:57<3:40:30,  2.01s/it]"
     ]
    },
    {
     "name": "stdout",
     "output_type": "stream",
     "text": [
      "Successfully fetched: https://www.rawstory.com/2018/02/many-parallels-ex-watergate-prosecutor-says-nunes-memo-just-like-nixons-whitewash-memo/\n"
     ]
    },
    {
     "name": "stderr",
     "output_type": "stream",
     "text": [
      "Scraping Progress:  22%|██▏       | 1816/8402 [58:58<3:20:11,  1.82s/it]"
     ]
    },
    {
     "name": "stdout",
     "output_type": "stream",
     "text": [
      "Successfully fetched: http://www.gameblog.fr/news/80759-overwatch-league-paris-eternal-devoile-ses-maillots-d-equipe\n"
     ]
    },
    {
     "name": "stderr",
     "output_type": "stream",
     "text": [
      "Scraping Progress:  22%|██▏       | 1817/8402 [58:59<3:09:49,  1.73s/it]"
     ]
    },
    {
     "name": "stdout",
     "output_type": "stream",
     "text": [
      "Successfully fetched: http://dailycaller.com/2018/05/12/trump-stormy-lawyer-avenatti-twitter/\n"
     ]
    },
    {
     "name": "stderr",
     "output_type": "stream",
     "text": [
      "Scraping Progress:  22%|██▏       | 1818/8402 [59:02<3:28:41,  1.90s/it]"
     ]
    },
    {
     "name": "stdout",
     "output_type": "stream",
     "text": [
      "Successfully fetched: https://www.sbnation.com/mlb/2018/4/5/17204398/tim-tebow-home-run-double-a-debut-mets-minors\n"
     ]
    },
    {
     "name": "stderr",
     "output_type": "stream",
     "text": [
      "Scraping Progress:  22%|██▏       | 1819/8402 [59:04<3:27:33,  1.89s/it]"
     ]
    },
    {
     "name": "stdout",
     "output_type": "stream",
     "text": [
      "Successfully fetched: http://www.madshrimps.be/news/item/177457?utm_source=feedburner&utm_medium=feed&utm_campaign=Feed%3A+madshrimps+%28Madshrimps+News+RSS+Feed%29\n"
     ]
    },
    {
     "name": "stderr",
     "output_type": "stream",
     "text": [
      "Scraping Progress:  22%|██▏       | 1820/8402 [59:05<3:08:56,  1.72s/it]"
     ]
    },
    {
     "name": "stdout",
     "output_type": "stream",
     "text": [
      "Cannot fetch https://www.axios.com/what-were-reading-how-content-moderation-defines-tech-platforms-c6695106-3577-442c-aa8d-0be386ca0776.html, HTTP error: 403 Client Error: Forbidden for url: https://www.axios.com/what-were-reading-how-content-moderation-defines-tech-platforms-c6695106-3577-442c-aa8d-0be386ca0776.html\n"
     ]
    },
    {
     "name": "stderr",
     "output_type": "stream",
     "text": [
      "Scraping Progress:  22%|██▏       | 1821/8402 [59:06<2:49:25,  1.54s/it]"
     ]
    },
    {
     "name": "stdout",
     "output_type": "stream",
     "text": [
      "Successfully fetched: https://www.gizmodo.com.au/2018/04/life-sizedstar-warsand-guardians-of-the-galaxytoys-and-more-of-the-biggest-toys-of-the-week/\n"
     ]
    },
    {
     "name": "stderr",
     "output_type": "stream",
     "text": [
      "Scraping Progress:  22%|██▏       | 1822/8402 [59:08<3:04:43,  1.68s/it]"
     ]
    },
    {
     "name": "stdout",
     "output_type": "stream",
     "text": [
      "Successfully fetched: https://www.psychologytoday.com/ca/blog/statistical-life/201805/gerrymandering-carving-minorities-in-america\n"
     ]
    },
    {
     "name": "stderr",
     "output_type": "stream",
     "text": [
      "Scraping Progress:  22%|██▏       | 1823/8402 [59:09<2:47:59,  1.53s/it]"
     ]
    },
    {
     "name": "stdout",
     "output_type": "stream",
     "text": [
      "Cannot fetch http://allthatsinteresting.com/julia-pastrana, HTTP error: 403 Client Error: Forbidden for url: https://allthatsinteresting.com/julia-pastrana\n"
     ]
    },
    {
     "name": "stderr",
     "output_type": "stream",
     "text": [
      "Scraping Progress:  22%|██▏       | 1824/8402 [59:10<2:35:43,  1.42s/it]"
     ]
    },
    {
     "name": "stdout",
     "output_type": "stream",
     "text": [
      "Successfully fetched: https://www.bloomberg.com/view/articles/2018-05-22/italy-faces-its-navarro-mnuchin-moment\n"
     ]
    },
    {
     "name": "stderr",
     "output_type": "stream",
     "text": [
      "Scraping Progress:  22%|██▏       | 1825/8402 [59:12<2:30:53,  1.38s/it]"
     ]
    },
    {
     "name": "stdout",
     "output_type": "stream",
     "text": [
      "Successfully fetched: http://toynewsi.com/news.php?itemid=30501\n"
     ]
    },
    {
     "name": "stderr",
     "output_type": "stream",
     "text": [
      "Scraping Progress:  22%|██▏       | 1826/8402 [59:13<2:30:41,  1.37s/it]"
     ]
    },
    {
     "name": "stdout",
     "output_type": "stream",
     "text": [
      "Successfully fetched: http://hyperallergic.com/516982/chained-for-life-review/\n"
     ]
    },
    {
     "name": "stderr",
     "output_type": "stream",
     "text": [
      "Scraping Progress:  22%|██▏       | 1827/8402 [59:15<2:34:09,  1.41s/it]"
     ]
    },
    {
     "name": "stdout",
     "output_type": "stream",
     "text": [
      "Successfully fetched: https://www.geekalerts.com/iron-man-stealth-suit-statue/\n"
     ]
    },
    {
     "name": "stderr",
     "output_type": "stream",
     "text": [
      "Scraping Progress:  22%|██▏       | 1828/8402 [59:16<2:42:42,  1.49s/it]"
     ]
    },
    {
     "name": "stdout",
     "output_type": "stream",
     "text": [
      "Successfully fetched: http://www.wwtdd.com/2018/04/kylie-jenner-eyes-back-gross-butt/\n"
     ]
    },
    {
     "name": "stderr",
     "output_type": "stream",
     "text": [
      "Scraping Progress:  22%|██▏       | 1829/8402 [59:18<2:58:24,  1.63s/it]"
     ]
    },
    {
     "name": "stdout",
     "output_type": "stream",
     "text": [
      "Cannot fetch http://gothamist.com/2018/10/16/nyc_events_guide_fall.php, HTTP error: 404 Client Error: Not Found for url: https://gothamist.com/2018/10/16/nyc_events_guide_fall.php\n"
     ]
    },
    {
     "name": "stderr",
     "output_type": "stream",
     "text": [
      "Scraping Progress:  22%|██▏       | 1830/8402 [59:20<3:07:23,  1.71s/it]"
     ]
    },
    {
     "name": "stdout",
     "output_type": "stream",
     "text": [
      "Successfully fetched: https://www.dailydot.com/upstream/chris-brown-rihanna-tour/\n"
     ]
    },
    {
     "name": "stderr",
     "output_type": "stream",
     "text": [
      "Scraping Progress:  22%|██▏       | 1831/8402 [59:21<2:50:16,  1.55s/it]"
     ]
    },
    {
     "name": "stdout",
     "output_type": "stream",
     "text": [
      "Successfully fetched: https://www.menshealth.com/entertainment/a19754131/titano-oddfellow-cosi-fan-tutte-met-opera/\n"
     ]
    },
    {
     "name": "stderr",
     "output_type": "stream",
     "text": [
      "Scraping Progress:  22%|██▏       | 1832/8402 [59:22<2:39:27,  1.46s/it]"
     ]
    },
    {
     "name": "stdout",
     "output_type": "stream",
     "text": [
      "Cannot fetch https://bookriot.com/2019/12/20/your-perfect-comics-cavern-part-2-all-that-shelf-space/, HTTP error: 404 Client Error: Not Found for url: https://bookriot.com/your-perfect-comics-cavern-part-2-all-that-shelf-space/\n"
     ]
    },
    {
     "name": "stderr",
     "output_type": "stream",
     "text": [
      "Scraping Progress:  22%|██▏       | 1833/8402 [59:24<2:47:06,  1.53s/it]"
     ]
    },
    {
     "name": "stdout",
     "output_type": "stream",
     "text": [
      "Successfully fetched: https://thehill.com/homenews/house/425325-some-senate-dems-see-ocasio-cortez-as-weak-spokeswoman-for-party\n"
     ]
    },
    {
     "name": "stderr",
     "output_type": "stream",
     "text": [
      "Scraping Progress:  22%|██▏       | 1834/8402 [59:27<3:25:27,  1.88s/it]"
     ]
    },
    {
     "name": "stdout",
     "output_type": "stream",
     "text": [
      "Successfully fetched: https://www.cartoonbrew.com/feature-film/disney-and-tim-burtons-dumbo-flaps-into-theaters-with-mixed-reviews-for-its-vfx-and-visual-style-171879.html\n"
     ]
    },
    {
     "name": "stderr",
     "output_type": "stream",
     "text": [
      "Scraping Progress:  22%|██▏       | 1835/8402 [59:29<3:35:46,  1.97s/it]"
     ]
    },
    {
     "name": "stdout",
     "output_type": "stream",
     "text": [
      "Successfully fetched: http://amass.jp/106801/\n"
     ]
    },
    {
     "name": "stderr",
     "output_type": "stream",
     "text": [
      "Scraping Progress:  22%|██▏       | 1836/8402 [59:33<4:50:28,  2.65s/it]"
     ]
    },
    {
     "name": "stdout",
     "output_type": "stream",
     "text": [
      "Successfully fetched: https://www.pcgamer.com/the-shanghai-dragons-are-much-better-than-their-0-30-record-suggests/\n"
     ]
    },
    {
     "name": "stderr",
     "output_type": "stream",
     "text": [
      "Scraping Progress:  22%|██▏       | 1837/8402 [59:35<4:10:29,  2.29s/it]"
     ]
    },
    {
     "name": "stdout",
     "output_type": "stream",
     "text": [
      "Successfully fetched: https://www.vanityfair.com/news/2019/01/alexandria-ocasio-cortez-house-oversight-committee\n"
     ]
    },
    {
     "name": "stderr",
     "output_type": "stream",
     "text": [
      "Scraping Progress:  22%|██▏       | 1838/8402 [59:37<4:10:29,  2.29s/it]"
     ]
    },
    {
     "name": "stdout",
     "output_type": "stream",
     "text": [
      "Cannot fetch https://www.starwars.com/news/sideshow-jabba-deluxe-interview, error: ('Connection aborted.', RemoteDisconnected('Remote end closed connection without response'))\n"
     ]
    },
    {
     "name": "stderr",
     "output_type": "stream",
     "text": [
      "Scraping Progress:  22%|██▏       | 1839/8402 [59:38<3:34:22,  1.96s/it]"
     ]
    },
    {
     "name": "stdout",
     "output_type": "stream",
     "text": [
      "Successfully fetched: https://www.rawstory.com/2018/02/law-order-republicans-setting-hair-fire-ana-navarro-smacks-goper-defending-nunes-memo/\n"
     ]
    },
    {
     "name": "stderr",
     "output_type": "stream",
     "text": [
      "Scraping Progress:  22%|██▏       | 1840/8402 [59:39<3:10:26,  1.74s/it]"
     ]
    },
    {
     "name": "stdout",
     "output_type": "stream",
     "text": [
      "Successfully fetched: https://screenrant.com/asgardians-galaxy-marvel-comic/\n"
     ]
    },
    {
     "name": "stderr",
     "output_type": "stream",
     "text": [
      "Scraping Progress:  22%|██▏       | 1841/8402 [59:41<2:56:36,  1.62s/it]"
     ]
    },
    {
     "name": "stdout",
     "output_type": "stream",
     "text": [
      "Successfully fetched: https://screenrant.com/jurassic-world-2-dinosaur-death-brachiosaurus/\n"
     ]
    },
    {
     "name": "stderr",
     "output_type": "stream",
     "text": [
      "Scraping Progress:  22%|██▏       | 1842/8402 [59:42<2:49:12,  1.55s/it]"
     ]
    },
    {
     "name": "stdout",
     "output_type": "stream",
     "text": [
      "Successfully fetched: https://screenrant.com/jerry-springer-show-reportedly-canceled/\n"
     ]
    },
    {
     "name": "stderr",
     "output_type": "stream",
     "text": [
      "Scraping Progress:  22%|██▏       | 1843/8402 [59:44<2:41:59,  1.48s/it]"
     ]
    },
    {
     "name": "stdout",
     "output_type": "stream",
     "text": [
      "Successfully fetched: https://www.livescience.com/61923-toad-with-no-face.html\n"
     ]
    },
    {
     "name": "stderr",
     "output_type": "stream",
     "text": [
      "Scraping Progress:  22%|██▏       | 1844/8402 [59:45<2:36:20,  1.43s/it]"
     ]
    },
    {
     "name": "stdout",
     "output_type": "stream",
     "text": [
      "Cannot fetch http://gothamist.com/2019/01/07/nyc_events_january_winter.php, HTTP error: 404 Client Error: Not Found for url: https://gothamist.com/2019/01/07/nyc_events_january_winter.php\n"
     ]
    },
    {
     "name": "stderr",
     "output_type": "stream",
     "text": [
      "Scraping Progress:  22%|██▏       | 1845/8402 [59:47<2:57:46,  1.63s/it]"
     ]
    },
    {
     "name": "stdout",
     "output_type": "stream",
     "text": [
      "Successfully fetched: https://screenrant.com/iron-man-2-hot-toys-sideshow-mark-iv/\n"
     ]
    },
    {
     "name": "stderr",
     "output_type": "stream",
     "text": [
      "Scraping Progress:  22%|██▏       | 1846/8402 [59:48<2:50:12,  1.56s/it]"
     ]
    },
    {
     "name": "stdout",
     "output_type": "stream",
     "text": [
      "Successfully fetched: https://www.stereogum.com/2010699/beyonce-jay-z-otr-ii-review/franchises/the-week-in-pop/\n"
     ]
    },
    {
     "name": "stderr",
     "output_type": "stream",
     "text": [
      "Scraping Progress:  22%|██▏       | 1847/8402 [59:52<4:16:04,  2.34s/it]"
     ]
    },
    {
     "name": "stdout",
     "output_type": "stream",
     "text": [
      "Cannot fetch http://plixid.com/2018/01/29/the-sideshow-tragedy-the-view-from-nowhere-2017-mp3/?utm_source=feedburner&utm_medium=feed&utm_campaign=Feed%3A+PlixidMusic+%28Plixid.com+%7C+Bringing+music+to+life%29, error: HTTPConnectionPool(host='plixid.com', port=80): Max retries exceeded with url: /2018/01/29/the-sideshow-tragedy-the-view-from-nowhere-2017-mp3/?utm_source=feedburner&utm_medium=feed&utm_campaign=Feed%3A+PlixidMusic+%28Plixid.com+%7C+Bringing+music+to+life%29 (Caused by NewConnectionError('<urllib3.connection.HTTPConnection object at 0x116aa7e50>: Failed to establish a new connection: [Errno 8] nodename nor servname provided, or not known'))\n"
     ]
    },
    {
     "name": "stderr",
     "output_type": "stream",
     "text": [
      "Scraping Progress:  22%|██▏       | 1848/8402 [59:53<3:32:30,  1.95s/it]"
     ]
    },
    {
     "name": "stdout",
     "output_type": "stream",
     "text": [
      "Successfully fetched: https://news.yahoo.com/hedge-fund-manager-ken-griffin-184200184.html\n"
     ]
    },
    {
     "name": "stderr",
     "output_type": "stream",
     "text": [
      "Scraping Progress:  22%|██▏       | 1849/8402 [59:56<3:35:31,  1.97s/it]"
     ]
    },
    {
     "name": "stdout",
     "output_type": "stream",
     "text": [
      "Successfully fetched: https://abcnews.go.com/Politics/sanders-campaigning-aoc-potential-bloomberg-bid-shows-arrogance/story?id=66881233\n"
     ]
    },
    {
     "name": "stderr",
     "output_type": "stream",
     "text": [
      "Scraping Progress:  22%|██▏       | 1850/8402 [59:57<3:17:59,  1.81s/it]"
     ]
    },
    {
     "name": "stdout",
     "output_type": "stream",
     "text": [
      "Cannot fetch https://www.wsj.com/articles/will-t-mobile-keep-disrupting-after-the-deal-1525121067, HTTP error: 401 Client Error: HTTP Forbidden for url: https://www.wsj.com/articles/will-t-mobile-keep-disrupting-after-the-deal-1525121067\n"
     ]
    },
    {
     "name": "stderr",
     "output_type": "stream",
     "text": [
      "Scraping Progress:  22%|██▏       | 1851/8402 [59:58<2:56:25,  1.62s/it]"
     ]
    },
    {
     "name": "stdout",
     "output_type": "stream",
     "text": [
      "Successfully fetched: http://www.bbc.com/news/world-middle-east-43738713\n"
     ]
    },
    {
     "name": "stderr",
     "output_type": "stream",
     "text": [
      "Scraping Progress:  22%|██▏       | 1852/8402 [1:00:00<2:58:15,  1.63s/it]"
     ]
    },
    {
     "name": "stdout",
     "output_type": "stream",
     "text": [
      "Successfully fetched: https://www.bleedingcool.com/2018/07/20/wwe-collectors-mattel-wwe-sdcc-elite-squad/\n"
     ]
    },
    {
     "name": "stderr",
     "output_type": "stream",
     "text": [
      "Scraping Progress:  22%|██▏       | 1853/8402 [1:00:01<2:51:57,  1.58s/it]"
     ]
    },
    {
     "name": "stdout",
     "output_type": "stream",
     "text": [
      "Successfully fetched: https://www.bleedingcool.com/2018/07/22/super7s-boodega-universal-monsters-sdcc/\n"
     ]
    },
    {
     "name": "stderr",
     "output_type": "stream",
     "text": [
      "Scraping Progress:  22%|██▏       | 1854/8402 [1:00:02<2:41:28,  1.48s/it]"
     ]
    },
    {
     "name": "stdout",
     "output_type": "stream",
     "text": [
      "Successfully fetched: https://www.vanityfair.com/hollywood/2018/07/roseanne-barr-tv-interview-self-youtube\n"
     ]
    },
    {
     "name": "stderr",
     "output_type": "stream",
     "text": [
      "Scraping Progress:  22%|██▏       | 1855/8402 [1:00:05<3:26:22,  1.89s/it]"
     ]
    },
    {
     "name": "stdout",
     "output_type": "stream",
     "text": [
      "Successfully fetched: https://www.geekalerts.com/marvel-infinity-gauntlet-replica/\n"
     ]
    },
    {
     "name": "stderr",
     "output_type": "stream",
     "text": [
      "Scraping Progress:  22%|██▏       | 1856/8402 [1:00:07<3:12:14,  1.76s/it]"
     ]
    },
    {
     "name": "stdout",
     "output_type": "stream",
     "text": [
      "Successfully fetched: https://www.comicbookmovie.com/merchandise/these-infinity-war-and-star-wars-water-toys-are-tons-of-summer-fun-a162109\n"
     ]
    },
    {
     "name": "stderr",
     "output_type": "stream",
     "text": [
      "Scraping Progress:  22%|██▏       | 1857/8402 [1:00:08<3:01:59,  1.67s/it]"
     ]
    },
    {
     "name": "stdout",
     "output_type": "stream",
     "text": [
      "Successfully fetched: https://www.comicbookmovie.com/merchandise/these-avengers-infinity-war-and-star-wars-water-toys-are-tons-of-summer-fun-a162109\n"
     ]
    },
    {
     "name": "stderr",
     "output_type": "stream",
     "text": [
      "Scraping Progress:  22%|██▏       | 1858/8402 [1:00:10<2:49:42,  1.56s/it]"
     ]
    },
    {
     "name": "stdout",
     "output_type": "stream",
     "text": [
      "Successfully fetched: https://www.celebitchy.com/588790/lmao_omarosa_manigault_recorded_lara_trump_offering_her_hush_money/\n"
     ]
    },
    {
     "name": "stderr",
     "output_type": "stream",
     "text": [
      "Scraping Progress:  22%|██▏       | 1859/8402 [1:00:11<2:52:03,  1.58s/it]"
     ]
    },
    {
     "name": "stdout",
     "output_type": "stream",
     "text": [
      "Successfully fetched: http://www.vulture.com/2019/03/riverdale-recap-season-3-episode-15-american-dreams.html\n"
     ]
    },
    {
     "name": "stderr",
     "output_type": "stream",
     "text": [
      "Scraping Progress:  22%|██▏       | 1861/8402 [1:00:14<2:46:35,  1.53s/it]"
     ]
    },
    {
     "name": "stdout",
     "output_type": "stream",
     "text": [
      "Successfully fetched: https://www.thehollywoodgossip.com/slideshows/jenelle-evans-finally-speaks-out-on-rumors-she-dumped-david-easo/\n"
     ]
    },
    {
     "name": "stderr",
     "output_type": "stream",
     "text": [
      "Scraping Progress:  22%|██▏       | 1863/8402 [1:00:18<3:04:34,  1.69s/it]"
     ]
    },
    {
     "name": "stdout",
     "output_type": "stream",
     "text": [
      "Successfully fetched: https://www.cbssports.com/nba/news/was-lebron-james-really-in-the-wrong-for-his-actions-at-bronnys-aau-basketball-game/\n"
     ]
    },
    {
     "name": "stderr",
     "output_type": "stream",
     "text": [
      "Scraping Progress:  22%|██▏       | 1865/8402 [1:00:22<3:12:50,  1.77s/it]"
     ]
    },
    {
     "name": "stdout",
     "output_type": "stream",
     "text": [
      "Successfully fetched: https://www.yahoo.com/news/michael-avenatti-apos-past-won-103824200.html\n"
     ]
    },
    {
     "name": "stderr",
     "output_type": "stream",
     "text": [
      "Scraping Progress:  22%|██▏       | 1866/8402 [1:00:24<3:11:59,  1.76s/it]"
     ]
    },
    {
     "name": "stdout",
     "output_type": "stream",
     "text": [
      "Successfully fetched: https://news.yahoo.com/brett-kavanaugh-issues-first-supreme-163122070.html\n"
     ]
    },
    {
     "name": "stderr",
     "output_type": "stream",
     "text": [
      "Scraping Progress:  22%|██▏       | 1867/8402 [1:00:25<3:11:03,  1.75s/it]"
     ]
    },
    {
     "name": "stdout",
     "output_type": "stream",
     "text": [
      "Successfully fetched: https://finance.yahoo.com/news/vitalik-buterin-google-quantum-supremacy-213540740.html\n"
     ]
    },
    {
     "name": "stderr",
     "output_type": "stream",
     "text": [
      "Scraping Progress:  22%|██▏       | 1868/8402 [1:00:27<3:09:05,  1.74s/it]"
     ]
    },
    {
     "name": "stdout",
     "output_type": "stream",
     "text": [
      "Cannot fetch http://www.brooklynvegan.com/sharon-van-etten-pays-tribute-to-nyc-venues-in-new-video-appearing-in-the-oa-s2/, HTTP error: 403 Client Error: Forbidden for url: https://www.brooklynvegan.com/sharon-van-etten-pays-tribute-to-nyc-venues-in-new-video-appearing-in-the-oa-s2/\n"
     ]
    },
    {
     "name": "stderr",
     "output_type": "stream",
     "text": [
      "Scraping Progress:  22%|██▏       | 1869/8402 [1:00:28<2:56:43,  1.62s/it]"
     ]
    },
    {
     "name": "stdout",
     "output_type": "stream",
     "text": [
      "Successfully fetched: https://www.abc.net.au/news/2019-08-27/royal-adelaide-show-2019-preview/11409724\n"
     ]
    },
    {
     "name": "stderr",
     "output_type": "stream",
     "text": [
      "Scraping Progress:  22%|██▏       | 1870/8402 [1:00:30<3:11:11,  1.76s/it]"
     ]
    },
    {
     "name": "stdout",
     "output_type": "stream",
     "text": [
      "Successfully fetched: https://finance.yahoo.com/news/u-judge-allow-controversial-evidence-roundup-cancer-trials-213311176--finance.html\n"
     ]
    },
    {
     "name": "stderr",
     "output_type": "stream",
     "text": [
      "Scraping Progress:  22%|██▏       | 1871/8402 [1:00:32<3:13:05,  1.77s/it]"
     ]
    },
    {
     "name": "stdout",
     "output_type": "stream",
     "text": [
      "Successfully fetched: https://finance.yahoo.com/news/u-judge-allow-controversial-evidence-roundup-cancer-trials-023818221--finance.html\n"
     ]
    },
    {
     "name": "stderr",
     "output_type": "stream",
     "text": [
      "Scraping Progress:  22%|██▏       | 1872/8402 [1:00:34<3:12:51,  1.77s/it]"
     ]
    },
    {
     "name": "stdout",
     "output_type": "stream",
     "text": [
      "Cannot fetch http://jamiedupree.blog.ajc.com/2019/01/02/no-signs-of-progress-in-talks-to-end-partial-government-shutdown/, HTTP error: 404 Client Error: Not Found for url: https://www.ajc.com/blog/jamie-dupree/2019/01/02/no-signs-of-progress-in-talks-to-end-partial-government-shutdown/\n"
     ]
    },
    {
     "name": "stderr",
     "output_type": "stream",
     "text": [
      "Scraping Progress:  22%|██▏       | 1873/8402 [1:00:36<3:28:08,  1.91s/it]"
     ]
    },
    {
     "name": "stdout",
     "output_type": "stream",
     "text": [
      "Successfully fetched: https://www.bleedingcool.com/2018/01/29/matrix-fans-neo-coming-hot-toys/\n"
     ]
    },
    {
     "name": "stderr",
     "output_type": "stream",
     "text": [
      "Scraping Progress:  22%|██▏       | 1874/8402 [1:00:38<3:11:18,  1.76s/it]"
     ]
    },
    {
     "name": "stdout",
     "output_type": "stream",
     "text": [
      "Successfully fetched: https://toynewsi.com/news.php?itemid=34905\n"
     ]
    },
    {
     "name": "stderr",
     "output_type": "stream",
     "text": [
      "Scraping Progress:  22%|██▏       | 1875/8402 [1:00:39<2:55:45,  1.62s/it]"
     ]
    },
    {
     "name": "stdout",
     "output_type": "stream",
     "text": [
      "Successfully fetched: https://filmschoolrejects.com/kong-skull-island/\n"
     ]
    },
    {
     "name": "stderr",
     "output_type": "stream",
     "text": [
      "Scraping Progress:  22%|██▏       | 1876/8402 [1:00:40<2:50:46,  1.57s/it]"
     ]
    },
    {
     "name": "stdout",
     "output_type": "stream",
     "text": [
      "Successfully fetched: https://www.bleedingcool.com/2018/06/25/funko-overwatch-macgyver-rick-and-morty/\n"
     ]
    },
    {
     "name": "stderr",
     "output_type": "stream",
     "text": [
      "Scraping Progress:  22%|██▏       | 1877/8402 [1:00:42<2:41:15,  1.48s/it]"
     ]
    },
    {
     "name": "stdout",
     "output_type": "stream",
     "text": [
      "Successfully fetched: https://www.bleedingcool.com/2018/07/21/marvel-legends-sdcc-panel-reveals/\n"
     ]
    },
    {
     "name": "stderr",
     "output_type": "stream",
     "text": [
      "Scraping Progress:  22%|██▏       | 1878/8402 [1:00:43<2:33:56,  1.42s/it]"
     ]
    },
    {
     "name": "stdout",
     "output_type": "stream",
     "text": [
      "Successfully fetched: http://www.nba.com/article/2019/04/14/clippers-have-no-answer-warriors-series-opener\n"
     ]
    },
    {
     "name": "stderr",
     "output_type": "stream",
     "text": [
      "Scraping Progress:  22%|██▏       | 1879/8402 [1:00:45<3:08:32,  1.73s/it]"
     ]
    },
    {
     "name": "stdout",
     "output_type": "stream",
     "text": [
      "Successfully fetched: http://www.madshrimps.be/news/item/178609?utm_source=feedburner&utm_medium=feed&utm_campaign=Feed%3A+madshrimps+%28Madshrimps+News+RSS+Feed%29\n"
     ]
    },
    {
     "name": "stderr",
     "output_type": "stream",
     "text": [
      "Scraping Progress:  22%|██▏       | 1880/8402 [1:00:47<2:55:17,  1.61s/it]"
     ]
    },
    {
     "name": "stdout",
     "output_type": "stream",
     "text": [
      "Successfully fetched: http://toynewsi.com/news.php?itemid=30490\n"
     ]
    },
    {
     "name": "stderr",
     "output_type": "stream",
     "text": [
      "Scraping Progress:  22%|██▏       | 1881/8402 [1:00:48<2:47:35,  1.54s/it]"
     ]
    },
    {
     "name": "stdout",
     "output_type": "stream",
     "text": [
      "Cannot fetch https://www.miamiherald.com/news/politics-government/state-politics/article220646155.html, connection timed out.\n"
     ]
    },
    {
     "name": "stderr",
     "output_type": "stream",
     "text": [
      "Scraping Progress:  22%|██▏       | 1883/8402 [1:01:01<6:22:05,  3.52s/it]"
     ]
    },
    {
     "name": "stdout",
     "output_type": "stream",
     "text": [
      "Cannot fetch https://www.yahoo.com/news/lights-camera-summit-critics-pan-white-house-kim-100007613.html, HTTP error: 404 Client Error: Not Found for url: https://www.yahoo.com/news/lights-camera-summit-critics-pan-white-house-kim-100007613.html\n"
     ]
    },
    {
     "name": "stderr",
     "output_type": "stream",
     "text": [
      "Scraping Progress:  22%|██▏       | 1884/8402 [1:01:02<5:11:06,  2.86s/it]"
     ]
    },
    {
     "name": "stdout",
     "output_type": "stream",
     "text": [
      "Cannot fetch https://www.wsj.com/articles/how-to-trade-a-trade-war-1529595543, HTTP error: 401 Client Error: HTTP Forbidden for url: https://www.wsj.com/articles/how-to-trade-a-trade-war-1529595543\n"
     ]
    },
    {
     "name": "stderr",
     "output_type": "stream",
     "text": [
      "Scraping Progress:  22%|██▏       | 1885/8402 [1:01:03<4:14:21,  2.34s/it]"
     ]
    },
    {
     "name": "stdout",
     "output_type": "stream",
     "text": [
      "Cannot fetch http://www.ithome.com/html/digi/392707.htm, HTTP error: 404 Client Error: Not Found for url: https://www.ithome.com/html/digi/392707.htm\n"
     ]
    },
    {
     "name": "stderr",
     "output_type": "stream",
     "text": [
      "Scraping Progress:  22%|██▏       | 1886/8402 [1:01:06<4:18:29,  2.38s/it]"
     ]
    },
    {
     "name": "stdout",
     "output_type": "stream",
     "text": [
      "Successfully fetched: http://gothamist.com/2018/12/27/nye_2018_events_guide.php\n"
     ]
    },
    {
     "name": "stderr",
     "output_type": "stream",
     "text": [
      "Scraping Progress:  22%|██▏       | 1887/8402 [1:01:08<4:09:58,  2.30s/it]"
     ]
    },
    {
     "name": "stdout",
     "output_type": "stream",
     "text": [
      "Successfully fetched: https://www.joblo.com/movie-news/sideshow-brings-all-their-wonderful-toys-to-san-diego-comic-con-2019\n"
     ]
    },
    {
     "name": "stderr",
     "output_type": "stream",
     "text": [
      "Scraping Progress:  22%|██▏       | 1888/8402 [1:01:10<3:58:40,  2.20s/it]"
     ]
    },
    {
     "name": "stdout",
     "output_type": "stream",
     "text": [
      "Successfully fetched: https://www.cbsnews.com/news/georgia-senate-pick-kelly-loeffler-introduces-herself-as-anti-impeachment-and-pro-trump/\n"
     ]
    },
    {
     "name": "stderr",
     "output_type": "stream",
     "text": [
      "Scraping Progress:  22%|██▏       | 1889/8402 [1:01:11<3:42:03,  2.05s/it]"
     ]
    },
    {
     "name": "stdout",
     "output_type": "stream",
     "text": [
      "Successfully fetched: http://www.wwtdd.com/2018/07/kylie-jenner-got-rid-of-her-lip-filler/\n"
     ]
    },
    {
     "name": "stderr",
     "output_type": "stream",
     "text": [
      "Scraping Progress:  22%|██▏       | 1890/8402 [1:01:14<3:58:58,  2.20s/it]"
     ]
    },
    {
     "name": "stdout",
     "output_type": "stream",
     "text": [
      "Successfully fetched: https://indianexpress.com/article/world/sidelined-for-months-judiciary-panel-will-reclaim-trump-impeachment-drive-it-once-led-6146321/\n"
     ]
    },
    {
     "name": "stderr",
     "output_type": "stream",
     "text": [
      "Scraping Progress:  23%|██▎       | 1891/8402 [1:01:18<4:59:18,  2.76s/it]"
     ]
    },
    {
     "name": "stdout",
     "output_type": "stream",
     "text": [
      "Cannot fetch https://www.nationalreview.com/2019/01/border-crisis-wall-central-american-migrants-asylum-rules/, HTTP error: 403 Client Error: Forbidden for url: https://www.nationalreview.com/2019/01/border-crisis-wall-central-american-migrants-asylum-rules/\n"
     ]
    },
    {
     "name": "stderr",
     "output_type": "stream",
     "text": [
      "Scraping Progress:  23%|██▎       | 1892/8402 [1:01:19<4:05:11,  2.26s/it]"
     ]
    },
    {
     "name": "stdout",
     "output_type": "stream",
     "text": [
      "Successfully fetched: https://www.thetruthaboutcars.com/2019/08/2020-ram-1500-ecodiesel-first-drive-third-time-lucky/\n"
     ]
    },
    {
     "name": "stderr",
     "output_type": "stream",
     "text": [
      "Scraping Progress:  23%|██▎       | 1893/8402 [1:01:21<3:47:17,  2.10s/it]"
     ]
    },
    {
     "name": "stdout",
     "output_type": "stream",
     "text": [
      "Successfully fetched: https://www.askmen.com/news/entertainment/universal-orlando-s-halloween-horror-nights-is-not-for-the-faint-of-heart.html\n"
     ]
    },
    {
     "name": "stderr",
     "output_type": "stream",
     "text": [
      "Scraping Progress:  23%|██▎       | 1894/8402 [1:01:23<3:58:13,  2.20s/it]"
     ]
    },
    {
     "name": "stdout",
     "output_type": "stream",
     "text": [
      "Successfully fetched: https://bloody-disgusting.com/news/3570548/wwe-referee-charles-robinsons-horror-memorabilia-collection-stolen-can-help/\n"
     ]
    },
    {
     "name": "stderr",
     "output_type": "stream",
     "text": [
      "Scraping Progress:  23%|██▎       | 1895/8402 [1:01:26<4:16:49,  2.37s/it]"
     ]
    },
    {
     "name": "stdout",
     "output_type": "stream",
     "text": [
      "Successfully fetched: https://www.bbc.com/news/science-environment-46502210\n"
     ]
    },
    {
     "name": "stderr",
     "output_type": "stream",
     "text": [
      "Scraping Progress:  23%|██▎       | 1896/8402 [1:01:28<4:09:48,  2.30s/it]"
     ]
    },
    {
     "name": "stdout",
     "output_type": "stream",
     "text": [
      "Successfully fetched: https://www.nbcnews.com/politics/meet-the-press/under-trump-gop-has-struggled-win-ballot-box-n1018626\n"
     ]
    },
    {
     "name": "stderr",
     "output_type": "stream",
     "text": [
      "Scraping Progress:  23%|██▎       | 1897/8402 [1:01:30<3:40:33,  2.03s/it]"
     ]
    },
    {
     "name": "stdout",
     "output_type": "stream",
     "text": [
      "Successfully fetched: http://www.metalinjection.net/tour-dates/five-finger-death-punch-prophets-of-rage-lamb-of-god-more-set-for-montebello-rockfest\n"
     ]
    },
    {
     "name": "stderr",
     "output_type": "stream",
     "text": [
      "Scraping Progress:  23%|██▎       | 1898/8402 [1:01:33<4:22:51,  2.42s/it]"
     ]
    },
    {
     "name": "stdout",
     "output_type": "stream",
     "text": [
      "Successfully fetched: https://www.techradar.com/news/how-long-until-we-bring-woolly-mammoths-back-from-extinction\n"
     ]
    },
    {
     "name": "stderr",
     "output_type": "stream",
     "text": [
      "Scraping Progress:  23%|██▎       | 1899/8402 [1:01:34<3:49:16,  2.12s/it]"
     ]
    },
    {
     "name": "stdout",
     "output_type": "stream",
     "text": [
      "Successfully fetched: https://www.out.com/art/2019/8/16/best-lgbtq-tattoo-artists-see-your-new-ink\n"
     ]
    },
    {
     "name": "stderr",
     "output_type": "stream",
     "text": [
      "Scraping Progress:  23%|██▎       | 1900/8402 [1:01:36<3:20:16,  1.85s/it]"
     ]
    },
    {
     "name": "stdout",
     "output_type": "stream",
     "text": [
      "Cannot fetch https://news.marvel.com/gear-toys/89199/new-diamond-select-toys-feature-domino-cloak-dagger-iron-spider-and-more/?utm_campaign=rss_feeds&utm_source=headline_news&utm_medium=rss&utm_content=story-89199&, HTTP error: 503 Server Error: Service Unavailable for url: https://news.marvel.com/gear-toys/89199/new-diamond-select-toys-feature-domino-cloak-dagger-iron-spider-and-more/?utm_campaign=rss_feeds&utm_source=headline_news&utm_medium=rss&utm_content=story-89199&\n"
     ]
    },
    {
     "name": "stderr",
     "output_type": "stream",
     "text": [
      "Scraping Progress:  23%|██▎       | 1901/8402 [1:01:37<3:04:48,  1.71s/it]"
     ]
    },
    {
     "name": "stdout",
     "output_type": "stream",
     "text": [
      "Cannot fetch https://news.marvel.com/gear-toys/88735/kidrobots-new-deadpool-with-unicorn-hugme-gives-wade-wilson-a-special-buddy/?utm_campaign=rss_feeds&utm_source=headline_news&utm_medium=rss&utm_content=story-88735&, HTTP error: 503 Server Error: Service Unavailable for url: https://news.marvel.com/gear-toys/88735/kidrobots-new-deadpool-with-unicorn-hugme-gives-wade-wilson-a-special-buddy/?utm_campaign=rss_feeds&utm_source=headline_news&utm_medium=rss&utm_content=story-88735&\n"
     ]
    },
    {
     "name": "stderr",
     "output_type": "stream",
     "text": [
      "Scraping Progress:  23%|██▎       | 1902/8402 [1:01:38<2:52:09,  1.59s/it]"
     ]
    },
    {
     "name": "stdout",
     "output_type": "stream",
     "text": [
      "Successfully fetched: https://toynewsi.com/news.php?itemid=31905\n"
     ]
    },
    {
     "name": "stderr",
     "output_type": "stream",
     "text": [
      "Scraping Progress:  23%|██▎       | 1903/8402 [1:01:39<2:41:00,  1.49s/it]"
     ]
    },
    {
     "name": "stdout",
     "output_type": "stream",
     "text": [
      "Successfully fetched: https://www.irishcentral.com/news/beto-orourke-misogyny-demeaning-women\n"
     ]
    },
    {
     "name": "stderr",
     "output_type": "stream",
     "text": [
      "Scraping Progress:  23%|██▎       | 1904/8402 [1:01:41<2:39:02,  1.47s/it]"
     ]
    },
    {
     "name": "stdout",
     "output_type": "stream",
     "text": [
      "Successfully fetched: https://www.tallahassee.com/story/news/2018/10/23/reports-fbi-gave-andrew-gillum-his-ticket-hamilton/1740859002/?utm_source=google&utm_medium=amp&utm_campaign=speakable\n"
     ]
    },
    {
     "name": "stderr",
     "output_type": "stream",
     "text": [
      "Scraping Progress:  23%|██▎       | 1905/8402 [1:01:42<2:30:24,  1.39s/it]"
     ]
    },
    {
     "name": "stdout",
     "output_type": "stream",
     "text": [
      "Cannot fetch http://www.englishbaby.com/lessons/7653/real_life/fiji_mermaid, connection timed out.\n"
     ]
    },
    {
     "name": "stderr",
     "output_type": "stream",
     "text": [
      "Scraping Progress:  23%|██▎       | 1906/8402 [1:01:53<7:51:30,  4.36s/it]"
     ]
    },
    {
     "name": "stdout",
     "output_type": "stream",
     "text": [
      "Successfully fetched: https://indianexpress.com/article/technology/tech-news-technology/qualcomm-says-apple-is-7-billion-behind-in-royalty-payments-5422004/\n"
     ]
    },
    {
     "name": "stderr",
     "output_type": "stream",
     "text": [
      "Scraping Progress:  23%|██▎       | 1907/8402 [1:01:55<6:38:03,  3.68s/it]"
     ]
    },
    {
     "name": "stdout",
     "output_type": "stream",
     "text": [
      "Cannot fetch https://www.golfdigest.com/story/erik-compton-recalls-memorable-us-open-bid-in-2014-while-longing-for-one-more-similar-run, HTTP error: 403 Client Error: Forbidden for url: https://www.golfdigest.com/story/erik-compton-recalls-memorable-us-open-bid-in-2014-while-longing-for-one-more-similar-run\n"
     ]
    },
    {
     "name": "stderr",
     "output_type": "stream",
     "text": [
      "Scraping Progress:  23%|██▎       | 1908/8402 [1:01:57<5:18:49,  2.95s/it]"
     ]
    },
    {
     "name": "stdout",
     "output_type": "stream",
     "text": [
      "Successfully fetched: https://www.syfy.com/syfywire/artists-alley-hainanu-nooligan-saulque-draws-his-original-character-smiles\n"
     ]
    },
    {
     "name": "stderr",
     "output_type": "stream",
     "text": [
      "Scraping Progress:  23%|██▎       | 1909/8402 [1:01:58<4:24:05,  2.44s/it]"
     ]
    },
    {
     "name": "stdout",
     "output_type": "stream",
     "text": [
      "Successfully fetched: https://nypost.com/2019/05/13/john-daly-will-be-an-embarrassing-sideshow-at-pga-championship/\n"
     ]
    },
    {
     "name": "stderr",
     "output_type": "stream",
     "text": [
      "Scraping Progress:  23%|██▎       | 1910/8402 [1:02:00<3:58:32,  2.20s/it]"
     ]
    },
    {
     "name": "stdout",
     "output_type": "stream",
     "text": [
      "Successfully fetched: https://economictimes.indiatimes.com/markets/expert-view/we-are-in-the-worst-corporate-level-economic-crisis-not-a-macro-crisis-shankar-sharma/articleshow/70068542.cms\n"
     ]
    },
    {
     "name": "stderr",
     "output_type": "stream",
     "text": [
      "Scraping Progress:  23%|██▎       | 1911/8402 [1:02:02<4:17:01,  2.38s/it]"
     ]
    },
    {
     "name": "stdout",
     "output_type": "stream",
     "text": [
      "Successfully fetched: https://www.thedailybeast.com/richard-branson-gets-ready-to-put-his-life-on-the-line-to-make-space-dreams-reality\n"
     ]
    },
    {
     "name": "stderr",
     "output_type": "stream",
     "text": [
      "Scraping Progress:  23%|██▎       | 1913/8402 [1:02:06<3:53:50,  2.16s/it]"
     ]
    },
    {
     "name": "stdout",
     "output_type": "stream",
     "text": [
      "Cannot fetch https://abovethelaw.com/2019/04/what-to-watch-for-as-bill-barr-prepares-to-gaslight-america/, HTTP error: 403 Client Error: Forbidden for url: https://abovethelaw.com/2019/04/what-to-watch-for-as-bill-barr-prepares-to-gaslight-america/\n"
     ]
    },
    {
     "name": "stderr",
     "output_type": "stream",
     "text": [
      "Scraping Progress:  23%|██▎       | 1914/8402 [1:02:08<3:28:41,  1.93s/it]"
     ]
    },
    {
     "name": "stdout",
     "output_type": "stream",
     "text": [
      "Successfully fetched: https://www.tampabay.com/florida-politics/buzz/2018/10/23/records-show-fbi-agents-gave-andrew-gillum-tickets-to-hamilton-in-2016/\n"
     ]
    },
    {
     "name": "stderr",
     "output_type": "stream",
     "text": [
      "Scraping Progress:  23%|██▎       | 1915/8402 [1:02:09<3:18:03,  1.83s/it]"
     ]
    },
    {
     "name": "stdout",
     "output_type": "stream",
     "text": [
      "Successfully fetched: https://www.thedailybeast.com/irans-qasem-soleimani-is-the-mastermind-preparing-proxy-armies-for-war-with-america\n"
     ]
    },
    {
     "name": "stderr",
     "output_type": "stream",
     "text": [
      "Scraping Progress:  23%|██▎       | 1916/8402 [1:02:12<3:26:43,  1.91s/it]"
     ]
    },
    {
     "name": "stdout",
     "output_type": "stream",
     "text": [
      "Successfully fetched: https://www.bleedingcool.com/2018/09/25/funko-round-up-alita-game-of-thrones-mickey-mouse-cuphead/\n"
     ]
    },
    {
     "name": "stderr",
     "output_type": "stream",
     "text": [
      "Scraping Progress:  23%|██▎       | 1917/8402 [1:02:13<3:09:50,  1.76s/it]"
     ]
    },
    {
     "name": "stdout",
     "output_type": "stream",
     "text": [
      "Successfully fetched: https://www.bleedingcool.com/2018/09/27/bespin-princess-leia-hot-toys-carrie-fisher/\n"
     ]
    },
    {
     "name": "stderr",
     "output_type": "stream",
     "text": [
      "Scraping Progress:  23%|██▎       | 1918/8402 [1:02:14<2:52:22,  1.60s/it]"
     ]
    },
    {
     "name": "stdout",
     "output_type": "stream",
     "text": [
      "Cannot fetch https://cleantechnica.com/2018/05/04/anheuser-busch-orders-800-fuel-cell-trucks-from-nikola-motors/, HTTP error: 403 Client Error: Forbidden for url: https://cleantechnica.com/2018/05/04/anheuser-busch-orders-800-fuel-cell-trucks-from-nikola-motors/\n"
     ]
    },
    {
     "name": "stderr",
     "output_type": "stream",
     "text": [
      "Scraping Progress:  23%|██▎       | 1919/8402 [1:02:16<2:48:45,  1.56s/it]"
     ]
    },
    {
     "name": "stdout",
     "output_type": "stream",
     "text": [
      "Cannot fetch https://www.wsj.com/articles/putin-is-weak-europe-doesnt-have-to-be-1532388138, HTTP error: 401 Client Error: HTTP Forbidden for url: https://www.wsj.com/articles/putin-is-weak-europe-doesnt-have-to-be-1532388138\n"
     ]
    },
    {
     "name": "stderr",
     "output_type": "stream",
     "text": [
      "Scraping Progress:  23%|██▎       | 1920/8402 [1:02:17<2:35:31,  1.44s/it]"
     ]
    },
    {
     "name": "stdout",
     "output_type": "stream",
     "text": [
      "Successfully fetched: http://www.abc.net.au/news/2018-10-15/wentworth-dave-sharma-treatment-of-malcolm-turnbull-appalling/10377790\n"
     ]
    },
    {
     "name": "stderr",
     "output_type": "stream",
     "text": [
      "Scraping Progress:  23%|██▎       | 1921/8402 [1:02:19<2:47:10,  1.55s/it]"
     ]
    },
    {
     "name": "stdout",
     "output_type": "stream",
     "text": [
      "Successfully fetched: https://www.thedailybeast.com/imagine-a-world-without-contraceptives-this-new-york-art-show-does\n"
     ]
    },
    {
     "name": "stderr",
     "output_type": "stream",
     "text": [
      "Scraping Progress:  23%|██▎       | 1922/8402 [1:02:21<3:16:38,  1.82s/it]"
     ]
    },
    {
     "name": "stdout",
     "output_type": "stream",
     "text": [
      "Successfully fetched: https://www.nakedcapitalism.com/2019/06/cheat-sheet-for-tonight-and-tomorrows-democrat-presidential-debate.html\n"
     ]
    },
    {
     "name": "stderr",
     "output_type": "stream",
     "text": [
      "Scraping Progress:  23%|██▎       | 1923/8402 [1:02:24<3:51:34,  2.14s/it]"
     ]
    },
    {
     "name": "stdout",
     "output_type": "stream",
     "text": [
      "Successfully fetched: https://www.gamevicio.com/noticias/2018/07/estatua-do-homem-aranha-de-ps4-da-hot-toys-sai-em-2019/\n"
     ]
    },
    {
     "name": "stderr",
     "output_type": "stream",
     "text": [
      "Scraping Progress:  23%|██▎       | 1924/8402 [1:02:25<3:24:23,  1.89s/it]"
     ]
    },
    {
     "name": "stdout",
     "output_type": "stream",
     "text": [
      "Successfully fetched: http://www.belloflostsouls.net/2018/09/toyland-batman-takes-a-dynamic-leap-in-this-new-statue.html\n"
     ]
    },
    {
     "name": "stderr",
     "output_type": "stream",
     "text": [
      "Scraping Progress:  23%|██▎       | 1925/8402 [1:02:27<3:19:09,  1.84s/it]"
     ]
    },
    {
     "name": "stdout",
     "output_type": "stream",
     "text": [
      "Successfully fetched: https://toynewsi.com/news.php?itemid=32207\n"
     ]
    },
    {
     "name": "stderr",
     "output_type": "stream",
     "text": [
      "Scraping Progress:  23%|██▎       | 1927/8402 [1:02:30<3:02:21,  1.69s/it]"
     ]
    }
   ],
   "source": [
    "import pandas as pd\n",
    "import requests\n",
    "from bs4 import BeautifulSoup\n",
    "from tqdm import tqdm\n",
    "import time\n",
    "\n",
    "# Load the CSV file containing URLs\n",
    "data = pd.read_csv('../data/sideshow/sideshow_2018_2019.csv') \n",
    "urls = data['url'].tolist() \n",
    "\n",
    "# Function to fetch the main text content from a webpage\n",
    "def fetch_text_from_url(url):\n",
    "    headers = {\n",
    "        \"User-Agent\": \"Mozilla/5.0 (Windows NT 10.0; Win64; x64) AppleWebKit/537.36 (KHTML, like Gecko) Chrome/87.0.4280.88 Safari/537.36\"\n",
    "    }\n",
    "    try:\n",
    "        response = requests.get(url, headers=headers, timeout=10)\n",
    "        response.raise_for_status()  # Check if the request was successful\n",
    "        soup = BeautifulSoup(response.text, 'html.parser')\n",
    "        \n",
    "        # Extract content within <p> tags\n",
    "        paragraphs = soup.find_all('p')\n",
    "        text_content = \"\\n\".join([p.get_text() for p in paragraphs if p.get_text()])\n",
    "        \n",
    "        return text_content\n",
    "    except requests.exceptions.HTTPError as http_err:\n",
    "        print(f\"Cannot fetch {url}, HTTP error: {http_err}\")\n",
    "    except requests.exceptions.Timeout:\n",
    "        print(f\"Cannot fetch {url}, connection timed out.\")\n",
    "    except requests.exceptions.RequestException as e:\n",
    "        print(f\"Cannot fetch {url}, error: {e}\")\n",
    "    return None\n",
    "\n",
    "# Scrape text content for each URL and display progress\n",
    "all_texts = []\n",
    "for url in tqdm(urls, desc=\"Scraping Progress\", leave=True):  # `leave=True` keeps progress bar on one line\n",
    "    text = fetch_text_from_url(url)\n",
    "    if text:\n",
    "        print(f\"Successfully fetched: {url}\")  # Print success message for each URL fetched\n",
    "        all_texts.append(text)\n",
    "    else:\n",
    "        all_texts.append(\"\")  # Add an empty string if fetching fails\n",
    "    time.sleep(1)  # Add delay to avoid being blocked\n",
    "\n",
    "# Add the fetched content to the DataFrame and save to a new CSV file\n",
    "data['text'] = all_texts\n",
    "data.to_csv('/mnt/data/sideshow_with_texts.csv', index=False)\n",
    "print(\"Scraping completed, file saved as sideshow_with_texts.csv\")\n"
   ]
  },
  {
   "cell_type": "code",
   "execution_count": null,
   "metadata": {},
   "outputs": [],
   "source": []
  }
 ],
 "metadata": {
  "kernelspec": {
   "display_name": "My Custom Environment",
   "language": "python",
   "name": "your_environment_name"
  },
  "language_info": {
   "codemirror_mode": {
    "name": "ipython",
    "version": 3
   },
   "file_extension": ".py",
   "mimetype": "text/x-python",
   "name": "python",
   "nbconvert_exporter": "python",
   "pygments_lexer": "ipython3",
   "version": "3.11.3"
  }
 },
 "nbformat": 4,
 "nbformat_minor": 2
}
