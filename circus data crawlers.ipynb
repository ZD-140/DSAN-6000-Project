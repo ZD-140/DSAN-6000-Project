{
 "cells": [
  {
   "cell_type": "code",
   "execution_count": 1,
   "id": "bc95ee62-3c23-456a-af6e-d9efec7b5110",
   "metadata": {},
   "outputs": [],
   "source": [
    "import pandas as pd\n",
    "import matplotlib.pyplot as plt\n",
    "import numpy as np\n",
    "import requests\n",
    "from tqdm import tqdm\n",
    "from bs4 import BeautifulSoup\n",
    "import requests\n",
    "from tqdm import tqdm\n",
    "import time"
   ]
  },
  {
   "cell_type": "code",
   "execution_count": null,
   "id": "27917b64-d859-4089-a2fb-9bcd517ffb74",
   "metadata": {
    "scrolled": true
   },
   "outputs": [
    {
     "name": "stderr",
     "output_type": "stream",
     "text": [
      "Scraping Progress:   0%|          | 0/3302 [00:00<?, ?it/s]"
     ]
    },
    {
     "name": "stdout",
     "output_type": "stream",
     "text": [
      "Successfully fetched: https://www.businessinsider.com/photos-caroline-ellison-got-into-wrong-car-after-court-2023-10\n"
     ]
    },
    {
     "name": "stderr",
     "output_type": "stream",
     "text": [
      "Scraping Progress:   0%|          | 1/3302 [00:01<1:03:39,  1.16s/it]"
     ]
    },
    {
     "name": "stdout",
     "output_type": "stream",
     "text": [
      "Successfully fetched: https://hackaday.com/2023/09/11/out-with-the-circus-animals-in-with-the-holograms/\n"
     ]
    },
    {
     "name": "stderr",
     "output_type": "stream",
     "text": [
      "Scraping Progress:   0%|          | 2/3302 [00:02<1:09:18,  1.26s/it]"
     ]
    },
    {
     "name": "stdout",
     "output_type": "stream",
     "text": [
      "Successfully fetched: https://www.wired.com/story/law-geeks-exposing-google-secretive-antitrust-trial/\n"
     ]
    },
    {
     "name": "stderr",
     "output_type": "stream",
     "text": [
      "Scraping Progress:   0%|          | 3/3302 [00:03<1:04:27,  1.17s/it]"
     ]
    },
    {
     "name": "stdout",
     "output_type": "stream",
     "text": [
      "Successfully fetched: https://boingboing.net/2023/09/09/judge-orders-intuit-to-stop-lying-about-turbotax-being-free.html\n"
     ]
    },
    {
     "name": "stderr",
     "output_type": "stream",
     "text": [
      "Scraping Progress:   0%|          | 4/3302 [00:04<1:01:51,  1.13s/it]"
     ]
    },
    {
     "name": "stdout",
     "output_type": "stream",
     "text": [
      "Successfully fetched: https://boingboing.net/2023/10/23/gop-adds-more-chaos-with-not-1-not-2-but-9-more-house-speaker-candidates.html\n"
     ]
    },
    {
     "name": "stderr",
     "output_type": "stream",
     "text": [
      "Scraping Progress:   0%|          | 5/3302 [00:05<1:00:24,  1.10s/it]"
     ]
    },
    {
     "name": "stdout",
     "output_type": "stream",
     "text": [
      "Successfully fetched: https://hackaday.com/2023/09/15/hackaday-podcast-236-the-car-episode-building-leonardos-water-mill-reviving-radio-shack/\n"
     ]
    },
    {
     "name": "stderr",
     "output_type": "stream",
     "text": [
      "Scraping Progress:   0%|          | 6/3302 [00:06<1:03:57,  1.16s/it]"
     ]
    },
    {
     "name": "stdout",
     "output_type": "stream",
     "text": [
      "Successfully fetched: https://boingboing.net/2023/10/30/unpopular-lauren-boebert-is-in-colorado-apologizing-to-voters-after-beetlejuice-debacle.html\n"
     ]
    },
    {
     "name": "stderr",
     "output_type": "stream",
     "text": [
      "Scraping Progress:   0%|          | 7/3302 [00:08<1:01:53,  1.13s/it]"
     ]
    },
    {
     "name": "stdout",
     "output_type": "stream",
     "text": [
      "Successfully fetched: https://www.stereogum.com/2237306/circus-devils-here-we-are/music/\n"
     ]
    },
    {
     "name": "stderr",
     "output_type": "stream",
     "text": [
      "Scraping Progress:   0%|          | 8/3302 [00:10<1:29:46,  1.64s/it]"
     ]
    },
    {
     "name": "stdout",
     "output_type": "stream",
     "text": [
      "Successfully fetched: https://boingboing.net/2023/10/20/as-jordan-prepares-for-yet-another-vote-republicans-rage-against-matt-gaetz-video.html\n"
     ]
    },
    {
     "name": "stderr",
     "output_type": "stream",
     "text": [
      "Scraping Progress:   0%|          | 9/3302 [00:12<1:30:30,  1.65s/it]"
     ]
    },
    {
     "name": "stdout",
     "output_type": "stream",
     "text": [
      "Successfully fetched: https://boingboing.net/2023/10/13/republican-lawmakers-vent-about-their-own-inept-gop-colleagues-a-bunch-of-idiots-video.html\n"
     ]
    },
    {
     "name": "stderr",
     "output_type": "stream",
     "text": [
      "Scraping Progress:   0%|          | 10/3302 [00:13<1:20:19,  1.46s/it]"
     ]
    },
    {
     "name": "stdout",
     "output_type": "stream",
     "text": [
      "Successfully fetched: https://stadt-bremerhaven.de/circus-theater-roncalli-hologramme-ersetzen-tiere/\n"
     ]
    },
    {
     "name": "stderr",
     "output_type": "stream",
     "text": [
      "Scraping Progress:   0%|          | 11/3302 [00:14<1:19:20,  1.45s/it]"
     ]
    },
    {
     "name": "stdout",
     "output_type": "stream",
     "text": [
      "Cannot fetch https://www.zeit.de/zustimmung?url=https%3A%2F%2Fwww.zeit.de%2Fzeit-fuer-unternehmer%2F2023%2F02%2Fbernhard-paul-circus-roncalli-zirkusdirektor, HTTP error: 410 Client Error:  for url: https://www.zeit.de/zustimmung?url=https%3A%2F%2Fwww.zeit.de%2Fzeit-fuer-unternehmer%2F2023%2F02%2Fbernhard-paul-circus-roncalli-zirkusdirektor\n"
     ]
    },
    {
     "name": "stderr",
     "output_type": "stream",
     "text": [
      "Scraping Progress:   0%|          | 12/3302 [00:16<1:19:39,  1.45s/it]"
     ]
    },
    {
     "name": "stdout",
     "output_type": "stream",
     "text": [
      "Successfully fetched: https://www.bbc.co.uk/sport/av/boxing/67095306\n"
     ]
    },
    {
     "name": "stderr",
     "output_type": "stream",
     "text": [
      "Scraping Progress:   0%|          | 13/3302 [00:17<1:21:37,  1.49s/it]/tmp/ipykernel_1966/931963622.py:13: MarkupResemblesLocatorWarning: The input looks more like a filename than markup. You may want to open this file and pass the filehandle into Beautiful Soup.\n",
      "  soup = BeautifulSoup(response.text, 'html.parser')\n",
      "Scraping Progress:   0%|          | 14/3302 [00:19<1:16:06,  1.39s/it]"
     ]
    },
    {
     "name": "stdout",
     "output_type": "stream",
     "text": [
      "Successfully fetched: https://www.bbc.com/culture/article/20230831-why-john-le-carrs-the-spy-who-came-in-from-the-cold-is-the-ultimate-spy-novel\n"
     ]
    },
    {
     "name": "stderr",
     "output_type": "stream",
     "text": [
      "Scraping Progress:   0%|          | 15/3302 [00:20<1:16:43,  1.40s/it]"
     ]
    },
    {
     "name": "stdout",
     "output_type": "stream",
     "text": [
      "Successfully fetched: https://boingboing.net/2023/09/01/laura-loomer-attacks-marjorie-taylor-greene-on-x-you-are-a-con-woman.html\n"
     ]
    },
    {
     "name": "stderr",
     "output_type": "stream",
     "text": [
      "Scraping Progress:   0%|          | 16/3302 [00:21<1:11:23,  1.30s/it]"
     ]
    },
    {
     "name": "stdout",
     "output_type": "stream",
     "text": [
      "Successfully fetched: https://www.businessinsider.com/government-shutdown-2023-update-likelihood-when-will-it-start-2023-9\n"
     ]
    },
    {
     "name": "stderr",
     "output_type": "stream",
     "text": [
      "Scraping Progress:   1%|          | 17/3302 [00:22<1:09:06,  1.26s/it]"
     ]
    },
    {
     "name": "stdout",
     "output_type": "stream",
     "text": [
      "Successfully fetched: https://bleacherreport.com/articles/10095142-mavericks-luka-doncic-on-circus-shot-vs-nets-i-dont-know-how-i-made-it\n"
     ]
    },
    {
     "name": "stderr",
     "output_type": "stream",
     "text": [
      "Scraping Progress:   1%|          | 18/3302 [00:24<1:09:21,  1.27s/it]"
     ]
    },
    {
     "name": "stdout",
     "output_type": "stream",
     "text": [
      "Successfully fetched: https://www.frandroid.com/survoltes/velo-electrique/1820831_cette-veste-continental-pour-velo-est-la-premiere-a-etre-detectable-par-les-cameras-des-voitures\n"
     ]
    },
    {
     "name": "stderr",
     "output_type": "stream",
     "text": [
      "Scraping Progress:   1%|          | 19/3302 [00:25<1:14:16,  1.36s/it]"
     ]
    },
    {
     "name": "stdout",
     "output_type": "stream",
     "text": [
      "Cannot fetch https://simone.org/honeypot-diaries/, HTTP error: 404 Client Error: Not Found for url: https://simone.org/honeypot-diaries/\n"
     ]
    },
    {
     "name": "stderr",
     "output_type": "stream",
     "text": [
      "Scraping Progress:   1%|          | 20/3302 [00:26<1:11:26,  1.31s/it]"
     ]
    },
    {
     "name": "stdout",
     "output_type": "stream",
     "text": [
      "Successfully fetched: https://cheezburger.com/22053637/top-painfully-awkward-linkedin-flops-for-employees-embracing-team-morale\n"
     ]
    },
    {
     "name": "stderr",
     "output_type": "stream",
     "text": [
      "Scraping Progress:   1%|          | 21/3302 [00:28<1:10:50,  1.30s/it]"
     ]
    },
    {
     "name": "stdout",
     "output_type": "stream",
     "text": [
      "Successfully fetched: https://www.highsnobiety.com/p/travis-scott-utopia-tour-low-demand/\n"
     ]
    },
    {
     "name": "stderr",
     "output_type": "stream",
     "text": [
      "Scraping Progress:   1%|          | 22/3302 [00:29<1:21:41,  1.49s/it]"
     ]
    },
    {
     "name": "stdout",
     "output_type": "stream",
     "text": [
      "Successfully fetched: https://www.slashfilm.com/1396012/animatronics-five-nights-at-freddys-explained/\n"
     ]
    },
    {
     "name": "stderr",
     "output_type": "stream",
     "text": [
      "Scraping Progress:   1%|          | 23/3302 [00:31<1:14:23,  1.36s/it]"
     ]
    },
    {
     "name": "stdout",
     "output_type": "stream",
     "text": [
      "Successfully fetched: https://www.businessinsider.com/why-us-has-so-many-roundabouts-2023-10\n"
     ]
    },
    {
     "name": "stderr",
     "output_type": "stream",
     "text": [
      "Scraping Progress:   1%|          | 24/3302 [00:32<1:10:44,  1.29s/it]"
     ]
    },
    {
     "name": "stdout",
     "output_type": "stream",
     "text": [
      "Cannot fetch https://abcnews.go.com/Business/wireStory/las-vegas-hospitality-workers-strike-union-holds-authorization-103507330, HTTP error: 404 Client Error: Not Found for url: https://abcnews.go.com/Business/wireStory/las-vegas-hospitality-workers-strike-union-holds-authorization-103507330\n"
     ]
    },
    {
     "name": "stderr",
     "output_type": "stream",
     "text": [
      "Scraping Progress:   1%|          | 25/3302 [00:33<1:06:30,  1.22s/it]"
     ]
    },
    {
     "name": "stdout",
     "output_type": "stream",
     "text": [
      "Cannot fetch https://abcnews.go.com/Weird/wireStory/ice-pops-cool-monkeys-brazil-rio-zoo-rare-103417502, HTTP error: 404 Client Error: Not Found for url: https://abcnews.go.com/Weird/wireStory/ice-pops-cool-monkeys-brazil-rio-zoo-rare-103417502\n"
     ]
    },
    {
     "name": "stderr",
     "output_type": "stream",
     "text": [
      "Scraping Progress:   1%|          | 26/3302 [00:34<1:03:45,  1.17s/it]"
     ]
    },
    {
     "name": "stdout",
     "output_type": "stream",
     "text": [
      "Successfully fetched: https://www.slashfilm.com/1426660/five-nights-at-freddys-why-animatronics-obsessed-hunting-humans/\n"
     ]
    },
    {
     "name": "stderr",
     "output_type": "stream",
     "text": [
      "Scraping Progress:   1%|          | 27/3302 [00:35<1:02:06,  1.14s/it]"
     ]
    },
    {
     "name": "stdout",
     "output_type": "stream",
     "text": [
      "Successfully fetched: https://www.atlasobscura.com/places/circus-ring-of-fame-sarasota\n"
     ]
    },
    {
     "name": "stderr",
     "output_type": "stream",
     "text": [
      "Scraping Progress:   1%|          | 28/3302 [00:36<1:03:52,  1.17s/it]"
     ]
    },
    {
     "name": "stdout",
     "output_type": "stream",
     "text": [
      "Successfully fetched: https://gizmodo.com/obituary-richard-moll-night-court-bailiff-passed-away-1850969763\n"
     ]
    },
    {
     "name": "stderr",
     "output_type": "stream",
     "text": [
      "Scraping Progress:   1%|          | 29/3302 [00:38<1:08:27,  1.25s/it]"
     ]
    },
    {
     "name": "stdout",
     "output_type": "stream",
     "text": [
      "Successfully fetched: https://www.npr.org/2023/09/27/1201962741/up-first-briefing-trump-skips-gop-debate-ftc-sues-amazon-student-loan-repayment\n"
     ]
    },
    {
     "name": "stderr",
     "output_type": "stream",
     "text": [
      "Scraping Progress:   1%|          | 30/3302 [00:39<1:17:17,  1.42s/it]"
     ]
    },
    {
     "name": "stdout",
     "output_type": "stream",
     "text": [
      "Successfully fetched: https://www.npr.org/2023/09/27/1201876572/trump-michigan-autoworkers-uaw-strike-union-gop-debate\n"
     ]
    },
    {
     "name": "stderr",
     "output_type": "stream",
     "text": [
      "Scraping Progress:   1%|          | 31/3302 [00:41<1:29:19,  1.64s/it]"
     ]
    },
    {
     "name": "stdout",
     "output_type": "stream",
     "text": [
      "Successfully fetched: https://www.businessinsider.com/tim-burchett-mccarthy-ouster-house-speaker-slept-like-baby-conservatives-2023-10\n"
     ]
    },
    {
     "name": "stderr",
     "output_type": "stream",
     "text": [
      "Scraping Progress:   1%|          | 32/3302 [00:43<1:22:37,  1.52s/it]"
     ]
    },
    {
     "name": "stdout",
     "output_type": "stream",
     "text": [
      "Successfully fetched: https://www.businessinsider.com/cassidy-hutchinson-ted-cruz-sparred-trump-texas-tarmac-arrival-book-2023-9\n"
     ]
    },
    {
     "name": "stderr",
     "output_type": "stream",
     "text": [
      "Scraping Progress:   1%|          | 33/3302 [00:44<1:16:33,  1.41s/it]"
     ]
    },
    {
     "name": "stdout",
     "output_type": "stream",
     "text": [
      "Successfully fetched: https://www.digitaltrends.com/movies/five-movies-that-deserve-more-hate/\n"
     ]
    },
    {
     "name": "stderr",
     "output_type": "stream",
     "text": [
      "Scraping Progress:   1%|          | 34/3302 [00:46<1:29:03,  1.64s/it]"
     ]
    },
    {
     "name": "stdout",
     "output_type": "stream",
     "text": [
      "Successfully fetched: https://www.zeit.de/news/2023-10/29/fc-bayern-laedt-kinder-in-zirkus-ein-alle-stars-dabei\n"
     ]
    },
    {
     "name": "stderr",
     "output_type": "stream",
     "text": [
      "Scraping Progress:   1%|          | 35/3302 [00:48<1:42:22,  1.88s/it]"
     ]
    },
    {
     "name": "stdout",
     "output_type": "stream",
     "text": [
      "Successfully fetched: https://www.01net.com/actualites/cette-veste-pour-cycliste-est-detectee-automatiquement-par-les-cameras-des-voitures-vraiment.html\n"
     ]
    },
    {
     "name": "stderr",
     "output_type": "stream",
     "text": [
      "Scraping Progress:   1%|          | 36/3302 [00:50<1:36:56,  1.78s/it]"
     ]
    },
    {
     "name": "stdout",
     "output_type": "stream",
     "text": [
      "Successfully fetched: https://gizmodo.com/deepfake-cheer-mom-sues-for-defamation-1850884295\n"
     ]
    },
    {
     "name": "stderr",
     "output_type": "stream",
     "text": [
      "Scraping Progress:   1%|          | 37/3302 [00:51<1:29:39,  1.65s/it]"
     ]
    },
    {
     "name": "stdout",
     "output_type": "stream",
     "text": [
      "Successfully fetched: https://www.stereogum.com/2239241/travis-scott-postpones-raleigh-show-at-the-last-minute/news/\n"
     ]
    },
    {
     "name": "stderr",
     "output_type": "stream",
     "text": [
      "Scraping Progress:   1%|          | 38/3302 [00:53<1:37:05,  1.78s/it]"
     ]
    },
    {
     "name": "stdout",
     "output_type": "stream",
     "text": [
      "Successfully fetched: https://www.marketingdirecto.com/anunciantes-general/anunciantes/wabi-patrocina-rock-circus-segundo-ano-consecutivo\n"
     ]
    },
    {
     "name": "stderr",
     "output_type": "stream",
     "text": [
      "Scraping Progress:   1%|          | 39/3302 [00:56<1:42:05,  1.88s/it]"
     ]
    },
    {
     "name": "stdout",
     "output_type": "stream",
     "text": [
      "Successfully fetched: https://abcnews.go.com/US/hunter-biden-sues-irs-whistleblowers-criticized-doj-probe/story?id=102112021\n"
     ]
    },
    {
     "name": "stderr",
     "output_type": "stream",
     "text": [
      "Scraping Progress:   1%|          | 40/3302 [00:57<1:32:07,  1.69s/it]"
     ]
    },
    {
     "name": "stdout",
     "output_type": "stream",
     "text": [
      "Successfully fetched: https://www.slashfilm.com/1397912/five-nights-at-freddys-movie-fourth-closet-graphic-novel-theory/\n"
     ]
    },
    {
     "name": "stderr",
     "output_type": "stream",
     "text": [
      "Scraping Progress:   1%|          | 41/3302 [00:58<1:21:23,  1.50s/it]"
     ]
    },
    {
     "name": "stdout",
     "output_type": "stream",
     "text": [
      "Successfully fetched: https://cheezburger.com/4136966/2-lions-who-spent-their-whole-lives-in-the-circus-taste-freedom-for-the-first-time-in-emotional\n"
     ]
    },
    {
     "name": "stderr",
     "output_type": "stream",
     "text": [
      "Scraping Progress:   1%|▏         | 42/3302 [00:59<1:16:37,  1.41s/it]"
     ]
    },
    {
     "name": "stdout",
     "output_type": "stream",
     "text": [
      "Successfully fetched: https://www.forbes.com/sites/danidiplacido/2023/10/26/the-amazing-digital-circus-broke-the-internet/\n"
     ]
    },
    {
     "name": "stderr",
     "output_type": "stream",
     "text": [
      "Scraping Progress:   1%|▏         | 43/3302 [01:00<1:10:34,  1.30s/it]"
     ]
    },
    {
     "name": "stdout",
     "output_type": "stream",
     "text": [
      "Successfully fetched: https://biztoc.com/x/3aa56572892e1351\n"
     ]
    },
    {
     "name": "stderr",
     "output_type": "stream",
     "text": [
      "Scraping Progress:   1%|▏         | 44/3302 [01:01<1:07:27,  1.24s/it]"
     ]
    },
    {
     "name": "stdout",
     "output_type": "stream",
     "text": [
      "Successfully fetched: https://deadline.com/2023/09/the-circus-showtime-returns-1235537300/\n"
     ]
    },
    {
     "name": "stderr",
     "output_type": "stream",
     "text": [
      "Scraping Progress:   1%|▏         | 45/3302 [01:03<1:18:36,  1.45s/it]"
     ]
    },
    {
     "name": "stdout",
     "output_type": "stream",
     "text": [
      "Successfully fetched: https://time.com/6328126/taylor-swift-1989-all-you-had-to-do-was-stay/\n"
     ]
    },
    {
     "name": "stderr",
     "output_type": "stream",
     "text": [
      "Scraping Progress:   1%|▏         | 47/3302 [01:06<1:15:56,  1.40s/it]"
     ]
    },
    {
     "name": "stdout",
     "output_type": "stream",
     "text": [
      "Successfully fetched: https://www.digitaltrends.com/movies/beckham-is-popular-on-netflix-here-are-three-reasons-why-you-should-watch-it/\n"
     ]
    },
    {
     "name": "stderr",
     "output_type": "stream",
     "text": [
      "Scraping Progress:   1%|▏         | 49/3302 [01:09<1:13:47,  1.36s/it]"
     ]
    },
    {
     "name": "stdout",
     "output_type": "stream",
     "text": [
      "Successfully fetched: https://hypebeast.com/2023/9/travis-scott-nike-sharkidon-release-date\n"
     ]
    },
    {
     "name": "stderr",
     "output_type": "stream",
     "text": [
      "Scraping Progress:   2%|▏         | 50/3302 [01:10<1:22:05,  1.51s/it]"
     ]
    },
    {
     "name": "stdout",
     "output_type": "stream",
     "text": [
      "Successfully fetched: https://www.thisiscolossal.com/2023/10/fatima-ronquillo-amore/\n"
     ]
    },
    {
     "name": "stderr",
     "output_type": "stream",
     "text": [
      "Scraping Progress:   2%|▏         | 51/3302 [01:12<1:14:53,  1.38s/it]"
     ]
    },
    {
     "name": "stdout",
     "output_type": "stream",
     "text": [
      "Successfully fetched: https://slate.com/technology/2023/10/sbf-trial-jury-selection.html\n"
     ]
    },
    {
     "name": "stderr",
     "output_type": "stream",
     "text": [
      "Scraping Progress:   2%|▏         | 52/3302 [01:13<1:09:24,  1.28s/it]"
     ]
    },
    {
     "name": "stdout",
     "output_type": "stream",
     "text": [
      "Successfully fetched: https://www.ilfattoquotidiano.it/2023/09/01/blink-circus-imaginarium-unimmersione-totale-nellarte-e-nella-mente-umana/7278374/\n"
     ]
    },
    {
     "name": "stderr",
     "output_type": "stream",
     "text": [
      "Scraping Progress:   2%|▏         | 53/3302 [01:15<1:20:29,  1.49s/it]"
     ]
    },
    {
     "name": "stdout",
     "output_type": "stream",
     "text": [
      "Successfully fetched: https://www.forbes.com/sites/mikestubbs/2023/10/29/new-dota-2-hero-ringmaster-captures-heroes-for-the-circus/\n"
     ]
    },
    {
     "name": "stderr",
     "output_type": "stream",
     "text": [
      "Scraping Progress:   2%|▏         | 54/3302 [01:16<1:13:07,  1.35s/it]"
     ]
    },
    {
     "name": "stdout",
     "output_type": "stream",
     "text": [
      "Successfully fetched: https://www.rollingstone.com/tv-movies/tv-movie-news/monty-python-holy-grail-return-theaters-1234856201/\n"
     ]
    },
    {
     "name": "stderr",
     "output_type": "stream",
     "text": [
      "Scraping Progress:   2%|▏         | 56/3302 [01:18<1:13:24,  1.36s/it]"
     ]
    },
    {
     "name": "stdout",
     "output_type": "stream",
     "text": [
      "Successfully fetched: https://www.cracked.com/article_39460_15-very-dark-jokes-from-gary-larsons-the-far-side.html\n"
     ]
    },
    {
     "name": "stderr",
     "output_type": "stream",
     "text": [
      "Scraping Progress:   2%|▏         | 57/3302 [01:20<1:10:24,  1.30s/it]"
     ]
    },
    {
     "name": "stdout",
     "output_type": "stream",
     "text": [
      "Successfully fetched: https://www.businessinsider.com/tinned-fish-store-nyc-times-square-fantastic-world-portuguese-sardine-2023-10\n"
     ]
    },
    {
     "name": "stderr",
     "output_type": "stream",
     "text": [
      "Scraping Progress:   2%|▏         | 58/3302 [01:21<1:06:41,  1.23s/it]"
     ]
    },
    {
     "name": "stdout",
     "output_type": "stream",
     "text": [
      "Successfully fetched: https://www.cnet.com/tech/services-and-software/dolphins-vs-bills-livestream-how-to-watch-nfl-week-4-online-today/\n"
     ]
    },
    {
     "name": "stderr",
     "output_type": "stream",
     "text": [
      "Scraping Progress:   2%|▏         | 60/3302 [01:23<1:03:47,  1.18s/it]"
     ]
    },
    {
     "name": "stdout",
     "output_type": "stream",
     "text": [
      "Successfully fetched: https://www.bbc.co.uk/sport/boxing/67091665\n"
     ]
    },
    {
     "name": "stderr",
     "output_type": "stream",
     "text": [
      "Scraping Progress:   2%|▏         | 61/3302 [01:24<1:08:52,  1.28s/it]"
     ]
    },
    {
     "name": "stdout",
     "output_type": "stream",
     "text": [
      "Successfully fetched: https://deadline.com/2023/09/water-for-elephants-broadway-opening-1235543557/\n"
     ]
    },
    {
     "name": "stderr",
     "output_type": "stream",
     "text": [
      "Scraping Progress:   2%|▏         | 62/3302 [01:26<1:16:50,  1.42s/it]"
     ]
    },
    {
     "name": "stdout",
     "output_type": "stream",
     "text": [
      "Cannot fetch https://abovethelaw.com/2023/09/wisconsin-congressman-busts-ag-garlands-balls-about-naked-bike-ride-in-madison/, HTTP error: 403 Client Error: Forbidden for url: https://abovethelaw.com/2023/09/wisconsin-congressman-busts-ag-garlands-balls-about-naked-bike-ride-in-madison/\n"
     ]
    },
    {
     "name": "stderr",
     "output_type": "stream",
     "text": [
      "Scraping Progress:   2%|▏         | 63/3302 [01:27<1:13:39,  1.36s/it]"
     ]
    },
    {
     "name": "stdout",
     "output_type": "stream",
     "text": [
      "Successfully fetched: https://variety.com/2023/film/global/coproduction-office-the-magnet-man-1235751909/\n"
     ]
    },
    {
     "name": "stderr",
     "output_type": "stream",
     "text": [
      "Scraping Progress:   2%|▏         | 64/3302 [01:29<1:21:44,  1.51s/it]"
     ]
    },
    {
     "name": "stdout",
     "output_type": "stream",
     "text": [
      "Successfully fetched: https://weekly.ascii.jp/elem/000/004/155/4155675/\n"
     ]
    },
    {
     "name": "stderr",
     "output_type": "stream",
     "text": [
      "Scraping Progress:   2%|▏         | 65/3302 [01:31<1:21:43,  1.51s/it]"
     ]
    },
    {
     "name": "stdout",
     "output_type": "stream",
     "text": [
      "Successfully fetched: https://www.slashfilm.com/1416726/most-controversial-deaths-horror-history/\n"
     ]
    },
    {
     "name": "stderr",
     "output_type": "stream",
     "text": [
      "Scraping Progress:   2%|▏         | 66/3302 [01:32<1:14:09,  1.38s/it]"
     ]
    },
    {
     "name": "stdout",
     "output_type": "stream",
     "text": [
      "Successfully fetched: https://www.slashfilm.com/1392908/five-nights-at-freddys-recap/\n"
     ]
    },
    {
     "name": "stderr",
     "output_type": "stream",
     "text": [
      "Scraping Progress:   2%|▏         | 67/3302 [01:33<1:08:57,  1.28s/it]"
     ]
    },
    {
     "name": "stdout",
     "output_type": "stream",
     "text": [
      "Successfully fetched: https://time.com/6326360/europe-palestine-protests-free-speech/\n"
     ]
    },
    {
     "name": "stderr",
     "output_type": "stream",
     "text": [
      "Scraping Progress:   2%|▏         | 68/3302 [01:34<1:04:56,  1.20s/it]"
     ]
    },
    {
     "name": "stdout",
     "output_type": "stream",
     "text": [
      "Successfully fetched: https://www.bbc.co.uk/sport/cycling/66744119\n"
     ]
    },
    {
     "name": "stderr",
     "output_type": "stream",
     "text": [
      "Scraping Progress:   2%|▏         | 69/3302 [01:36<1:10:38,  1.31s/it]"
     ]
    },
    {
     "name": "stdout",
     "output_type": "stream",
     "text": [
      "Successfully fetched: https://www.bbc.co.uk/sport/cycling/66769393\n"
     ]
    },
    {
     "name": "stderr",
     "output_type": "stream",
     "text": [
      "Scraping Progress:   2%|▏         | 70/3302 [01:37<1:17:01,  1.43s/it]"
     ]
    },
    {
     "name": "stdout",
     "output_type": "stream",
     "text": [
      "Successfully fetched: https://www.forbes.com/sites/conormurray/2023/10/05/a-years-old-video-of-the-pope-with-circus-performers-is-going-viral-and-garnering-criticism-but-its-a-church-tradition/\n"
     ]
    },
    {
     "name": "stderr",
     "output_type": "stream",
     "text": [
      "Scraping Progress:   2%|▏         | 71/3302 [01:39<1:21:57,  1.52s/it]"
     ]
    },
    {
     "name": "stdout",
     "output_type": "stream",
     "text": [
      "Successfully fetched: https://www.huffpost.com/entry/ap-us-candy-corn-halloween-debate_l_653c068ce4b032ae1c9afddf\n"
     ]
    },
    {
     "name": "stderr",
     "output_type": "stream",
     "text": [
      "Scraping Progress:   2%|▏         | 72/3302 [01:40<1:14:09,  1.38s/it]"
     ]
    },
    {
     "name": "stdout",
     "output_type": "stream",
     "text": [
      "Successfully fetched: https://www.slashfilm.com/1432757/matthew-lillard-five-nights-at-freddys-villain/\n"
     ]
    },
    {
     "name": "stderr",
     "output_type": "stream",
     "text": [
      "Scraping Progress:   2%|▏         | 73/3302 [01:41<1:08:43,  1.28s/it]"
     ]
    },
    {
     "name": "stdout",
     "output_type": "stream",
     "text": [
      "Successfully fetched: https://www.bbc.co.uk/news/uk-england-birmingham-66798223\n"
     ]
    },
    {
     "name": "stderr",
     "output_type": "stream",
     "text": [
      "Scraping Progress:   2%|▏         | 74/3302 [01:42<1:11:23,  1.33s/it]"
     ]
    },
    {
     "name": "stdout",
     "output_type": "stream",
     "text": [
      "Successfully fetched: https://www.thefader.com/2023/09/01/travis-scott-adds-dates-to-his-utopia--circus-maximus-tour\n"
     ]
    },
    {
     "name": "stderr",
     "output_type": "stream",
     "text": [
      "Scraping Progress:   2%|▏         | 75/3302 [01:44<1:06:46,  1.24s/it]"
     ]
    },
    {
     "name": "stdout",
     "output_type": "stream",
     "text": [
      "Successfully fetched: https://time.com/6320025/our-flag-means-death-season-2-review/\n"
     ]
    },
    {
     "name": "stderr",
     "output_type": "stream",
     "text": [
      "Scraping Progress:   2%|▏         | 76/3302 [01:45<1:11:34,  1.33s/it]"
     ]
    },
    {
     "name": "stdout",
     "output_type": "stream",
     "text": [
      "Successfully fetched: https://www.sciencedaily.com/releases/2023/10/231024110609.htm\n"
     ]
    },
    {
     "name": "stderr",
     "output_type": "stream",
     "text": [
      "Scraping Progress:   2%|▏         | 77/3302 [01:46<1:08:25,  1.27s/it]"
     ]
    },
    {
     "name": "stdout",
     "output_type": "stream",
     "text": [
      "Successfully fetched: https://www.digitaltrends.com/movies/five-movies-like-five-nights-at-freddys-you-should-watch/\n"
     ]
    },
    {
     "name": "stderr",
     "output_type": "stream",
     "text": [
      "Scraping Progress:   2%|▏         | 78/3302 [01:48<1:24:14,  1.57s/it]"
     ]
    },
    {
     "name": "stdout",
     "output_type": "stream",
     "text": [
      "Successfully fetched: https://www.slashfilm.com/1416838/aquaman-2-drama-chaotic-set-near-firings-elon-musk-letter/\n"
     ]
    },
    {
     "name": "stderr",
     "output_type": "stream",
     "text": [
      "Scraping Progress:   2%|▏         | 79/3302 [01:50<1:16:39,  1.43s/it]"
     ]
    },
    {
     "name": "stdout",
     "output_type": "stream",
     "text": [
      "Successfully fetched: https://www.slashfilm.com/1417046/five-nights-at-freddys-director-ready-make-sequel/\n"
     ]
    },
    {
     "name": "stderr",
     "output_type": "stream",
     "text": [
      "Scraping Progress:   2%|▏         | 80/3302 [01:51<1:11:15,  1.33s/it]"
     ]
    },
    {
     "name": "stdout",
     "output_type": "stream",
     "text": [
      "Successfully fetched: https://biztoc.com/x/e56f4e5ab562350f\n"
     ]
    },
    {
     "name": "stderr",
     "output_type": "stream",
     "text": [
      "Scraping Progress:   2%|▏         | 81/3302 [01:52<1:07:43,  1.26s/it]"
     ]
    },
    {
     "name": "stdout",
     "output_type": "stream",
     "text": [
      "Successfully fetched: https://www.slashfilm.com/1413725/tek-knights-gen-v-brutal-satire-true-crime-entertainment/\n"
     ]
    },
    {
     "name": "stderr",
     "output_type": "stream",
     "text": [
      "Scraping Progress:   2%|▏         | 82/3302 [01:53<1:04:11,  1.20s/it]"
     ]
    },
    {
     "name": "stdout",
     "output_type": "stream",
     "text": [
      "Successfully fetched: https://www.slashfilm.com/1424282/frasier-revival-explains-how-the-good-doctor-went-from-local-personality-to-national-star/\n"
     ]
    },
    {
     "name": "stderr",
     "output_type": "stream",
     "text": [
      "Scraping Progress:   3%|▎         | 83/3302 [01:54<1:01:37,  1.15s/it]"
     ]
    },
    {
     "name": "stdout",
     "output_type": "stream",
     "text": [
      "Successfully fetched: https://www.espn.com/fantasy/football/story/_/id/38386490/nfl-nation-fantasy-football-update-expect-garrett-wilson-najee-harris-week-2\n"
     ]
    },
    {
     "name": "stderr",
     "output_type": "stream",
     "text": [
      "Scraping Progress:   3%|▎         | 84/3302 [01:55<1:09:32,  1.30s/it]"
     ]
    },
    {
     "name": "stdout",
     "output_type": "stream",
     "text": [
      "Successfully fetched: https://www.eonline.com/news/1388347/britney-spears-sets-the-record-straight-on-wild-outings-with-paris-hilton-and-lindsay-lohan\n"
     ]
    },
    {
     "name": "stderr",
     "output_type": "stream",
     "text": [
      "Scraping Progress:   3%|▎         | 85/3302 [01:57<1:11:32,  1.33s/it]"
     ]
    },
    {
     "name": "stdout",
     "output_type": "stream",
     "text": [
      "Successfully fetched: https://www.avclub.com/maren-morris-country-music-toxic-jason-aldean-1850904477\n"
     ]
    },
    {
     "name": "stderr",
     "output_type": "stream",
     "text": [
      "Scraping Progress:   3%|▎         | 86/3302 [01:58<1:07:12,  1.25s/it]"
     ]
    },
    {
     "name": "stdout",
     "output_type": "stream",
     "text": [
      "Successfully fetched: https://crooksandliars.com/2023/09/today-jim-jordans-circus-debacle-gop\n"
     ]
    },
    {
     "name": "stderr",
     "output_type": "stream",
     "text": [
      "Scraping Progress:   3%|▎         | 87/3302 [01:59<1:09:45,  1.30s/it]"
     ]
    },
    {
     "name": "stdout",
     "output_type": "stream",
     "text": [
      "Successfully fetched: https://www.gazzetta.it/Formula-1/storie/09-10-2023/f1-rivelazione-oscar-piastri/sorpresa-piastri.shtml\n"
     ]
    },
    {
     "name": "stderr",
     "output_type": "stream",
     "text": [
      "Scraping Progress:   3%|▎         | 88/3302 [02:01<1:17:46,  1.45s/it]"
     ]
    },
    {
     "name": "stdout",
     "output_type": "stream",
     "text": [
      "Successfully fetched: https://weekly.ascii.jp/elem/000/004/157/4157494/\n"
     ]
    },
    {
     "name": "stderr",
     "output_type": "stream",
     "text": [
      "Scraping Progress:   3%|▎         | 89/3302 [02:03<1:18:42,  1.47s/it]"
     ]
    },
    {
     "name": "stdout",
     "output_type": "stream",
     "text": [
      "Successfully fetched: https://weekly.ascii.jp/elem/000/004/160/4160515/\n"
     ]
    },
    {
     "name": "stderr",
     "output_type": "stream",
     "text": [
      "Scraping Progress:   3%|▎         | 90/3302 [02:04<1:14:22,  1.39s/it]"
     ]
    },
    {
     "name": "stdout",
     "output_type": "stream",
     "text": [
      "Successfully fetched: https://www.newyorker.com/magazine/2023/10/16/the-b-52s-back-on-the-boardwalk\n"
     ]
    },
    {
     "name": "stderr",
     "output_type": "stream",
     "text": [
      "Scraping Progress:   3%|▎         | 91/3302 [02:06<1:27:31,  1.64s/it]"
     ]
    },
    {
     "name": "stdout",
     "output_type": "stream",
     "text": [
      "Cannot fetch https://www.highsnobiety.com/p/timberland-this-is-not-a-boot-documentary-screening-info/, HTTP error: 404 Client Error: Not Found for url: https://www.highsnobiety.com/p/timberland-this-is-not-a-boot-documentary-screening-info/\n"
     ]
    },
    {
     "name": "stderr",
     "output_type": "stream",
     "text": [
      "Scraping Progress:   3%|▎         | 92/3302 [02:08<1:29:03,  1.66s/it]"
     ]
    },
    {
     "name": "stdout",
     "output_type": "stream",
     "text": [
      "Successfully fetched: https://blog.playstation.com/2023/10/05/pistol-whips-13th-collection-brings-spooky-new-scenes-to-ps-vr2-starting-today/\n"
     ]
    },
    {
     "name": "stderr",
     "output_type": "stream",
     "text": [
      "Scraping Progress:   3%|▎         | 93/3302 [02:10<1:39:13,  1.86s/it]"
     ]
    },
    {
     "name": "stdout",
     "output_type": "stream",
     "text": [
      "Successfully fetched: https://www.snopes.com/fact-check/pope-francis-with-circus-performers/\n"
     ]
    },
    {
     "name": "stderr",
     "output_type": "stream",
     "text": [
      "Scraping Progress:   3%|▎         | 94/3302 [02:11<1:26:10,  1.61s/it]"
     ]
    },
    {
     "name": "stdout",
     "output_type": "stream",
     "text": [
      "Successfully fetched: https://www.euronews.com/travel/2023/09/21/elephant-rides-and-circus-shows-new-uk-law-clamps-down-on-cruel-animal-tourism-abroad\n"
     ]
    },
    {
     "name": "stderr",
     "output_type": "stream",
     "text": [
      "Scraping Progress:   3%|▎         | 95/3302 [02:12<1:17:35,  1.45s/it]"
     ]
    },
    {
     "name": "stdout",
     "output_type": "stream",
     "text": [
      "Successfully fetched: https://food52.com/blog/28352-10-best-halloween-candies\n"
     ]
    },
    {
     "name": "stderr",
     "output_type": "stream",
     "text": [
      "Scraping Progress:   3%|▎         | 96/3302 [02:14<1:24:17,  1.58s/it]"
     ]
    },
    {
     "name": "stdout",
     "output_type": "stream",
     "text": [
      "Successfully fetched: https://www.tmz.com/2023/10/21/taylor-swift-eras-film-review-viral-conservative-criticism/\n"
     ]
    },
    {
     "name": "stderr",
     "output_type": "stream",
     "text": [
      "Scraping Progress:   3%|▎         | 97/3302 [02:15<1:17:53,  1.46s/it]"
     ]
    },
    {
     "name": "stdout",
     "output_type": "stream",
     "text": [
      "Successfully fetched: https://www.foxsports.com/stories/nba/luka-doncics-circus-shot-helps-mavericks-beat-nets-125-120\n"
     ]
    },
    {
     "name": "stderr",
     "output_type": "stream",
     "text": [
      "Scraping Progress:   3%|▎         | 98/3302 [02:18<1:33:05,  1.74s/it]"
     ]
    },
    {
     "name": "stdout",
     "output_type": "stream",
     "text": [
      "Successfully fetched: https://www.gazzetta.it/Formula-1/31-10-2023/f1-chi-ha-i-diritti-tv-nel-mondo.shtml\n"
     ]
    },
    {
     "name": "stderr",
     "output_type": "stream",
     "text": [
      "Scraping Progress:   3%|▎         | 99/3302 [02:20<1:34:08,  1.76s/it]"
     ]
    },
    {
     "name": "stdout",
     "output_type": "stream",
     "text": [
      "Successfully fetched: https://www.newyorker.com/news/our-columnists/the-trump-legal-show-might-be-in-town-until-christmas\n"
     ]
    },
    {
     "name": "stderr",
     "output_type": "stream",
     "text": [
      "Scraping Progress:   3%|▎         | 101/3302 [02:22<1:16:36,  1.44s/it]"
     ]
    },
    {
     "name": "stdout",
     "output_type": "stream",
     "text": [
      "Successfully fetched: https://www.gazzetta.it/Formula-1/storie/14-09-2023/f1-crashgate-singapore-a-15-anni-dall-incidente-di-piquet-jr-e-la-beffa-di-massa/singapore-2008-il-crash.shtml\n"
     ]
    },
    {
     "name": "stderr",
     "output_type": "stream",
     "text": [
      "Scraping Progress:   3%|▎         | 102/3302 [02:23<1:12:45,  1.36s/it]"
     ]
    },
    {
     "name": "stdout",
     "output_type": "stream",
     "text": [
      "Successfully fetched: https://www.yankodesign.com/2023/09/07/top-10-indigenous-craft-revivals-by-the-design-platform-curio/\n"
     ]
    },
    {
     "name": "stderr",
     "output_type": "stream",
     "text": [
      "Scraping Progress:   3%|▎         | 103/3302 [02:24<1:10:25,  1.32s/it]"
     ]
    },
    {
     "name": "stdout",
     "output_type": "stream",
     "text": [
      "Successfully fetched: https://www.gazzetta.it/Formula-1/17-09-2023/f1-sainz-e-la-prima-vittoria-stile-smooth-operator-la-tattica-ferrari-a-singapore.shtml\n"
     ]
    },
    {
     "name": "stderr",
     "output_type": "stream",
     "text": [
      "Scraping Progress:   3%|▎         | 104/3302 [02:25<1:08:48,  1.29s/it]"
     ]
    },
    {
     "name": "stdout",
     "output_type": "stream",
     "text": [
      "Successfully fetched: https://www.gazzetta.it/Formula-1/26-09-2023/f1-autogol-mercedes-spunta-un-qr-code-per-drink-e-gli-spettatori-ordinano-red-bull.shtml\n"
     ]
    },
    {
     "name": "stderr",
     "output_type": "stream",
     "text": [
      "Scraping Progress:   3%|▎         | 105/3302 [02:27<1:20:33,  1.51s/it]"
     ]
    },
    {
     "name": "stdout",
     "output_type": "stream",
     "text": [
      "Successfully fetched: https://biztoc.com/x/717fe9e9457f1958\n"
     ]
    },
    {
     "name": "stderr",
     "output_type": "stream",
     "text": [
      "Scraping Progress:   3%|▎         | 106/3302 [02:29<1:13:59,  1.39s/it]"
     ]
    },
    {
     "name": "stdout",
     "output_type": "stream",
     "text": [
      "Successfully fetched: https://www.gazzetta.it/Formula-1/storie/30-10-2023/f1-verstappen-aggancia-prost-con-51-vittorie-il-confronto-tra-max-e-alain/laggancio.shtml\n"
     ]
    },
    {
     "name": "stderr",
     "output_type": "stream",
     "text": [
      "Scraping Progress:   3%|▎         | 107/3302 [02:30<1:17:02,  1.45s/it]"
     ]
    },
    {
     "name": "stdout",
     "output_type": "stream",
     "text": [
      "Successfully fetched: https://www.dezeen.com/2023/09/19/rory-mullen-skeleton-wedding-chapel-simone-rocha-show/\n"
     ]
    },
    {
     "name": "stderr",
     "output_type": "stream",
     "text": [
      "Scraping Progress:   3%|▎         | 108/3302 [02:32<1:28:53,  1.67s/it]"
     ]
    },
    {
     "name": "stdout",
     "output_type": "stream",
     "text": [
      "Successfully fetched: https://bleedingcool.com/games/vlad-circus-descend-into-madness-arrives-mid-october/\n"
     ]
    },
    {
     "name": "stderr",
     "output_type": "stream",
     "text": [
      "Scraping Progress:   3%|▎         | 109/3302 [02:33<1:18:49,  1.48s/it]"
     ]
    },
    {
     "name": "stdout",
     "output_type": "stream",
     "text": [
      "Successfully fetched: https://www.thefader.com/2023/10/05/low-demand-for-travis-scott-tickets-tanks-resale-value\n"
     ]
    },
    {
     "name": "stderr",
     "output_type": "stream",
     "text": [
      "Scraping Progress:   3%|▎         | 110/3302 [02:35<1:18:19,  1.47s/it]"
     ]
    },
    {
     "name": "stdout",
     "output_type": "stream",
     "text": [
      "Successfully fetched: https://consequence.net/2023/08/how-to-get-travis-scott-tickets-los-angeles/\n"
     ]
    },
    {
     "name": "stderr",
     "output_type": "stream",
     "text": [
      "Scraping Progress:   3%|▎         | 111/3302 [02:37<1:23:56,  1.58s/it]"
     ]
    },
    {
     "name": "stdout",
     "output_type": "stream",
     "text": [
      "Successfully fetched: https://newrepublic.com/post/176262/right-wing-funder-behind-harvard-billboards-targeting-pro-palestine-students\n"
     ]
    },
    {
     "name": "stderr",
     "output_type": "stream",
     "text": [
      "Scraping Progress:   3%|▎         | 112/3302 [02:41<2:15:15,  2.54s/it]"
     ]
    },
    {
     "name": "stdout",
     "output_type": "stream",
     "text": [
      "Successfully fetched: https://newrepublic.com/post/176268/house-representatives-get-even-crazier\n"
     ]
    },
    {
     "name": "stderr",
     "output_type": "stream",
     "text": [
      "Scraping Progress:   3%|▎         | 113/3302 [02:44<2:17:24,  2.59s/it]"
     ]
    },
    {
     "name": "stdout",
     "output_type": "stream",
     "text": [
      "Successfully fetched: https://newrepublic.com/post/176271/queer-arizona-state-university-professor-injured-right-wing-activists\n"
     ]
    },
    {
     "name": "stderr",
     "output_type": "stream",
     "text": [
      "Scraping Progress:   3%|▎         | 114/3302 [02:47<2:15:23,  2.55s/it]"
     ]
    },
    {
     "name": "stdout",
     "output_type": "stream",
     "text": [
      "Successfully fetched: https://time.com/6318688/sam-bankman-fried-trial-starts/\n"
     ]
    },
    {
     "name": "stderr",
     "output_type": "stream",
     "text": [
      "Scraping Progress:   3%|▎         | 115/3302 [02:48<1:59:36,  2.25s/it]"
     ]
    },
    {
     "name": "stdout",
     "output_type": "stream",
     "text": [
      "Successfully fetched: https://www.tmz.com/2023/09/27/travis-kelce-taylor-swift-relationship-chiefs-game-podcast-brother-jason/\n"
     ]
    },
    {
     "name": "stderr",
     "output_type": "stream",
     "text": [
      "Scraping Progress:   4%|▎         | 116/3302 [02:49<1:42:06,  1.92s/it]"
     ]
    },
    {
     "name": "stdout",
     "output_type": "stream",
     "text": [
      "Successfully fetched: https://www.tmz.com/2023/10/15/travis-scott-second-raleigh-north-carolina-show-postponed/\n"
     ]
    },
    {
     "name": "stderr",
     "output_type": "stream",
     "text": [
      "Scraping Progress:   4%|▎         | 117/3302 [02:50<1:29:58,  1.69s/it]"
     ]
    },
    {
     "name": "stdout",
     "output_type": "stream",
     "text": [
      "Successfully fetched: https://www.urlaubspiraten.de/sonstiges/circus-deals-2023\n"
     ]
    },
    {
     "name": "stderr",
     "output_type": "stream",
     "text": [
      "Scraping Progress:   4%|▎         | 118/3302 [02:53<1:36:37,  1.82s/it]"
     ]
    },
    {
     "name": "stdout",
     "output_type": "stream",
     "text": [
      "Successfully fetched: https://www.rollingstone.com/tv-movies/tv-movie-news/harmony-korine-defends-ai-travis-scott-demon-mask-aggro-dr1ft-venice-film-festival-1234817207/\n"
     ]
    },
    {
     "name": "stderr",
     "output_type": "stream",
     "text": [
      "Scraping Progress:   4%|▎         | 119/3302 [02:54<1:36:55,  1.83s/it]"
     ]
    },
    {
     "name": "stdout",
     "output_type": "stream",
     "text": [
      "Successfully fetched: https://newrepublic.com/post/176258/tom-cottons-gaza-comments-horrifying\n"
     ]
    },
    {
     "name": "stderr",
     "output_type": "stream",
     "text": [
      "Scraping Progress:   4%|▎         | 120/3302 [02:55<1:24:53,  1.60s/it]"
     ]
    },
    {
     "name": "stdout",
     "output_type": "stream",
     "text": [
      "Successfully fetched: https://www.gofugyourself.com/the-new-gucci-is-back-to-basics-09-2023\n"
     ]
    },
    {
     "name": "stderr",
     "output_type": "stream",
     "text": [
      "Scraping Progress:   4%|▎         | 121/3302 [02:57<1:22:44,  1.56s/it]"
     ]
    },
    {
     "name": "stdout",
     "output_type": "stream",
     "text": [
      "Successfully fetched: https://www.indiewire.com/news/breaking-news/tim-burton-ai-art-robots-taking-your-humanity-1234904279/\n"
     ]
    },
    {
     "name": "stderr",
     "output_type": "stream",
     "text": [
      "Scraping Progress:   4%|▎         | 122/3302 [02:59<1:27:54,  1.66s/it]"
     ]
    },
    {
     "name": "stdout",
     "output_type": "stream",
     "text": [
      "Successfully fetched: https://www.justjared.com/2023/09/02/travis-scott-announces-utopia-circus-maximus-tour-see-the-dates/\n"
     ]
    },
    {
     "name": "stderr",
     "output_type": "stream",
     "text": [
      "Scraping Progress:   4%|▎         | 123/3302 [03:00<1:22:25,  1.56s/it]"
     ]
    },
    {
     "name": "stdout",
     "output_type": "stream",
     "text": [
      "Successfully fetched: https://www.digitaltrends.com/movies/doctor-who-jon-pertwee-best-doctor-ever/\n"
     ]
    },
    {
     "name": "stderr",
     "output_type": "stream",
     "text": [
      "Scraping Progress:   4%|▍         | 125/3302 [03:03<1:20:42,  1.52s/it]"
     ]
    },
    {
     "name": "stdout",
     "output_type": "stream",
     "text": [
      "Successfully fetched: https://petapixel.com/2023/10/30/concertgoers-use-iphone-15-zoom-for-front-row-feeling-amid-high-ticket-prices/\n"
     ]
    },
    {
     "name": "stderr",
     "output_type": "stream",
     "text": [
      "Scraping Progress:   4%|▍         | 126/3302 [03:05<1:17:20,  1.46s/it]"
     ]
    },
    {
     "name": "stdout",
     "output_type": "stream",
     "text": [
      "Successfully fetched: https://www.latimes.com/opinion/story/2023-10-05/comic-house-speaker-kevin-mccarthy-matt-gaetz-congress\n"
     ]
    },
    {
     "name": "stderr",
     "output_type": "stream",
     "text": [
      "Scraping Progress:   4%|▍         | 127/3302 [03:06<1:19:25,  1.50s/it]"
     ]
    },
    {
     "name": "stdout",
     "output_type": "stream",
     "text": [
      "Successfully fetched: https://www.espn.com/mma/story/_/id/38541200/mma-storylines-rest-2023-ufc-rematches-open-titles-more-jon-jones-vs-stipe-miocic\n"
     ]
    },
    {
     "name": "stderr",
     "output_type": "stream",
     "text": [
      "Scraping Progress:   4%|▍         | 129/3302 [03:08<1:08:55,  1.30s/it]"
     ]
    },
    {
     "name": "stdout",
     "output_type": "stream",
     "text": [
      "Successfully fetched: https://www.cracked.com/article_39704_proto-monty-python-sketch-show-discovered-after-being-lost-for-50-years.html\n"
     ]
    },
    {
     "name": "stderr",
     "output_type": "stream",
     "text": [
      "Scraping Progress:   4%|▍         | 130/3302 [03:10<1:06:56,  1.27s/it]"
     ]
    },
    {
     "name": "stdout",
     "output_type": "stream",
     "text": [
      "Successfully fetched: https://natalie.mu/music/news/546529\n"
     ]
    },
    {
     "name": "stderr",
     "output_type": "stream",
     "text": [
      "Scraping Progress:   4%|▍         | 131/3302 [03:12<1:19:44,  1.51s/it]"
     ]
    },
    {
     "name": "stdout",
     "output_type": "stream",
     "text": [
      "Successfully fetched: https://www.brooklynvegan.com/travis-scott-adds-11-new-dates-to-sold-out-utopia-tour/\n"
     ]
    },
    {
     "name": "stderr",
     "output_type": "stream",
     "text": [
      "Scraping Progress:   4%|▍         | 132/3302 [03:14<1:40:01,  1.89s/it]"
     ]
    },
    {
     "name": "stdout",
     "output_type": "stream",
     "text": [
      "Successfully fetched: https://www.bbc.co.uk/sport/cycling/66689033\n"
     ]
    },
    {
     "name": "stderr",
     "output_type": "stream",
     "text": [
      "Scraping Progress:   4%|▍         | 134/3302 [03:17<1:22:04,  1.55s/it]"
     ]
    },
    {
     "name": "stdout",
     "output_type": "stream",
     "text": [
      "Successfully fetched: https://newrepublic.com/article/176346/lesko-romney-congress-quitters-jordan\n"
     ]
    },
    {
     "name": "stderr",
     "output_type": "stream",
     "text": [
      "Scraping Progress:   4%|▍         | 135/3302 [03:18<1:14:00,  1.40s/it]"
     ]
    },
    {
     "name": "stdout",
     "output_type": "stream",
     "text": [
      "Successfully fetched: https://www.comingsoon.net/guides/news/1331239-the-greatest-showman-where-to-watch-stream-online\n"
     ]
    },
    {
     "name": "stderr",
     "output_type": "stream",
     "text": [
      "Scraping Progress:   4%|▍         | 136/3302 [03:19<1:09:03,  1.31s/it]"
     ]
    },
    {
     "name": "stdout",
     "output_type": "stream",
     "text": [
      "Successfully fetched: https://www.fashionbeans.com/article/brio-beardscape-v2-trimmer/\n"
     ]
    },
    {
     "name": "stderr",
     "output_type": "stream",
     "text": [
      "Scraping Progress:   4%|▍         | 137/3302 [03:20<1:06:04,  1.25s/it]"
     ]
    },
    {
     "name": "stdout",
     "output_type": "stream",
     "text": [
      "Successfully fetched: https://www.mmamania.com/2023/9/30/23896066/fight-circus-8-results-live-streaming-updates-charles-bennet-mma-boxing\n"
     ]
    },
    {
     "name": "stderr",
     "output_type": "stream",
     "text": [
      "Scraping Progress:   4%|▍         | 138/3302 [03:22<1:16:27,  1.45s/it]"
     ]
    },
    {
     "name": "stdout",
     "output_type": "stream",
     "text": [
      "Successfully fetched: https://www.scientificamerican.com/article/republican-presidential-candidates-vow-to-fiddle-as-the-earth-burns/\n"
     ]
    },
    {
     "name": "stderr",
     "output_type": "stream",
     "text": [
      "Scraping Progress:   4%|▍         | 139/3302 [03:24<1:20:29,  1.53s/it]"
     ]
    },
    {
     "name": "stdout",
     "output_type": "stream",
     "text": [
      "Successfully fetched: https://consequence.net/2023/09/how-to-get-tickets-travis-scott-miami/\n"
     ]
    },
    {
     "name": "stderr",
     "output_type": "stream",
     "text": [
      "Scraping Progress:   4%|▍         | 140/3302 [03:26<1:22:52,  1.57s/it]"
     ]
    },
    {
     "name": "stdout",
     "output_type": "stream",
     "text": [
      "Successfully fetched: https://www.dazeddigital.com/fashion/article/61127/1/fashion-week-photography-chaos-magic-ss24-street-style-paris-milan-k-pop-bedbugs?utm_source=Link&utm_medium=Link&utm_campaign=RSSFeed&utm_term=dazed-s-fashion-week-photographers-on-the-chaos-and-magic-of-ss24\n"
     ]
    },
    {
     "name": "stderr",
     "output_type": "stream",
     "text": [
      "Scraping Progress:   4%|▍         | 141/3302 [03:28<1:38:41,  1.87s/it]"
     ]
    },
    {
     "name": "stdout",
     "output_type": "stream",
     "text": [
      "Successfully fetched: https://www.ign.com/articles/the-best-dungeons-and-dragons-books\n"
     ]
    },
    {
     "name": "stderr",
     "output_type": "stream",
     "text": [
      "Scraping Progress:   4%|▍         | 142/3302 [03:30<1:32:25,  1.75s/it]"
     ]
    },
    {
     "name": "stdout",
     "output_type": "stream",
     "text": [
      "Successfully fetched: https://www.mentalfloss.com/posts/an-american-werewolf-in-london-movie-facts\n"
     ]
    },
    {
     "name": "stderr",
     "output_type": "stream",
     "text": [
      "Scraping Progress:   4%|▍         | 143/3302 [03:31<1:26:05,  1.64s/it]"
     ]
    },
    {
     "name": "stdout",
     "output_type": "stream",
     "text": [
      "Successfully fetched: https://bikerumor.com/manitou-circus-pro-fork-is-lighter-stiffer-with-big-travel-from-pumptrack-to-huge-dirt-jumps/\n"
     ]
    },
    {
     "name": "stderr",
     "output_type": "stream",
     "text": [
      "Scraping Progress:   4%|▍         | 144/3302 [03:33<1:26:26,  1.64s/it]"
     ]
    },
    {
     "name": "stdout",
     "output_type": "stream",
     "text": [
      "Successfully fetched: https://www.firstshowing.net/2023/new-us-trailer-for-veneciafrenia-spanish-horror-thriller-set-in-venice/\n"
     ]
    },
    {
     "name": "stderr",
     "output_type": "stream",
     "text": [
      "Scraping Progress:   4%|▍         | 145/3302 [03:34<1:19:43,  1.52s/it]"
     ]
    },
    {
     "name": "stdout",
     "output_type": "stream",
     "text": [
      "Cannot fetch https://www.politico.com/news/2023/09/12/mitch-mcconnell-freezes-health-senate-job-00114686, HTTP error: 403 Client Error: Forbidden for url: https://www.politico.com/news/2023/09/12/mitch-mcconnell-freezes-health-senate-job-00114686\n"
     ]
    },
    {
     "name": "stderr",
     "output_type": "stream",
     "text": [
      "Scraping Progress:   4%|▍         | 146/3302 [03:35<1:11:58,  1.37s/it]"
     ]
    },
    {
     "name": "stdout",
     "output_type": "stream",
     "text": [
      "Successfully fetched: https://www.comingsoon.net/guides/news/1308850-dumbo-2019-where-to-watch-stream-online-tim-burton-live-action-remake\n"
     ]
    },
    {
     "name": "stderr",
     "output_type": "stream",
     "text": [
      "Scraping Progress:   4%|▍         | 147/3302 [03:37<1:15:55,  1.44s/it]"
     ]
    },
    {
     "name": "stdout",
     "output_type": "stream",
     "text": [
      "Successfully fetched: https://www.cartoonbrew.com/interviews/the-amazing-digital-circus-creator-gooseworx-on-developing-the-internets-hottest-animated-pilot-234217.html\n"
     ]
    },
    {
     "name": "stderr",
     "output_type": "stream",
     "text": [
      "Scraping Progress:   4%|▍         | 148/3302 [03:38<1:19:52,  1.52s/it]"
     ]
    },
    {
     "name": "stdout",
     "output_type": "stream",
     "text": [
      "Successfully fetched: https://www.rollingstone.com/product-recommendations/lifestyle/best-ballet-flats-1234847807/\n"
     ]
    },
    {
     "name": "stderr",
     "output_type": "stream",
     "text": [
      "Scraping Progress:   5%|▍         | 149/3302 [03:40<1:25:20,  1.62s/it]"
     ]
    },
    {
     "name": "stdout",
     "output_type": "stream",
     "text": [
      "Successfully fetched: https://bleacherreport.com/articles/10091973-victor-wembanyama-gregg-popovich-spurs-address-media-attention-potential-wild-fans\n"
     ]
    },
    {
     "name": "stderr",
     "output_type": "stream",
     "text": [
      "Scraping Progress:   5%|▍         | 150/3302 [03:42<1:23:32,  1.59s/it]"
     ]
    },
    {
     "name": "stdout",
     "output_type": "stream",
     "text": [
      "Successfully fetched: https://www.vanityfair.com/news/2023/10/gop-drops-jim-jordan-as-the-house-speaker-circus-drags-on\n"
     ]
    },
    {
     "name": "stderr",
     "output_type": "stream",
     "text": [
      "Scraping Progress:   5%|▍         | 151/3302 [03:44<1:42:48,  1.96s/it]"
     ]
    },
    {
     "name": "stdout",
     "output_type": "stream",
     "text": [
      "Successfully fetched: https://www.cbsnews.com/video/the-return-of-the-greatest-show-on-earth/\n"
     ]
    },
    {
     "name": "stderr",
     "output_type": "stream",
     "text": [
      "Scraping Progress:   5%|▍         | 152/3302 [03:46<1:33:55,  1.79s/it]"
     ]
    },
    {
     "name": "stdout",
     "output_type": "stream",
     "text": [
      "Successfully fetched: https://www.historytoday.com/archive/behind-times/how-leave-house-lords\n"
     ]
    },
    {
     "name": "stderr",
     "output_type": "stream",
     "text": [
      "Scraping Progress:   5%|▍         | 153/3302 [03:48<1:36:30,  1.84s/it]"
     ]
    },
    {
     "name": "stdout",
     "output_type": "stream",
     "text": [
      "Successfully fetched: https://www.indiewire.com/criticism/movies/the-wonderful-story-of-henry-sugar-review-wes-anderson-netflix-1234901368/\n"
     ]
    },
    {
     "name": "stderr",
     "output_type": "stream",
     "text": [
      "Scraping Progress:   5%|▍         | 154/3302 [03:50<1:36:31,  1.84s/it]"
     ]
    },
    {
     "name": "stdout",
     "output_type": "stream",
     "text": [
      "Successfully fetched: https://instapundit.com/613460/\n"
     ]
    },
    {
     "name": "stderr",
     "output_type": "stream",
     "text": [
      "Scraping Progress:   5%|▍         | 155/3302 [03:51<1:30:07,  1.72s/it]"
     ]
    },
    {
     "name": "stdout",
     "output_type": "stream",
     "text": [
      "Successfully fetched: https://www.latimes.com/opinion/story/2023-10-09/ringling-bros-barnum-bailey-circus-animal-elephant-tiger-lion-humane-society\n"
     ]
    },
    {
     "name": "stderr",
     "output_type": "stream",
     "text": [
      "Scraping Progress:   5%|▍         | 156/3302 [03:53<1:26:30,  1.65s/it]"
     ]
    },
    {
     "name": "stdout",
     "output_type": "stream",
     "text": [
      "Successfully fetched: https://www.huffpost.com/entry/maxwell-frost-biden-impeachment-inquiry-government-shutdown_n_6503fbf8e4b0f5bc64a646a7\n"
     ]
    },
    {
     "name": "stderr",
     "output_type": "stream",
     "text": [
      "Scraping Progress:   5%|▍         | 157/3302 [03:54<1:18:34,  1.50s/it]"
     ]
    },
    {
     "name": "stdout",
     "output_type": "stream",
     "text": [
      "Successfully fetched: https://www.ibtimes.com/german-circus-replaces-live-animals-holograms-3711293\n"
     ]
    },
    {
     "name": "stderr",
     "output_type": "stream",
     "text": [
      "Scraping Progress:   5%|▍         | 158/3302 [03:55<1:12:44,  1.39s/it]"
     ]
    },
    {
     "name": "stdout",
     "output_type": "stream",
     "text": [
      "Successfully fetched: https://www.businessinsider.com/china-xi-jinping-economy-real-estate-debt-bust-american-companies-2023-10\n"
     ]
    },
    {
     "name": "stderr",
     "output_type": "stream",
     "text": [
      "Scraping Progress:   5%|▍         | 159/3302 [03:56<1:09:32,  1.33s/it]"
     ]
    },
    {
     "name": "stdout",
     "output_type": "stream",
     "text": [
      "Successfully fetched: https://deadline.com/2023/09/mrbeast-karl-jacobs-minecraft-youtuber-comics-series-time-traveler-tales-1235552628/\n"
     ]
    },
    {
     "name": "stderr",
     "output_type": "stream",
     "text": [
      "Scraping Progress:   5%|▍         | 160/3302 [03:58<1:17:34,  1.48s/it]"
     ]
    },
    {
     "name": "stdout",
     "output_type": "stream",
     "text": [
      "Successfully fetched: https://www.forbes.com/sites/markjoyella/2023/10/28/neal-katyal-tells-msnbc-its-likely-donald-trump-will-attack-his-own-daughter-if-she-hurts-him-in-court/\n"
     ]
    },
    {
     "name": "stderr",
     "output_type": "stream",
     "text": [
      "Scraping Progress:   5%|▍         | 161/3302 [04:00<1:20:56,  1.55s/it]"
     ]
    },
    {
     "name": "stdout",
     "output_type": "stream",
     "text": [
      "Successfully fetched: https://www.avclub.com/pain-hustlers-movie-review-1850931526\n"
     ]
    },
    {
     "name": "stderr",
     "output_type": "stream",
     "text": [
      "Scraping Progress:   5%|▍         | 162/3302 [04:01<1:13:27,  1.40s/it]"
     ]
    },
    {
     "name": "stdout",
     "output_type": "stream",
     "text": [
      "Successfully fetched: https://natalie.mu/music/news/546646\n"
     ]
    },
    {
     "name": "stderr",
     "output_type": "stream",
     "text": [
      "Scraping Progress:   5%|▍         | 163/3302 [04:03<1:22:58,  1.59s/it]"
     ]
    },
    {
     "name": "stdout",
     "output_type": "stream",
     "text": [
      "Successfully fetched: https://www.justjared.com/2023/10/12/travis-scott-utopia-circus-maximus-tour-set-list-revealed-after-opening-night/\n"
     ]
    },
    {
     "name": "stderr",
     "output_type": "stream",
     "text": [
      "Scraping Progress:   5%|▍         | 164/3302 [04:04<1:19:13,  1.51s/it]"
     ]
    },
    {
     "name": "stdout",
     "output_type": "stream",
     "text": [
      "Successfully fetched: https://hiphopdx.com/news/travis-scott-circus-maximus-tour-charlotte\n"
     ]
    },
    {
     "name": "stderr",
     "output_type": "stream",
     "text": [
      "Scraping Progress:   5%|▍         | 165/3302 [04:06<1:21:07,  1.55s/it]"
     ]
    },
    {
     "name": "stdout",
     "output_type": "stream",
     "text": [
      "Successfully fetched: https://www.mmafighting.com/2023/10/16/23919091/carl-froch-crap-tommy-fury-vs-ksi-fight-should-signal-end-of-misfits-boxing\n"
     ]
    },
    {
     "name": "stderr",
     "output_type": "stream",
     "text": [
      "Scraping Progress:   5%|▌         | 166/3302 [04:07<1:25:42,  1.64s/it]"
     ]
    },
    {
     "name": "stdout",
     "output_type": "stream",
     "text": [
      "Successfully fetched: https://www.mmafighting.com/2023/9/30/23897744/fight-circus-8-running-man-the-musical-live-video-stream\n"
     ]
    },
    {
     "name": "stderr",
     "output_type": "stream",
     "text": [
      "Scraping Progress:   5%|▌         | 167/3302 [04:09<1:27:53,  1.68s/it]"
     ]
    },
    {
     "name": "stdout",
     "output_type": "stream",
     "text": [
      "Successfully fetched: https://hiphopdx.com/news/jeleel-crash-fall-mega-ramp-nitro-circus\n"
     ]
    },
    {
     "name": "stderr",
     "output_type": "stream",
     "text": [
      "Scraping Progress:   5%|▌         | 168/3302 [04:11<1:24:41,  1.62s/it]"
     ]
    },
    {
     "name": "stdout",
     "output_type": "stream",
     "text": [
      "Successfully fetched: https://crooksandliars.com/2023/10/gop-rep-tears-vile-matt-gaetz-and-doesnt\n"
     ]
    },
    {
     "name": "stderr",
     "output_type": "stream",
     "text": [
      "Scraping Progress:   5%|▌         | 170/3302 [04:13<1:16:02,  1.46s/it]"
     ]
    },
    {
     "name": "stdout",
     "output_type": "stream",
     "text": [
      "Successfully fetched: https://lifehacker.ru/ign-top-100-serialov-vsex-vremyon/\n"
     ]
    },
    {
     "name": "stderr",
     "output_type": "stream",
     "text": [
      "Scraping Progress:   5%|▌         | 171/3302 [04:16<1:41:22,  1.94s/it]"
     ]
    },
    {
     "name": "stdout",
     "output_type": "stream",
     "text": [
      "Successfully fetched: https://www.theatlantic.com/ideas/archive/2023/10/taylor-swift-travis-kelce-kansas-city-chiefs-football/675506/?utm_source=feed\n"
     ]
    },
    {
     "name": "stderr",
     "output_type": "stream",
     "text": [
      "Scraping Progress:   5%|▌         | 172/3302 [04:18<1:33:28,  1.79s/it]"
     ]
    },
    {
     "name": "stdout",
     "output_type": "stream",
     "text": [
      "Successfully fetched: https://www.bbc.co.uk/sport/boxing/67091667\n"
     ]
    },
    {
     "name": "stderr",
     "output_type": "stream",
     "text": [
      "Scraping Progress:   5%|▌         | 173/3302 [04:19<1:27:57,  1.69s/it]"
     ]
    },
    {
     "name": "stdout",
     "output_type": "stream",
     "text": [
      "Successfully fetched: https://www.businessinsider.com/pole-dancing-in-ukraine-strip-club-by-russian-border-2023-9\n"
     ]
    },
    {
     "name": "stderr",
     "output_type": "stream",
     "text": [
      "Scraping Progress:   5%|▌         | 175/3302 [04:22<1:12:45,  1.40s/it]"
     ]
    },
    {
     "name": "stdout",
     "output_type": "stream",
     "text": [
      "Successfully fetched: https://deadline.com/2023/09/actors-strike-sag-aftra-chief-overseas-1235558582/\n"
     ]
    },
    {
     "name": "stderr",
     "output_type": "stream",
     "text": [
      "Scraping Progress:   5%|▌         | 176/3302 [04:23<1:20:39,  1.55s/it]"
     ]
    },
    {
     "name": "stdout",
     "output_type": "stream",
     "text": [
      "Successfully fetched: https://www.damanwoo.com/node/96544\n"
     ]
    },
    {
     "name": "stderr",
     "output_type": "stream",
     "text": [
      "Scraping Progress:   5%|▌         | 177/3302 [04:25<1:26:00,  1.65s/it]"
     ]
    },
    {
     "name": "stdout",
     "output_type": "stream",
     "text": [
      "Successfully fetched: https://crooksandliars.com/2023/10/mikes-blog-round-4\n"
     ]
    },
    {
     "name": "stderr",
     "output_type": "stream",
     "text": [
      "Scraping Progress:   5%|▌         | 178/3302 [04:27<1:21:18,  1.56s/it]"
     ]
    },
    {
     "name": "stdout",
     "output_type": "stream",
     "text": [
      "Successfully fetched: https://www.bbc.co.uk/sport/football/66824835\n"
     ]
    },
    {
     "name": "stderr",
     "output_type": "stream",
     "text": [
      "Scraping Progress:   5%|▌         | 179/3302 [04:28<1:19:48,  1.53s/it]"
     ]
    },
    {
     "name": "stdout",
     "output_type": "stream",
     "text": [
      "Successfully fetched: https://www.abc.net.au/news/2023-09-12/more-healthy-people-sick-with-pneumonia-this-year/102781648\n"
     ]
    },
    {
     "name": "stderr",
     "output_type": "stream",
     "text": [
      "Scraping Progress:   5%|▌         | 180/3302 [04:30<1:28:24,  1.70s/it]"
     ]
    },
    {
     "name": "stdout",
     "output_type": "stream",
     "text": [
      "Successfully fetched: https://finance.yahoo.com/news/ab5-3-ring-legal-circus-183608593.html\n"
     ]
    },
    {
     "name": "stderr",
     "output_type": "stream",
     "text": [
      "Scraping Progress:   6%|▌         | 182/3302 [04:33<1:19:35,  1.53s/it]"
     ]
    },
    {
     "name": "stdout",
     "output_type": "stream",
     "text": [
      "Successfully fetched: https://www.bbc.co.uk/sport/cycling/66833262\n"
     ]
    },
    {
     "name": "stderr",
     "output_type": "stream",
     "text": [
      "Scraping Progress:   6%|▌         | 183/3302 [04:34<1:17:34,  1.49s/it]"
     ]
    },
    {
     "name": "stdout",
     "output_type": "stream",
     "text": [
      "Successfully fetched: https://www.bbc.co.uk/sport/boxing/67091670\n"
     ]
    },
    {
     "name": "stderr",
     "output_type": "stream",
     "text": [
      "Scraping Progress:   6%|▌         | 184/3302 [04:36<1:16:10,  1.47s/it]"
     ]
    },
    {
     "name": "stdout",
     "output_type": "stream",
     "text": [
      "Successfully fetched: https://www.deutsche-startups.de/2023/09/02/startupticker-35-2023/\n"
     ]
    },
    {
     "name": "stderr",
     "output_type": "stream",
     "text": [
      "Scraping Progress:   6%|▌         | 185/3302 [04:38<1:21:57,  1.58s/it]"
     ]
    },
    {
     "name": "stdout",
     "output_type": "stream",
     "text": [
      "Successfully fetched: https://www.bostonglobe.com/2023/10/12/opinion/renee-graham-house-republican-circus/\n"
     ]
    },
    {
     "name": "stderr",
     "output_type": "stream",
     "text": [
      "Scraping Progress:   6%|▌         | 186/3302 [04:40<1:25:57,  1.66s/it]"
     ]
    },
    {
     "name": "stdout",
     "output_type": "stream",
     "text": [
      "Successfully fetched: https://www.shortoftheweek.com/2023/10/20/the-family-circus/\n"
     ]
    },
    {
     "name": "stderr",
     "output_type": "stream",
     "text": [
      "Scraping Progress:   6%|▌         | 187/3302 [04:41<1:19:38,  1.53s/it]"
     ]
    },
    {
     "name": "stdout",
     "output_type": "stream",
     "text": [
      "Successfully fetched: https://crooksandliars.com/2023/10/totally-serious-goper-waltzed-speaker\n"
     ]
    },
    {
     "name": "stderr",
     "output_type": "stream",
     "text": [
      "Scraping Progress:   6%|▌         | 188/3302 [04:42<1:16:50,  1.48s/it]"
     ]
    },
    {
     "name": "stdout",
     "output_type": "stream",
     "text": [
      "Successfully fetched: https://www.justjared.com/2023/10/21/travis-scott-pauses-performance-to-defend-fan-getting-kicked-out-off-his-circus-maximus-tour/\n"
     ]
    },
    {
     "name": "stderr",
     "output_type": "stream",
     "text": [
      "Scraping Progress:   6%|▌         | 190/3302 [04:44<1:07:00,  1.29s/it]"
     ]
    },
    {
     "name": "stdout",
     "output_type": "stream",
     "text": [
      "Successfully fetched: https://www.ibtimes.com/mongolias-circus-performers-fight-preserve-their-craft-3714310\n"
     ]
    },
    {
     "name": "stderr",
     "output_type": "stream",
     "text": [
      "Scraping Progress:   6%|▌         | 191/3302 [04:46<1:04:45,  1.25s/it]"
     ]
    },
    {
     "name": "stdout",
     "output_type": "stream",
     "text": [
      "Successfully fetched: https://www.nrc.nl/nieuws/2023/09/14/een-speelse-parodie-op-de-nobelprijzen-met-mixende-ansjovissen-en-verveelde-docenten-a4174430\n"
     ]
    },
    {
     "name": "stderr",
     "output_type": "stream",
     "text": [
      "Scraping Progress:   6%|▌         | 192/3302 [04:47<1:09:41,  1.34s/it]"
     ]
    },
    {
     "name": "stdout",
     "output_type": "stream",
     "text": [
      "Successfully fetched: https://bgr.com/entertainment/huge-marvel-leak-spills-new-details-about-4-upcoming-disney-shows/\n"
     ]
    },
    {
     "name": "stderr",
     "output_type": "stream",
     "text": [
      "Scraping Progress:   6%|▌         | 193/3302 [04:49<1:16:00,  1.47s/it]"
     ]
    },
    {
     "name": "stdout",
     "output_type": "stream",
     "text": [
      "Successfully fetched: https://bleedingcool.com/comics/superman-850-chains-spoilers/\n"
     ]
    },
    {
     "name": "stderr",
     "output_type": "stream",
     "text": [
      "Scraping Progress:   6%|▌         | 194/3302 [04:50<1:09:21,  1.34s/it]"
     ]
    },
    {
     "name": "stdout",
     "output_type": "stream",
     "text": [
      "Successfully fetched: https://www.ilfattoquotidiano.it/2023/10/12/f1-felipe-massa-titolo-2008-torto/7320589/\n"
     ]
    },
    {
     "name": "stderr",
     "output_type": "stream",
     "text": [
      "Scraping Progress:   6%|▌         | 195/3302 [04:51<1:11:01,  1.37s/it]"
     ]
    },
    {
     "name": "stdout",
     "output_type": "stream",
     "text": [
      "Cannot fetch https://www.stern.de/gesellschaft/regional/bayern/dfb-pokal--fc-bayern-laedt-kinder-in-zirkus-ein--alle-stars-dabei-33954290.html, HTTP error: 404 Client Error: Not Found for url: https://www.stern.de/gesellschaft/regional/bayern/dfb-pokal--fc-bayern-laedt-kinder-in-zirkus-ein--alle-stars-dabei-33954290.html\n"
     ]
    },
    {
     "name": "stderr",
     "output_type": "stream",
     "text": [
      "Scraping Progress:   6%|▌         | 196/3302 [04:53<1:09:39,  1.35s/it]"
     ]
    },
    {
     "name": "stdout",
     "output_type": "stream",
     "text": [
      "Successfully fetched: https://www.gazzetta.it/Formula-1/03-09-2023/f1-secondo-sport-piu-seguito-in-italia.shtml\n"
     ]
    },
    {
     "name": "stderr",
     "output_type": "stream",
     "text": [
      "Scraping Progress:   6%|▌         | 197/3302 [04:54<1:15:37,  1.46s/it]"
     ]
    },
    {
     "name": "stdout",
     "output_type": "stream",
     "text": [
      "Successfully fetched: https://www.gazzetta.it/motori/la-mia-auto/storie/14-02-2023/f1-il-garage-di-sainz-ferrari-mclaren-e-una-volkswagen-golf-1676389360/il-mondo-di-sainz.shtml\n"
     ]
    },
    {
     "name": "stderr",
     "output_type": "stream",
     "text": [
      "Scraping Progress:   6%|▌         | 198/3302 [04:56<1:11:32,  1.38s/it]"
     ]
    },
    {
     "name": "stdout",
     "output_type": "stream",
     "text": [
      "Successfully fetched: https://www.eonline.com/news/1384659/rumer-willis-breastfeeds-daughter-louetta-at-the-beach-after-being-mom-shamed\n"
     ]
    },
    {
     "name": "stderr",
     "output_type": "stream",
     "text": [
      "Scraping Progress:   6%|▌         | 199/3302 [04:57<1:10:10,  1.36s/it]"
     ]
    },
    {
     "name": "stdout",
     "output_type": "stream",
     "text": [
      "Successfully fetched: https://cupofjo.com/2023/09/29/have-a-lovely-weekend-september-2023/\n"
     ]
    },
    {
     "name": "stderr",
     "output_type": "stream",
     "text": [
      "Scraping Progress:   6%|▌         | 200/3302 [04:58<1:08:15,  1.32s/it]"
     ]
    },
    {
     "name": "stdout",
     "output_type": "stream",
     "text": [
      "Successfully fetched: https://www.eonline.com/news/1384736/you-can-bet-on-these-shirtless-photos-of-zac-efron-heating-up-your-timeline\n"
     ]
    },
    {
     "name": "stderr",
     "output_type": "stream",
     "text": [
      "Scraping Progress:   6%|▌         | 201/3302 [04:59<1:07:15,  1.30s/it]"
     ]
    },
    {
     "name": "stdout",
     "output_type": "stream",
     "text": [
      "Successfully fetched: https://www.econlib.org/the-circus-of-ftc-v-amazon/\n"
     ]
    },
    {
     "name": "stderr",
     "output_type": "stream",
     "text": [
      "Scraping Progress:   6%|▌         | 202/3302 [05:01<1:14:05,  1.43s/it]"
     ]
    },
    {
     "name": "stdout",
     "output_type": "stream",
     "text": [
      "Successfully fetched: https://www.thefader.com/2023/09/19/travis-scott-sits-for-astroworld-civil-deposition\n"
     ]
    },
    {
     "name": "stderr",
     "output_type": "stream",
     "text": [
      "Scraping Progress:   6%|▌         | 203/3302 [05:02<1:07:57,  1.32s/it]"
     ]
    },
    {
     "name": "stdout",
     "output_type": "stream",
     "text": [
      "Successfully fetched: http://exystence.net/blog/2023/10/01/underwater-circus-circus-underwater-1984-remastered-2023/\n"
     ]
    },
    {
     "name": "stderr",
     "output_type": "stream",
     "text": [
      "Scraping Progress:   6%|▌         | 204/3302 [05:04<1:20:31,  1.56s/it]"
     ]
    },
    {
     "name": "stdout",
     "output_type": "stream",
     "text": [
      "Successfully fetched: https://www.pockettactics.com/vlad-circus/review\n"
     ]
    },
    {
     "name": "stderr",
     "output_type": "stream",
     "text": [
      "Scraping Progress:   6%|▌         | 205/3302 [05:06<1:27:12,  1.69s/it]"
     ]
    },
    {
     "name": "stdout",
     "output_type": "stream",
     "text": [
      "Successfully fetched: https://www.justjared.com/2023/09/29/reese-witherspoon-stops-by-good-morning-america-to-promote-new-book-watch-now/\n"
     ]
    },
    {
     "name": "stderr",
     "output_type": "stream",
     "text": [
      "Scraping Progress:   6%|▌         | 206/3302 [05:08<1:21:26,  1.58s/it]"
     ]
    },
    {
     "name": "stdout",
     "output_type": "stream",
     "text": [
      "Successfully fetched: https://natalie.mu/music/news/539819\n"
     ]
    },
    {
     "name": "stderr",
     "output_type": "stream",
     "text": [
      "Scraping Progress:   6%|▋         | 207/3302 [05:10<1:30:09,  1.75s/it]"
     ]
    },
    {
     "name": "stdout",
     "output_type": "stream",
     "text": [
      "Successfully fetched: https://bleedingcool.com/games/reveil-receives-new-trailer-focusing-on-the-story/\n"
     ]
    },
    {
     "name": "stderr",
     "output_type": "stream",
     "text": [
      "Scraping Progress:   6%|▋         | 208/3302 [05:11<1:19:11,  1.54s/it]"
     ]
    },
    {
     "name": "stdout",
     "output_type": "stream",
     "text": [
      "Successfully fetched: https://www.bostonglobe.com/2023/10/25/lifestyle/circus-cooperative-cafe-worker-owners-prep-your-order/\n"
     ]
    },
    {
     "name": "stderr",
     "output_type": "stream",
     "text": [
      "Scraping Progress:   6%|▋         | 209/3302 [05:13<1:27:58,  1.71s/it]"
     ]
    },
    {
     "name": "stdout",
     "output_type": "stream",
     "text": [
      "Successfully fetched: https://www.rawstory.com/insanity-republicans-appalled-at-plan-to-turn-speaker-race-into-fox-news-circus/\n"
     ]
    },
    {
     "name": "stderr",
     "output_type": "stream",
     "text": [
      "Scraping Progress:   6%|▋         | 210/3302 [05:14<1:18:11,  1.52s/it]"
     ]
    },
    {
     "name": "stdout",
     "output_type": "stream",
     "text": [
      "Successfully fetched: https://screenrant.com/five-nights-at-freddys-movie-secret-character-options/\n"
     ]
    },
    {
     "name": "stderr",
     "output_type": "stream",
     "text": [
      "Scraping Progress:   6%|▋         | 211/3302 [05:15<1:13:48,  1.43s/it]"
     ]
    },
    {
     "name": "stdout",
     "output_type": "stream",
     "text": [
      "Successfully fetched: https://www.fashionsnap.com/article/2023-09-28/popupcircus-hankyu-umeda/\n"
     ]
    },
    {
     "name": "stderr",
     "output_type": "stream",
     "text": [
      "Scraping Progress:   6%|▋         | 212/3302 [05:18<1:38:49,  1.92s/it]"
     ]
    },
    {
     "name": "stdout",
     "output_type": "stream",
     "text": [
      "Successfully fetched: https://www.nrc.nl/nieuws/2023/09/21/splendor-maakt-muziek-voor-wie-zich-wil-laten-verrassen-a4175111\n"
     ]
    },
    {
     "name": "stderr",
     "output_type": "stream",
     "text": [
      "Scraping Progress:   6%|▋         | 213/3302 [05:20<1:34:01,  1.83s/it]"
     ]
    },
    {
     "name": "stdout",
     "output_type": "stream",
     "text": [
      "Successfully fetched: https://www.barks.jp/news/?id=1000241221#utm_source=feed_news&utm_medium=feed&utm_campaign=feed\n"
     ]
    },
    {
     "name": "stderr",
     "output_type": "stream",
     "text": [
      "Scraping Progress:   6%|▋         | 214/3302 [05:22<1:34:10,  1.83s/it]"
     ]
    },
    {
     "name": "stdout",
     "output_type": "stream",
     "text": [
      "Successfully fetched: https://www.mmafighting.com/2023/10/10/23911035/circus-pro-wrestling-roots-mma-story-dwcs-rickson-zenidim-ufc\n"
     ]
    },
    {
     "name": "stderr",
     "output_type": "stream",
     "text": [
      "Scraping Progress:   7%|▋         | 215/3302 [05:24<1:39:18,  1.93s/it]"
     ]
    },
    {
     "name": "stdout",
     "output_type": "stream",
     "text": [
      "Successfully fetched: https://www.ozbargain.com.au/node/804900\n"
     ]
    },
    {
     "name": "stderr",
     "output_type": "stream",
     "text": [
      "Scraping Progress:   7%|▋         | 216/3302 [05:25<1:30:22,  1.76s/it]"
     ]
    },
    {
     "name": "stdout",
     "output_type": "stream",
     "text": [
      "Successfully fetched: https://www.ilsole24ore.com/art/trionfo-sainz-singapore-e-ferrari-migliore-2023-spezza-dominio-red-bull-record-AFL6Pyt\n"
     ]
    },
    {
     "name": "stderr",
     "output_type": "stream",
     "text": [
      "Scraping Progress:   7%|▋         | 217/3302 [05:27<1:24:49,  1.65s/it]"
     ]
    },
    {
     "name": "stdout",
     "output_type": "stream",
     "text": [
      "Successfully fetched: https://www.rollingstone.com/politics/politics-news/biden-impeachment-inquiry-hearing-derailed-evidence-1234834312/\n"
     ]
    },
    {
     "name": "stderr",
     "output_type": "stream",
     "text": [
      "Scraping Progress:   7%|▋         | 218/3302 [05:28<1:26:28,  1.68s/it]"
     ]
    },
    {
     "name": "stdout",
     "output_type": "stream",
     "text": [
      "Successfully fetched: https://www.windowscentral.com/gaming/xbox/lies-of-p-boss-guide-how-to-defeat-the-parade-master\n"
     ]
    },
    {
     "name": "stderr",
     "output_type": "stream",
     "text": [
      "Scraping Progress:   7%|▋         | 219/3302 [05:30<1:18:35,  1.53s/it]"
     ]
    },
    {
     "name": "stdout",
     "output_type": "stream",
     "text": [
      "Successfully fetched: https://deadline.com/2023/10/killing-romance-director-lee-won-suk-on-his-logic-defying-cult-comedy-london-east-asia-film-festival-1235579789/\n"
     ]
    },
    {
     "name": "stderr",
     "output_type": "stream",
     "text": [
      "Scraping Progress:   7%|▋         | 220/3302 [05:32<1:26:46,  1.69s/it]"
     ]
    },
    {
     "name": "stdout",
     "output_type": "stream",
     "text": [
      "Successfully fetched: https://www.blogto.com/arts/2023/09/cirque-du-soleil-echo-toronto/\n"
     ]
    },
    {
     "name": "stderr",
     "output_type": "stream",
     "text": [
      "Scraping Progress:   7%|▋         | 221/3302 [05:33<1:19:02,  1.54s/it]"
     ]
    },
    {
     "name": "stdout",
     "output_type": "stream",
     "text": [
      "Successfully fetched: https://www.espn.com/nfl/story/_/id/38386164/ranking-best-nfl-catches-2023-season-top-receptions-receivers\n"
     ]
    },
    {
     "name": "stderr",
     "output_type": "stream",
     "text": [
      "Scraping Progress:   7%|▋         | 222/3302 [05:35<1:24:44,  1.65s/it]"
     ]
    },
    {
     "name": "stdout",
     "output_type": "stream",
     "text": [
      "Successfully fetched: https://indianexpress.com/article/india/summons-to-mahua-moitra-ls-panel-to-decide-after-oct-26-8992948/\n"
     ]
    },
    {
     "name": "stderr",
     "output_type": "stream",
     "text": [
      "Scraping Progress:   7%|▋         | 223/3302 [05:37<1:31:09,  1.78s/it]"
     ]
    },
    {
     "name": "stdout",
     "output_type": "stream",
     "text": [
      "Successfully fetched: https://knowyourmeme.com/editorials/guides/what-is-the-amazing-digital-circus-the-dark-comedy-youtube-show-explained\n"
     ]
    },
    {
     "name": "stderr",
     "output_type": "stream",
     "text": [
      "Scraping Progress:   7%|▋         | 224/3302 [05:38<1:27:50,  1.71s/it]"
     ]
    },
    {
     "name": "stdout",
     "output_type": "stream",
     "text": [
      "Successfully fetched: https://www.queerty.com/closeted-hollywood-legends-juicy-family-secrets-more-lgbtq-docs-to-stream-this-weekend-20230901\n"
     ]
    },
    {
     "name": "stderr",
     "output_type": "stream",
     "text": [
      "Scraping Progress:   7%|▋         | 225/3302 [05:42<1:55:02,  2.24s/it]"
     ]
    },
    {
     "name": "stdout",
     "output_type": "stream",
     "text": [
      "Successfully fetched: https://www.bangkokpost.com/world/2658771/mongolias-circus-performers-fight-to-preserve-their-craft\n"
     ]
    },
    {
     "name": "stderr",
     "output_type": "stream",
     "text": [
      "Scraping Progress:   7%|▋         | 226/3302 [05:44<1:53:41,  2.22s/it]"
     ]
    },
    {
     "name": "stdout",
     "output_type": "stream",
     "text": [
      "Successfully fetched: https://www.comingsoon.net/guides/news/1322689-the-hunchback-of-notre-dame-2-where-to-watch-stream-online\n"
     ]
    },
    {
     "name": "stderr",
     "output_type": "stream",
     "text": [
      "Scraping Progress:   7%|▋         | 227/3302 [05:46<1:45:51,  2.07s/it]"
     ]
    },
    {
     "name": "stdout",
     "output_type": "stream",
     "text": [
      "Successfully fetched: https://www.bostonglobe.com/2023/10/03/business/circus-cooperative-cafe-cambridge-darwins/\n"
     ]
    },
    {
     "name": "stderr",
     "output_type": "stream",
     "text": [
      "Scraping Progress:   7%|▋         | 228/3302 [05:48<1:50:29,  2.16s/it]"
     ]
    },
    {
     "name": "stdout",
     "output_type": "stream",
     "text": [
      "Successfully fetched: https://www.gamesindustry.biz/nolan-bushnell-launches-educational-game-company-exodexa\n"
     ]
    },
    {
     "name": "stderr",
     "output_type": "stream",
     "text": [
      "Scraping Progress:   7%|▋         | 229/3302 [05:49<1:37:09,  1.90s/it]"
     ]
    },
    {
     "name": "stdout",
     "output_type": "stream",
     "text": [
      "Successfully fetched: https://www.forbes.com/sites/veronicavillafane/2023/10/02/messi-meets-america-exclusive-access-documentary-debuts-on-apple-tv/\n"
     ]
    },
    {
     "name": "stderr",
     "output_type": "stream",
     "text": [
      "Scraping Progress:   7%|▋         | 231/3302 [05:52<1:25:47,  1.68s/it]"
     ]
    },
    {
     "name": "stdout",
     "output_type": "stream",
     "text": [
      "Successfully fetched: https://bleedingcool.com/tv/aew-collision-and-battle-of-the-belts-bring-double-disrespect-tonight/\n"
     ]
    },
    {
     "name": "stderr",
     "output_type": "stream",
     "text": [
      "Scraping Progress:   7%|▋         | 233/3302 [05:56<1:27:53,  1.72s/it]"
     ]
    },
    {
     "name": "stdout",
     "output_type": "stream",
     "text": [
      "Successfully fetched: https://www.newyorker.com/magazine/2023/09/18/what-kate-dicamillo-understands-about-children\n"
     ]
    },
    {
     "name": "stderr",
     "output_type": "stream",
     "text": [
      "Scraping Progress:   7%|▋         | 234/3302 [05:57<1:18:30,  1.54s/it]"
     ]
    },
    {
     "name": "stdout",
     "output_type": "stream",
     "text": [
      "Successfully fetched: https://www.marketingdirecto.com/creacion/campanas-de-marketing/coca-cola-convierte-codigos-qr-obras-arte\n"
     ]
    },
    {
     "name": "stderr",
     "output_type": "stream",
     "text": [
      "Scraping Progress:   7%|▋         | 235/3302 [05:58<1:21:09,  1.59s/it]"
     ]
    },
    {
     "name": "stdout",
     "output_type": "stream",
     "text": [
      "Successfully fetched: https://www.gazzetta.it/Moto/moto-GP/28-09-2023/gp-misano-un-fine-settimana-nella-tribuna-dedicata-a-yamaha.shtml\n"
     ]
    },
    {
     "name": "stderr",
     "output_type": "stream",
     "text": [
      "Scraping Progress:   7%|▋         | 236/3302 [06:00<1:25:15,  1.67s/it]"
     ]
    },
    {
     "name": "stdout",
     "output_type": "stream",
     "text": [
      "Successfully fetched: https://www.hdblog.it/apple/articoli/n574126/apple-vuole-formula-1/\n"
     ]
    },
    {
     "name": "stderr",
     "output_type": "stream",
     "text": [
      "Scraping Progress:   7%|▋         | 237/3302 [06:02<1:25:03,  1.67s/it]"
     ]
    },
    {
     "name": "stdout",
     "output_type": "stream",
     "text": [
      "Successfully fetched: https://www.bubbyandbean.com/2023/10/50-timeless-halloween-costume-ideas.html\n"
     ]
    },
    {
     "name": "stderr",
     "output_type": "stream",
     "text": [
      "Scraping Progress:   7%|▋         | 239/3302 [06:04<1:10:14,  1.38s/it]"
     ]
    },
    {
     "name": "stdout",
     "output_type": "stream",
     "text": [
      "Successfully fetched: https://paulplowman.com/stuff/uk-address-oddities/\n"
     ]
    },
    {
     "name": "stderr",
     "output_type": "stream",
     "text": [
      "Scraping Progress:   7%|▋         | 240/3302 [06:06<1:12:07,  1.41s/it]"
     ]
    },
    {
     "name": "stdout",
     "output_type": "stream",
     "text": [
      "Successfully fetched: https://observador.pt/2023/10/17/intermarche-circus-wanty-confirma-saida-de-rui-costa/\n"
     ]
    },
    {
     "name": "stderr",
     "output_type": "stream",
     "text": [
      "Scraping Progress:   7%|▋         | 241/3302 [06:08<1:20:39,  1.58s/it]"
     ]
    },
    {
     "name": "stdout",
     "output_type": "stream",
     "text": [
      "Successfully fetched: https://www.destructoid.com/sonic-superstars-is-out-soon-on-switch-highlighting-the-enduring-legacy-of-segas-mascot/\n"
     ]
    },
    {
     "name": "stderr",
     "output_type": "stream",
     "text": [
      "Scraping Progress:   7%|▋         | 242/3302 [06:09<1:13:15,  1.44s/it]"
     ]
    },
    {
     "name": "stdout",
     "output_type": "stream",
     "text": [
      "Successfully fetched: https://maisfutebol.iol.pt/modalidades/ciclismo/ciclismo-rui-costa-vence-a-taca-do-japao\n"
     ]
    },
    {
     "name": "stderr",
     "output_type": "stream",
     "text": [
      "Scraping Progress:   7%|▋         | 243/3302 [06:11<1:20:55,  1.59s/it]"
     ]
    },
    {
     "name": "stdout",
     "output_type": "stream",
     "text": [
      "Successfully fetched: https://comicbookmovie.com/the-flash/the-flash-races-on-to-4k-uhd-blu-ray-dvd-on-september-15-in-the-uk-and-ireland-a205470\n"
     ]
    },
    {
     "name": "stderr",
     "output_type": "stream",
     "text": [
      "Scraping Progress:   7%|▋         | 244/3302 [06:12<1:16:34,  1.50s/it]"
     ]
    },
    {
     "name": "stdout",
     "output_type": "stream",
     "text": [
      "Successfully fetched: https://comicbookmovie.com/the-flash/the-flash-races-on-to-4k-uhd-blu-ray-dvd-on-september-15-a205470\n"
     ]
    },
    {
     "name": "stderr",
     "output_type": "stream",
     "text": [
      "Scraping Progress:   7%|▋         | 245/3302 [06:13<1:11:46,  1.41s/it]"
     ]
    },
    {
     "name": "stdout",
     "output_type": "stream",
     "text": [
      "Successfully fetched: https://bloody-disgusting.com/video-games/3779817/horror-adventure-title-vlad-circus-descend-into-madness-coming-to-steam-next-fest/\n"
     ]
    },
    {
     "name": "stderr",
     "output_type": "stream",
     "text": [
      "Scraping Progress:   7%|▋         | 246/3302 [06:15<1:18:08,  1.53s/it]"
     ]
    },
    {
     "name": "stdout",
     "output_type": "stream",
     "text": [
      "Successfully fetched: https://joemonster.org/art/68955/Katastrofa_pociagu_Hammond_Circus_show_must_go_on\n"
     ]
    },
    {
     "name": "stderr",
     "output_type": "stream",
     "text": [
      "Scraping Progress:   7%|▋         | 247/3302 [06:17<1:19:32,  1.56s/it]"
     ]
    },
    {
     "name": "stdout",
     "output_type": "stream",
     "text": [
      "Successfully fetched: https://www.gazzetta.it/Moto/Superbike/31-10-2023/superbike-2024-il-nuovo-circuito-cremona.shtml\n"
     ]
    },
    {
     "name": "stderr",
     "output_type": "stream",
     "text": [
      "Scraping Progress:   8%|▊         | 248/3302 [06:18<1:18:54,  1.55s/it]"
     ]
    },
    {
     "name": "stdout",
     "output_type": "stream",
     "text": [
      "Successfully fetched: https://www.wallpaper.com/architecture/edinburgh-house-extension-ds-architecture-scotland-uk\n"
     ]
    },
    {
     "name": "stderr",
     "output_type": "stream",
     "text": [
      "Scraping Progress:   8%|▊         | 249/3302 [06:20<1:17:31,  1.52s/it]"
     ]
    },
    {
     "name": "stdout",
     "output_type": "stream",
     "text": [
      "Successfully fetched: https://knowyourmeme.com/memes/events/project-2025\n"
     ]
    },
    {
     "name": "stderr",
     "output_type": "stream",
     "text": [
      "Scraping Progress:   8%|▊         | 250/3302 [06:21<1:21:09,  1.60s/it]"
     ]
    },
    {
     "name": "stdout",
     "output_type": "stream",
     "text": [
      "Successfully fetched: https://knowyourmeme.com/news/jim-jordan-is-officially-off-the-table-as-a-candidate-for-speaker-of-the-house-leading-to-much-schadenfreude\n"
     ]
    },
    {
     "name": "stderr",
     "output_type": "stream",
     "text": [
      "Scraping Progress:   8%|▊         | 251/3302 [06:23<1:19:41,  1.57s/it]"
     ]
    },
    {
     "name": "stdout",
     "output_type": "stream",
     "text": [
      "Successfully fetched: https://www.thefader.com/2023/10/26/rap-column-aggro-dr1ft-travis-scott-review\n"
     ]
    },
    {
     "name": "stderr",
     "output_type": "stream",
     "text": [
      "Scraping Progress:   8%|▊         | 252/3302 [06:24<1:11:38,  1.41s/it]"
     ]
    },
    {
     "name": "stdout",
     "output_type": "stream",
     "text": [
      "Successfully fetched: https://www.brooklynvegan.com/our-favorite-songs-of-the-week-playlist-130/\n"
     ]
    },
    {
     "name": "stderr",
     "output_type": "stream",
     "text": [
      "Scraping Progress:   8%|▊         | 253/3302 [06:27<1:39:46,  1.96s/it]"
     ]
    },
    {
     "name": "stdout",
     "output_type": "stream",
     "text": [
      "Successfully fetched: https://www.comingsoon.net/guides/news/1337676-clock-cleaners-where-to-watch-stream-online\n"
     ]
    },
    {
     "name": "stderr",
     "output_type": "stream",
     "text": [
      "Scraping Progress:   8%|▊         | 254/3302 [06:29<1:35:40,  1.88s/it]"
     ]
    },
    {
     "name": "stdout",
     "output_type": "stream",
     "text": [
      "Successfully fetched: https://bleedingcool.com/tv/star-trek-todd-stashwick-sets-charity-dd-game-with-picard-ld-cast/\n"
     ]
    },
    {
     "name": "stderr",
     "output_type": "stream",
     "text": [
      "Scraping Progress:   8%|▊         | 256/3302 [06:31<1:14:10,  1.46s/it]"
     ]
    },
    {
     "name": "stdout",
     "output_type": "stream",
     "text": [
      "Successfully fetched: https://www.bbc.co.uk/news/uk-england-somerset-66971101\n"
     ]
    },
    {
     "name": "stderr",
     "output_type": "stream",
     "text": [
      "Scraping Progress:   8%|▊         | 257/3302 [06:33<1:16:40,  1.51s/it]"
     ]
    },
    {
     "name": "stdout",
     "output_type": "stream",
     "text": [
      "Successfully fetched: https://www.rogerebert.com/festivals/venice-film-festival-2023-biennale-college-and-recommended-movies\n"
     ]
    },
    {
     "name": "stderr",
     "output_type": "stream",
     "text": [
      "Scraping Progress:   8%|▊         | 258/3302 [06:34<1:17:22,  1.53s/it]"
     ]
    },
    {
     "name": "stdout",
     "output_type": "stream",
     "text": [
      "Successfully fetched: https://www.bbc.co.uk/sport/football/66998098\n"
     ]
    },
    {
     "name": "stderr",
     "output_type": "stream",
     "text": [
      "Scraping Progress:   8%|▊         | 259/3302 [06:36<1:15:41,  1.49s/it]"
     ]
    },
    {
     "name": "stdout",
     "output_type": "stream",
     "text": [
      "Successfully fetched: https://www.bbc.co.uk/sport/boxing/67079014\n"
     ]
    },
    {
     "name": "stderr",
     "output_type": "stream",
     "text": [
      "Scraping Progress:   8%|▊         | 260/3302 [06:37<1:20:48,  1.59s/it]"
     ]
    },
    {
     "name": "stdout",
     "output_type": "stream",
     "text": [
      "Successfully fetched: https://www.latimes.com/entertainment-arts/story/2023-10-04/david-victoria-beckham-affair-rumors-netflix-documentary\n"
     ]
    },
    {
     "name": "stderr",
     "output_type": "stream",
     "text": [
      "Scraping Progress:   8%|▊         | 261/3302 [06:39<1:18:38,  1.55s/it]"
     ]
    },
    {
     "name": "stdout",
     "output_type": "stream",
     "text": [
      "Cannot fetch \thttps://mixmag.net/read/resale-tickets-travis-scott-utopia-circus-maximus-tour-tank-price-low-demand-news\n",
      ", HTTP error: 404 Client Error: Not Found for url: https://mixmag.net/read/resale-tickets-travis-scott-utopia-circus-maximus-tour-tank-price-low-demand-news%0A\n"
     ]
    },
    {
     "name": "stderr",
     "output_type": "stream",
     "text": [
      "Scraping Progress:   8%|▊         | 263/3302 [06:41<1:10:31,  1.39s/it]"
     ]
    },
    {
     "name": "stdout",
     "output_type": "stream",
     "text": [
      "Successfully fetched: https://hiphopdx.com/news/travis-scott-calls-out-security-female-fan\n"
     ]
    },
    {
     "name": "stderr",
     "output_type": "stream",
     "text": [
      "Scraping Progress:   8%|▊         | 264/3302 [06:43<1:10:59,  1.40s/it]"
     ]
    },
    {
     "name": "stdout",
     "output_type": "stream",
     "text": [
      "Successfully fetched: https://observador.pt/2023/10/15/ciclista-portugues-rui-costa-vence-taca-do-japao/\n"
     ]
    },
    {
     "name": "stderr",
     "output_type": "stream",
     "text": [
      "Scraping Progress:   8%|▊         | 265/3302 [06:45<1:18:09,  1.54s/it]"
     ]
    },
    {
     "name": "stdout",
     "output_type": "stream",
     "text": [
      "Successfully fetched: https://esports.gazzetta.it/gaming/novita/06-10-2023/fernando-alonso-beccato-allenarsi-qatar-assetto-corsa-93036\n"
     ]
    },
    {
     "name": "stderr",
     "output_type": "stream",
     "text": [
      "Scraping Progress:   8%|▊         | 266/3302 [06:47<1:23:23,  1.65s/it]"
     ]
    },
    {
     "name": "stdout",
     "output_type": "stream",
     "text": [
      "Successfully fetched: https://www.gazzetta.it/Formula-1/13-10-2023/f1-all-asta-la-mercedes-2013-di-hamilton-vinse-la-sua-prima-gara-con-le-frecce-d-argento.shtml\n"
     ]
    },
    {
     "name": "stderr",
     "output_type": "stream",
     "text": [
      "Scraping Progress:   8%|▊         | 267/3302 [06:48<1:26:40,  1.71s/it]"
     ]
    },
    {
     "name": "stdout",
     "output_type": "stream",
     "text": [
      "Successfully fetched: https://www.ozbargain.com.au/node/799792\n"
     ]
    },
    {
     "name": "stderr",
     "output_type": "stream",
     "text": [
      "Scraping Progress:   8%|▊         | 268/3302 [06:50<1:22:22,  1.63s/it]"
     ]
    },
    {
     "name": "stdout",
     "output_type": "stream",
     "text": [
      "Successfully fetched: https://www.vanityfair.com/style/2023/10/victoria-beckham-was-the-most-unhappy-shed-ever-been-following-david-beckham-cheating-scandal\n"
     ]
    },
    {
     "name": "stderr",
     "output_type": "stream",
     "text": [
      "Scraping Progress:   8%|▊         | 269/3302 [06:51<1:13:34,  1.46s/it]"
     ]
    },
    {
     "name": "stdout",
     "output_type": "stream",
     "text": [
      "Successfully fetched: https://www.gazzetta.it/scommesse/comparazione-quote/20-09-2023/motogp-mondiale-antepost-bagnaia-quote-19319.shtml\n"
     ]
    },
    {
     "name": "stderr",
     "output_type": "stream",
     "text": [
      "Scraping Progress:   8%|▊         | 270/3302 [06:52<1:11:40,  1.42s/it]"
     ]
    },
    {
     "name": "stdout",
     "output_type": "stream",
     "text": [
      "Successfully fetched: https://www.gazzetta.it/Formula-1/16-10-2023/piquet-non-fu-razzismo-con-hamilton-la-nuova-sentenza-del-tribunale-in-brasile.shtml\n"
     ]
    },
    {
     "name": "stderr",
     "output_type": "stream",
     "text": [
      "Scraping Progress:   8%|▊         | 272/3302 [06:55<1:05:01,  1.29s/it]"
     ]
    },
    {
     "name": "stdout",
     "output_type": "stream",
     "text": [
      "Successfully fetched: https://screenrant.com/baldurs-gate-3-funny-comic-relief-characters-bg3/\n"
     ]
    },
    {
     "name": "stderr",
     "output_type": "stream",
     "text": [
      "Scraping Progress:   8%|▊         | 273/3302 [06:56<1:03:58,  1.27s/it]"
     ]
    },
    {
     "name": "stdout",
     "output_type": "stream",
     "text": [
      "Successfully fetched: https://slate.com/human-interest/2023/09/ban-drag-shows-military-armed-forces-pentagon-2023.html\n"
     ]
    },
    {
     "name": "stderr",
     "output_type": "stream",
     "text": [
      "Scraping Progress:   8%|▊         | 274/3302 [06:57<1:05:57,  1.31s/it]"
     ]
    },
    {
     "name": "stdout",
     "output_type": "stream",
     "text": [
      "Successfully fetched: https://www.rollingstone.com/music/music-news/life-is-beautiful-day-one-killers-yeah-yeah-yeahs-bebe-rexha-1234830041/\n"
     ]
    },
    {
     "name": "stderr",
     "output_type": "stream",
     "text": [
      "Scraping Progress:   8%|▊         | 275/3302 [07:00<1:22:08,  1.63s/it]"
     ]
    },
    {
     "name": "stdout",
     "output_type": "stream",
     "text": [
      "Cannot fetch https://www.nu.nl/wielrennen/6282371/jumbo-visma-domineert-ook-ek-laporte-pakt-titel-van-aert-en-kooij-op-podium.html, HTTP error: 403 Client Error: Forbidden for url: https://www.nu.nl/wielrennen/6282371/jumbo-visma-domineert-ook-ek-laporte-pakt-titel-van-aert-en-kooij-op-podium.html\n"
     ]
    },
    {
     "name": "stderr",
     "output_type": "stream",
     "text": [
      "Scraping Progress:   8%|▊         | 276/3302 [07:01<1:13:02,  1.45s/it]"
     ]
    },
    {
     "name": "stdout",
     "output_type": "stream",
     "text": [
      "Successfully fetched: https://www.bostonherald.com/2023/10/21/gop-paralysis-deepens-as-time-ticks-to-shore-up-crucial-allies/\n"
     ]
    },
    {
     "name": "stderr",
     "output_type": "stream",
     "text": [
      "Scraping Progress:   8%|▊         | 277/3302 [07:02<1:12:47,  1.44s/it]"
     ]
    },
    {
     "name": "stdout",
     "output_type": "stream",
     "text": [
      "Successfully fetched: https://www.barks.jp/news/?id=1000239752#utm_source=feed_news&utm_medium=feed&utm_campaign=feed\n"
     ]
    },
    {
     "name": "stderr",
     "output_type": "stream",
     "text": [
      "Scraping Progress:   8%|▊         | 278/3302 [07:04<1:19:50,  1.58s/it]"
     ]
    },
    {
     "name": "stdout",
     "output_type": "stream",
     "text": [
      "Successfully fetched: http://lenscratch.com/2023/10/european-street-photography-week-sigrid-debusschere/\n"
     ]
    },
    {
     "name": "stderr",
     "output_type": "stream",
     "text": [
      "Scraping Progress:   8%|▊         | 279/3302 [07:06<1:25:21,  1.69s/it]"
     ]
    },
    {
     "name": "stdout",
     "output_type": "stream",
     "text": [
      "Successfully fetched: https://www.wnd.com/2023/10/ignore-political-circus-d-c/\n"
     ]
    },
    {
     "name": "stderr",
     "output_type": "stream",
     "text": [
      "Scraping Progress:   8%|▊         | 280/3302 [07:07<1:19:57,  1.59s/it]"
     ]
    },
    {
     "name": "stdout",
     "output_type": "stream",
     "text": [
      "Successfully fetched: https://tvline.com/news/bump-cancelled-the-cw-season-3-australian-series-1235039212/\n"
     ]
    },
    {
     "name": "stderr",
     "output_type": "stream",
     "text": [
      "Scraping Progress:   9%|▊         | 281/3302 [07:09<1:23:02,  1.65s/it]"
     ]
    },
    {
     "name": "stdout",
     "output_type": "stream",
     "text": [
      "Successfully fetched: https://www.cnn.com/2023/10/05/entertainment/maren-morris-country-music-circus/index.html\n"
     ]
    },
    {
     "name": "stderr",
     "output_type": "stream",
     "text": [
      "Scraping Progress:   9%|▊         | 282/3302 [07:11<1:21:59,  1.63s/it]"
     ]
    },
    {
     "name": "stdout",
     "output_type": "stream",
     "text": [
      "Successfully fetched: https://www.comingsoon.net/guides/news/1358843-batman-forever-streaming-watch-stream-online-via-hbo-max\n"
     ]
    },
    {
     "name": "stderr",
     "output_type": "stream",
     "text": [
      "Scraping Progress:   9%|▊         | 283/3302 [07:13<1:33:57,  1.87s/it]"
     ]
    },
    {
     "name": "stdout",
     "output_type": "stream",
     "text": [
      "Successfully fetched: https://www.stereogum.com/2234566/the-number-ones-britney-spears-hold-it-against-me/columns/the-number-ones/\n"
     ]
    },
    {
     "name": "stderr",
     "output_type": "stream",
     "text": [
      "Scraping Progress:   9%|▊         | 284/3302 [07:17<2:06:56,  2.52s/it]"
     ]
    },
    {
     "name": "stdout",
     "output_type": "stream",
     "text": [
      "Successfully fetched: https://screenrant.com/five-nights-at-freddys-movie-sister-location-easter-eggs-director-addressed/\n"
     ]
    },
    {
     "name": "stderr",
     "output_type": "stream",
     "text": [
      "Scraping Progress:   9%|▊         | 285/3302 [07:19<1:48:57,  2.17s/it]"
     ]
    },
    {
     "name": "stdout",
     "output_type": "stream",
     "text": [
      "Successfully fetched: https://sf.funcheap.com/sfs-free-circus-square-st-marks-square/\n"
     ]
    },
    {
     "name": "stderr",
     "output_type": "stream",
     "text": [
      "Scraping Progress:   9%|▊         | 286/3302 [07:20<1:43:15,  2.05s/it]"
     ]
    },
    {
     "name": "stdout",
     "output_type": "stream",
     "text": [
      "Successfully fetched: https://knowyourmeme.com/editorials/meme-review/how-the-internet-became-obsessed-with-the-3d-animated-web-series-the-amazing-digital-circus\n"
     ]
    },
    {
     "name": "stderr",
     "output_type": "stream",
     "text": [
      "Scraping Progress:   9%|▊         | 287/3302 [07:22<1:41:56,  2.03s/it]"
     ]
    },
    {
     "name": "stdout",
     "output_type": "stream",
     "text": [
      "Successfully fetched: https://www.pcgamer.com/astarion-can-literally-get-blood-from-a-stone-in-baldurs-gate-3/\n"
     ]
    },
    {
     "name": "stderr",
     "output_type": "stream",
     "text": [
      "Scraping Progress:   9%|▊         | 288/3302 [07:23<1:27:05,  1.73s/it]"
     ]
    },
    {
     "name": "stdout",
     "output_type": "stream",
     "text": [
      "Successfully fetched: https://www.newsweek.com/donald-trump-handed-loss-colorado-trial-1839259\n"
     ]
    },
    {
     "name": "stderr",
     "output_type": "stream",
     "text": [
      "Scraping Progress:   9%|▉         | 290/3302 [07:26<1:10:41,  1.41s/it]"
     ]
    },
    {
     "name": "stdout",
     "output_type": "stream",
     "text": [
      "Successfully fetched: http://exystence.net/blog/2023/09/18/hardwicke-circus-fly-the-flag-2023/\n"
     ]
    },
    {
     "name": "stderr",
     "output_type": "stream",
     "text": [
      "Scraping Progress:   9%|▉         | 291/3302 [07:28<1:20:23,  1.60s/it]"
     ]
    },
    {
     "name": "stdout",
     "output_type": "stream",
     "text": [
      "Successfully fetched: https://londonist.com/london/best-of-london/best-of-londonist-16-22-october-2023\n"
     ]
    },
    {
     "name": "stderr",
     "output_type": "stream",
     "text": [
      "Scraping Progress:   9%|▉         | 292/3302 [07:29<1:17:10,  1.54s/it]"
     ]
    },
    {
     "name": "stdout",
     "output_type": "stream",
     "text": [
      "Successfully fetched: https://www.techradar.com/televisions/samsung-the-frame-art-tvs-will-show-more-masterpieces-from-the-met-museum\n"
     ]
    },
    {
     "name": "stderr",
     "output_type": "stream",
     "text": [
      "Scraping Progress:   9%|▉         | 293/3302 [07:30<1:11:13,  1.42s/it]"
     ]
    },
    {
     "name": "stdout",
     "output_type": "stream",
     "text": [
      "Successfully fetched: https://www.huffingtonpost.es/sociedad/programa-fiestas-pilar-2023-madrid-fechas-actividades-conciertos.html\n"
     ]
    },
    {
     "name": "stderr",
     "output_type": "stream",
     "text": [
      "Scraping Progress:   9%|▉         | 294/3302 [07:32<1:13:41,  1.47s/it]"
     ]
    },
    {
     "name": "stdout",
     "output_type": "stream",
     "text": [
      "Successfully fetched: https://www.huffpost.com/entry/matt-walsh-anti-trans-push-tennessee_n_653fd5e8e4b032ae1c9c0497\n"
     ]
    },
    {
     "name": "stderr",
     "output_type": "stream",
     "text": [
      "Scraping Progress:   9%|▉         | 295/3302 [07:33<1:07:32,  1.35s/it]"
     ]
    },
    {
     "name": "stdout",
     "output_type": "stream",
     "text": [
      "Successfully fetched: https://www.techradar.com/streaming/disney-plus/new-marvel-leak-suggests-daredevil-born-again-wont-debut-on-disney-plus-until-2025\n"
     ]
    },
    {
     "name": "stderr",
     "output_type": "stream",
     "text": [
      "Scraping Progress:   9%|▉         | 296/3302 [07:34<1:09:30,  1.39s/it]"
     ]
    },
    {
     "name": "stdout",
     "output_type": "stream",
     "text": [
      "Successfully fetched: https://prtimes.jp/main/html/rd/p/000000028.000077175.html\n"
     ]
    },
    {
     "name": "stderr",
     "output_type": "stream",
     "text": [
      "Scraping Progress:   9%|▉         | 297/3302 [07:36<1:13:50,  1.47s/it]"
     ]
    },
    {
     "name": "stdout",
     "output_type": "stream",
     "text": [
      "Successfully fetched: https://theweek.com/digest/artworks-stolen-by-nazis-returned-to-heirs-of-cabaret-performer\n"
     ]
    },
    {
     "name": "stderr",
     "output_type": "stream",
     "text": [
      "Scraping Progress:   9%|▉         | 298/3302 [07:37<1:07:24,  1.35s/it]"
     ]
    },
    {
     "name": "stdout",
     "output_type": "stream",
     "text": [
      "Successfully fetched: https://ohnotheydidnt.livejournal.com/127137312.html\n"
     ]
    },
    {
     "name": "stderr",
     "output_type": "stream",
     "text": [
      "Scraping Progress:   9%|▉         | 299/3302 [07:40<1:31:44,  1.83s/it]"
     ]
    },
    {
     "name": "stdout",
     "output_type": "stream",
     "text": [
      "Successfully fetched: https://www.forbes.com/sites/judykoutsky/2023/09/20/chicagos-arts-in-the-dark-parade-a-halloween-celebration-of-creativity/\n"
     ]
    },
    {
     "name": "stderr",
     "output_type": "stream",
     "text": [
      "Scraping Progress:   9%|▉         | 300/3302 [07:42<1:29:17,  1.78s/it]"
     ]
    },
    {
     "name": "stdout",
     "output_type": "stream",
     "text": [
      "Successfully fetched: https://www.forbes.com/sites/lelalondon/2023/10/03/where-to-eat-in-london-october-2023/\n"
     ]
    },
    {
     "name": "stderr",
     "output_type": "stream",
     "text": [
      "Scraping Progress:   9%|▉         | 301/3302 [07:43<1:30:06,  1.80s/it]"
     ]
    },
    {
     "name": "stdout",
     "output_type": "stream",
     "text": [
      "Successfully fetched: https://radaronline.com/p/victoria-beckham-resented-husband-david-after-affair-rumors-circus/\n"
     ]
    },
    {
     "name": "stderr",
     "output_type": "stream",
     "text": [
      "Scraping Progress:   9%|▉         | 302/3302 [07:45<1:18:27,  1.57s/it]"
     ]
    },
    {
     "name": "stdout",
     "output_type": "stream",
     "text": [
      "Successfully fetched: https://www.eurogamer.net/digitalfoundry-2023-lies-of-p-tech-review-ps5-and-series-x-s\n"
     ]
    },
    {
     "name": "stderr",
     "output_type": "stream",
     "text": [
      "Scraping Progress:   9%|▉         | 303/3302 [07:46<1:17:05,  1.54s/it]"
     ]
    },
    {
     "name": "stdout",
     "output_type": "stream",
     "text": [
      "Successfully fetched: https://www.theblaze.com/news/celebrity-tattoo-artist-kat-von-d-shares-baptism-video-following-her-renunciation-of-witchcraft-and-the-occult\n"
     ]
    },
    {
     "name": "stderr",
     "output_type": "stream",
     "text": [
      "Scraping Progress:   9%|▉         | 305/3302 [07:48<1:07:46,  1.36s/it]"
     ]
    },
    {
     "name": "stdout",
     "output_type": "stream",
     "text": [
      "Successfully fetched: https://www.mundodeportivo.com/ciclismo/vuelta-espana/20230910/1002066925/rui-costa-he-creido-mi.html\n"
     ]
    },
    {
     "name": "stderr",
     "output_type": "stream",
     "text": [
      "Scraping Progress:   9%|▉         | 307/3302 [07:51<1:12:16,  1.45s/it]"
     ]
    },
    {
     "name": "stdout",
     "output_type": "stream",
     "text": [
      "Successfully fetched: https://allthatsinteresting.com/hartford-circus-fire\n"
     ]
    },
    {
     "name": "stderr",
     "output_type": "stream",
     "text": [
      "Scraping Progress:   9%|▉         | 308/3302 [07:52<1:06:36,  1.33s/it]"
     ]
    },
    {
     "name": "stdout",
     "output_type": "stream",
     "text": [
      "Successfully fetched: https://www.newsweek.com/chris-jones-contract-lets-kansas-city-chiefs-focus-football-1826210\n"
     ]
    },
    {
     "name": "stderr",
     "output_type": "stream",
     "text": [
      "Scraping Progress:   9%|▉         | 309/3302 [07:54<1:03:56,  1.28s/it]"
     ]
    },
    {
     "name": "stdout",
     "output_type": "stream",
     "text": [
      "Successfully fetched: https://bleedingcool.com/tv/spy-x-family-s02-lets-follow-mama-and-papa-review-bulletproof-yor/\n"
     ]
    },
    {
     "name": "stderr",
     "output_type": "stream",
     "text": [
      "Scraping Progress:   9%|▉         | 310/3302 [07:55<1:00:22,  1.21s/it]"
     ]
    },
    {
     "name": "stdout",
     "output_type": "stream",
     "text": [
      "Successfully fetched: https://screenrant.com/nightwing-hold-vault-batgirl-ric-grayson/\n"
     ]
    },
    {
     "name": "stderr",
     "output_type": "stream",
     "text": [
      "Scraping Progress:   9%|▉         | 311/3302 [07:56<1:01:22,  1.23s/it]"
     ]
    },
    {
     "name": "stdout",
     "output_type": "stream",
     "text": [
      "Successfully fetched: https://screenrant.com/sacha-baron-cohen-mephisto-mcu-casting-rumor/\n"
     ]
    },
    {
     "name": "stderr",
     "output_type": "stream",
     "text": [
      "Scraping Progress:   9%|▉         | 312/3302 [07:57<1:02:09,  1.25s/it]"
     ]
    },
    {
     "name": "stdout",
     "output_type": "stream",
     "text": [
      "Successfully fetched: https://screenrant.com/ironheart-release-date-iron-man-replacement-2025/\n"
     ]
    },
    {
     "name": "stderr",
     "output_type": "stream",
     "text": [
      "Scraping Progress:   9%|▉         | 313/3302 [07:59<1:03:31,  1.28s/it]"
     ]
    },
    {
     "name": "stdout",
     "output_type": "stream",
     "text": [
      "Successfully fetched: https://screenrant.com/tom-holland-recasting-spider-man-freshman-year/\n"
     ]
    },
    {
     "name": "stderr",
     "output_type": "stream",
     "text": [
      "Scraping Progress:  10%|▉         | 314/3302 [08:00<1:03:12,  1.27s/it]"
     ]
    },
    {
     "name": "stdout",
     "output_type": "stream",
     "text": [
      "Successfully fetched: https://radaronline.com/p/doctors-ready-to-resuscitate-vladimir-putin-body-doubles-ready/\n"
     ]
    },
    {
     "name": "stderr",
     "output_type": "stream",
     "text": [
      "Scraping Progress:  10%|▉         | 315/3302 [08:03<1:27:54,  1.77s/it]"
     ]
    },
    {
     "name": "stdout",
     "output_type": "stream",
     "text": [
      "Successfully fetched: https://www.mcsweeneys.net/articles/for-my-next-death-defying-stunt-i-will-walk-across-this-crosswalk\n"
     ]
    },
    {
     "name": "stderr",
     "output_type": "stream",
     "text": [
      "Scraping Progress:  10%|▉         | 316/3302 [08:04<1:17:55,  1.57s/it]"
     ]
    },
    {
     "name": "stdout",
     "output_type": "stream",
     "text": [
      "Successfully fetched: https://www.newsweek.com/republican-congresswoman-threatens-resign-over-debt-commission-1831508\n"
     ]
    },
    {
     "name": "stderr",
     "output_type": "stream",
     "text": [
      "Scraping Progress:  10%|▉         | 317/3302 [08:05<1:11:48,  1.44s/it]"
     ]
    },
    {
     "name": "stdout",
     "output_type": "stream",
     "text": [
      "Successfully fetched: https://bloody-disgusting.com/video-games/3779828/soulslike-lies-of-p-available-today-on-pc-consoles-trailer/\n"
     ]
    },
    {
     "name": "stderr",
     "output_type": "stream",
     "text": [
      "Scraping Progress:  10%|▉         | 318/3302 [08:07<1:28:18,  1.78s/it]"
     ]
    },
    {
     "name": "stdout",
     "output_type": "stream",
     "text": [
      "Successfully fetched: https://politicalwire.com/2023/10/03/quote-of-the-day-3642/\n"
     ]
    },
    {
     "name": "stderr",
     "output_type": "stream",
     "text": [
      "Scraping Progress:  10%|▉         | 319/3302 [08:10<1:35:14,  1.92s/it]"
     ]
    },
    {
     "name": "stdout",
     "output_type": "stream",
     "text": [
      "Successfully fetched: https://crooksandliars.com/2023/10/judge-chutkan-asks-trump-if-he-wants-his\n"
     ]
    },
    {
     "name": "stderr",
     "output_type": "stream",
     "text": [
      "Scraping Progress:  10%|▉         | 320/3302 [08:11<1:27:14,  1.76s/it]"
     ]
    },
    {
     "name": "stdout",
     "output_type": "stream",
     "text": [
      "Successfully fetched: https://www.forbes.com/sites/alisondurkee/2023/10/18/judge-asks-trump-to-be-quiet-after-prosecutors-complain-about-him-commenting-on-fraud-trial/\n"
     ]
    },
    {
     "name": "stderr",
     "output_type": "stream",
     "text": [
      "Scraping Progress:  10%|▉         | 322/3302 [08:14<1:16:09,  1.53s/it]"
     ]
    },
    {
     "name": "stdout",
     "output_type": "stream",
     "text": [
      "Successfully fetched: http://sociological-eye.blogspot.com/2022/02/five-kinds-of-friends.html\n"
     ]
    },
    {
     "name": "stderr",
     "output_type": "stream",
     "text": [
      "Scraping Progress:  10%|▉         | 323/3302 [08:15<1:09:43,  1.40s/it]"
     ]
    },
    {
     "name": "stdout",
     "output_type": "stream",
     "text": [
      "Successfully fetched: https://www.gazzetta.it/Auto/14-09-2023/kubica-il-wec-una-nuova-sfida-generazione-d-oro-con-hamilton-ho-un-rimpianto-in-f1.shtml\n"
     ]
    },
    {
     "name": "stderr",
     "output_type": "stream",
     "text": [
      "Scraping Progress:  10%|▉         | 324/3302 [08:16<1:08:24,  1.38s/it]"
     ]
    },
    {
     "name": "stdout",
     "output_type": "stream",
     "text": [
      "Successfully fetched: https://www.bnr.nl/nieuws/internationaal/10528394/midden-oosten-toneel-van-intensief-diplomatiek-circus\n"
     ]
    },
    {
     "name": "stderr",
     "output_type": "stream",
     "text": [
      "Scraping Progress:  10%|▉         | 325/3302 [08:17<1:04:18,  1.30s/it]"
     ]
    },
    {
     "name": "stdout",
     "output_type": "stream",
     "text": [
      "Successfully fetched: https://www.gazzetta.it/scommesse/comparazione-quote/08-09-2023/motogp-misano-quote-pronostico-bagnaia-18360.shtml\n"
     ]
    },
    {
     "name": "stderr",
     "output_type": "stream",
     "text": [
      "Scraping Progress:  10%|▉         | 326/3302 [08:19<1:04:27,  1.30s/it]"
     ]
    },
    {
     "name": "stdout",
     "output_type": "stream",
     "text": [
      "Successfully fetched: https://www.gazzetta.it/motori/la-mia-auto/09-09-2023/il-motorhome-di-villeneuve-e-button-in-vendita.shtml\n"
     ]
    },
    {
     "name": "stderr",
     "output_type": "stream",
     "text": [
      "Scraping Progress:  10%|▉         | 327/3302 [08:20<1:03:11,  1.27s/it]"
     ]
    },
    {
     "name": "stdout",
     "output_type": "stream",
     "text": [
      "Successfully fetched: https://www.gazzetta.it/Formula-1/14-09-2023/f1-singapore-la-pista-ai-raggi-x-layout-piu-veloce-ma-attenti-alla-curva-14.shtml\n"
     ]
    },
    {
     "name": "stderr",
     "output_type": "stream",
     "text": [
      "Scraping Progress:  10%|▉         | 328/3302 [08:21<1:03:49,  1.29s/it]"
     ]
    },
    {
     "name": "stdout",
     "output_type": "stream",
     "text": [
      "Successfully fetched: https://www.gazzetta.it/Formula-1/16-10-2023/f1-leclerc-batte-verstappen-a-padel-e-intanto-festeggia-il-compleanno.shtml\n"
     ]
    },
    {
     "name": "stderr",
     "output_type": "stream",
     "text": [
      "Scraping Progress:  10%|▉         | 329/3302 [08:23<1:10:43,  1.43s/it]"
     ]
    },
    {
     "name": "stdout",
     "output_type": "stream",
     "text": [
      "Successfully fetched: https://www.gazzetta.it/Ciclismo/21-09-2023/granpiemonte-2023-percorso-e-programma.shtml\n"
     ]
    },
    {
     "name": "stderr",
     "output_type": "stream",
     "text": [
      "Scraping Progress:  10%|▉         | 330/3302 [08:25<1:14:30,  1.50s/it]"
     ]
    },
    {
     "name": "stdout",
     "output_type": "stream",
     "text": [
      "Successfully fetched: https://www.gazzetta.it/Formula-1/03-10-2023/f1-da-apple-offerta-da-un-miliardo-per-i-diritti-tv.shtml\n"
     ]
    },
    {
     "name": "stderr",
     "output_type": "stream",
     "text": [
      "Scraping Progress:  10%|█         | 331/3302 [08:26<1:09:55,  1.41s/it]"
     ]
    },
    {
     "name": "stdout",
     "output_type": "stream",
     "text": [
      "Successfully fetched: https://www.gazzetta.it/Auto/rally/19-10-2023/rally-wrc-2024-calendario-mondiale-date.shtml\n"
     ]
    },
    {
     "name": "stderr",
     "output_type": "stream",
     "text": [
      "Scraping Progress:  10%|█         | 332/3302 [08:27<1:06:51,  1.35s/it]"
     ]
    },
    {
     "name": "stdout",
     "output_type": "stream",
     "text": [
      "Successfully fetched: https://www.vitalmtb.com/news/press-release/manitou-introduces-all-new-circus-pro-34\n"
     ]
    },
    {
     "name": "stderr",
     "output_type": "stream",
     "text": [
      "Scraping Progress:  10%|█         | 333/3302 [08:30<1:26:59,  1.76s/it]"
     ]
    },
    {
     "name": "stdout",
     "output_type": "stream",
     "text": [
      "Successfully fetched: https://natalie.mu/music/news/540429\n"
     ]
    },
    {
     "name": "stderr",
     "output_type": "stream",
     "text": [
      "Scraping Progress:  10%|█         | 335/3302 [08:34<1:29:34,  1.81s/it]"
     ]
    },
    {
     "name": "stdout",
     "output_type": "stream",
     "text": [
      "Successfully fetched: https://consequence.net/2023/09/trailer-chicken-run-sequel-watch/\n"
     ]
    },
    {
     "name": "stderr",
     "output_type": "stream",
     "text": [
      "Scraping Progress:  10%|█         | 336/3302 [08:35<1:29:06,  1.80s/it]"
     ]
    },
    {
     "name": "stdout",
     "output_type": "stream",
     "text": [
      "Successfully fetched: https://breakingmuscle.com/2023-rogue-crossfit-invitational-results-laura-horvath-pat-vellner/\n"
     ]
    },
    {
     "name": "stderr",
     "output_type": "stream",
     "text": [
      "Scraping Progress:  10%|█         | 337/3302 [08:36<1:18:50,  1.60s/it]"
     ]
    },
    {
     "name": "stdout",
     "output_type": "stream",
     "text": [
      "Successfully fetched: https://www.espn.com/mma/story/_/id/38576678/3-eras-bellator-mma-tourneys-circuses-classic-fights-bellator-300\n"
     ]
    },
    {
     "name": "stderr",
     "output_type": "stream",
     "text": [
      "Scraping Progress:  10%|█         | 338/3302 [08:38<1:23:48,  1.70s/it]"
     ]
    },
    {
     "name": "stdout",
     "output_type": "stream",
     "text": [
      "Successfully fetched: https://gamebiz.jp/news/376542\n"
     ]
    },
    {
     "name": "stderr",
     "output_type": "stream",
     "text": [
      "Scraping Progress:  10%|█         | 340/3302 [08:42<1:21:06,  1.64s/it]"
     ]
    },
    {
     "name": "stdout",
     "output_type": "stream",
     "text": [
      "Successfully fetched: https://nypost.com/2023/10/14/anti-israel-protests-start-in-london-police-threaten-to-arrest-hamas-supporters/\n"
     ]
    },
    {
     "name": "stderr",
     "output_type": "stream",
     "text": [
      "Scraping Progress:  10%|█         | 341/3302 [08:43<1:14:00,  1.50s/it]"
     ]
    },
    {
     "name": "stdout",
     "output_type": "stream",
     "text": [
      "Successfully fetched: https://www.aljazeera.com/opinions/2023/9/14/britains-monarchy-is-dying-and-no-pr-can-save-it\n"
     ]
    },
    {
     "name": "stderr",
     "output_type": "stream",
     "text": [
      "Scraping Progress:  10%|█         | 342/3302 [08:44<1:07:37,  1.37s/it]"
     ]
    },
    {
     "name": "stdout",
     "output_type": "stream",
     "text": [
      "Successfully fetched: https://www.aljazeera.com/opinions/2023/10/5/canada-nazis-and-ukraine\n"
     ]
    },
    {
     "name": "stderr",
     "output_type": "stream",
     "text": [
      "Scraping Progress:  10%|█         | 343/3302 [08:45<1:03:17,  1.28s/it]"
     ]
    },
    {
     "name": "stdout",
     "output_type": "stream",
     "text": [
      "Successfully fetched: https://screenrant.com/five-nights-at-freddys-vanessa-daughter-elizabeth-lail-explained/\n"
     ]
    },
    {
     "name": "stderr",
     "output_type": "stream",
     "text": [
      "Scraping Progress:  10%|█         | 345/3302 [08:48<1:04:15,  1.30s/it]"
     ]
    },
    {
     "name": "stdout",
     "output_type": "stream",
     "text": [
      "Cannot fetch https://www.ad.nl/politiek/circus-pvv-trekt-van-kroeg-naar-kermis-geertje-for-president~af72f559/, HTTP error: 403 Client Error: Forbidden for url: https://www.ad.nl/politiek/circus-pvv-trekt-van-kroeg-naar-kermis-geertje-for-president~af72f559/\n"
     ]
    },
    {
     "name": "stderr",
     "output_type": "stream",
     "text": [
      "Scraping Progress:  10%|█         | 346/3302 [08:49<1:00:01,  1.22s/it]"
     ]
    },
    {
     "name": "stdout",
     "output_type": "stream",
     "text": [
      "Successfully fetched: https://www.rollingstone.com/tv-movies/tv-movie-features/the-state-reunion-tour-sketch-comedy-david-wain-ken-marino-gen-x-1234861139/\n"
     ]
    },
    {
     "name": "stderr",
     "output_type": "stream",
     "text": [
      "Scraping Progress:  11%|█         | 348/3302 [08:52<1:08:10,  1.38s/it]"
     ]
    },
    {
     "name": "stdout",
     "output_type": "stream",
     "text": [
      "Successfully fetched: https://www.marca.com/tiramillas/television/2023/10/25/6538357b268e3e3e4a8b4626.html\n"
     ]
    },
    {
     "name": "stderr",
     "output_type": "stream",
     "text": [
      "Scraping Progress:  11%|█         | 349/3302 [08:53<1:05:44,  1.34s/it]"
     ]
    },
    {
     "name": "stdout",
     "output_type": "stream",
     "text": [
      "Successfully fetched: https://www.siliconera.com/sega-will-set-up-an-arcade-game-booth-at-amusement-expo/\n"
     ]
    },
    {
     "name": "stderr",
     "output_type": "stream",
     "text": [
      "Scraping Progress:  11%|█         | 350/3302 [08:54<1:02:11,  1.26s/it]"
     ]
    },
    {
     "name": "stdout",
     "output_type": "stream",
     "text": [
      "Successfully fetched: https://www.cbsnews.com/news/this-week-on-sunday-morning-october-8-2023/\n"
     ]
    },
    {
     "name": "stderr",
     "output_type": "stream",
     "text": [
      "Scraping Progress:  11%|█         | 351/3302 [08:56<1:06:41,  1.36s/it]"
     ]
    },
    {
     "name": "stdout",
     "output_type": "stream",
     "text": [
      "Successfully fetched: http://www.thefutoncritic.com/news/2023/09/06/the-circus-returns-sunday-october-8-on-paramountplus-with-showtime-261512/20230906showtime01/\n"
     ]
    },
    {
     "name": "stderr",
     "output_type": "stream",
     "text": [
      "Scraping Progress:  11%|█         | 352/3302 [08:57<1:04:06,  1.30s/it]"
     ]
    },
    {
     "name": "stdout",
     "output_type": "stream",
     "text": [
      "Successfully fetched: https://crooksandliars.com/2023/09/trump-goes-full-cringe-debates-should-be\n"
     ]
    },
    {
     "name": "stderr",
     "output_type": "stream",
     "text": [
      "Scraping Progress:  11%|█         | 353/3302 [08:58<1:04:52,  1.32s/it]"
     ]
    },
    {
     "name": "stdout",
     "output_type": "stream",
     "text": [
      "Successfully fetched: https://www.metafilter.com/200841/It-isnt-lost-and-it-isnt-a-masterpiece\n"
     ]
    },
    {
     "name": "stderr",
     "output_type": "stream",
     "text": [
      "Scraping Progress:  11%|█         | 357/3302 [09:03<56:16,  1.15s/it]  "
     ]
    },
    {
     "name": "stdout",
     "output_type": "stream",
     "text": [
      "Successfully fetched: https://nypost.com/2023/10/03/victoria-and-david-beckham-break-silence-on-2003-cheating-rumors-it-was-a-nightmare/\n"
     ]
    },
    {
     "name": "stderr",
     "output_type": "stream",
     "text": [
      "Scraping Progress:  11%|█         | 358/3302 [09:05<1:07:22,  1.37s/it]"
     ]
    },
    {
     "name": "stdout",
     "output_type": "stream",
     "text": [
      "Successfully fetched: https://www.pjstar.com/story/business/briefs/2023/09/09/peoria-heights-coffee-shop-cafe-santa-rosa-holds-grand-opening/70795278007/\n"
     ]
    },
    {
     "name": "stderr",
     "output_type": "stream",
     "text": [
      "Scraping Progress:  11%|█         | 359/3302 [09:06<1:02:51,  1.28s/it]"
     ]
    },
    {
     "name": "stdout",
     "output_type": "stream",
     "text": [
      "Successfully fetched: https://www.latimes.com/california/story/2023-09-08/orange-unified-approves-parent-notification-child-transgender\n"
     ]
    },
    {
     "name": "stderr",
     "output_type": "stream",
     "text": [
      "Scraping Progress:  11%|█         | 360/3302 [09:07<1:06:09,  1.35s/it]"
     ]
    },
    {
     "name": "stdout",
     "output_type": "stream",
     "text": [
      "Successfully fetched: https://maisfutebol.iol.pt/ciclismo/rui-costa/ciclismo-rui-costa-ja-tem-nova-equipa\n"
     ]
    },
    {
     "name": "stderr",
     "output_type": "stream",
     "text": [
      "Scraping Progress:  11%|█         | 361/3302 [09:10<1:19:39,  1.63s/it]"
     ]
    },
    {
     "name": "stdout",
     "output_type": "stream",
     "text": [
      "Successfully fetched: https://www.theatlantic.com/magazine/archive/2023/11/madonna-hung-up-video-age-sexuality/675441/?utm_source=feed\n"
     ]
    },
    {
     "name": "stderr",
     "output_type": "stream",
     "text": [
      "Scraping Progress:  11%|█         | 362/3302 [09:11<1:20:36,  1.65s/it]"
     ]
    },
    {
     "name": "stdout",
     "output_type": "stream",
     "text": [
      "Successfully fetched: https://www.smithsonianmag.com/air-space-magazine/airliner-repair-247-9974457/\n"
     ]
    },
    {
     "name": "stderr",
     "output_type": "stream",
     "text": [
      "Scraping Progress:  11%|█         | 363/3302 [09:13<1:14:47,  1.53s/it]"
     ]
    },
    {
     "name": "stdout",
     "output_type": "stream",
     "text": [
      "Successfully fetched: https://jakeseliger.com/2023/08/30/turning-two-lives-into-one-or-things-that-worry-me-about-bess-after-im-gone/\n"
     ]
    },
    {
     "name": "stderr",
     "output_type": "stream",
     "text": [
      "Scraping Progress:  11%|█         | 364/3302 [09:14<1:10:26,  1.44s/it]"
     ]
    },
    {
     "name": "stdout",
     "output_type": "stream",
     "text": [
      "Successfully fetched: https://www.usatoday.com/story/news/nation/2023/09/28/5-things-podcast-gop-presidential-debate-shutdown-mel-tucker/70989801007/\n"
     ]
    },
    {
     "name": "stderr",
     "output_type": "stream",
     "text": [
      "Scraping Progress:  11%|█         | 365/3302 [09:15<1:11:18,  1.46s/it]"
     ]
    },
    {
     "name": "stdout",
     "output_type": "stream",
     "text": [
      "Successfully fetched: https://www.comingsoon.net/guides/news/1343784-deadpool-3-leaks-rumors-story-spoilers-cameos-ending-post-credits\n"
     ]
    },
    {
     "name": "stderr",
     "output_type": "stream",
     "text": [
      "Scraping Progress:  11%|█         | 366/3302 [09:16<1:05:56,  1.35s/it]"
     ]
    },
    {
     "name": "stdout",
     "output_type": "stream",
     "text": [
      "Successfully fetched: https://bleacherreport.com/articles/10093605-nhl-style-rankings-connor-bedard-makes-another-debut-amid-slew-of-fire-veteran-fits\n"
     ]
    },
    {
     "name": "stderr",
     "output_type": "stream",
     "text": [
      "Scraping Progress:  11%|█         | 367/3302 [09:18<1:04:58,  1.33s/it]"
     ]
    },
    {
     "name": "stdout",
     "output_type": "stream",
     "text": [
      "Successfully fetched: https://www.comingsoon.net/movies/news/1346127-the-expendables-4-reactions-slam-sequel-as-barely-watchable-instantly-forgettable\n"
     ]
    },
    {
     "name": "stderr",
     "output_type": "stream",
     "text": [
      "Scraping Progress:  11%|█         | 368/3302 [09:19<1:09:06,  1.41s/it]"
     ]
    },
    {
     "name": "stdout",
     "output_type": "stream",
     "text": [
      "Successfully fetched: https://www.comingsoon.net/movies/news/1344956-guillermo-del-toros-pinocchio-gets-a-4k-blu-ray-criterion-release\n"
     ]
    },
    {
     "name": "stderr",
     "output_type": "stream",
     "text": [
      "Scraping Progress:  11%|█         | 369/3302 [09:21<1:13:25,  1.50s/it]"
     ]
    },
    {
     "name": "stdout",
     "output_type": "stream",
     "text": [
      "Successfully fetched: https://www.comingsoon.net/guides/news/1361183-hugh-jackman-movies-tv-shows-list-2023-x-men-logan\n"
     ]
    },
    {
     "name": "stderr",
     "output_type": "stream",
     "text": [
      "Scraping Progress:  11%|█         | 370/3302 [09:22<1:07:16,  1.38s/it]"
     ]
    },
    {
     "name": "stdout",
     "output_type": "stream",
     "text": [
      "Successfully fetched: https://kotaku.com/baldurs-gate-3-d-d-rpg-patch-notes-update-ps5-xbox-1850865062\n"
     ]
    },
    {
     "name": "stderr",
     "output_type": "stream",
     "text": [
      "Scraping Progress:  11%|█         | 371/3302 [09:24<1:20:47,  1.65s/it]"
     ]
    },
    {
     "name": "stdout",
     "output_type": "stream",
     "text": [
      "Successfully fetched: https://indianexpress.com/article/cities/mumbai/south-mumbais-107-year-old-parsi-dairy-farm-new-avatar-8932101/\n"
     ]
    },
    {
     "name": "stderr",
     "output_type": "stream",
     "text": [
      "Scraping Progress:  11%|█▏        | 372/3302 [09:26<1:23:55,  1.72s/it]"
     ]
    },
    {
     "name": "stdout",
     "output_type": "stream",
     "text": [
      "Successfully fetched: https://www.anothermag.com/art-photography/15128/mary-ellen-mark-encounters-exhibition-c-o-berlin-review?utm_source=Link&utm_medium=Link&utm_campaign=RSSFeed&utm_term=the-story-behind-five-of-mary-ellen-mark-s-most-seminal-photos\n"
     ]
    },
    {
     "name": "stderr",
     "output_type": "stream",
     "text": [
      "Scraping Progress:  11%|█▏        | 373/3302 [09:27<1:14:17,  1.52s/it]"
     ]
    },
    {
     "name": "stdout",
     "output_type": "stream",
     "text": [
      "Successfully fetched: https://indianexpress.com/article/political-pulse/newsmaker-face-tmcs-tollywood-brigade-nusrat-jahan-latest-tmc-leader-ed-summons-8931966/\n"
     ]
    },
    {
     "name": "stderr",
     "output_type": "stream",
     "text": [
      "Scraping Progress:  11%|█▏        | 374/3302 [09:29<1:20:26,  1.65s/it]"
     ]
    },
    {
     "name": "stdout",
     "output_type": "stream",
     "text": [
      "Cannot fetch https://www.boyculture.com/boy_culture/2023/10/gay-male-nudity-auction-stompers-circus-books-fellow-travelers-bailey-bomer-drag.html, HTTP error: 403 Client Error: Forbidden for url: https://www.boyculture.com/boy_culture/2023/10/gay-male-nudity-auction-stompers-circus-books-fellow-travelers-bailey-bomer-drag.html\n"
     ]
    },
    {
     "name": "stderr",
     "output_type": "stream",
     "text": [
      "Scraping Progress:  11%|█▏        | 375/3302 [09:30<1:12:18,  1.48s/it]"
     ]
    },
    {
     "name": "stdout",
     "output_type": "stream",
     "text": [
      "Successfully fetched: https://screenrant.com/baldurs-gate-3-lower-city-act-3-bg3/\n"
     ]
    },
    {
     "name": "stderr",
     "output_type": "stream",
     "text": [
      "Scraping Progress:  11%|█▏        | 376/3302 [09:32<1:10:58,  1.46s/it]"
     ]
    },
    {
     "name": "stdout",
     "output_type": "stream",
     "text": [
      "Successfully fetched: https://screenrant.com/10-jobs-avengers-marvel-comics/\n"
     ]
    },
    {
     "name": "stderr",
     "output_type": "stream",
     "text": [
      "Scraping Progress:  11%|█▏        | 377/3302 [09:33<1:08:00,  1.40s/it]"
     ]
    },
    {
     "name": "stdout",
     "output_type": "stream",
     "text": [
      "Successfully fetched: https://www.elmundo.es/metropoli/gastronomia/2023/09/05/64c8e086fc6c8354118b45b8.html\n"
     ]
    },
    {
     "name": "stderr",
     "output_type": "stream",
     "text": [
      "Scraping Progress:  11%|█▏        | 378/3302 [09:34<1:05:26,  1.34s/it]"
     ]
    },
    {
     "name": "stdout",
     "output_type": "stream",
     "text": [
      "Successfully fetched: https://www.disneyfoodblog.com/2023/10/20/6-places-where-dfb-reporters-hide-when-they-need-a-break-in-magic-kingdom/\n"
     ]
    },
    {
     "name": "stderr",
     "output_type": "stream",
     "text": [
      "Scraping Progress:  11%|█▏        | 379/3302 [09:36<1:11:35,  1.47s/it]"
     ]
    },
    {
     "name": "stdout",
     "output_type": "stream",
     "text": [
      "Successfully fetched: https://www.metafilter.com/200883/this-language-will-never-hurt-you-as-much-as-it-has-hurt-me\n"
     ]
    },
    {
     "name": "stderr",
     "output_type": "stream",
     "text": [
      "Scraping Progress:  12%|█▏        | 380/3302 [09:37<1:08:48,  1.41s/it]"
     ]
    },
    {
     "name": "stdout",
     "output_type": "stream",
     "text": [
      "Successfully fetched: https://www.bostonglobe.com/2023/10/09/arts/husband-and-wife-duo-daredevil-chicken-are-wedded-comedy/\n"
     ]
    },
    {
     "name": "stderr",
     "output_type": "stream",
     "text": [
      "Scraping Progress:  12%|█▏        | 381/3302 [09:39<1:15:34,  1.55s/it]"
     ]
    },
    {
     "name": "stdout",
     "output_type": "stream",
     "text": [
      "Successfully fetched: https://toucharcade.com/2023/09/12/tmnt-dimension-shellshock-dlc-switch-review-radiant-tale-otome-akibas-trip-directors-cut-eshop-discount-price/\n"
     ]
    },
    {
     "name": "stderr",
     "output_type": "stream",
     "text": [
      "Scraping Progress:  12%|█▏        | 382/3302 [09:41<1:19:18,  1.63s/it]"
     ]
    },
    {
     "name": "stdout",
     "output_type": "stream",
     "text": [
      "Successfully fetched: https://www.indiewire.com/news/festivals/2023-doc-nyc-lineup-1234915803/\n"
     ]
    },
    {
     "name": "stderr",
     "output_type": "stream",
     "text": [
      "Scraping Progress:  12%|█▏        | 383/3302 [09:43<1:20:32,  1.66s/it]"
     ]
    },
    {
     "name": "stdout",
     "output_type": "stream",
     "text": [
      "Successfully fetched: https://politiken.dk/sport/cykling/art9522051/Der-bliver-stillet-sp%C3%B8rgsm%C3%A5lstegn-ved-Vingegaards-ydmyge-image-efter-bjergetape\n"
     ]
    },
    {
     "name": "stderr",
     "output_type": "stream",
     "text": [
      "Scraping Progress:  12%|█▏        | 386/3302 [09:47<1:15:13,  1.55s/it]"
     ]
    },
    {
     "name": "stdout",
     "output_type": "stream",
     "text": [
      "Successfully fetched: https://www.kicker.de/molano-veredelt-perfekte-anfahrt-im-sprint-groves-verpasst-dritten-sieg-967566/artikel\n"
     ]
    },
    {
     "name": "stderr",
     "output_type": "stream",
     "text": [
      "Scraping Progress:  12%|█▏        | 389/3302 [09:51<1:00:18,  1.24s/it]"
     ]
    },
    {
     "name": "stdout",
     "output_type": "stream",
     "text": [
      "Successfully fetched: https://www.rt.com/news/585093-meps-train-disneyland-affair/\n"
     ]
    },
    {
     "name": "stderr",
     "output_type": "stream",
     "text": [
      "Scraping Progress:  12%|█▏        | 390/3302 [09:53<1:12:49,  1.50s/it]"
     ]
    },
    {
     "name": "stdout",
     "output_type": "stream",
     "text": [
      "Successfully fetched: https://prtimes.jp/main/html/rd/p/000001607.000016751.html\n"
     ]
    },
    {
     "name": "stderr",
     "output_type": "stream",
     "text": [
      "Scraping Progress:  12%|█▏        | 391/3302 [09:54<1:10:49,  1.46s/it]"
     ]
    },
    {
     "name": "stdout",
     "output_type": "stream",
     "text": [
      "Successfully fetched: https://www.ilsole24ore.com/art/verstappen-texas-arriva-quota-50-successi-quinto-sempre-formula-1-AFm6PwLB\n"
     ]
    },
    {
     "name": "stderr",
     "output_type": "stream",
     "text": [
      "Scraping Progress:  12%|█▏        | 393/3302 [09:57<1:09:26,  1.43s/it]"
     ]
    },
    {
     "name": "stdout",
     "output_type": "stream",
     "text": [
      "Successfully fetched: https://www.educatorstechnology.com/2023/10/hilarious-retirement-jokes.html\n"
     ]
    },
    {
     "name": "stderr",
     "output_type": "stream",
     "text": [
      "Scraping Progress:  12%|█▏        | 394/3302 [09:59<1:14:59,  1.55s/it]"
     ]
    },
    {
     "name": "stdout",
     "output_type": "stream",
     "text": [
      "Successfully fetched: https://jalopnik.com/energica-rider-first-ever-electric-podium-motoamerica-1850825442\n"
     ]
    },
    {
     "name": "stderr",
     "output_type": "stream",
     "text": [
      "Scraping Progress:  12%|█▏        | 395/3302 [10:00<1:10:35,  1.46s/it]"
     ]
    },
    {
     "name": "stdout",
     "output_type": "stream",
     "text": [
      "Successfully fetched: https://jalopnik.com/brad-pitt-f1-movie-missed-one-vital-pit-stop-step-tires-1850818080\n"
     ]
    },
    {
     "name": "stderr",
     "output_type": "stream",
     "text": [
      "Scraping Progress:  12%|█▏        | 396/3302 [10:02<1:07:15,  1.39s/it]"
     ]
    },
    {
     "name": "stdout",
     "output_type": "stream",
     "text": [
      "Successfully fetched: https://www.techradar.com/streaming/7-new-movies-and-tv-shows-to-stream-on-netflix-prime-video-max-and-more-this-weekend-october-27-2023\n"
     ]
    },
    {
     "name": "stderr",
     "output_type": "stream",
     "text": [
      "Scraping Progress:  12%|█▏        | 397/3302 [10:03<1:04:58,  1.34s/it]"
     ]
    },
    {
     "name": "stdout",
     "output_type": "stream",
     "text": [
      "Successfully fetched: https://prtimes.jp/main/html/rd/p/000000007.000112170.html\n"
     ]
    },
    {
     "name": "stderr",
     "output_type": "stream",
     "text": [
      "Scraping Progress:  12%|█▏        | 398/3302 [10:04<1:04:46,  1.34s/it]"
     ]
    },
    {
     "name": "stdout",
     "output_type": "stream",
     "text": [
      "Successfully fetched: https://www.rt.com/news/585993-ivanka-trump-fraud-trial/\n"
     ]
    },
    {
     "name": "stderr",
     "output_type": "stream",
     "text": [
      "Scraping Progress:  12%|█▏        | 399/3302 [10:06<1:09:00,  1.43s/it]"
     ]
    },
    {
     "name": "stdout",
     "output_type": "stream",
     "text": [
      "Successfully fetched: https://gamebiz.jp/news/374260\n"
     ]
    },
    {
     "name": "stderr",
     "output_type": "stream",
     "text": [
      "Scraping Progress:  12%|█▏        | 400/3302 [10:08<1:23:20,  1.72s/it]"
     ]
    },
    {
     "name": "stdout",
     "output_type": "stream",
     "text": [
      "Successfully fetched: https://mises.org/events/white-house-fed-and-economy-mises-circle-fort-myers-fl\n"
     ]
    },
    {
     "name": "stderr",
     "output_type": "stream",
     "text": [
      "Scraping Progress:  12%|█▏        | 402/3302 [10:10<1:06:27,  1.38s/it]"
     ]
    },
    {
     "name": "stdout",
     "output_type": "stream",
     "text": [
      "Successfully fetched: https://radaronline.com/p/britney-spears-slams-kevin-federline-failed-rap-career-wished-more-present-marriage/\n"
     ]
    },
    {
     "name": "stderr",
     "output_type": "stream",
     "text": [
      "Scraping Progress:  12%|█▏        | 403/3302 [10:11<1:01:22,  1.27s/it]"
     ]
    },
    {
     "name": "stdout",
     "output_type": "stream",
     "text": [
      "Successfully fetched: https://www.forbes.com/sites/alisondurkee/2023/10/25/trump-ex-fixer-michael-cohen-admits-to-lying-under-oath-in-testy-fraud-trial-testimony/\n"
     ]
    },
    {
     "name": "stderr",
     "output_type": "stream",
     "text": [
      "Scraping Progress:  12%|█▏        | 404/3302 [10:13<1:09:17,  1.43s/it]"
     ]
    },
    {
     "name": "stdout",
     "output_type": "stream",
     "text": [
      "Successfully fetched: https://consequence.net/2023/10/steve-riley-drummer-w-a-s-p-l-a-guns-dead/\n"
     ]
    },
    {
     "name": "stderr",
     "output_type": "stream",
     "text": [
      "Scraping Progress:  12%|█▏        | 405/3302 [10:14<1:03:35,  1.32s/it]"
     ]
    },
    {
     "name": "stdout",
     "output_type": "stream",
     "text": [
      "Cannot fetch https://www.channelnewsasia.com/sport/costa-wins-vuelta-stage-15-sprint-finish-3760246, HTTP error: 404 Client Error: Not Found for url: https://www.channelnewsasia.com/sport/costa-wins-vuelta-stage-15-sprint-finish-3760246\n"
     ]
    },
    {
     "name": "stderr",
     "output_type": "stream",
     "text": [
      "Scraping Progress:  12%|█▏        | 406/3302 [10:17<1:23:43,  1.73s/it]"
     ]
    },
    {
     "name": "stdout",
     "output_type": "stream",
     "text": [
      "Successfully fetched: https://www.forbes.com/sites/kaeliconforti/2023/10/30/how-us-theme-parks-are-celebrating-halloween-this-year/\n"
     ]
    },
    {
     "name": "stderr",
     "output_type": "stream",
     "text": [
      "Scraping Progress:  12%|█▏        | 407/3302 [10:19<1:25:22,  1.77s/it]"
     ]
    },
    {
     "name": "stdout",
     "output_type": "stream",
     "text": [
      "Successfully fetched: https://bleedingcool.com/comics/jessica-martin-doctor-who-graphic-novels-mother-goose-mcm/\n"
     ]
    },
    {
     "name": "stderr",
     "output_type": "stream",
     "text": [
      "Scraping Progress:  12%|█▏        | 408/3302 [10:20<1:15:04,  1.56s/it]"
     ]
    },
    {
     "name": "stdout",
     "output_type": "stream",
     "text": [
      "Successfully fetched: https://www.blogto.com/travel/2023/09/pingles-farm-ontario/\n"
     ]
    },
    {
     "name": "stderr",
     "output_type": "stream",
     "text": [
      "Scraping Progress:  12%|█▏        | 409/3302 [10:21<1:11:21,  1.48s/it]"
     ]
    },
    {
     "name": "stdout",
     "output_type": "stream",
     "text": [
      "Successfully fetched: https://www.blogto.com/city/2023/10/video-brampton-drivers-crash-empty-parking-lot/\n"
     ]
    },
    {
     "name": "stderr",
     "output_type": "stream",
     "text": [
      "Scraping Progress:  12%|█▏        | 410/3302 [10:22<1:09:27,  1.44s/it]"
     ]
    },
    {
     "name": "stdout",
     "output_type": "stream",
     "text": [
      "Successfully fetched: https://xlr8r.com/news/portable-next-on-circus-company-with-new-album/\n"
     ]
    },
    {
     "name": "stderr",
     "output_type": "stream",
     "text": [
      "Scraping Progress:  12%|█▏        | 411/3302 [10:24<1:07:51,  1.41s/it]"
     ]
    },
    {
     "name": "stdout",
     "output_type": "stream",
     "text": [
      "Successfully fetched: https://partiallyexaminedlife.com/2023/09/16/pvi61-team-play-adal-rifai-jenny-hansen/\n"
     ]
    },
    {
     "name": "stderr",
     "output_type": "stream",
     "text": [
      "Scraping Progress:  12%|█▏        | 412/3302 [10:26<1:23:21,  1.73s/it]"
     ]
    },
    {
     "name": "stdout",
     "output_type": "stream",
     "text": [
      "Successfully fetched: https://legalinsurrection.com/2023/10/hunter-biden-in-court-expected-to-plead-not-guilty-to-gun-charges/\n"
     ]
    },
    {
     "name": "stderr",
     "output_type": "stream",
     "text": [
      "Scraping Progress:  13%|█▎        | 413/3302 [10:28<1:23:43,  1.74s/it]"
     ]
    },
    {
     "name": "stdout",
     "output_type": "stream",
     "text": [
      "Successfully fetched: https://app.famitsu.com/20230904_2126493/\n"
     ]
    },
    {
     "name": "stderr",
     "output_type": "stream",
     "text": [
      "Scraping Progress:  13%|█▎        | 414/3302 [10:32<1:55:05,  2.39s/it]"
     ]
    },
    {
     "name": "stdout",
     "output_type": "stream",
     "text": [
      "Successfully fetched: https://www.globalsecurity.org/military/library/news/2023/10/mil-231016-rferl04.htm\n"
     ]
    },
    {
     "name": "stderr",
     "output_type": "stream",
     "text": [
      "Scraping Progress:  13%|█▎        | 415/3302 [10:33<1:35:41,  1.99s/it]"
     ]
    },
    {
     "name": "stdout",
     "output_type": "stream",
     "text": [
      "Successfully fetched: https://prtimes.jp/main/html/rd/p/000002147.000013972.html\n"
     ]
    },
    {
     "name": "stderr",
     "output_type": "stream",
     "text": [
      "Scraping Progress:  13%|█▎        | 416/3302 [10:34<1:25:56,  1.79s/it]"
     ]
    },
    {
     "name": "stdout",
     "output_type": "stream",
     "text": [
      "Successfully fetched: https://la.eater.com/2023/9/18/23875232/evan-funke-las-vegas-restaurant-opening-mother-wolf-am-intel-los-angeles\n"
     ]
    },
    {
     "name": "stderr",
     "output_type": "stream",
     "text": [
      "Scraping Progress:  13%|█▎        | 417/3302 [10:37<1:34:09,  1.96s/it]"
     ]
    },
    {
     "name": "stdout",
     "output_type": "stream",
     "text": [
      "Successfully fetched: https://www.bbc.com/news/uk-england-london-66733420?xtor=AL-72-%5Bpartner%5D-%5Byahoo.north.america%5D-%5Bheadline%5D-%5Bnews%5D-%5Bbizdev%5D-%5Bisapi%5D\n"
     ]
    },
    {
     "name": "stderr",
     "output_type": "stream",
     "text": [
      "Scraping Progress:  13%|█▎        | 419/3302 [10:39<1:16:26,  1.59s/it]"
     ]
    },
    {
     "name": "stdout",
     "output_type": "stream",
     "text": [
      "Successfully fetched: https://www.mentalfloss.com/posts/scariest-haunted-attraction-in-all-50-states\n"
     ]
    },
    {
     "name": "stderr",
     "output_type": "stream",
     "text": [
      "Scraping Progress:  13%|█▎        | 421/3302 [10:42<1:09:08,  1.44s/it]"
     ]
    },
    {
     "name": "stdout",
     "output_type": "stream",
     "text": [
      "Successfully fetched: https://www.memeorandum.com/231009/p22\n"
     ]
    },
    {
     "name": "stderr",
     "output_type": "stream",
     "text": [
      "Scraping Progress:  13%|█▎        | 422/3302 [10:44<1:13:01,  1.52s/it]"
     ]
    },
    {
     "name": "stdout",
     "output_type": "stream",
     "text": [
      "Successfully fetched: https://www.queerty.com/melanias-power-move-ron-dont-say-gay-desantis-dirty-little-secret-hillary-clinton-unleashes-20231007\n"
     ]
    },
    {
     "name": "stderr",
     "output_type": "stream",
     "text": [
      "Scraping Progress:  13%|█▎        | 423/3302 [10:46<1:32:45,  1.93s/it]"
     ]
    },
    {
     "name": "stdout",
     "output_type": "stream",
     "text": [
      "Successfully fetched: https://www.mentalfloss.com/posts/roald-amundsen-facts\n"
     ]
    },
    {
     "name": "stderr",
     "output_type": "stream",
     "text": [
      "Scraping Progress:  13%|█▎        | 425/3302 [10:49<1:13:35,  1.53s/it]"
     ]
    },
    {
     "name": "stdout",
     "output_type": "stream",
     "text": [
      "Successfully fetched: https://www.mundodeportivo.com/ciclismo/20231011/1002085513/polemica-gesto-racista-ofensivo-intermarche-expulsa-dos-corredores-tour-guangxi.html\n"
     ]
    },
    {
     "name": "stderr",
     "output_type": "stream",
     "text": [
      "Scraping Progress:  13%|█▎        | 426/3302 [10:50<1:10:03,  1.46s/it]"
     ]
    },
    {
     "name": "stdout",
     "output_type": "stream",
     "text": [
      "Successfully fetched: https://www.dazeddigital.com/fashion/article/60822/1/burberry-streets-normans-lfw-caff-takeover-london-daniel-lee-aw23-collection\n"
     ]
    },
    {
     "name": "stderr",
     "output_type": "stream",
     "text": [
      "Scraping Progress:  13%|█▎        | 428/3302 [10:53<1:05:25,  1.37s/it]"
     ]
    },
    {
     "name": "stdout",
     "output_type": "stream",
     "text": [
      "Successfully fetched: https://www.gq.com/story/the-curse-is-must-cringe-tv\n"
     ]
    },
    {
     "name": "stderr",
     "output_type": "stream",
     "text": [
      "Scraping Progress:  13%|█▎        | 429/3302 [10:58<2:02:05,  2.55s/it]"
     ]
    },
    {
     "name": "stdout",
     "output_type": "stream",
     "text": [
      "Successfully fetched: https://crooksandliars.com/2023/10/matt-gaetz-celebrates-extremist-mike-johnson\n"
     ]
    },
    {
     "name": "stderr",
     "output_type": "stream",
     "text": [
      "Scraping Progress:  13%|█▎        | 430/3302 [10:59<1:45:11,  2.20s/it]"
     ]
    },
    {
     "name": "stdout",
     "output_type": "stream",
     "text": [
      "Successfully fetched: https://nypost.com/video/how-to-win-down-the-clown-watch-this-arcade-master/\n"
     ]
    },
    {
     "name": "stderr",
     "output_type": "stream",
     "text": [
      "Scraping Progress:  13%|█▎        | 431/3302 [11:01<1:37:47,  2.04s/it]"
     ]
    },
    {
     "name": "stdout",
     "output_type": "stream",
     "text": [
      "Successfully fetched: https://www.gazzetta.it/automobilismo/Formula-E/19-10-2023/formula-e-c-e-il-calendario-ufficiale-2024-torna-la-cina-roma-a-rischio.shtml\n"
     ]
    },
    {
     "name": "stderr",
     "output_type": "stream",
     "text": [
      "Scraping Progress:  13%|█▎        | 433/3302 [11:03<1:18:05,  1.63s/it]"
     ]
    },
    {
     "name": "stdout",
     "output_type": "stream",
     "text": [
      "Successfully fetched: https://www.psychologytoday.com/intl/blog/priceless/202310/horse-sense-about-ai\n"
     ]
    },
    {
     "name": "stderr",
     "output_type": "stream",
     "text": [
      "Scraping Progress:  13%|█▎        | 434/3302 [11:04<1:09:51,  1.46s/it]"
     ]
    },
    {
     "name": "stdout",
     "output_type": "stream",
     "text": [
      "Successfully fetched: https://www.gazzetta.it/Formula-1/02-10-2023/vettel-non-esclude-un-ritorno-in-f1.shtml\n"
     ]
    },
    {
     "name": "stderr",
     "output_type": "stream",
     "text": [
      "Scraping Progress:  13%|█▎        | 435/3302 [11:06<1:17:07,  1.61s/it]"
     ]
    },
    {
     "name": "stdout",
     "output_type": "stream",
     "text": [
      "Cannot fetch https://www.gazzetta.it/Formula-1/28-09-2023/il-dominio-non-fa-bene-alla-f1-contatti-social-crollati-nel-2023.shtml, HTTP error: 404 Client Error: Not Found for url: https://www.gazzetta.it/Formula-1/28-09-2023/il-dominio-non-fa-bene-alla-f1-contatti-social-crollati-nel-2023.shtml\n"
     ]
    },
    {
     "name": "stderr",
     "output_type": "stream",
     "text": [
      "Scraping Progress:  13%|█▎        | 436/3302 [11:08<1:11:17,  1.49s/it]"
     ]
    },
    {
     "name": "stdout",
     "output_type": "stream",
     "text": [
      "Successfully fetched: https://www.gazzetta.it/Formula-1/02-10-2023/f1-team-andretti-la-fia-da-l-ok-al-via-le-difficili-trattative-con-liberty-media.shtml\n"
     ]
    },
    {
     "name": "stderr",
     "output_type": "stream",
     "text": [
      "Scraping Progress:  13%|█▎        | 437/3302 [11:09<1:07:07,  1.41s/it]"
     ]
    },
    {
     "name": "stdout",
     "output_type": "stream",
     "text": [
      "Successfully fetched: https://www.barks.jp/news/?id=1000240157#utm_source=feed_news&utm_medium=feed&utm_campaign=feed\n"
     ]
    },
    {
     "name": "stderr",
     "output_type": "stream",
     "text": [
      "Scraping Progress:  13%|█▎        | 438/3302 [11:11<1:13:17,  1.54s/it]"
     ]
    },
    {
     "name": "stdout",
     "output_type": "stream",
     "text": [
      "Successfully fetched: https://www.fark.com/comments/13012784/The-Gracehoper-was-always-jigging-ajog-hoppy-on-akkant-of-his-joyicity-James-Joyce-Finnegans-Wake-This-is-your-Fark-Writers-Thread-Wake-Bake-Edition\n"
     ]
    },
    {
     "name": "stderr",
     "output_type": "stream",
     "text": [
      "Scraping Progress:  13%|█▎        | 439/3302 [11:12<1:14:21,  1.56s/it]"
     ]
    },
    {
     "name": "stdout",
     "output_type": "stream",
     "text": [
      "Successfully fetched: https://www.huffpost.com/entry/justin-bieber-hailey-fifth-wedding-anniversary-tribute_n_6503288ee4b01df7c3b6fe77\n"
     ]
    },
    {
     "name": "stderr",
     "output_type": "stream",
     "text": [
      "Scraping Progress:  13%|█▎        | 440/3302 [11:13<1:06:58,  1.40s/it]"
     ]
    },
    {
     "name": "stdout",
     "output_type": "stream",
     "text": [
      "Successfully fetched: https://prtimes.jp/main/html/rd/p/000000003.000117818.html\n"
     ]
    },
    {
     "name": "stderr",
     "output_type": "stream",
     "text": [
      "Scraping Progress:  13%|█▎        | 441/3302 [11:15<1:06:21,  1.39s/it]"
     ]
    },
    {
     "name": "stdout",
     "output_type": "stream",
     "text": [
      "Successfully fetched: https://paultan.org/2023/10/02/2023-motogp-marquez-wins-third-in-rainy-motegi/\n"
     ]
    },
    {
     "name": "stderr",
     "output_type": "stream",
     "text": [
      "Scraping Progress:  13%|█▎        | 442/3302 [11:16<1:12:19,  1.52s/it]"
     ]
    },
    {
     "name": "stdout",
     "output_type": "stream",
     "text": [
      "Successfully fetched: https://www.barks.jp/news/?id=1000240840#utm_source=feed_news&utm_medium=feed&utm_campaign=feed\n"
     ]
    },
    {
     "name": "stderr",
     "output_type": "stream",
     "text": [
      "Scraping Progress:  13%|█▎        | 444/3302 [11:19<1:09:57,  1.47s/it]"
     ]
    },
    {
     "name": "stdout",
     "output_type": "stream",
     "text": [
      "Successfully fetched: https://bleedingcool.com/games/windjammers-2-receives-all-new-free-dlc-update/\n"
     ]
    },
    {
     "name": "stderr",
     "output_type": "stream",
     "text": [
      "Scraping Progress:  13%|█▎        | 445/3302 [11:21<1:03:47,  1.34s/it]"
     ]
    },
    {
     "name": "stdout",
     "output_type": "stream",
     "text": [
      "Successfully fetched: https://prtimes.jp/main/html/rd/p/000000215.000016877.html\n"
     ]
    },
    {
     "name": "stderr",
     "output_type": "stream",
     "text": [
      "Scraping Progress:  14%|█▎        | 447/3302 [11:23<58:48,  1.24s/it]  "
     ]
    },
    {
     "name": "stdout",
     "output_type": "stream",
     "text": [
      "Successfully fetched: https://consequence.net/2023/09/travis-scott-phone-ocean-astroworld-trial/\n"
     ]
    },
    {
     "name": "stderr",
     "output_type": "stream",
     "text": [
      "Scraping Progress:  14%|█▎        | 448/3302 [11:25<1:07:22,  1.42s/it]"
     ]
    },
    {
     "name": "stdout",
     "output_type": "stream",
     "text": [
      "Successfully fetched: https://www.creativebloq.com/features/best-movie-logos\n"
     ]
    },
    {
     "name": "stderr",
     "output_type": "stream",
     "text": [
      "Scraping Progress:  14%|█▎        | 449/3302 [11:26<1:05:01,  1.37s/it]"
     ]
    },
    {
     "name": "stdout",
     "output_type": "stream",
     "text": [
      "Successfully fetched: https://en.wikipedia.org/wiki/History_of_Google\n"
     ]
    },
    {
     "name": "stderr",
     "output_type": "stream",
     "text": [
      "Scraping Progress:  14%|█▎        | 450/3302 [11:27<1:03:40,  1.34s/it]"
     ]
    },
    {
     "name": "stdout",
     "output_type": "stream",
     "text": [
      "Successfully fetched: https://www.espn.com/blog/new-orleans-saints/post/_/id/36388/saints-trio-of-thomas-olave-shaheed-making-difference\n"
     ]
    },
    {
     "name": "stderr",
     "output_type": "stream",
     "text": [
      "Scraping Progress:  14%|█▎        | 452/3302 [11:30<59:49,  1.26s/it]  "
     ]
    },
    {
     "name": "stdout",
     "output_type": "stream",
     "text": [
      "Successfully fetched: https://www.forbes.com/sites/investor/2023/09/22/sp-500-and-nasdaq-frightening-double-double-top/\n"
     ]
    },
    {
     "name": "stderr",
     "output_type": "stream",
     "text": [
      "Scraping Progress:  14%|█▎        | 453/3302 [11:31<1:07:53,  1.43s/it]"
     ]
    },
    {
     "name": "stdout",
     "output_type": "stream",
     "text": [
      "Successfully fetched: https://www.forbes.com/sites/ianquillen/2023/09/21/criticizing-tata-martino-after-messi-injury-scare-misses-the-point/\n"
     ]
    },
    {
     "name": "stderr",
     "output_type": "stream",
     "text": [
      "Scraping Progress:  14%|█▎        | 454/3302 [11:33<1:14:11,  1.56s/it]"
     ]
    },
    {
     "name": "stdout",
     "output_type": "stream",
     "text": [
      "Successfully fetched: https://www.forbes.com/sites/alisondurkee/2023/10/12/trump-will-attend-nyc-fraud-trial-next-week-reports-say/\n"
     ]
    },
    {
     "name": "stderr",
     "output_type": "stream",
     "text": [
      "Scraping Progress:  14%|█▍        | 455/3302 [11:34<1:06:44,  1.41s/it]"
     ]
    },
    {
     "name": "stdout",
     "output_type": "stream",
     "text": [
      "Successfully fetched: https://www.forbes.com/sites/tonifitzgerald/2023/10/12/where-to-find-striking-actors-this-fall-on-your-bookshelf/\n"
     ]
    },
    {
     "name": "stderr",
     "output_type": "stream",
     "text": [
      "Scraping Progress:  14%|█▍        | 457/3302 [11:38<1:13:10,  1.54s/it]"
     ]
    },
    {
     "name": "stdout",
     "output_type": "stream",
     "text": [
      "Successfully fetched: https://prtimes.jp/main/html/rd/p/000000208.000032099.html\n"
     ]
    },
    {
     "name": "stderr",
     "output_type": "stream",
     "text": [
      "Scraping Progress:  14%|█▍        | 458/3302 [11:39<1:10:20,  1.48s/it]"
     ]
    },
    {
     "name": "stdout",
     "output_type": "stream",
     "text": [
      "Successfully fetched: https://www.forbes.com/sites/garystern/2023/09/28/caffe-palermo-expanding-and-keeping-little-italy-vibrant/\n"
     ]
    },
    {
     "name": "stderr",
     "output_type": "stream",
     "text": [
      "Scraping Progress:  14%|█▍        | 460/3302 [11:41<1:02:02,  1.31s/it]"
     ]
    },
    {
     "name": "stdout",
     "output_type": "stream",
     "text": [
      "Successfully fetched: https://www.forbes.com/sites/alisondurkee/2023/10/17/trump-back-in-court-for-new-york-fraud-trial/\n"
     ]
    },
    {
     "name": "stderr",
     "output_type": "stream",
     "text": [
      "Scraping Progress:  14%|█▍        | 461/3302 [11:43<1:08:21,  1.44s/it]"
     ]
    },
    {
     "name": "stdout",
     "output_type": "stream",
     "text": [
      "Cannot fetch https://www.hln.be/buitenlands-voetbal/wij-keken-naar-de-netflix-serie-beckham-en-zien-hoe-goldenballs-vechter-egoist-en-gewiekst-zakenman-is~a51118d3/, HTTP error: 403 Client Error: Forbidden for url: https://www.hln.be/buitenlands-voetbal/wij-keken-naar-de-netflix-serie-beckham-en-zien-hoe-goldenballs-vechter-egoist-en-gewiekst-zakenman-is~a51118d3/\n"
     ]
    },
    {
     "name": "stderr",
     "output_type": "stream",
     "text": [
      "Scraping Progress:  14%|█▍        | 462/3302 [11:44<1:02:31,  1.32s/it]"
     ]
    },
    {
     "name": "stdout",
     "output_type": "stream",
     "text": [
      "Successfully fetched: https://www.the-independent.com/news/world/americas/us-politics/ron-desantis-ap-gavin-newsom-sean-hannity-fox-news-b2418320.html\n"
     ]
    },
    {
     "name": "stderr",
     "output_type": "stream",
     "text": [
      "Scraping Progress:  14%|█▍        | 463/3302 [11:45<59:44,  1.26s/it]  "
     ]
    },
    {
     "name": "stdout",
     "output_type": "stream",
     "text": [
      "Successfully fetched: https://whiplash.net/materias/news_703/355008-gangrenagasosa.html\n"
     ]
    },
    {
     "name": "stderr",
     "output_type": "stream",
     "text": [
      "Scraping Progress:  14%|█▍        | 464/3302 [11:46<57:01,  1.21s/it]"
     ]
    },
    {
     "name": "stdout",
     "output_type": "stream",
     "text": [
      "Successfully fetched: https://allears.net/2023/10/25/10-secrets-hidden-in-plain-sight-in-magic-kingdom/\n"
     ]
    },
    {
     "name": "stderr",
     "output_type": "stream",
     "text": [
      "Scraping Progress:  14%|█▍        | 465/3302 [11:48<58:11,  1.23s/it]"
     ]
    },
    {
     "name": "stdout",
     "output_type": "stream",
     "text": [
      "Successfully fetched: https://prtimes.jp/main/html/rd/p/000001525.000020808.html\n"
     ]
    },
    {
     "name": "stderr",
     "output_type": "stream",
     "text": [
      "Scraping Progress:  14%|█▍        | 466/3302 [11:49<59:23,  1.26s/it]"
     ]
    },
    {
     "name": "stdout",
     "output_type": "stream",
     "text": [
      "Successfully fetched: https://gamebiz.jp/news/374521\n"
     ]
    },
    {
     "name": "stderr",
     "output_type": "stream",
     "text": [
      "Scraping Progress:  14%|█▍        | 467/3302 [11:51<1:11:50,  1.52s/it]"
     ]
    },
    {
     "name": "stdout",
     "output_type": "stream",
     "text": [
      "Successfully fetched: https://instapundit.com/613258/\n"
     ]
    },
    {
     "name": "stderr",
     "output_type": "stream",
     "text": [
      "Scraping Progress:  14%|█▍        | 468/3302 [11:53<1:10:35,  1.49s/it]"
     ]
    },
    {
     "name": "stdout",
     "output_type": "stream",
     "text": [
      "Successfully fetched: https://news.livedoor.com/article/detail/25058253/\n"
     ]
    },
    {
     "name": "stderr",
     "output_type": "stream",
     "text": [
      "Scraping Progress:  14%|█▍        | 469/3302 [11:55<1:24:01,  1.78s/it]"
     ]
    },
    {
     "name": "stdout",
     "output_type": "stream",
     "text": [
      "Successfully fetched: https://www.mmamania.com/2023/10/15/23917578/misfits-boxing-prime-card-results-biggest-winners-loser-ksi-vs-fury-logan-paul-dillon-danis\n"
     ]
    },
    {
     "name": "stderr",
     "output_type": "stream",
     "text": [
      "Scraping Progress:  14%|█▍        | 470/3302 [11:57<1:31:19,  1.94s/it]"
     ]
    },
    {
     "name": "stdout",
     "output_type": "stream",
     "text": [
      "Successfully fetched: https://fortune.com/2023/10/04/who-next-house-speaker-kevin-mccarthy-republican-party-scalise-jordan/\n"
     ]
    },
    {
     "name": "stderr",
     "output_type": "stream",
     "text": [
      "Scraping Progress:  14%|█▍        | 473/3302 [12:02<1:19:37,  1.69s/it]"
     ]
    },
    {
     "name": "stdout",
     "output_type": "stream",
     "text": [
      "Successfully fetched: https://gamebiz.jp/news/376455\n"
     ]
    },
    {
     "name": "stderr",
     "output_type": "stream",
     "text": [
      "Scraping Progress:  14%|█▍        | 474/3302 [12:05<1:35:40,  2.03s/it]"
     ]
    },
    {
     "name": "stdout",
     "output_type": "stream",
     "text": [
      "Successfully fetched: https://crooksandliars.com/2023/09/time-probe-jareds-saudi-billions-jamie\n"
     ]
    },
    {
     "name": "stderr",
     "output_type": "stream",
     "text": [
      "Scraping Progress:  14%|█▍        | 476/3302 [12:07<1:15:38,  1.61s/it]"
     ]
    },
    {
     "name": "stdout",
     "output_type": "stream",
     "text": [
      "Successfully fetched: https://maisfutebol.iol.pt/ciclismo/modalidades/vuelta-em-direto-acompanhe-aqui-a-14-etapa\n"
     ]
    },
    {
     "name": "stderr",
     "output_type": "stream",
     "text": [
      "Scraping Progress:  14%|█▍        | 477/3302 [12:10<1:27:07,  1.85s/it]"
     ]
    },
    {
     "name": "stdout",
     "output_type": "stream",
     "text": [
      "Successfully fetched: https://gonintendo.com/contents/25480-check-out-a-new-trailer-for-vlad-circus-descend-into-madness\n"
     ]
    },
    {
     "name": "stderr",
     "output_type": "stream",
     "text": [
      "Scraping Progress:  14%|█▍        | 478/3302 [12:11<1:17:39,  1.65s/it]"
     ]
    },
    {
     "name": "stdout",
     "output_type": "stream",
     "text": [
      "Successfully fetched: https://prtimes.jp/main/html/rd/p/000004442.000032953.html\n"
     ]
    },
    {
     "name": "stderr",
     "output_type": "stream",
     "text": [
      "Scraping Progress:  15%|█▍        | 479/3302 [12:12<1:13:03,  1.55s/it]"
     ]
    },
    {
     "name": "stdout",
     "output_type": "stream",
     "text": [
      "Successfully fetched: https://www.forbes.com/sites/manuelveth/2023/10/18/germany-boss-nagelsmann-spreads-optimism-after-2-2-draw-against-mexico/\n"
     ]
    },
    {
     "name": "stderr",
     "output_type": "stream",
     "text": [
      "Scraping Progress:  15%|█▍        | 480/3302 [12:14<1:18:37,  1.67s/it]"
     ]
    },
    {
     "name": "stdout",
     "output_type": "stream",
     "text": [
      "Cannot fetch https://www.thegospelcoalition.org/article/8-months-after-asbury/, HTTP error: 403 Client Error: Forbidden for url: https://www.thegospelcoalition.org/article/8-months-after-asbury/\n"
     ]
    },
    {
     "name": "stderr",
     "output_type": "stream",
     "text": [
      "Scraping Progress:  15%|█▍        | 482/3302 [12:17<1:09:34,  1.48s/it]"
     ]
    },
    {
     "name": "stdout",
     "output_type": "stream",
     "text": [
      "Successfully fetched: https://www.geeky-gadgets.com/samsung-the-frame-gets-art-from-the-metropolitan-museum-of-art-18-09-2023/\n"
     ]
    },
    {
     "name": "stderr",
     "output_type": "stream",
     "text": [
      "Scraping Progress:  15%|█▍        | 483/3302 [12:18<1:05:59,  1.40s/it]"
     ]
    },
    {
     "name": "stdout",
     "output_type": "stream",
     "text": [
      "Successfully fetched: https://www.xxlmag.com/travis-scott-stops-show-prevent-security-removing-fan/\n"
     ]
    },
    {
     "name": "stderr",
     "output_type": "stream",
     "text": [
      "Scraping Progress:  15%|█▍        | 484/3302 [12:20<1:10:38,  1.50s/it]"
     ]
    },
    {
     "name": "stdout",
     "output_type": "stream",
     "text": [
      "Successfully fetched: https://www.huffpost.com/entry/brian-kilmeade-tim-burchett-fox_n_651ebe3fe4b099ff9de9e743\n"
     ]
    },
    {
     "name": "stderr",
     "output_type": "stream",
     "text": [
      "Scraping Progress:  15%|█▍        | 486/3302 [12:22<59:35,  1.27s/it]  "
     ]
    },
    {
     "name": "stdout",
     "output_type": "stream",
     "text": [
      "Successfully fetched: https://www.latimes.com/entertainment-arts/music/story/2023-09-07/britney-spears-cabo-dancing-video\n"
     ]
    },
    {
     "name": "stderr",
     "output_type": "stream",
     "text": [
      "Scraping Progress:  15%|█▍        | 487/3302 [12:23<1:02:26,  1.33s/it]"
     ]
    },
    {
     "name": "stdout",
     "output_type": "stream",
     "text": [
      "Successfully fetched: https://screenrant.com/horror-books-make-great-movies-unmade/\n"
     ]
    },
    {
     "name": "stderr",
     "output_type": "stream",
     "text": [
      "Scraping Progress:  15%|█▍        | 488/3302 [12:24<1:01:07,  1.30s/it]"
     ]
    },
    {
     "name": "stdout",
     "output_type": "stream",
     "text": [
      "Successfully fetched: https://yourmileagemayvary.com/2023/09/11/3-more-las-vegas-strip-resorts-charging-to-park-heres-where-to-still-park-free/\n"
     ]
    },
    {
     "name": "stderr",
     "output_type": "stream",
     "text": [
      "Scraping Progress:  15%|█▍        | 489/3302 [12:28<1:36:13,  2.05s/it]"
     ]
    },
    {
     "name": "stdout",
     "output_type": "stream",
     "text": [
      "Successfully fetched: https://www.huffpost.com/entry/whoopi-goldberg-addresses-backlash-1993-oscars-dress_n_6532a3c5e4b0689b3fbc5a27\n"
     ]
    },
    {
     "name": "stderr",
     "output_type": "stream",
     "text": [
      "Scraping Progress:  15%|█▍        | 491/3302 [12:30<1:12:47,  1.55s/it]"
     ]
    },
    {
     "name": "stdout",
     "output_type": "stream",
     "text": [
      "Successfully fetched: https://languagehat.com/belys-letaev-novels/\n"
     ]
    },
    {
     "name": "stderr",
     "output_type": "stream",
     "text": [
      "Scraping Progress:  15%|█▍        | 492/3302 [12:34<1:38:16,  2.10s/it]"
     ]
    },
    {
     "name": "stdout",
     "output_type": "stream",
     "text": [
      "Successfully fetched: https://prtimes.jp/main/html/rd/p/000004355.000032953.html\n"
     ]
    },
    {
     "name": "stderr",
     "output_type": "stream",
     "text": [
      "Scraping Progress:  15%|█▍        | 493/3302 [12:35<1:26:48,  1.85s/it]"
     ]
    },
    {
     "name": "stdout",
     "output_type": "stream",
     "text": [
      "Successfully fetched: https://www.kicker.de/hoeness-ueber-gutes-zeichen-von-neuer-sonderlob-fuer-ulreich-976556/artikel\n"
     ]
    },
    {
     "name": "stderr",
     "output_type": "stream",
     "text": [
      "Scraping Progress:  15%|█▍        | 495/3302 [12:38<1:13:24,  1.57s/it]"
     ]
    },
    {
     "name": "stdout",
     "output_type": "stream",
     "text": [
      "Successfully fetched: https://prtimes.jp/main/html/rd/p/000004387.000032953.html\n"
     ]
    },
    {
     "name": "stderr",
     "output_type": "stream",
     "text": [
      "Scraping Progress:  15%|█▌        | 496/3302 [12:39<1:09:24,  1.48s/it]"
     ]
    },
    {
     "name": "stdout",
     "output_type": "stream",
     "text": [
      "Successfully fetched: https://zuuonline.com/archives/266678\n"
     ]
    },
    {
     "name": "stderr",
     "output_type": "stream",
     "text": [
      "Scraping Progress:  15%|█▌        | 497/3302 [12:40<1:09:39,  1.49s/it]"
     ]
    },
    {
     "name": "stdout",
     "output_type": "stream",
     "text": [
      "Successfully fetched: https://www.vanityfair.com/news/2023/09/joe-biden-brushes-off-kevin-mccarthy-impeachment-stunt\n"
     ]
    },
    {
     "name": "stderr",
     "output_type": "stream",
     "text": [
      "Scraping Progress:  15%|█▌        | 498/3302 [12:43<1:26:41,  1.86s/it]"
     ]
    },
    {
     "name": "stdout",
     "output_type": "stream",
     "text": [
      "Successfully fetched: https://www.bostonglobe.com/2023/10/06/sports/savannah-bananas-fenway-park-2024/\n"
     ]
    },
    {
     "name": "stderr",
     "output_type": "stream",
     "text": [
      "Scraping Progress:  15%|█▌        | 499/3302 [12:45<1:26:43,  1.86s/it]"
     ]
    },
    {
     "name": "stdout",
     "output_type": "stream",
     "text": [
      "Successfully fetched: https://screenrant.com/five-nights-at-freddys-movie-video-game-changes/\n"
     ]
    },
    {
     "name": "stderr",
     "output_type": "stream",
     "text": [
      "Scraping Progress:  15%|█▌        | 501/3302 [12:47<1:10:06,  1.50s/it]"
     ]
    },
    {
     "name": "stdout",
     "output_type": "stream",
     "text": [
      "Successfully fetched: https://www.bbc.co.uk/news/entertainment-arts-67003278\n"
     ]
    },
    {
     "name": "stderr",
     "output_type": "stream",
     "text": [
      "Scraping Progress:  15%|█▌        | 502/3302 [12:49<1:10:52,  1.52s/it]"
     ]
    },
    {
     "name": "stdout",
     "output_type": "stream",
     "text": [
      "Successfully fetched: https://www.thetvaddict.com/2023/09/29/what-is-coming-to-crave-in-october-2023/\n"
     ]
    },
    {
     "name": "stderr",
     "output_type": "stream",
     "text": [
      "Scraping Progress:  15%|█▌        | 503/3302 [12:51<1:15:45,  1.62s/it]"
     ]
    },
    {
     "name": "stdout",
     "output_type": "stream",
     "text": [
      "Successfully fetched: https://www.nbcnews.com/pop-culture/maren-morris-files-divorce-ryan-hurd-5-years-marriage-rcna120889\n"
     ]
    },
    {
     "name": "stderr",
     "output_type": "stream",
     "text": [
      "Scraping Progress:  15%|█▌        | 504/3302 [12:53<1:17:05,  1.65s/it]"
     ]
    },
    {
     "name": "stdout",
     "output_type": "stream",
     "text": [
      "Successfully fetched: https://ohnotheydidnt.livejournal.com/126985300.html\n"
     ]
    },
    {
     "name": "stderr",
     "output_type": "stream",
     "text": [
      "Scraping Progress:  15%|█▌        | 505/3302 [12:56<1:38:29,  2.11s/it]"
     ]
    },
    {
     "name": "stdout",
     "output_type": "stream",
     "text": [
      "Successfully fetched: https://www.disneyfoodblog.com/2023/09/20/yep-were-going-to-keep-talking-about-this-disney-world-secret-until-everyone-knows-about-it/\n"
     ]
    },
    {
     "name": "stderr",
     "output_type": "stream",
     "text": [
      "Scraping Progress:  15%|█▌        | 507/3302 [12:59<1:23:41,  1.80s/it]"
     ]
    },
    {
     "name": "stdout",
     "output_type": "stream",
     "text": [
      "Successfully fetched: https://www.adorocinema.com/noticias/filmes/noticia-1000047771/\n"
     ]
    },
    {
     "name": "stderr",
     "output_type": "stream",
     "text": [
      "Scraping Progress:  15%|█▌        | 508/3302 [13:01<1:31:58,  1.98s/it]"
     ]
    },
    {
     "name": "stdout",
     "output_type": "stream",
     "text": [
      "Successfully fetched: https://www.usmagazine.com/celebrity-news/news/rebecca-loos-found-david-beckham-with-other-women-amid-alleged-affair/#article\n"
     ]
    },
    {
     "name": "stderr",
     "output_type": "stream",
     "text": [
      "Scraping Progress:  15%|█▌        | 510/3302 [13:04<1:17:39,  1.67s/it]"
     ]
    },
    {
     "name": "stdout",
     "output_type": "stream",
     "text": [
      "Successfully fetched: https://www.orlandosentinel.com/2023/09/08/universal-halloween-horror-nights-oddfellow-megan-carey-ohio/\n"
     ]
    },
    {
     "name": "stderr",
     "output_type": "stream",
     "text": [
      "Scraping Progress:  15%|█▌        | 511/3302 [13:05<1:14:36,  1.60s/it]"
     ]
    },
    {
     "name": "stdout",
     "output_type": "stream",
     "text": [
      "Successfully fetched: https://www.sueddeutsche.de/muenchen/muenchen-zirkus-roncalli-premiere-bernhard-paul-werksviertel-1.6287863\n"
     ]
    },
    {
     "name": "stderr",
     "output_type": "stream",
     "text": [
      "Scraping Progress:  16%|█▌        | 512/3302 [13:07<1:09:16,  1.49s/it]"
     ]
    },
    {
     "name": "stdout",
     "output_type": "stream",
     "text": [
      "Successfully fetched: https://www.newsweek.com/giraffe-breaks-windscreen-safari-park-1825935\n"
     ]
    },
    {
     "name": "stderr",
     "output_type": "stream",
     "text": [
      "Scraping Progress:  16%|█▌        | 514/3302 [13:09<59:05,  1.27s/it]  "
     ]
    },
    {
     "name": "stdout",
     "output_type": "stream",
     "text": [
      "Successfully fetched: https://www.mundodeportivo.com/ciclismo/20231012/1002085735/elia-viviani-golpea-primero-tour-guangxi.html\n"
     ]
    },
    {
     "name": "stderr",
     "output_type": "stream",
     "text": [
      "Scraping Progress:  16%|█▌        | 515/3302 [13:10<59:52,  1.29s/it]"
     ]
    },
    {
     "name": "stdout",
     "output_type": "stream",
     "text": [
      "Successfully fetched: https://screenrant.com/minecraft-youtube-tales-smp-comic-graphic-novel/\n"
     ]
    },
    {
     "name": "stderr",
     "output_type": "stream",
     "text": [
      "Scraping Progress:  16%|█▌        | 516/3302 [13:11<59:42,  1.29s/it]"
     ]
    },
    {
     "name": "stdout",
     "output_type": "stream",
     "text": [
      "Successfully fetched: https://www.elseptimoarte.net/noticias/tv-series/trailer-de-messi-llega-a-estados-unidos-46258.html\n"
     ]
    },
    {
     "name": "stderr",
     "output_type": "stream",
     "text": [
      "Scraping Progress:  16%|█▌        | 517/3302 [13:13<1:07:33,  1.46s/it]"
     ]
    },
    {
     "name": "stdout",
     "output_type": "stream",
     "text": [
      "Successfully fetched: https://www.advocate.com/politics/lauren-boebert\n"
     ]
    },
    {
     "name": "stderr",
     "output_type": "stream",
     "text": [
      "Scraping Progress:  16%|█▌        | 518/3302 [13:14<1:02:16,  1.34s/it]"
     ]
    },
    {
     "name": "stdout",
     "output_type": "stream",
     "text": [
      "Successfully fetched: https://jenesaispop.com/2023/10/12/464254/sirens-la-utopia-del-video-catalan-de-travis-scott/\n"
     ]
    },
    {
     "name": "stderr",
     "output_type": "stream",
     "text": [
      "Scraping Progress:  16%|█▌        | 519/3302 [13:16<1:08:05,  1.47s/it]"
     ]
    },
    {
     "name": "stdout",
     "output_type": "stream",
     "text": [
      "Successfully fetched: https://www.vox.com/future-perfect/23914885/zoo-animals-conservation-endangered-threatened-species-sanctuaries\n"
     ]
    },
    {
     "name": "stderr",
     "output_type": "stream",
     "text": [
      "Scraping Progress:  16%|█▌        | 520/3302 [13:17<1:02:09,  1.34s/it]"
     ]
    },
    {
     "name": "stdout",
     "output_type": "stream",
     "text": [
      "Successfully fetched: https://www.honeywerehome.com/2023/10/12-halloween-tops-for-her.html\n"
     ]
    },
    {
     "name": "stderr",
     "output_type": "stream",
     "text": [
      "Scraping Progress:  16%|█▌        | 521/3302 [13:19<1:13:00,  1.58s/it]"
     ]
    },
    {
     "name": "stdout",
     "output_type": "stream",
     "text": [
      "Successfully fetched: https://www.elseptimoarte.net/noticias/tv-series/trailer-de-messi-llega-a-estados-unidos--46258.html\n"
     ]
    },
    {
     "name": "stderr",
     "output_type": "stream",
     "text": [
      "Scraping Progress:  16%|█▌        | 522/3302 [13:21<1:14:14,  1.60s/it]"
     ]
    },
    {
     "name": "stdout",
     "output_type": "stream",
     "text": [
      "Successfully fetched: https://nypost.com/2023/09/01/circus-performer-falls-30-feet-during-trapeze-act-video/\n"
     ]
    },
    {
     "name": "stderr",
     "output_type": "stream",
     "text": [
      "Scraping Progress:  16%|█▌        | 523/3302 [13:23<1:18:16,  1.69s/it]"
     ]
    },
    {
     "name": "stdout",
     "output_type": "stream",
     "text": [
      "Cannot fetch https://www.politico.com/live-updates/2023/10/06/congress/speaker-race-gop-circus-moderates-00120354, HTTP error: 403 Client Error: Forbidden for url: https://www.politico.com/live-updates/2023/10/06/congress/speaker-race-gop-circus-moderates-00120354\n"
     ]
    },
    {
     "name": "stderr",
     "output_type": "stream",
     "text": [
      "Scraping Progress:  16%|█▌        | 524/3302 [13:24<1:09:18,  1.50s/it]"
     ]
    },
    {
     "name": "stdout",
     "output_type": "stream",
     "text": [
      "Cannot fetch https://www.hln.be/wielrennen/uci-berispt-intermarche-circus-wanty-voor-achterstallige-loonuitbetalingen-nervositeit-bij-renners-en-personeel-br-br~a4778208/, HTTP error: 403 Client Error: Forbidden for url: https://www.hln.be/wielrennen/uci-berispt-intermarche-circus-wanty-voor-achterstallige-loonuitbetalingen-nervositeit-bij-renners-en-personeel-br-br~a4778208/\n"
     ]
    },
    {
     "name": "stderr",
     "output_type": "stream",
     "text": [
      "Scraping Progress:  16%|█▌        | 525/3302 [13:25<1:02:52,  1.36s/it]"
     ]
    },
    {
     "name": "stdout",
     "output_type": "stream",
     "text": [
      "Cannot fetch https://www.hln.be/formule-1/kijk-verstappen-en-perez-met-originele-voorbereiding-op-gp-singapore-red-bull-duo-maakt-enkele-rondjes-op-kuismachines~a37ecb9c/, HTTP error: 403 Client Error: Forbidden for url: https://www.hln.be/formule-1/kijk-verstappen-en-perez-met-originele-voorbereiding-op-gp-singapore-red-bull-duo-maakt-enkele-rondjes-op-kuismachines~a37ecb9c/\n"
     ]
    },
    {
     "name": "stderr",
     "output_type": "stream",
     "text": [
      "Scraping Progress:  16%|█▌        | 526/3302 [13:26<58:11,  1.26s/it]  "
     ]
    },
    {
     "name": "stdout",
     "output_type": "stream",
     "text": [
      "Successfully fetched: https://www.independent.ie/life/ringmaster-marion-fossett-i-was-born-in-a-suitcase/a1032683169.html\n"
     ]
    },
    {
     "name": "stderr",
     "output_type": "stream",
     "text": [
      "Scraping Progress:  16%|█▌        | 528/3302 [13:29<1:03:44,  1.38s/it]"
     ]
    },
    {
     "name": "stdout",
     "output_type": "stream",
     "text": [
      "Successfully fetched: https://www.vintag.es/2023/09/the-forbidden-city.html\n"
     ]
    },
    {
     "name": "stderr",
     "output_type": "stream",
     "text": [
      "Scraping Progress:  16%|█▌        | 529/3302 [13:30<1:03:28,  1.37s/it]"
     ]
    },
    {
     "name": "stdout",
     "output_type": "stream",
     "text": [
      "Successfully fetched: https://www.huffpost.com/entry/gwyneth-paltrow-ski-trial_n_651ae2c5e4b0521d3236f4fa\n"
     ]
    },
    {
     "name": "stderr",
     "output_type": "stream",
     "text": [
      "Scraping Progress:  16%|█▌        | 530/3302 [13:31<58:53,  1.27s/it]  "
     ]
    },
    {
     "name": "stdout",
     "output_type": "stream",
     "text": [
      "Successfully fetched: https://www.punknews.org/article/81166/closet-witch-my-words-are-sacred-ft-dylan-walker-of-full-of-hell\n"
     ]
    },
    {
     "name": "stderr",
     "output_type": "stream",
     "text": [
      "Scraping Progress:  16%|█▌        | 531/3302 [13:33<58:26,  1.27s/it]"
     ]
    },
    {
     "name": "stdout",
     "output_type": "stream",
     "text": [
      "Successfully fetched: https://www.nrc.nl/nieuws/2023/09/12/architect-sjoerd-soeters-sloop-de-wijken-uit-de-wederopbouwtijd-a4174212\n"
     ]
    },
    {
     "name": "stderr",
     "output_type": "stream",
     "text": [
      "Scraping Progress:  16%|█▌        | 532/3302 [13:34<1:02:20,  1.35s/it]"
     ]
    },
    {
     "name": "stdout",
     "output_type": "stream",
     "text": [
      "Successfully fetched: https://www.abc.es/estilo/planes-fin-semana-madrid-20231019103344-nt.html\n"
     ]
    },
    {
     "name": "stderr",
     "output_type": "stream",
     "text": [
      "Scraping Progress:  16%|█▌        | 533/3302 [13:36<1:07:49,  1.47s/it]"
     ]
    },
    {
     "name": "stdout",
     "output_type": "stream",
     "text": [
      "Successfully fetched: https://bleedingcool.com/tv/will-cm-punk-go-full-hulk-hogan-and-join-tna/\n"
     ]
    },
    {
     "name": "stderr",
     "output_type": "stream",
     "text": [
      "Scraping Progress:  16%|█▌        | 534/3302 [13:37<1:01:52,  1.34s/it]"
     ]
    },
    {
     "name": "stdout",
     "output_type": "stream",
     "text": [
      "Successfully fetched: https://bleedingcool.com/tv/seth-rollins-shows-aew-how-its-done-ahead-of-crown-jewel-showdown/\n"
     ]
    },
    {
     "name": "stderr",
     "output_type": "stream",
     "text": [
      "Scraping Progress:  16%|█▌        | 535/3302 [13:38<57:37,  1.25s/it]  "
     ]
    },
    {
     "name": "stdout",
     "output_type": "stream",
     "text": [
      "Successfully fetched: https://www.huffpost.com/entry/britney-spears-dancing-with-knives_n_65147160e4b00f948c60a02d\n"
     ]
    },
    {
     "name": "stderr",
     "output_type": "stream",
     "text": [
      "Scraping Progress:  16%|█▌        | 536/3302 [13:39<54:49,  1.19s/it]"
     ]
    },
    {
     "name": "stdout",
     "output_type": "stream",
     "text": [
      "Cannot fetch https://www.hln.be/wielrennen/intermarche-circus-wanty-houdt-talent-mihkels-uit-chinese-worldtour-koers-na-racistisch-gebaar~af3d16a6/, HTTP error: 403 Client Error: Forbidden for url: https://www.hln.be/wielrennen/intermarche-circus-wanty-houdt-talent-mihkels-uit-chinese-worldtour-koers-na-racistisch-gebaar~af3d16a6/\n"
     ]
    },
    {
     "name": "stderr",
     "output_type": "stream",
     "text": [
      "Scraping Progress:  16%|█▋        | 537/3302 [13:40<52:28,  1.14s/it]"
     ]
    },
    {
     "name": "stdout",
     "output_type": "stream",
     "text": [
      "Successfully fetched: https://www.kicker.de/historischer-triumph-fuer-jumbo-visma-sepp-kuss-gewinnt-die-vuelta-969022/artikel\n"
     ]
    },
    {
     "name": "stderr",
     "output_type": "stream",
     "text": [
      "Scraping Progress:  16%|█▋        | 538/3302 [13:42<59:51,  1.30s/it]"
     ]
    },
    {
     "name": "stdout",
     "output_type": "stream",
     "text": [
      "Successfully fetched: https://www.kicker.de/kooij-gewinnt-sprint-der-niederlaender-ausreisser-de-bondt-uebernimmt-gesamtfuehrung-973644/artikel\n"
     ]
    },
    {
     "name": "stderr",
     "output_type": "stream",
     "text": [
      "Scraping Progress:  16%|█▋        | 539/3302 [13:43<1:00:56,  1.32s/it]"
     ]
    },
    {
     "name": "stdout",
     "output_type": "stream",
     "text": [
      "Successfully fetched: https://bloody-disgusting.com/movie/3778969/the-fear-collection-spanish-horror-trilogy-from-rec-and-30-coins-filmmakers-just-hit-vod/\n"
     ]
    },
    {
     "name": "stderr",
     "output_type": "stream",
     "text": [
      "Scraping Progress:  16%|█▋        | 540/3302 [13:45<1:10:49,  1.54s/it]"
     ]
    },
    {
     "name": "stdout",
     "output_type": "stream",
     "text": [
      "Successfully fetched: https://screenrant.com/baldurs-gate-3-hidden-rare-dialouge-astarion-bg3/\n"
     ]
    },
    {
     "name": "stderr",
     "output_type": "stream",
     "text": [
      "Scraping Progress:  16%|█▋        | 541/3302 [13:46<1:06:14,  1.44s/it]"
     ]
    },
    {
     "name": "stdout",
     "output_type": "stream",
     "text": [
      "Successfully fetched: https://www.wallpaper.com/art/circa-prize-2023-cemile-sahin-piccadilly-london\n"
     ]
    },
    {
     "name": "stderr",
     "output_type": "stream",
     "text": [
      "Scraping Progress:  16%|█▋        | 542/3302 [13:47<1:03:06,  1.37s/it]"
     ]
    },
    {
     "name": "stdout",
     "output_type": "stream",
     "text": [
      "Successfully fetched: https://screenrant.com/baldurs-gate-3-unlock-nyrulna-best-legendary-weapon/\n"
     ]
    },
    {
     "name": "stderr",
     "output_type": "stream",
     "text": [
      "Scraping Progress:  16%|█▋        | 543/3302 [13:49<1:00:51,  1.32s/it]"
     ]
    },
    {
     "name": "stdout",
     "output_type": "stream",
     "text": [
      "Successfully fetched: https://www.cbssports.com/boxing/news/why-the-ksi-tommy-fury-logan-paul-dillon-danis-doubleheader-could-be-the-revival-of-influencer-boxing/\n"
     ]
    },
    {
     "name": "stderr",
     "output_type": "stream",
     "text": [
      "Scraping Progress:  16%|█▋        | 544/3302 [13:51<1:13:22,  1.60s/it]"
     ]
    },
    {
     "name": "stdout",
     "output_type": "stream",
     "text": [
      "Successfully fetched: https://prtimes.jp/main/html/rd/p/000000218.000016877.html\n"
     ]
    },
    {
     "name": "stderr",
     "output_type": "stream",
     "text": [
      "Scraping Progress:  17%|█▋        | 545/3302 [13:52<1:09:34,  1.51s/it]"
     ]
    },
    {
     "name": "stdout",
     "output_type": "stream",
     "text": [
      "Successfully fetched: https://vnexpress.net/loat-combo-tu-1-2-trieu-dong-tai-golden-coast-resort-spa-phan-thiet-4670857.html\n"
     ]
    },
    {
     "name": "stderr",
     "output_type": "stream",
     "text": [
      "Scraping Progress:  17%|█▋        | 546/3302 [13:55<1:28:03,  1.92s/it]"
     ]
    },
    {
     "name": "stdout",
     "output_type": "stream",
     "text": [
      "Successfully fetched: https://prtimes.jp/main/html/rd/p/000000230.000016877.html\n"
     ]
    },
    {
     "name": "stderr",
     "output_type": "stream",
     "text": [
      "Scraping Progress:  17%|█▋        | 547/3302 [13:57<1:24:10,  1.83s/it]"
     ]
    },
    {
     "name": "stdout",
     "output_type": "stream",
     "text": [
      "Successfully fetched: https://insidethemagic.net/2023/09/universal-orlando-seuss-landing-dining-closed-emd1/\n"
     ]
    },
    {
     "name": "stderr",
     "output_type": "stream",
     "text": [
      "Scraping Progress:  17%|█▋        | 548/3302 [13:58<1:21:58,  1.79s/it]"
     ]
    },
    {
     "name": "stdout",
     "output_type": "stream",
     "text": [
      "Successfully fetched: https://www.usmagazine.com/celebrity-news/news/rebecca-loos-reacts-to-chatter-about-david-beckham-affair-claims/#article\n"
     ]
    },
    {
     "name": "stderr",
     "output_type": "stream",
     "text": [
      "Scraping Progress:  17%|█▋        | 550/3302 [14:01<1:12:20,  1.58s/it]"
     ]
    },
    {
     "name": "stdout",
     "output_type": "stream",
     "text": [
      "Cannot fetch https://www.channelnewsasia.com/sport/buenos-aires-cirque-du-soleil-show-honors-superhero-messi-3828096, HTTP error: 404 Client Error: Not Found for url: https://www.channelnewsasia.com/sport/buenos-aires-cirque-du-soleil-show-honors-superhero-messi-3828096\n"
     ]
    },
    {
     "name": "stderr",
     "output_type": "stream",
     "text": [
      "Scraping Progress:  17%|█▋        | 551/3302 [14:04<1:24:42,  1.85s/it]"
     ]
    },
    {
     "name": "stdout",
     "output_type": "stream",
     "text": [
      "Successfully fetched: https://allears.net/2023/10/23/5-places-to-escape-from-your-family-on-your-trip-to-disney-world/\n"
     ]
    },
    {
     "name": "stderr",
     "output_type": "stream",
     "text": [
      "Scraping Progress:  17%|█▋        | 552/3302 [14:05<1:17:10,  1.68s/it]"
     ]
    },
    {
     "name": "stdout",
     "output_type": "stream",
     "text": [
      "Successfully fetched: https://www.skai.gr/news/culture/ta-vraveia-tis-ellinikis-enosis-kritikon-theatrou-kai-parastatikon-texnon\n"
     ]
    },
    {
     "name": "stderr",
     "output_type": "stream",
     "text": [
      "Scraping Progress:  17%|█▋        | 553/3302 [14:07<1:16:37,  1.67s/it]"
     ]
    },
    {
     "name": "stdout",
     "output_type": "stream",
     "text": [
      "Successfully fetched: https://sf.funcheap.com/yerba-buena-gardens-festival-2023-w-dakila-filipino-american-rock-band/\n"
     ]
    },
    {
     "name": "stderr",
     "output_type": "stream",
     "text": [
      "Scraping Progress:  17%|█▋        | 554/3302 [14:08<1:18:28,  1.71s/it]"
     ]
    },
    {
     "name": "stdout",
     "output_type": "stream",
     "text": [
      "Successfully fetched: https://news.livedoor.com/article/detail/25009400/\n"
     ]
    },
    {
     "name": "stderr",
     "output_type": "stream",
     "text": [
      "Scraping Progress:  17%|█▋        | 555/3302 [14:12<1:39:09,  2.17s/it]"
     ]
    },
    {
     "name": "stdout",
     "output_type": "stream",
     "text": [
      "Successfully fetched: https://www.ithome.com/0/717/976.htm\n"
     ]
    },
    {
     "name": "stderr",
     "output_type": "stream",
     "text": [
      "Scraping Progress:  17%|█▋        | 556/3302 [14:13<1:32:59,  2.03s/it]"
     ]
    },
    {
     "name": "stdout",
     "output_type": "stream",
     "text": [
      "Successfully fetched: https://hollywoodlife.com/2023/10/05/maren-morris-reveals-why-she-quit-country-music/\n"
     ]
    },
    {
     "name": "stderr",
     "output_type": "stream",
     "text": [
      "Scraping Progress:  17%|█▋        | 557/3302 [14:15<1:26:26,  1.89s/it]"
     ]
    },
    {
     "name": "stdout",
     "output_type": "stream",
     "text": [
      "Successfully fetched: https://www.ign.com/articles/aussie-streaming-guide-the-best-tv-movies-for-october-2023\n"
     ]
    },
    {
     "name": "stderr",
     "output_type": "stream",
     "text": [
      "Scraping Progress:  17%|█▋        | 558/3302 [14:16<1:19:25,  1.74s/it]"
     ]
    },
    {
     "name": "stdout",
     "output_type": "stream",
     "text": [
      "Successfully fetched: https://www.nbcsports.com/nba/news/james-harden-fires-back-at-report-he-pouted-after-all-star-snub-last-year\n"
     ]
    },
    {
     "name": "stderr",
     "output_type": "stream",
     "text": [
      "Scraping Progress:  17%|█▋        | 559/3302 [14:18<1:17:17,  1.69s/it]"
     ]
    },
    {
     "name": "stdout",
     "output_type": "stream",
     "text": [
      "Successfully fetched: https://hiphopdx.com/news/travis-scott-blade-soundtrack\n"
     ]
    },
    {
     "name": "stderr",
     "output_type": "stream",
     "text": [
      "Scraping Progress:  17%|█▋        | 560/3302 [14:19<1:15:16,  1.65s/it]"
     ]
    },
    {
     "name": "stdout",
     "output_type": "stream",
     "text": [
      "Successfully fetched: https://hiphopdx.com/news/travis-scott-coffee-bean-car-collection\n"
     ]
    },
    {
     "name": "stderr",
     "output_type": "stream",
     "text": [
      "Scraping Progress:  17%|█▋        | 561/3302 [14:21<1:12:31,  1.59s/it]"
     ]
    },
    {
     "name": "stdout",
     "output_type": "stream",
     "text": [
      "Successfully fetched: https://hiphopdx.com/news/travis-scott-postpone-concert-no-explanation\n"
     ]
    },
    {
     "name": "stderr",
     "output_type": "stream",
     "text": [
      "Scraping Progress:  17%|█▋        | 562/3302 [14:22<1:11:26,  1.56s/it]"
     ]
    },
    {
     "name": "stdout",
     "output_type": "stream",
     "text": [
      "Successfully fetched: https://sf.funcheap.com/sfs-yerba-buena-gardens-festival-2023-w-filipino-rapper-ruby-ibarra/\n"
     ]
    },
    {
     "name": "stderr",
     "output_type": "stream",
     "text": [
      "Scraping Progress:  17%|█▋        | 563/3302 [14:24<1:14:52,  1.64s/it]"
     ]
    },
    {
     "name": "stdout",
     "output_type": "stream",
     "text": [
      "Successfully fetched: https://nypost.com/2023/09/28/experts-republican-debate-verdict-trump-still-in-drivers-seat-after-simi-valley-circus/\n"
     ]
    },
    {
     "name": "stderr",
     "output_type": "stream",
     "text": [
      "Scraping Progress:  17%|█▋        | 564/3302 [14:26<1:23:05,  1.82s/it]"
     ]
    },
    {
     "name": "stdout",
     "output_type": "stream",
     "text": [
      "Successfully fetched: https://thepointsguy.com/news/halloween-horror-nights-haunted-houses/\n"
     ]
    },
    {
     "name": "stderr",
     "output_type": "stream",
     "text": [
      "Scraping Progress:  17%|█▋        | 565/3302 [14:28<1:12:34,  1.59s/it]"
     ]
    },
    {
     "name": "stdout",
     "output_type": "stream",
     "text": [
      "Successfully fetched: https://skift.com/2023/10/16/new-langham-ceo-seeks-growth-across-luxury-and-midscale-hotel-brands/\n"
     ]
    },
    {
     "name": "stderr",
     "output_type": "stream",
     "text": [
      "Scraping Progress:  17%|█▋        | 566/3302 [14:29<1:14:13,  1.63s/it]"
     ]
    },
    {
     "name": "stdout",
     "output_type": "stream",
     "text": [
      "Successfully fetched: https://www.corriere.it/sport/formula-1/23_settembre_17/pagelle-f1-gp-singapore-f4cb311e-5587-11ee-bbb9-2ab114abc1ec.shtml\n"
     ]
    },
    {
     "name": "stderr",
     "output_type": "stream",
     "text": [
      "Scraping Progress:  17%|█▋        | 567/3302 [14:31<1:11:58,  1.58s/it]"
     ]
    },
    {
     "name": "stdout",
     "output_type": "stream",
     "text": [
      "Successfully fetched: https://maisfutebol.iol.pt/ciclismo/rui-costa/rui-costa-nao-estava-previsto-eu-disputar-a-vuelta\n"
     ]
    },
    {
     "name": "stderr",
     "output_type": "stream",
     "text": [
      "Scraping Progress:  17%|█▋        | 568/3302 [14:33<1:17:54,  1.71s/it]"
     ]
    },
    {
     "name": "stdout",
     "output_type": "stream",
     "text": [
      "Successfully fetched: https://screenrant.com/josh-martinez-big-brother-19-winner-meatball-nickname/\n"
     ]
    },
    {
     "name": "stderr",
     "output_type": "stream",
     "text": [
      "Scraping Progress:  17%|█▋        | 569/3302 [14:34<1:10:41,  1.55s/it]"
     ]
    },
    {
     "name": "stdout",
     "output_type": "stream",
     "text": [
      "Successfully fetched: https://screenrant.com/five-nights-at-freddys-easter-eggs-jason-blum-emma-tammi/\n"
     ]
    },
    {
     "name": "stderr",
     "output_type": "stream",
     "text": [
      "Scraping Progress:  17%|█▋        | 570/3302 [14:35<1:06:12,  1.45s/it]"
     ]
    },
    {
     "name": "stdout",
     "output_type": "stream",
     "text": [
      "Successfully fetched: https://screenrant.com/baldurs-gate-3-statue-immortalization-bg3/\n"
     ]
    },
    {
     "name": "stderr",
     "output_type": "stream",
     "text": [
      "Scraping Progress:  17%|█▋        | 571/3302 [14:36<1:03:06,  1.39s/it]"
     ]
    },
    {
     "name": "stdout",
     "output_type": "stream",
     "text": [
      "Successfully fetched: https://www.disneyfoodblog.com/2023/09/27/you-can-get-your-own-disney-snack-stand-at-target/\n"
     ]
    },
    {
     "name": "stderr",
     "output_type": "stream",
     "text": [
      "Scraping Progress:  17%|█▋        | 572/3302 [14:38<1:06:30,  1.46s/it]"
     ]
    },
    {
     "name": "stdout",
     "output_type": "stream",
     "text": [
      "Successfully fetched: https://prtimes.jp/main/html/rd/p/000000229.000016877.html\n"
     ]
    },
    {
     "name": "stderr",
     "output_type": "stream",
     "text": [
      "Scraping Progress:  17%|█▋        | 573/3302 [14:40<1:08:55,  1.52s/it]"
     ]
    },
    {
     "name": "stdout",
     "output_type": "stream",
     "text": [
      "Successfully fetched: https://screenrant.com/bluey-show-rusty-original-main-character/\n"
     ]
    },
    {
     "name": "stderr",
     "output_type": "stream",
     "text": [
      "Scraping Progress:  17%|█▋        | 574/3302 [14:41<1:04:50,  1.43s/it]"
     ]
    },
    {
     "name": "stdout",
     "output_type": "stream",
     "text": [
      "Successfully fetched: https://screenrant.com/bruce-lee-blondie-tv-show-lost-episode-cameo/\n"
     ]
    },
    {
     "name": "stderr",
     "output_type": "stream",
     "text": [
      "Scraping Progress:  17%|█▋        | 575/3302 [14:42<1:03:03,  1.39s/it]"
     ]
    },
    {
     "name": "stdout",
     "output_type": "stream",
     "text": [
      "Successfully fetched: https://screenrant.com/one-piece-show-live-action-buggy-clown-reactions/\n"
     ]
    },
    {
     "name": "stderr",
     "output_type": "stream",
     "text": [
      "Scraping Progress:  17%|█▋        | 576/3302 [14:43<1:01:09,  1.35s/it]"
     ]
    },
    {
     "name": "stdout",
     "output_type": "stream",
     "text": [
      "Successfully fetched: https://screenrant.com/90-day-last-resort-big-ed-leprechaun-tattoo-after-filming/\n"
     ]
    },
    {
     "name": "stderr",
     "output_type": "stream",
     "text": [
      "Scraping Progress:  17%|█▋        | 577/3302 [14:45<1:00:14,  1.33s/it]"
     ]
    },
    {
     "name": "stdout",
     "output_type": "stream",
     "text": [
      "Successfully fetched: https://www.menshealth.com/entertainment/a45508765/aaron-rodgers-travis-kelce-vaccine-debate/\n"
     ]
    },
    {
     "name": "stderr",
     "output_type": "stream",
     "text": [
      "Scraping Progress:  18%|█▊        | 578/3302 [14:46<1:06:29,  1.46s/it]"
     ]
    },
    {
     "name": "stdout",
     "output_type": "stream",
     "text": [
      "Successfully fetched: https://screenrant.com/scarecrow-better-nightwing-villain-than-batman/\n"
     ]
    },
    {
     "name": "stderr",
     "output_type": "stream",
     "text": [
      "Scraping Progress:  18%|█▊        | 579/3302 [14:48<1:02:56,  1.39s/it]"
     ]
    },
    {
     "name": "stdout",
     "output_type": "stream",
     "text": [
      "Successfully fetched: https://screenrant.com/five-nights-at-freddys-movie-secret-character-blumhouse-exec-tease/\n"
     ]
    },
    {
     "name": "stderr",
     "output_type": "stream",
     "text": [
      "Scraping Progress:  18%|█▊        | 580/3302 [14:49<1:01:31,  1.36s/it]"
     ]
    },
    {
     "name": "stdout",
     "output_type": "stream",
     "text": [
      "Successfully fetched: https://bleedingcool.com/tv/fox-news-the-bachelor-house-speaker-not-happening-gop-angry/\n"
     ]
    },
    {
     "name": "stderr",
     "output_type": "stream",
     "text": [
      "Scraping Progress:  18%|█▊        | 581/3302 [14:50<57:12,  1.26s/it]  "
     ]
    },
    {
     "name": "stdout",
     "output_type": "stream",
     "text": [
      "Successfully fetched: https://bleedingcool.com/collectibles/youll-float-too-with-rsvlts-new-pennywise-button-down-collection/\n"
     ]
    },
    {
     "name": "stderr",
     "output_type": "stream",
     "text": [
      "Scraping Progress:  18%|█▊        | 582/3302 [14:51<54:12,  1.20s/it]"
     ]
    },
    {
     "name": "stdout",
     "output_type": "stream",
     "text": [
      "Successfully fetched: https://bleedingcool.com/tv/juice-robinson-wins-battle-royal-for-shot-at-dynamite-diamond-ring/\n"
     ]
    },
    {
     "name": "stderr",
     "output_type": "stream",
     "text": [
      "Scraping Progress:  18%|█▊        | 583/3302 [14:52<52:04,  1.15s/it]"
     ]
    },
    {
     "name": "stdout",
     "output_type": "stream",
     "text": [
      "Successfully fetched: https://bleedingcool.com/tv/aew-rampage-preview-just-leave-wwe-alone-tony-khan/\n"
     ]
    },
    {
     "name": "stderr",
     "output_type": "stream",
     "text": [
      "Scraping Progress:  18%|█▊        | 584/3302 [14:53<50:31,  1.12s/it]"
     ]
    },
    {
     "name": "stdout",
     "output_type": "stream",
     "text": [
      "Successfully fetched: https://bleedingcool.com/tv/samoa-joe-sullies-wrestling-tradition-in-aew-dynamite-disgrace/\n"
     ]
    },
    {
     "name": "stderr",
     "output_type": "stream",
     "text": [
      "Scraping Progress:  18%|█▊        | 588/3302 [14:57<49:31,  1.10s/it]"
     ]
    },
    {
     "name": "stdout",
     "output_type": "stream",
     "text": [
      "Successfully fetched: https://www.forbes.com/sites/alistaircharlton/2023/09/11/why-the-goodwood-revival-is-much-more-than-the-worlds-greatest-car-show/\n"
     ]
    },
    {
     "name": "stderr",
     "output_type": "stream",
     "text": [
      "Scraping Progress:  18%|█▊        | 589/3302 [14:59<1:00:02,  1.33s/it]"
     ]
    },
    {
     "name": "stdout",
     "output_type": "stream",
     "text": [
      "Successfully fetched: https://www.forbes.com/sites/richardjchang/2023/10/03/donald-trump-sam-bankman-fried-and-the-snapchat-founders-heres-who-fell-off-the-2023-forbes-400-list-of-richest-americans/\n"
     ]
    },
    {
     "name": "stderr",
     "output_type": "stream",
     "text": [
      "Scraping Progress:  18%|█▊        | 590/3302 [15:00<56:02,  1.24s/it]  "
     ]
    },
    {
     "name": "stdout",
     "output_type": "stream",
     "text": [
      "Successfully fetched: https://www.euronews.com/2023/09/09/so-what-will-russias-wartime-elections-in-occupied-ukrainian-territories-be-like\n"
     ]
    },
    {
     "name": "stderr",
     "output_type": "stream",
     "text": [
      "Scraping Progress:  18%|█▊        | 591/3302 [15:03<1:19:04,  1.75s/it]"
     ]
    },
    {
     "name": "stdout",
     "output_type": "stream",
     "text": [
      "Successfully fetched: https://www.forbes.com/sites/lisakocay/2023/09/14/bass-music-maven-jeanie-talks-lost-lands-and-women-in-dubstep/\n"
     ]
    },
    {
     "name": "stderr",
     "output_type": "stream",
     "text": [
      "Scraping Progress:  18%|█▊        | 592/3302 [15:05<1:24:50,  1.88s/it]"
     ]
    },
    {
     "name": "stdout",
     "output_type": "stream",
     "text": [
      "Successfully fetched: https://toucharcade.com/2023/10/17/saltsea-chronicles-switch-review-front-mission-2-remake-detective-pikachu-returns-eshop-deal-price/\n"
     ]
    },
    {
     "name": "stderr",
     "output_type": "stream",
     "text": [
      "Scraping Progress:  18%|█▊        | 593/3302 [15:07<1:26:46,  1.92s/it]"
     ]
    },
    {
     "name": "stdout",
     "output_type": "stream",
     "text": [
      "Successfully fetched: https://mysku.club/blog/china-stores/88835.html\n"
     ]
    },
    {
     "name": "stderr",
     "output_type": "stream",
     "text": [
      "Scraping Progress:  18%|█▊        | 594/3302 [15:11<1:43:45,  2.30s/it]"
     ]
    },
    {
     "name": "stdout",
     "output_type": "stream",
     "text": [
      "Successfully fetched: https://www.geeky-gadgets.com/wonderful-story-of-henry-sugar-netflix/\n"
     ]
    },
    {
     "name": "stderr",
     "output_type": "stream",
     "text": [
      "Scraping Progress:  18%|█▊        | 595/3302 [15:12<1:29:08,  1.98s/it]"
     ]
    },
    {
     "name": "stdout",
     "output_type": "stream",
     "text": [
      "Successfully fetched: https://www.huffpost.com/entry/ryan-zinke-curb-spending_n_65155c5be4b00f948c60be19\n"
     ]
    },
    {
     "name": "stderr",
     "output_type": "stream",
     "text": [
      "Scraping Progress:  18%|█▊        | 596/3302 [15:13<1:16:35,  1.70s/it]"
     ]
    },
    {
     "name": "stdout",
     "output_type": "stream",
     "text": [
      "Successfully fetched: https://prtimes.jp/main/html/rd/p/000000467.000002922.html\n"
     ]
    },
    {
     "name": "stderr",
     "output_type": "stream",
     "text": [
      "Scraping Progress:  18%|█▊        | 597/3302 [15:14<1:11:28,  1.59s/it]"
     ]
    },
    {
     "name": "stdout",
     "output_type": "stream",
     "text": [
      "Successfully fetched: https://punchng.com/challenges-made-me-stronger-boxer-oshoba/\n"
     ]
    },
    {
     "name": "stderr",
     "output_type": "stream",
     "text": [
      "Scraping Progress:  18%|█▊        | 598/3302 [15:16<1:11:05,  1.58s/it]"
     ]
    },
    {
     "name": "stdout",
     "output_type": "stream",
     "text": [
      "Cannot fetch https://iz.ru/1592341/katerina-alabina/lavry-pottera-novaia-kniga-o-persi-dzheksone-stala-bestsellerom-amazon, HTTP error: 403 Client Error: Forbidden for url: https://iz.ru/1592341/katerina-alabina/lavry-pottera-novaia-kniga-o-persi-dzheksone-stala-bestsellerom-amazon\n"
     ]
    },
    {
     "name": "stderr",
     "output_type": "stream",
     "text": [
      "Scraping Progress:  18%|█▊        | 601/3302 [15:19<1:00:02,  1.33s/it]"
     ]
    },
    {
     "name": "stdout",
     "output_type": "stream",
     "text": [
      "Successfully fetched: https://prtimes.jp/main/html/rd/p/000000223.000016877.html\n"
     ]
    },
    {
     "name": "stderr",
     "output_type": "stream",
     "text": [
      "Scraping Progress:  18%|█▊        | 603/3302 [15:22<56:47,  1.26s/it]  "
     ]
    },
    {
     "name": "stdout",
     "output_type": "stream",
     "text": [
      "Successfully fetched: https://www.rawstory.com/trump-14th-amendment-2666098709/\n"
     ]
    },
    {
     "name": "stderr",
     "output_type": "stream",
     "text": [
      "Scraping Progress:  18%|█▊        | 604/3302 [15:23<54:25,  1.21s/it]"
     ]
    },
    {
     "name": "stdout",
     "output_type": "stream",
     "text": [
      "Successfully fetched: https://prtimes.jp/main/html/rd/p/000004330.000032953.html\n"
     ]
    },
    {
     "name": "stderr",
     "output_type": "stream",
     "text": [
      "Scraping Progress:  18%|█▊        | 605/3302 [15:24<55:36,  1.24s/it]"
     ]
    },
    {
     "name": "stdout",
     "output_type": "stream",
     "text": [
      "Successfully fetched: https://blog.es.playstation.com/2023/10/09/la-decimotercera-coleccion-de-pistol-whip-trae-aterradoras-nuevas-escenas-a-ps-vr2/\n"
     ]
    },
    {
     "name": "stderr",
     "output_type": "stream",
     "text": [
      "Scraping Progress:  18%|█▊        | 606/3302 [15:27<1:10:27,  1.57s/it]"
     ]
    },
    {
     "name": "stdout",
     "output_type": "stream",
     "text": [
      "Successfully fetched: https://prtimes.jp/main/html/rd/p/000000216.000016877.html\n"
     ]
    },
    {
     "name": "stderr",
     "output_type": "stream",
     "text": [
      "Scraping Progress:  18%|█▊        | 607/3302 [15:28<1:07:00,  1.49s/it]"
     ]
    },
    {
     "name": "stdout",
     "output_type": "stream",
     "text": [
      "Successfully fetched: https://prtimes.jp/main/html/rd/p/000000002.000120052.html\n"
     ]
    },
    {
     "name": "stderr",
     "output_type": "stream",
     "text": [
      "Scraping Progress:  18%|█▊        | 608/3302 [15:30<1:09:17,  1.54s/it]"
     ]
    },
    {
     "name": "stdout",
     "output_type": "stream",
     "text": [
      "Successfully fetched: https://vnexpress.net/xiec-ket-hop-rock-trong-thien-than-len-nui-4656598.html\n"
     ]
    },
    {
     "name": "stderr",
     "output_type": "stream",
     "text": [
      "Scraping Progress:  18%|█▊        | 609/3302 [15:33<1:32:33,  2.06s/it]"
     ]
    },
    {
     "name": "stdout",
     "output_type": "stream",
     "text": [
      "Successfully fetched: https://pagesix.com/2023/10/05/maren-morris-on-why-she-left-toxic-arms-of-country-music-couldnt-do-this-circus-anymore/\n"
     ]
    },
    {
     "name": "stderr",
     "output_type": "stream",
     "text": [
      "Scraping Progress:  18%|█▊        | 610/3302 [15:34<1:24:27,  1.88s/it]"
     ]
    },
    {
     "name": "stdout",
     "output_type": "stream",
     "text": [
      "Successfully fetched: https://www.marketingdirecto.com/marketing-general/eventos-y-formacion/el-ojo-de-iberoamerica-2023-anuncia-presidentes-jurado\n"
     ]
    },
    {
     "name": "stderr",
     "output_type": "stream",
     "text": [
      "Scraping Progress:  19%|█▊        | 611/3302 [15:36<1:29:21,  1.99s/it]"
     ]
    },
    {
     "name": "stdout",
     "output_type": "stream",
     "text": [
      "Successfully fetched: https://www.pockettactics.com/fear-fest-2023-round-up\n"
     ]
    },
    {
     "name": "stderr",
     "output_type": "stream",
     "text": [
      "Scraping Progress:  19%|█▊        | 613/3302 [15:41<1:28:39,  1.98s/it]"
     ]
    },
    {
     "name": "stdout",
     "output_type": "stream",
     "text": [
      "Successfully fetched: https://www.gamespot.com/reviews/baldurs-gate-3-review-let-freedom-reign/1900-6418131/\n"
     ]
    },
    {
     "name": "stderr",
     "output_type": "stream",
     "text": [
      "Scraping Progress:  19%|█▊        | 614/3302 [15:42<1:16:15,  1.70s/it]"
     ]
    },
    {
     "name": "stdout",
     "output_type": "stream",
     "text": [
      "Successfully fetched: https://londonist.com/london/history/fog-smog-london-1962\n"
     ]
    },
    {
     "name": "stderr",
     "output_type": "stream",
     "text": [
      "Scraping Progress:  19%|█▊        | 615/3302 [15:43<1:08:46,  1.54s/it]"
     ]
    },
    {
     "name": "stdout",
     "output_type": "stream",
     "text": [
      "Successfully fetched: https://biztoc.com/x/081848bbcce7e178\n"
     ]
    },
    {
     "name": "stderr",
     "output_type": "stream",
     "text": [
      "Scraping Progress:  19%|█▊        | 616/3302 [15:44<1:02:53,  1.40s/it]"
     ]
    },
    {
     "name": "stdout",
     "output_type": "stream",
     "text": [
      "Successfully fetched: https://www.thelineofbestfit.com/news/britney-spears-calls-out-media-circus-surrounding-her-memoir-thats-exactly-why-i-quit-the-business-four-years-ago\n"
     ]
    },
    {
     "name": "stderr",
     "output_type": "stream",
     "text": [
      "Scraping Progress:  19%|█▊        | 618/3302 [15:47<1:05:58,  1.47s/it]"
     ]
    },
    {
     "name": "stdout",
     "output_type": "stream",
     "text": [
      "Successfully fetched: https://www.breitbart.com/politics/2023/09/28/elephants-first-to-benefit-as-ojai-ca-recognizes-legal-rights-of-nonhuman-animals/\n"
     ]
    },
    {
     "name": "stderr",
     "output_type": "stream",
     "text": [
      "Scraping Progress:  19%|█▊        | 619/3302 [15:49<1:04:39,  1.45s/it]"
     ]
    },
    {
     "name": "stdout",
     "output_type": "stream",
     "text": [
      "Successfully fetched: https://www.mmamania.com/2023/10/4/23902483/midnight-mania-grappling-champion-accuses-gordon-ryan-fight-fixing-all-time-disgrace-bjj-ufc\n"
     ]
    },
    {
     "name": "stderr",
     "output_type": "stream",
     "text": [
      "Scraping Progress:  19%|█▉        | 620/3302 [15:51<1:14:50,  1.67s/it]"
     ]
    },
    {
     "name": "stdout",
     "output_type": "stream",
     "text": [
      "Successfully fetched: https://dc.eater.com/2023/10/16/23919812/dc-hot-new-wine-bar-little-blackbird-halloween-candy-pairing-cleveland-park\n"
     ]
    },
    {
     "name": "stderr",
     "output_type": "stream",
     "text": [
      "Scraping Progress:  19%|█▉        | 621/3302 [15:53<1:16:29,  1.71s/it]"
     ]
    },
    {
     "name": "stdout",
     "output_type": "stream",
     "text": [
      "Successfully fetched: https://comicbookmovie.com/fantastic-four/fantastic-four-reboots-working-title-has-been-revealed-movie-will-be-a-grand-cosmic-adventure-a207486\n"
     ]
    },
    {
     "name": "stderr",
     "output_type": "stream",
     "text": [
      "Scraping Progress:  19%|█▉        | 622/3302 [15:54<1:09:43,  1.56s/it]"
     ]
    },
    {
     "name": "stdout",
     "output_type": "stream",
     "text": [
      "Successfully fetched: https://www.disneyfoodblog.com/2023/10/22/this-may-be-our-new-favorite-place-to-charge-our-phones-in-disney-world/\n"
     ]
    },
    {
     "name": "stderr",
     "output_type": "stream",
     "text": [
      "Scraping Progress:  19%|█▉        | 623/3302 [15:56<1:11:44,  1.61s/it]"
     ]
    },
    {
     "name": "stdout",
     "output_type": "stream",
     "text": [
      "Successfully fetched: https://www.mmamania.com/2023/10/11/23913338/video-ksi-spits-on-john-fury-in-latest-wild-scene-from-the-prime-card-open-workouts\n"
     ]
    },
    {
     "name": "stderr",
     "output_type": "stream",
     "text": [
      "Scraping Progress:  19%|█▉        | 624/3302 [15:58<1:19:46,  1.79s/it]"
     ]
    },
    {
     "name": "stdout",
     "output_type": "stream",
     "text": [
      "Successfully fetched: https://prtimes.jp/main/html/rd/p/000000210.000032099.html\n"
     ]
    },
    {
     "name": "stderr",
     "output_type": "stream",
     "text": [
      "Scraping Progress:  19%|█▉        | 625/3302 [15:59<1:13:10,  1.64s/it]"
     ]
    },
    {
     "name": "stdout",
     "output_type": "stream",
     "text": [
      "Successfully fetched: https://earmilk.com/2023/10/06/michele-ducray-shares-a-dark-pop-catharsis-in-throne-of-mine/\n"
     ]
    },
    {
     "name": "stderr",
     "output_type": "stream",
     "text": [
      "Scraping Progress:  19%|█▉        | 626/3302 [16:04<2:01:00,  2.71s/it]"
     ]
    },
    {
     "name": "stdout",
     "output_type": "stream",
     "text": [
      "Successfully fetched: https://nypost.com/2023/09/27/king-charles-to-bring-more-changes-to-slimmed-down-royal-family-ex-butler-says/\n"
     ]
    },
    {
     "name": "stderr",
     "output_type": "stream",
     "text": [
      "Scraping Progress:  19%|█▉        | 627/3302 [16:06<1:52:36,  2.53s/it]"
     ]
    },
    {
     "name": "stdout",
     "output_type": "stream",
     "text": [
      "Successfully fetched: https://www.mmamania.com/2023/10/15/23917919/dillon-danis-makes-statement-claiming-victory-after-wild-dq-loss-to-logan-paul\n"
     ]
    },
    {
     "name": "stderr",
     "output_type": "stream",
     "text": [
      "Scraping Progress:  19%|█▉        | 628/3302 [16:08<1:44:36,  2.35s/it]"
     ]
    },
    {
     "name": "stdout",
     "output_type": "stream",
     "text": [
      "Successfully fetched: https://www.mmamania.com/videos/2023/10/12/23914991/video-alternate-angle-shows-moment-dillon-danis-bloodied-logan-paul-water-bottle-trickshot\n"
     ]
    },
    {
     "name": "stderr",
     "output_type": "stream",
     "text": [
      "Scraping Progress:  19%|█▉        | 629/3302 [16:10<1:40:52,  2.26s/it]"
     ]
    },
    {
     "name": "stdout",
     "output_type": "stream",
     "text": [
      "Successfully fetched: https://www.vintag.es/2023/09/circassian-beauties.html\n"
     ]
    },
    {
     "name": "stderr",
     "output_type": "stream",
     "text": [
      "Scraping Progress:  19%|█▉        | 630/3302 [16:12<1:26:50,  1.95s/it]"
     ]
    },
    {
     "name": "stdout",
     "output_type": "stream",
     "text": [
      "Successfully fetched: https://deadline.com/2023/09/toronto-film-festival-your-mothers-son-jun-robles-lana-philippines-1235540047/\n"
     ]
    },
    {
     "name": "stderr",
     "output_type": "stream",
     "text": [
      "Scraping Progress:  19%|█▉        | 631/3302 [16:14<1:25:44,  1.93s/it]"
     ]
    },
    {
     "name": "stdout",
     "output_type": "stream",
     "text": [
      "Successfully fetched: https://www.disneyfoodblog.com/2023/10/26/all-the-rides-open-during-mickeys-very-merry-christmas-party-in-disney-world/\n"
     ]
    },
    {
     "name": "stderr",
     "output_type": "stream",
     "text": [
      "Scraping Progress:  19%|█▉        | 632/3302 [16:15<1:24:17,  1.89s/it]"
     ]
    },
    {
     "name": "stdout",
     "output_type": "stream",
     "text": [
      "Cannot fetch https://www.gazzetta.it/Formula-1/03-10-2023/festival-di-trento-villeneuve-e-tsunoda-la-velocit-nel-sangue.shtml, HTTP error: 404 Client Error: Not Found for url: https://www.gazzetta.it/Formula-1/03-10-2023/festival-di-trento-villeneuve-e-tsunoda-la-velocit-nel-sangue.shtml\n"
     ]
    },
    {
     "name": "stderr",
     "output_type": "stream",
     "text": [
      "Scraping Progress:  19%|█▉        | 633/3302 [16:17<1:17:23,  1.74s/it]"
     ]
    },
    {
     "name": "stdout",
     "output_type": "stream",
     "text": [
      "Successfully fetched: https://screenrant.com/fnaf-freddy-fazbear-not-evil-lore/\n"
     ]
    },
    {
     "name": "stderr",
     "output_type": "stream",
     "text": [
      "Scraping Progress:  19%|█▉        | 634/3302 [16:18<1:10:10,  1.58s/it]"
     ]
    },
    {
     "name": "stdout",
     "output_type": "stream",
     "text": [
      "Successfully fetched: https://www.gazzetta.it/festival-sport-trento/12-10-2023/villeneuve-e-il-retroscena-su-jerez-97-schumi-battaglia-solo-li-ma-sapevo-avrei-vinto.shtml\n"
     ]
    },
    {
     "name": "stderr",
     "output_type": "stream",
     "text": [
      "Scraping Progress:  19%|█▉        | 635/3302 [16:19<1:05:29,  1.47s/it]"
     ]
    },
    {
     "name": "stdout",
     "output_type": "stream",
     "text": [
      "Successfully fetched: https://www.gazzetta.it/Formula-1/13-10-2023/tsunoda-al-festival-verstappen-il-piu-simpatico.shtml\n"
     ]
    },
    {
     "name": "stderr",
     "output_type": "stream",
     "text": [
      "Scraping Progress:  19%|█▉        | 636/3302 [16:21<1:09:23,  1.56s/it]"
     ]
    },
    {
     "name": "stdout",
     "output_type": "stream",
     "text": [
      "Successfully fetched: https://dailycaller.com/2023/10/25/california-city-passes-resolution-standing-solidarity-palestine-accusing-israel-genocide/\n"
     ]
    },
    {
     "name": "stderr",
     "output_type": "stream",
     "text": [
      "Scraping Progress:  19%|█▉        | 637/3302 [16:23<1:15:03,  1.69s/it]"
     ]
    },
    {
     "name": "stdout",
     "output_type": "stream",
     "text": [
      "Successfully fetched: https://www.vintag.es/2023/10/gladys-ingle.html\n"
     ]
    },
    {
     "name": "stderr",
     "output_type": "stream",
     "text": [
      "Scraping Progress:  19%|█▉        | 638/3302 [16:24<1:09:09,  1.56s/it]"
     ]
    },
    {
     "name": "stdout",
     "output_type": "stream",
     "text": [
      "Successfully fetched: https://smartbitchestrashybooks.com/2023/10/circuses-shifters-more/\n"
     ]
    },
    {
     "name": "stderr",
     "output_type": "stream",
     "text": [
      "Scraping Progress:  19%|█▉        | 639/3302 [16:26<1:18:49,  1.78s/it]"
     ]
    },
    {
     "name": "stdout",
     "output_type": "stream",
     "text": [
      "Cannot fetch https://www.hln.be/formule-1/live-f1-prins-harry-op-bezoek-in-texas-verstappen-gaat-vanuit-zesde-positie-op-zoek-naar-50ste-gp-zege~a050126e/, HTTP error: 403 Client Error: Forbidden for url: https://www.hln.be/formule-1/live-f1-prins-harry-op-bezoek-in-texas-verstappen-gaat-vanuit-zesde-positie-op-zoek-naar-50ste-gp-zege~a050126e/\n"
     ]
    },
    {
     "name": "stderr",
     "output_type": "stream",
     "text": [
      "Scraping Progress:  19%|█▉        | 640/3302 [16:27<1:08:47,  1.55s/it]"
     ]
    },
    {
     "name": "stdout",
     "output_type": "stream",
     "text": [
      "Cannot fetch https://www.hln.be/formule-1/live-f1-norris-schiet-uitstekend-weg-vanop-de-pole-verstappen-bezig-aan-inhaalrace~a050126e/, HTTP error: 403 Client Error: Forbidden for url: https://www.hln.be/formule-1/live-f1-norris-schiet-uitstekend-weg-vanop-de-pole-verstappen-bezig-aan-inhaalrace~a050126e/\n"
     ]
    },
    {
     "name": "stderr",
     "output_type": "stream",
     "text": [
      "Scraping Progress:  19%|█▉        | 642/3302 [16:30<56:53,  1.28s/it]  "
     ]
    },
    {
     "name": "stdout",
     "output_type": "stream",
     "text": [
      "Successfully fetched: https://www.printmag.com/daily-heller/the-daily-heller-richard-yeend-comic-part-one/\n"
     ]
    },
    {
     "name": "stderr",
     "output_type": "stream",
     "text": [
      "Scraping Progress:  19%|█▉        | 643/3302 [16:32<1:11:20,  1.61s/it]"
     ]
    },
    {
     "name": "stdout",
     "output_type": "stream",
     "text": [
      "Successfully fetched: https://www.bostonglobe.com/2023/10/25/arts/david-c-howse-is-leaving-artsemerson-presidency-california-college/\n"
     ]
    },
    {
     "name": "stderr",
     "output_type": "stream",
     "text": [
      "Scraping Progress:  20%|█▉        | 645/3302 [16:35<1:08:00,  1.54s/it]"
     ]
    },
    {
     "name": "stdout",
     "output_type": "stream",
     "text": [
      "Successfully fetched: https://www.nrc.nl/nieuws/2023/10/06/een-flinke-regenbui-heeft-roet-in-het-eten-gegooid-a4176185\n"
     ]
    },
    {
     "name": "stderr",
     "output_type": "stream",
     "text": [
      "Scraping Progress:  20%|█▉        | 650/3302 [16:41<53:07,  1.20s/it]  "
     ]
    },
    {
     "name": "stdout",
     "output_type": "stream",
     "text": [
      "Successfully fetched: https://screenrant.com/percy-jackson-olympians-show-nycc-crew-interview/\n"
     ]
    },
    {
     "name": "stderr",
     "output_type": "stream",
     "text": [
      "Scraping Progress:  20%|█▉        | 651/3302 [16:42<53:31,  1.21s/it]"
     ]
    },
    {
     "name": "stdout",
     "output_type": "stream",
     "text": [
      "Successfully fetched: https://screenrant.com/movies-that-shouldve-been-different-genre/\n"
     ]
    },
    {
     "name": "stderr",
     "output_type": "stream",
     "text": [
      "Scraping Progress:  20%|█▉        | 655/3302 [16:47<50:32,  1.15s/it]"
     ]
    },
    {
     "name": "stdout",
     "output_type": "stream",
     "text": [
      "Successfully fetched: https://www.nrc.nl/nieuws/2023/10/26/nieuwe-poezieprijs-van-50000-euro-a4178702\n"
     ]
    },
    {
     "name": "stderr",
     "output_type": "stream",
     "text": [
      "Scraping Progress:  20%|█▉        | 658/3302 [16:50<50:39,  1.15s/it]"
     ]
    },
    {
     "name": "stdout",
     "output_type": "stream",
     "text": [
      "Successfully fetched: https://www.educaciontrespuntocero.com/familias/esquiar-en-grandvalira/\n"
     ]
    },
    {
     "name": "stderr",
     "output_type": "stream",
     "text": [
      "Scraping Progress:  20%|█▉        | 659/3302 [16:52<56:03,  1.27s/it]"
     ]
    },
    {
     "name": "stdout",
     "output_type": "stream",
     "text": [
      "Successfully fetched: https://leganerd.com/2023/10/02/messi-meets-america-il-trailer-del-documentario-apple-tv/\n"
     ]
    },
    {
     "name": "stderr",
     "output_type": "stream",
     "text": [
      "Scraping Progress:  20%|█▉        | 660/3302 [16:53<59:06,  1.34s/it]"
     ]
    },
    {
     "name": "stdout",
     "output_type": "stream",
     "text": [
      "Successfully fetched: https://www.mmafighting.com/2023/10/14/23917221/what-an-embarrassment-pros-react-to-dillon-danis-bizarre-disqualification-loss-to-logan-paul\n"
     ]
    },
    {
     "name": "stderr",
     "output_type": "stream",
     "text": [
      "Scraping Progress:  20%|██        | 661/3302 [16:56<1:15:59,  1.73s/it]"
     ]
    },
    {
     "name": "stdout",
     "output_type": "stream",
     "text": [
      "Cannot fetch https://www.hln.be/formule-1/live-f1-max-verstappen-ook-in-tweede-vrije-training-de-snelste-in-japan~aec0aebb/, HTTP error: 403 Client Error: Forbidden for url: https://www.hln.be/formule-1/live-f1-max-verstappen-ook-in-tweede-vrije-training-de-snelste-in-japan~aec0aebb/\n"
     ]
    },
    {
     "name": "stderr",
     "output_type": "stream",
     "text": [
      "Scraping Progress:  20%|██        | 662/3302 [16:57<1:06:37,  1.51s/it]"
     ]
    },
    {
     "name": "stdout",
     "output_type": "stream",
     "text": [
      "Cannot fetch https://www.hln.be/veldrijden/kijk-gerben-kuypers-verwijst-eli-iserbyt-na-demonstratie-in-ardooie-naar-nieuwe-tweede-plaats~a52e1e89/, HTTP error: 403 Client Error: Forbidden for url: https://www.hln.be/veldrijden/kijk-gerben-kuypers-verwijst-eli-iserbyt-na-demonstratie-in-ardooie-naar-nieuwe-tweede-plaats~a52e1e89/\n"
     ]
    },
    {
     "name": "stderr",
     "output_type": "stream",
     "text": [
      "Scraping Progress:  20%|██        | 663/3302 [16:58<1:00:09,  1.37s/it]"
     ]
    },
    {
     "name": "stdout",
     "output_type": "stream",
     "text": [
      "Successfully fetched: https://www.nybooks.com/online/2023/09/02/jammin-in-the-panoram-soundies/\n"
     ]
    },
    {
     "name": "stderr",
     "output_type": "stream",
     "text": [
      "Scraping Progress:  20%|██        | 664/3302 [17:00<1:02:06,  1.41s/it]"
     ]
    },
    {
     "name": "stdout",
     "output_type": "stream",
     "text": [
      "Successfully fetched: https://www.rogerebert.com/festivals/tiff-2023-after-the-fire-achilles-the-queen-of-my-dreams\n"
     ]
    },
    {
     "name": "stderr",
     "output_type": "stream",
     "text": [
      "Scraping Progress:  20%|██        | 665/3302 [17:01<59:09,  1.35s/it]  "
     ]
    },
    {
     "name": "stdout",
     "output_type": "stream",
     "text": [
      "Cannot fetch https://www.hln.be/formule-1/live-f1-verstappen-op-weg-voor-nieuwe-onemanshow-in-japan~aec0aebb/, HTTP error: 403 Client Error: Forbidden for url: https://www.hln.be/formule-1/live-f1-verstappen-op-weg-voor-nieuwe-onemanshow-in-japan~aec0aebb/\n"
     ]
    },
    {
     "name": "stderr",
     "output_type": "stream",
     "text": [
      "Scraping Progress:  20%|██        | 666/3302 [17:02<54:53,  1.25s/it]"
     ]
    },
    {
     "name": "stdout",
     "output_type": "stream",
     "text": [
      "Cannot fetch https://www.hln.be/formule-1/live-f1-carlos-sainz-grijpt-de-pole-in-monza-spanjaard-klopt-verstappen-na-zinderende-strijd~a8ce56d2/, HTTP error: 403 Client Error: Forbidden for url: https://www.hln.be/formule-1/live-f1-carlos-sainz-grijpt-de-pole-in-monza-spanjaard-klopt-verstappen-na-zinderende-strijd~a8ce56d2/\n"
     ]
    },
    {
     "name": "stderr",
     "output_type": "stream",
     "text": [
      "Scraping Progress:  20%|██        | 667/3302 [17:03<51:54,  1.18s/it]"
     ]
    },
    {
     "name": "stdout",
     "output_type": "stream",
     "text": [
      "Cannot fetch https://www.hln.be/formule-1/live-f1-ophef-nadat-fia-maximumboetes-voor-rijders-verhoogt-tot-1-miljoen-euro-sommigen-verdienen-niet-eens-zo-veel~a050126e/, HTTP error: 403 Client Error: Forbidden for url: https://www.hln.be/formule-1/live-f1-ophef-nadat-fia-maximumboetes-voor-rijders-verhoogt-tot-1-miljoen-euro-sommigen-verdienen-niet-eens-zo-veel~a050126e/\n"
     ]
    },
    {
     "name": "stderr",
     "output_type": "stream",
     "text": [
      "Scraping Progress:  20%|██        | 668/3302 [17:04<49:46,  1.13s/it]"
     ]
    },
    {
     "name": "stdout",
     "output_type": "stream",
     "text": [
      "Successfully fetched: https://touringplans.com/blog/five-things-to-know-about-the-barnstormer-starring-the-great-goofini/\n"
     ]
    },
    {
     "name": "stderr",
     "output_type": "stream",
     "text": [
      "Scraping Progress:  20%|██        | 670/3302 [17:07<54:18,  1.24s/it]"
     ]
    },
    {
     "name": "stdout",
     "output_type": "stream",
     "text": [
      "Cannot fetch https://www.newsobserver.com/news/politics-government/article279113754.html, connection timed out.\n"
     ]
    },
    {
     "name": "stderr",
     "output_type": "stream",
     "text": [
      "Scraping Progress:  20%|██        | 671/3302 [17:18<3:02:58,  4.17s/it]"
     ]
    },
    {
     "name": "stdout",
     "output_type": "stream",
     "text": [
      "Cannot fetch https://www.hln.be/formule-1/live-f1-norris-schiet-uitstekend-weg-vanop-de-pole-verstappen-schuift-plaatsje-op-naar-p5~a050126e/, HTTP error: 403 Client Error: Forbidden for url: https://www.hln.be/formule-1/live-f1-norris-schiet-uitstekend-weg-vanop-de-pole-verstappen-schuift-plaatsje-op-naar-p5~a050126e/\n"
     ]
    },
    {
     "name": "stderr",
     "output_type": "stream",
     "text": [
      "Scraping Progress:  20%|██        | 672/3302 [17:19<2:21:32,  3.23s/it]"
     ]
    },
    {
     "name": "stdout",
     "output_type": "stream",
     "text": [
      "Successfully fetched: https://www.sopitas.com/mientras-tanto/trapecista-rusa-maria-smetanova-caida-circo-video/\n"
     ]
    },
    {
     "name": "stderr",
     "output_type": "stream",
     "text": [
      "Scraping Progress:  20%|██        | 673/3302 [17:23<2:38:25,  3.62s/it]"
     ]
    },
    {
     "name": "stdout",
     "output_type": "stream",
     "text": [
      "Successfully fetched: https://www.vitalmtb.com/features/dak-gets-2nd-vitals-b-practice-podcast-loudenvielle-world-cup-downhill\n"
     ]
    },
    {
     "name": "stderr",
     "output_type": "stream",
     "text": [
      "Scraping Progress:  20%|██        | 675/3302 [17:27<1:55:11,  2.63s/it]"
     ]
    },
    {
     "name": "stdout",
     "output_type": "stream",
     "text": [
      "Successfully fetched: https://brobible.com/sports/article/travis-kelce-taylor-swift-deets/\n"
     ]
    },
    {
     "name": "stderr",
     "output_type": "stream",
     "text": [
      "Scraping Progress:  20%|██        | 676/3302 [17:28<1:36:43,  2.21s/it]"
     ]
    },
    {
     "name": "stdout",
     "output_type": "stream",
     "text": [
      "Successfully fetched: https://cnaluxury.channelnewsasia.com/experiences/f1-singapore-grand-prix-parties-2023-239936\n"
     ]
    },
    {
     "name": "stderr",
     "output_type": "stream",
     "text": [
      "Scraping Progress:  21%|██        | 677/3302 [17:32<1:56:31,  2.66s/it]"
     ]
    },
    {
     "name": "stdout",
     "output_type": "stream",
     "text": [
      "Successfully fetched: https://www.diepresse.com/15978038/arena-nun-gibt-es-probleme-mit-den-indoor-partys\n"
     ]
    },
    {
     "name": "stderr",
     "output_type": "stream",
     "text": [
      "Scraping Progress:  21%|██        | 678/3302 [17:34<1:51:09,  2.54s/it]"
     ]
    },
    {
     "name": "stdout",
     "output_type": "stream",
     "text": [
      "Successfully fetched: https://www.xxlmag.com/jeleel-falls-ramp-bike-trick/\n"
     ]
    },
    {
     "name": "stderr",
     "output_type": "stream",
     "text": [
      "Scraping Progress:  21%|██        | 679/3302 [17:36<1:39:13,  2.27s/it]"
     ]
    },
    {
     "name": "stdout",
     "output_type": "stream",
     "text": [
      "Successfully fetched: https://prtimes.jp/main/html/rd/p/000000010.000021146.html\n"
     ]
    },
    {
     "name": "stderr",
     "output_type": "stream",
     "text": [
      "Scraping Progress:  21%|██        | 680/3302 [17:37<1:27:17,  2.00s/it]"
     ]
    },
    {
     "name": "stdout",
     "output_type": "stream",
     "text": [
      "Successfully fetched: https://orf.at/stories/3330905/\n"
     ]
    },
    {
     "name": "stderr",
     "output_type": "stream",
     "text": [
      "Scraping Progress:  21%|██        | 681/3302 [17:39<1:22:18,  1.88s/it]"
     ]
    },
    {
     "name": "stdout",
     "output_type": "stream",
     "text": [
      "Successfully fetched: https://www.skai.gr/news/life-style-wellness/britney-spears-10-apokalypseis-apo-to-vivlio-tis-star\n"
     ]
    },
    {
     "name": "stderr",
     "output_type": "stream",
     "text": [
      "Scraping Progress:  21%|██        | 682/3302 [17:40<1:18:14,  1.79s/it]"
     ]
    },
    {
     "name": "stdout",
     "output_type": "stream",
     "text": [
      "Successfully fetched: https://spravy.pravda.sk/svet/clanok/680741-ruch-londyna-je-jedinecny-svojim-carom-a-ikonickymi-double-deckrami-zabery-priamo-odtial-nam-poslal-nas-mreporter/\n"
     ]
    },
    {
     "name": "stderr",
     "output_type": "stream",
     "text": [
      "Scraping Progress:  21%|██        | 683/3302 [17:42<1:23:35,  1.91s/it]"
     ]
    },
    {
     "name": "stdout",
     "output_type": "stream",
     "text": [
      "Successfully fetched: https://www.abc.es/play/series/noticias/muere-richard-moll-recordado-bull-serie-juzgado-20231030145643-nt.html\n"
     ]
    },
    {
     "name": "stderr",
     "output_type": "stream",
     "text": [
      "Scraping Progress:  21%|██        | 684/3302 [17:44<1:24:29,  1.94s/it]"
     ]
    },
    {
     "name": "stdout",
     "output_type": "stream",
     "text": [
      "Successfully fetched: https://www.wonkette.com/p/grass-is-not-always-greener-on-both\n"
     ]
    },
    {
     "name": "stderr",
     "output_type": "stream",
     "text": [
      "Scraping Progress:  21%|██        | 685/3302 [17:46<1:15:36,  1.73s/it]"
     ]
    },
    {
     "name": "stdout",
     "output_type": "stream",
     "text": [
      "Successfully fetched: https://crooksandliars.com/2023/10/yikes-gop-race-house-speaker-just-hit-peak\n"
     ]
    },
    {
     "name": "stderr",
     "output_type": "stream",
     "text": [
      "Scraping Progress:  21%|██        | 686/3302 [17:47<1:10:43,  1.62s/it]"
     ]
    },
    {
     "name": "stdout",
     "output_type": "stream",
     "text": [
      "Successfully fetched: https://dailycaller.com/2023/09/12/federal-judiciary-policymaking-body-deals-blow-dems-bid-televise-trumps-trials/\n"
     ]
    },
    {
     "name": "stderr",
     "output_type": "stream",
     "text": [
      "Scraping Progress:  21%|██        | 687/3302 [17:49<1:10:48,  1.62s/it]"
     ]
    },
    {
     "name": "stdout",
     "output_type": "stream",
     "text": [
      "Successfully fetched: https://www.msnbc.com/rachel-maddow-show/maddowblog/split-screen-helps-biden-republicans-no-favors-rcna118990\n"
     ]
    },
    {
     "name": "stderr",
     "output_type": "stream",
     "text": [
      "Scraping Progress:  21%|██        | 688/3302 [17:50<1:09:45,  1.60s/it]"
     ]
    },
    {
     "name": "stdout",
     "output_type": "stream",
     "text": [
      "Successfully fetched: https://www.msnbc.com/rachel-maddow-show/maddowblog/curious-reason-house-republican-threatening-resign-rcna118584\n"
     ]
    },
    {
     "name": "stderr",
     "output_type": "stream",
     "text": [
      "Scraping Progress:  21%|██        | 689/3302 [17:52<1:07:43,  1.55s/it]"
     ]
    },
    {
     "name": "stdout",
     "output_type": "stream",
     "text": [
      "Successfully fetched: https://www.foxsports.com/stories/college-football/sportsbooks-win-big-on-colorados-colossal-meltdown-vs-stanford\n"
     ]
    },
    {
     "name": "stderr",
     "output_type": "stream",
     "text": [
      "Scraping Progress:  21%|██        | 691/3302 [17:54<58:31,  1.34s/it]  "
     ]
    },
    {
     "name": "stdout",
     "output_type": "stream",
     "text": [
      "Successfully fetched: https://comicbookmovie.com/justice-league/moon-knight-director-mohamed-diab-says-zack-snyders-dceu-movies-didnt-appeal-to-him-a206067\n"
     ]
    },
    {
     "name": "stderr",
     "output_type": "stream",
     "text": [
      "Scraping Progress:  21%|██        | 692/3302 [17:55<57:01,  1.31s/it]"
     ]
    },
    {
     "name": "stdout",
     "output_type": "stream",
     "text": [
      "Successfully fetched: https://comicbookmovie.com/tv/marvel/moon-knight/moon-knight-director-talks-dashed-hopes-for-a-hulk-cameo-and-whether-a-second-season-or-movie-could-follow-a206076\n"
     ]
    },
    {
     "name": "stderr",
     "output_type": "stream",
     "text": [
      "Scraping Progress:  21%|██        | 693/3302 [17:57<1:00:49,  1.40s/it]"
     ]
    },
    {
     "name": "stdout",
     "output_type": "stream",
     "text": [
      "Successfully fetched: https://comicbookmovie.com/tv/marvel/agatha-coven-of-chaos/agatha-gets-a-spoilery-new-synopsis-as-daredevil-born-agains-projected-2024-2025-premiere-date-is-revealed-a206046\n"
     ]
    },
    {
     "name": "stderr",
     "output_type": "stream",
     "text": [
      "Scraping Progress:  21%|██        | 694/3302 [17:58<58:32,  1.35s/it]  "
     ]
    },
    {
     "name": "stdout",
     "output_type": "stream",
     "text": [
      "Successfully fetched: https://comicbookmovie.com/tv/marvel/ironheart/ironheart-first-look-at-riri-williams-final-suit-revealed-after-crew-gifts-surface-on-ebay-a207291\n"
     ]
    },
    {
     "name": "stderr",
     "output_type": "stream",
     "text": [
      "Scraping Progress:  21%|██        | 695/3302 [17:59<57:44,  1.33s/it]"
     ]
    },
    {
     "name": "stdout",
     "output_type": "stream",
     "text": [
      "Successfully fetched: https://maisfutebol.iol.pt/ciclismo/vuelta/vuelta-herrada-vence-apos-fuga-topo-da-geral-nao-mexe\n"
     ]
    },
    {
     "name": "stderr",
     "output_type": "stream",
     "text": [
      "Scraping Progress:  21%|██        | 696/3302 [18:01<1:06:05,  1.52s/it]"
     ]
    },
    {
     "name": "stdout",
     "output_type": "stream",
     "text": [
      "Successfully fetched: https://crooksandliars.com/2023/08/trump-mouthpiece-angry-court-dates\n"
     ]
    },
    {
     "name": "stderr",
     "output_type": "stream",
     "text": [
      "Scraping Progress:  21%|██        | 697/3302 [18:03<1:05:01,  1.50s/it]"
     ]
    },
    {
     "name": "stdout",
     "output_type": "stream",
     "text": [
      "Successfully fetched: https://crooksandliars.com/2023/10/rich-lowry-pretends-its-just-few-tourists\n"
     ]
    },
    {
     "name": "stderr",
     "output_type": "stream",
     "text": [
      "Scraping Progress:  21%|██        | 698/3302 [18:04<1:03:00,  1.45s/it]"
     ]
    },
    {
     "name": "stdout",
     "output_type": "stream",
     "text": [
      "Successfully fetched: https://dailycaller.com/2023/09/21/deion-sanders-colorado-buffs-horn-jr-touchdown/\n"
     ]
    },
    {
     "name": "stderr",
     "output_type": "stream",
     "text": [
      "Scraping Progress:  21%|██        | 699/3302 [18:06<1:07:35,  1.56s/it]"
     ]
    },
    {
     "name": "stdout",
     "output_type": "stream",
     "text": [
      "Successfully fetched: https://dailycaller.com/2023/10/04/brian-kilmeade-tim-burchett-mccarthy/\n"
     ]
    },
    {
     "name": "stderr",
     "output_type": "stream",
     "text": [
      "Scraping Progress:  21%|██        | 700/3302 [18:07<1:08:44,  1.59s/it]"
     ]
    },
    {
     "name": "stdout",
     "output_type": "stream",
     "text": [
      "Successfully fetched: https://maisfutebol.iol.pt/modalidades/rui-costa/vuelta-rui-costa-vence-a-15-etapa\n"
     ]
    },
    {
     "name": "stderr",
     "output_type": "stream",
     "text": [
      "Scraping Progress:  21%|██        | 701/3302 [18:10<1:17:58,  1.80s/it]"
     ]
    },
    {
     "name": "stdout",
     "output_type": "stream",
     "text": [
      "Successfully fetched: https://maisfutebol.iol.pt/ciclismo/vuelta/vuelta-vingegaard-e-roglic-cumpre-o-prometido-e-entregam-a-vitoria-a-kuss\n"
     ]
    },
    {
     "name": "stderr",
     "output_type": "stream",
     "text": [
      "Scraping Progress:  21%|██▏       | 702/3302 [18:12<1:25:10,  1.97s/it]"
     ]
    },
    {
     "name": "stdout",
     "output_type": "stream",
     "text": [
      "Successfully fetched: https://maisfutebol.iol.pt/vuelta/ciclismo/vuelta-molano-triunfa-rui-oliveira-fica-em-quarto-lugar\n"
     ]
    },
    {
     "name": "stderr",
     "output_type": "stream",
     "text": [
      "Scraping Progress:  21%|██▏       | 703/3302 [18:14<1:30:07,  2.08s/it]"
     ]
    },
    {
     "name": "stdout",
     "output_type": "stream",
     "text": [
      "Successfully fetched: https://www.dazeddigital.com/art-photography/article/60693/1/photos-that-explore-hedonism-in-the-hellscape-of-modern-life\n"
     ]
    },
    {
     "name": "stderr",
     "output_type": "stream",
     "text": [
      "Scraping Progress:  21%|██▏       | 704/3302 [18:16<1:18:06,  1.80s/it]"
     ]
    },
    {
     "name": "stdout",
     "output_type": "stream",
     "text": [
      "Successfully fetched: https://maisfutebol.iol.pt/vuelta/ciclismo/sepp-kuss-conquista-a-vuelta-joao-almeida-acaba-em-nono\n"
     ]
    },
    {
     "name": "stderr",
     "output_type": "stream",
     "text": [
      "Scraping Progress:  21%|██▏       | 705/3302 [18:18<1:25:53,  1.98s/it]"
     ]
    },
    {
     "name": "stdout",
     "output_type": "stream",
     "text": [
      "Successfully fetched: https://maisfutebol.iol.pt/ciclismo/vuelta/rui-costa-alegria-enorme-pela-oportunidade-que-a-vuelta-da-portugal\n"
     ]
    },
    {
     "name": "stderr",
     "output_type": "stream",
     "text": [
      "Scraping Progress:  21%|██▏       | 706/3302 [18:21<1:31:59,  2.13s/it]"
     ]
    },
    {
     "name": "stdout",
     "output_type": "stream",
     "text": [
      "Successfully fetched: https://maisfutebol.iol.pt/internacional/ciclismo/oficial-ef-education-easypost-anuncia-rui-costa-para-2024\n"
     ]
    },
    {
     "name": "stderr",
     "output_type": "stream",
     "text": [
      "Scraping Progress:  21%|██▏       | 707/3302 [18:22<1:29:49,  2.08s/it]"
     ]
    },
    {
     "name": "stdout",
     "output_type": "stream",
     "text": [
      "Successfully fetched: https://www.disneyfoodblog.com/2023/09/20/alert-two-popular-characters-have-moved-in-magic-kingdom/\n"
     ]
    },
    {
     "name": "stderr",
     "output_type": "stream",
     "text": [
      "Scraping Progress:  21%|██▏       | 708/3302 [18:24<1:24:56,  1.96s/it]"
     ]
    },
    {
     "name": "stdout",
     "output_type": "stream",
     "text": [
      "Successfully fetched: https://www.kicker.de/kaemna-stuerzt-bei-abfahrt-und-wird-noch-zweiter-967924/artikel\n"
     ]
    },
    {
     "name": "stderr",
     "output_type": "stream",
     "text": [
      "Scraping Progress:  21%|██▏       | 709/3302 [18:26<1:20:18,  1.86s/it]"
     ]
    },
    {
     "name": "stdout",
     "output_type": "stream",
     "text": [
      "Successfully fetched: https://www.sueddeutsche.de/muenchen/julia-engelmann-poetry-slam-pop-musik-konzert-splitter-1.6184872\n"
     ]
    },
    {
     "name": "stderr",
     "output_type": "stream",
     "text": [
      "Scraping Progress:  22%|██▏       | 711/3302 [18:28<1:04:34,  1.50s/it]"
     ]
    },
    {
     "name": "stdout",
     "output_type": "stream",
     "text": [
      "Successfully fetched: https://www.sueddeutsche.de/muenchen/fc-bayern-roncalli-harry-kane-manuel-neuer-thomas-tuchel-mathys-tel-1.6296255\n"
     ]
    },
    {
     "name": "stderr",
     "output_type": "stream",
     "text": [
      "Scraping Progress:  22%|██▏       | 712/3302 [18:29<1:00:14,  1.40s/it]"
     ]
    },
    {
     "name": "stdout",
     "output_type": "stream",
     "text": [
      "Successfully fetched: https://www.huffpost.com/entry/election-2024-trump-insurrection-amendment_n_6540c9c8e4b02c5617da1b9a\n"
     ]
    },
    {
     "name": "stderr",
     "output_type": "stream",
     "text": [
      "Scraping Progress:  22%|██▏       | 713/3302 [18:30<55:39,  1.29s/it]  "
     ]
    },
    {
     "name": "stdout",
     "output_type": "stream",
     "text": [
      "Successfully fetched: https://www.darkhorizons.com/missing-pre-monty-python-series-discovered/\n"
     ]
    },
    {
     "name": "stderr",
     "output_type": "stream",
     "text": [
      "Scraping Progress:  22%|██▏       | 714/3302 [18:34<1:31:25,  2.12s/it]"
     ]
    },
    {
     "name": "stdout",
     "output_type": "stream",
     "text": [
      "Successfully fetched: https://punchng.com/oshoba-eyes-commonwealth-title-in-uk/\n"
     ]
    },
    {
     "name": "stderr",
     "output_type": "stream",
     "text": [
      "Scraping Progress:  22%|██▏       | 715/3302 [18:36<1:23:15,  1.93s/it]"
     ]
    },
    {
     "name": "stdout",
     "output_type": "stream",
     "text": [
      "Successfully fetched: https://maisfutebol.iol.pt/hoje-vai-ser-noticia/agenda-futebol/hoje-vai-ser-noticia-169493760\n"
     ]
    },
    {
     "name": "stderr",
     "output_type": "stream",
     "text": [
      "Scraping Progress:  22%|██▏       | 716/3302 [18:38<1:23:47,  1.94s/it]"
     ]
    },
    {
     "name": "stdout",
     "output_type": "stream",
     "text": [
      "Successfully fetched: https://www.kicker.de/groves-verpasst-dritten-erfolg-im-sprint-966733/artikel\n"
     ]
    },
    {
     "name": "stderr",
     "output_type": "stream",
     "text": [
      "Scraping Progress:  22%|██▏       | 717/3302 [18:39<1:17:07,  1.79s/it]"
     ]
    },
    {
     "name": "stdout",
     "output_type": "stream",
     "text": [
      "Successfully fetched: https://maisfutebol.iol.pt/modalidades/jonas-vingegaard/vuelta-vingegaard-vence-etapa-em-dia-de-perdas-para-joao-almeida-e-evenepoel\n"
     ]
    },
    {
     "name": "stderr",
     "output_type": "stream",
     "text": [
      "Scraping Progress:  22%|██▏       | 718/3302 [18:41<1:13:24,  1.70s/it]"
     ]
    },
    {
     "name": "stdout",
     "output_type": "stream",
     "text": [
      "Successfully fetched: https://www.latimes.com/sports/soccer/story/2023-09-03/lafc-lionel-messi-inter-miami-recap\n"
     ]
    },
    {
     "name": "stderr",
     "output_type": "stream",
     "text": [
      "Scraping Progress:  22%|██▏       | 719/3302 [18:43<1:13:42,  1.71s/it]"
     ]
    },
    {
     "name": "stdout",
     "output_type": "stream",
     "text": [
      "Successfully fetched: https://www.latimes.com/opinion/story/2023-09-07/shutdown-joe-biden-impeachment-kevin-mccarthy\n"
     ]
    },
    {
     "name": "stderr",
     "output_type": "stream",
     "text": [
      "Scraping Progress:  22%|██▏       | 720/3302 [18:44<1:12:16,  1.68s/it]"
     ]
    },
    {
     "name": "stdout",
     "output_type": "stream",
     "text": [
      "Successfully fetched: https://screenrant.com/best-anime-sequel-seasons-mob-demon-slayer/\n"
     ]
    },
    {
     "name": "stderr",
     "output_type": "stream",
     "text": [
      "Scraping Progress:  22%|██▏       | 721/3302 [18:45<1:06:37,  1.55s/it]"
     ]
    },
    {
     "name": "stdout",
     "output_type": "stream",
     "text": [
      "Successfully fetched: https://www.siliconera.com/one-piece-live-action-episode-3-recap-the-boy-who-cried-wolf/\n"
     ]
    },
    {
     "name": "stderr",
     "output_type": "stream",
     "text": [
      "Scraping Progress:  22%|██▏       | 722/3302 [18:46<1:00:41,  1.41s/it]"
     ]
    },
    {
     "name": "stdout",
     "output_type": "stream",
     "text": [
      "Successfully fetched: https://bleedingcool.com/games/zynga-releases-multiple-halloween-updates-across-its-games/\n"
     ]
    },
    {
     "name": "stderr",
     "output_type": "stream",
     "text": [
      "Scraping Progress:  22%|██▏       | 723/3302 [18:47<55:51,  1.30s/it]  "
     ]
    },
    {
     "name": "stdout",
     "output_type": "stream",
     "text": [
      "Successfully fetched: https://www.forbes.com/sites/joeyogerst/2023/10/20/halloween-travel-where-movie-monsters-come-to-life/\n"
     ]
    },
    {
     "name": "stderr",
     "output_type": "stream",
     "text": [
      "Scraping Progress:  22%|██▏       | 724/3302 [18:50<1:06:36,  1.55s/it]"
     ]
    },
    {
     "name": "stdout",
     "output_type": "stream",
     "text": [
      "Successfully fetched: https://screenrant.com/one-piece-netflix-easter-eggs-anime/\n"
     ]
    },
    {
     "name": "stderr",
     "output_type": "stream",
     "text": [
      "Scraping Progress:  22%|██▏       | 725/3302 [18:51<1:02:21,  1.45s/it]"
     ]
    },
    {
     "name": "stdout",
     "output_type": "stream",
     "text": [
      "Successfully fetched: https://www.cosmopolitan.com/entertainment/tv/a45013148/who-is-buggy-one-piece/\n"
     ]
    },
    {
     "name": "stderr",
     "output_type": "stream",
     "text": [
      "Scraping Progress:  22%|██▏       | 726/3302 [18:52<57:20,  1.34s/it]  "
     ]
    },
    {
     "name": "stdout",
     "output_type": "stream",
     "text": [
      "Successfully fetched: https://screenrant.com/universal-orlando-halloween-horror-nights-2023-haunted-houses-ranked/\n"
     ]
    },
    {
     "name": "stderr",
     "output_type": "stream",
     "text": [
      "Scraping Progress:  22%|██▏       | 727/3302 [18:53<57:08,  1.33s/it]"
     ]
    },
    {
     "name": "stdout",
     "output_type": "stream",
     "text": [
      "Successfully fetched: https://www.cracked.com/article_39822_all-62-goosebumps-covers-ranked-by-scariness.html\n"
     ]
    },
    {
     "name": "stderr",
     "output_type": "stream",
     "text": [
      "Scraping Progress:  22%|██▏       | 728/3302 [18:55<56:20,  1.31s/it]"
     ]
    },
    {
     "name": "stdout",
     "output_type": "stream",
     "text": [
      "Successfully fetched: https://www.cracked.com/article_39875_whatever-i-do-what-i-want-54-trivia-tidbits-trey-parker-on-his-54th-birthday.html\n"
     ]
    },
    {
     "name": "stderr",
     "output_type": "stream",
     "text": [
      "Scraping Progress:  22%|██▏       | 730/3302 [18:58<1:01:57,  1.45s/it]"
     ]
    },
    {
     "name": "stdout",
     "output_type": "stream",
     "text": [
      "Successfully fetched: https://www.queerty.com/olympic-gymnast-tomas-gonzalez-came-out-as-gay-and-vaulted-to-new-heights-20231025\n"
     ]
    },
    {
     "name": "stderr",
     "output_type": "stream",
     "text": [
      "Scraping Progress:  22%|██▏       | 731/3302 [19:01<1:21:38,  1.91s/it]"
     ]
    },
    {
     "name": "stdout",
     "output_type": "stream",
     "text": [
      "Successfully fetched: https://www.vanityfair.com/news/2023/09/james-comer-house-republicans-biden-impeachment-hearing\n"
     ]
    },
    {
     "name": "stderr",
     "output_type": "stream",
     "text": [
      "Scraping Progress:  22%|██▏       | 732/3302 [19:04<1:47:17,  2.50s/it]"
     ]
    },
    {
     "name": "stdout",
     "output_type": "stream",
     "text": [
      "Successfully fetched: https://www.nrc.nl/nieuws/2023/09/16/progrockband-ayreon-speelt-onspeelbaar-album-in-grootse-wervelende-productie-in-013-a4174599\n"
     ]
    },
    {
     "name": "stderr",
     "output_type": "stream",
     "text": [
      "Scraping Progress:  22%|██▏       | 733/3302 [19:06<1:36:35,  2.26s/it]"
     ]
    },
    {
     "name": "stdout",
     "output_type": "stream",
     "text": [
      "Successfully fetched: https://www.nrc.nl/nieuws/2023/10/13/pannekoek-en-paling-in-het-polderglamourcircus-van-het-gouden-televizier-ring-gala-a4177110\n"
     ]
    },
    {
     "name": "stderr",
     "output_type": "stream",
     "text": [
      "Scraping Progress:  22%|██▏       | 734/3302 [19:08<1:27:50,  2.05s/it]"
     ]
    },
    {
     "name": "stdout",
     "output_type": "stream",
     "text": [
      "Successfully fetched: https://bikerumor.com/rocky-mountain-2024-flow-dirt-jump-pumptrack-bike-20-24-26/\n"
     ]
    },
    {
     "name": "stderr",
     "output_type": "stream",
     "text": [
      "Scraping Progress:  22%|██▏       | 735/3302 [19:09<1:22:55,  1.94s/it]"
     ]
    },
    {
     "name": "stdout",
     "output_type": "stream",
     "text": [
      "Successfully fetched: https://www.breitbart.com/europe/2023/10/20/bbc-news-admits-mistake-in-coverage-of-gaza-hospital-blast-still-refuses-to-call-hamas-terrorists/\n"
     ]
    },
    {
     "name": "stderr",
     "output_type": "stream",
     "text": [
      "Scraping Progress:  22%|██▏       | 736/3302 [19:11<1:21:00,  1.89s/it]"
     ]
    },
    {
     "name": "stdout",
     "output_type": "stream",
     "text": [
      "Successfully fetched: https://timesofindia.indiatimes.com/india/ready-to-answer-queries-of-ethics-panel-mahua-moitra/articleshow/104593649.cms\n"
     ]
    },
    {
     "name": "stderr",
     "output_type": "stream",
     "text": [
      "Scraping Progress:  22%|██▏       | 738/3302 [19:14<1:05:40,  1.54s/it]"
     ]
    },
    {
     "name": "stdout",
     "output_type": "stream",
     "text": [
      "Successfully fetched: https://www.nbcsports.com/nba/news/could-nbas-new-rules-on-shutting-players-down-impact-lillard-at-start-of-season\n"
     ]
    },
    {
     "name": "stderr",
     "output_type": "stream",
     "text": [
      "Scraping Progress:  22%|██▏       | 739/3302 [19:15<1:05:54,  1.54s/it]"
     ]
    },
    {
     "name": "stdout",
     "output_type": "stream",
     "text": [
      "Successfully fetched: https://www.ndtv.com/delhi-news/pics-with-acrobats-jokers-jugglers-rambo-circus-back-to-enthrall-delhi-4525415\n"
     ]
    },
    {
     "name": "stderr",
     "output_type": "stream",
     "text": [
      "Scraping Progress:  22%|██▏       | 740/3302 [19:21<2:05:39,  2.94s/it]"
     ]
    },
    {
     "name": "stdout",
     "output_type": "stream",
     "text": [
      "Successfully fetched: https://smallbiztrends.com/2023/09/event-planning-tips.html\n"
     ]
    },
    {
     "name": "stderr",
     "output_type": "stream",
     "text": [
      "Scraping Progress:  22%|██▏       | 741/3302 [19:23<1:43:48,  2.43s/it]"
     ]
    },
    {
     "name": "stdout",
     "output_type": "stream",
     "text": [
      "Successfully fetched: https://www.abc.es/cultura/teatros/productores-sonrisas-premio-nacional-circo-20231011140151-nt.html\n"
     ]
    },
    {
     "name": "stderr",
     "output_type": "stream",
     "text": [
      "Scraping Progress:  22%|██▏       | 742/3302 [19:24<1:33:42,  2.20s/it]"
     ]
    },
    {
     "name": "stdout",
     "output_type": "stream",
     "text": [
      "Successfully fetched: https://www.nbcsports.com/nba/news/rumor-bulls-looking-to-jump-into-damian-lillard-trade-sweepstakes\n"
     ]
    },
    {
     "name": "stderr",
     "output_type": "stream",
     "text": [
      "Scraping Progress:  23%|██▎       | 743/3302 [19:26<1:25:31,  2.01s/it]"
     ]
    },
    {
     "name": "stdout",
     "output_type": "stream",
     "text": [
      "Successfully fetched: https://www.nbcsports.com/nba/news/lillard-on-portland-trade-request-we-dont-want-the-same-thing\n"
     ]
    },
    {
     "name": "stderr",
     "output_type": "stream",
     "text": [
      "Scraping Progress:  23%|██▎       | 744/3302 [19:27<1:19:00,  1.85s/it]"
     ]
    },
    {
     "name": "stdout",
     "output_type": "stream",
     "text": [
      "Successfully fetched: https://www.counterpunch.org/2023/09/21/lets-get-creative-with-congressional-dress-codes/\n"
     ]
    },
    {
     "name": "stderr",
     "output_type": "stream",
     "text": [
      "Scraping Progress:  23%|██▎       | 745/3302 [19:29<1:17:21,  1.82s/it]"
     ]
    },
    {
     "name": "stdout",
     "output_type": "stream",
     "text": [
      "Successfully fetched: https://www.bbc.co.uk/news/uk-scotland-scotland-politics-66985705\n"
     ]
    },
    {
     "name": "stderr",
     "output_type": "stream",
     "text": [
      "Scraping Progress:  23%|██▎       | 746/3302 [19:31<1:14:03,  1.74s/it]"
     ]
    },
    {
     "name": "stdout",
     "output_type": "stream",
     "text": [
      "Successfully fetched: https://www.filfre.net/2023/10/the-last-express/\n"
     ]
    },
    {
     "name": "stderr",
     "output_type": "stream",
     "text": [
      "Scraping Progress:  23%|██▎       | 747/3302 [19:32<1:09:45,  1.64s/it]"
     ]
    },
    {
     "name": "stdout",
     "output_type": "stream",
     "text": [
      "Successfully fetched: https://www.dhnet.be/sports/moteurs/formule-1/2023/10/06/losail-la-f1-au-qatar-coute-que-coute-UWJPVHERWFEOLIXZWOO552CTKA/\n"
     ]
    },
    {
     "name": "stderr",
     "output_type": "stream",
     "text": [
      "Scraping Progress:  23%|██▎       | 748/3302 [19:34<1:09:24,  1.63s/it]"
     ]
    },
    {
     "name": "stdout",
     "output_type": "stream",
     "text": [
      "Successfully fetched: https://touringplans.com/blog/five-things-to-know-about-dumbo-the-flying-elephant/\n"
     ]
    },
    {
     "name": "stderr",
     "output_type": "stream",
     "text": [
      "Scraping Progress:  23%|██▎       | 749/3302 [19:35<1:09:22,  1.63s/it]"
     ]
    },
    {
     "name": "stdout",
     "output_type": "stream",
     "text": [
      "Successfully fetched: https://www.lavenir.net/sports/2023/10/06/losail-la-f1-au-qatar-coute-que-coute-W3XWYX7765FTZMYNTEBF6GQF4Q/\n"
     ]
    },
    {
     "name": "stderr",
     "output_type": "stream",
     "text": [
      "Scraping Progress:  23%|██▎       | 750/3302 [19:37<1:06:47,  1.57s/it]"
     ]
    },
    {
     "name": "stdout",
     "output_type": "stream",
     "text": [
      "Successfully fetched: https://www.mmamania.com/2023/10/21/23926549/ufc-294-results-magomed-ankalaev-johnny-walker-full-fight-abu-dhabi-espn-mma\n"
     ]
    },
    {
     "name": "stderr",
     "output_type": "stream",
     "text": [
      "Scraping Progress:  23%|██▎       | 751/3302 [19:39<1:17:00,  1.81s/it]"
     ]
    },
    {
     "name": "stdout",
     "output_type": "stream",
     "text": [
      "Successfully fetched: https://biztoc.com/x/527aef76b7c9dd3e\n"
     ]
    },
    {
     "name": "stderr",
     "output_type": "stream",
     "text": [
      "Scraping Progress:  23%|██▎       | 752/3302 [19:40<1:09:16,  1.63s/it]"
     ]
    },
    {
     "name": "stdout",
     "output_type": "stream",
     "text": [
      "Successfully fetched: https://www.usmagazine.com/celebrity-news/news/david-victoria-beckhams-most-quotes-about-affair-rumors/#article\n"
     ]
    },
    {
     "name": "stderr",
     "output_type": "stream",
     "text": [
      "Scraping Progress:  23%|██▎       | 753/3302 [19:42<1:07:02,  1.58s/it]"
     ]
    },
    {
     "name": "stdout",
     "output_type": "stream",
     "text": [
      "Successfully fetched: https://www.imore.com/music-movies-tv/speakers/sonos-move-2-review\n"
     ]
    },
    {
     "name": "stderr",
     "output_type": "stream",
     "text": [
      "Scraping Progress:  23%|██▎       | 754/3302 [19:43<1:04:29,  1.52s/it]"
     ]
    },
    {
     "name": "stdout",
     "output_type": "stream",
     "text": [
      "Successfully fetched: https://screenrant.com/five-nights-at-freddys-mike-schmidt-afton-twist/\n"
     ]
    },
    {
     "name": "stderr",
     "output_type": "stream",
     "text": [
      "Scraping Progress:  23%|██▎       | 755/3302 [19:44<1:01:24,  1.45s/it]"
     ]
    },
    {
     "name": "stdout",
     "output_type": "stream",
     "text": [
      "Successfully fetched: https://wdtprs.com/2023/09/synod-on-synodality-a-poem-by-chatgpt/\n"
     ]
    },
    {
     "name": "stderr",
     "output_type": "stream",
     "text": [
      "Scraping Progress:  23%|██▎       | 756/3302 [19:46<1:01:09,  1.44s/it]"
     ]
    },
    {
     "name": "stdout",
     "output_type": "stream",
     "text": [
      "Successfully fetched: https://bleedingcool.com/tv/aew-gives-away-ppv-quality-match-as-mjf-triumphs-over-kenny-omega/\n"
     ]
    },
    {
     "name": "stderr",
     "output_type": "stream",
     "text": [
      "Scraping Progress:  23%|██▎       | 757/3302 [19:47<56:03,  1.32s/it]  "
     ]
    },
    {
     "name": "stdout",
     "output_type": "stream",
     "text": [
      "Successfully fetched: https://www.usmagazine.com/celebrity-news/news/victoria-and-david-beckham-recall-how-affair-rumors-affected-marriage/#article\n"
     ]
    },
    {
     "name": "stderr",
     "output_type": "stream",
     "text": [
      "Scraping Progress:  23%|██▎       | 758/3302 [19:48<57:09,  1.35s/it]"
     ]
    },
    {
     "name": "stdout",
     "output_type": "stream",
     "text": [
      "Successfully fetched: https://blog.hootsuite.com/instagram-emoji/\n"
     ]
    },
    {
     "name": "stderr",
     "output_type": "stream",
     "text": [
      "Scraping Progress:  23%|██▎       | 759/3302 [19:49<55:06,  1.30s/it]"
     ]
    },
    {
     "name": "stdout",
     "output_type": "stream",
     "text": [
      "Successfully fetched: https://knowyourmeme.com/news/new-york-jets-mock-broncos-head-coach-sean-payton-with-kevin-james-meme-after-personal-win\n"
     ]
    },
    {
     "name": "stderr",
     "output_type": "stream",
     "text": [
      "Scraping Progress:  23%|██▎       | 760/3302 [19:51<57:23,  1.35s/it]"
     ]
    },
    {
     "name": "stdout",
     "output_type": "stream",
     "text": [
      "Successfully fetched: https://prtimes.jp/main/html/rd/p/000001441.000031422.html\n"
     ]
    },
    {
     "name": "stderr",
     "output_type": "stream",
     "text": [
      "Scraping Progress:  23%|██▎       | 761/3302 [19:52<57:00,  1.35s/it]"
     ]
    },
    {
     "name": "stdout",
     "output_type": "stream",
     "text": [
      "Successfully fetched: https://www.rollingstone.com/culture/culture-features/last-podcast-on-the-left-ben-kissel-abuse-allegations-1234852755/\n"
     ]
    },
    {
     "name": "stderr",
     "output_type": "stream",
     "text": [
      "Scraping Progress:  23%|██▎       | 763/3302 [19:55<52:44,  1.25s/it]"
     ]
    },
    {
     "name": "stdout",
     "output_type": "stream",
     "text": [
      "Successfully fetched: https://www.nationalgeographic.com/animals/article/ringling-circus-is-back-but-this-time-without-animals\n"
     ]
    },
    {
     "name": "stderr",
     "output_type": "stream",
     "text": [
      "Scraping Progress:  23%|██▎       | 765/3302 [19:57<55:35,  1.31s/it]  "
     ]
    },
    {
     "name": "stdout",
     "output_type": "stream",
     "text": [
      "Successfully fetched: https://www.usmagazine.com/celebrity-news/news/mauricio-umansky-denies-crazy-leslie-bega-romance-rumors/#article\n"
     ]
    },
    {
     "name": "stderr",
     "output_type": "stream",
     "text": [
      "Scraping Progress:  23%|██▎       | 766/3302 [19:59<56:15,  1.33s/it]"
     ]
    },
    {
     "name": "stdout",
     "output_type": "stream",
     "text": [
      "Successfully fetched: https://biztoc.com/x/ed659e8b28ba7225\n"
     ]
    },
    {
     "name": "stderr",
     "output_type": "stream",
     "text": [
      "Scraping Progress:  23%|██▎       | 767/3302 [20:00<53:25,  1.26s/it]"
     ]
    },
    {
     "name": "stdout",
     "output_type": "stream",
     "text": [
      "Successfully fetched: https://prtimes.jp/main/html/rd/p/000000006.000126075.html\n"
     ]
    },
    {
     "name": "stderr",
     "output_type": "stream",
     "text": [
      "Scraping Progress:  23%|██▎       | 771/3302 [20:05<49:50,  1.18s/it]"
     ]
    },
    {
     "name": "stdout",
     "output_type": "stream",
     "text": [
      "Successfully fetched: https://biztoc.com/x/b5414d2567cb7d7d\n"
     ]
    },
    {
     "name": "stderr",
     "output_type": "stream",
     "text": [
      "Scraping Progress:  23%|██▎       | 772/3302 [20:06<48:52,  1.16s/it]"
     ]
    },
    {
     "name": "stdout",
     "output_type": "stream",
     "text": [
      "Successfully fetched: https://www.dhnet.be/sports/cyclisme/2023/10/14/mercato-cycliste-lequipe-intermarche-circus-wanty-annonce-une-nouvelle-arrivee-U6E2UZBS5ZBHVFCYB5GTT5FVZM/\n"
     ]
    },
    {
     "name": "stderr",
     "output_type": "stream",
     "text": [
      "Scraping Progress:  23%|██▎       | 773/3302 [20:07<53:46,  1.28s/it]"
     ]
    },
    {
     "name": "stdout",
     "output_type": "stream",
     "text": [
      "Successfully fetched: https://www.dhnet.be/sports/cyclisme/2023/10/18/rui-costa-quitte-intermarche-circus-wanty-pour-ef-education-easypost-KLM6ZEKVUNBFPMM453PDAMUXXM/\n"
     ]
    },
    {
     "name": "stderr",
     "output_type": "stream",
     "text": [
      "Scraping Progress:  23%|██▎       | 774/3302 [20:09<56:47,  1.35s/it]"
     ]
    },
    {
     "name": "stdout",
     "output_type": "stream",
     "text": [
      "Successfully fetched: https://news.sky.com/story/victoria-beckham-reveals-how-time-of-davids-alleged-affair-was-the-most-unhappy-i-have-ever-been-12976386\n"
     ]
    },
    {
     "name": "stderr",
     "output_type": "stream",
     "text": [
      "Scraping Progress:  23%|██▎       | 775/3302 [20:11<1:03:47,  1.51s/it]"
     ]
    },
    {
     "name": "stdout",
     "output_type": "stream",
     "text": [
      "Successfully fetched: https://www.espn.com/fantasy/football/story/_/id/38742294/fantasy-football-week-8-advice-analysis-play\n"
     ]
    },
    {
     "name": "stderr",
     "output_type": "stream",
     "text": [
      "Scraping Progress:  24%|██▎       | 776/3302 [20:12<1:04:41,  1.54s/it]"
     ]
    },
    {
     "name": "stdout",
     "output_type": "stream",
     "text": [
      "Successfully fetched: https://www.archdaily.com/1007610/meet-the-55-winners-of-the-xvi-beau-spanish-biennial-of-architecture-and-urbanism-2023\n"
     ]
    },
    {
     "name": "stderr",
     "output_type": "stream",
     "text": [
      "Scraping Progress:  24%|██▎       | 777/3302 [20:14<59:11,  1.41s/it]  "
     ]
    },
    {
     "name": "stdout",
     "output_type": "stream",
     "text": [
      "Successfully fetched: https://londonist.com/london/weekend/things-to-do-this-weekend-in-london-14-15-october-2023\n"
     ]
    },
    {
     "name": "stderr",
     "output_type": "stream",
     "text": [
      "Scraping Progress:  24%|██▎       | 778/3302 [20:15<58:29,  1.39s/it]"
     ]
    },
    {
     "name": "stdout",
     "output_type": "stream",
     "text": [
      "Successfully fetched: https://trabalhosujo.com.br/caca-machado-laura-lavieri-melhor-que-o-silencio/\n"
     ]
    },
    {
     "name": "stderr",
     "output_type": "stream",
     "text": [
      "Scraping Progress:  24%|██▎       | 779/3302 [20:16<1:00:54,  1.45s/it]"
     ]
    },
    {
     "name": "stdout",
     "output_type": "stream",
     "text": [
      "Successfully fetched: https://biztoc.com/x/1e5e9b6de23cf1ba\n"
     ]
    },
    {
     "name": "stderr",
     "output_type": "stream",
     "text": [
      "Scraping Progress:  24%|██▎       | 780/3302 [20:18<56:23,  1.34s/it]  "
     ]
    },
    {
     "name": "stdout",
     "output_type": "stream",
     "text": [
      "Successfully fetched: https://biztoc.com/x/99948ec038de5e33\n"
     ]
    },
    {
     "name": "stderr",
     "output_type": "stream",
     "text": [
      "Scraping Progress:  24%|██▎       | 782/3302 [20:20<52:41,  1.25s/it]"
     ]
    },
    {
     "name": "stdout",
     "output_type": "stream",
     "text": [
      "Successfully fetched: https://www.forbes.com/sites/kellyphillipserb/2023/10/07/after-sen-feinsteins-death-familys-fight-over-assets-likely-to-intensify/\n"
     ]
    },
    {
     "name": "stderr",
     "output_type": "stream",
     "text": [
      "Scraping Progress:  24%|██▎       | 784/3302 [20:23<57:08,  1.36s/it]"
     ]
    },
    {
     "name": "stdout",
     "output_type": "stream",
     "text": [
      "Successfully fetched: https://biztoc.com/x/c744cdb926da1f6d\n"
     ]
    },
    {
     "name": "stderr",
     "output_type": "stream",
     "text": [
      "Scraping Progress:  24%|██▍       | 786/3302 [20:25<53:43,  1.28s/it]"
     ]
    },
    {
     "name": "stdout",
     "output_type": "stream",
     "text": [
      "Successfully fetched: https://www.foxsports.com/stories/soccer/lionel-messi-inter-miami-look-to-reach-higher-heights-in-year-2\n"
     ]
    },
    {
     "name": "stderr",
     "output_type": "stream",
     "text": [
      "Scraping Progress:  24%|██▍       | 787/3302 [20:28<1:06:25,  1.58s/it]"
     ]
    },
    {
     "name": "stdout",
     "output_type": "stream",
     "text": [
      "Successfully fetched: https://www.forbes.com/sites/travisbean/2023/09/21/the-10-best-comedies-on-netflix-right-now-september-2023/\n"
     ]
    },
    {
     "name": "stderr",
     "output_type": "stream",
     "text": [
      "Scraping Progress:  24%|██▍       | 789/3302 [20:30<56:52,  1.36s/it]  "
     ]
    },
    {
     "name": "stdout",
     "output_type": "stream",
     "text": [
      "Successfully fetched: https://www.foxsports.com/stories/nfl/aj-brown-historic-pace-proves-well-worth-eagles-big-investment\n"
     ]
    },
    {
     "name": "stderr",
     "output_type": "stream",
     "text": [
      "Scraping Progress:  24%|██▍       | 790/3302 [20:33<1:13:44,  1.76s/it]"
     ]
    },
    {
     "name": "stdout",
     "output_type": "stream",
     "text": [
      "Successfully fetched: https://www.dhnet.be/sports/2023/09/11/le-succes-de-rui-costa-au-tour-despagne-une-consecration-pour-lequipe-et-pour-moi-IVFCZLXLXZE33G5RSJMINUFOJM/\n"
     ]
    },
    {
     "name": "stderr",
     "output_type": "stream",
     "text": [
      "Scraping Progress:  24%|██▍       | 792/3302 [20:36<1:12:28,  1.73s/it]"
     ]
    },
    {
     "name": "stdout",
     "output_type": "stream",
     "text": [
      "Successfully fetched: https://vnexpress.net/tai-sao-my-xay-10-000-vong-xuyen-chi-trong-hai-thap-ky-4669211.html\n"
     ]
    },
    {
     "name": "stderr",
     "output_type": "stream",
     "text": [
      "Scraping Progress:  24%|██▍       | 793/3302 [20:39<1:30:46,  2.17s/it]"
     ]
    },
    {
     "name": "stdout",
     "output_type": "stream",
     "text": [
      "Successfully fetched: https://biztoc.com/x/30b6916f6e8308d1\n"
     ]
    },
    {
     "name": "stderr",
     "output_type": "stream",
     "text": [
      "Scraping Progress:  24%|██▍       | 794/3302 [20:40<1:17:36,  1.86s/it]"
     ]
    },
    {
     "name": "stdout",
     "output_type": "stream",
     "text": [
      "Successfully fetched: https://www.dhnet.be/regions/centre/2023/10/11/binche-la-nouvelle-piste-cyclable-inauguree-par-une-centaine-deleves-cest-bien-de-les-sensibiliser-a-la-fois-a-lenvironnement-et-au-sport-MYHRSWX5QVDCHHAUQMBQJ4SSJ4/\n"
     ]
    },
    {
     "name": "stderr",
     "output_type": "stream",
     "text": [
      "Scraping Progress:  24%|██▍       | 795/3302 [20:42<1:15:28,  1.81s/it]"
     ]
    },
    {
     "name": "stdout",
     "output_type": "stream",
     "text": [
      "Successfully fetched: https://www.npr.org/2023/10/24/1208060535/u2-las-vegas-residency-sphere\n"
     ]
    },
    {
     "name": "stderr",
     "output_type": "stream",
     "text": [
      "Scraping Progress:  24%|██▍       | 798/3302 [20:47<1:06:00,  1.58s/it]"
     ]
    },
    {
     "name": "stdout",
     "output_type": "stream",
     "text": [
      "Successfully fetched: https://pleated-jeans.com/2023/10/30/funny-memes-parents-raising-siblings/\n"
     ]
    },
    {
     "name": "stderr",
     "output_type": "stream",
     "text": [
      "Scraping Progress:  24%|██▍       | 799/3302 [20:49<1:13:24,  1.76s/it]"
     ]
    },
    {
     "name": "stdout",
     "output_type": "stream",
     "text": [
      "Successfully fetched: https://maisfutebol.iol.pt/hoje-vai-ser-noticia/selecao/hoje-vai-ser-noticia-169389720\n"
     ]
    },
    {
     "name": "stderr",
     "output_type": "stream",
     "text": [
      "Scraping Progress:  24%|██▍       | 800/3302 [20:52<1:21:27,  1.95s/it]"
     ]
    },
    {
     "name": "stdout",
     "output_type": "stream",
     "text": [
      "Successfully fetched: https://metalinjection.net/metal-merch/w-a-s-p-announces-massive-vinyl-box-set-coming-in-october\n"
     ]
    },
    {
     "name": "stderr",
     "output_type": "stream",
     "text": [
      "Scraping Progress:  24%|██▍       | 801/3302 [20:54<1:28:57,  2.13s/it]"
     ]
    },
    {
     "name": "stdout",
     "output_type": "stream",
     "text": [
      "Successfully fetched: https://www.youredm.com/2023/09/29/youredm-talks-to-edma-2024-best-new-artist-nominee-tim-clark-about-hisnascent-career-and-what-it-takes-to-get-to-the-top/\n"
     ]
    },
    {
     "name": "stderr",
     "output_type": "stream",
     "text": [
      "Scraping Progress:  24%|██▍       | 802/3302 [21:01<2:29:18,  3.58s/it]"
     ]
    },
    {
     "name": "stdout",
     "output_type": "stream",
     "text": [
      "Successfully fetched: https://catracalivre.com.br/vila-mundo/confira-a-programacao-infantil-do-sesc-santo-andre-em-setembro/\n"
     ]
    },
    {
     "name": "stderr",
     "output_type": "stream",
     "text": [
      "Scraping Progress:  24%|██▍       | 803/3302 [21:02<2:00:20,  2.89s/it]"
     ]
    },
    {
     "name": "stdout",
     "output_type": "stream",
     "text": [
      "Successfully fetched: https://www.latimes.com/sports/ucla/story/2023-10-29/colorado-football-deion-sanders-hype-ucla\n"
     ]
    },
    {
     "name": "stderr",
     "output_type": "stream",
     "text": [
      "Scraping Progress:  24%|██▍       | 804/3302 [21:04<1:45:43,  2.54s/it]"
     ]
    },
    {
     "name": "stdout",
     "output_type": "stream",
     "text": [
      "Successfully fetched: https://www.sueddeutsche.de/muenchen/muenchen-werksviertel-konzerthaus-circus-roncalli-zwischennutzung-1.6194030\n"
     ]
    },
    {
     "name": "stderr",
     "output_type": "stream",
     "text": [
      "Scraping Progress:  24%|██▍       | 805/3302 [21:05<1:28:51,  2.14s/it]"
     ]
    },
    {
     "name": "stdout",
     "output_type": "stream",
     "text": [
      "Successfully fetched: https://www.mmafighting.com/2023/10/17/23918930/morning-report-jiri-prochazka-explains-why-alex-pereira-is-not-a-good-martial-artist-ufc\n"
     ]
    },
    {
     "name": "stderr",
     "output_type": "stream",
     "text": [
      "Scraping Progress:  24%|██▍       | 806/3302 [21:11<2:07:18,  3.06s/it]"
     ]
    },
    {
     "name": "stdout",
     "output_type": "stream",
     "text": [
      "Successfully fetched: https://www.queerty.com/fanny-and-stella-a-tale-of-cross-dressing-scandal-and-survival-in-victorian-england-20230908\n"
     ]
    },
    {
     "name": "stderr",
     "output_type": "stream",
     "text": [
      "Scraping Progress:  24%|██▍       | 807/3302 [21:13<2:03:08,  2.96s/it]"
     ]
    },
    {
     "name": "stdout",
     "output_type": "stream",
     "text": [
      "Successfully fetched: https://www.mmafighting.com/2023/10/11/23910947/morning-report-dana-white-hires-f-ufc-lunatic-matchmaker-sweepstakes-winner-to-help-book-fights-mma\n"
     ]
    },
    {
     "name": "stderr",
     "output_type": "stream",
     "text": [
      "Scraping Progress:  24%|██▍       | 808/3302 [21:15<1:43:30,  2.49s/it]"
     ]
    },
    {
     "name": "stdout",
     "output_type": "stream",
     "text": [
      "Successfully fetched: https://www.queerty.com/nfl-coach-kevin-maxen-is-proving-once-and-for-all-that-gay-people-belong-on-the-gridiron-20230915\n"
     ]
    },
    {
     "name": "stderr",
     "output_type": "stream",
     "text": [
      "Scraping Progress:  25%|██▍       | 810/3302 [21:19<1:33:58,  2.26s/it]"
     ]
    },
    {
     "name": "stdout",
     "output_type": "stream",
     "text": [
      "Successfully fetched: https://www.bostonglobe.com/2023/10/31/nation/does-jan-6-constitutionally-block-trump-2024-ballot-lawyers-make-case-day-2-hearing/\n"
     ]
    },
    {
     "name": "stderr",
     "output_type": "stream",
     "text": [
      "Scraping Progress:  25%|██▍       | 811/3302 [21:21<1:29:47,  2.16s/it]"
     ]
    },
    {
     "name": "stdout",
     "output_type": "stream",
     "text": [
      "Successfully fetched: https://statsinsights.hillstrategies.com/p/artists-in-toronto-in-2021\n"
     ]
    },
    {
     "name": "stderr",
     "output_type": "stream",
     "text": [
      "Scraping Progress:  25%|██▍       | 812/3302 [21:22<1:18:38,  1.90s/it]"
     ]
    },
    {
     "name": "stdout",
     "output_type": "stream",
     "text": [
      "Successfully fetched: https://www.politico.eu/article/mickey-mouse-european-parliament-eu-train-strasbourg-wrong-turn-disneyland-paris/\n"
     ]
    },
    {
     "name": "stderr",
     "output_type": "stream",
     "text": [
      "Scraping Progress:  25%|██▍       | 813/3302 [21:24<1:10:03,  1.69s/it]"
     ]
    },
    {
     "name": "stdout",
     "output_type": "stream",
     "text": [
      "Successfully fetched: https://reason.com/2023/09/29/when-the-maga-movement-sounds-like-bernie-sanders/\n"
     ]
    },
    {
     "name": "stderr",
     "output_type": "stream",
     "text": [
      "Scraping Progress:  25%|██▍       | 814/3302 [21:25<1:05:17,  1.57s/it]"
     ]
    },
    {
     "name": "stdout",
     "output_type": "stream",
     "text": [
      "Successfully fetched: https://www.bostonglobe.com/2023/10/31/metro/everett-superintendent-priya-tahiliani-leave/\n"
     ]
    },
    {
     "name": "stderr",
     "output_type": "stream",
     "text": [
      "Scraping Progress:  25%|██▍       | 815/3302 [21:27<1:13:45,  1.78s/it]"
     ]
    },
    {
     "name": "stdout",
     "output_type": "stream",
     "text": [
      "Successfully fetched: https://www.naturalnews.com/2023-09-05-leader-of-gdl-with-ties-to-adl.html\n"
     ]
    },
    {
     "name": "stderr",
     "output_type": "stream",
     "text": [
      "Scraping Progress:  25%|██▍       | 816/3302 [21:28<1:08:46,  1.66s/it]"
     ]
    },
    {
     "name": "stdout",
     "output_type": "stream",
     "text": [
      "Successfully fetched: https://www.esquire.com/news-politics/politics/a45251653/defense-spending-congress-mccarthy-house/\n"
     ]
    },
    {
     "name": "stderr",
     "output_type": "stream",
     "text": [
      "Scraping Progress:  25%|██▍       | 817/3302 [21:30<1:01:06,  1.48s/it]"
     ]
    },
    {
     "name": "stdout",
     "output_type": "stream",
     "text": [
      "Successfully fetched: https://www.belloflostsouls.net/2023/09/gw-warhammer-40k-fantasy-minis-trivia-challenge-september-29th.html\n"
     ]
    },
    {
     "name": "stderr",
     "output_type": "stream",
     "text": [
      "Scraping Progress:  25%|██▍       | 818/3302 [21:31<1:04:24,  1.56s/it]"
     ]
    },
    {
     "name": "stdout",
     "output_type": "stream",
     "text": [
      "Successfully fetched: https://www.mmamania.com/2023/10/13/23915542/dillon-danis-threatens-to-pull-out-of-logan-paul-fight-again-fights-off-you-missed-weight\n"
     ]
    },
    {
     "name": "stderr",
     "output_type": "stream",
     "text": [
      "Scraping Progress:  25%|██▍       | 819/3302 [21:33<1:07:55,  1.64s/it]"
     ]
    },
    {
     "name": "stdout",
     "output_type": "stream",
     "text": [
      "Successfully fetched: https://www.mmamania.com/2023/9/8/23864235/nate-diaz-fires-back-at-jake-paul-over-ducking-accusations-fight-yourself-lame-a\n"
     ]
    },
    {
     "name": "stderr",
     "output_type": "stream",
     "text": [
      "Scraping Progress:  25%|██▍       | 820/3302 [21:35<1:11:24,  1.73s/it]"
     ]
    },
    {
     "name": "stdout",
     "output_type": "stream",
     "text": [
      "Successfully fetched: https://allears.net/2023/09/05/7-top-secret-places-in-magic-kingdom/\n"
     ]
    },
    {
     "name": "stderr",
     "output_type": "stream",
     "text": [
      "Scraping Progress:  25%|██▍       | 821/3302 [21:36<1:07:23,  1.63s/it]"
     ]
    },
    {
     "name": "stdout",
     "output_type": "stream",
     "text": [
      "Successfully fetched: https://www.naturalnews.com/2023-09-29-paul-offit-biden-fda-rejects-covid-vaccine.html\n"
     ]
    },
    {
     "name": "stderr",
     "output_type": "stream",
     "text": [
      "Scraping Progress:  25%|██▍       | 822/3302 [21:38<1:03:56,  1.55s/it]"
     ]
    },
    {
     "name": "stdout",
     "output_type": "stream",
     "text": [
      "Successfully fetched: https://www.naturalnews.com/2023-10-04-newsom-replaces-feinstein-senate-black-lesbian-maryland.html\n"
     ]
    },
    {
     "name": "stderr",
     "output_type": "stream",
     "text": [
      "Scraping Progress:  25%|██▍       | 823/3302 [21:39<1:01:51,  1.50s/it]"
     ]
    },
    {
     "name": "stdout",
     "output_type": "stream",
     "text": [
      "Cannot fetch https://www.ad.nl/nederlands-voetbal/voetbalpodcast-pieter-omtzigt-is-de-man-voor-ajax~a96087be/, HTTP error: 403 Client Error: Forbidden for url: https://www.ad.nl/nederlands-voetbal/voetbalpodcast-pieter-omtzigt-is-de-man-voor-ajax~a96087be/\n"
     ]
    },
    {
     "name": "stderr",
     "output_type": "stream",
     "text": [
      "Scraping Progress:  25%|██▍       | 824/3302 [21:40<55:58,  1.36s/it]  "
     ]
    },
    {
     "name": "stdout",
     "output_type": "stream",
     "text": [
      "Successfully fetched: https://www.xxlmag.com/quavo-huncho-jack-jack-huncho-2-travis-scott-update/\n"
     ]
    },
    {
     "name": "stderr",
     "output_type": "stream",
     "text": [
      "Scraping Progress:  25%|██▍       | 825/3302 [21:42<55:26,  1.34s/it]"
     ]
    },
    {
     "name": "stdout",
     "output_type": "stream",
     "text": [
      "Successfully fetched: https://www.vintag.es/2023/09/lita-ford-on-stage.html\n"
     ]
    },
    {
     "name": "stderr",
     "output_type": "stream",
     "text": [
      "Scraping Progress:  25%|██▌       | 826/3302 [21:43<54:59,  1.33s/it]"
     ]
    },
    {
     "name": "stdout",
     "output_type": "stream",
     "text": [
      "Successfully fetched: https://wwd.com/pop-culture/culture-news/protests-nyfw-us-open-jessica-chastain-1235792183/\n"
     ]
    },
    {
     "name": "stderr",
     "output_type": "stream",
     "text": [
      "Scraping Progress:  25%|██▌       | 827/3302 [21:45<1:06:19,  1.61s/it]"
     ]
    },
    {
     "name": "stdout",
     "output_type": "stream",
     "text": [
      "Successfully fetched: https://www.vitalmtb.com/features/another-first-time-winner-snowshoe-recap-vitals-b-practice-podcast\n"
     ]
    },
    {
     "name": "stderr",
     "output_type": "stream",
     "text": [
      "Scraping Progress:  25%|██▌       | 828/3302 [21:48<1:23:06,  2.02s/it]"
     ]
    },
    {
     "name": "stdout",
     "output_type": "stream",
     "text": [
      "Successfully fetched: https://pagesix.com/2023/10/04/david-and-victoria-beckham-share-sweet-moment-after-breaking-silence-on-his-alleged-2003-affair/\n"
     ]
    },
    {
     "name": "stderr",
     "output_type": "stream",
     "text": [
      "Scraping Progress:  25%|██▌       | 829/3302 [21:49<1:16:10,  1.85s/it]"
     ]
    },
    {
     "name": "stdout",
     "output_type": "stream",
     "text": [
      "Successfully fetched: https://matadornetwork.com/read/kaya-palazzo-golf-resort/\n"
     ]
    },
    {
     "name": "stderr",
     "output_type": "stream",
     "text": [
      "Scraping Progress:  25%|██▌       | 830/3302 [21:51<1:06:26,  1.61s/it]"
     ]
    },
    {
     "name": "stdout",
     "output_type": "stream",
     "text": [
      "Successfully fetched: https://screenrant.com/one-piece-season-1-buggy-clown-lives-why/\n"
     ]
    },
    {
     "name": "stderr",
     "output_type": "stream",
     "text": [
      "Scraping Progress:  25%|██▌       | 831/3302 [21:52<1:01:26,  1.49s/it]"
     ]
    },
    {
     "name": "stdout",
     "output_type": "stream",
     "text": [
      "Successfully fetched: https://bleedingcool.com/tv/aew-dynamite-brings-war-on-wwe-to-cincinnati-tonight/\n"
     ]
    },
    {
     "name": "stderr",
     "output_type": "stream",
     "text": [
      "Scraping Progress:  25%|██▌       | 832/3302 [21:53<55:50,  1.36s/it]  "
     ]
    },
    {
     "name": "stdout",
     "output_type": "stream",
     "text": [
      "Successfully fetched: https://bleedingcool.com/comics/cult-of-carnage-misery-5-preview-liz-allans-symbiotic-overload/\n"
     ]
    },
    {
     "name": "stderr",
     "output_type": "stream",
     "text": [
      "Scraping Progress:  25%|██▌       | 833/3302 [21:54<51:57,  1.26s/it]"
     ]
    },
    {
     "name": "stdout",
     "output_type": "stream",
     "text": [
      "Successfully fetched: https://bleedingcool.com/tv/aew-all-out-preview-aew-picks-up-the-pieces-from-cm-punk-fallout/\n"
     ]
    },
    {
     "name": "stderr",
     "output_type": "stream",
     "text": [
      "Scraping Progress:  25%|██▌       | 834/3302 [21:55<49:14,  1.20s/it]"
     ]
    },
    {
     "name": "stdout",
     "output_type": "stream",
     "text": [
      "Successfully fetched: https://bleedingcool.com/comics/spider-man-india-4-preview-fate-of-mumbai-in-spider-hands/\n"
     ]
    },
    {
     "name": "stderr",
     "output_type": "stream",
     "text": [
      "Scraping Progress:  25%|██▌       | 835/3302 [21:56<47:14,  1.15s/it]"
     ]
    },
    {
     "name": "stdout",
     "output_type": "stream",
     "text": [
      "Successfully fetched: https://www.ndtv.com/offbeat/circus-performer-spins-8-flaming-hula-hoops-breaks-guinness-record-4393367\n"
     ]
    },
    {
     "name": "stderr",
     "output_type": "stream",
     "text": [
      "Scraping Progress:  25%|██▌       | 836/3302 [21:57<51:17,  1.25s/it]"
     ]
    },
    {
     "name": "stdout",
     "output_type": "stream",
     "text": [
      "Successfully fetched: https://allears.net/2023/10/09/7-secrets-hidden-in-plain-sight-in-disney-world/\n"
     ]
    },
    {
     "name": "stderr",
     "output_type": "stream",
     "text": [
      "Scraping Progress:  25%|██▌       | 837/3302 [21:59<51:54,  1.26s/it]"
     ]
    },
    {
     "name": "stdout",
     "output_type": "stream",
     "text": [
      "Successfully fetched: https://www.nrc.nl/nieuws/2023/10/04/de-breakboys-en-hun-pas-de-deux-a4176144\n"
     ]
    },
    {
     "name": "stderr",
     "output_type": "stream",
     "text": [
      "Scraping Progress:  25%|██▌       | 840/3302 [22:02<49:47,  1.21s/it]"
     ]
    },
    {
     "name": "stdout",
     "output_type": "stream",
     "text": [
      "Successfully fetched: https://sloanreview.mit.edu/article/why-text-to-image-ai-requires-a-new-branding-mindset/\n"
     ]
    },
    {
     "name": "stderr",
     "output_type": "stream",
     "text": [
      "Scraping Progress:  25%|██▌       | 841/3302 [22:04<59:53,  1.46s/it]"
     ]
    },
    {
     "name": "stdout",
     "output_type": "stream",
     "text": [
      "Successfully fetched: https://www.rollingstone.com/tv-movies/tv-movie-features/michelle-wolf-netflix-dave-chappelle-louis-ck-metoo-barcelona-media-trump-1234825930/\n"
     ]
    },
    {
     "name": "stderr",
     "output_type": "stream",
     "text": [
      "Scraping Progress:  25%|██▌       | 842/3302 [22:06<56:23,  1.38s/it]"
     ]
    },
    {
     "name": "stdout",
     "output_type": "stream",
     "text": [
      "Successfully fetched: https://www.rawstory.com/house-republicans-fox-news/\n"
     ]
    },
    {
     "name": "stderr",
     "output_type": "stream",
     "text": [
      "Scraping Progress:  26%|██▌       | 843/3302 [22:07<52:41,  1.29s/it]"
     ]
    },
    {
     "name": "stdout",
     "output_type": "stream",
     "text": [
      "Successfully fetched: https://www.everyeye.it/notizie/playstation-studios-sviluppo-soulsborne-playtest-accende-speranze-fan-677170.html\n"
     ]
    },
    {
     "name": "stderr",
     "output_type": "stream",
     "text": [
      "Scraping Progress:  26%|██▌       | 844/3302 [22:08<58:16,  1.42s/it]"
     ]
    },
    {
     "name": "stdout",
     "output_type": "stream",
     "text": [
      "Successfully fetched: https://www.bostonglobe.com/2023/10/06/nation/house-speaker-contenders/\n"
     ]
    },
    {
     "name": "stderr",
     "output_type": "stream",
     "text": [
      "Scraping Progress:  26%|██▌       | 845/3302 [22:11<1:12:46,  1.78s/it]"
     ]
    },
    {
     "name": "stdout",
     "output_type": "stream",
     "text": [
      "Successfully fetched: https://www.zdnet.com/home-and-office/home-entertainment/samsung-adds-iconic-artwork-from-the-met-to-its-frame-tv-collection/\n"
     ]
    },
    {
     "name": "stderr",
     "output_type": "stream",
     "text": [
      "Scraping Progress:  26%|██▌       | 846/3302 [22:13<1:14:20,  1.82s/it]"
     ]
    },
    {
     "name": "stdout",
     "output_type": "stream",
     "text": [
      "Successfully fetched: https://legalinsurrection.com/2023/09/bringing-the-border-to-new-york-week-at-legal-insurrection/\n"
     ]
    },
    {
     "name": "stderr",
     "output_type": "stream",
     "text": [
      "Scraping Progress:  26%|██▌       | 847/3302 [22:15<1:13:50,  1.80s/it]"
     ]
    },
    {
     "name": "stdout",
     "output_type": "stream",
     "text": [
      "Successfully fetched: https://prtimes.jp/main/html/rd/p/000000009.000125081.html\n"
     ]
    },
    {
     "name": "stderr",
     "output_type": "stream",
     "text": [
      "Scraping Progress:  26%|██▌       | 848/3302 [22:16<1:07:44,  1.66s/it]"
     ]
    },
    {
     "name": "stdout",
     "output_type": "stream",
     "text": [
      "Successfully fetched: https://www.lavenir.net/regions/huy-waremme/sports/2023/09/01/le-verlainois-charles-comijn-osteopathe-a-la-vuelta-2023-je-ne-dors-pas-beaucoup-mais-cest-une-experience-incroyable-SZCMUZBK35G75GBMJNBC2T5HLQ/\n"
     ]
    },
    {
     "name": "stderr",
     "output_type": "stream",
     "text": [
      "Scraping Progress:  26%|██▌       | 850/3302 [22:19<1:00:56,  1.49s/it]"
     ]
    },
    {
     "name": "stdout",
     "output_type": "stream",
     "text": [
      "Successfully fetched: https://www.focus.de/politik/zum-tag-der-deutschen-einheit-russland-schreibt-schulbuch-neu-nennt-wiedervereinigung-illegalen-anschluss_id_217725487.html\n"
     ]
    },
    {
     "name": "stderr",
     "output_type": "stream",
     "text": [
      "Scraping Progress:  26%|██▌       | 851/3302 [22:21<1:07:19,  1.65s/it]"
     ]
    },
    {
     "name": "stdout",
     "output_type": "stream",
     "text": [
      "Cannot fetch https://www.demorgen.be/tv-cultuur/kippenvel-en-blinkende-ogen-overal-pj-harvey-schitterde-als-een-bosnimf-in-het-koninklijk-circus~b9d36492/, HTTP error: 403 Client Error: Forbidden for url: https://www.demorgen.be/tv-cultuur/kippenvel-en-blinkende-ogen-overal-pj-harvey-schitterde-als-een-bosnimf-in-het-koninklijk-circus~b9d36492/\n"
     ]
    },
    {
     "name": "stderr",
     "output_type": "stream",
     "text": [
      "Scraping Progress:  26%|██▌       | 852/3302 [22:22<59:39,  1.46s/it]  "
     ]
    },
    {
     "name": "stdout",
     "output_type": "stream",
     "text": [
      "Successfully fetched: https://www.theamericanconservative.com/keep-your-eye-on-the-ball/\n"
     ]
    },
    {
     "name": "stderr",
     "output_type": "stream",
     "text": [
      "Scraping Progress:  26%|██▌       | 854/3302 [22:24<53:53,  1.32s/it]"
     ]
    },
    {
     "name": "stdout",
     "output_type": "stream",
     "text": [
      "Successfully fetched: https://biztoc.com/x/433a42d3fa20e381\n"
     ]
    },
    {
     "name": "stderr",
     "output_type": "stream",
     "text": [
      "Scraping Progress:  26%|██▌       | 855/3302 [22:25<51:05,  1.25s/it]"
     ]
    },
    {
     "name": "stdout",
     "output_type": "stream",
     "text": [
      "Successfully fetched: https://www.foxsports.com/stories/nfl/giants-must-stand-by-their-coach-no-matter-how-bad-things-get\n"
     ]
    },
    {
     "name": "stderr",
     "output_type": "stream",
     "text": [
      "Scraping Progress:  26%|██▌       | 856/3302 [22:28<1:05:30,  1.61s/it]"
     ]
    },
    {
     "name": "stdout",
     "output_type": "stream",
     "text": [
      "Successfully fetched: https://www.lavenir.net/regions/wallonie-picarde/tournai/2023/10/26/le-circus-halloween-sinvite-a-marquain-photos-video-EVTDKX6TQZCZDPQ3QGTKY3AGLA/\n"
     ]
    },
    {
     "name": "stderr",
     "output_type": "stream",
     "text": [
      "Scraping Progress:  26%|██▌       | 859/3302 [22:32<56:01,  1.38s/it]  "
     ]
    },
    {
     "name": "stdout",
     "output_type": "stream",
     "text": [
      "Successfully fetched: https://www.foxsports.com/stories/mlb/mets-gain-credibility-with-david-stearns-hire-heres-whats-first-on-his-to-do-list\n"
     ]
    },
    {
     "name": "stderr",
     "output_type": "stream",
     "text": [
      "Scraping Progress:  26%|██▌       | 861/3302 [22:35<59:59,  1.47s/it]  "
     ]
    },
    {
     "name": "stdout",
     "output_type": "stream",
     "text": [
      "Successfully fetched: https://biztoc.com/x/0f1eae71fd42cac4\n"
     ]
    },
    {
     "name": "stderr",
     "output_type": "stream",
     "text": [
      "Scraping Progress:  26%|██▌       | 862/3302 [22:36<55:10,  1.36s/it]"
     ]
    },
    {
     "name": "stdout",
     "output_type": "stream",
     "text": [
      "Successfully fetched: https://www.levelup.com/noticias/759974/El-regreso-de-Bloodborne-Pista-ilusiona-a-fans-de-juegos-Soulsborne\n"
     ]
    },
    {
     "name": "stderr",
     "output_type": "stream",
     "text": [
      "Scraping Progress:  26%|██▌       | 863/3302 [22:38<1:02:04,  1.53s/it]"
     ]
    },
    {
     "name": "stdout",
     "output_type": "stream",
     "text": [
      "Successfully fetched: https://comicbookmovie.com/fantasy/netflix-reveals-first-look-at-animated-adaptation-of-roald-dahls-the-twits-a205781\n"
     ]
    },
    {
     "name": "stderr",
     "output_type": "stream",
     "text": [
      "Scraping Progress:  26%|██▌       | 864/3302 [22:39<59:04,  1.45s/it]  "
     ]
    },
    {
     "name": "stdout",
     "output_type": "stream",
     "text": [
      "Successfully fetched: https://bleedingcool.com/comics/ablaze-adapt-inspiration-for-lord-of-the-rings-in-january-2024-solicits/\n"
     ]
    },
    {
     "name": "stderr",
     "output_type": "stream",
     "text": [
      "Scraping Progress:  26%|██▌       | 865/3302 [22:40<54:10,  1.33s/it]"
     ]
    },
    {
     "name": "stdout",
     "output_type": "stream",
     "text": [
      "Successfully fetched: https://dailycaller.com/2023/10/02/spartz-fiscal-commission-congress-resign/\n"
     ]
    },
    {
     "name": "stderr",
     "output_type": "stream",
     "text": [
      "Scraping Progress:  26%|██▌       | 866/3302 [22:42<56:24,  1.39s/it]"
     ]
    },
    {
     "name": "stdout",
     "output_type": "stream",
     "text": [
      "Successfully fetched: https://mubi.com/en/notebook/posts/letter-to-a-young-filmmaker\n"
     ]
    },
    {
     "name": "stderr",
     "output_type": "stream",
     "text": [
      "Scraping Progress:  26%|██▋       | 867/3302 [22:43<54:08,  1.33s/it]"
     ]
    },
    {
     "name": "stdout",
     "output_type": "stream",
     "text": [
      "Successfully fetched: https://comicbookmovie.com/black-panther/wakanda-ryan-cooglers-black-panther-spin-off-now-rumored-to-be-an-animated-series-on-disney-a205901\n"
     ]
    },
    {
     "name": "stderr",
     "output_type": "stream",
     "text": [
      "Scraping Progress:  26%|██▋       | 868/3302 [22:44<54:33,  1.35s/it]"
     ]
    },
    {
     "name": "stdout",
     "output_type": "stream",
     "text": [
      "Successfully fetched: https://yle.fi/a/74-20049135\n"
     ]
    },
    {
     "name": "stderr",
     "output_type": "stream",
     "text": [
      "Scraping Progress:  26%|██▋       | 869/3302 [22:46<54:54,  1.35s/it]"
     ]
    },
    {
     "name": "stdout",
     "output_type": "stream",
     "text": [
      "Successfully fetched: https://www.rawstory.com/victoria-spartz/\n"
     ]
    },
    {
     "name": "stderr",
     "output_type": "stream",
     "text": [
      "Scraping Progress:  26%|██▋       | 871/3302 [22:48<51:27,  1.27s/it]"
     ]
    },
    {
     "name": "stdout",
     "output_type": "stream",
     "text": [
      "Successfully fetched: https://www.disneyfoodblog.com/2023/09/18/ok-disney-these-might-be-the-most-beautiful-race-medals-ever/\n"
     ]
    },
    {
     "name": "stderr",
     "output_type": "stream",
     "text": [
      "Scraping Progress:  26%|██▋       | 872/3302 [22:50<56:22,  1.39s/it]"
     ]
    },
    {
     "name": "stdout",
     "output_type": "stream",
     "text": [
      "Successfully fetched: https://www.rawstory.com/trump-shiver-down-spine/\n"
     ]
    },
    {
     "name": "stderr",
     "output_type": "stream",
     "text": [
      "Scraping Progress:  26%|██▋       | 873/3302 [22:51<52:50,  1.31s/it]"
     ]
    },
    {
     "name": "stdout",
     "output_type": "stream",
     "text": [
      "Successfully fetched: https://www.latimes.com/california/story/2023-09-25/feud-between-newsom-and-desantis-headed-for-the-fox-news-debate-stage\n"
     ]
    },
    {
     "name": "stderr",
     "output_type": "stream",
     "text": [
      "Scraping Progress:  26%|██▋       | 875/3302 [22:54<51:34,  1.28s/it]"
     ]
    },
    {
     "name": "stdout",
     "output_type": "stream",
     "text": [
      "Successfully fetched: https://www.bostonglobe.com/2023/09/25/nation/fox-news-announces-newsom-desantis-debate-november/\n"
     ]
    },
    {
     "name": "stderr",
     "output_type": "stream",
     "text": [
      "Scraping Progress:  27%|██▋       | 877/3302 [22:57<1:00:10,  1.49s/it]"
     ]
    },
    {
     "name": "stdout",
     "output_type": "stream",
     "text": [
      "Successfully fetched: https://www.sueddeutsche.de/muenchen/circus-krone-hitlergruss-veranstaltung-staatsschutz-till-reiners-1.6291260\n"
     ]
    },
    {
     "name": "stderr",
     "output_type": "stream",
     "text": [
      "Scraping Progress:  27%|██▋       | 878/3302 [22:58<57:28,  1.42s/it]  "
     ]
    },
    {
     "name": "stdout",
     "output_type": "stream",
     "text": [
      "Successfully fetched: https://nypost.com/2023/09/18/house-gop-infighting-set-to-tank-late-night-cr-deal-as-mccarthy-sets-thursday-vote/\n"
     ]
    },
    {
     "name": "stderr",
     "output_type": "stream",
     "text": [
      "Scraping Progress:  27%|██▋       | 879/3302 [23:00<1:06:08,  1.64s/it]"
     ]
    },
    {
     "name": "stdout",
     "output_type": "stream",
     "text": [
      "Successfully fetched: https://www.playstationlifestyle.net/2023/10/17/playstation-store-update-worldwide-october-17-2023/\n"
     ]
    },
    {
     "name": "stderr",
     "output_type": "stream",
     "text": [
      "Scraping Progress:  27%|██▋       | 880/3302 [23:02<59:35,  1.48s/it]  "
     ]
    },
    {
     "name": "stdout",
     "output_type": "stream",
     "text": [
      "Successfully fetched: https://www.huffpost.com/entry/rebecca-loos-david-beckham-affair_n_6536cc2ae4b0689b3fbd987a\n"
     ]
    },
    {
     "name": "stderr",
     "output_type": "stream",
     "text": [
      "Scraping Progress:  27%|██▋       | 881/3302 [23:03<54:20,  1.35s/it]"
     ]
    },
    {
     "name": "stdout",
     "output_type": "stream",
     "text": [
      "Successfully fetched: https://www.tsf.pt/desporto/ciclista-rui-costa-vence-15-etapa-da-volta-a-espanha-17000389.html\n"
     ]
    },
    {
     "name": "stderr",
     "output_type": "stream",
     "text": [
      "Scraping Progress:  27%|██▋       | 882/3302 [23:04<52:46,  1.31s/it]"
     ]
    },
    {
     "name": "stdout",
     "output_type": "stream",
     "text": [
      "Successfully fetched: https://www.ibtimes.com/thousands-stuck-deep-mud-burning-man-festival-3710517\n"
     ]
    },
    {
     "name": "stderr",
     "output_type": "stream",
     "text": [
      "Scraping Progress:  27%|██▋       | 883/3302 [23:05<49:27,  1.23s/it]"
     ]
    },
    {
     "name": "stdout",
     "output_type": "stream",
     "text": [
      "Successfully fetched: https://www.gry-online.pl/newsroom/dzis-rusza-ostatni-tegoroczny-steam-next-fest-ogramy-setki-gier-i/z126e1c\n"
     ]
    },
    {
     "name": "stderr",
     "output_type": "stream",
     "text": [
      "Scraping Progress:  27%|██▋       | 884/3302 [23:06<53:44,  1.33s/it]"
     ]
    },
    {
     "name": "stdout",
     "output_type": "stream",
     "text": [
      "Successfully fetched: https://www.vitalmtb.com/news/press-release/yt-introduces-capra-uncaged-12\n"
     ]
    },
    {
     "name": "stderr",
     "output_type": "stream",
     "text": [
      "Scraping Progress:  27%|██▋       | 885/3302 [23:09<1:07:16,  1.67s/it]"
     ]
    },
    {
     "name": "stdout",
     "output_type": "stream",
     "text": [
      "Successfully fetched: https://nerdist.com/article/what-do-the-five-nights-at-freddys-post-credits-letters-spell-and-mean/\n"
     ]
    },
    {
     "name": "stderr",
     "output_type": "stream",
     "text": [
      "Scraping Progress:  27%|██▋       | 889/3302 [23:14<51:05,  1.27s/it]  "
     ]
    },
    {
     "name": "stdout",
     "output_type": "stream",
     "text": [
      "Successfully fetched: https://orf.at/stories/3331846/\n"
     ]
    },
    {
     "name": "stderr",
     "output_type": "stream",
     "text": [
      "Scraping Progress:  27%|██▋       | 892/3302 [23:18<55:45,  1.39s/it]  "
     ]
    },
    {
     "name": "stdout",
     "output_type": "stream",
     "text": [
      "Successfully fetched: https://www.blogto.com/travel/2023/10/pumpkin-patch-near-toronto/\n"
     ]
    },
    {
     "name": "stderr",
     "output_type": "stream",
     "text": [
      "Scraping Progress:  27%|██▋       | 895/3302 [23:22<48:04,  1.20s/it]"
     ]
    },
    {
     "name": "stdout",
     "output_type": "stream",
     "text": [
      "Cannot fetch https://www.ad.nl/formule-1/wk-stand-formule-1-max-verstappen-na-historische-race-op-monza-nog-dichter-bij-derde-wereldtitel~a8ff8755/, HTTP error: 403 Client Error: Forbidden for url: https://www.ad.nl/formule-1/wk-stand-formule-1-max-verstappen-na-historische-race-op-monza-nog-dichter-bij-derde-wereldtitel~a8ff8755/\n"
     ]
    },
    {
     "name": "stderr",
     "output_type": "stream",
     "text": [
      "Scraping Progress:  27%|██▋       | 896/3302 [23:23<46:00,  1.15s/it]"
     ]
    },
    {
     "name": "stdout",
     "output_type": "stream",
     "text": [
      "Successfully fetched: https://screenrant.com/every-red-hood-love-interest-ranked-by-compatability/\n"
     ]
    },
    {
     "name": "stderr",
     "output_type": "stream",
     "text": [
      "Scraping Progress:  27%|██▋       | 898/3302 [23:25<46:24,  1.16s/it]"
     ]
    },
    {
     "name": "stdout",
     "output_type": "stream",
     "text": [
      "Successfully fetched: https://allafrica.com/stories/202310130465.html\n"
     ]
    },
    {
     "name": "stderr",
     "output_type": "stream",
     "text": [
      "Scraping Progress:  27%|██▋       | 899/3302 [23:26<47:32,  1.19s/it]"
     ]
    },
    {
     "name": "stdout",
     "output_type": "stream",
     "text": [
      "Successfully fetched: https://hollywoodlife.com/2023/10/03/victoria-beckham-was-unhappy-after-alleged-david-beckham-infidelity/\n"
     ]
    },
    {
     "name": "stderr",
     "output_type": "stream",
     "text": [
      "Scraping Progress:  27%|██▋       | 900/3302 [23:28<50:13,  1.25s/it]"
     ]
    },
    {
     "name": "stdout",
     "output_type": "stream",
     "text": [
      "Successfully fetched: https://hollywoodlife.com/2023/10/03/victoria-beckham-was-unhappy-after-alleged-david-beckham-infidelity/\n"
     ]
    },
    {
     "name": "stderr",
     "output_type": "stream",
     "text": [
      "Scraping Progress:  27%|██▋       | 901/3302 [23:29<47:36,  1.19s/it]"
     ]
    },
    {
     "name": "stdout",
     "output_type": "stream",
     "text": [
      "Successfully fetched: https://hollywoodlife.com/2023/10/10/ryan-reynolds-reveals-how-he-and-blake-lively-are-raising-their-kids/\n"
     ]
    },
    {
     "name": "stderr",
     "output_type": "stream",
     "text": [
      "Scraping Progress:  27%|██▋       | 902/3302 [23:30<50:52,  1.27s/it]"
     ]
    },
    {
     "name": "stdout",
     "output_type": "stream",
     "text": [
      "Successfully fetched: https://bleedingcool.com/comics/detective-comics-1076-preview-in-this-issue-batman-must-die/\n"
     ]
    },
    {
     "name": "stderr",
     "output_type": "stream",
     "text": [
      "Scraping Progress:  27%|██▋       | 903/3302 [23:31<48:07,  1.20s/it]"
     ]
    },
    {
     "name": "stdout",
     "output_type": "stream",
     "text": [
      "Cannot fetch https://www.washingtonpost.com/entertainment/2023/10/18/nea-study-arts-audience-decline/, connection timed out.\n"
     ]
    },
    {
     "name": "stderr",
     "output_type": "stream",
     "text": [
      "Scraping Progress:  27%|██▋       | 904/3302 [23:42<2:45:50,  4.15s/it]"
     ]
    },
    {
     "name": "stdout",
     "output_type": "stream",
     "text": [
      "Successfully fetched: https://www.abc.es/espana/madrid/price-arranca-temporada-otono-20230916210956-nt.html\n"
     ]
    },
    {
     "name": "stderr",
     "output_type": "stream",
     "text": [
      "Scraping Progress:  27%|██▋       | 905/3302 [23:44<2:15:19,  3.39s/it]"
     ]
    },
    {
     "name": "stdout",
     "output_type": "stream",
     "text": [
      "Successfully fetched: https://maisfutebol.iol.pt/modalidades/vuelta/vuelta-geoffrey-soupe-vence-7-etapa-lenny-martinez-segue-lider\n"
     ]
    },
    {
     "name": "stderr",
     "output_type": "stream",
     "text": [
      "Scraping Progress:  27%|██▋       | 906/3302 [23:46<2:00:13,  3.01s/it]"
     ]
    },
    {
     "name": "stdout",
     "output_type": "stream",
     "text": [
      "Successfully fetched: https://maisfutebol.iol.pt/ciclismo/modalidades/rui-costa-explica-como-desenhou-a-vitoria-na-15-etapa-da-vuelta\n"
     ]
    },
    {
     "name": "stderr",
     "output_type": "stream",
     "text": [
      "Scraping Progress:  27%|██▋       | 907/3302 [23:48<1:48:32,  2.72s/it]"
     ]
    },
    {
     "name": "stdout",
     "output_type": "stream",
     "text": [
      "Successfully fetched: https://londonist.com/london/christmas-in-london/christmas-markets-festive-fairs-shopping-london\n"
     ]
    },
    {
     "name": "stderr",
     "output_type": "stream",
     "text": [
      "Scraping Progress:  27%|██▋       | 908/3302 [23:49<1:29:44,  2.25s/it]"
     ]
    },
    {
     "name": "stdout",
     "output_type": "stream",
     "text": [
      "Successfully fetched: https://gonintendo.com/contents/26685-switch-file-size-round-up-for-oct-1st-2023\n"
     ]
    },
    {
     "name": "stderr",
     "output_type": "stream",
     "text": [
      "Scraping Progress:  28%|██▊       | 909/3302 [23:51<1:16:56,  1.93s/it]"
     ]
    },
    {
     "name": "stdout",
     "output_type": "stream",
     "text": [
      "Successfully fetched: https://www.sueddeutsche.de/muenchen/muenchen-roncalli-bernhard-paul-1.6288623\n"
     ]
    },
    {
     "name": "stderr",
     "output_type": "stream",
     "text": [
      "Scraping Progress:  28%|██▊       | 910/3302 [23:52<1:07:44,  1.70s/it]"
     ]
    },
    {
     "name": "stdout",
     "output_type": "stream",
     "text": [
      "Successfully fetched: https://maisfutebol.iol.pt/agenda/internacional/hoje-vai-ser-noticia-169450200\n"
     ]
    },
    {
     "name": "stderr",
     "output_type": "stream",
     "text": [
      "Scraping Progress:  28%|██▊       | 911/3302 [23:54<1:14:32,  1.87s/it]"
     ]
    },
    {
     "name": "stdout",
     "output_type": "stream",
     "text": [
      "Successfully fetched: https://maisfutebol.iol.pt/hoje-vai-ser-noticia/agenda-desporto/hoje-vai-ser-noticia\n"
     ]
    },
    {
     "name": "stderr",
     "output_type": "stream",
     "text": [
      "Scraping Progress:  28%|██▊       | 912/3302 [23:56<1:15:46,  1.90s/it]"
     ]
    },
    {
     "name": "stdout",
     "output_type": "stream",
     "text": [
      "Successfully fetched: https://www.pcgamer.com/lies-of-p-weapon-locations-crafting/\n"
     ]
    },
    {
     "name": "stderr",
     "output_type": "stream",
     "text": [
      "Scraping Progress:  28%|██▊       | 916/3302 [24:00<50:40,  1.27s/it]  "
     ]
    },
    {
     "name": "stdout",
     "output_type": "stream",
     "text": [
      "Successfully fetched: https://www.vox.com/science/23818926/florida-invasive-species-iguanas-tegus-monkeys\n"
     ]
    },
    {
     "name": "stderr",
     "output_type": "stream",
     "text": [
      "Scraping Progress:  28%|██▊       | 917/3302 [24:01<48:07,  1.21s/it]"
     ]
    },
    {
     "name": "stdout",
     "output_type": "stream",
     "text": [
      "Successfully fetched: https://www.elconfidencialdigital.com/articulo/ultima-hora/arte-inmersivo-soho-londinense-promocionar-nuevo-lbx/20230926110247641551.html\n"
     ]
    },
    {
     "name": "stderr",
     "output_type": "stream",
     "text": [
      "Scraping Progress:  28%|██▊       | 918/3302 [24:03<55:58,  1.41s/it]"
     ]
    },
    {
     "name": "stdout",
     "output_type": "stream",
     "text": [
      "Successfully fetched: https://finance.yahoo.com/news/this-week-in-bidenomics-3-things-more-important-than-impeachment-190056245.html\n"
     ]
    },
    {
     "name": "stderr",
     "output_type": "stream",
     "text": [
      "Scraping Progress:  28%|██▊       | 920/3302 [24:06<54:35,  1.37s/it]"
     ]
    },
    {
     "name": "stdout",
     "output_type": "stream",
     "text": [
      "Successfully fetched: https://rohitbhargava.com/the-team-that-has-lost-17000-times-and-counting/\n"
     ]
    },
    {
     "name": "stderr",
     "output_type": "stream",
     "text": [
      "Scraping Progress:  28%|██▊       | 921/3302 [24:10<1:20:28,  2.03s/it]"
     ]
    },
    {
     "name": "stdout",
     "output_type": "stream",
     "text": [
      "Successfully fetched: https://www.pajiba.com/pajiba_love/moonlighting-is-finally-coming-to-streaming.php\n"
     ]
    },
    {
     "name": "stderr",
     "output_type": "stream",
     "text": [
      "Scraping Progress:  28%|██▊       | 923/3302 [24:12<1:03:45,  1.61s/it]"
     ]
    },
    {
     "name": "stdout",
     "output_type": "stream",
     "text": [
      "Successfully fetched: https://www.newsweek.com/did-michael-cohen-perjure-himself-trump-trial-everything-we-know-1837891\n"
     ]
    },
    {
     "name": "stderr",
     "output_type": "stream",
     "text": [
      "Scraping Progress:  28%|██▊       | 924/3302 [24:13<58:54,  1.49s/it]  "
     ]
    },
    {
     "name": "stdout",
     "output_type": "stream",
     "text": [
      "Successfully fetched: https://decider.com/2023/10/18/will-smith-trolled-fans-fake-official-statement-ongoing-media-circus-marriage-to-jada-pinkett-smith/\n"
     ]
    },
    {
     "name": "stderr",
     "output_type": "stream",
     "text": [
      "Scraping Progress:  28%|██▊       | 925/3302 [24:15<1:01:09,  1.54s/it]"
     ]
    },
    {
     "name": "stdout",
     "output_type": "stream",
     "text": [
      "Successfully fetched: https://hbswk.hbs.edu/item/from-pt-barnum-to-mary-kay-lessons-from-five-leaders-who-changed-the-world\n"
     ]
    },
    {
     "name": "stderr",
     "output_type": "stream",
     "text": [
      "Scraping Progress:  28%|██▊       | 926/3302 [24:16<58:36,  1.48s/it]  "
     ]
    },
    {
     "name": "stdout",
     "output_type": "stream",
     "text": [
      "Successfully fetched: https://www.usmagazine.com/celebrity-news/news/travis-scott-questioned-about-astroworld-for-8-hours-in-court-2/#article\n"
     ]
    },
    {
     "name": "stderr",
     "output_type": "stream",
     "text": [
      "Scraping Progress:  28%|██▊       | 927/3302 [24:18<58:01,  1.47s/it]"
     ]
    },
    {
     "name": "stdout",
     "output_type": "stream",
     "text": [
      "Successfully fetched: https://www.usmagazine.com/celebrity-news/news/sam-asghari-slams-bully-donald-trump-jr-over-britney-spears-post/#article\n"
     ]
    },
    {
     "name": "stderr",
     "output_type": "stream",
     "text": [
      "Scraping Progress:  28%|██▊       | 928/3302 [24:19<57:14,  1.45s/it]"
     ]
    },
    {
     "name": "stdout",
     "output_type": "stream",
     "text": [
      "Successfully fetched: https://www.abc.net.au/news/2023-09-30/world-cruiserweight-boxing-jai-opetaia-vs-jordan-thompson/102911918\n"
     ]
    },
    {
     "name": "stderr",
     "output_type": "stream",
     "text": [
      "Scraping Progress:  28%|██▊       | 929/3302 [24:21<1:06:44,  1.69s/it]"
     ]
    },
    {
     "name": "stdout",
     "output_type": "stream",
     "text": [
      "Successfully fetched: https://prtimes.jp/main/html/rd/p/000000040.000043954.html\n"
     ]
    },
    {
     "name": "stderr",
     "output_type": "stream",
     "text": [
      "Scraping Progress:  28%|██▊       | 932/3302 [24:25<51:27,  1.30s/it]  "
     ]
    },
    {
     "name": "stdout",
     "output_type": "stream",
     "text": [
      "Cannot fetch https://ca.sports.yahoo.com/news/ryan-tannehills-tough-day-helps-000034143.html, HTTP error: 404 Client Error: Not Found for url: https://ca.sports.yahoo.com/news/ryan-tannehills-tough-day-helps-000034143.html\n"
     ]
    },
    {
     "name": "stderr",
     "output_type": "stream",
     "text": [
      "Scraping Progress:  28%|██▊       | 933/3302 [24:26<49:23,  1.25s/it]"
     ]
    },
    {
     "name": "stdout",
     "output_type": "stream",
     "text": [
      "Successfully fetched: https://biztoc.com/x/89f5d387239bc478\n"
     ]
    },
    {
     "name": "stderr",
     "output_type": "stream",
     "text": [
      "Scraping Progress:  28%|██▊       | 934/3302 [24:27<47:35,  1.21s/it]"
     ]
    },
    {
     "name": "stdout",
     "output_type": "stream",
     "text": [
      "Successfully fetched: https://www.lavenir.net/sports/cyclisme/2023/09/18/le-patron-dintermarche-circus-wanty-refute-tout-probleme-financier-lavenir-de-lequipe-est-assure-IUNFWNGRR5DFDLOQFRHESRCV5M/\n"
     ]
    },
    {
     "name": "stderr",
     "output_type": "stream",
     "text": [
      "Scraping Progress:  28%|██▊       | 935/3302 [24:29<53:14,  1.35s/it]"
     ]
    },
    {
     "name": "stdout",
     "output_type": "stream",
     "text": [
      "Cannot fetch https://www.hln.be/wielrennen/uci-berispt-intermarche-circus-wanty-voor-achterstallige-loonuitbetalingen-toekomst-team-is-niet-in-gevaar-br-br~a4778208/, HTTP error: 403 Client Error: Forbidden for url: https://www.hln.be/wielrennen/uci-berispt-intermarche-circus-wanty-voor-achterstallige-loonuitbetalingen-toekomst-team-is-niet-in-gevaar-br-br~a4778208/\n"
     ]
    },
    {
     "name": "stderr",
     "output_type": "stream",
     "text": [
      "Scraping Progress:  28%|██▊       | 937/3302 [24:31<47:03,  1.19s/it]"
     ]
    },
    {
     "name": "stdout",
     "output_type": "stream",
     "text": [
      "Successfully fetched: https://www.dhnet.be/sports/cyclisme/2023/10/17/la-chronique-de-mathieu-istace-intermarche-circus-wanty-peut-dire-merci-a-rui-costa-OYJELUC2ZFH6BOIFQMLSIIHWLE/\n"
     ]
    },
    {
     "name": "stderr",
     "output_type": "stream",
     "text": [
      "Scraping Progress:  29%|██▊       | 943/3302 [24:39<45:01,  1.15s/it]  "
     ]
    },
    {
     "name": "stdout",
     "output_type": "stream",
     "text": [
      "Successfully fetched: https://sports.yahoo.com/keenan-allens-maestro-performance-paints-234049220.html\n"
     ]
    },
    {
     "name": "stderr",
     "output_type": "stream",
     "text": [
      "Scraping Progress:  29%|██▊       | 944/3302 [24:40<50:04,  1.27s/it]"
     ]
    },
    {
     "name": "stdout",
     "output_type": "stream",
     "text": [
      "Successfully fetched: https://www.tampabay.com/life-culture/arts/movies/2023/09/06/ricks-on-the-river-dine-and-dash-facebook-tampa/\n"
     ]
    },
    {
     "name": "stderr",
     "output_type": "stream",
     "text": [
      "Scraping Progress:  29%|██▊       | 945/3302 [24:42<54:21,  1.38s/it]"
     ]
    },
    {
     "name": "stdout",
     "output_type": "stream",
     "text": [
      "Successfully fetched: https://screenrant.com/best-five-minutes-every-batman-movie/\n"
     ]
    },
    {
     "name": "stderr",
     "output_type": "stream",
     "text": [
      "Scraping Progress:  29%|██▊       | 947/3302 [24:44<50:16,  1.28s/it]"
     ]
    },
    {
     "name": "stdout",
     "output_type": "stream",
     "text": [
      "Cannot fetch https://www.hln.be/formule-1/live-f1-kwalificatie-loopt-uit-op-drama-voor-max-verstappen-na-vroege-exit-carlos-sainz-pakt-pole~a37ecb9c/, HTTP error: 403 Client Error: Forbidden for url: https://www.hln.be/formule-1/live-f1-kwalificatie-loopt-uit-op-drama-voor-max-verstappen-na-vroege-exit-carlos-sainz-pakt-pole~a37ecb9c/\n"
     ]
    },
    {
     "name": "stderr",
     "output_type": "stream",
     "text": [
      "Scraping Progress:  29%|██▊       | 948/3302 [24:45<47:17,  1.21s/it]"
     ]
    },
    {
     "name": "stdout",
     "output_type": "stream",
     "text": [
      "Cannot fetch https://www.hln.be/formule-1/live-f1-mopperende-verstappen-ook-in-slottraining-niet-in-de-buurt-van-snelste-tijd-lastige-kwalificatie-op-komst~a37ecb9c/, HTTP error: 403 Client Error: Forbidden for url: https://www.hln.be/formule-1/live-f1-mopperende-verstappen-ook-in-slottraining-niet-in-de-buurt-van-snelste-tijd-lastige-kwalificatie-op-komst~a37ecb9c/\n"
     ]
    },
    {
     "name": "stderr",
     "output_type": "stream",
     "text": [
      "Scraping Progress:  29%|██▉       | 952/3302 [24:49<42:12,  1.08s/it]"
     ]
    },
    {
     "name": "stdout",
     "output_type": "stream",
     "text": [
      "Successfully fetched: https://www.lavenir.net/sports/cyclisme/2023/10/11/intermarche-circus-wanty-sanctionne-le-belge-thijssen-et-son-coequipier-mihkels-pour-avoir-mime-des-yeux-brides-avant-une-course-en-chine-MAQZECMWENCH3NNN2PO4QMXY3Q/\n"
     ]
    },
    {
     "name": "stderr",
     "output_type": "stream",
     "text": [
      "Scraping Progress:  29%|██▉       | 954/3302 [24:52<46:32,  1.19s/it]"
     ]
    },
    {
     "name": "stdout",
     "output_type": "stream",
     "text": [
      "Successfully fetched: https://www.kicker.de/ein-geschenk-fuer-den-edelhelfer-kuss-vor-vuelta-triumph-968871/artikel\n"
     ]
    },
    {
     "name": "stderr",
     "output_type": "stream",
     "text": [
      "Scraping Progress:  29%|██▉       | 956/3302 [24:54<45:59,  1.18s/it]"
     ]
    },
    {
     "name": "stdout",
     "output_type": "stream",
     "text": [
      "Successfully fetched: https://biztoc.com/x/ff857aeabf12ffde\n"
     ]
    },
    {
     "name": "stderr",
     "output_type": "stream",
     "text": [
      "Scraping Progress:  29%|██▉       | 958/3302 [24:57<43:54,  1.12s/it]"
     ]
    },
    {
     "name": "stdout",
     "output_type": "stream",
     "text": [
      "Successfully fetched: https://www.dhnet.be/sports/moteurs/formule-1/2023/10/06/la-f1-au-qatar-quand-le-circus-sinstalle-en-plein-desert-4CKBJ4NQJJD2VD22RAWQQSL6BI/\n"
     ]
    },
    {
     "name": "stderr",
     "output_type": "stream",
     "text": [
      "Scraping Progress:  29%|██▉       | 959/3302 [24:59<1:00:28,  1.55s/it]"
     ]
    },
    {
     "name": "stdout",
     "output_type": "stream",
     "text": [
      "Successfully fetched: https://biztoc.com/x/513a94d6fd5cf8d6\n"
     ]
    },
    {
     "name": "stderr",
     "output_type": "stream",
     "text": [
      "Scraping Progress:  29%|██▉       | 960/3302 [25:00<55:21,  1.42s/it]  "
     ]
    },
    {
     "name": "stdout",
     "output_type": "stream",
     "text": [
      "Successfully fetched: https://screenrant.com/best-sci-fi-movie-aliens/\n"
     ]
    },
    {
     "name": "stderr",
     "output_type": "stream",
     "text": [
      "Scraping Progress:  29%|██▉       | 961/3302 [25:02<53:40,  1.38s/it]"
     ]
    },
    {
     "name": "stdout",
     "output_type": "stream",
     "text": [
      "Successfully fetched: https://www.boxingnews24.com/2023/10/influencer-crossover-boxing-just-another-act-in-the-boxing-circus/\n"
     ]
    },
    {
     "name": "stderr",
     "output_type": "stream",
     "text": [
      "Scraping Progress:  29%|██▉       | 962/3302 [25:03<49:59,  1.28s/it]"
     ]
    },
    {
     "name": "stdout",
     "output_type": "stream",
     "text": [
      "Successfully fetched: https://www.boxingnews24.com/2023/10/david-morrell-slams-benavidez-vs-andrade-clown-circus/\n"
     ]
    },
    {
     "name": "stderr",
     "output_type": "stream",
     "text": [
      "Scraping Progress:  29%|██▉       | 963/3302 [25:04<52:42,  1.35s/it]"
     ]
    },
    {
     "name": "stdout",
     "output_type": "stream",
     "text": [
      "Successfully fetched: https://www.archdaily.com/1008315/eumies-awards-2024-announces-its-list-of-362-nominees\n"
     ]
    },
    {
     "name": "stderr",
     "output_type": "stream",
     "text": [
      "Scraping Progress:  29%|██▉       | 964/3302 [25:05<49:52,  1.28s/it]"
     ]
    },
    {
     "name": "stdout",
     "output_type": "stream",
     "text": [
      "Successfully fetched: https://biztoc.com/x/1d9c9af118cde24e\n"
     ]
    },
    {
     "name": "stderr",
     "output_type": "stream",
     "text": [
      "Scraping Progress:  29%|██▉       | 967/3302 [25:09<48:12,  1.24s/it]"
     ]
    },
    {
     "name": "stdout",
     "output_type": "stream",
     "text": [
      "Cannot fetch https://cleantechnica.com/2023/09/30/will-federal-ev-programs-continue-in-government-shutdown/, HTTP error: 403 Client Error: Forbidden for url: https://cleantechnica.com/2023/09/30/will-federal-ev-programs-continue-in-government-shutdown/\n"
     ]
    },
    {
     "name": "stderr",
     "output_type": "stream",
     "text": [
      "Scraping Progress:  29%|██▉       | 968/3302 [25:10<48:20,  1.24s/it]"
     ]
    },
    {
     "name": "stdout",
     "output_type": "stream",
     "text": [
      "Successfully fetched: https://www.npr.org/2023/08/31/1197087770/new-music-friday-the-best-releases-out-on-sept-1\n"
     ]
    },
    {
     "name": "stderr",
     "output_type": "stream",
     "text": [
      "Scraping Progress:  29%|██▉       | 970/3302 [25:13<54:37,  1.41s/it]  "
     ]
    },
    {
     "name": "stdout",
     "output_type": "stream",
     "text": [
      "Successfully fetched: https://www.dhnet.be/sports/2023/09/18/le-patron-dintermarche-circus-wanty-refute-tout-probleme-financier-lavenir-de-lequipe-est-assure-4H3ZC4O4HFFULC7ULDZ4BFZ644/\n"
     ]
    },
    {
     "name": "stderr",
     "output_type": "stream",
     "text": [
      "Scraping Progress:  29%|██▉       | 974/3302 [25:18<45:30,  1.17s/it]"
     ]
    },
    {
     "name": "stdout",
     "output_type": "stream",
     "text": [
      "Successfully fetched: https://www.lavenir.net/sports/cyclisme/2023/09/18/le-patron-dintermarche-circus-wanty-refute-tout-probleme-financier-lavenir-de-lequipe-est-assure-UXAK7G4HXFCABEIIS32YDFLPGA/\n"
     ]
    },
    {
     "name": "stderr",
     "output_type": "stream",
     "text": [
      "Scraping Progress:  30%|██▉       | 975/3302 [25:20<58:10,  1.50s/it]"
     ]
    },
    {
     "name": "stdout",
     "output_type": "stream",
     "text": [
      "Successfully fetched: https://www.dhnet.be/sports/cyclisme/2023/10/15/japan-cup-rui-costa-offre-une-20e-victoire-a-intermarche-circus-wanty-UJFIKIMXQVFGFLBVT6DEGTDRAQ/\n"
     ]
    },
    {
     "name": "stderr",
     "output_type": "stream",
     "text": [
      "Scraping Progress:  30%|██▉       | 976/3302 [25:22<59:08,  1.53s/it]"
     ]
    },
    {
     "name": "stdout",
     "output_type": "stream",
     "text": [
      "Cannot fetch https://ca.news.yahoo.com/spirit-muchmusic-still-alive-doc-055800294.html, HTTP error: 404 Client Error: Not Found for url: https://ca.news.yahoo.com/spirit-muchmusic-still-alive-doc-055800294.html\n"
     ]
    },
    {
     "name": "stderr",
     "output_type": "stream",
     "text": [
      "Scraping Progress:  30%|██▉       | 978/3302 [25:24<52:20,  1.35s/it]"
     ]
    },
    {
     "name": "stdout",
     "output_type": "stream",
     "text": [
      "Successfully fetched: https://www.juancole.com/2023/10/evaporate-overwhelms-community.html\n"
     ]
    },
    {
     "name": "stderr",
     "output_type": "stream",
     "text": [
      "Scraping Progress:  30%|██▉       | 980/3302 [25:26<46:37,  1.20s/it]"
     ]
    },
    {
     "name": "stdout",
     "output_type": "stream",
     "text": [
      "Successfully fetched: https://www.kicker.de/hoeness-ueber-transfers-tuchel-kriegt-alles-was-notwendig-ist-976557/artikel\n"
     ]
    },
    {
     "name": "stderr",
     "output_type": "stream",
     "text": [
      "Scraping Progress:  30%|██▉       | 981/3302 [25:28<53:35,  1.39s/it]"
     ]
    },
    {
     "name": "stdout",
     "output_type": "stream",
     "text": [
      "Successfully fetched: https://www.ign.com/articles/sex-education-season-4-review-netflix-finale\n"
     ]
    },
    {
     "name": "stderr",
     "output_type": "stream",
     "text": [
      "Scraping Progress:  30%|██▉       | 982/3302 [25:30<58:01,  1.50s/it]"
     ]
    },
    {
     "name": "stdout",
     "output_type": "stream",
     "text": [
      "Successfully fetched: https://bloody-disgusting.com/tv/3780886/the-enfield-poltergeist-trailer-apple-tv-docuseries-explores-true-story-behind-the-conjuring-2/\n"
     ]
    },
    {
     "name": "stderr",
     "output_type": "stream",
     "text": [
      "Scraping Progress:  30%|██▉       | 983/3302 [25:32<1:05:34,  1.70s/it]"
     ]
    },
    {
     "name": "stdout",
     "output_type": "stream",
     "text": [
      "Successfully fetched: https://bloody-disgusting.com/tv/3780750/30-coins-season-2-trailer-hbo-welcomes-you-to-hell-just-one-week-before-halloween/\n"
     ]
    },
    {
     "name": "stderr",
     "output_type": "stream",
     "text": [
      "Scraping Progress:  30%|██▉       | 984/3302 [25:34<1:11:27,  1.85s/it]"
     ]
    },
    {
     "name": "stdout",
     "output_type": "stream",
     "text": [
      "Successfully fetched: https://www.bostonherald.com/2023/09/02/editorials-dems-take-risk-in-urging-trump-trials-be-televised/\n"
     ]
    },
    {
     "name": "stderr",
     "output_type": "stream",
     "text": [
      "Scraping Progress:  30%|██▉       | 985/3302 [25:36<1:07:35,  1.75s/it]"
     ]
    },
    {
     "name": "stdout",
     "output_type": "stream",
     "text": [
      "Successfully fetched: https://www.stashmedia.tv/get-in-the-mood-for-halloween-with-kristoffer-bradys-ghosts-short-film/\n"
     ]
    },
    {
     "name": "stderr",
     "output_type": "stream",
     "text": [
      "Scraping Progress:  30%|██▉       | 987/3302 [25:39<59:29,  1.54s/it]  "
     ]
    },
    {
     "name": "stdout",
     "output_type": "stream",
     "text": [
      "Successfully fetched: https://www.tvl.be/nieuws/theater-op-de-markt-zwerft-uit-over-heel-limburg-160306\n"
     ]
    },
    {
     "name": "stderr",
     "output_type": "stream",
     "text": [
      "Scraping Progress:  30%|██▉       | 989/3302 [25:42<1:00:25,  1.57s/it]"
     ]
    },
    {
     "name": "stdout",
     "output_type": "stream",
     "text": [
      "Successfully fetched: https://natemat.pl/519607,nie-zyje-angelo-bruschini-gitarzysta-massive-attack-mial-raka\n"
     ]
    },
    {
     "name": "stderr",
     "output_type": "stream",
     "text": [
      "Scraping Progress:  30%|███       | 992/3302 [25:48<1:01:57,  1.61s/it]"
     ]
    },
    {
     "name": "stdout",
     "output_type": "stream",
     "text": [
      "Successfully fetched: https://ducttapemarketing.com/success-with-a-fractional-cmo-a-complete-guide/\n"
     ]
    },
    {
     "name": "stderr",
     "output_type": "stream",
     "text": [
      "Scraping Progress:  30%|███       | 993/3302 [25:49<55:50,  1.45s/it]  "
     ]
    },
    {
     "name": "stdout",
     "output_type": "stream",
     "text": [
      "Successfully fetched: https://freethoughtblogs.com/stderr/2023/09/10/brain-fart-inaction/\n"
     ]
    },
    {
     "name": "stderr",
     "output_type": "stream",
     "text": [
      "Scraping Progress:  30%|███       | 994/3302 [25:50<55:03,  1.43s/it]"
     ]
    },
    {
     "name": "stdout",
     "output_type": "stream",
     "text": [
      "Successfully fetched: https://www.npr.org/2023/09/15/1199762401/fernando-botero-colombian-artist-dies\n"
     ]
    },
    {
     "name": "stderr",
     "output_type": "stream",
     "text": [
      "Scraping Progress:  30%|███       | 995/3302 [25:52<55:05,  1.43s/it]"
     ]
    },
    {
     "name": "stdout",
     "output_type": "stream",
     "text": [
      "Successfully fetched: https://www.nrc.nl/nieuws/2023/09/26/wat-ze-doen-is-show-maar-het-bloed-is-echt-a4175497\n"
     ]
    },
    {
     "name": "stderr",
     "output_type": "stream",
     "text": [
      "Scraping Progress:  30%|███       | 997/3302 [25:54<52:20,  1.36s/it]"
     ]
    },
    {
     "name": "stdout",
     "output_type": "stream",
     "text": [
      "Successfully fetched: https://www.mmafighting.com/2023/10/10/23903989/roundtable-has-dillon-danis-trolling-of-logan-paul-made-you-interested-in-this-fight\n"
     ]
    },
    {
     "name": "stderr",
     "output_type": "stream",
     "text": [
      "Scraping Progress:  30%|███       | 998/3302 [25:56<57:14,  1.49s/it]"
     ]
    },
    {
     "name": "stdout",
     "output_type": "stream",
     "text": [
      "Successfully fetched: https://www.nrc.nl/nieuws/2023/09/18/56149088-a4174734\n"
     ]
    },
    {
     "name": "stderr",
     "output_type": "stream",
     "text": [
      "Scraping Progress:  30%|███       | 999/3302 [25:58<57:44,  1.50s/it]"
     ]
    },
    {
     "name": "stdout",
     "output_type": "stream",
     "text": [
      "Successfully fetched: https://trojanswire.usatoday.com/lists/how-does-colorados-unexpected-emergence-change-the-season-for-usc/\n"
     ]
    },
    {
     "name": "stderr",
     "output_type": "stream",
     "text": [
      "Scraping Progress:  30%|███       | 1000/3302 [25:59<57:01,  1.49s/it]"
     ]
    },
    {
     "name": "stdout",
     "output_type": "stream",
     "text": [
      "Successfully fetched: https://www.cnn.com/2023/10/05/politics/clinton-trump-biden-election-cnntv/index.html\n"
     ]
    },
    {
     "name": "stderr",
     "output_type": "stream",
     "text": [
      "Scraping Progress:  30%|███       | 1001/3302 [26:01<57:16,  1.49s/it]"
     ]
    },
    {
     "name": "stdout",
     "output_type": "stream",
     "text": [
      "Successfully fetched: https://www.remodelaholic.com/things-never-have-in-living-room/\n"
     ]
    },
    {
     "name": "stderr",
     "output_type": "stream",
     "text": [
      "Scraping Progress:  30%|███       | 1002/3302 [26:02<53:10,  1.39s/it]"
     ]
    },
    {
     "name": "stdout",
     "output_type": "stream",
     "text": [
      "Successfully fetched: https://www.nrc.nl/nieuws/2023/10/04/opnieuw-moet-de-brunssumse-huisarts-zich-tegen-een-zedenaanklacht-verweren-a4176221\n"
     ]
    },
    {
     "name": "stderr",
     "output_type": "stream",
     "text": [
      "Scraping Progress:  30%|███       | 1003/3302 [26:03<55:55,  1.46s/it]"
     ]
    },
    {
     "name": "stdout",
     "output_type": "stream",
     "text": [
      "Successfully fetched: https://www.cnn.com/2023/10/04/media/matt-gaetz-broken-information-environment-reliable-sources/index.html\n"
     ]
    },
    {
     "name": "stderr",
     "output_type": "stream",
     "text": [
      "Scraping Progress:  30%|███       | 1004/3302 [26:05<1:04:33,  1.69s/it]"
     ]
    },
    {
     "name": "stdout",
     "output_type": "stream",
     "text": [
      "Successfully fetched: https://www.americanthinker.com/articles/2023/09/hillary_is_back.html\n"
     ]
    },
    {
     "name": "stderr",
     "output_type": "stream",
     "text": [
      "Scraping Progress:  30%|███       | 1005/3302 [26:07<57:12,  1.49s/it]  "
     ]
    },
    {
     "name": "stdout",
     "output_type": "stream",
     "text": [
      "Successfully fetched: https://brobible.com/sports/article/zach-wilson-first-qb-to-outplay-patrick-mahomes/\n"
     ]
    },
    {
     "name": "stderr",
     "output_type": "stream",
     "text": [
      "Scraping Progress:  30%|███       | 1006/3302 [26:08<54:05,  1.41s/it]"
     ]
    },
    {
     "name": "stdout",
     "output_type": "stream",
     "text": [
      "Successfully fetched: https://www.cnn.com/2023/10/04/politics/white-house-house-gop-drama/index.html\n"
     ]
    },
    {
     "name": "stderr",
     "output_type": "stream",
     "text": [
      "Scraping Progress:  30%|███       | 1007/3302 [26:09<56:11,  1.47s/it]"
     ]
    },
    {
     "name": "stdout",
     "output_type": "stream",
     "text": [
      "Successfully fetched: https://screenrant.com/murdaugh-murders-southern-scandal-family-tree-history/\n"
     ]
    },
    {
     "name": "stderr",
     "output_type": "stream",
     "text": [
      "Scraping Progress:  31%|███       | 1008/3302 [26:11<53:07,  1.39s/it]"
     ]
    },
    {
     "name": "stdout",
     "output_type": "stream",
     "text": [
      "Successfully fetched: https://screenrant.com/best-melee-weapons-baldurs-gate-3-bg3/\n"
     ]
    },
    {
     "name": "stderr",
     "output_type": "stream",
     "text": [
      "Scraping Progress:  31%|███       | 1009/3302 [26:12<50:53,  1.33s/it]"
     ]
    },
    {
     "name": "stdout",
     "output_type": "stream",
     "text": [
      "Successfully fetched: https://screenrant.com/nc-17-rated-horror-movies/\n"
     ]
    },
    {
     "name": "stderr",
     "output_type": "stream",
     "text": [
      "Scraping Progress:  31%|███       | 1010/3302 [26:13<49:59,  1.31s/it]"
     ]
    },
    {
     "name": "stdout",
     "output_type": "stream",
     "text": [
      "Successfully fetched: https://gonintendo.com/contents/27363-vlad-circus-launches-on-switch-today\n"
     ]
    },
    {
     "name": "stderr",
     "output_type": "stream",
     "text": [
      "Scraping Progress:  31%|███       | 1011/3302 [26:14<48:42,  1.28s/it]"
     ]
    },
    {
     "name": "stdout",
     "output_type": "stream",
     "text": [
      "Cannot fetch https://www.demorgen.be/tv-cultuur/temptation-island-op-pauze-na-klachten-van-ex-deelnemers-je-wordt-onder-druk-gezet-tot-je-bezwijkt~b52f17fb/, HTTP error: 403 Client Error: Forbidden for url: https://www.demorgen.be/tv-cultuur/temptation-island-op-pauze-na-klachten-van-ex-deelnemers-je-wordt-onder-druk-gezet-tot-je-bezwijkt~b52f17fb/\n"
     ]
    },
    {
     "name": "stderr",
     "output_type": "stream",
     "text": [
      "Scraping Progress:  31%|███       | 1012/3302 [26:15<45:48,  1.20s/it]"
     ]
    },
    {
     "name": "stdout",
     "output_type": "stream",
     "text": [
      "Cannot fetch https://www.nu.nl/wielrennen/6284872/intermarche-circus-wanty-haalt-renners-van-chinese-koers-na-racistisch-gebaar.html, HTTP error: 403 Client Error: Forbidden for url: https://www.nu.nl/wielrennen/6284872/intermarche-circus-wanty-haalt-renners-van-chinese-koers-na-racistisch-gebaar.html\n"
     ]
    },
    {
     "name": "stderr",
     "output_type": "stream",
     "text": [
      "Scraping Progress:  31%|███       | 1013/3302 [26:16<43:50,  1.15s/it]"
     ]
    },
    {
     "name": "stdout",
     "output_type": "stream",
     "text": [
      "Successfully fetched: https://freethoughtblogs.com/singham/2023/10/24/it-looks-like-deja-vu-all-over-again/\n"
     ]
    },
    {
     "name": "stderr",
     "output_type": "stream",
     "text": [
      "Scraping Progress:  31%|███       | 1014/3302 [26:18<46:18,  1.21s/it]"
     ]
    },
    {
     "name": "stdout",
     "output_type": "stream",
     "text": [
      "Successfully fetched: https://biztoc.com/x/b5b4e5629d874205\n"
     ]
    },
    {
     "name": "stderr",
     "output_type": "stream",
     "text": [
      "Scraping Progress:  31%|███       | 1015/3302 [26:19<45:14,  1.19s/it]"
     ]
    },
    {
     "name": "stdout",
     "output_type": "stream",
     "text": [
      "Successfully fetched: https://www.jornada.com.mx/2023/09/21/espectaculos/a07n1esp\n"
     ]
    },
    {
     "name": "stderr",
     "output_type": "stream",
     "text": [
      "Scraping Progress:  31%|███       | 1016/3302 [26:20<45:10,  1.19s/it]"
     ]
    },
    {
     "name": "stdout",
     "output_type": "stream",
     "text": [
      "Successfully fetched: https://bleedingcool.com/comics/batman-gargoyle-of-gotham-1-preview-cry-me-a-river/\n"
     ]
    },
    {
     "name": "stderr",
     "output_type": "stream",
     "text": [
      "Scraping Progress:  31%|███       | 1017/3302 [26:21<43:32,  1.14s/it]"
     ]
    },
    {
     "name": "stdout",
     "output_type": "stream",
     "text": [
      "Successfully fetched: https://screenrant.com/lies-of-p-dlc-bosses-pinocchio-characters/\n"
     ]
    },
    {
     "name": "stderr",
     "output_type": "stream",
     "text": [
      "Scraping Progress:  31%|███       | 1018/3302 [26:22<44:14,  1.16s/it]"
     ]
    },
    {
     "name": "stdout",
     "output_type": "stream",
     "text": [
      "Successfully fetched: https://screenrant.com/corpse-bride-songs-ranked/\n"
     ]
    },
    {
     "name": "stderr",
     "output_type": "stream",
     "text": [
      "Scraping Progress:  31%|███       | 1019/3302 [26:23<45:00,  1.18s/it]"
     ]
    },
    {
     "name": "stdout",
     "output_type": "stream",
     "text": [
      "Successfully fetched: https://www.poynter.org/commentary/2023/taylor-swift-travis-kelce-kansas-city-chiefs-arrowhead-bigger-than-nfl/\n"
     ]
    },
    {
     "name": "stderr",
     "output_type": "stream",
     "text": [
      "Scraping Progress:  31%|███       | 1021/3302 [26:26<46:10,  1.21s/it]"
     ]
    },
    {
     "name": "stdout",
     "output_type": "stream",
     "text": [
      "Successfully fetched: https://bleedingcool.com/comics/black-panther-4-preview-wedding-crashers-wakanda-style/\n"
     ]
    },
    {
     "name": "stderr",
     "output_type": "stream",
     "text": [
      "Scraping Progress:  31%|███       | 1022/3302 [26:27<44:11,  1.16s/it]"
     ]
    },
    {
     "name": "stdout",
     "output_type": "stream",
     "text": [
      "Cannot fetch https://www.hln.be/wielrennen/live-gran-piemonte-louis-vervaeke-ontsnapt-van-aert-overstelpt-door-fans-moeilijker-om-te-overleven~a9fa8f01/, HTTP error: 403 Client Error: Forbidden for url: https://www.hln.be/wielrennen/live-gran-piemonte-louis-vervaeke-ontsnapt-van-aert-overstelpt-door-fans-moeilijker-om-te-overleven~a9fa8f01/\n"
     ]
    },
    {
     "name": "stderr",
     "output_type": "stream",
     "text": [
      "Scraping Progress:  31%|███       | 1023/3302 [26:28<42:35,  1.12s/it]"
     ]
    },
    {
     "name": "stdout",
     "output_type": "stream",
     "text": [
      "Successfully fetched: https://bleedingcool.com/tv/aew-wrestledream-preview-will-edge-show-up-and-stab-wwe-in-the-back/\n"
     ]
    },
    {
     "name": "stderr",
     "output_type": "stream",
     "text": [
      "Scraping Progress:  31%|███       | 1024/3302 [26:29<41:43,  1.10s/it]"
     ]
    },
    {
     "name": "stdout",
     "output_type": "stream",
     "text": [
      "Successfully fetched: https://bleedingcool.com/comics/spine-tingling-spider-man-1-preview-scariest-spider-man-story-ever/\n"
     ]
    },
    {
     "name": "stderr",
     "output_type": "stream",
     "text": [
      "Scraping Progress:  31%|███       | 1025/3302 [26:30<41:05,  1.08s/it]"
     ]
    },
    {
     "name": "stdout",
     "output_type": "stream",
     "text": [
      "Successfully fetched: https://bleedingcool.com/comics/detective-comics-1074-preview-batmans-demonic-tug-of-war/\n"
     ]
    },
    {
     "name": "stderr",
     "output_type": "stream",
     "text": [
      "Scraping Progress:  31%|███       | 1026/3302 [26:31<40:38,  1.07s/it]"
     ]
    },
    {
     "name": "stdout",
     "output_type": "stream",
     "text": [
      "Successfully fetched: https://www.nacion.com/tiempo-libre/los-pilotos-mas-locos-de-bmx-patineta-scooter-y/RWF46NNZNVH2VA5PSCSFC42WY4/story/\n"
     ]
    },
    {
     "name": "stderr",
     "output_type": "stream",
     "text": [
      "Scraping Progress:  31%|███       | 1027/3302 [26:33<48:38,  1.28s/it]"
     ]
    },
    {
     "name": "stdout",
     "output_type": "stream",
     "text": [
      "Successfully fetched: https://www.dailysignal.com/2023/10/03/gop-congresswoman-weighs-resigning-if-house-keeps-ignoring-debt-border-crises/\n"
     ]
    },
    {
     "name": "stderr",
     "output_type": "stream",
     "text": [
      "Scraping Progress:  31%|███       | 1028/3302 [26:35<53:06,  1.40s/it]"
     ]
    },
    {
     "name": "stdout",
     "output_type": "stream",
     "text": [
      "Successfully fetched: https://pagesix.com/2023/10/20/britney-spears-models-homemade-dress-despite-wardrobe-malfunction/\n"
     ]
    },
    {
     "name": "stderr",
     "output_type": "stream",
     "text": [
      "Scraping Progress:  31%|███       | 1029/3302 [26:36<57:24,  1.52s/it]"
     ]
    },
    {
     "name": "stdout",
     "output_type": "stream",
     "text": [
      "Successfully fetched: https://www.dailysignal.com/2023/09/08/what-game-is-hunter-biden-playing/\n"
     ]
    },
    {
     "name": "stderr",
     "output_type": "stream",
     "text": [
      "Scraping Progress:  31%|███       | 1030/3302 [26:38<58:33,  1.55s/it]"
     ]
    },
    {
     "name": "stdout",
     "output_type": "stream",
     "text": [
      "Successfully fetched: https://www.dailysignal.com/2023/09/22/public-broadcasting-bored-silly-republican-hearings/\n"
     ]
    },
    {
     "name": "stderr",
     "output_type": "stream",
     "text": [
      "Scraping Progress:  31%|███       | 1031/3302 [26:40<59:27,  1.57s/it]"
     ]
    },
    {
     "name": "stdout",
     "output_type": "stream",
     "text": [
      "Cannot fetch https://www.cjr.org/the_media_today/back-to-the-future-in-slovakia.php, HTTP error: 403 Client Error: Forbidden for url: https://www.cjr.org/the_media_today/back-to-the-future-in-slovakia.php\n"
     ]
    },
    {
     "name": "stderr",
     "output_type": "stream",
     "text": [
      "Scraping Progress:  31%|███▏      | 1032/3302 [26:41<55:28,  1.47s/it]"
     ]
    },
    {
     "name": "stdout",
     "output_type": "stream",
     "text": [
      "Successfully fetched: https://www.ilgiornale.it/news/sport/se-lindustria-italiana-sa-catturare-i-giovani-tifosi-2224222.html\n"
     ]
    },
    {
     "name": "stderr",
     "output_type": "stream",
     "text": [
      "Scraping Progress:  31%|███▏      | 1033/3302 [26:42<54:12,  1.43s/it]"
     ]
    },
    {
     "name": "stdout",
     "output_type": "stream",
     "text": [
      "Successfully fetched: https://www.theparisreview.org/blog/2023/09/13/two-strip-clubs-paris-and-new-hampshire/\n"
     ]
    },
    {
     "name": "stderr",
     "output_type": "stream",
     "text": [
      "Scraping Progress:  31%|███▏      | 1034/3302 [26:43<50:03,  1.32s/it]"
     ]
    },
    {
     "name": "stdout",
     "output_type": "stream",
     "text": [
      "Successfully fetched: https://www.mmamania.com/2023/10/26/23933348/bud-light-barker-dana-white-not-sellout-rips-dummies-boycotting-ufc-beer-sponsorship-like-covid-mma\n"
     ]
    },
    {
     "name": "stderr",
     "output_type": "stream",
     "text": [
      "Scraping Progress:  31%|███▏      | 1037/3302 [26:48<52:41,  1.40s/it]  "
     ]
    },
    {
     "name": "stdout",
     "output_type": "stream",
     "text": [
      "Successfully fetched: https://www.kaiak.tw/art-taipei-2023/\n"
     ]
    },
    {
     "name": "stderr",
     "output_type": "stream",
     "text": [
      "Scraping Progress:  31%|███▏      | 1038/3302 [26:50<55:52,  1.48s/it]"
     ]
    },
    {
     "name": "stdout",
     "output_type": "stream",
     "text": [
      "Successfully fetched: https://whiplash.net/materias/news_702/355619-johnlennon.html\n"
     ]
    },
    {
     "name": "stderr",
     "output_type": "stream",
     "text": [
      "Scraping Progress:  31%|███▏      | 1039/3302 [26:51<51:12,  1.36s/it]"
     ]
    },
    {
     "name": "stdout",
     "output_type": "stream",
     "text": [
      "Successfully fetched: https://www.nrc.nl/nieuws/2023/10/25/gigantische-krokodillengenitalien-en-een-stapel-naakte-lijven-wagners-rheingold-is-bij-castellucci-sinister-vreemd-en-smaakt-naar-meer-a4178552\n"
     ]
    },
    {
     "name": "stderr",
     "output_type": "stream",
     "text": [
      "Scraping Progress:  31%|███▏      | 1040/3302 [26:52<53:43,  1.43s/it]"
     ]
    },
    {
     "name": "stdout",
     "output_type": "stream",
     "text": [
      "Successfully fetched: https://www.forbes.com/sites/angelinavillaclarke/2023/10/05/the-new-public-square-moxys-experiential-take-on-hospitality/\n"
     ]
    },
    {
     "name": "stderr",
     "output_type": "stream",
     "text": [
      "Scraping Progress:  32%|███▏      | 1041/3302 [26:53<49:21,  1.31s/it]"
     ]
    },
    {
     "name": "stdout",
     "output_type": "stream",
     "text": [
      "Successfully fetched: https://www.loudersound.com/features/roxy-music-virginia-plain\n"
     ]
    },
    {
     "name": "stderr",
     "output_type": "stream",
     "text": [
      "Scraping Progress:  32%|███▏      | 1042/3302 [26:55<48:07,  1.28s/it]"
     ]
    },
    {
     "name": "stdout",
     "output_type": "stream",
     "text": [
      "Successfully fetched: https://allears.net/2023/09/18/youre-going-to-want-to-see-disneys-new-100th-anniversary-collection-online-now/\n"
     ]
    },
    {
     "name": "stderr",
     "output_type": "stream",
     "text": [
      "Scraping Progress:  32%|███▏      | 1043/3302 [26:56<50:18,  1.34s/it]"
     ]
    },
    {
     "name": "stdout",
     "output_type": "stream",
     "text": [
      "Successfully fetched: https://allears.net/2023/09/22/every-piece-of-concept-art-released-for-universal-epic-universe/\n"
     ]
    },
    {
     "name": "stderr",
     "output_type": "stream",
     "text": [
      "Scraping Progress:  32%|███▏      | 1044/3302 [26:58<51:06,  1.36s/it]"
     ]
    },
    {
     "name": "stdout",
     "output_type": "stream",
     "text": [
      "Successfully fetched: https://www.cbsnews.com/news/trump-ballot-colorado-insurrection-clause/\n"
     ]
    },
    {
     "name": "stderr",
     "output_type": "stream",
     "text": [
      "Scraping Progress:  32%|███▏      | 1045/3302 [26:59<52:59,  1.41s/it]"
     ]
    },
    {
     "name": "stdout",
     "output_type": "stream",
     "text": [
      "Successfully fetched: https://gonintendo.com/contents/27507-european-switch-eshop-releases-for-the-week-of-oct-19th-2023\n"
     ]
    },
    {
     "name": "stderr",
     "output_type": "stream",
     "text": [
      "Scraping Progress:  32%|███▏      | 1046/3302 [27:00<50:29,  1.34s/it]"
     ]
    },
    {
     "name": "stdout",
     "output_type": "stream",
     "text": [
      "Successfully fetched: https://breakingmuscle.com/2023-rogue-invitational-events/\n"
     ]
    },
    {
     "name": "stderr",
     "output_type": "stream",
     "text": [
      "Scraping Progress:  32%|███▏      | 1048/3302 [27:03<49:45,  1.32s/it]"
     ]
    },
    {
     "name": "stdout",
     "output_type": "stream",
     "text": [
      "Successfully fetched: https://www.mediaite.com/opinion/hapless-republicans-congratulate-themselves-for-doing-bare-minimum-of-choosing-a-speaker-tremendous-success/\n"
     ]
    },
    {
     "name": "stderr",
     "output_type": "stream",
     "text": [
      "Scraping Progress:  32%|███▏      | 1049/3302 [27:06<1:14:22,  1.98s/it]"
     ]
    },
    {
     "name": "stdout",
     "output_type": "stream",
     "text": [
      "Successfully fetched: https://www.playstationlifestyle.net/2023/10/11/windjammers-2-free-update-brings-new-characters-crossplay/\n"
     ]
    },
    {
     "name": "stderr",
     "output_type": "stream",
     "text": [
      "Scraping Progress:  32%|███▏      | 1050/3302 [27:07<1:04:36,  1.72s/it]"
     ]
    },
    {
     "name": "stdout",
     "output_type": "stream",
     "text": [
      "Successfully fetched: https://www.thejournal.ie/nagorno-karabakh-ireland-armenian-ambassador-6194599-Oct2023/\n"
     ]
    },
    {
     "name": "stderr",
     "output_type": "stream",
     "text": [
      "Scraping Progress:  32%|███▏      | 1051/3302 [27:09<1:03:23,  1.69s/it]"
     ]
    },
    {
     "name": "stdout",
     "output_type": "stream",
     "text": [
      "Successfully fetched: https://www.bild.de/sport/fussball/bayern-muenchen/fc-bayern-schoene-aktion-kinder-zirkus-statt-ballon-dor-fuer-die-tuchel-stars-85926700.bild.html\n"
     ]
    },
    {
     "name": "stderr",
     "output_type": "stream",
     "text": [
      "Scraping Progress:  32%|███▏      | 1052/3302 [27:10<58:54,  1.57s/it]  "
     ]
    },
    {
     "name": "stdout",
     "output_type": "stream",
     "text": [
      "Successfully fetched: https://newrepublic.com/article/175607/kevin-mccarthy-once-again-lost-control\n"
     ]
    },
    {
     "name": "stderr",
     "output_type": "stream",
     "text": [
      "Scraping Progress:  32%|███▏      | 1053/3302 [27:12<56:35,  1.51s/it]"
     ]
    },
    {
     "name": "stdout",
     "output_type": "stream",
     "text": [
      "Successfully fetched: https://kanobu.ru/news/rezhissyor-lunnogo-ryitsarya-mohamed-diab-obsudil-shans-sozdaniya-vtorogo-sezona-476489/\n"
     ]
    },
    {
     "name": "stderr",
     "output_type": "stream",
     "text": [
      "Scraping Progress:  32%|███▏      | 1054/3302 [27:14<1:04:13,  1.71s/it]"
     ]
    },
    {
     "name": "stdout",
     "output_type": "stream",
     "text": [
      "Successfully fetched: https://www.mcsweeneys.net/articles/a-conversation-with-dave-eggers-about-his-book-the-eyes-and-the-impossible\n"
     ]
    },
    {
     "name": "stderr",
     "output_type": "stream",
     "text": [
      "Scraping Progress:  32%|███▏      | 1055/3302 [27:15<57:51,  1.54s/it]  "
     ]
    },
    {
     "name": "stdout",
     "output_type": "stream",
     "text": [
      "Successfully fetched: https://www.dailysignal.com/2023/10/30/leftists-try-fail-smear-speaker-johnson-christian-nationalist/\n"
     ]
    },
    {
     "name": "stderr",
     "output_type": "stream",
     "text": [
      "Scraping Progress:  32%|███▏      | 1056/3302 [27:17<59:07,  1.58s/it]"
     ]
    },
    {
     "name": "stdout",
     "output_type": "stream",
     "text": [
      "Successfully fetched: https://biztoc.com/x/3a19b6e774ac617e\n"
     ]
    },
    {
     "name": "stderr",
     "output_type": "stream",
     "text": [
      "Scraping Progress:  32%|███▏      | 1057/3302 [27:18<53:48,  1.44s/it]"
     ]
    },
    {
     "name": "stdout",
     "output_type": "stream",
     "text": [
      "Successfully fetched: https://loudwire.com/la-guns-drummer-steve-riley-dies-67/\n"
     ]
    },
    {
     "name": "stderr",
     "output_type": "stream",
     "text": [
      "Scraping Progress:  32%|███▏      | 1058/3302 [27:19<51:52,  1.39s/it]"
     ]
    },
    {
     "name": "stdout",
     "output_type": "stream",
     "text": [
      "Successfully fetched: https://londonist.com/london/history/a-brief-history-of-the-bakerloo-line\n"
     ]
    },
    {
     "name": "stderr",
     "output_type": "stream",
     "text": [
      "Scraping Progress:  32%|███▏      | 1059/3302 [27:22<1:03:50,  1.71s/it]"
     ]
    },
    {
     "name": "stdout",
     "output_type": "stream",
     "text": [
      "Successfully fetched: https://thoughtcatalog.com/christine-stockton/2023/10/upsetting-revelations-from-britney-spears-memoir-the-woman-in-me/\n"
     ]
    },
    {
     "name": "stderr",
     "output_type": "stream",
     "text": [
      "Scraping Progress:  32%|███▏      | 1060/3302 [27:23<59:22,  1.59s/it]  "
     ]
    },
    {
     "name": "stdout",
     "output_type": "stream",
     "text": [
      "Cannot fetch https://www.ad.nl/buitenland/noord-koreaanse-leider-kim-in-rusland-aangekomen-met-extreem-bepantserde-trein-voor-ontmoeting-met-poetin~a7ebe325/, HTTP error: 403 Client Error: Forbidden for url: https://www.ad.nl/buitenland/noord-koreaanse-leider-kim-in-rusland-aangekomen-met-extreem-bepantserde-trein-voor-ontmoeting-met-poetin~a7ebe325/\n"
     ]
    },
    {
     "name": "stderr",
     "output_type": "stream",
     "text": [
      "Scraping Progress:  32%|███▏      | 1061/3302 [27:24<53:01,  1.42s/it]"
     ]
    },
    {
     "name": "stdout",
     "output_type": "stream",
     "text": [
      "Cannot fetch https://www.republica.com/deportes/rui-costa-hace-sombra-a-evenepoel-en-lekunberri-y-kuss-mantiene-el-liderato-20230910-17591962169/, HTTP error: 503 Server Error: Service Unavailable for url: https://www.republica.com/deportes/rui-costa-hace-sombra-a-evenepoel-en-lekunberri-y-kuss-mantiene-el-liderato-20230910-17591962169/\n"
     ]
    },
    {
     "name": "stderr",
     "output_type": "stream",
     "text": [
      "Scraping Progress:  32%|███▏      | 1062/3302 [27:25<51:12,  1.37s/it]"
     ]
    },
    {
     "name": "stdout",
     "output_type": "stream",
     "text": [
      "Cannot fetch https://japantoday.com/category/entertainment/eno-ichikawa-japanese-kabuki-theater-actor-and-innovator-dies-at-83, error: ('Connection aborted.', ConnectionResetError(104, 'Connection reset by peer'))\n"
     ]
    },
    {
     "name": "stderr",
     "output_type": "stream",
     "text": [
      "Scraping Progress:  32%|███▏      | 1063/3302 [27:26<47:50,  1.28s/it]"
     ]
    },
    {
     "name": "stdout",
     "output_type": "stream",
     "text": [
      "Successfully fetched: https://www.whatsgoodattraderjoes.com/2023/10/trader-joes-petite-pumpkin-spice-cookies.html\n"
     ]
    },
    {
     "name": "stderr",
     "output_type": "stream",
     "text": [
      "Scraping Progress:  32%|███▏      | 1064/3302 [27:28<49:40,  1.33s/it]"
     ]
    },
    {
     "name": "stdout",
     "output_type": "stream",
     "text": [
      "Successfully fetched: https://economictimes.indiatimes.com/magazines/panache/godrej-india-circus-a-timeless-expression-of-indias-design-heritage/articleshow/104585550.cms\n"
     ]
    },
    {
     "name": "stderr",
     "output_type": "stream",
     "text": [
      "Scraping Progress:  32%|███▏      | 1065/3302 [27:30<57:47,  1.55s/it]"
     ]
    },
    {
     "name": "stdout",
     "output_type": "stream",
     "text": [
      "Successfully fetched: https://www.mediafax.ro/life-entertaiment/chitara-la-care-kurt-cobain-a-cantat-la-ultimul-concert-al-trupei-nirvana-va-fi-scoasa-la-licitatie-22154935\n"
     ]
    },
    {
     "name": "stderr",
     "output_type": "stream",
     "text": [
      "Scraping Progress:  32%|███▏      | 1066/3302 [27:32<1:03:02,  1.69s/it]"
     ]
    },
    {
     "name": "stdout",
     "output_type": "stream",
     "text": [
      "Cannot fetch https://japantoday.com/category/world/thousands-stuck-in-deep-mud-at-burning-man-festival, error: HTTPSConnectionPool(host='japantoday.com', port=443): Max retries exceeded with url: /category/world/thousands-stuck-in-deep-mud-at-burning-man-festival (Caused by SSLError(SSLEOFError(8, '[SSL: UNEXPECTED_EOF_WHILE_READING] EOF occurred in violation of protocol (_ssl.c:1006)')))\n"
     ]
    },
    {
     "name": "stderr",
     "output_type": "stream",
     "text": [
      "Scraping Progress:  32%|███▏      | 1067/3302 [27:33<56:02,  1.50s/it]  "
     ]
    },
    {
     "name": "stdout",
     "output_type": "stream",
     "text": [
      "Successfully fetched: https://pagesix.com/2023/10/03/victoria-beckham-resented-husband-david-after-alleged-2003-affair/\n"
     ]
    },
    {
     "name": "stderr",
     "output_type": "stream",
     "text": [
      "Scraping Progress:  32%|███▏      | 1069/3302 [27:36<53:56,  1.45s/it]"
     ]
    },
    {
     "name": "stdout",
     "output_type": "stream",
     "text": [
      "Successfully fetched: https://www.wonkette.com/p/will-republicans-finally-expel-fifth\n"
     ]
    },
    {
     "name": "stderr",
     "output_type": "stream",
     "text": [
      "Scraping Progress:  32%|███▏      | 1070/3302 [27:37<55:24,  1.49s/it]"
     ]
    },
    {
     "name": "stdout",
     "output_type": "stream",
     "text": [
      "Successfully fetched: https://slate.com/news-and-politics/2023/10/elizabeth-warren-consumer-protections-supreme-court-case.html\n"
     ]
    },
    {
     "name": "stderr",
     "output_type": "stream",
     "text": [
      "Scraping Progress:  32%|███▏      | 1071/3302 [27:39<53:11,  1.43s/it]"
     ]
    },
    {
     "name": "stdout",
     "output_type": "stream",
     "text": [
      "Successfully fetched: https://www.bostonglobe.com/2023/10/20/metro/kenneth-force-marching-band-leader-distinction-dies-83/\n"
     ]
    },
    {
     "name": "stderr",
     "output_type": "stream",
     "text": [
      "Scraping Progress:  32%|███▏      | 1072/3302 [27:41<1:01:28,  1.65s/it]"
     ]
    },
    {
     "name": "stdout",
     "output_type": "stream",
     "text": [
      "Successfully fetched: https://www.foxsports.com/stories/mlb/inside-ronald-acuna-jr-s-tumultuous-offseason-and-the-historic-2023-that-followed\n"
     ]
    },
    {
     "name": "stderr",
     "output_type": "stream",
     "text": [
      "Scraping Progress:  32%|███▏      | 1073/3302 [27:43<1:12:56,  1.96s/it]"
     ]
    },
    {
     "name": "stdout",
     "output_type": "stream",
     "text": [
      "Successfully fetched: https://www.abc.es/estilo/madrid-fin-semana-planes-originales-20230913190207-nt.html\n"
     ]
    },
    {
     "name": "stderr",
     "output_type": "stream",
     "text": [
      "Scraping Progress:  33%|███▎      | 1074/3302 [27:45<1:12:48,  1.96s/it]"
     ]
    },
    {
     "name": "stdout",
     "output_type": "stream",
     "text": [
      "Successfully fetched: https://wdtprs.com/2023/10/rome-23-10-day-03-consolations-and-lots-of-tomatoes/\n"
     ]
    },
    {
     "name": "stderr",
     "output_type": "stream",
     "text": [
      "Scraping Progress:  33%|███▎      | 1075/3302 [27:47<1:06:59,  1.80s/it]"
     ]
    },
    {
     "name": "stdout",
     "output_type": "stream",
     "text": [
      "Successfully fetched: https://wdtprs.com/2023/09/daily-rome-shot-801-port-in-a-storm-and-poem-on-walking-together/\n"
     ]
    },
    {
     "name": "stderr",
     "output_type": "stream",
     "text": [
      "Scraping Progress:  33%|███▎      | 1076/3302 [27:48<1:02:18,  1.68s/it]"
     ]
    },
    {
     "name": "stdout",
     "output_type": "stream",
     "text": [
      "Cannot fetch https://www.ad.nl/schaatsen/column-arjan-schouten-circus-jutta-en-jake-omarm-die-chaos~a24e0bed/, HTTP error: 403 Client Error: Forbidden for url: https://www.ad.nl/schaatsen/column-arjan-schouten-circus-jutta-en-jake-omarm-die-chaos~a24e0bed/\n"
     ]
    },
    {
     "name": "stderr",
     "output_type": "stream",
     "text": [
      "Scraping Progress:  33%|███▎      | 1077/3302 [27:49<55:06,  1.49s/it]  "
     ]
    },
    {
     "name": "stdout",
     "output_type": "stream",
     "text": [
      "Successfully fetched: https://slate.com/culture/2023/10/lester-del-rey-invention-fantasy-book-publishing.html\n"
     ]
    },
    {
     "name": "stderr",
     "output_type": "stream",
     "text": [
      "Scraping Progress:  33%|███▎      | 1078/3302 [27:51<52:36,  1.42s/it]"
     ]
    },
    {
     "name": "stdout",
     "output_type": "stream",
     "text": [
      "Successfully fetched: https://www.rawstory.com/trump-criminal-charges-2665736732/\n"
     ]
    },
    {
     "name": "stderr",
     "output_type": "stream",
     "text": [
      "Scraping Progress:  33%|███▎      | 1079/3302 [27:52<48:51,  1.32s/it]"
     ]
    },
    {
     "name": "stdout",
     "output_type": "stream",
     "text": [
      "Successfully fetched: https://www.rawstory.com/macron-meets-meloni-in-rome-amid-tensions-over-migration/\n"
     ]
    },
    {
     "name": "stderr",
     "output_type": "stream",
     "text": [
      "Scraping Progress:  33%|███▎      | 1080/3302 [27:53<47:20,  1.28s/it]"
     ]
    },
    {
     "name": "stdout",
     "output_type": "stream",
     "text": [
      "Successfully fetched: https://www.rawstory.com/terrorist-murphy-and-cornyn-slam-house-gopers-over-mccarthy-ouster/\n"
     ]
    },
    {
     "name": "stderr",
     "output_type": "stream",
     "text": [
      "Scraping Progress:  33%|███▎      | 1081/3302 [27:54<45:05,  1.22s/it]"
     ]
    },
    {
     "name": "stdout",
     "output_type": "stream",
     "text": [
      "Successfully fetched: https://www.dhnet.be/regions/tournai-ath-mouscron/2023/10/19/les-freres-hazard-etaient-chez-want-you-bike-a-tournai-ils-avaient-une-idee-assez-precise-de-ce-quils-voulaient-LKSEP4XBTFH55EMCQR2V7OUSNE/\n"
     ]
    },
    {
     "name": "stderr",
     "output_type": "stream",
     "text": [
      "Scraping Progress:  33%|███▎      | 1082/3302 [27:55<48:42,  1.32s/it]"
     ]
    },
    {
     "name": "stdout",
     "output_type": "stream",
     "text": [
      "Successfully fetched: https://www.mmamania.com/2023/10/14/23916078/logan-paul-vs-dillon-danis-live-stream-boxing-updates-full-fight-coverage-ksi-tommy-fury-misfits\n"
     ]
    },
    {
     "name": "stderr",
     "output_type": "stream",
     "text": [
      "Scraping Progress:  33%|███▎      | 1083/3302 [27:58<1:00:11,  1.63s/it]"
     ]
    },
    {
     "name": "stdout",
     "output_type": "stream",
     "text": [
      "Successfully fetched: https://www.sopitas.com/mientras-tanto/circo-gratis-cdmx-como-ir-boletos-fin-de-semana-actividades/\n"
     ]
    },
    {
     "name": "stderr",
     "output_type": "stream",
     "text": [
      "Scraping Progress:  33%|███▎      | 1084/3302 [28:03<1:35:26,  2.58s/it]"
     ]
    },
    {
     "name": "stdout",
     "output_type": "stream",
     "text": [
      "Successfully fetched: https://www.naturalnews.com/2023-10-03-ojai-city-socal-grants-freedom-to-elephants.html\n"
     ]
    },
    {
     "name": "stderr",
     "output_type": "stream",
     "text": [
      "Scraping Progress:  33%|███▎      | 1085/3302 [28:04<1:22:05,  2.22s/it]"
     ]
    },
    {
     "name": "stdout",
     "output_type": "stream",
     "text": [
      "Successfully fetched: https://www.mmamania.com/2023/9/15/23874348/midnight-mania-longtime-ufc-contender-derek-brunson-released-unexpectedly-jake-paul-espn-mma\n"
     ]
    },
    {
     "name": "stderr",
     "output_type": "stream",
     "text": [
      "Scraping Progress:  33%|███▎      | 1088/3302 [28:09<1:01:31,  1.67s/it]"
     ]
    },
    {
     "name": "stdout",
     "output_type": "stream",
     "text": [
      "Successfully fetched: https://www.dhnet.be/sports/football/diablesrouges/2023/10/18/voici-ce-queden-hazard-va-faire-pendant-sa-retraite-il-commence-sa-nouvelle-carriere-avec-intermarche-circus-wanty-B363JAFED5DANOA6B55G63HUCI/\n"
     ]
    },
    {
     "name": "stderr",
     "output_type": "stream",
     "text": [
      "Scraping Progress:  33%|███▎      | 1089/3302 [28:10<1:00:11,  1.63s/it]"
     ]
    },
    {
     "name": "stdout",
     "output_type": "stream",
     "text": [
      "Successfully fetched: https://www.ndtv.com/offbeat/video-chilean-trapeze-artist-falls-29-foot-after-platform-collapses-fired-later-4455507\n"
     ]
    },
    {
     "name": "stderr",
     "output_type": "stream",
     "text": [
      "Scraping Progress:  33%|███▎      | 1093/3302 [28:15<46:28,  1.26s/it]  "
     ]
    },
    {
     "name": "stdout",
     "output_type": "stream",
     "text": [
      "Successfully fetched: https://www.latimes.com/entertainment-arts/movies/story/2023-10-13/anatomy-of-a-fall-review-palme-dor-winner-sandra-huller-justine-triet\n"
     ]
    },
    {
     "name": "stderr",
     "output_type": "stream",
     "text": [
      "Scraping Progress:  33%|███▎      | 1094/3302 [28:16<48:52,  1.33s/it]"
     ]
    },
    {
     "name": "stdout",
     "output_type": "stream",
     "text": [
      "Successfully fetched: https://www.naturalnews.com/2023-10-09-msm-hype-papal-support-same-sex-marriage.html\n"
     ]
    },
    {
     "name": "stderr",
     "output_type": "stream",
     "text": [
      "Scraping Progress:  33%|███▎      | 1096/3302 [28:19<46:18,  1.26s/it]"
     ]
    },
    {
     "name": "stdout",
     "output_type": "stream",
     "text": [
      "Successfully fetched: https://www.latimes.com/entertainment-arts/movies/story/2023-09-01/gran-turismo-fact-fiction-jann-mardenborough-interview\n"
     ]
    },
    {
     "name": "stderr",
     "output_type": "stream",
     "text": [
      "Scraping Progress:  33%|███▎      | 1098/3302 [28:21<46:52,  1.28s/it]"
     ]
    },
    {
     "name": "stdout",
     "output_type": "stream",
     "text": [
      "Successfully fetched: https://www.latimes.com/entertainment-arts/story/2023-09-01/vincent-enrique-hernandez-volvo-tours-of-the-valley-hammer-biennial-fall-preview\n"
     ]
    },
    {
     "name": "stderr",
     "output_type": "stream",
     "text": [
      "Scraping Progress:  33%|███▎      | 1102/3302 [28:26<42:55,  1.17s/it]"
     ]
    },
    {
     "name": "stdout",
     "output_type": "stream",
     "text": [
      "Successfully fetched: https://biztoc.com/x/5ae5ff5731e5b935\n"
     ]
    },
    {
     "name": "stderr",
     "output_type": "stream",
     "text": [
      "Scraping Progress:  33%|███▎      | 1104/3302 [28:29<41:10,  1.12s/it]"
     ]
    },
    {
     "name": "stdout",
     "output_type": "stream",
     "text": [
      "Cannot fetch https://www.hln.be/wielrennen/intermarche-circus-wanty-houdt-talent-uit-tour-of-guangxi-na-racistisch-gebaar-ook-filmer-thijssen-mag-niet-starten~af3d16a6/, HTTP error: 403 Client Error: Forbidden for url: https://www.hln.be/wielrennen/intermarche-circus-wanty-houdt-talent-uit-tour-of-guangxi-na-racistisch-gebaar-ook-filmer-thijssen-mag-niet-starten~af3d16a6/\n"
     ]
    },
    {
     "name": "stderr",
     "output_type": "stream",
     "text": [
      "Scraping Progress:  33%|███▎      | 1105/3302 [28:30<40:17,  1.10s/it]"
     ]
    },
    {
     "name": "stdout",
     "output_type": "stream",
     "text": [
      "Successfully fetched: https://www.counterpunch.org/2023/09/04/bread-and-circuses-musk-zuckerberg-and-the-art-of-distraction/\n"
     ]
    },
    {
     "name": "stderr",
     "output_type": "stream",
     "text": [
      "Scraping Progress:  33%|███▎      | 1106/3302 [28:31<46:39,  1.27s/it]"
     ]
    },
    {
     "name": "stdout",
     "output_type": "stream",
     "text": [
      "Successfully fetched: https://www.cbsnews.com/news/rachel-maddow-on-prequel-and-the-rise-of-the-fascist-movement-in-america/\n"
     ]
    },
    {
     "name": "stderr",
     "output_type": "stream",
     "text": [
      "Scraping Progress:  34%|███▎      | 1107/3302 [28:34<1:07:57,  1.86s/it]"
     ]
    },
    {
     "name": "stdout",
     "output_type": "stream",
     "text": [
      "Successfully fetched: https://geekdad.com/2023/09/review-batman-detective-comics-1074-dark-knight-of-the-soul/\n"
     ]
    },
    {
     "name": "stderr",
     "output_type": "stream",
     "text": [
      "Scraping Progress:  34%|███▎      | 1108/3302 [28:37<1:12:53,  1.99s/it]"
     ]
    },
    {
     "name": "stdout",
     "output_type": "stream",
     "text": [
      "Successfully fetched: https://www.bbc.co.uk/news/uk-england-london-66733420\n"
     ]
    },
    {
     "name": "stderr",
     "output_type": "stream",
     "text": [
      "Scraping Progress:  34%|███▎      | 1109/3302 [28:38<1:02:29,  1.71s/it]"
     ]
    },
    {
     "name": "stdout",
     "output_type": "stream",
     "text": [
      "Cannot fetch https://www.parool.nl/ps/de-stijl-van-sjeng-een-clowneske-piraat-met-invloeden-van-circusdirecteurs~bb655dbf/, HTTP error: 403 Client Error: Forbidden for url: https://www.parool.nl/ps/de-stijl-van-sjeng-een-clowneske-piraat-met-invloeden-van-circusdirecteurs~bb655dbf/\n"
     ]
    },
    {
     "name": "stderr",
     "output_type": "stream",
     "text": [
      "Scraping Progress:  34%|███▎      | 1111/3302 [28:40<49:55,  1.37s/it]  "
     ]
    },
    {
     "name": "stdout",
     "output_type": "stream",
     "text": [
      "Cannot fetch https://www.hln.be/formule-1/live-f1-verstappen-voltooit-inhaalrace-en-rijdt-net-voor-halfweg-aan-de-leiding~a050126e/, HTTP error: 403 Client Error: Forbidden for url: https://www.hln.be/formule-1/live-f1-verstappen-voltooit-inhaalrace-en-rijdt-net-voor-halfweg-aan-de-leiding~a050126e/\n"
     ]
    },
    {
     "name": "stderr",
     "output_type": "stream",
     "text": [
      "Scraping Progress:  34%|███▎      | 1112/3302 [28:41<46:06,  1.26s/it]"
     ]
    },
    {
     "name": "stdout",
     "output_type": "stream",
     "text": [
      "Successfully fetched: https://biztoc.com/x/e2b866f56596bf49\n"
     ]
    },
    {
     "name": "stderr",
     "output_type": "stream",
     "text": [
      "Scraping Progress:  34%|███▎      | 1114/3302 [28:43<42:21,  1.16s/it]"
     ]
    },
    {
     "name": "stdout",
     "output_type": "stream",
     "text": [
      "Successfully fetched: https://brobible.com/sports/article/new-york-islanders-elephant-poop-good-luck-charm-rangers/\n"
     ]
    },
    {
     "name": "stderr",
     "output_type": "stream",
     "text": [
      "Scraping Progress:  34%|███▍      | 1115/3302 [28:44<44:05,  1.21s/it]"
     ]
    },
    {
     "name": "stdout",
     "output_type": "stream",
     "text": [
      "Successfully fetched: https://theweek.com/business/the-daily-business-briefing-september-19-2023\n"
     ]
    },
    {
     "name": "stderr",
     "output_type": "stream",
     "text": [
      "Scraping Progress:  34%|███▍      | 1116/3302 [28:45<42:18,  1.16s/it]"
     ]
    },
    {
     "name": "stdout",
     "output_type": "stream",
     "text": [
      "Successfully fetched: https://www.nrc.nl/nieuws/2023/09/04/telkens-zoekt-het-kabinet-de-randen-van-de-wet-rond-vluchtelingen-en-geeft-dan-bij-chaos-de-rechter-de-schuld-a4173462\n"
     ]
    },
    {
     "name": "stderr",
     "output_type": "stream",
     "text": [
      "Scraping Progress:  34%|███▍      | 1117/3302 [28:47<47:06,  1.29s/it]"
     ]
    },
    {
     "name": "stdout",
     "output_type": "stream",
     "text": [
      "Successfully fetched: https://www.nrc.nl/nieuws/2023/10/19/de-bmw-xm-is-een-bloedsnelle-kruising-tussen-rico-verhoeven-en-gretha-thunberg-2-a4177737\n"
     ]
    },
    {
     "name": "stderr",
     "output_type": "stream",
     "text": [
      "Scraping Progress:  34%|███▍      | 1118/3302 [28:49<49:46,  1.37s/it]"
     ]
    },
    {
     "name": "stdout",
     "output_type": "stream",
     "text": [
      "Successfully fetched: https://deadline.com/2023/09/hot-springs-documentary-film-festival-32nd-edition-lineup-announcement-1235550936/\n"
     ]
    },
    {
     "name": "stderr",
     "output_type": "stream",
     "text": [
      "Scraping Progress:  34%|███▍      | 1120/3302 [28:52<53:41,  1.48s/it]  "
     ]
    },
    {
     "name": "stdout",
     "output_type": "stream",
     "text": [
      "Successfully fetched: https://www.nrc.nl/nieuws/2023/10/15/doel-van-oranje-athene-overleven-a4177355\n"
     ]
    },
    {
     "name": "stderr",
     "output_type": "stream",
     "text": [
      "Scraping Progress:  34%|███▍      | 1121/3302 [28:53<54:00,  1.49s/it]"
     ]
    },
    {
     "name": "stdout",
     "output_type": "stream",
     "text": [
      "Successfully fetched: https://www.bnr.nl/nieuws/internationaal/10527060/lot-voorzitter-huis-van-afgevaardigden-mccarthy-wordt-vandaag-nog-beslecht\n"
     ]
    },
    {
     "name": "stderr",
     "output_type": "stream",
     "text": [
      "Scraping Progress:  34%|███▍      | 1122/3302 [28:55<51:03,  1.41s/it]"
     ]
    },
    {
     "name": "stdout",
     "output_type": "stream",
     "text": [
      "Successfully fetched: https://www.cnn.com/2023/09/27/motorsport/india-motogp-spt-intl/index.html\n"
     ]
    },
    {
     "name": "stderr",
     "output_type": "stream",
     "text": [
      "Scraping Progress:  34%|███▍      | 1123/3302 [28:56<52:37,  1.45s/it]"
     ]
    },
    {
     "name": "stdout",
     "output_type": "stream",
     "text": [
      "Successfully fetched: https://www.mmafighting.com/2023/9/27/23890493/morning-report-stipe-miocic-hopes-francis-ngannou-shocks-the-world-vs-tyson-fury-mma-boxing\n"
     ]
    },
    {
     "name": "stderr",
     "output_type": "stream",
     "text": [
      "Scraping Progress:  34%|███▍      | 1126/3302 [29:02<55:17,  1.52s/it]  "
     ]
    },
    {
     "name": "stdout",
     "output_type": "stream",
     "text": [
      "Cannot fetch https://www.hln.be/formule-1/francorchamps-heeft-ook-in-2025-plek-op-f1-kalender-beet~a6b9b378/, HTTP error: 403 Client Error: Forbidden for url: https://www.hln.be/formule-1/francorchamps-heeft-ook-in-2025-plek-op-f1-kalender-beet~a6b9b378/\n"
     ]
    },
    {
     "name": "stderr",
     "output_type": "stream",
     "text": [
      "Scraping Progress:  34%|███▍      | 1127/3302 [29:03<49:54,  1.38s/it]"
     ]
    },
    {
     "name": "stdout",
     "output_type": "stream",
     "text": [
      "Cannot fetch https://www.hln.be/formule-1/officieel-francorchamps-heeft-ook-in-2025-plek-op-f1-kalender~a6b9b378/, HTTP error: 403 Client Error: Forbidden for url: https://www.hln.be/formule-1/officieel-francorchamps-heeft-ook-in-2025-plek-op-f1-kalender~a6b9b378/\n"
     ]
    },
    {
     "name": "stderr",
     "output_type": "stream",
     "text": [
      "Scraping Progress:  34%|███▍      | 1130/3302 [29:06<41:40,  1.15s/it]"
     ]
    },
    {
     "name": "stdout",
     "output_type": "stream",
     "text": [
      "Successfully fetched: https://biztoc.com/x/d9476f44da8ba864\n"
     ]
    }
   ],
   "source": [
    "# Load the CSV file containing URLs\n",
    "data = pd.read_csv('data/Circus/circus_2023_09_10.csv')# DSAN-7000-Project/data/Circus/circus_2023_09_10.csv\n",
    "urls = data['url'].tolist() \n",
    "\n",
    "# Function to fetch the main text content from a webpage\n",
    "def fetch_text_from_url(url):\n",
    "    headers = {\n",
    "        \"User-Agent\": \"Mozilla/5.0 (Windows NT 10.0; Win64; x64) AppleWebKit/537.36 (KHTML, like Gecko) Chrome/87.0.4280.88 Safari/537.36\"\n",
    "    }\n",
    "    try:\n",
    "        response = requests.get(url, headers=headers, timeout=10, allow_redirects=False)\n",
    "        response.raise_for_status()  # Check if the request was successful\n",
    "        soup = BeautifulSoup(response.text, 'html.parser')\n",
    "        \n",
    "        # Extract content within <p> tags\n",
    "        paragraphs = soup.find_all('p')\n",
    "        text_content = \"\\n\".join([p.get_text() for p in paragraphs if p.get_text()])\n",
    "        \n",
    "        return text_content\n",
    "    except requests.exceptions.HTTPError as http_err:\n",
    "        print(f\"Cannot fetch {url}, HTTP error: {http_err}\")\n",
    "    except requests.exceptions.Timeout:\n",
    "        print(f\"Cannot fetch {url}, connection timed out.\")\n",
    "    except requests.exceptions.RequestException as e:\n",
    "        print(f\"Cannot fetch {url}, error: {e}\")\n",
    "    return None\n",
    "\n",
    "# Scrape text content for each URL and display progress\n",
    "all_texts = []\n",
    "for url in tqdm(urls, desc=\"Scraping Progress\", leave=True):  # `leave=True` keeps progress bar on one line\n",
    "    text = fetch_text_from_url(url)\n",
    "    if text:\n",
    "        print(f\"Successfully fetched: {url}\")  # Print success message for each URL fetched\n",
    "        all_texts.append(text)\n",
    "    else:\n",
    "        all_texts.append(\"\")  # Add an empty string if fetching fails\n",
    "    time.sleep(1)  # Add delay to avoid being blocked\n",
    "\n",
    "# Add the fetched content to the DataFrame and save to a new CSV file\n",
    "data['text'] = all_texts\n",
    "data.to_csv('data/circus/circus_with_texts.csv', index=False)\n",
    "print(\"Scraping completed, file saved as freakshow_with_texts.csv\")"
   ]
  },
  {
   "cell_type": "code",
   "execution_count": null,
   "id": "8e6d13a6-5cbc-4ba9-83dd-156e64c59d80",
   "metadata": {},
   "outputs": [],
   "source": []
  }
 ],
 "metadata": {
  "kernelspec": {
   "display_name": "Python 3 (ipykernel)",
   "language": "python",
   "name": "python3"
  },
  "language_info": {
   "codemirror_mode": {
    "name": "ipython",
    "version": 3
   },
   "file_extension": ".py",
   "mimetype": "text/x-python",
   "name": "python",
   "nbconvert_exporter": "python",
   "pygments_lexer": "ipython3",
   "version": "3.11.9"
  }
 },
 "nbformat": 4,
 "nbformat_minor": 5
}
