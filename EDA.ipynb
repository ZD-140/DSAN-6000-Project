{
 "cells": [
  {
   "cell_type": "code",
   "execution_count": 6,
   "metadata": {},
   "outputs": [],
   "source": [
    "import pandas as pd\n",
    "import matplotlib.pyplot as plt\n",
    "import numpy as np\n",
    "import requests\n",
    "from tqdm import tqdm\n",
    "from bs4 import BeautifulSoup\n",
    "import time"
   ]
  },
  {
   "cell_type": "code",
   "execution_count": 10,
   "metadata": {},
   "outputs": [
    {
     "name": "stderr",
     "output_type": "stream",
     "text": [
      "Scraping Progress:   0%|          | 0/8402 [00:00<?, ?it/s]"
     ]
    },
    {
     "name": "stdout",
     "output_type": "stream",
     "text": [
      "Successfully fetched: https://thetakeout.com/with-gwen-s-peanut-butter-better-sauce-even-broccoli-i-1826413956\n"
     ]
    },
    {
     "name": "stderr",
     "output_type": "stream",
     "text": [
      "Scraping Progress:   0%|          | 1/8402 [00:01<3:01:09,  1.29s/it]"
     ]
    },
    {
     "name": "stdout",
     "output_type": "stream",
     "text": [
      "Successfully fetched: https://gizmodo.com/after-trump-rants-top-gop-senator-asks-ftc-to-re-open-1828724049\n"
     ]
    },
    {
     "name": "stderr",
     "output_type": "stream",
     "text": [
      "Scraping Progress:   0%|          | 2/8402 [00:02<2:49:21,  1.21s/it]"
     ]
    },
    {
     "name": "stdout",
     "output_type": "stream",
     "text": [
      "Successfully fetched: https://mashable.com/2018/02/12/black-panther-action-figure/\n"
     ]
    },
    {
     "name": "stderr",
     "output_type": "stream",
     "text": [
      "Scraping Progress:   0%|          | 3/8402 [00:03<2:47:38,  1.20s/it]"
     ]
    },
    {
     "name": "stdout",
     "output_type": "stream",
     "text": [
      "Successfully fetched: http://techcrunch.com/2018/10/07/elon-musk-deserves-tougher-love-from-the-sec/\n"
     ]
    },
    {
     "name": "stderr",
     "output_type": "stream",
     "text": [
      "Scraping Progress:   0%|          | 4/8402 [00:04<2:55:56,  1.26s/it]"
     ]
    },
    {
     "name": "stdout",
     "output_type": "stream",
     "text": [
      "Successfully fetched: https://www.theverge.com/2019/1/9/18176044/10g-program-cable-companies-5g-mobile-broadband-internet-ces-2019\n"
     ]
    },
    {
     "name": "stderr",
     "output_type": "stream",
     "text": [
      "Scraping Progress:   0%|          | 5/8402 [00:06<2:50:54,  1.22s/it]"
     ]
    },
    {
     "name": "stdout",
     "output_type": "stream",
     "text": [
      "Successfully fetched: https://www.entrepreneur.com/article/318280\n"
     ]
    },
    {
     "name": "stderr",
     "output_type": "stream",
     "text": [
      "Scraping Progress:   0%|          | 6/8402 [00:07<2:49:19,  1.21s/it]"
     ]
    },
    {
     "name": "stdout",
     "output_type": "stream",
     "text": [
      "Successfully fetched: https://gizmodo.com/area-man-obscure-sidekick-asked-to-leave-google-fibers-1826028038\n"
     ]
    },
    {
     "name": "stderr",
     "output_type": "stream",
     "text": [
      "Scraping Progress:   0%|          | 7/8402 [00:08<2:47:05,  1.19s/it]"
     ]
    },
    {
     "name": "stdout",
     "output_type": "stream",
     "text": [
      "Cannot fetch https://www.reuters.com/article/us-climate-change-accord-trump-exclusive-idUSKCN1NK1MJ, HTTP error: 401 Client Error: HTTP Forbidden for url: https://www.reuters.com/article/us-climate-change-accord-trump-exclusive-idUSKCN1NK1MJ\n"
     ]
    },
    {
     "name": "stderr",
     "output_type": "stream",
     "text": [
      "Scraping Progress:   0%|          | 8/8402 [00:09<2:49:03,  1.21s/it]"
     ]
    },
    {
     "name": "stdout",
     "output_type": "stream",
     "text": [
      "Successfully fetched: http://mashable.com/2018/01/16/orrin-hatch-imaginary-glasses/\n"
     ]
    },
    {
     "name": "stderr",
     "output_type": "stream",
     "text": [
      "Scraping Progress:   0%|          | 9/8402 [00:10<2:51:37,  1.23s/it]"
     ]
    },
    {
     "name": "stdout",
     "output_type": "stream",
     "text": [
      "Successfully fetched: https://www.cnet.com/news/amazon-prime-day-evolves-from-goofy-sideshow-to-black-friday-esque-phenom/\n"
     ]
    },
    {
     "name": "stderr",
     "output_type": "stream",
     "text": [
      "Scraping Progress:   0%|          | 10/8402 [00:12<3:24:18,  1.46s/it]"
     ]
    },
    {
     "name": "stdout",
     "output_type": "stream",
     "text": [
      "Successfully fetched: https://news.yahoo.com/obsessed-fyre-fest-drama-netflix-021723565.html\n"
     ]
    },
    {
     "name": "stderr",
     "output_type": "stream",
     "text": [
      "Scraping Progress:   0%|          | 11/8402 [00:14<3:43:55,  1.60s/it]"
     ]
    },
    {
     "name": "stdout",
     "output_type": "stream",
     "text": [
      "Cannot fetch https://earther.gizmodo.com/trump-officially-nominates-coal-shill-andrew-wheeler-to-1831629921, error: HTTPSConnectionPool(host='earther.gizmodo.com', port=443): Max retries exceeded with url: /trump-officially-nominates-coal-shill-andrew-wheeler-to-1831629921 (Caused by NewConnectionError('<urllib3.connection.HTTPSConnection object at 0x117da2290>: Failed to establish a new connection: [Errno 8] nodename nor servname provided, or not known'))\n"
     ]
    },
    {
     "name": "stderr",
     "output_type": "stream",
     "text": [
      "Scraping Progress:   0%|          | 12/8402 [00:15<3:18:45,  1.42s/it]"
     ]
    },
    {
     "name": "stdout",
     "output_type": "stream",
     "text": [
      "Successfully fetched: https://mashable.com/article/best-simpsons-donald-trump-predictions/\n"
     ]
    },
    {
     "name": "stderr",
     "output_type": "stream",
     "text": [
      "Scraping Progress:   0%|          | 13/8402 [00:17<3:13:35,  1.38s/it]"
     ]
    },
    {
     "name": "stdout",
     "output_type": "stream",
     "text": [
      "Successfully fetched: https://www.theatlantic.com/politics/archive/2018/07/bannon-london-trump/565118/\n"
     ]
    },
    {
     "name": "stderr",
     "output_type": "stream",
     "text": [
      "Scraping Progress:   0%|          | 14/8402 [00:18<3:08:59,  1.35s/it]"
     ]
    },
    {
     "name": "stdout",
     "output_type": "stream",
     "text": [
      "Successfully fetched: https://www.theatlantic.com/international/archive/2018/06/yemen-trump-iran-saudi-arabia-salman-uae/562571/\n"
     ]
    },
    {
     "name": "stderr",
     "output_type": "stream",
     "text": [
      "Scraping Progress:   0%|          | 15/8402 [00:19<3:01:42,  1.30s/it]"
     ]
    },
    {
     "name": "stdout",
     "output_type": "stream",
     "text": [
      "Successfully fetched: https://www.engadget.com/2018/06/05/asus-zenbook-pro-screenpad-touchpad-touchscreen/\n"
     ]
    },
    {
     "name": "stderr",
     "output_type": "stream",
     "text": [
      "Scraping Progress:   0%|          | 16/8402 [00:21<3:10:47,  1.37s/it]"
     ]
    },
    {
     "name": "stdout",
     "output_type": "stream",
     "text": [
      "Successfully fetched: https://www.theatlantic.com/ideas/archive/2019/10/fourth-debate-wrap/600097/\n"
     ]
    },
    {
     "name": "stderr",
     "output_type": "stream",
     "text": [
      "Scraping Progress:   0%|          | 17/8402 [00:22<3:05:21,  1.33s/it]"
     ]
    },
    {
     "name": "stdout",
     "output_type": "stream",
     "text": [
      "Successfully fetched: https://www.wired.com/story/internet-week-194/\n"
     ]
    },
    {
     "name": "stderr",
     "output_type": "stream",
     "text": [
      "Scraping Progress:   0%|          | 18/8402 [00:23<3:05:56,  1.33s/it]"
     ]
    },
    {
     "name": "stdout",
     "output_type": "stream",
     "text": [
      "Successfully fetched: https://www.businessinsider.com/bill-roebuck-memo-trump-syria-policy-catastrophic-sideshow-2019-11\n"
     ]
    },
    {
     "name": "stderr",
     "output_type": "stream",
     "text": [
      "Scraping Progress:   0%|          | 19/8402 [00:24<3:02:10,  1.30s/it]"
     ]
    },
    {
     "name": "stdout",
     "output_type": "stream",
     "text": [
      "Successfully fetched: https://lifehacker.com/how-to-go-out-alone-and-love-it-1822514379\n"
     ]
    },
    {
     "name": "stderr",
     "output_type": "stream",
     "text": [
      "Scraping Progress:   0%|          | 20/8402 [00:26<2:57:31,  1.27s/it]"
     ]
    },
    {
     "name": "stdout",
     "output_type": "stream",
     "text": [
      "Successfully fetched: https://gizmodo.com/french-inventor-touts-rifle-while-flying-turbine-powere-1836363914\n"
     ]
    },
    {
     "name": "stderr",
     "output_type": "stream",
     "text": [
      "Scraping Progress:   0%|          | 21/8402 [00:27<2:52:56,  1.24s/it]"
     ]
    },
    {
     "name": "stdout",
     "output_type": "stream",
     "text": [
      "Successfully fetched: http://techcrunch.com/2018/07/18/worried-about-a-slowdown-it-already-happened-in-2016-says-one-new-venture-study/\n"
     ]
    },
    {
     "name": "stderr",
     "output_type": "stream",
     "text": [
      "Scraping Progress:   0%|          | 22/8402 [00:28<2:57:27,  1.27s/it]"
     ]
    },
    {
     "name": "stdout",
     "output_type": "stream",
     "text": [
      "Cannot fetch https://boingboing.net/2019/03/06/creator-of-zippy-the-pinhead-w.html, HTTP error: 403 Client Error: Forbidden for url: https://boingboing.net/2019/03/06/creator-of-zippy-the-pinhead-w.html\n"
     ]
    },
    {
     "name": "stderr",
     "output_type": "stream",
     "text": [
      "Scraping Progress:   0%|          | 23/8402 [00:29<2:54:38,  1.25s/it]"
     ]
    },
    {
     "name": "stdout",
     "output_type": "stream",
     "text": [
      "Successfully fetched: https://golfweek.com/2018/07/19/2018-british-open-phil-mickelson-now-more-major-sideshow-than-major-contender/\n"
     ]
    },
    {
     "name": "stderr",
     "output_type": "stream",
     "text": [
      "Scraping Progress:   0%|          | 24/8402 [00:31<2:59:05,  1.28s/it]"
     ]
    },
    {
     "name": "stdout",
     "output_type": "stream",
     "text": [
      "Successfully fetched: https://www.huffpost.com/entry/trump-simpsons-sideshow-bob-defense_n_5dce3c39e4b0d2e79f8a2b79\n"
     ]
    },
    {
     "name": "stderr",
     "output_type": "stream",
     "text": [
      "Scraping Progress:   0%|          | 25/8402 [00:32<2:56:19,  1.26s/it]"
     ]
    },
    {
     "name": "stdout",
     "output_type": "stream",
     "text": [
      "Successfully fetched: https://mashable.com/article/dumbo-movie-review/\n"
     ]
    },
    {
     "name": "stderr",
     "output_type": "stream",
     "text": [
      "Scraping Progress:   0%|          | 26/8402 [00:33<2:52:20,  1.23s/it]"
     ]
    },
    {
     "name": "stdout",
     "output_type": "stream",
     "text": [
      "Successfully fetched: http://www.businessinsider.com/23-top-venture-capitalists-booming-enterprise-tech-market-2018-6\n"
     ]
    },
    {
     "name": "stderr",
     "output_type": "stream",
     "text": [
      "Scraping Progress:   0%|          | 27/8402 [00:35<2:59:24,  1.29s/it]"
     ]
    },
    {
     "name": "stdout",
     "output_type": "stream",
     "text": [
      "Successfully fetched: https://io9.gizmodo.com/aliens-original-sfx-artists-helped-sideshow-create-the-1823992879\n"
     ]
    },
    {
     "name": "stderr",
     "output_type": "stream",
     "text": [
      "Scraping Progress:   0%|          | 28/8402 [00:36<3:02:47,  1.31s/it]"
     ]
    },
    {
     "name": "stdout",
     "output_type": "stream",
     "text": [
      "Successfully fetched: https://www.cnet.com/news/the-x-files-at-25-top-10-episodes-you-should-watch/\n"
     ]
    },
    {
     "name": "stderr",
     "output_type": "stream",
     "text": [
      "Scraping Progress:   0%|          | 29/8402 [00:37<3:06:07,  1.33s/it]"
     ]
    },
    {
     "name": "stdout",
     "output_type": "stream",
     "text": [
      "Successfully fetched: https://www.bloomberg.com/view/articles/2018-04-26/when-moon-meets-kim-be-wary-of-success\n"
     ]
    },
    {
     "name": "stderr",
     "output_type": "stream",
     "text": [
      "Scraping Progress:   0%|          | 30/8402 [00:39<3:02:19,  1.31s/it]"
     ]
    },
    {
     "name": "stdout",
     "output_type": "stream",
     "text": [
      "Successfully fetched: https://www.cnet.com/news/the-x-files-25-anniversary-the-top-10-episodes-you-should-watch/\n"
     ]
    },
    {
     "name": "stderr",
     "output_type": "stream",
     "text": [
      "Scraping Progress:   0%|          | 31/8402 [00:40<3:08:41,  1.35s/it]"
     ]
    },
    {
     "name": "stdout",
     "output_type": "stream",
     "text": [
      "Successfully fetched: https://www.bbc.co.uk/news/world-us-canada-46754048\n"
     ]
    },
    {
     "name": "stderr",
     "output_type": "stream",
     "text": [
      "Scraping Progress:   0%|          | 32/8402 [00:41<3:03:00,  1.31s/it]"
     ]
    },
    {
     "name": "stdout",
     "output_type": "stream",
     "text": [
      "Successfully fetched: https://www.businessinsider.com/california-culture-things-locals-know-2019-9\n"
     ]
    },
    {
     "name": "stderr",
     "output_type": "stream",
     "text": [
      "Scraping Progress:   0%|          | 33/8402 [00:42<2:57:03,  1.27s/it]"
     ]
    },
    {
     "name": "stdout",
     "output_type": "stream",
     "text": [
      "Successfully fetched: https://www.wired.com/story/internet-week-170/\n"
     ]
    },
    {
     "name": "stderr",
     "output_type": "stream",
     "text": [
      "Scraping Progress:   0%|          | 34/8402 [00:44<2:55:15,  1.26s/it]"
     ]
    },
    {
     "name": "stdout",
     "output_type": "stream",
     "text": [
      "Cannot fetch https://www.washingtonpost.com/world/national-security/rick-gates--and-the-lies-hes-admitted-telling--to-take-center-stage-at-manafort-trial/2018/08/05/71cbc686-975d-11e8-a679-b09212fb69c2_story.html, connection timed out.\n"
     ]
    },
    {
     "name": "stderr",
     "output_type": "stream",
     "text": [
      "Scraping Progress:   0%|          | 35/8402 [00:55<9:46:55,  4.21s/it]"
     ]
    },
    {
     "name": "stdout",
     "output_type": "stream",
     "text": [
      "Cannot fetch https://www.washingtonpost.com/news/local/wp/2018/08/06/paul-manafort-trial-day-5-live-updates/, connection timed out.\n"
     ]
    },
    {
     "name": "stderr",
     "output_type": "stream",
     "text": [
      "Scraping Progress:   0%|          | 36/8402 [01:06<14:33:16,  6.26s/it]"
     ]
    },
    {
     "name": "stdout",
     "output_type": "stream",
     "text": [
      "Successfully fetched: https://io9.gizmodo.com/forget-the-xenomorph-jonesy-the-cat-is-the-real-star-o-1829267622\n"
     ]
    },
    {
     "name": "stderr",
     "output_type": "stream",
     "text": [
      "Scraping Progress:   0%|          | 37/8402 [01:07<11:07:15,  4.79s/it]"
     ]
    },
    {
     "name": "stdout",
     "output_type": "stream",
     "text": [
      "Successfully fetched: https://io9.gizmodo.com/an-exclusive-look-at-sideshows-stunning-new-princess-le-1825680103\n"
     ]
    },
    {
     "name": "stderr",
     "output_type": "stream",
     "text": [
      "Scraping Progress:   0%|          | 38/8402 [01:08<8:40:09,  3.73s/it] "
     ]
    },
    {
     "name": "stdout",
     "output_type": "stream",
     "text": [
      "Successfully fetched: https://www.theverge.com/2018/2/5/16975878/waymo-v-uber-trial-opening-statements-travis-kalanick-emails\n"
     ]
    },
    {
     "name": "stderr",
     "output_type": "stream",
     "text": [
      "Scraping Progress:   0%|          | 39/8402 [01:10<6:54:03,  2.97s/it]"
     ]
    },
    {
     "name": "stdout",
     "output_type": "stream",
     "text": [
      "Cannot fetch https://news.yahoo.com/2020-democratic-candidates-russia-probe-171523292.html, HTTP error: 404 Client Error: Not Found for url: https://news.yahoo.com/2020-democratic-candidates-russia-probe-171523292.html\n"
     ]
    },
    {
     "name": "stderr",
     "output_type": "stream",
     "text": [
      "Scraping Progress:   0%|          | 40/8402 [01:11<5:39:57,  2.44s/it]"
     ]
    },
    {
     "name": "stdout",
     "output_type": "stream",
     "text": [
      "Successfully fetched: https://io9.gizmodo.com/heres-boba-fett-like-youve-never-seen-him-before-1827631134\n"
     ]
    },
    {
     "name": "stderr",
     "output_type": "stream",
     "text": [
      "Scraping Progress:   0%|          | 41/8402 [01:12<4:54:54,  2.12s/it]"
     ]
    },
    {
     "name": "stdout",
     "output_type": "stream",
     "text": [
      "Successfully fetched: https://www.yahoo.com/news/driver-involved-sideshow-bay-bridge-002506862.html\n"
     ]
    },
    {
     "name": "stderr",
     "output_type": "stream",
     "text": [
      "Scraping Progress:   0%|          | 42/8402 [01:14<4:27:05,  1.92s/it]"
     ]
    },
    {
     "name": "stdout",
     "output_type": "stream",
     "text": [
      "Successfully fetched: https://slate.com/technology/2018/09/apple-watch-health-electrocardiogram-ecg-update.html\n"
     ]
    },
    {
     "name": "stderr",
     "output_type": "stream",
     "text": [
      "Scraping Progress:   1%|          | 43/8402 [01:15<4:06:41,  1.77s/it]"
     ]
    },
    {
     "name": "stdout",
     "output_type": "stream",
     "text": [
      "Successfully fetched: https://io9.gizmodo.com/the-team-behind-jane-fosters-turn-as-thor-talk-about-th-1828361099\n"
     ]
    },
    {
     "name": "stderr",
     "output_type": "stream",
     "text": [
      "Scraping Progress:   1%|          | 44/8402 [01:16<3:48:00,  1.64s/it]"
     ]
    },
    {
     "name": "stdout",
     "output_type": "stream",
     "text": [
      "Successfully fetched: https://io9.gizmodo.com/cyberdynes-attempt-to-make-a-sexy-lady-assassin-termina-1825391775\n"
     ]
    },
    {
     "name": "stderr",
     "output_type": "stream",
     "text": [
      "Scraping Progress:   1%|          | 45/8402 [01:18<3:35:50,  1.55s/it]"
     ]
    },
    {
     "name": "stdout",
     "output_type": "stream",
     "text": [
      "Cannot fetch https://www.businessinsider.sg/elon-musk-has-sold-17-5k-flamethrowers-earning-8-75m-for-the-boring-company-but-not-everyones-happy/, error: HTTPSConnectionPool(host='www.businessinsider.sg', port=443): Max retries exceeded with url: /elon-musk-has-sold-17-5k-flamethrowers-earning-8-75m-for-the-boring-company-but-not-everyones-happy/ (Caused by SSLError(SSLError(1, '[SSL: TLSV1_ALERT_INTERNAL_ERROR] tlsv1 alert internal error (_ssl.c:1002)')))\n"
     ]
    },
    {
     "name": "stderr",
     "output_type": "stream",
     "text": [
      "Scraping Progress:   1%|          | 46/8402 [01:19<3:17:40,  1.42s/it]"
     ]
    },
    {
     "name": "stdout",
     "output_type": "stream",
     "text": [
      "Successfully fetched: https://io9.gizmodo.com/a-glorious-new-batgirl-figure-is-swinging-into-action-1831263568\n"
     ]
    },
    {
     "name": "stderr",
     "output_type": "stream",
     "text": [
      "Scraping Progress:   1%|          | 47/8402 [01:20<3:15:54,  1.41s/it]"
     ]
    },
    {
     "name": "stdout",
     "output_type": "stream",
     "text": [
      "Successfully fetched: https://slate.com/news-and-politics/2018/09/mcconnell-says-not-to-worry-about-the-all-male-gop-judiciary-committee-they-hired-a-female-assistant-to-ask-questions-for-them.html\n"
     ]
    },
    {
     "name": "stderr",
     "output_type": "stream",
     "text": [
      "Scraping Progress:   1%|          | 48/8402 [01:22<3:19:06,  1.43s/it]"
     ]
    },
    {
     "name": "stdout",
     "output_type": "stream",
     "text": [
      "Successfully fetched: https://mashable.com/2018/06/19/best-books-2018-amazon/\n"
     ]
    },
    {
     "name": "stderr",
     "output_type": "stream",
     "text": [
      "Scraping Progress:   1%|          | 49/8402 [01:23<3:12:19,  1.38s/it]"
     ]
    },
    {
     "name": "stdout",
     "output_type": "stream",
     "text": [
      "Successfully fetched: https://io9.gizmodo.com/your-very-own-lifesize-replica-of-bb-8-will-cost-you-al-1827367435\n"
     ]
    },
    {
     "name": "stderr",
     "output_type": "stream",
     "text": [
      "Scraping Progress:   1%|          | 50/8402 [01:24<3:14:04,  1.39s/it]"
     ]
    },
    {
     "name": "stdout",
     "output_type": "stream",
     "text": [
      "Successfully fetched: https://apple.slashdot.org/story/18/10/30/0214227/qualcomm-says-apple-is-7-billion-behind-in-royalty-payments\n"
     ]
    },
    {
     "name": "stderr",
     "output_type": "stream",
     "text": [
      "Scraping Progress:   1%|          | 51/8402 [01:26<3:17:35,  1.42s/it]"
     ]
    },
    {
     "name": "stdout",
     "output_type": "stream",
     "text": [
      "Successfully fetched: https://news.yahoo.com/trump-suggests-not-cooperate-investigation-092850238.html\n"
     ]
    },
    {
     "name": "stderr",
     "output_type": "stream",
     "text": [
      "Scraping Progress:   1%|          | 52/8402 [01:28<3:34:41,  1.54s/it]"
     ]
    },
    {
     "name": "stdout",
     "output_type": "stream",
     "text": [
      "Successfully fetched: https://www.theverge.com/2019/1/24/18196135/google-deepmind-ai-starcraft-2-victory\n"
     ]
    },
    {
     "name": "stderr",
     "output_type": "stream",
     "text": [
      "Scraping Progress:   1%|          | 53/8402 [01:29<3:21:13,  1.45s/it]"
     ]
    },
    {
     "name": "stdout",
     "output_type": "stream",
     "text": [
      "Successfully fetched: https://jalopnik.com/suspect-arrested-for-shining-laser-at-california-police-1822511132\n"
     ]
    },
    {
     "name": "stderr",
     "output_type": "stream",
     "text": [
      "Scraping Progress:   1%|          | 54/8402 [01:30<3:17:46,  1.42s/it]"
     ]
    },
    {
     "name": "stdout",
     "output_type": "stream",
     "text": [
      "Successfully fetched: https://www.apartmenttherapy.com/fun-house-exhibit-national-building-museum-snarkitecture-260900\n"
     ]
    },
    {
     "name": "stderr",
     "output_type": "stream",
     "text": [
      "Scraping Progress:   1%|          | 55/8402 [01:32<3:14:13,  1.40s/it]"
     ]
    },
    {
     "name": "stdout",
     "output_type": "stream",
     "text": [
      "Successfully fetched: http://www.yankodesign.com/2018/06/05/this-side-table-is-a-sideshow-of-its-own/\n"
     ]
    },
    {
     "name": "stderr",
     "output_type": "stream",
     "text": [
      "Scraping Progress:   1%|          | 56/8402 [01:33<3:13:30,  1.39s/it]"
     ]
    },
    {
     "name": "stdout",
     "output_type": "stream",
     "text": [
      "Successfully fetched: https://sports.yahoo.com/nascar-ceo-brian-france-arrested-dwi-drug-possession-161502794.html\n"
     ]
    },
    {
     "name": "stderr",
     "output_type": "stream",
     "text": [
      "Scraping Progress:   1%|          | 57/8402 [01:34<3:15:48,  1.41s/it]"
     ]
    },
    {
     "name": "stdout",
     "output_type": "stream",
     "text": [
      "Successfully fetched: https://www.gizmodo.jp/2018/07/bb-8droid.html\n"
     ]
    },
    {
     "name": "stderr",
     "output_type": "stream",
     "text": [
      "Scraping Progress:   1%|          | 58/8402 [01:37<4:01:07,  1.73s/it]"
     ]
    },
    {
     "name": "stdout",
     "output_type": "stream",
     "text": [
      "Successfully fetched: https://www.rockpapershotgun.com/2019/04/10/assassins-creed-odyssey-laptop-performance-bug/\n"
     ]
    },
    {
     "name": "stderr",
     "output_type": "stream",
     "text": [
      "Scraping Progress:   1%|          | 59/8402 [01:39<4:07:26,  1.78s/it]"
     ]
    },
    {
     "name": "stdout",
     "output_type": "stream",
     "text": [
      "Successfully fetched: https://www.businessinsider.com/cliff-sims-bannon-thrilled-with-trump-charlottesville-response-2019-1\n"
     ]
    },
    {
     "name": "stderr",
     "output_type": "stream",
     "text": [
      "Scraping Progress:   1%|          | 60/8402 [01:40<3:47:55,  1.64s/it]"
     ]
    },
    {
     "name": "stdout",
     "output_type": "stream",
     "text": [
      "Successfully fetched: https://www.bbc.co.uk/news/world-us-canada-46755084\n"
     ]
    },
    {
     "name": "stderr",
     "output_type": "stream",
     "text": [
      "Scraping Progress:   1%|          | 61/8402 [01:41<3:28:42,  1.50s/it]"
     ]
    },
    {
     "name": "stdout",
     "output_type": "stream",
     "text": [
      "Successfully fetched: https://www.bbc.co.uk/news/blogs-china-blog-46987991\n"
     ]
    },
    {
     "name": "stderr",
     "output_type": "stream",
     "text": [
      "Scraping Progress:   1%|          | 62/8402 [01:42<3:15:21,  1.41s/it]"
     ]
    },
    {
     "name": "stdout",
     "output_type": "stream",
     "text": [
      "Cannot fetch https://www.autoblog.com/2018/08/20/san-francisco-bay-bridge-video-cars-doughnuts/, HTTP error: 403 Client Error: Forbidden for url: https://www.autoblog.com/2018/08/20/san-francisco-bay-bridge-video-cars-doughnuts/\n"
     ]
    },
    {
     "name": "stderr",
     "output_type": "stream",
     "text": [
      "Scraping Progress:   1%|          | 63/8402 [01:44<3:03:52,  1.32s/it]"
     ]
    },
    {
     "name": "stdout",
     "output_type": "stream",
     "text": [
      "Successfully fetched: https://www.bbc.co.uk/news/world-europe-44603650\n"
     ]
    },
    {
     "name": "stderr",
     "output_type": "stream",
     "text": [
      "Scraping Progress:   1%|          | 64/8402 [01:45<2:58:33,  1.28s/it]"
     ]
    },
    {
     "name": "stdout",
     "output_type": "stream",
     "text": [
      "Successfully fetched: https://www.bbc.co.uk/news/world-europe-45745083\n"
     ]
    },
    {
     "name": "stderr",
     "output_type": "stream",
     "text": [
      "Scraping Progress:   1%|          | 65/8402 [01:46<2:57:16,  1.28s/it]"
     ]
    },
    {
     "name": "stdout",
     "output_type": "stream",
     "text": [
      "Cannot fetch https://www.marketwatch.com/story/for-the-stock-market-impeachment-is-just-a-sideshow-2019-12-11, HTTP error: 401 Client Error: HTTP Forbidden for url: https://www.marketwatch.com/story/for-the-stock-market-impeachment-is-just-a-sideshow-2019-12-11\n"
     ]
    },
    {
     "name": "stderr",
     "output_type": "stream",
     "text": [
      "Scraping Progress:   1%|          | 66/8402 [01:47<2:56:48,  1.27s/it]"
     ]
    },
    {
     "name": "stdout",
     "output_type": "stream",
     "text": [
      "Successfully fetched: https://hypebeast.com/2019/2/under-armour-curry-6-oakland-sideshow-release-info\n"
     ]
    },
    {
     "name": "stderr",
     "output_type": "stream",
     "text": [
      "Scraping Progress:   1%|          | 67/8402 [01:49<3:16:31,  1.41s/it]"
     ]
    },
    {
     "name": "stdout",
     "output_type": "stream",
     "text": [
      "Cannot fetch https://www.reuters.com/article/us-britain-boe-highlights-idUSKCN1NP13Y, HTTP error: 401 Client Error: HTTP Forbidden for url: https://www.reuters.com/article/us-britain-boe-highlights-idUSKCN1NP13Y\n"
     ]
    },
    {
     "name": "stderr",
     "output_type": "stream",
     "text": [
      "Scraping Progress:   1%|          | 68/8402 [01:50<3:06:23,  1.34s/it]"
     ]
    },
    {
     "name": "stdout",
     "output_type": "stream",
     "text": [
      "Successfully fetched: https://www.bbc.co.uk/news/science-environment-46502210\n"
     ]
    },
    {
     "name": "stderr",
     "output_type": "stream",
     "text": [
      "Scraping Progress:   1%|          | 69/8402 [01:52<3:06:17,  1.34s/it]"
     ]
    },
    {
     "name": "stdout",
     "output_type": "stream",
     "text": [
      "Successfully fetched: http://www.instructables.com/id/The-Lion-Thing-paper-Mache-Mask/\n"
     ]
    },
    {
     "name": "stderr",
     "output_type": "stream",
     "text": [
      "Scraping Progress:   1%|          | 70/8402 [01:54<3:47:33,  1.64s/it]"
     ]
    },
    {
     "name": "stdout",
     "output_type": "stream",
     "text": [
      "Successfully fetched: https://www.huffingtonpost.com/entry/times-calls-on-gop-to-save-law-from-trump_us_5ad3e65ae4b016a07e9d8cd0\n"
     ]
    },
    {
     "name": "stderr",
     "output_type": "stream",
     "text": [
      "Scraping Progress:   1%|          | 71/8402 [01:55<3:43:37,  1.61s/it]"
     ]
    },
    {
     "name": "stdout",
     "output_type": "stream",
     "text": [
      "Cannot fetch https://earther.gizmodo.com/stop-asking-cory-booker-if-everyone-should-be-vegan-to-1838094204, error: HTTPSConnectionPool(host='earther.gizmodo.com', port=443): Max retries exceeded with url: /stop-asking-cory-booker-if-everyone-should-be-vegan-to-1838094204 (Caused by NewConnectionError('<urllib3.connection.HTTPSConnection object at 0x118120410>: Failed to establish a new connection: [Errno 8] nodename nor servname provided, or not known'))\n"
     ]
    },
    {
     "name": "stderr",
     "output_type": "stream",
     "text": [
      "Scraping Progress:   1%|          | 72/8402 [01:56<3:18:30,  1.43s/it]"
     ]
    },
    {
     "name": "stdout",
     "output_type": "stream",
     "text": [
      "Cannot fetch https://www.reuters.com/article/us-usa-shutdown-idUSKCN1OX09I, HTTP error: 401 Client Error: HTTP Forbidden for url: https://www.reuters.com/article/us-usa-shutdown-idUSKCN1OX09I\n"
     ]
    },
    {
     "name": "stderr",
     "output_type": "stream",
     "text": [
      "Scraping Progress:   1%|          | 73/8402 [01:58<3:09:14,  1.36s/it]"
     ]
    },
    {
     "name": "stdout",
     "output_type": "stream",
     "text": [
      "Successfully fetched: https://www.androidcentral.com/project-zero-needs-be-split-google\n"
     ]
    },
    {
     "name": "stderr",
     "output_type": "stream",
     "text": [
      "Scraping Progress:   1%|          | 74/8402 [01:59<3:15:13,  1.41s/it]"
     ]
    },
    {
     "name": "stdout",
     "output_type": "stream",
     "text": [
      "Successfully fetched: https://www.vox.com/policy-and-politics/2018/4/16/17242478/trump-mueller-congress-nytimes\n"
     ]
    },
    {
     "name": "stderr",
     "output_type": "stream",
     "text": [
      "Scraping Progress:   1%|          | 75/8402 [02:00<3:07:24,  1.35s/it]"
     ]
    },
    {
     "name": "stdout",
     "output_type": "stream",
     "text": [
      "Successfully fetched: http://mentalfloss.com/article/549845/facts-about-freaks-tod-browning\n"
     ]
    },
    {
     "name": "stderr",
     "output_type": "stream",
     "text": [
      "Scraping Progress:   1%|          | 76/8402 [02:02<3:30:13,  1.51s/it]"
     ]
    },
    {
     "name": "stdout",
     "output_type": "stream",
     "text": [
      "Cannot fetch https://www.reuters.com/article/us-usa-trade-breakingviews/breakingviews-investors-can-ignore-glimmers-of-china-trade-hope-idUSKCN1LY2XU, HTTP error: 401 Client Error: HTTP Forbidden for url: https://www.reuters.com/article/us-usa-trade-breakingviews/breakingviews-investors-can-ignore-glimmers-of-china-trade-hope-idUSKCN1LY2XU\n"
     ]
    },
    {
     "name": "stderr",
     "output_type": "stream",
     "text": [
      "Scraping Progress:   1%|          | 77/8402 [02:03<3:16:26,  1.42s/it]"
     ]
    },
    {
     "name": "stdout",
     "output_type": "stream",
     "text": [
      "Successfully fetched: https://www.engadget.com/2018/07/18/congress-social-media-hearing-facebook-twitter-google-youtube/\n"
     ]
    },
    {
     "name": "stderr",
     "output_type": "stream",
     "text": [
      "Scraping Progress:   1%|          | 78/8402 [02:05<3:17:58,  1.43s/it]"
     ]
    },
    {
     "name": "stdout",
     "output_type": "stream",
     "text": [
      "Successfully fetched: https://www.cnet.com/pictures/comic-con-2018-sideshow-collectibles-star-wars-marvel-and-aquaman-movie-statues/\n"
     ]
    },
    {
     "name": "stderr",
     "output_type": "stream",
     "text": [
      "Scraping Progress:   1%|          | 79/8402 [02:07<3:57:07,  1.71s/it]"
     ]
    },
    {
     "name": "stdout",
     "output_type": "stream",
     "text": [
      "Successfully fetched: https://io9.gizmodo.com/a-truly-amazing-batman-the-animated-series-figure-and-1823519319\n"
     ]
    },
    {
     "name": "stderr",
     "output_type": "stream",
     "text": [
      "Scraping Progress:   1%|          | 80/8402 [02:09<4:06:14,  1.78s/it]"
     ]
    },
    {
     "name": "stdout",
     "output_type": "stream",
     "text": [
      "Successfully fetched: https://www.vox.com/2019/12/4/20995296/pamela-karlan-doug-collins-impeachment-hearing-house-judiciary\n"
     ]
    },
    {
     "name": "stderr",
     "output_type": "stream",
     "text": [
      "Scraping Progress:   1%|          | 81/8402 [02:10<3:44:09,  1.62s/it]"
     ]
    },
    {
     "name": "stdout",
     "output_type": "stream",
     "text": [
      "Successfully fetched: https://www.businessinsider.com/tesla-stock-price-daniel-ives-tesla-bull-downgrades-shares-2019-4\n"
     ]
    },
    {
     "name": "stderr",
     "output_type": "stream",
     "text": [
      "Scraping Progress:   1%|          | 82/8402 [02:12<3:47:46,  1.64s/it]"
     ]
    },
    {
     "name": "stdout",
     "output_type": "stream",
     "text": [
      "Successfully fetched: http://usatodayhss.com/2018/eric-mobley-usc-coach\n"
     ]
    },
    {
     "name": "stderr",
     "output_type": "stream",
     "text": [
      "Scraping Progress:   1%|          | 83/8402 [02:14<4:09:56,  1.80s/it]"
     ]
    },
    {
     "name": "stdout",
     "output_type": "stream",
     "text": [
      "Successfully fetched: https://www.slashfilm.com/candy-corn-trailer-welcome-to-dr-deaths-sideshow-spookhouse-spectacular/\n"
     ]
    },
    {
     "name": "stderr",
     "output_type": "stream",
     "text": [
      "Scraping Progress:   1%|          | 84/8402 [02:16<4:12:38,  1.82s/it]"
     ]
    },
    {
     "name": "stdout",
     "output_type": "stream",
     "text": [
      "Successfully fetched: https://gizmodo.com/report-silicon-valley-played-trump-like-a-fiddle-at-la-1821752212\n"
     ]
    },
    {
     "name": "stderr",
     "output_type": "stream",
     "text": [
      "Scraping Progress:   1%|          | 85/8402 [02:18<3:59:57,  1.73s/it]"
     ]
    },
    {
     "name": "stdout",
     "output_type": "stream",
     "text": [
      "Successfully fetched: https://www.slashfilm.com/video-watch-us-unbox-the-life-size-infinity-gauntlet-replica-from-hot-toys-sideshow-collectibles/\n"
     ]
    },
    {
     "name": "stderr",
     "output_type": "stream",
     "text": [
      "Scraping Progress:   1%|          | 86/8402 [02:20<4:01:54,  1.75s/it]"
     ]
    },
    {
     "name": "stdout",
     "output_type": "stream",
     "text": [
      "Successfully fetched: https://io9.gizmodo.com/an-incredible-black-panther-steps-into-the-spotlight-a-1822780532\n"
     ]
    },
    {
     "name": "stderr",
     "output_type": "stream",
     "text": [
      "Scraping Progress:   1%|          | 87/8402 [02:21<4:06:07,  1.78s/it]"
     ]
    },
    {
     "name": "stdout",
     "output_type": "stream",
     "text": [
      "Successfully fetched: https://io9.gizmodo.com/sideshows-imposing-doomsday-statue-is-ready-to-kill-eve-1828277876\n"
     ]
    },
    {
     "name": "stderr",
     "output_type": "stream",
     "text": [
      "Scraping Progress:   1%|          | 89/8402 [02:25<3:58:51,  1.72s/it]"
     ]
    },
    {
     "name": "stdout",
     "output_type": "stream",
     "text": [
      "Cannot fetch https://news.avclub.com/nick-lutskos-new-video-for-sideshow-is-a-papier-mache-1836312248, error: HTTPSConnectionPool(host='news.avclub.com', port=443): Max retries exceeded with url: /nick-lutskos-new-video-for-sideshow-is-a-papier-mache-1836312248 (Caused by NewConnectionError('<urllib3.connection.HTTPSConnection object at 0x116014410>: Failed to establish a new connection: [Errno 8] nodename nor servname provided, or not known'))\n"
     ]
    },
    {
     "name": "stderr",
     "output_type": "stream",
     "text": [
      "Scraping Progress:   1%|          | 91/8402 [02:28<4:13:31,  1.83s/it]"
     ]
    },
    {
     "name": "stdout",
     "output_type": "stream",
     "text": [
      "Successfully fetched: https://www.skysports.com/football/news/12020/11675847/republic-of-ireland-protests-a-sideshow-in-tough-georgia-game-says-jonathan-walters\n"
     ]
    },
    {
     "name": "stderr",
     "output_type": "stream",
     "text": [
      "Scraping Progress:   1%|          | 92/8402 [02:31<5:01:15,  2.18s/it]"
     ]
    },
    {
     "name": "stdout",
     "output_type": "stream",
     "text": [
      "Successfully fetched: https://jalopnik.com/merely-watching-a-sideshow-is-now-a-crime-in-san-jose-1834486925\n"
     ]
    },
    {
     "name": "stderr",
     "output_type": "stream",
     "text": [
      "Scraping Progress:   1%|          | 93/8402 [02:33<4:29:50,  1.95s/it]"
     ]
    },
    {
     "name": "stdout",
     "output_type": "stream",
     "text": [
      "Successfully fetched: https://www.slashfilm.com/the-predator-life-size-bust/\n"
     ]
    },
    {
     "name": "stderr",
     "output_type": "stream",
     "text": [
      "Scraping Progress:   1%|          | 94/8402 [02:35<4:26:53,  1.93s/it]"
     ]
    },
    {
     "name": "stdout",
     "output_type": "stream",
     "text": [
      "Successfully fetched: https://deadspin.com/yes-the-yankees-are-in-on-manny-machado-1827473344\n"
     ]
    },
    {
     "name": "stderr",
     "output_type": "stream",
     "text": [
      "Scraping Progress:   1%|          | 95/8402 [02:36<4:13:39,  1.83s/it]"
     ]
    },
    {
     "name": "stdout",
     "output_type": "stream",
     "text": [
      "Successfully fetched: https://jalopnik.com/get-a-load-of-this-ridiculous-story-about-how-elon-musk-1827842961\n"
     ]
    },
    {
     "name": "stderr",
     "output_type": "stream",
     "text": [
      "Scraping Progress:   1%|          | 96/8402 [02:38<3:59:52,  1.73s/it]"
     ]
    },
    {
     "name": "stdout",
     "output_type": "stream",
     "text": [
      "Successfully fetched: https://io9.gizmodo.com/watch-a-vfx-makeup-team-create-a-terrifying-masterpiece-1836664606\n"
     ]
    },
    {
     "name": "stderr",
     "output_type": "stream",
     "text": [
      "Scraping Progress:   1%|          | 97/8402 [02:40<4:07:23,  1.79s/it]"
     ]
    },
    {
     "name": "stdout",
     "output_type": "stream",
     "text": [
      "Successfully fetched: https://bleacherreport.com/articles/2800318-unlikely-nba-stars-who-could-be-traded-this-season\n"
     ]
    },
    {
     "name": "stderr",
     "output_type": "stream",
     "text": [
      "Scraping Progress:   1%|          | 98/8402 [02:41<4:05:02,  1.77s/it]"
     ]
    },
    {
     "name": "stdout",
     "output_type": "stream",
     "text": [
      "Successfully fetched: http://www.reviewed.com/home-outdoors/features/the-12-craziest-things-star-wars-fans-actually-own\n"
     ]
    },
    {
     "name": "stderr",
     "output_type": "stream",
     "text": [
      "Scraping Progress:   1%|          | 99/8402 [02:43<3:49:13,  1.66s/it]"
     ]
    },
    {
     "name": "stdout",
     "output_type": "stream",
     "text": [
      "Cannot fetch https://www.marketwatch.com/story/theres-a-huge-change-coming-from-the-fed-just-not-today-2019-12-11-910308, HTTP error: 401 Client Error: HTTP Forbidden for url: https://www.marketwatch.com/story/theres-a-huge-change-coming-from-the-fed-just-not-today-2019-12-11-910308\n"
     ]
    },
    {
     "name": "stderr",
     "output_type": "stream",
     "text": [
      "Scraping Progress:   1%|          | 100/8402 [02:44<3:27:16,  1.50s/it]"
     ]
    },
    {
     "name": "stdout",
     "output_type": "stream",
     "text": [
      "Successfully fetched: https://kotaku.com/conkledurr-taught-humanity-about-concrete-2000-years-ag-1832979944\n"
     ]
    },
    {
     "name": "stderr",
     "output_type": "stream",
     "text": [
      "Scraping Progress:   1%|          | 101/8402 [02:45<3:27:01,  1.50s/it]"
     ]
    },
    {
     "name": "stdout",
     "output_type": "stream",
     "text": [
      "Successfully fetched: https://jalopnik.com/heres-what-an-illegal-street-drifting-sideshow-looks-li-1829295712\n"
     ]
    },
    {
     "name": "stderr",
     "output_type": "stream",
     "text": [
      "Scraping Progress:   1%|          | 102/8402 [02:47<3:25:31,  1.49s/it]"
     ]
    },
    {
     "name": "stdout",
     "output_type": "stream",
     "text": [
      "Successfully fetched: https://www.slashfilm.com/cool-stuff-life-size-bb-8-figure/\n"
     ]
    },
    {
     "name": "stderr",
     "output_type": "stream",
     "text": [
      "Scraping Progress:   1%|          | 103/8402 [02:49<3:37:59,  1.58s/it]"
     ]
    },
    {
     "name": "stdout",
     "output_type": "stream",
     "text": [
      "Successfully fetched: https://www.engadget.com/2019/08/20/fifa-20-volta-story-mode-street-football/\n"
     ]
    },
    {
     "name": "stderr",
     "output_type": "stream",
     "text": [
      "Scraping Progress:   1%|          | 104/8402 [02:50<3:41:05,  1.60s/it]"
     ]
    },
    {
     "name": "stdout",
     "output_type": "stream",
     "text": [
      "Successfully fetched: https://arstechnica.com/gaming/2019/01/old-gods-and-new-gods-prepare-for-war-in-new-trailer-for-american-gods-s2/\n"
     ]
    },
    {
     "name": "stderr",
     "output_type": "stream",
     "text": [
      "Scraping Progress:   1%|          | 105/8402 [02:52<3:48:30,  1.65s/it]"
     ]
    },
    {
     "name": "stdout",
     "output_type": "stream",
     "text": [
      "Cannot fetch https://www.yahoo.com/news/latest-fx-orders-spinoff-sons-anarchy-193929044.html, HTTP error: 404 Client Error: Not Found for url: https://www.yahoo.com/news/latest-fx-orders-spinoff-sons-anarchy-193929044.html\n"
     ]
    },
    {
     "name": "stderr",
     "output_type": "stream",
     "text": [
      "Scraping Progress:   1%|▏         | 106/8402 [02:53<3:34:57,  1.55s/it]"
     ]
    },
    {
     "name": "stdout",
     "output_type": "stream",
     "text": [
      "Cannot fetch https://theslot.jezebel.com/a-just-god-would-put-ridiculous-alan-dershowitz-on-trum-1840379132, error: HTTPSConnectionPool(host='theslot.jezebel.com', port=443): Max retries exceeded with url: /a-just-god-would-put-ridiculous-alan-dershowitz-on-trum-1840379132 (Caused by SSLError(CertificateError(\"hostname 'theslot.jezebel.com' doesn't match either of 'g-omedia.com', '*.jalopnik.com', '*.kinja-embeds.com', '*.kinja-img.com', '*.kinja-labs.com', '*.kinja-static.com', '*.kinja.com', '*.kotaku.co.uk', '*.kotaku.com', '*.testkinja.com', '*.theinventory.com', '*.theroot.com', '*.verysmartbrothas.com', 'jalopnik.com', 'kinja-embeds.com', 'kinja-img.com', 'kinja-static.com', 'kinja.com', 'kotak.us', 'kotaku.co.uk', 'kotaku.com', 'testkinja.com', 'theinventory.com', 'theroot.com', 'verysmartbrothas.com', '*.g-omedia.com', 'qz.com', '*.qz.com', 'kotaku.nz', '*.kotaku.nz', '*.kotaku.co.nz', 'kotaku.co.nz', '*.kotaku.net.nz', 'kotaku.net.nz'\")))\n"
     ]
    },
    {
     "name": "stderr",
     "output_type": "stream",
     "text": [
      "Scraping Progress:   1%|▏         | 107/8402 [02:55<3:23:45,  1.47s/it]"
     ]
    },
    {
     "name": "stdout",
     "output_type": "stream",
     "text": [
      "Cannot fetch https://news.yahoo.com/trump-insists-state-union-speech-congress-180704798.html, HTTP error: 404 Client Error: Not Found for url: https://news.yahoo.com/trump-insists-state-union-speech-congress-180704798.html\n"
     ]
    },
    {
     "name": "stderr",
     "output_type": "stream",
     "text": [
      "Scraping Progress:   1%|▏         | 108/8402 [02:56<3:28:22,  1.51s/it]"
     ]
    },
    {
     "name": "stdout",
     "output_type": "stream",
     "text": [
      "Successfully fetched: https://www.fayerwayer.com/2018/05/nueva-figura-princesa-leia-hiperrealista\n"
     ]
    },
    {
     "name": "stderr",
     "output_type": "stream",
     "text": [
      "Scraping Progress:   1%|▏         | 109/8402 [02:58<3:45:06,  1.63s/it]"
     ]
    },
    {
     "name": "stdout",
     "output_type": "stream",
     "text": [
      "Successfully fetched: https://www.bloomberg.com/tosv2.html?vid=&uuid=f5420d10-fc50-11e8-8adb-6b609a18bf35&url=L25ld3MvYXJ0aWNsZXMvMjAxOC0xMi0xMC9pdGFseS1ldS1zdGFnZS1zaWRlc2hvdy1maWdodC13aXRoLXJlY2Vzc2lvbi1yaXNrLW9uLWhvcml6b24=\n"
     ]
    },
    {
     "name": "stderr",
     "output_type": "stream",
     "text": [
      "Scraping Progress:   1%|▏         | 110/8402 [02:59<3:26:47,  1.50s/it]"
     ]
    },
    {
     "name": "stdout",
     "output_type": "stream",
     "text": [
      "Successfully fetched: https://www.vidaextra.com/ps4/asi-espectacular-figura-1-100-dolares-basada-juego-spider-man-para-ps4\n"
     ]
    },
    {
     "name": "stderr",
     "output_type": "stream",
     "text": [
      "Scraping Progress:   1%|▏         | 111/8402 [03:01<3:28:30,  1.51s/it]"
     ]
    },
    {
     "name": "stdout",
     "output_type": "stream",
     "text": [
      "Cannot fetch https://www.reuters.com/article/us-usa-fed-powell-idUSKCN1U50DT, HTTP error: 401 Client Error: HTTP Forbidden for url: https://www.reuters.com/article/us-usa-fed-powell-idUSKCN1U50DT\n"
     ]
    },
    {
     "name": "stderr",
     "output_type": "stream",
     "text": [
      "Scraping Progress:   1%|▏         | 112/8402 [03:02<3:16:44,  1.42s/it]"
     ]
    },
    {
     "name": "stdout",
     "output_type": "stream",
     "text": [
      "Successfully fetched: https://www.engadget.com/2018/06/05/asus-zenbook-pro-15-screenpad/\n"
     ]
    },
    {
     "name": "stderr",
     "output_type": "stream",
     "text": [
      "Scraping Progress:   1%|▏         | 113/8402 [03:04<3:26:53,  1.50s/it]"
     ]
    },
    {
     "name": "stdout",
     "output_type": "stream",
     "text": [
      "Successfully fetched: http://www.thisisinsider.com/why-dancers-became-strippers-2018-4\n"
     ]
    },
    {
     "name": "stderr",
     "output_type": "stream",
     "text": [
      "Scraping Progress:   1%|▏         | 114/8402 [03:06<3:35:33,  1.56s/it]"
     ]
    },
    {
     "name": "stdout",
     "output_type": "stream",
     "text": [
      "Successfully fetched: http://time.com/5139589/scott-pruitt-climate-change-epa/\n"
     ]
    },
    {
     "name": "stderr",
     "output_type": "stream",
     "text": [
      "Scraping Progress:   1%|▏         | 115/8402 [03:07<3:41:11,  1.60s/it]"
     ]
    },
    {
     "name": "stdout",
     "output_type": "stream",
     "text": [
      "Successfully fetched: https://www.yahoo.com/news/david-stockman-calls-trump-apos-074240810.html\n"
     ]
    },
    {
     "name": "stderr",
     "output_type": "stream",
     "text": [
      "Scraping Progress:   1%|▏         | 116/8402 [03:09<3:42:20,  1.61s/it]"
     ]
    },
    {
     "name": "stdout",
     "output_type": "stream",
     "text": [
      "Cannot fetch https://tv.avclub.com/sideshow-bob-is-wasted-in-a-simpsons-holiday-episode-wi-1840448753, HTTP error: 404 Client Error: Not Found for url: https://tv.avclub.com/sideshow-bob-is-wasted-in-a-simpsons-holiday-episode-wi-1840448753\n"
     ]
    },
    {
     "name": "stderr",
     "output_type": "stream",
     "text": [
      "Scraping Progress:   1%|▏         | 117/8402 [03:10<3:27:50,  1.51s/it]"
     ]
    },
    {
     "name": "stdout",
     "output_type": "stream",
     "text": [
      "Cannot fetch https://www.inc.com/dustin-mckissen/will-virtual-reality-help-create-an-even-more-polarized-isolated-society.html, HTTP error: 403 Client Error: Forbidden for url: https://www.inc.com/dustin-mckissen/will-virtual-reality-help-create-an-even-more-polarized-isolated-society.html\n"
     ]
    },
    {
     "name": "stderr",
     "output_type": "stream",
     "text": [
      "Scraping Progress:   1%|▏         | 118/8402 [03:11<3:14:42,  1.41s/it]"
     ]
    },
    {
     "name": "stdout",
     "output_type": "stream",
     "text": [
      "Cannot fetch https://news.avclub.com/its-avenatti-vs-the-mooch-as-the-trump-sideshow-hits-t-1826818886, error: HTTPSConnectionPool(host='news.avclub.com', port=443): Max retries exceeded with url: /its-avenatti-vs-the-mooch-as-the-trump-sideshow-hits-t-1826818886 (Caused by NewConnectionError('<urllib3.connection.HTTPSConnection object at 0x11607c5d0>: Failed to establish a new connection: [Errno 8] nodename nor servname provided, or not known'))\n"
     ]
    },
    {
     "name": "stderr",
     "output_type": "stream",
     "text": [
      "Scraping Progress:   1%|▏         | 119/8402 [03:12<2:58:04,  1.29s/it]"
     ]
    },
    {
     "name": "stdout",
     "output_type": "stream",
     "text": [
      "Successfully fetched: https://www.bloomberg.com/view/articles/2018-04-14/u-s-syria-strike-strategy-is-too-complex-to-predict\n"
     ]
    },
    {
     "name": "stderr",
     "output_type": "stream",
     "text": [
      "Scraping Progress:   1%|▏         | 120/8402 [03:14<2:56:58,  1.28s/it]"
     ]
    },
    {
     "name": "stdout",
     "output_type": "stream",
     "text": [
      "Successfully fetched: https://www.theregister.co.uk/2018/10/23/java_renovation_javaone/\n"
     ]
    },
    {
     "name": "stderr",
     "output_type": "stream",
     "text": [
      "Scraping Progress:   1%|▏         | 121/8402 [03:15<3:13:57,  1.41s/it]"
     ]
    },
    {
     "name": "stdout",
     "output_type": "stream",
     "text": [
      "Successfully fetched: https://www.bbc.co.uk/news/entertainment-arts-48049916\n"
     ]
    },
    {
     "name": "stderr",
     "output_type": "stream",
     "text": [
      "Scraping Progress:   1%|▏         | 122/8402 [03:17<3:21:15,  1.46s/it]"
     ]
    },
    {
     "name": "stdout",
     "output_type": "stream",
     "text": [
      "Successfully fetched: https://qz.com/1375931/the-nobel-prize-literature-committee-is-publicly-melting-down/\n"
     ]
    },
    {
     "name": "stderr",
     "output_type": "stream",
     "text": [
      "Scraping Progress:   1%|▏         | 123/8402 [03:18<3:25:45,  1.49s/it]"
     ]
    },
    {
     "name": "stdout",
     "output_type": "stream",
     "text": [
      "Successfully fetched: https://www.thisiscolossal.com/2019/05/banksy-in-venice/\n"
     ]
    },
    {
     "name": "stderr",
     "output_type": "stream",
     "text": [
      "Scraping Progress:   1%|▏         | 124/8402 [03:20<3:23:29,  1.47s/it]"
     ]
    },
    {
     "name": "stdout",
     "output_type": "stream",
     "text": [
      "Successfully fetched: https://www.theverge.com/interface/2019/10/24/20929265/mark-zuckerberg-libra-hearing-congress-backlash\n"
     ]
    },
    {
     "name": "stderr",
     "output_type": "stream",
     "text": [
      "Scraping Progress:   1%|▏         | 125/8402 [03:21<3:23:29,  1.48s/it]"
     ]
    },
    {
     "name": "stdout",
     "output_type": "stream",
     "text": [
      "Successfully fetched: https://www.si.com/mma/2019/04/10/max-holloway-dustin-poirier-ufc-236-preview-main-event\n"
     ]
    },
    {
     "name": "stderr",
     "output_type": "stream",
     "text": [
      "Scraping Progress:   1%|▏         | 126/8402 [03:23<3:22:29,  1.47s/it]"
     ]
    },
    {
     "name": "stdout",
     "output_type": "stream",
     "text": [
      "Successfully fetched: https://www.thisisinsider.com/abandoned-summer-camps-photos-2019-2\n"
     ]
    },
    {
     "name": "stderr",
     "output_type": "stream",
     "text": [
      "Scraping Progress:   2%|▏         | 127/8402 [03:24<3:21:54,  1.46s/it]"
     ]
    },
    {
     "name": "stdout",
     "output_type": "stream",
     "text": [
      "Successfully fetched: https://io9.gizmodo.com/life-sized-star-wars-and-guardians-of-the-galaxy-toys-1824072376\n"
     ]
    },
    {
     "name": "stderr",
     "output_type": "stream",
     "text": [
      "Scraping Progress:   2%|▏         | 128/8402 [03:26<3:39:39,  1.59s/it]"
     ]
    },
    {
     "name": "stdout",
     "output_type": "stream",
     "text": [
      "Cannot fetch https://makezine.com/2019/04/09/the-radical-city-maker-faire-and-burning-man-at-dokk1-this-weekend-in-aarhus/, HTTP error: 403 Client Error: Forbidden for url: https://makezine.com/2019/04/09/the-radical-city-maker-faire-and-burning-man-at-dokk1-this-weekend-in-aarhus/\n"
     ]
    },
    {
     "name": "stderr",
     "output_type": "stream",
     "text": [
      "Scraping Progress:   2%|▏         | 129/8402 [03:28<3:39:10,  1.59s/it]"
     ]
    },
    {
     "name": "stdout",
     "output_type": "stream",
     "text": [
      "Cannot fetch https://theslot.jezebel.com/marianne-williamsons-insightful-approach-to-race-in-ame-1836851488, error: HTTPSConnectionPool(host='theslot.jezebel.com', port=443): Max retries exceeded with url: /marianne-williamsons-insightful-approach-to-race-in-ame-1836851488 (Caused by SSLError(CertificateError(\"hostname 'theslot.jezebel.com' doesn't match either of 'g-omedia.com', '*.jalopnik.com', '*.kinja-embeds.com', '*.kinja-img.com', '*.kinja-labs.com', '*.kinja-static.com', '*.kinja.com', '*.kotaku.co.uk', '*.kotaku.com', '*.testkinja.com', '*.theinventory.com', '*.theroot.com', '*.verysmartbrothas.com', 'jalopnik.com', 'kinja-embeds.com', 'kinja-img.com', 'kinja-static.com', 'kinja.com', 'kotak.us', 'kotaku.co.uk', 'kotaku.com', 'testkinja.com', 'theinventory.com', 'theroot.com', 'verysmartbrothas.com', '*.g-omedia.com', 'qz.com', '*.qz.com', 'kotaku.nz', '*.kotaku.nz', '*.kotaku.co.nz', 'kotaku.co.nz', '*.kotaku.net.nz', 'kotaku.net.nz'\")))\n"
     ]
    },
    {
     "name": "stderr",
     "output_type": "stream",
     "text": [
      "Scraping Progress:   2%|▏         | 130/8402 [03:29<3:19:00,  1.44s/it]"
     ]
    },
    {
     "name": "stdout",
     "output_type": "stream",
     "text": [
      "Successfully fetched: https://www.tomshw.it/culturapop/sideshow-collectibles-rivela-una-nuova-statua-di-lobo-della-dc-comics/\n"
     ]
    },
    {
     "name": "stderr",
     "output_type": "stream",
     "text": [
      "Scraping Progress:   2%|▏         | 131/8402 [03:31<3:35:51,  1.57s/it]"
     ]
    },
    {
     "name": "stdout",
     "output_type": "stream",
     "text": [
      "Successfully fetched: https://news.yahoo.com/fully-electric-711-hp-bmw-142400060.html\n"
     ]
    },
    {
     "name": "stderr",
     "output_type": "stream",
     "text": [
      "Scraping Progress:   2%|▏         | 132/8402 [03:33<3:54:29,  1.70s/it]"
     ]
    },
    {
     "name": "stdout",
     "output_type": "stream",
     "text": [
      "Cannot fetch https://news.yahoo.com/singapore-opposition-party-launched-polls-loom-043055802.html, HTTP error: 404 Client Error: Not Found for url: https://news.yahoo.com/singapore-opposition-party-launched-polls-loom-043055802.html\n"
     ]
    },
    {
     "name": "stderr",
     "output_type": "stream",
     "text": [
      "Scraping Progress:   2%|▏         | 133/8402 [03:34<3:39:03,  1.59s/it]"
     ]
    },
    {
     "name": "stdout",
     "output_type": "stream",
     "text": [
      "Successfully fetched: http://www.espn.com/blog/collegebasketballnation/post/_/id/121233/grayson-allens-resurgence-coming-at-perfect-time-for-no-5-duke\n"
     ]
    },
    {
     "name": "stderr",
     "output_type": "stream",
     "text": [
      "Scraping Progress:   2%|▏         | 134/8402 [03:36<3:36:32,  1.57s/it]"
     ]
    },
    {
     "name": "stdout",
     "output_type": "stream",
     "text": [
      "Cannot fetch https://www.inc.com/maureen-kline/super-bowl-ads-show-brands-taking-stands-on-social-environmental-issues.html, HTTP error: 403 Client Error: Forbidden for url: https://www.inc.com/maureen-kline/super-bowl-ads-show-brands-taking-stands-on-social-environmental-issues.html\n"
     ]
    },
    {
     "name": "stderr",
     "output_type": "stream",
     "text": [
      "Scraping Progress:   2%|▏         | 135/8402 [03:37<3:19:02,  1.44s/it]"
     ]
    },
    {
     "name": "stdout",
     "output_type": "stream",
     "text": [
      "Successfully fetched: https://compete.kotaku.com/overwatch-league-stage-4-wont-have-new-hanzo-or-nerfed-1825904685\n"
     ]
    },
    {
     "name": "stderr",
     "output_type": "stream",
     "text": [
      "Scraping Progress:   2%|▏         | 136/8402 [03:38<3:23:32,  1.48s/it]"
     ]
    },
    {
     "name": "stdout",
     "output_type": "stream",
     "text": [
      "Successfully fetched: https://www.yahoo.com/news/senator-reaches-nonexistent-glasses-takes-223156000.html\n"
     ]
    },
    {
     "name": "stderr",
     "output_type": "stream",
     "text": [
      "Scraping Progress:   2%|▏         | 137/8402 [03:40<3:29:34,  1.52s/it]"
     ]
    },
    {
     "name": "stdout",
     "output_type": "stream",
     "text": [
      "Cannot fetch https://www.marketwatch.com/story/moderator-who-botched-pennsylvanias-single-gubernatorial-debate-who-is-alex-trebek-2018-10-04, HTTP error: 401 Client Error: HTTP Forbidden for url: https://www.marketwatch.com/story/moderator-who-botched-pennsylvanias-single-gubernatorial-debate-who-is-alex-trebek-2018-10-04\n"
     ]
    },
    {
     "name": "stderr",
     "output_type": "stream",
     "text": [
      "Scraping Progress:   2%|▏         | 138/8402 [03:41<3:13:10,  1.40s/it]"
     ]
    },
    {
     "name": "stdout",
     "output_type": "stream",
     "text": [
      "Successfully fetched: https://hypebeast.com/2019/12/sideshow-venompool-statue-release-info\n"
     ]
    },
    {
     "name": "stderr",
     "output_type": "stream",
     "text": [
      "Scraping Progress:   2%|▏         | 139/8402 [03:43<3:34:56,  1.56s/it]"
     ]
    },
    {
     "name": "stdout",
     "output_type": "stream",
     "text": [
      "Successfully fetched: https://food52.com/blog/23551-top-10-genius-recipes-2018?utm_source=feedburner&utm_medium=feed&utm_campaign=Feed%3A+food52-TheAandMBlog+%28The+A%2BM+Blog%29\n"
     ]
    },
    {
     "name": "stderr",
     "output_type": "stream",
     "text": [
      "Scraping Progress:   2%|▏         | 140/8402 [03:44<3:32:17,  1.54s/it]"
     ]
    },
    {
     "name": "stdout",
     "output_type": "stream",
     "text": [
      "Cannot fetch https://www.theparisreview.org/blog/2018/12/04/redux-the-famous-sideshow/, HTTP error: 403 Client Error: Forbidden for url: https://www.theparisreview.org/blog/2018/12/04/redux-the-famous-sideshow/\n"
     ]
    },
    {
     "name": "stderr",
     "output_type": "stream",
     "text": [
      "Scraping Progress:   2%|▏         | 141/8402 [03:46<3:21:30,  1.46s/it]"
     ]
    },
    {
     "name": "stdout",
     "output_type": "stream",
     "text": [
      "Successfully fetched: https://io9.gizmodo.com/looking-back-at-the-complicated-legacy-of-1932s-freaks-1828998899\n"
     ]
    },
    {
     "name": "stderr",
     "output_type": "stream",
     "text": [
      "Scraping Progress:   2%|▏         | 142/8402 [03:48<3:35:31,  1.57s/it]"
     ]
    },
    {
     "name": "stdout",
     "output_type": "stream",
     "text": [
      "Cannot fetch https://www.destructoid.com/tripwire-is-bringing-gory-new-updates-to-killing-floor-2-507550.phtml, HTTP error: 404 Client Error: Not Found for url: https://www.destructoid.com/tripwire-is-bringing-gory-new-updates-to-killing-floor-2-507550.phtml\n"
     ]
    },
    {
     "name": "stderr",
     "output_type": "stream",
     "text": [
      "Scraping Progress:   2%|▏         | 143/8402 [03:49<3:37:19,  1.58s/it]"
     ]
    },
    {
     "name": "stdout",
     "output_type": "stream",
     "text": [
      "Successfully fetched: https://www.slashfilm.com/sideshow-the-iron-giant-maquette/\n"
     ]
    },
    {
     "name": "stderr",
     "output_type": "stream",
     "text": [
      "Scraping Progress:   2%|▏         | 144/8402 [03:51<3:52:52,  1.69s/it]"
     ]
    },
    {
     "name": "stdout",
     "output_type": "stream",
     "text": [
      "Successfully fetched: https://www.avclub.com/donald-trump-just-slapped-his-old-pal-steve-bannon-with-1821760574\n"
     ]
    },
    {
     "name": "stderr",
     "output_type": "stream",
     "text": [
      "Scraping Progress:   2%|▏         | 145/8402 [03:52<3:38:31,  1.59s/it]"
     ]
    },
    {
     "name": "stdout",
     "output_type": "stream",
     "text": [
      "Successfully fetched: https://kotaku.com/playing-overcooked-can-tear-people-apart-and-thankfull-1826672317\n"
     ]
    },
    {
     "name": "stderr",
     "output_type": "stream",
     "text": [
      "Scraping Progress:   2%|▏         | 146/8402 [03:54<3:36:00,  1.57s/it]"
     ]
    },
    {
     "name": "stdout",
     "output_type": "stream",
     "text": [
      "Successfully fetched: https://pitchfork.com/news/dj-shadow-announces-new-live-album-and-film/\n"
     ]
    },
    {
     "name": "stderr",
     "output_type": "stream",
     "text": [
      "Scraping Progress:   2%|▏         | 147/8402 [03:56<3:42:40,  1.62s/it]"
     ]
    },
    {
     "name": "stdout",
     "output_type": "stream",
     "text": [
      "Successfully fetched: http://www.slashfilm.com/avengers-infinity-war-sideshow-collectibles-infinity-gauntlet/\n"
     ]
    },
    {
     "name": "stderr",
     "output_type": "stream",
     "text": [
      "Scraping Progress:   2%|▏         | 148/8402 [03:57<3:27:16,  1.51s/it]"
     ]
    },
    {
     "name": "stdout",
     "output_type": "stream",
     "text": [
      "Successfully fetched: https://jalopnik.com/guess-who-got-arrested-this-weekend-the-guy-in-a-musta-1828461876\n"
     ]
    },
    {
     "name": "stderr",
     "output_type": "stream",
     "text": [
      "Scraping Progress:   2%|▏         | 149/8402 [03:58<3:22:36,  1.47s/it]"
     ]
    },
    {
     "name": "stdout",
     "output_type": "stream",
     "text": [
      "Successfully fetched: https://www.businessinsider.com/summits-g20-bring-out-worst-in-trump-opinion-2019-6\n"
     ]
    },
    {
     "name": "stderr",
     "output_type": "stream",
     "text": [
      "Scraping Progress:   2%|▏         | 150/8402 [04:00<3:22:41,  1.47s/it]"
     ]
    },
    {
     "name": "stdout",
     "output_type": "stream",
     "text": [
      "Successfully fetched: https://venturebeat.com/2018/06/11/everything-shown-at-the-pc-gaming-show/\n"
     ]
    },
    {
     "name": "stderr",
     "output_type": "stream",
     "text": [
      "Scraping Progress:   2%|▏         | 151/8402 [04:01<3:28:56,  1.52s/it]"
     ]
    },
    {
     "name": "stdout",
     "output_type": "stream",
     "text": [
      "Cannot fetch https://www.politico.com/news/2019/11/12/mulvaney-impeachment-hearings-070342, HTTP error: 403 Client Error: Forbidden for url: https://www.politico.com/news/2019/11/12/mulvaney-impeachment-hearings-070342\n"
     ]
    },
    {
     "name": "stderr",
     "output_type": "stream",
     "text": [
      "Scraping Progress:   2%|▏         | 152/8402 [04:03<3:14:04,  1.41s/it]"
     ]
    },
    {
     "name": "stdout",
     "output_type": "stream",
     "text": [
      "Successfully fetched: https://www.businessinsider.com/trump-impeachment-public-hearing-gop-senators-claim-busy-2019-11\n"
     ]
    },
    {
     "name": "stderr",
     "output_type": "stream",
     "text": [
      "Scraping Progress:   2%|▏         | 153/8402 [04:04<3:29:02,  1.52s/it]"
     ]
    },
    {
     "name": "stdout",
     "output_type": "stream",
     "text": [
      "Cannot fetch https://boingboing.net/2018/09/20/hurricane-capitalism.html, HTTP error: 403 Client Error: Forbidden for url: https://boingboing.net/2018/09/20/hurricane-capitalism.html\n"
     ]
    },
    {
     "name": "stderr",
     "output_type": "stream",
     "text": [
      "Scraping Progress:   2%|▏         | 154/8402 [04:05<3:12:25,  1.40s/it]"
     ]
    },
    {
     "name": "stdout",
     "output_type": "stream",
     "text": [
      "Successfully fetched: https://www.boston.com/sports/boston-bruins/2019/06/02/bruins-staying-composed-through-blues-physical-temptations\n"
     ]
    },
    {
     "name": "stderr",
     "output_type": "stream",
     "text": [
      "Scraping Progress:   2%|▏         | 155/8402 [04:07<3:09:06,  1.38s/it]"
     ]
    },
    {
     "name": "stdout",
     "output_type": "stream",
     "text": [
      "Successfully fetched: https://www.tomshw.it/culturapop/batman-beyond-lincredibile-nuova-statua-di-sideshow/\n"
     ]
    },
    {
     "name": "stderr",
     "output_type": "stream",
     "text": [
      "Scraping Progress:   2%|▏         | 156/8402 [04:09<3:38:22,  1.59s/it]"
     ]
    },
    {
     "name": "stdout",
     "output_type": "stream",
     "text": [
      "Successfully fetched: https://www.tomshw.it/culturapop/cyclops-premium-format-annunciato-da-sideshow/\n"
     ]
    },
    {
     "name": "stderr",
     "output_type": "stream",
     "text": [
      "Scraping Progress:   2%|▏         | 157/8402 [04:11<4:06:30,  1.79s/it]"
     ]
    },
    {
     "name": "stdout",
     "output_type": "stream",
     "text": [
      "Successfully fetched: https://www.tomshw.it/culturapop/the-flash-premium-format-annunciata-da-sideshow/\n"
     ]
    },
    {
     "name": "stderr",
     "output_type": "stream",
     "text": [
      "Scraping Progress:   2%|▏         | 158/8402 [04:13<3:55:09,  1.71s/it]"
     ]
    },
    {
     "name": "stdout",
     "output_type": "stream",
     "text": [
      "Successfully fetched: https://www.bloombergquint.com/opinion/apple-s-new-services-come-with-built-in-conflicts\n"
     ]
    },
    {
     "name": "stderr",
     "output_type": "stream",
     "text": [
      "Scraping Progress:   2%|▏         | 159/8402 [04:15<4:15:45,  1.86s/it]"
     ]
    },
    {
     "name": "stdout",
     "output_type": "stream",
     "text": [
      "Successfully fetched: https://www.tomshw.it/culturapop/sabretooth-sideshow-presenta-la-statua-di-sabretooth/\n"
     ]
    },
    {
     "name": "stderr",
     "output_type": "stream",
     "text": [
      "Scraping Progress:   2%|▏         | 160/8402 [04:17<4:16:42,  1.87s/it]"
     ]
    },
    {
     "name": "stdout",
     "output_type": "stream",
     "text": [
      "Successfully fetched: https://www.huffingtonpost.com/entry/max-vernon-existential-life-crisis-lullaby_us_5bce3511e4b0a8f17eef72b6\n"
     ]
    },
    {
     "name": "stderr",
     "output_type": "stream",
     "text": [
      "Scraping Progress:   2%|▏         | 161/8402 [04:18<4:01:01,  1.75s/it]"
     ]
    },
    {
     "name": "stdout",
     "output_type": "stream",
     "text": [
      "Successfully fetched: https://www.bloomberg.com/news/articles/2018-03-15/fed-takes-a-back-seat-for-traders-focused-on-libor-s-big-blowout\n"
     ]
    },
    {
     "name": "stderr",
     "output_type": "stream",
     "text": [
      "Scraping Progress:   2%|▏         | 162/8402 [04:20<3:42:32,  1.62s/it]"
     ]
    },
    {
     "name": "stdout",
     "output_type": "stream",
     "text": [
      "Successfully fetched: https://www.neatorama.com/2019/10/01/The-True-Tale-of-a-Bona-Fide-One-of-a-kind-Lobster-Girl/\n"
     ]
    },
    {
     "name": "stderr",
     "output_type": "stream",
     "text": [
      "Scraping Progress:   2%|▏         | 163/8402 [04:21<3:41:57,  1.62s/it]"
     ]
    },
    {
     "name": "stdout",
     "output_type": "stream",
     "text": [
      "Successfully fetched: http://www.espn.com/wwe/story/_/id/25684611/remembering-influence-mean-gene-okerlund\n"
     ]
    },
    {
     "name": "stderr",
     "output_type": "stream",
     "text": [
      "Scraping Progress:   2%|▏         | 164/8402 [04:23<3:46:44,  1.65s/it]"
     ]
    },
    {
     "name": "stdout",
     "output_type": "stream",
     "text": [
      "Successfully fetched: https://io9.gizmodo.com/a-wonderfully-articulated-wonder-woman-is-the-most-supe-1840311651\n"
     ]
    },
    {
     "name": "stderr",
     "output_type": "stream",
     "text": [
      "Scraping Progress:   2%|▏         | 165/8402 [04:25<3:56:14,  1.72s/it]"
     ]
    },
    {
     "name": "stdout",
     "output_type": "stream",
     "text": [
      "Successfully fetched: https://www.salon.com/2018/10/18/jamal-khashoggi-donald-trump-and-corruption-will-this-tragedy-be-the-end-of-lol-nothing-matters/\n"
     ]
    },
    {
     "name": "stderr",
     "output_type": "stream",
     "text": [
      "Scraping Progress:   2%|▏         | 166/8402 [04:26<3:40:49,  1.61s/it]"
     ]
    },
    {
     "name": "stdout",
     "output_type": "stream",
     "text": [
      "Successfully fetched: https://indianexpress.com/article/world/donald-trump-kim-jong-un-north-korea-summit-5219413/\n"
     ]
    },
    {
     "name": "stderr",
     "output_type": "stream",
     "text": [
      "Scraping Progress:   2%|▏         | 167/8402 [04:28<4:01:45,  1.76s/it]"
     ]
    },
    {
     "name": "stdout",
     "output_type": "stream",
     "text": [
      "Successfully fetched: https://www.npr.org/2018/02/26/588719252/what-you-need-to-know-about-russia-memo-mania-minority-report-edition\n"
     ]
    },
    {
     "name": "stderr",
     "output_type": "stream",
     "text": [
      "Scraping Progress:   2%|▏         | 168/8402 [04:31<4:23:07,  1.92s/it]"
     ]
    },
    {
     "name": "stdout",
     "output_type": "stream",
     "text": [
      "Successfully fetched: https://hypebeast.com/2018/2/hot-toys-black-panther-tchalla-sixth-scale-figure\n"
     ]
    },
    {
     "name": "stderr",
     "output_type": "stream",
     "text": [
      "Scraping Progress:   2%|▏         | 169/8402 [04:33<4:36:42,  2.02s/it]"
     ]
    },
    {
     "name": "stdout",
     "output_type": "stream",
     "text": [
      "Cannot fetch https://www.cnbeta.com/articles/tech/784439.htm, error: HTTPSConnectionPool(host='www.cnbeta.com', port=443): Max retries exceeded with url: /articles/tech/784439.htm (Caused by NewConnectionError('<urllib3.connection.HTTPSConnection object at 0x118280290>: Failed to establish a new connection: [Errno 8] nodename nor servname provided, or not known'))\n"
     ]
    },
    {
     "name": "stderr",
     "output_type": "stream",
     "text": [
      "Scraping Progress:   2%|▏         | 170/8402 [04:34<3:59:09,  1.74s/it]"
     ]
    },
    {
     "name": "stdout",
     "output_type": "stream",
     "text": [
      "Successfully fetched: https://bleacherreport.com/articles/2780399-cm-punk-shows-nothing-to-suggest-hes-more-than-a-sideshow-in-2nd-ufc-loss\n"
     ]
    },
    {
     "name": "stderr",
     "output_type": "stream",
     "text": [
      "Scraping Progress:   2%|▏         | 171/8402 [04:35<3:52:34,  1.70s/it]"
     ]
    },
    {
     "name": "stdout",
     "output_type": "stream",
     "text": [
      "Successfully fetched: https://www.npr.org/2019/06/11/731648558/flying-lotus-comes-back-from-the-afterlife-flamagra\n"
     ]
    },
    {
     "name": "stderr",
     "output_type": "stream",
     "text": [
      "Scraping Progress:   2%|▏         | 172/8402 [04:37<4:02:43,  1.77s/it]"
     ]
    },
    {
     "name": "stdout",
     "output_type": "stream",
     "text": [
      "Successfully fetched: https://www.tomshw.it/culturapop/wolverine-sixth-scale-figure-da-sideshow/\n"
     ]
    },
    {
     "name": "stderr",
     "output_type": "stream",
     "text": [
      "Scraping Progress:   2%|▏         | 173/8402 [04:39<4:06:21,  1.80s/it]"
     ]
    },
    {
     "name": "stdout",
     "output_type": "stream",
     "text": [
      "Cannot fetch https://www.yahoo.com/news/colombians-vote-elections-seen-test-peace-deal-060606734.html, HTTP error: 404 Client Error: Not Found for url: https://www.yahoo.com/news/colombians-vote-elections-seen-test-peace-deal-060606734.html\n"
     ]
    },
    {
     "name": "stderr",
     "output_type": "stream",
     "text": [
      "Scraping Progress:   2%|▏         | 174/8402 [04:41<3:50:43,  1.68s/it]"
     ]
    },
    {
     "name": "stdout",
     "output_type": "stream",
     "text": [
      "Successfully fetched: http://www.slashfilm.com/hot-toys-baby-groot-dancing/\n"
     ]
    },
    {
     "name": "stderr",
     "output_type": "stream",
     "text": [
      "Scraping Progress:   2%|▏         | 175/8402 [04:43<4:02:34,  1.77s/it]"
     ]
    },
    {
     "name": "stdout",
     "output_type": "stream",
     "text": [
      "Successfully fetched: https://bleacherreport.com/articles/2760155-dwane-casey-on-coaching-team-lebron-vs-team-steph-we-want-to-be-competitive\n"
     ]
    },
    {
     "name": "stderr",
     "output_type": "stream",
     "text": [
      "Scraping Progress:   2%|▏         | 176/8402 [04:44<3:51:47,  1.69s/it]"
     ]
    },
    {
     "name": "stdout",
     "output_type": "stream",
     "text": [
      "Cannot fetch https://news.avclub.com/jordan-peele-and-amazon-studios-want-to-change-the-narr-1825030809, error: HTTPSConnectionPool(host='news.avclub.com', port=443): Max retries exceeded with url: /jordan-peele-and-amazon-studios-want-to-change-the-narr-1825030809 (Caused by NewConnectionError('<urllib3.connection.HTTPSConnection object at 0x1182d7e50>: Failed to establish a new connection: [Errno 8] nodename nor servname provided, or not known'))\n"
     ]
    },
    {
     "name": "stderr",
     "output_type": "stream",
     "text": [
      "Scraping Progress:   2%|▏         | 177/8402 [04:45<3:23:49,  1.49s/it]"
     ]
    },
    {
     "name": "stdout",
     "output_type": "stream",
     "text": [
      "Cannot fetch https://boingboing.net/2019/04/05/solidarity-vs-oligarchy.html, HTTP error: 403 Client Error: Forbidden for url: https://boingboing.net/2019/04/05/solidarity-vs-oligarchy.html\n"
     ]
    },
    {
     "name": "stderr",
     "output_type": "stream",
     "text": [
      "Scraping Progress:   2%|▏         | 178/8402 [04:46<3:10:02,  1.39s/it]"
     ]
    },
    {
     "name": "stdout",
     "output_type": "stream",
     "text": [
      "Successfully fetched: https://kotaku.com/xboxs-big-annual-event-was-a-disappointment-1839927604\n"
     ]
    },
    {
     "name": "stderr",
     "output_type": "stream",
     "text": [
      "Scraping Progress:   2%|▏         | 179/8402 [04:48<3:14:45,  1.42s/it]"
     ]
    },
    {
     "name": "stdout",
     "output_type": "stream",
     "text": [
      "Successfully fetched: https://www.cnet.com/news/in-2019-virtual-reality-feels-like-a-dream-gathering-dust-htc-vive-cosmos-oculus/\n"
     ]
    },
    {
     "name": "stderr",
     "output_type": "stream",
     "text": [
      "Scraping Progress:   2%|▏         | 180/8402 [04:51<4:21:01,  1.90s/it]"
     ]
    },
    {
     "name": "stdout",
     "output_type": "stream",
     "text": [
      "Successfully fetched: https://www.tomshw.it/culturapop/aperti-i-preorder-per-la-statua-di-harley-quinn-di-batman-la-serie-animata-della-sideshow/\n"
     ]
    },
    {
     "name": "stderr",
     "output_type": "stream",
     "text": [
      "Scraping Progress:   2%|▏         | 181/8402 [04:53<4:12:00,  1.84s/it]"
     ]
    },
    {
     "name": "stdout",
     "output_type": "stream",
     "text": [
      "Cannot fetch https://www.yahoo.com/news/satanic-temple-sues-arizona-city-lead-city-council-230713798.html, HTTP error: 404 Client Error: Not Found for url: https://www.yahoo.com/news/satanic-temple-sues-arizona-city-lead-city-council-230713798.html\n"
     ]
    },
    {
     "name": "stderr",
     "output_type": "stream",
     "text": [
      "Scraping Progress:   2%|▏         | 182/8402 [04:54<3:46:54,  1.66s/it]"
     ]
    },
    {
     "name": "stdout",
     "output_type": "stream",
     "text": [
      "Successfully fetched: https://www.rockpapershotgun.com/2019/08/09/hades-adds-a-final-battle-is-still-really-good/\n"
     ]
    },
    {
     "name": "stderr",
     "output_type": "stream",
     "text": [
      "Scraping Progress:   2%|▏         | 183/8402 [04:56<3:54:41,  1.71s/it]"
     ]
    },
    {
     "name": "stdout",
     "output_type": "stream",
     "text": [
      "Successfully fetched: https://www.tomshw.it/culturapop/daredevil-shadowland-e-la-nuova-premium-format-di-sideshow/\n"
     ]
    },
    {
     "name": "stderr",
     "output_type": "stream",
     "text": [
      "Scraping Progress:   2%|▏         | 184/8402 [04:57<3:55:50,  1.72s/it]"
     ]
    },
    {
     "name": "stdout",
     "output_type": "stream",
     "text": [
      "Successfully fetched: https://www.fayerwayer.com/2018/07/bb-8-tamano-real\n"
     ]
    },
    {
     "name": "stderr",
     "output_type": "stream",
     "text": [
      "Scraping Progress:   2%|▏         | 185/8402 [04:59<4:07:53,  1.81s/it]"
     ]
    },
    {
     "name": "stdout",
     "output_type": "stream",
     "text": [
      "Successfully fetched: https://hypebeast.com/2018/7/hot-toys-avengers-infinity-war-war-machine-mark-iv-figure\n"
     ]
    },
    {
     "name": "stderr",
     "output_type": "stream",
     "text": [
      "Scraping Progress:   2%|▏         | 186/8402 [05:01<4:19:53,  1.90s/it]"
     ]
    },
    {
     "name": "stdout",
     "output_type": "stream",
     "text": [
      "Successfully fetched: https://io9.gizmodo.com/recreate-an-iconic-teen-titans-comic-book-cover-on-your-1822151897\n"
     ]
    },
    {
     "name": "stderr",
     "output_type": "stream",
     "text": [
      "Scraping Progress:   2%|▏         | 187/8402 [05:03<4:22:35,  1.92s/it]"
     ]
    },
    {
     "name": "stdout",
     "output_type": "stream",
     "text": [
      "Cannot fetch https://abovethelaw.com/2018/06/supreme-court-announcement-scheduled-just-like-the-worlds-worst-game-show/, HTTP error: 403 Client Error: Forbidden for url: https://abovethelaw.com/2018/06/supreme-court-announcement-scheduled-just-like-the-worlds-worst-game-show/\n"
     ]
    },
    {
     "name": "stderr",
     "output_type": "stream",
     "text": [
      "Scraping Progress:   2%|▏         | 189/8402 [05:07<4:22:10,  1.92s/it]"
     ]
    },
    {
     "name": "stdout",
     "output_type": "stream",
     "text": [
      "Successfully fetched: https://laughingsquid.com/sideshow-bob-rage-against-the-machine-bullet-in-the-head/\n"
     ]
    },
    {
     "name": "stderr",
     "output_type": "stream",
     "text": [
      "Scraping Progress:   2%|▏         | 190/8402 [05:09<4:12:40,  1.85s/it]"
     ]
    },
    {
     "name": "stdout",
     "output_type": "stream",
     "text": [
      "Successfully fetched: https://www.vice.com/en_us/article/ne8dbw/ceo-of-wework-which-has-lost-an-unfathomable-amount-of-money-is-stepping-down\n"
     ]
    },
    {
     "name": "stderr",
     "output_type": "stream",
     "text": [
      "Scraping Progress:   2%|▏         | 191/8402 [05:11<4:20:04,  1.90s/it]"
     ]
    },
    {
     "name": "stdout",
     "output_type": "stream",
     "text": [
      "Cannot fetch https://www.fastcompany.com/90315069/rip-luke-perry-dead-at-52-here-are-the-celebrity-twitter-tributes?partner=feedburner&utm_source=feedburner&utm_medium=feed&utm_campaign=Feed%3A+fastcompany%2Fheadlines+%28Fast+Company%29, HTTP error: 403 Client Error: Forbidden for url: https://www.fastcompany.com/90315069/rip-luke-perry-dead-at-52-here-are-the-celebrity-twitter-tributes?partner=feedburner&utm_source=feedburner&utm_medium=feed&utm_campaign=Feed%3A+fastcompany%2Fheadlines+%28Fast+Company%29\n"
     ]
    },
    {
     "name": "stderr",
     "output_type": "stream",
     "text": [
      "Scraping Progress:   2%|▏         | 192/8402 [05:12<3:50:55,  1.69s/it]"
     ]
    },
    {
     "name": "stdout",
     "output_type": "stream",
     "text": [
      "Successfully fetched: https://hypebeast.com/2018/7/hot-toys-ps4-spider-man-advanced-suit-figure\n"
     ]
    },
    {
     "name": "stderr",
     "output_type": "stream",
     "text": [
      "Scraping Progress:   2%|▏         | 193/8402 [05:14<4:05:49,  1.80s/it]"
     ]
    },
    {
     "name": "stdout",
     "output_type": "stream",
     "text": [
      "Successfully fetched: https://www.slashfilm.com/terminator-2-arm-prop/\n"
     ]
    },
    {
     "name": "stderr",
     "output_type": "stream",
     "text": [
      "Scraping Progress:   2%|▏         | 194/8402 [05:16<4:11:04,  1.84s/it]"
     ]
    },
    {
     "name": "stdout",
     "output_type": "stream",
     "text": [
      "Cannot fetch https://news.avclub.com/nations-2-p-m-couch-occupiers-forced-to-contemplate-a-1826847816, error: HTTPSConnectionPool(host='news.avclub.com', port=443): Max retries exceeded with url: /nations-2-p-m-couch-occupiers-forced-to-contemplate-a-1826847816 (Caused by NewConnectionError('<urllib3.connection.HTTPSConnection object at 0x1149dea10>: Failed to establish a new connection: [Errno 8] nodename nor servname provided, or not known'))\n"
     ]
    },
    {
     "name": "stderr",
     "output_type": "stream",
     "text": [
      "Scraping Progress:   2%|▏         | 195/8402 [05:17<3:37:18,  1.59s/it]"
     ]
    },
    {
     "name": "stdout",
     "output_type": "stream",
     "text": [
      "Successfully fetched: https://gothamist.com/news/extra-extra-dog-eat-bath\n"
     ]
    },
    {
     "name": "stderr",
     "output_type": "stream",
     "text": [
      "Scraping Progress:   2%|▏         | 196/8402 [05:18<3:31:00,  1.54s/it]"
     ]
    },
    {
     "name": "stdout",
     "output_type": "stream",
     "text": [
      "Successfully fetched: https://www.newyorker.com/humor/daily-shouts/how-things-could-get-worse-for-the-new-york-mets\n"
     ]
    },
    {
     "name": "stderr",
     "output_type": "stream",
     "text": [
      "Scraping Progress:   2%|▏         | 197/8402 [05:21<4:03:23,  1.78s/it]"
     ]
    },
    {
     "name": "stdout",
     "output_type": "stream",
     "text": [
      "Cannot fetch https://www.inc.com/peter-cohan/nothing-is-more-important-than-this-one-thing-to-turning-your-city-into-a-startup-hub.html, HTTP error: 403 Client Error: Forbidden for url: https://www.inc.com/peter-cohan/nothing-is-more-important-than-this-one-thing-to-turning-your-city-into-a-startup-hub.html\n"
     ]
    },
    {
     "name": "stderr",
     "output_type": "stream",
     "text": [
      "Scraping Progress:   2%|▏         | 198/8402 [05:22<3:37:21,  1.59s/it]"
     ]
    },
    {
     "name": "stdout",
     "output_type": "stream",
     "text": [
      "Cannot fetch https://marginalrevolution.com/marginalrevolution/2018/12/friday-assorted-links-186.html, HTTP error: 403 Client Error: Forbidden for url: https://marginalrevolution.com/marginalrevolution/2018/12/friday-assorted-links-186.html\n"
     ]
    },
    {
     "name": "stderr",
     "output_type": "stream",
     "text": [
      "Scraping Progress:   2%|▏         | 199/8402 [05:23<3:23:48,  1.49s/it]"
     ]
    },
    {
     "name": "stdout",
     "output_type": "stream",
     "text": [
      "Cannot fetch https://www.inc.com/kevin-j-ryan/elon-musk-the-boring-company-flamethrowers.html, HTTP error: 403 Client Error: Forbidden for url: https://www.inc.com/kevin-j-ryan/elon-musk-the-boring-company-flamethrowers.html\n"
     ]
    },
    {
     "name": "stderr",
     "output_type": "stream",
     "text": [
      "Scraping Progress:   2%|▏         | 200/8402 [05:24<3:10:51,  1.40s/it]"
     ]
    },
    {
     "name": "stdout",
     "output_type": "stream",
     "text": [
      "Successfully fetched: https://www.cnet.com/news/in-2019-virtual-reality-feels-like-a-dream-gathering-dust/\n"
     ]
    },
    {
     "name": "stderr",
     "output_type": "stream",
     "text": [
      "Scraping Progress:   2%|▏         | 202/8402 [05:29<4:17:26,  1.88s/it]"
     ]
    },
    {
     "name": "stdout",
     "output_type": "stream",
     "text": [
      "Successfully fetched: https://www.neatorama.com/2018/11/19/The-Carnival-Attraction-That-Saved-Thousands-of-Premature-Babies/\n"
     ]
    },
    {
     "name": "stderr",
     "output_type": "stream",
     "text": [
      "Scraping Progress:   2%|▏         | 203/8402 [05:31<4:01:26,  1.77s/it]"
     ]
    },
    {
     "name": "stdout",
     "output_type": "stream",
     "text": [
      "Successfully fetched: http://time.com/5597605/robert-mueller-rebukes-trump-no-obstruction/\n"
     ]
    },
    {
     "name": "stderr",
     "output_type": "stream",
     "text": [
      "Scraping Progress:   2%|▏         | 204/8402 [05:33<4:27:15,  1.96s/it]"
     ]
    },
    {
     "name": "stdout",
     "output_type": "stream",
     "text": [
      "Successfully fetched: https://www.npr.org/2019/06/07/730629404/supreme-court-pressed-for-sealed-documents-in-death-penalty-case\n"
     ]
    },
    {
     "name": "stderr",
     "output_type": "stream",
     "text": [
      "Scraping Progress:   2%|▏         | 205/8402 [05:35<4:43:43,  2.08s/it]"
     ]
    },
    {
     "name": "stdout",
     "output_type": "stream",
     "text": [
      "Cannot fetch https://news.avclub.com/its-3-p-m-lets-watch-gilbert-gottfried-ruin-a-game-of-1826903038, error: HTTPSConnectionPool(host='news.avclub.com', port=443): Max retries exceeded with url: /its-3-p-m-lets-watch-gilbert-gottfried-ruin-a-game-of-1826903038 (Caused by NewConnectionError('<urllib3.connection.HTTPSConnection object at 0x111443e90>: Failed to establish a new connection: [Errno 8] nodename nor servname provided, or not known'))\n"
     ]
    },
    {
     "name": "stderr",
     "output_type": "stream",
     "text": [
      "Scraping Progress:   2%|▏         | 206/8402 [05:36<4:00:02,  1.76s/it]"
     ]
    },
    {
     "name": "stdout",
     "output_type": "stream",
     "text": [
      "Successfully fetched: https://www.tomshw.it/culturapop/marvels-spider-man-ps4-una-nuova-statua-prodotta-dalla-pcs/\n"
     ]
    },
    {
     "name": "stderr",
     "output_type": "stream",
     "text": [
      "Scraping Progress:   2%|▏         | 207/8402 [05:38<4:01:19,  1.77s/it]"
     ]
    },
    {
     "name": "stdout",
     "output_type": "stream",
     "text": [
      "Successfully fetched: https://www.tomshw.it/culturapop/iron-man-mark-vii-maquette-prodotta-da-sideshow/\n"
     ]
    },
    {
     "name": "stderr",
     "output_type": "stream",
     "text": [
      "Scraping Progress:   2%|▏         | 208/8402 [05:40<4:00:17,  1.76s/it]"
     ]
    },
    {
     "name": "stdout",
     "output_type": "stream",
     "text": [
      "Successfully fetched: https://www.slashfilm.com/superhero-bits-1563/\n"
     ]
    },
    {
     "name": "stderr",
     "output_type": "stream",
     "text": [
      "Scraping Progress:   3%|▎         | 211/8402 [05:45<3:58:34,  1.75s/it]"
     ]
    },
    {
     "name": "stdout",
     "output_type": "stream",
     "text": [
      "Cannot fetch https://www.marketwatch.com/story/dollar-bounces-back-as-major-rivals-slip-2018-11-20, HTTP error: 401 Client Error: HTTP Forbidden for url: https://www.marketwatch.com/story/dollar-bounces-back-as-major-rivals-slip-2018-11-20\n"
     ]
    },
    {
     "name": "stderr",
     "output_type": "stream",
     "text": [
      "Scraping Progress:   3%|▎         | 212/8402 [05:47<3:34:07,  1.57s/it]"
     ]
    },
    {
     "name": "stdout",
     "output_type": "stream",
     "text": [
      "Successfully fetched: https://thinkprogress.org/paul-nehlen-gop-frontrunner-16e1882f2beb/\n"
     ]
    },
    {
     "name": "stderr",
     "output_type": "stream",
     "text": [
      "Scraping Progress:   3%|▎         | 213/8402 [05:48<3:31:57,  1.55s/it]"
     ]
    },
    {
     "name": "stdout",
     "output_type": "stream",
     "text": [
      "Successfully fetched: http://www.espn.com/blog/new-york/giants/post/_/id/56926/what-are-the-pros-and-cons-of-dez-bryant-with-the-giants\n"
     ]
    },
    {
     "name": "stderr",
     "output_type": "stream",
     "text": [
      "Scraping Progress:   3%|▎         | 214/8402 [05:50<3:35:16,  1.58s/it]"
     ]
    },
    {
     "name": "stdout",
     "output_type": "stream",
     "text": [
      "Successfully fetched: https://www.huffingtonpost.com/entry/harry-anderson-dead-night-court_us_5ad55dc8e4b016a07e9fc0b8\n"
     ]
    },
    {
     "name": "stderr",
     "output_type": "stream",
     "text": [
      "Scraping Progress:   3%|▎         | 215/8402 [05:51<3:30:51,  1.55s/it]"
     ]
    },
    {
     "name": "stdout",
     "output_type": "stream",
     "text": [
      "Successfully fetched: https://www.huffingtonpost.com/entry/opinion-dobbs-trump-wars_us_5ad4c8ece4b016a07e9f1f4c\n"
     ]
    },
    {
     "name": "stderr",
     "output_type": "stream",
     "text": [
      "Scraping Progress:   3%|▎         | 216/8402 [05:53<3:28:24,  1.53s/it]"
     ]
    },
    {
     "name": "stdout",
     "output_type": "stream",
     "text": [
      "Successfully fetched: https://www.bloomberg.com/news/articles/2018-08-09/bezos-cook-matter-most-musk-is-just-the-sideshow-taking-stock\n"
     ]
    },
    {
     "name": "stderr",
     "output_type": "stream",
     "text": [
      "Scraping Progress:   3%|▎         | 217/8402 [05:54<3:19:54,  1.47s/it]"
     ]
    },
    {
     "name": "stdout",
     "output_type": "stream",
     "text": [
      "Successfully fetched: https://www.gamespot.com/articles/free-ps4-and-xbox-one-game-to-play-this-weekend/1100-6459956/\n"
     ]
    },
    {
     "name": "stderr",
     "output_type": "stream",
     "text": [
      "Scraping Progress:   3%|▎         | 218/8402 [05:56<3:37:15,  1.59s/it]"
     ]
    },
    {
     "name": "stdout",
     "output_type": "stream",
     "text": [
      "Successfully fetched: https://www.bloomberg.com/tosv2.html?vid=&uuid=a03645e0-efc4-11e8-ad98-77e9505f8625&url=L25ld3MvYXJ0aWNsZXMvMjAxOC0xMS0yNC9ldS1zdW1taXQtYS1zaWRlc2hvdy1mb3ItcG91bmQtYXMtcGFybGlhbWVudC1odXJkbGUtbGllcy1haGVhZA==\n"
     ]
    },
    {
     "name": "stderr",
     "output_type": "stream",
     "text": [
      "Scraping Progress:   3%|▎         | 219/8402 [05:57<3:18:43,  1.46s/it]"
     ]
    },
    {
     "name": "stdout",
     "output_type": "stream",
     "text": [
      "Successfully fetched: https://www.heise.de/newsticker/meldung/ZenBook-Pro-Asus-Notebooks-mit-Touchscreen-als-Touchpad-4068420.html?wt_mc=rss.ho.beitrag.atom\n"
     ]
    },
    {
     "name": "stderr",
     "output_type": "stream",
     "text": [
      "Scraping Progress:   3%|▎         | 220/8402 [05:59<3:49:15,  1.68s/it]"
     ]
    },
    {
     "name": "stdout",
     "output_type": "stream",
     "text": [
      "Successfully fetched: http://mentalfloss.com/article/550390/stanley-kubrick-explains-ending-2001-a-space-odyssey\n"
     ]
    },
    {
     "name": "stderr",
     "output_type": "stream",
     "text": [
      "Scraping Progress:   3%|▎         | 221/8402 [06:01<3:54:15,  1.72s/it]"
     ]
    },
    {
     "name": "stdout",
     "output_type": "stream",
     "text": [
      "Successfully fetched: http://mentalfloss.com/article/65840/14-things-you-might-not-know-about-forrest-gump\n"
     ]
    },
    {
     "name": "stderr",
     "output_type": "stream",
     "text": [
      "Scraping Progress:   3%|▎         | 222/8402 [06:03<3:57:51,  1.74s/it]"
     ]
    },
    {
     "name": "stdout",
     "output_type": "stream",
     "text": [
      "Successfully fetched: http://www.espn.com/soccer/blog/the-match/60/post/3509635/super-sub-gareth-bale-earns-real-madrid-third-straight-champions-league-crown\n"
     ]
    },
    {
     "name": "stderr",
     "output_type": "stream",
     "text": [
      "Scraping Progress:   3%|▎         | 223/8402 [06:05<3:55:27,  1.73s/it]"
     ]
    },
    {
     "name": "stdout",
     "output_type": "stream",
     "text": [
      "Successfully fetched: https://www.forbes.com/sites/russespinoza/2018/10/23/arnold-to-keep-hunting-as-trump-tapes-ends-at-viceland/\n"
     ]
    },
    {
     "name": "stderr",
     "output_type": "stream",
     "text": [
      "Scraping Progress:   3%|▎         | 224/8402 [06:07<4:04:13,  1.79s/it]"
     ]
    },
    {
     "name": "stdout",
     "output_type": "stream",
     "text": [
      "Successfully fetched: https://hypebeast.com/2019/7/comic-con-san-diego-2019-best-exclusive-toys\n"
     ]
    },
    {
     "name": "stderr",
     "output_type": "stream",
     "text": [
      "Scraping Progress:   3%|▎         | 225/8402 [06:08<4:01:29,  1.77s/it]"
     ]
    },
    {
     "name": "stdout",
     "output_type": "stream",
     "text": [
      "Successfully fetched: https://www.thekitchn.com/family-friendly-thanksgiving-side-dishes-kitchn-collective-22958447\n"
     ]
    },
    {
     "name": "stderr",
     "output_type": "stream",
     "text": [
      "Scraping Progress:   3%|▎         | 226/8402 [06:10<3:44:45,  1.65s/it]"
     ]
    },
    {
     "name": "stdout",
     "output_type": "stream",
     "text": [
      "Successfully fetched: https://news.yahoo.com/barr-face-mueller-report-questions-senate-hearing-183411098--politics.html\n"
     ]
    },
    {
     "name": "stderr",
     "output_type": "stream",
     "text": [
      "Scraping Progress:   3%|▎         | 227/8402 [06:12<4:07:28,  1.82s/it]"
     ]
    },
    {
     "name": "stdout",
     "output_type": "stream",
     "text": [
      "Successfully fetched: https://www.highsnobiety.com/p/car-sideshows/\n"
     ]
    },
    {
     "name": "stderr",
     "output_type": "stream",
     "text": [
      "Scraping Progress:   3%|▎         | 228/8402 [06:13<3:54:44,  1.72s/it]"
     ]
    },
    {
     "name": "stdout",
     "output_type": "stream",
     "text": [
      "Cannot fetch https://www.marketwatch.com/story/how-support-for-impeaching-trump-has-risen-and-fallen-in-one-chart-2019-12-18, HTTP error: 401 Client Error: HTTP Forbidden for url: https://www.marketwatch.com/story/how-support-for-impeaching-trump-has-risen-and-fallen-in-one-chart-2019-12-18\n"
     ]
    },
    {
     "name": "stderr",
     "output_type": "stream",
     "text": [
      "Scraping Progress:   3%|▎         | 229/8402 [06:14<3:29:25,  1.54s/it]"
     ]
    },
    {
     "name": "stdout",
     "output_type": "stream",
     "text": [
      "Successfully fetched: https://hypebeast.com/2019/11/designercon-2019-exclusive-toys-info\n"
     ]
    },
    {
     "name": "stderr",
     "output_type": "stream",
     "text": [
      "Scraping Progress:   3%|▎         | 230/8402 [06:16<3:39:06,  1.61s/it]"
     ]
    },
    {
     "name": "stdout",
     "output_type": "stream",
     "text": [
      "Successfully fetched: https://www.geeksaresexy.net/2018/03/04/georgeous-life-size-infinity-gauntlet-prop-replica-hot-toys-pics/\n"
     ]
    },
    {
     "name": "stderr",
     "output_type": "stream",
     "text": [
      "Scraping Progress:   3%|▎         | 231/8402 [06:18<3:35:36,  1.58s/it]"
     ]
    },
    {
     "name": "stdout",
     "output_type": "stream",
     "text": [
      "Successfully fetched: https://www.windowscentral.com/always-connected-pcs-not-just-arm\n"
     ]
    },
    {
     "name": "stderr",
     "output_type": "stream",
     "text": [
      "Scraping Progress:   3%|▎         | 232/8402 [06:19<3:30:15,  1.54s/it]"
     ]
    },
    {
     "name": "stdout",
     "output_type": "stream",
     "text": [
      "Successfully fetched: https://www.engadget.com/2018/09/06/twitter-facebook-jack-dorsey-sheryl-sandberg-congress-regulation/\n"
     ]
    },
    {
     "name": "stderr",
     "output_type": "stream",
     "text": [
      "Scraping Progress:   3%|▎         | 233/8402 [06:21<3:33:56,  1.57s/it]"
     ]
    },
    {
     "name": "stdout",
     "output_type": "stream",
     "text": [
      "Successfully fetched: https://hypebeast.com/2019/9/lndn-drgs-town-bidness-casey-veggies-music-video\n"
     ]
    },
    {
     "name": "stderr",
     "output_type": "stream",
     "text": [
      "Scraping Progress:   3%|▎         | 234/8402 [06:23<3:44:20,  1.65s/it]"
     ]
    },
    {
     "name": "stdout",
     "output_type": "stream",
     "text": [
      "Successfully fetched: https://www.geeksaresexy.net/2018/04/11/sideshow-releases-gorgeous-thanos-sixth-scale-collectible-figure/\n"
     ]
    },
    {
     "name": "stderr",
     "output_type": "stream",
     "text": [
      "Scraping Progress:   3%|▎         | 235/8402 [06:24<3:30:48,  1.55s/it]"
     ]
    },
    {
     "name": "stdout",
     "output_type": "stream",
     "text": [
      "Successfully fetched: https://hypebeast.com/2019/2/hot-toys-captain-marvel-1-6th-scale-figure\n"
     ]
    },
    {
     "name": "stderr",
     "output_type": "stream",
     "text": [
      "Scraping Progress:   3%|▎         | 236/8402 [06:26<3:43:46,  1.64s/it]"
     ]
    },
    {
     "name": "stdout",
     "output_type": "stream",
     "text": [
      "Successfully fetched: https://www.theatlantic.com/politics/archive/2019/03/house-judiciary-committee-subpoenas-81-trump-associates/584122/\n"
     ]
    },
    {
     "name": "stderr",
     "output_type": "stream",
     "text": [
      "Scraping Progress:   3%|▎         | 237/8402 [06:28<3:52:01,  1.70s/it]"
     ]
    },
    {
     "name": "stdout",
     "output_type": "stream",
     "text": [
      "Successfully fetched: http://www.comingsoon.net/movies/news/964945-sideshow-doomsday-statue-revealed-in-new-photos\n"
     ]
    },
    {
     "name": "stderr",
     "output_type": "stream",
     "text": [
      "Scraping Progress:   3%|▎         | 238/8402 [06:30<4:00:02,  1.76s/it]"
     ]
    },
    {
     "name": "stdout",
     "output_type": "stream",
     "text": [
      "Successfully fetched: https://www.slashfilm.com/star-wars-bits-the-mandalorian-cast-reveals-their-favorite-star-wars-film-a-documentary-about-the-stormtrooper-who-hit-his-head-and-more/\n"
     ]
    },
    {
     "name": "stderr",
     "output_type": "stream",
     "text": [
      "Scraping Progress:   3%|▎         | 239/8402 [06:32<4:31:57,  2.00s/it]"
     ]
    },
    {
     "name": "stdout",
     "output_type": "stream",
     "text": [
      "Cannot fetch https://news.yahoo.com/van-jackson-north-korea-prediction-151100824.html, HTTP error: 404 Client Error: Not Found for url: https://news.yahoo.com/van-jackson-north-korea-prediction-151100824.html\n"
     ]
    },
    {
     "name": "stderr",
     "output_type": "stream",
     "text": [
      "Scraping Progress:   3%|▎         | 240/8402 [06:33<4:03:31,  1.79s/it]"
     ]
    },
    {
     "name": "stdout",
     "output_type": "stream",
     "text": [
      "Cannot fetch http://time.com/5580953/barr-senate-questioning-mueller-report/, HTTP error: 404 Client Error: Not Found for url: https://time.com/5580953/barr-senate-questioning-mueller-report/\n"
     ]
    },
    {
     "name": "stderr",
     "output_type": "stream",
     "text": [
      "Scraping Progress:   3%|▎         | 241/8402 [06:35<4:03:20,  1.79s/it]"
     ]
    },
    {
     "name": "stdout",
     "output_type": "stream",
     "text": [
      "Successfully fetched: https://www.thetruthaboutcars.com/2019/09/outgoing-chevrolet-bolt-less-range-but-more-desire/\n"
     ]
    },
    {
     "name": "stderr",
     "output_type": "stream",
     "text": [
      "Scraping Progress:   3%|▎         | 242/8402 [06:37<3:50:06,  1.69s/it]"
     ]
    },
    {
     "name": "stdout",
     "output_type": "stream",
     "text": [
      "Successfully fetched: https://io9.gizmodo.com/hold-my-beskar-hot-toys-is-making-a-rad-figure-of-that-1840083140\n"
     ]
    },
    {
     "name": "stderr",
     "output_type": "stream",
     "text": [
      "Scraping Progress:   3%|▎         | 243/8402 [06:39<3:55:37,  1.73s/it]"
     ]
    },
    {
     "name": "stdout",
     "output_type": "stream",
     "text": [
      "Cannot fetch https://www.wsj.com/articles/brazils-bolsonaro-is-sworn-in-as-president-marking-rightward-shift-11546365060, HTTP error: 401 Client Error: HTTP Forbidden for url: https://www.wsj.com/articles/brazils-bolsonaro-is-sworn-in-as-president-marking-rightward-shift-11546365060\n"
     ]
    },
    {
     "name": "stderr",
     "output_type": "stream",
     "text": [
      "Scraping Progress:   3%|▎         | 244/8402 [06:40<3:33:11,  1.57s/it]"
     ]
    },
    {
     "name": "stdout",
     "output_type": "stream",
     "text": [
      "Successfully fetched: https://www.engadget.com/2018/07/05/sideshow-collectibles-star-wars-life-size-bb-8/\n"
     ]
    },
    {
     "name": "stderr",
     "output_type": "stream",
     "text": [
      "Scraping Progress:   3%|▎         | 245/8402 [06:41<3:33:44,  1.57s/it]"
     ]
    },
    {
     "name": "stdout",
     "output_type": "stream",
     "text": [
      "Successfully fetched: https://www.gq.com/story/stormy-daniels-michael-cohen-trump\n"
     ]
    },
    {
     "name": "stderr",
     "output_type": "stream",
     "text": [
      "Scraping Progress:   3%|▎         | 246/8402 [06:43<3:46:44,  1.67s/it]"
     ]
    },
    {
     "name": "stdout",
     "output_type": "stream",
     "text": [
      "Successfully fetched: https://www.forbes.com/sites/richardkestenbaum/2019/10/11/american-dream-mall-is-the-next-step-in-the-evolution-of-retail/\n"
     ]
    },
    {
     "name": "stderr",
     "output_type": "stream",
     "text": [
      "Scraping Progress:   3%|▎         | 247/8402 [06:46<4:25:13,  1.95s/it]"
     ]
    },
    {
     "name": "stdout",
     "output_type": "stream",
     "text": [
      "Successfully fetched: https://www.gamespot.com/articles/insomniacs-spider-man-immortalized-with-super-pric/1100-6470715/\n"
     ]
    },
    {
     "name": "stderr",
     "output_type": "stream",
     "text": [
      "Scraping Progress:   3%|▎         | 248/8402 [06:48<4:34:23,  2.02s/it]"
     ]
    },
    {
     "name": "stdout",
     "output_type": "stream",
     "text": [
      "Successfully fetched: https://www.windowscentral.com/fallout-76-features-monsters-mothman-and-wendigo\n"
     ]
    },
    {
     "name": "stderr",
     "output_type": "stream",
     "text": [
      "Scraping Progress:   3%|▎         | 249/8402 [06:49<4:09:11,  1.83s/it]"
     ]
    },
    {
     "name": "stdout",
     "output_type": "stream",
     "text": [
      "Successfully fetched: https://www.giantbomb.com/videos/e3-2018-treacherous-skies-hang-over-killing-floor-/2300-13319/\n"
     ]
    },
    {
     "name": "stderr",
     "output_type": "stream",
     "text": [
      "Scraping Progress:   3%|▎         | 250/8402 [06:51<3:57:58,  1.75s/it]"
     ]
    },
    {
     "name": "stdout",
     "output_type": "stream",
     "text": [
      "Successfully fetched: https://www.usatoday.com/story/sports/mlb/columnist/bob-nightengale/2018/08/11/barry-bonds-no-25-jersey-retired-san-francisco-giants/969817002/?utm_source=google&utm_medium=amp&utm_campaign=speakable\n"
     ]
    },
    {
     "name": "stderr",
     "output_type": "stream",
     "text": [
      "Scraping Progress:   3%|▎         | 251/8402 [06:53<3:52:59,  1.72s/it]"
     ]
    },
    {
     "name": "stdout",
     "output_type": "stream",
     "text": [
      "Successfully fetched: http://gothamist.com/2019/05/31/schlitzie_pinhead_coney_island_comic.php\n"
     ]
    },
    {
     "name": "stderr",
     "output_type": "stream",
     "text": [
      "Scraping Progress:   3%|▎         | 252/8402 [06:55<4:06:51,  1.82s/it]"
     ]
    },
    {
     "name": "stdout",
     "output_type": "stream",
     "text": [
      "Cannot fetch https://phys.org/news/2018-01-fx-chief-peak-tv-sideshow.html, HTTP error: 422 Client Error: Unprocessable Content for url: https://phys.org/news/2018-01-fx-chief-peak-tv-sideshow.html\n"
     ]
    },
    {
     "name": "stderr",
     "output_type": "stream",
     "text": [
      "Scraping Progress:   3%|▎         | 253/8402 [06:56<3:40:23,  1.62s/it]"
     ]
    },
    {
     "name": "stdout",
     "output_type": "stream",
     "text": [
      "Cannot fetch https://abcnews.go.com/Entertainment/wireStory/thailands-cave-boys-centerpiece-mall-exhibition-57640465, HTTP error: 404 Client Error: Not Found for url: https://abcnews.go.com/Entertainment/wireStory/thailands-cave-boys-centerpiece-mall-exhibition-57640465\n"
     ]
    },
    {
     "name": "stderr",
     "output_type": "stream",
     "text": [
      "Scraping Progress:   3%|▎         | 254/8402 [06:57<3:25:15,  1.51s/it]"
     ]
    },
    {
     "name": "stdout",
     "output_type": "stream",
     "text": [
      "Successfully fetched: https://www.forbes.com/sites/derekscancarelli/2018/10/17/alice-cooper-on-beheadings-sideshow-attitude-and-johnny-depp/\n"
     ]
    },
    {
     "name": "stderr",
     "output_type": "stream",
     "text": [
      "Scraping Progress:   3%|▎         | 255/8402 [06:58<3:13:29,  1.43s/it]"
     ]
    },
    {
     "name": "stdout",
     "output_type": "stream",
     "text": [
      "Successfully fetched: http://geekologie.com/2018/03/a-930-life-size-infinity-gauntlet-replic.php\n"
     ]
    },
    {
     "name": "stderr",
     "output_type": "stream",
     "text": [
      "Scraping Progress:   3%|▎         | 256/8402 [07:00<3:15:15,  1.44s/it]"
     ]
    },
    {
     "name": "stdout",
     "output_type": "stream",
     "text": [
      "Successfully fetched: https://www.mercurynews.com/2018/08/19/bay-bridge-chp-arrests-one-after-sideshow-blocks-bridge-lanes/\n"
     ]
    },
    {
     "name": "stderr",
     "output_type": "stream",
     "text": [
      "Scraping Progress:   3%|▎         | 257/8402 [07:01<3:27:10,  1.53s/it]"
     ]
    },
    {
     "name": "stdout",
     "output_type": "stream",
     "text": [
      "Cannot fetch https://boingboing.net/2019/05/27/party-like-its-1982-2.html, HTTP error: 403 Client Error: Forbidden for url: https://boingboing.net/2019/05/27/party-like-its-1982-2.html\n"
     ]
    },
    {
     "name": "stderr",
     "output_type": "stream",
     "text": [
      "Scraping Progress:   3%|▎         | 258/8402 [07:03<3:13:46,  1.43s/it]"
     ]
    },
    {
     "name": "stdout",
     "output_type": "stream",
     "text": [
      "Successfully fetched: https://hypebeast.com/2019/8/terence-tee-150-iron-man-figures-room-video\n"
     ]
    },
    {
     "name": "stderr",
     "output_type": "stream",
     "text": [
      "Scraping Progress:   3%|▎         | 259/8402 [07:04<3:29:49,  1.55s/it]"
     ]
    },
    {
     "name": "stdout",
     "output_type": "stream",
     "text": [
      "Successfully fetched: https://www.vice.com/en_us/article/3kxw3k/billionaire-tom-steyers-aide-tried-to-literally-buy-endorsements\n"
     ]
    },
    {
     "name": "stderr",
     "output_type": "stream",
     "text": [
      "Scraping Progress:   3%|▎         | 260/8402 [07:07<3:49:47,  1.69s/it]"
     ]
    },
    {
     "name": "stdout",
     "output_type": "stream",
     "text": [
      "Successfully fetched: https://www.polygon.com/2019/4/10/18304723/man-who-killed-don-quixote-review-terry-gilliam-adam-driver\n"
     ]
    },
    {
     "name": "stderr",
     "output_type": "stream",
     "text": [
      "Scraping Progress:   3%|▎         | 261/8402 [07:08<3:37:57,  1.61s/it]"
     ]
    },
    {
     "name": "stdout",
     "output_type": "stream",
     "text": [
      "Successfully fetched: https://www.vidaextra.com/fps/killing-floor-2-se-puede-jugar-gratis-durante-este-fin-semana-xbox-one-ps4\n"
     ]
    },
    {
     "name": "stderr",
     "output_type": "stream",
     "text": [
      "Scraping Progress:   3%|▎         | 262/8402 [07:09<3:30:40,  1.55s/it]"
     ]
    },
    {
     "name": "stdout",
     "output_type": "stream",
     "text": [
      "Successfully fetched: https://bleacherreport.com/articles/2785494-2018-world-cup-final-rating-france-vs-croatia-head-to-head\n"
     ]
    },
    {
     "name": "stderr",
     "output_type": "stream",
     "text": [
      "Scraping Progress:   3%|▎         | 263/8402 [07:11<3:34:20,  1.58s/it]"
     ]
    },
    {
     "name": "stdout",
     "output_type": "stream",
     "text": [
      "Successfully fetched: http://www.foxnews.com/science/2018/08/15/stern-us-ww-ii-destroyer-discovered-near-remote-alaskan-island-survivor-recounts-harrowing-day.html\n"
     ]
    },
    {
     "name": "stderr",
     "output_type": "stream",
     "text": [
      "Scraping Progress:   3%|▎         | 264/8402 [07:16<5:55:24,  2.62s/it]"
     ]
    },
    {
     "name": "stdout",
     "output_type": "stream",
     "text": [
      "Successfully fetched: https://www.usatoday.com/story/news/politics/2018/01/05/jared-kushner-internet-unitarian/1006446001/?utm_source=google&utm_medium=amp&utm_campaign=speakable\n"
     ]
    },
    {
     "name": "stderr",
     "output_type": "stream",
     "text": [
      "Scraping Progress:   3%|▎         | 265/8402 [07:17<4:55:46,  2.18s/it]"
     ]
    },
    {
     "name": "stdout",
     "output_type": "stream",
     "text": [
      "Cannot fetch https://www.fastcompany.com/90207561/amplify-education-gets-a-new-lease-on-life-this-time-from-a-nonprofit?partner=feedburner&utm_source=feedburner&utm_medium=feed&utm_campaign=Feed%3A+fastcompany%2Fheadlines+%28Fast+Company%29, HTTP error: 403 Client Error: Forbidden for url: https://www.fastcompany.com/90207561/amplify-education-gets-a-new-lease-on-life-this-time-from-a-nonprofit?partner=feedburner&utm_source=feedburner&utm_medium=feed&utm_campaign=Feed%3A+fastcompany%2Fheadlines+%28Fast+Company%29\n"
     ]
    },
    {
     "name": "stderr",
     "output_type": "stream",
     "text": [
      "Scraping Progress:   3%|▎         | 266/8402 [07:18<4:15:12,  1.88s/it]"
     ]
    },
    {
     "name": "stdout",
     "output_type": "stream",
     "text": [
      "Successfully fetched: https://ritholtz.com/2019/10/sunday-reads-166/\n"
     ]
    },
    {
     "name": "stderr",
     "output_type": "stream",
     "text": [
      "Scraping Progress:   3%|▎         | 267/8402 [07:20<4:11:47,  1.86s/it]"
     ]
    },
    {
     "name": "stdout",
     "output_type": "stream",
     "text": [
      "Successfully fetched: https://www.huffpost.com/entry/barr-senate-testimony-mueller-report_n_5cc99764e4b0d123954cd790\n"
     ]
    },
    {
     "name": "stderr",
     "output_type": "stream",
     "text": [
      "Scraping Progress:   3%|▎         | 268/8402 [07:21<3:45:38,  1.66s/it]"
     ]
    },
    {
     "name": "stdout",
     "output_type": "stream",
     "text": [
      "Cannot fetch https://fashionista.com/2019/01/christian-dior-couture-2019-review, HTTP error: 403 Client Error: Forbidden for url: https://fashionista.com/2019/01/christian-dior-couture-2019-review\n"
     ]
    },
    {
     "name": "stderr",
     "output_type": "stream",
     "text": [
      "Scraping Progress:   3%|▎         | 269/8402 [07:23<3:27:56,  1.53s/it]"
     ]
    },
    {
     "name": "stdout",
     "output_type": "stream",
     "text": [
      "Successfully fetched: https://www.windowscentral.com/asus-zenbook-pro-15-has-screen-touchpad-and-i-dont-know-why\n"
     ]
    },
    {
     "name": "stderr",
     "output_type": "stream",
     "text": [
      "Scraping Progress:   3%|▎         | 270/8402 [07:24<3:14:52,  1.44s/it]"
     ]
    },
    {
     "name": "stdout",
     "output_type": "stream",
     "text": [
      "Successfully fetched: https://www.newyorker.com/news/our-columnists/what-the-ronny-jackson-debacle-reveals-about-donald-trump-and-the-swamp\n"
     ]
    },
    {
     "name": "stderr",
     "output_type": "stream",
     "text": [
      "Scraping Progress:   3%|▎         | 271/8402 [07:25<3:09:33,  1.40s/it]"
     ]
    },
    {
     "name": "stdout",
     "output_type": "stream",
     "text": [
      "Successfully fetched: https://theawesomer.com/sideshow-alien-queen-maquette/472731/\n"
     ]
    },
    {
     "name": "stderr",
     "output_type": "stream",
     "text": [
      "Scraping Progress:   3%|▎         | 272/8402 [07:27<3:37:44,  1.61s/it]"
     ]
    },
    {
     "name": "stdout",
     "output_type": "stream",
     "text": [
      "Successfully fetched: https://blog.adafruit.com/2018/06/05/automaton-report-mekanikos-vs-the-minotaur/\n"
     ]
    },
    {
     "name": "stderr",
     "output_type": "stream",
     "text": [
      "Scraping Progress:   3%|▎         | 273/8402 [07:29<3:31:56,  1.56s/it]"
     ]
    },
    {
     "name": "stdout",
     "output_type": "stream",
     "text": [
      "Cannot fetch https://www.washingtonpost.com/politics/state-of-the-union-gives-trump-the-chance-to-act-presidential-at-least-for-a-night/2018/01/30/3c819cb2-0536-11e8-b48c-b07fea957bd5_story.html, connection timed out.\n"
     ]
    },
    {
     "name": "stderr",
     "output_type": "stream",
     "text": [
      "Scraping Progress:   3%|▎         | 274/8402 [07:40<9:58:16,  4.42s/it]"
     ]
    },
    {
     "name": "stdout",
     "output_type": "stream",
     "text": [
      "Successfully fetched: https://www.newyorker.com/culture/culture-desk/the-simpsons-jokes-that-never-quite-made-it-and-a-few-that-barely-did\n"
     ]
    },
    {
     "name": "stderr",
     "output_type": "stream",
     "text": [
      "Scraping Progress:   3%|▎         | 275/8402 [07:42<8:43:52,  3.87s/it]"
     ]
    },
    {
     "name": "stdout",
     "output_type": "stream",
     "text": [
      "Cannot fetch https://film.avclub.com/a-mutant-girl-paranoid-dad-and-an-ice-cream-truck-sta-1837995794, error: HTTPSConnectionPool(host='film.avclub.com', port=443): Max retries exceeded with url: /a-mutant-girl-paranoid-dad-and-an-ice-cream-truck-sta-1837995794 (Caused by NewConnectionError('<urllib3.connection.HTTPSConnection object at 0x114d6cdd0>: Failed to establish a new connection: [Errno 8] nodename nor servname provided, or not known'))\n"
     ]
    },
    {
     "name": "stderr",
     "output_type": "stream",
     "text": [
      "Scraping Progress:   3%|▎         | 276/8402 [07:44<6:55:18,  3.07s/it]"
     ]
    },
    {
     "name": "stdout",
     "output_type": "stream",
     "text": [
      "Successfully fetched: https://slate.com/culture/2019/02/r-kelly-indictment-new-videotape.html\n"
     ]
    },
    {
     "name": "stderr",
     "output_type": "stream",
     "text": [
      "Scraping Progress:   3%|▎         | 277/8402 [07:45<5:51:59,  2.60s/it]"
     ]
    },
    {
     "name": "stdout",
     "output_type": "stream",
     "text": [
      "Successfully fetched: http://www.espn.com/soccer/australian-a-league/0/blog/post/3669121/usain-bolts-quest-for-a-professional-contract-has-a-league-community-divided\n"
     ]
    },
    {
     "name": "stderr",
     "output_type": "stream",
     "text": [
      "Scraping Progress:   3%|▎         | 278/8402 [07:47<5:05:39,  2.26s/it]"
     ]
    },
    {
     "name": "stdout",
     "output_type": "stream",
     "text": [
      "Successfully fetched: https://nerdist.com/article/avengers-endgame-sideshow-toy-figures/\n"
     ]
    },
    {
     "name": "stderr",
     "output_type": "stream",
     "text": [
      "Scraping Progress:   3%|▎         | 279/8402 [07:48<4:47:22,  2.12s/it]"
     ]
    },
    {
     "name": "stdout",
     "output_type": "stream",
     "text": [
      "Cannot fetch https://www.destructoid.com/lavish-castlevania-alucard-statue-coming-from-gantaku-538843.phtml, HTTP error: 404 Client Error: Not Found for url: https://www.destructoid.com/lavish-castlevania-alucard-statue-coming-from-gantaku-538843.phtml\n"
     ]
    },
    {
     "name": "stderr",
     "output_type": "stream",
     "text": [
      "Scraping Progress:   3%|▎         | 280/8402 [07:50<4:24:50,  1.96s/it]"
     ]
    },
    {
     "name": "stdout",
     "output_type": "stream",
     "text": [
      "Successfully fetched: https://nerdist.com/article/jurassic-park-jeff-goldblum-sideshow-toys/\n"
     ]
    },
    {
     "name": "stderr",
     "output_type": "stream",
     "text": [
      "Scraping Progress:   3%|▎         | 281/8402 [07:51<4:09:24,  1.84s/it]"
     ]
    },
    {
     "name": "stdout",
     "output_type": "stream",
     "text": [
      "Successfully fetched: https://www.tomshw.it/culturapop/la-stupenda-stampa-di-the-amazing-spider-man-renew-your-vows/\n"
     ]
    },
    {
     "name": "stderr",
     "output_type": "stream",
     "text": [
      "Scraping Progress:   3%|▎         | 282/8402 [07:54<4:18:12,  1.91s/it]"
     ]
    },
    {
     "name": "stdout",
     "output_type": "stream",
     "text": [
      "Successfully fetched: https://slate.com/business/2018/08/cfpb-ombudsman-resigns-heres-what-seth-frotmans-letter-was-really-about.html\n"
     ]
    },
    {
     "name": "stderr",
     "output_type": "stream",
     "text": [
      "Scraping Progress:   3%|▎         | 283/8402 [07:55<3:56:50,  1.75s/it]"
     ]
    },
    {
     "name": "stdout",
     "output_type": "stream",
     "text": [
      "Cannot fetch https://theslot.jezebel.com/the-brutal-incredibly-personal-gun-politics-of-the-flo-1828938080, error: HTTPSConnectionPool(host='theslot.jezebel.com', port=443): Max retries exceeded with url: /the-brutal-incredibly-personal-gun-politics-of-the-flo-1828938080 (Caused by SSLError(CertificateError(\"hostname 'theslot.jezebel.com' doesn't match either of 'g-omedia.com', '*.jalopnik.com', '*.kinja-embeds.com', '*.kinja-img.com', '*.kinja-labs.com', '*.kinja-static.com', '*.kinja.com', '*.kotaku.co.uk', '*.kotaku.com', '*.testkinja.com', '*.theinventory.com', '*.theroot.com', '*.verysmartbrothas.com', 'jalopnik.com', 'kinja-embeds.com', 'kinja-img.com', 'kinja-static.com', 'kinja.com', 'kotak.us', 'kotaku.co.uk', 'kotaku.com', 'testkinja.com', 'theinventory.com', 'theroot.com', 'verysmartbrothas.com', '*.g-omedia.com', 'qz.com', '*.qz.com', 'kotaku.nz', '*.kotaku.nz', '*.kotaku.co.nz', 'kotaku.co.nz', '*.kotaku.net.nz', 'kotaku.net.nz'\")))\n"
     ]
    },
    {
     "name": "stderr",
     "output_type": "stream",
     "text": [
      "Scraping Progress:   3%|▎         | 284/8402 [07:56<3:30:22,  1.55s/it]"
     ]
    },
    {
     "name": "stdout",
     "output_type": "stream",
     "text": [
      "Successfully fetched: https://www.apnews.com/a1ee0c8566674a758c5d3d888fac35d3\n"
     ]
    },
    {
     "name": "stderr",
     "output_type": "stream",
     "text": [
      "Scraping Progress:   3%|▎         | 285/8402 [07:58<3:38:34,  1.62s/it]"
     ]
    },
    {
     "name": "stdout",
     "output_type": "stream",
     "text": [
      "Successfully fetched: http://time.com/5527513/lorena-bobbitt-amazon-review/\n"
     ]
    },
    {
     "name": "stderr",
     "output_type": "stream",
     "text": [
      "Scraping Progress:   3%|▎         | 286/8402 [08:02<5:33:20,  2.46s/it]"
     ]
    },
    {
     "name": "stdout",
     "output_type": "stream",
     "text": [
      "Successfully fetched: https://slate.com/human-interest/2018/05/a-royals-hater-admits-she-loved-this-royal-wedding.html\n"
     ]
    },
    {
     "name": "stderr",
     "output_type": "stream",
     "text": [
      "Scraping Progress:   3%|▎         | 287/8402 [08:04<4:50:06,  2.14s/it]"
     ]
    },
    {
     "name": "stdout",
     "output_type": "stream",
     "text": [
      "Successfully fetched: http://www.comingsoon.net/movies/features/959335-sideshow-collectibles-comic-con-reveals-gallery\n"
     ]
    },
    {
     "name": "stderr",
     "output_type": "stream",
     "text": [
      "Scraping Progress:   3%|▎         | 288/8402 [08:05<4:34:07,  2.03s/it]"
     ]
    },
    {
     "name": "stdout",
     "output_type": "stream",
     "text": [
      "Successfully fetched: http://www.huffingtonpost.com/entry/joe-arpaio-2018-election_us_5a563b5ae4b03417e8743168\n"
     ]
    },
    {
     "name": "stderr",
     "output_type": "stream",
     "text": [
      "Scraping Progress:   3%|▎         | 289/8402 [08:07<4:12:10,  1.86s/it]"
     ]
    },
    {
     "name": "stdout",
     "output_type": "stream",
     "text": [
      "Successfully fetched: https://www.gq.com/story/why-asap-rocky-is-a-bit-player-in-the-trump-impeachment-hearings\n"
     ]
    },
    {
     "name": "stderr",
     "output_type": "stream",
     "text": [
      "Scraping Progress:   3%|▎         | 290/8402 [08:09<4:07:21,  1.83s/it]"
     ]
    },
    {
     "name": "stdout",
     "output_type": "stream",
     "text": [
      "Successfully fetched: https://thechive.com/2019/05/24/a-truly-terrifying-sideshow-bob-cosplay-my-dear-bart-video/\n"
     ]
    },
    {
     "name": "stderr",
     "output_type": "stream",
     "text": [
      "Scraping Progress:   3%|▎         | 291/8402 [08:10<3:55:37,  1.74s/it]"
     ]
    },
    {
     "name": "stdout",
     "output_type": "stream",
     "text": [
      "Successfully fetched: https://www.cbr.com/sideshow-collectibles-spooktacular-sale/\n"
     ]
    },
    {
     "name": "stderr",
     "output_type": "stream",
     "text": [
      "Scraping Progress:   3%|▎         | 292/8402 [08:12<3:44:42,  1.66s/it]"
     ]
    },
    {
     "name": "stdout",
     "output_type": "stream",
     "text": [
      "Cannot fetch https://9gag.com/gag/axzNR2Y/sideshow-bob-at-it-again, HTTP error: 403 Client Error: Forbidden for url: https://9gag.com/gag/axzNR2Y/sideshow-bob-at-it-again\n"
     ]
    },
    {
     "name": "stderr",
     "output_type": "stream",
     "text": [
      "Scraping Progress:   3%|▎         | 293/8402 [08:13<3:26:58,  1.53s/it]"
     ]
    },
    {
     "name": "stdout",
     "output_type": "stream",
     "text": [
      "Successfully fetched: https://www.slashfilm.com/superhero-bits-1585/\n"
     ]
    },
    {
     "name": "stderr",
     "output_type": "stream",
     "text": [
      "Scraping Progress:   3%|▎         | 294/8402 [08:16<4:49:50,  2.14s/it]"
     ]
    },
    {
     "name": "stdout",
     "output_type": "stream",
     "text": [
      "Successfully fetched: https://abc7news.com/driver-involved-in-sideshow-on-bay-bridge-arrested-chp-says/4001942/\n"
     ]
    },
    {
     "name": "stderr",
     "output_type": "stream",
     "text": [
      "Scraping Progress:   4%|▎         | 295/8402 [08:19<5:06:21,  2.27s/it]"
     ]
    },
    {
     "name": "stdout",
     "output_type": "stream",
     "text": [
      "Successfully fetched: http://www.ign.com/articles/2018/04/12/the-best-god-of-war-merch\n"
     ]
    },
    {
     "name": "stderr",
     "output_type": "stream",
     "text": [
      "Scraping Progress:   4%|▎         | 296/8402 [08:21<4:44:20,  2.10s/it]"
     ]
    },
    {
     "name": "stdout",
     "output_type": "stream",
     "text": [
      "Cannot fetch https://news.avclub.com/when-exactly-did-the-real-world-stop-being-real-1826606649, error: HTTPSConnectionPool(host='news.avclub.com', port=443): Max retries exceeded with url: /when-exactly-did-the-real-world-stop-being-real-1826606649 (Caused by NewConnectionError('<urllib3.connection.HTTPSConnection object at 0x117dac5d0>: Failed to establish a new connection: [Errno 8] nodename nor servname provided, or not known'))\n"
     ]
    },
    {
     "name": "stderr",
     "output_type": "stream",
     "text": [
      "Scraping Progress:   4%|▎         | 297/8402 [08:22<3:59:59,  1.78s/it]"
     ]
    },
    {
     "name": "stdout",
     "output_type": "stream",
     "text": [
      "Successfully fetched: https://www.slashfilm.com/the-mandalorian-hot-toys-figures/\n"
     ]
    },
    {
     "name": "stderr",
     "output_type": "stream",
     "text": [
      "Scraping Progress:   4%|▎         | 298/8402 [08:24<4:09:02,  1.84s/it]"
     ]
    },
    {
     "name": "stdout",
     "output_type": "stream",
     "text": [
      "Successfully fetched: https://io9.gizmodo.com/a-deadpool-figure-fit-for-the-dance-floor-and-more-of-1826013662\n"
     ]
    },
    {
     "name": "stderr",
     "output_type": "stream",
     "text": [
      "Scraping Progress:   4%|▎         | 299/8402 [08:26<4:09:56,  1.85s/it]"
     ]
    },
    {
     "name": "stdout",
     "output_type": "stream",
     "text": [
      "Successfully fetched: https://www.poynter.org/news/coney-island-sideshow-journalistic-scoop-factory\n"
     ]
    },
    {
     "name": "stderr",
     "output_type": "stream",
     "text": [
      "Scraping Progress:   4%|▎         | 300/8402 [08:30<6:01:19,  2.68s/it]"
     ]
    },
    {
     "name": "stdout",
     "output_type": "stream",
     "text": [
      "Successfully fetched: http://www.espn.com/boxing/story/_/id/24762579/anthony-joshua-beats-alexander-povetkin-maintain-date-destiny-deontay-wilder\n"
     ]
    },
    {
     "name": "stderr",
     "output_type": "stream",
     "text": [
      "Scraping Progress:   4%|▎         | 301/8402 [08:32<5:22:00,  2.38s/it]"
     ]
    },
    {
     "name": "stdout",
     "output_type": "stream",
     "text": [
      "Successfully fetched: https://bleacherreport.com/articles/2867391-the-10-defining-moments-for-wwe-in-the-last-decade\n"
     ]
    },
    {
     "name": "stderr",
     "output_type": "stream",
     "text": [
      "Scraping Progress:   4%|▎         | 302/8402 [08:33<4:47:06,  2.13s/it]"
     ]
    },
    {
     "name": "stdout",
     "output_type": "stream",
     "text": [
      "Successfully fetched: https://www.psychologytoday.com/us/blog/one-true-thing/201809/dawn-raffel-altruism-and-self-interest\n"
     ]
    },
    {
     "name": "stderr",
     "output_type": "stream",
     "text": [
      "Scraping Progress:   4%|▎         | 303/8402 [08:35<4:11:04,  1.86s/it]"
     ]
    },
    {
     "name": "stdout",
     "output_type": "stream",
     "text": [
      "Successfully fetched: https://www.cbr.com/x-23-sideshow-collectibles-statue/\n"
     ]
    },
    {
     "name": "stderr",
     "output_type": "stream",
     "text": [
      "Scraping Progress:   4%|▎         | 304/8402 [08:36<3:50:39,  1.71s/it]"
     ]
    },
    {
     "name": "stdout",
     "output_type": "stream",
     "text": [
      "Successfully fetched: https://io9.gizmodo.com/wonderfully-illogical-star-trek-headphones-and-more-of-1825163761\n"
     ]
    },
    {
     "name": "stderr",
     "output_type": "stream",
     "text": [
      "Scraping Progress:   4%|▎         | 305/8402 [08:38<3:56:21,  1.75s/it]"
     ]
    },
    {
     "name": "stdout",
     "output_type": "stream",
     "text": [
      "Successfully fetched: https://io9.gizmodo.com/dress-up-your-own-jeff-goldblum-and-more-of-the-goldbl-1824281997\n"
     ]
    },
    {
     "name": "stderr",
     "output_type": "stream",
     "text": [
      "Scraping Progress:   4%|▎         | 306/8402 [08:40<4:03:14,  1.80s/it]"
     ]
    },
    {
     "name": "stdout",
     "output_type": "stream",
     "text": [
      "Successfully fetched: https://www.stereogum.com/1998925/riot-fest-announces-initial-2018-lineup/news/\n"
     ]
    },
    {
     "name": "stderr",
     "output_type": "stream",
     "text": [
      "Scraping Progress:   4%|▎         | 307/8402 [08:42<4:32:17,  2.02s/it]"
     ]
    },
    {
     "name": "stdout",
     "output_type": "stream",
     "text": [
      "Successfully fetched: https://www.newyorker.com/culture/on-television/genius-junior-and-the-genial-throwback-kitsch-of-the-game-show-revival\n"
     ]
    },
    {
     "name": "stderr",
     "output_type": "stream",
     "text": [
      "Scraping Progress:   4%|▎         | 308/8402 [08:45<4:47:51,  2.13s/it]"
     ]
    },
    {
     "name": "stdout",
     "output_type": "stream",
     "text": [
      "Successfully fetched: https://www.businessinsider.com/what-happens-now-theresa-mays-brexit-deal-has-been-defeated-2019-1\n"
     ]
    },
    {
     "name": "stderr",
     "output_type": "stream",
     "text": [
      "Scraping Progress:   4%|▎         | 309/8402 [08:46<4:14:09,  1.88s/it]"
     ]
    },
    {
     "name": "stdout",
     "output_type": "stream",
     "text": [
      "Successfully fetched: https://nerdist.com/article/star-wars-collecting-a-galaxy-book-exclusive/\n"
     ]
    },
    {
     "name": "stderr",
     "output_type": "stream",
     "text": [
      "Scraping Progress:   4%|▎         | 310/8402 [08:47<3:57:44,  1.76s/it]"
     ]
    },
    {
     "name": "stdout",
     "output_type": "stream",
     "text": [
      "Successfully fetched: https://news.yahoo.com/israelis-head-polls-netanyahu-100339200.html\n"
     ]
    },
    {
     "name": "stderr",
     "output_type": "stream",
     "text": [
      "Scraping Progress:   4%|▎         | 311/8402 [08:50<4:08:15,  1.84s/it]"
     ]
    },
    {
     "name": "stdout",
     "output_type": "stream",
     "text": [
      "Successfully fetched: https://www.usatoday.com/story/news/politics/2019/09/24/gop-blasts-impeachment-inquiry-baseless-partisan-attack-trump/2434249001/?utm_source=google&utm_medium=amp&utm_campaign=speakable\n"
     ]
    },
    {
     "name": "stderr",
     "output_type": "stream",
     "text": [
      "Scraping Progress:   4%|▎         | 312/8402 [08:51<3:51:45,  1.72s/it]"
     ]
    },
    {
     "name": "stdout",
     "output_type": "stream",
     "text": [
      "Successfully fetched: https://www.theatlantic.com/entertainment/archive/2018/04/kendrick-lamar-pulitzer-prize/558197/\n"
     ]
    },
    {
     "name": "stderr",
     "output_type": "stream",
     "text": [
      "Scraping Progress:   4%|▎         | 313/8402 [08:53<4:09:51,  1.85s/it]"
     ]
    },
    {
     "name": "stdout",
     "output_type": "stream",
     "text": [
      "Successfully fetched: http://www.espn.com/racing/nascar/story/_/id/24303501/2018-nascar-furious-ceo-brian-france-dwi-arrest\n"
     ]
    },
    {
     "name": "stderr",
     "output_type": "stream",
     "text": [
      "Scraping Progress:   4%|▎         | 314/8402 [08:55<4:04:04,  1.81s/it]"
     ]
    },
    {
     "name": "stdout",
     "output_type": "stream",
     "text": [
      "Successfully fetched: https://pitchfork.com/news/foals-detail-new-album-share-song-exits-listen/\n"
     ]
    },
    {
     "name": "stderr",
     "output_type": "stream",
     "text": [
      "Scraping Progress:   4%|▎         | 315/8402 [08:57<4:06:41,  1.83s/it]"
     ]
    },
    {
     "name": "stdout",
     "output_type": "stream",
     "text": [
      "Successfully fetched: https://www.highsnobiety.com/p/affordable-art-fair-hong-kong-2018/\n"
     ]
    },
    {
     "name": "stderr",
     "output_type": "stream",
     "text": [
      "Scraping Progress:   4%|▍         | 316/8402 [08:59<4:06:18,  1.83s/it]"
     ]
    },
    {
     "name": "stdout",
     "output_type": "stream",
     "text": [
      "Successfully fetched: https://io9.gizmodo.com/ant-man-and-the-wasp-gets-a-snazzy-lego-set-and-more-o-1825685848\n"
     ]
    },
    {
     "name": "stderr",
     "output_type": "stream",
     "text": [
      "Scraping Progress:   4%|▍         | 317/8402 [09:00<4:09:01,  1.85s/it]"
     ]
    },
    {
     "name": "stdout",
     "output_type": "stream",
     "text": [
      "Successfully fetched: https://io9.gizmodo.com/a-master-sword-for-battling-rain-the-return-of-the-one-1822407804\n"
     ]
    },
    {
     "name": "stderr",
     "output_type": "stream",
     "text": [
      "Scraping Progress:   4%|▍         | 318/8402 [09:02<4:09:28,  1.85s/it]"
     ]
    },
    {
     "name": "stdout",
     "output_type": "stream",
     "text": [
      "Successfully fetched: https://www.theatlantic.com/international/archive/2018/08/steve-bannon-is-late-to-the-populist-party/567577/\n"
     ]
    },
    {
     "name": "stderr",
     "output_type": "stream",
     "text": [
      "Scraping Progress:   4%|▍         | 319/8402 [09:04<3:55:21,  1.75s/it]"
     ]
    },
    {
     "name": "stdout",
     "output_type": "stream",
     "text": [
      "Successfully fetched: https://news.yahoo.com/republicans-thought-yovanovitch-pushover-she-222139504.html\n"
     ]
    },
    {
     "name": "stderr",
     "output_type": "stream",
     "text": [
      "Scraping Progress:   4%|▍         | 320/8402 [09:06<4:01:24,  1.79s/it]"
     ]
    },
    {
     "name": "stdout",
     "output_type": "stream",
     "text": [
      "Successfully fetched: https://news.yahoo.com/republican-senators-wont-watching-trump-132629609.html\n"
     ]
    },
    {
     "name": "stderr",
     "output_type": "stream",
     "text": [
      "Scraping Progress:   4%|▍         | 321/8402 [09:08<4:04:03,  1.81s/it]"
     ]
    },
    {
     "name": "stdout",
     "output_type": "stream",
     "text": [
      "Cannot fetch https://www.fastcompany.com/40562328/how-this-african-american-pot-grower-is-mastering-californias-green-rush?partner=feedburner&utm_source=feedburner&utm_medium=feed&utm_campaign=Feed%3A+fastcompany%2Fheadlines+%28Fast+Company%29, HTTP error: 403 Client Error: Forbidden for url: https://www.fastcompany.com/40562328/how-this-african-american-pot-grower-is-mastering-californias-green-rush?partner=feedburner&utm_source=feedburner&utm_medium=feed&utm_campaign=Feed%3A+fastcompany%2Fheadlines+%28Fast+Company%29\n"
     ]
    },
    {
     "name": "stderr",
     "output_type": "stream",
     "text": [
      "Scraping Progress:   4%|▍         | 322/8402 [09:09<3:37:50,  1.62s/it]"
     ]
    },
    {
     "name": "stdout",
     "output_type": "stream",
     "text": [
      "Successfully fetched: https://io9.gizmodo.com/hellboy-waffle-makers-overwatch-nerf-blasters-and-mo-1827802322\n"
     ]
    },
    {
     "name": "stderr",
     "output_type": "stream",
     "text": [
      "Scraping Progress:   4%|▍         | 323/8402 [09:11<3:50:02,  1.71s/it]"
     ]
    },
    {
     "name": "stdout",
     "output_type": "stream",
     "text": [
      "Successfully fetched: https://www.cbr.com/best-batman-collectibles-sideshow-collectibles/\n"
     ]
    },
    {
     "name": "stderr",
     "output_type": "stream",
     "text": [
      "Scraping Progress:   4%|▍         | 324/8402 [09:12<3:34:02,  1.59s/it]"
     ]
    },
    {
     "name": "stdout",
     "output_type": "stream",
     "text": [
      "Cannot fetch https://nerdist.com/massive-magneto-figure-will-be-the-x-factor-in-your-collection/, HTTP error: 404 Client Error: Not Found for url: https://nerdist.com/massive-magneto-figure-will-be-the-x-factor-in-your-collection/\n"
     ]
    },
    {
     "name": "stderr",
     "output_type": "stream",
     "text": [
      "Scraping Progress:   4%|▍         | 325/8402 [09:14<3:41:24,  1.64s/it]"
     ]
    },
    {
     "name": "stdout",
     "output_type": "stream",
     "text": [
      "Successfully fetched: https://www.cbr.com/sideshow-collectibles-gifts-holiday-season/\n"
     ]
    },
    {
     "name": "stderr",
     "output_type": "stream",
     "text": [
      "Scraping Progress:   4%|▍         | 326/8402 [09:15<3:26:32,  1.53s/it]"
     ]
    },
    {
     "name": "stdout",
     "output_type": "stream",
     "text": [
      "Successfully fetched: https://www.slashfilm.com/superhero-bits-1712/\n"
     ]
    },
    {
     "name": "stderr",
     "output_type": "stream",
     "text": [
      "Scraping Progress:   4%|▍         | 327/8402 [09:18<4:09:18,  1.85s/it]"
     ]
    },
    {
     "name": "stdout",
     "output_type": "stream",
     "text": [
      "Successfully fetched: https://www.stereogum.com/1986678/martin-shkreli-sentenced-to-7-years-in-prison/news/\n"
     ]
    },
    {
     "name": "stderr",
     "output_type": "stream",
     "text": [
      "Scraping Progress:   4%|▍         | 328/8402 [09:20<4:28:45,  2.00s/it]"
     ]
    },
    {
     "name": "stdout",
     "output_type": "stream",
     "text": [
      "Successfully fetched: https://hypebeast.com/2019/3/under-armour-icon-curry-6-womens-day-release\n"
     ]
    },
    {
     "name": "stderr",
     "output_type": "stream",
     "text": [
      "Scraping Progress:   4%|▍         | 329/8402 [09:22<4:33:00,  2.03s/it]"
     ]
    },
    {
     "name": "stdout",
     "output_type": "stream",
     "text": [
      "Cannot fetch https://www.destructoid.com/when-brigitte-debuts-in-the-overwatch-league-next-week-she-won-t-have-her-nerfs-in-tow-502408.phtml, HTTP error: 404 Client Error: Not Found for url: https://www.destructoid.com/when-brigitte-debuts-in-the-overwatch-league-next-week-she-won-t-have-her-nerfs-in-tow-502408.phtml\n"
     ]
    },
    {
     "name": "stderr",
     "output_type": "stream",
     "text": [
      "Scraping Progress:   4%|▍         | 330/8402 [09:24<4:15:37,  1.90s/it]"
     ]
    },
    {
     "name": "stdout",
     "output_type": "stream",
     "text": [
      "Successfully fetched: https://www.nakedcapitalism.com/2018/11/erasing-economics-economic-policy-politics-race-xenophobia-sideshow.html\n"
     ]
    },
    {
     "name": "stderr",
     "output_type": "stream",
     "text": [
      "Scraping Progress:   4%|▍         | 331/8402 [09:26<4:53:58,  2.19s/it]"
     ]
    },
    {
     "name": "stdout",
     "output_type": "stream",
     "text": [
      "Successfully fetched: https://www.vice.com/en_us/article/wjp3by/im-sorry-i-hyped-oprah-2020\n"
     ]
    },
    {
     "name": "stderr",
     "output_type": "stream",
     "text": [
      "Scraping Progress:   4%|▍         | 332/8402 [09:28<4:45:19,  2.12s/it]"
     ]
    },
    {
     "name": "stdout",
     "output_type": "stream",
     "text": [
      "Successfully fetched: https://www.thedailybeast.com/john-bolton-syria-is-a-sideshow\n"
     ]
    },
    {
     "name": "stderr",
     "output_type": "stream",
     "text": [
      "Scraping Progress:   4%|▍         | 333/8402 [09:31<4:50:47,  2.16s/it]"
     ]
    },
    {
     "name": "stdout",
     "output_type": "stream",
     "text": [
      "Successfully fetched: https://www.comingsoon.net/movies/features/1021389-exclusive-first-look-at-sideshows-alien-mythos-bust\n"
     ]
    },
    {
     "name": "stderr",
     "output_type": "stream",
     "text": [
      "Scraping Progress:   4%|▍         | 334/8402 [09:32<4:31:10,  2.02s/it]"
     ]
    },
    {
     "name": "stdout",
     "output_type": "stream",
     "text": [
      "Successfully fetched: https://www.cbr.com/sideshow-collectibles-books/\n"
     ]
    },
    {
     "name": "stderr",
     "output_type": "stream",
     "text": [
      "Scraping Progress:   4%|▍         | 335/8402 [09:34<4:02:12,  1.80s/it]"
     ]
    },
    {
     "name": "stdout",
     "output_type": "stream",
     "text": [
      "Successfully fetched: https://geekologie.com/2018/10/well-hello-there-sexy-lounging-dr-ian-ma.php\n"
     ]
    },
    {
     "name": "stderr",
     "output_type": "stream",
     "text": [
      "Scraping Progress:   4%|▍         | 336/8402 [09:35<4:00:23,  1.79s/it]"
     ]
    },
    {
     "name": "stdout",
     "output_type": "stream",
     "text": [
      "Cannot fetch https://film.avclub.com/tim-burton-s-live-action-dumbo-bites-the-corporate-hand-1833553819, error: HTTPSConnectionPool(host='film.avclub.com', port=443): Max retries exceeded with url: /tim-burton-s-live-action-dumbo-bites-the-corporate-hand-1833553819 (Caused by NewConnectionError('<urllib3.connection.HTTPSConnection object at 0x1112145d0>: Failed to establish a new connection: [Errno 8] nodename nor servname provided, or not known'))\n"
     ]
    },
    {
     "name": "stderr",
     "output_type": "stream",
     "text": [
      "Scraping Progress:   4%|▍         | 337/8402 [09:36<3:28:54,  1.55s/it]"
     ]
    },
    {
     "name": "stdout",
     "output_type": "stream",
     "text": [
      "Cannot fetch https://dealbreaker.com/2018/11/anthony-scaramucci-begins-the-launching-reits-with-grace-from-will-graces-brother-stage-of-his-comeback/, HTTP error: 403 Client Error: Forbidden for url: https://dealbreaker.com/2018/11/anthony-scaramucci-begins-the-launching-reits-with-grace-from-will-graces-brother-stage-of-his-comeback/\n"
     ]
    },
    {
     "name": "stderr",
     "output_type": "stream",
     "text": [
      "Scraping Progress:   4%|▍         | 338/8402 [09:38<3:17:36,  1.47s/it]"
     ]
    },
    {
     "name": "stdout",
     "output_type": "stream",
     "text": [
      "Successfully fetched: https://www.si.com/soccer/2018/07/11/mattia-perin-hails-huge-bonus-cristiano-ronaldo-arrival-juventus-unveiling\n"
     ]
    },
    {
     "name": "stderr",
     "output_type": "stream",
     "text": [
      "Scraping Progress:   4%|▍         | 339/8402 [09:39<3:20:11,  1.49s/it]"
     ]
    },
    {
     "name": "stdout",
     "output_type": "stream",
     "text": [
      "Successfully fetched: http://www.foxnews.com/science/2018/08/16/stern-us-ww-ii-destroyer-discovered-near-remote-alaskan-island-survivor-recounts-harrowing-day.html\n"
     ]
    },
    {
     "name": "stderr",
     "output_type": "stream",
     "text": [
      "Scraping Progress:   4%|▍         | 340/8402 [09:41<3:21:17,  1.50s/it]"
     ]
    },
    {
     "name": "stdout",
     "output_type": "stream",
     "text": [
      "Cannot fetch https://aux.avclub.com/what-are-you-reading-in-february-1832401000, error: HTTPSConnectionPool(host='aux.avclub.com', port=443): Max retries exceeded with url: /what-are-you-reading-in-february-1832401000 (Caused by NewConnectionError('<urllib3.connection.HTTPSConnection object at 0x1112a6850>: Failed to establish a new connection: [Errno 8] nodename nor servname provided, or not known'))\n"
     ]
    },
    {
     "name": "stderr",
     "output_type": "stream",
     "text": [
      "Scraping Progress:   4%|▍         | 341/8402 [09:42<3:05:29,  1.38s/it]"
     ]
    },
    {
     "name": "stdout",
     "output_type": "stream",
     "text": [
      "Successfully fetched: https://thinkprogress.org/mitch-mcconnell-calls-experienced-lawyer-hired-for-kavanaugh-hearing-female-assistant-358d34719938/\n"
     ]
    },
    {
     "name": "stderr",
     "output_type": "stream",
     "text": [
      "Scraping Progress:   4%|▍         | 342/8402 [09:43<3:00:42,  1.35s/it]"
     ]
    },
    {
     "name": "stdout",
     "output_type": "stream",
     "text": [
      "Successfully fetched: https://www.espn.com/boxing/story/_/id/28013721/the-strange-unusual-history-celebrity-boxing\n"
     ]
    },
    {
     "name": "stderr",
     "output_type": "stream",
     "text": [
      "Scraping Progress:   4%|▍         | 343/8402 [09:44<2:58:29,  1.33s/it]"
     ]
    },
    {
     "name": "stdout",
     "output_type": "stream",
     "text": [
      "Successfully fetched: https://www.slashfilm.com/superhero-bits-1646/\n"
     ]
    },
    {
     "name": "stderr",
     "output_type": "stream",
     "text": [
      "Scraping Progress:   4%|▍         | 344/8402 [09:46<3:02:11,  1.36s/it]"
     ]
    },
    {
     "name": "stdout",
     "output_type": "stream",
     "text": [
      "Successfully fetched: https://www.polygon.com/2019/7/2/20677759/etika-desmond-amofah-mental-health-illness-youtube\n"
     ]
    },
    {
     "name": "stderr",
     "output_type": "stream",
     "text": [
      "Scraping Progress:   4%|▍         | 345/8402 [09:47<2:56:49,  1.32s/it]"
     ]
    },
    {
     "name": "stdout",
     "output_type": "stream",
     "text": [
      "Successfully fetched: https://www.espn.com/soccer/soccer-transfers/story/3934626/psg-the-big-losersinter-and-atletico-winners-in-europes-summer-transfer-window\n"
     ]
    },
    {
     "name": "stderr",
     "output_type": "stream",
     "text": [
      "Scraping Progress:   4%|▍         | 346/8402 [09:49<3:11:21,  1.43s/it]"
     ]
    },
    {
     "name": "stdout",
     "output_type": "stream",
     "text": [
      "Successfully fetched: https://kotaku.com/total-war-three-kingdoms-the-kotaku-review-1834993637\n"
     ]
    },
    {
     "name": "stderr",
     "output_type": "stream",
     "text": [
      "Scraping Progress:   4%|▍         | 347/8402 [09:50<3:10:03,  1.42s/it]"
     ]
    },
    {
     "name": "stdout",
     "output_type": "stream",
     "text": [
      "Successfully fetched: https://www.huffpost.com/entry/zion-williamson-duke-injury-shoe-ncaa_n_5c6e1aa1e4b0e37a1ed4c4c2\n"
     ]
    },
    {
     "name": "stderr",
     "output_type": "stream",
     "text": [
      "Scraping Progress:   4%|▍         | 348/8402 [09:51<3:03:10,  1.36s/it]"
     ]
    },
    {
     "name": "stdout",
     "output_type": "stream",
     "text": [
      "Successfully fetched: http://www.skysports.com/football/news/12020/11494696/martin-oneill-denies-problem-exists-between-roy-keane-and-some-republic-of-ireland-players\n"
     ]
    },
    {
     "name": "stderr",
     "output_type": "stream",
     "text": [
      "Scraping Progress:   4%|▍         | 349/8402 [09:53<3:28:17,  1.55s/it]"
     ]
    },
    {
     "name": "stdout",
     "output_type": "stream",
     "text": [
      "Successfully fetched: https://www.huffpost.com/entry/democrats-impeachment-time_n_5d9648f1e4b0da7f66239987\n"
     ]
    },
    {
     "name": "stderr",
     "output_type": "stream",
     "text": [
      "Scraping Progress:   4%|▍         | 350/8402 [09:55<3:13:27,  1.44s/it]"
     ]
    },
    {
     "name": "stdout",
     "output_type": "stream",
     "text": [
      "Successfully fetched: https://www.slashfilm.com/mark-hamill-beard-star-wars-episode-9/\n"
     ]
    },
    {
     "name": "stderr",
     "output_type": "stream",
     "text": [
      "Scraping Progress:   4%|▍         | 352/8402 [09:58<3:43:16,  1.66s/it]"
     ]
    },
    {
     "name": "stdout",
     "output_type": "stream",
     "text": [
      "Successfully fetched: https://www.vanityfair.com/hollywood/2019/03/donald-trump-jay-leno-late-night-one-sided\n"
     ]
    },
    {
     "name": "stderr",
     "output_type": "stream",
     "text": [
      "Scraping Progress:   4%|▍         | 353/8402 [10:01<4:02:37,  1.81s/it]"
     ]
    },
    {
     "name": "stdout",
     "output_type": "stream",
     "text": [
      "Successfully fetched: http://www.comingsoon.net/extras/features/960867-alien-egg-statue\n"
     ]
    },
    {
     "name": "stderr",
     "output_type": "stream",
     "text": [
      "Scraping Progress:   4%|▍         | 354/8402 [10:03<4:10:01,  1.86s/it]"
     ]
    },
    {
     "name": "stdout",
     "output_type": "stream",
     "text": [
      "Successfully fetched: https://www.tomshw.it/culturapop/ghostbusters-4-nuove-statue-da-hollywood-collectibles-group/\n"
     ]
    },
    {
     "name": "stderr",
     "output_type": "stream",
     "text": [
      "Scraping Progress:   4%|▍         | 355/8402 [10:05<4:33:38,  2.04s/it]"
     ]
    },
    {
     "name": "stdout",
     "output_type": "stream",
     "text": [
      "Successfully fetched: https://www.vice.com/en_us/article/kzjm5a/hurley-from-lost-builds-an-insane-haunted-house-in-hawaii-every-halloween\n"
     ]
    },
    {
     "name": "stderr",
     "output_type": "stream",
     "text": [
      "Scraping Progress:   4%|▍         | 356/8402 [10:07<4:30:15,  2.02s/it]"
     ]
    },
    {
     "name": "stdout",
     "output_type": "stream",
     "text": [
      "Successfully fetched: https://www.cbr.com/sideshow-superman-call-to-action-premium-figure/\n"
     ]
    },
    {
     "name": "stderr",
     "output_type": "stream",
     "text": [
      "Scraping Progress:   4%|▍         | 357/8402 [10:08<4:04:12,  1.82s/it]"
     ]
    },
    {
     "name": "stdout",
     "output_type": "stream",
     "text": [
      "Cannot fetch https://www.marketwatch.com/story/ges-biggest-mistake-is-doubling-down-on-its-habit-of-safe-thinking-2018-05-07, HTTP error: 401 Client Error: HTTP Forbidden for url: https://www.marketwatch.com/story/ges-biggest-mistake-is-doubling-down-on-its-habit-of-safe-thinking-2018-05-07\n"
     ]
    },
    {
     "name": "stderr",
     "output_type": "stream",
     "text": [
      "Scraping Progress:   4%|▍         | 358/8402 [10:09<3:35:43,  1.61s/it]"
     ]
    },
    {
     "name": "stdout",
     "output_type": "stream",
     "text": [
      "Successfully fetched: https://www.cbr.com/sideshow-spectacular-2019-gifts-dc-fans/\n"
     ]
    },
    {
     "name": "stderr",
     "output_type": "stream",
     "text": [
      "Scraping Progress:   4%|▍         | 359/8402 [10:11<3:24:41,  1.53s/it]"
     ]
    },
    {
     "name": "stdout",
     "output_type": "stream",
     "text": [
      "Successfully fetched: https://www.thedailybeast.com/what-kanye-wests-trump-sideshow-is-distracting-us-from\n"
     ]
    },
    {
     "name": "stderr",
     "output_type": "stream",
     "text": [
      "Scraping Progress:   4%|▍         | 360/8402 [10:13<3:56:04,  1.76s/it]"
     ]
    },
    {
     "name": "stdout",
     "output_type": "stream",
     "text": [
      "Successfully fetched: https://slate.com/news-and-politics/2019/02/2015-presidential-campaign-polls-scott-walker-jeb-bush-trump.html\n"
     ]
    },
    {
     "name": "stderr",
     "output_type": "stream",
     "text": [
      "Scraping Progress:   4%|▍         | 361/8402 [10:15<3:50:07,  1.72s/it]"
     ]
    },
    {
     "name": "stdout",
     "output_type": "stream",
     "text": [
      "Successfully fetched: https://nerdist.com/aquaman-sideshow-toys-statue/\n"
     ]
    },
    {
     "name": "stderr",
     "output_type": "stream",
     "text": [
      "Scraping Progress:   4%|▍         | 362/8402 [10:17<3:56:22,  1.76s/it]"
     ]
    },
    {
     "name": "stdout",
     "output_type": "stream",
     "text": [
      "Successfully fetched: https://seekingalpha.com/article/4234597-weighing-week-ahead-real-time-economics-lesson-continues\n"
     ]
    },
    {
     "name": "stderr",
     "output_type": "stream",
     "text": [
      "Scraping Progress:   4%|▍         | 363/8402 [10:18<4:00:56,  1.80s/it]"
     ]
    },
    {
     "name": "stdout",
     "output_type": "stream",
     "text": [
      "Successfully fetched: https://www.theatlantic.com/politics/archive/2019/05/trump-ask-mcgahn-defy-subpoena-politics-daily/589891/\n"
     ]
    },
    {
     "name": "stderr",
     "output_type": "stream",
     "text": [
      "Scraping Progress:   4%|▍         | 364/8402 [10:20<3:55:16,  1.76s/it]"
     ]
    },
    {
     "name": "stdout",
     "output_type": "stream",
     "text": [
      "Successfully fetched: https://www.newyorker.com/culture/postscript/luke-perry-knew-what-he-meant-to-so-many\n"
     ]
    },
    {
     "name": "stderr",
     "output_type": "stream",
     "text": [
      "Scraping Progress:   4%|▍         | 365/8402 [10:22<4:07:56,  1.85s/it]"
     ]
    },
    {
     "name": "stdout",
     "output_type": "stream",
     "text": [
      "Cannot fetch https://www.cnet.com/news/as-the-simpsons-turns-30-this-superfan-picks-the-best-20-episodes-ever/, connection timed out.\n"
     ]
    },
    {
     "name": "stderr",
     "output_type": "stream",
     "text": [
      "Scraping Progress:   4%|▍         | 366/8402 [10:34<10:47:52,  4.84s/it]"
     ]
    },
    {
     "name": "stdout",
     "output_type": "stream",
     "text": [
      "Successfully fetched: https://deadline.com/2018/09/burning-kiss-trailer-1202458148/\n"
     ]
    },
    {
     "name": "stderr",
     "output_type": "stream",
     "text": [
      "Scraping Progress:   4%|▍         | 367/8402 [10:36<9:07:12,  4.09s/it] "
     ]
    },
    {
     "name": "stdout",
     "output_type": "stream",
     "text": [
      "Cannot fetch https://nerdist.com/masters-of-the-universe-orko-statue-sideshow-collectibles/, HTTP error: 404 Client Error: Not Found for url: https://nerdist.com/masters-of-the-universe-orko-statue-sideshow-collectibles/\n"
     ]
    },
    {
     "name": "stderr",
     "output_type": "stream",
     "text": [
      "Scraping Progress:   4%|▍         | 368/8402 [10:38<7:41:47,  3.45s/it]"
     ]
    },
    {
     "name": "stdout",
     "output_type": "stream",
     "text": [
      "Successfully fetched: https://screenrant.com/green-arrow-premium-format-figure/\n"
     ]
    },
    {
     "name": "stderr",
     "output_type": "stream",
     "text": [
      "Scraping Progress:   4%|▍         | 369/8402 [10:40<6:18:41,  2.83s/it]"
     ]
    },
    {
     "name": "stdout",
     "output_type": "stream",
     "text": [
      "Successfully fetched: https://www.theatlantic.com/ideas/archive/2019/09/trumps-pointless-lie-hurricane-dorian-and-alabama/597469/\n"
     ]
    },
    {
     "name": "stderr",
     "output_type": "stream",
     "text": [
      "Scraping Progress:   4%|▍         | 371/8402 [10:43<5:15:44,  2.36s/it]"
     ]
    },
    {
     "name": "stdout",
     "output_type": "stream",
     "text": [
      "Successfully fetched: https://www.bleedingcool.com/2018/03/08/dc-collectibles-sideshow-new-partnership/\n"
     ]
    },
    {
     "name": "stderr",
     "output_type": "stream",
     "text": [
      "Scraping Progress:   4%|▍         | 372/8402 [10:45<4:34:51,  2.05s/it]"
     ]
    },
    {
     "name": "stdout",
     "output_type": "stream",
     "text": [
      "Successfully fetched: https://seekingalpha.com/article/4204560-tesla-additional-things-now-know-elon-musk\n"
     ]
    },
    {
     "name": "stderr",
     "output_type": "stream",
     "text": [
      "Scraping Progress:   4%|▍         | 373/8402 [10:46<4:24:08,  1.97s/it]"
     ]
    },
    {
     "name": "stdout",
     "output_type": "stream",
     "text": [
      "Successfully fetched: https://www.cbr.com/black-friday-deals-2019/\n"
     ]
    },
    {
     "name": "stderr",
     "output_type": "stream",
     "text": [
      "Scraping Progress:   4%|▍         | 374/8402 [10:48<3:58:33,  1.78s/it]"
     ]
    },
    {
     "name": "stdout",
     "output_type": "stream",
     "text": [
      "Successfully fetched: https://www.cbr.com/justice-league-deals-sideshow-collectibles/\n"
     ]
    },
    {
     "name": "stderr",
     "output_type": "stream",
     "text": [
      "Scraping Progress:   4%|▍         | 375/8402 [10:49<3:41:44,  1.66s/it]"
     ]
    },
    {
     "name": "stdout",
     "output_type": "stream",
     "text": [
      "Successfully fetched: https://www.npr.org/2018/01/19/579195588/get-caught-up-trumps-alleged-affair-with-adult-film-star-stormy-daniels\n"
     ]
    },
    {
     "name": "stderr",
     "output_type": "stream",
     "text": [
      "Scraping Progress:   4%|▍         | 376/8402 [10:51<3:52:03,  1.73s/it]"
     ]
    },
    {
     "name": "stdout",
     "output_type": "stream",
     "text": [
      "Successfully fetched: http://time.com/5247858/impossible-foods-meat-plant-based-agriculture/\n"
     ]
    },
    {
     "name": "stderr",
     "output_type": "stream",
     "text": [
      "Scraping Progress:   4%|▍         | 377/8402 [10:53<4:03:50,  1.82s/it]"
     ]
    },
    {
     "name": "stdout",
     "output_type": "stream",
     "text": [
      "Successfully fetched: https://www.tomshw.it/culturapop/pennywise-hot-toys-presenta-la-sua-figure/\n"
     ]
    },
    {
     "name": "stderr",
     "output_type": "stream",
     "text": [
      "Scraping Progress:   4%|▍         | 378/8402 [10:55<3:57:12,  1.77s/it]"
     ]
    },
    {
     "name": "stdout",
     "output_type": "stream",
     "text": [
      "Successfully fetched: https://www.cbr.com/star-wars-mandalorian-remnant-stormtrooper-hot-toys/\n"
     ]
    },
    {
     "name": "stderr",
     "output_type": "stream",
     "text": [
      "Scraping Progress:   5%|▍         | 379/8402 [10:56<3:42:27,  1.66s/it]"
     ]
    },
    {
     "name": "stdout",
     "output_type": "stream",
     "text": [
      "Successfully fetched: https://geekologie.com/2019/11/finally-a-decent-life-size-alien-queen-h.php\n"
     ]
    },
    {
     "name": "stderr",
     "output_type": "stream",
     "text": [
      "Scraping Progress:   5%|▍         | 380/8402 [10:57<3:27:30,  1.55s/it]"
     ]
    },
    {
     "name": "stdout",
     "output_type": "stream",
     "text": [
      "Successfully fetched: https://www.yahoo.com/news/kim-yo-jong-arrives-south-075914578.html\n"
     ]
    },
    {
     "name": "stderr",
     "output_type": "stream",
     "text": [
      "Scraping Progress:   5%|▍         | 381/8402 [10:59<3:33:09,  1.59s/it]"
     ]
    },
    {
     "name": "stdout",
     "output_type": "stream",
     "text": [
      "Cannot fetch https://www.yahoo.com/news/trump-battles-furor-over-stormy-daniels-hush-payment-180343172.html, HTTP error: 404 Client Error: Not Found for url: https://www.yahoo.com/news/trump-battles-furor-over-stormy-daniels-hush-payment-180343172.html\n"
     ]
    },
    {
     "name": "stderr",
     "output_type": "stream",
     "text": [
      "Scraping Progress:   5%|▍         | 382/8402 [11:00<3:22:04,  1.51s/it]"
     ]
    },
    {
     "name": "stdout",
     "output_type": "stream",
     "text": [
      "Cannot fetch https://cleantechnica.com/2018/11/30/trump-administration-plans-cop24-coal-sideshow/, HTTP error: 403 Client Error: Forbidden for url: https://cleantechnica.com/2018/11/30/trump-administration-plans-cop24-coal-sideshow/\n"
     ]
    },
    {
     "name": "stderr",
     "output_type": "stream",
     "text": [
      "Scraping Progress:   5%|▍         | 383/8402 [11:02<3:20:17,  1.50s/it]"
     ]
    },
    {
     "name": "stdout",
     "output_type": "stream",
     "text": [
      "Successfully fetched: https://io9.gizmodo.com/magneto-gets-a-gleaming-new-figure-and-more-of-the-shi-1830979921\n"
     ]
    },
    {
     "name": "stderr",
     "output_type": "stream",
     "text": [
      "Scraping Progress:   5%|▍         | 384/8402 [11:04<3:37:55,  1.63s/it]"
     ]
    },
    {
     "name": "stdout",
     "output_type": "stream",
     "text": [
      "Successfully fetched: https://paw.princeton.edu/article/anthony-grafton-defends-footnote\n"
     ]
    },
    {
     "name": "stderr",
     "output_type": "stream",
     "text": [
      "Scraping Progress:   5%|▍         | 385/8402 [11:06<3:43:42,  1.67s/it]"
     ]
    }
   ],
   "source": [
    "import pandas as pd\n",
    "import requests\n",
    "from bs4 import BeautifulSoup\n",
    "from tqdm import tqdm\n",
    "import time\n",
    "\n",
    "# Load the CSV file containing URLs\n",
    "data = pd.read_csv('../data/sideshow/sideshow_2018_2019.csv') \n",
    "urls = data['url'].tolist() \n",
    "\n",
    "# Function to fetch the main text content from a webpage\n",
    "def fetch_text_from_url(url):\n",
    "    headers = {\n",
    "        \"User-Agent\": \"Mozilla/5.0 (Windows NT 10.0; Win64; x64) AppleWebKit/537.36 (KHTML, like Gecko) Chrome/87.0.4280.88 Safari/537.36\"\n",
    "    }\n",
    "    try:\n",
    "        response = requests.get(url, headers=headers, timeout=10)\n",
    "        response.raise_for_status()  # Check if the request was successful\n",
    "        soup = BeautifulSoup(response.text, 'html.parser')\n",
    "        \n",
    "        # Extract content within <p> tags\n",
    "        paragraphs = soup.find_all('p')\n",
    "        text_content = \"\\n\".join([p.get_text() for p in paragraphs if p.get_text()])\n",
    "        \n",
    "        return text_content\n",
    "    except requests.exceptions.HTTPError as http_err:\n",
    "        print(f\"Cannot fetch {url}, HTTP error: {http_err}\")\n",
    "    except requests.exceptions.Timeout:\n",
    "        print(f\"Cannot fetch {url}, connection timed out.\")\n",
    "    except requests.exceptions.RequestException as e:\n",
    "        print(f\"Cannot fetch {url}, error: {e}\")\n",
    "    return None\n",
    "\n",
    "# Scrape text content for each URL and display progress\n",
    "all_texts = []\n",
    "for url in tqdm(urls, desc=\"Scraping Progress\", leave=True):  # `leave=True` keeps progress bar on one line\n",
    "    text = fetch_text_from_url(url)\n",
    "    if text:\n",
    "        print(f\"Successfully fetched: {url}\")  # Print success message for each URL fetched\n",
    "        all_texts.append(text)\n",
    "    else:\n",
    "        all_texts.append(\"\")  # Add an empty string if fetching fails\n",
    "    time.sleep(1)  # Add delay to avoid being blocked\n",
    "\n",
    "# Add the fetched content to the DataFrame and save to a new CSV file\n",
    "data['text'] = all_texts\n",
    "data.to_csv('/mnt/data/sideshow_with_texts.csv', index=False)\n",
    "print(\"Scraping completed, file saved as sideshow_with_texts.csv\")\n"
   ]
  },
  {
   "cell_type": "code",
   "execution_count": null,
   "metadata": {},
   "outputs": [],
   "source": []
  }
 ],
 "metadata": {
  "kernelspec": {
   "display_name": "My Custom Environment",
   "language": "python",
   "name": "your_environment_name"
  },
  "language_info": {
   "codemirror_mode": {
    "name": "ipython",
    "version": 3
   },
   "file_extension": ".py",
   "mimetype": "text/x-python",
   "name": "python",
   "nbconvert_exporter": "python",
   "pygments_lexer": "ipython3",
   "version": "3.11.3"
  }
 },
 "nbformat": 4,
 "nbformat_minor": 2
}
