{
 "cells": [
  {
   "cell_type": "code",
   "execution_count": 6,
   "metadata": {},
   "outputs": [],
   "source": [
    "import pandas as pd\n",
    "import matplotlib.pyplot as plt\n",
    "import numpy as np\n",
    "import requests\n",
    "from tqdm import tqdm\n",
    "from bs4 import BeautifulSoup\n",
    "import time"
   ]
  },
  {
   "cell_type": "code",
   "execution_count": 10,
   "metadata": {},
   "outputs": [
    {
     "name": "stderr",
     "output_type": "stream",
     "text": [
      "Scraping Progress:   0%|          | 0/8402 [00:00<?, ?it/s]"
     ]
    },
    {
     "name": "stdout",
     "output_type": "stream",
     "text": [
      "Successfully fetched: https://thetakeout.com/with-gwen-s-peanut-butter-better-sauce-even-broccoli-i-1826413956\n"
     ]
    },
    {
     "name": "stderr",
     "output_type": "stream",
     "text": [
      "Scraping Progress:   0%|          | 1/8402 [00:01<3:01:09,  1.29s/it]"
     ]
    },
    {
     "name": "stdout",
     "output_type": "stream",
     "text": [
      "Successfully fetched: https://gizmodo.com/after-trump-rants-top-gop-senator-asks-ftc-to-re-open-1828724049\n"
     ]
    },
    {
     "name": "stderr",
     "output_type": "stream",
     "text": [
      "Scraping Progress:   0%|          | 2/8402 [00:02<2:49:21,  1.21s/it]"
     ]
    },
    {
     "name": "stdout",
     "output_type": "stream",
     "text": [
      "Successfully fetched: https://mashable.com/2018/02/12/black-panther-action-figure/\n"
     ]
    },
    {
     "name": "stderr",
     "output_type": "stream",
     "text": [
      "Scraping Progress:   0%|          | 3/8402 [00:03<2:47:38,  1.20s/it]"
     ]
    },
    {
     "name": "stdout",
     "output_type": "stream",
     "text": [
      "Successfully fetched: http://techcrunch.com/2018/10/07/elon-musk-deserves-tougher-love-from-the-sec/\n"
     ]
    },
    {
     "name": "stderr",
     "output_type": "stream",
     "text": [
      "Scraping Progress:   0%|          | 4/8402 [00:04<2:55:56,  1.26s/it]"
     ]
    },
    {
     "name": "stdout",
     "output_type": "stream",
     "text": [
      "Successfully fetched: https://www.theverge.com/2019/1/9/18176044/10g-program-cable-companies-5g-mobile-broadband-internet-ces-2019\n"
     ]
    },
    {
     "name": "stderr",
     "output_type": "stream",
     "text": [
      "Scraping Progress:   0%|          | 5/8402 [00:06<2:50:54,  1.22s/it]"
     ]
    },
    {
     "name": "stdout",
     "output_type": "stream",
     "text": [
      "Successfully fetched: https://www.entrepreneur.com/article/318280\n"
     ]
    },
    {
     "name": "stderr",
     "output_type": "stream",
     "text": [
      "Scraping Progress:   0%|          | 6/8402 [00:07<2:49:19,  1.21s/it]"
     ]
    },
    {
     "name": "stdout",
     "output_type": "stream",
     "text": [
      "Successfully fetched: https://gizmodo.com/area-man-obscure-sidekick-asked-to-leave-google-fibers-1826028038\n"
     ]
    },
    {
     "name": "stderr",
     "output_type": "stream",
     "text": [
      "Scraping Progress:   0%|          | 7/8402 [00:08<2:47:05,  1.19s/it]"
     ]
    },
    {
     "name": "stdout",
     "output_type": "stream",
     "text": [
      "Cannot fetch https://www.reuters.com/article/us-climate-change-accord-trump-exclusive-idUSKCN1NK1MJ, HTTP error: 401 Client Error: HTTP Forbidden for url: https://www.reuters.com/article/us-climate-change-accord-trump-exclusive-idUSKCN1NK1MJ\n"
     ]
    },
    {
     "name": "stderr",
     "output_type": "stream",
     "text": [
      "Scraping Progress:   0%|          | 8/8402 [00:09<2:49:03,  1.21s/it]"
     ]
    },
    {
     "name": "stdout",
     "output_type": "stream",
     "text": [
      "Successfully fetched: http://mashable.com/2018/01/16/orrin-hatch-imaginary-glasses/\n"
     ]
    },
    {
     "name": "stderr",
     "output_type": "stream",
     "text": [
      "Scraping Progress:   0%|          | 9/8402 [00:10<2:51:37,  1.23s/it]"
     ]
    },
    {
     "name": "stdout",
     "output_type": "stream",
     "text": [
      "Successfully fetched: https://www.cnet.com/news/amazon-prime-day-evolves-from-goofy-sideshow-to-black-friday-esque-phenom/\n"
     ]
    },
    {
     "name": "stderr",
     "output_type": "stream",
     "text": [
      "Scraping Progress:   0%|          | 10/8402 [00:12<3:24:18,  1.46s/it]"
     ]
    },
    {
     "name": "stdout",
     "output_type": "stream",
     "text": [
      "Successfully fetched: https://news.yahoo.com/obsessed-fyre-fest-drama-netflix-021723565.html\n"
     ]
    },
    {
     "name": "stderr",
     "output_type": "stream",
     "text": [
      "Scraping Progress:   0%|          | 11/8402 [00:14<3:43:55,  1.60s/it]"
     ]
    },
    {
     "name": "stdout",
     "output_type": "stream",
     "text": [
      "Cannot fetch https://earther.gizmodo.com/trump-officially-nominates-coal-shill-andrew-wheeler-to-1831629921, error: HTTPSConnectionPool(host='earther.gizmodo.com', port=443): Max retries exceeded with url: /trump-officially-nominates-coal-shill-andrew-wheeler-to-1831629921 (Caused by NewConnectionError('<urllib3.connection.HTTPSConnection object at 0x117da2290>: Failed to establish a new connection: [Errno 8] nodename nor servname provided, or not known'))\n"
     ]
    },
    {
     "name": "stderr",
     "output_type": "stream",
     "text": [
      "Scraping Progress:   0%|          | 12/8402 [00:15<3:18:45,  1.42s/it]"
     ]
    },
    {
     "name": "stdout",
     "output_type": "stream",
     "text": [
      "Successfully fetched: https://mashable.com/article/best-simpsons-donald-trump-predictions/\n"
     ]
    },
    {
     "name": "stderr",
     "output_type": "stream",
     "text": [
      "Scraping Progress:   0%|          | 13/8402 [00:17<3:13:35,  1.38s/it]"
     ]
    },
    {
     "name": "stdout",
     "output_type": "stream",
     "text": [
      "Successfully fetched: https://www.theatlantic.com/politics/archive/2018/07/bannon-london-trump/565118/\n"
     ]
    },
    {
     "name": "stderr",
     "output_type": "stream",
     "text": [
      "Scraping Progress:   0%|          | 14/8402 [00:18<3:08:59,  1.35s/it]"
     ]
    },
    {
     "name": "stdout",
     "output_type": "stream",
     "text": [
      "Successfully fetched: https://www.theatlantic.com/international/archive/2018/06/yemen-trump-iran-saudi-arabia-salman-uae/562571/\n"
     ]
    },
    {
     "name": "stderr",
     "output_type": "stream",
     "text": [
      "Scraping Progress:   0%|          | 15/8402 [00:19<3:01:42,  1.30s/it]"
     ]
    },
    {
     "name": "stdout",
     "output_type": "stream",
     "text": [
      "Successfully fetched: https://www.engadget.com/2018/06/05/asus-zenbook-pro-screenpad-touchpad-touchscreen/\n"
     ]
    },
    {
     "name": "stderr",
     "output_type": "stream",
     "text": [
      "Scraping Progress:   0%|          | 16/8402 [00:21<3:10:47,  1.37s/it]"
     ]
    },
    {
     "name": "stdout",
     "output_type": "stream",
     "text": [
      "Successfully fetched: https://www.theatlantic.com/ideas/archive/2019/10/fourth-debate-wrap/600097/\n"
     ]
    },
    {
     "name": "stderr",
     "output_type": "stream",
     "text": [
      "Scraping Progress:   0%|          | 17/8402 [00:22<3:05:21,  1.33s/it]"
     ]
    },
    {
     "name": "stdout",
     "output_type": "stream",
     "text": [
      "Successfully fetched: https://www.wired.com/story/internet-week-194/\n"
     ]
    },
    {
     "name": "stderr",
     "output_type": "stream",
     "text": [
      "Scraping Progress:   0%|          | 18/8402 [00:23<3:05:56,  1.33s/it]"
     ]
    },
    {
     "name": "stdout",
     "output_type": "stream",
     "text": [
      "Successfully fetched: https://www.businessinsider.com/bill-roebuck-memo-trump-syria-policy-catastrophic-sideshow-2019-11\n"
     ]
    },
    {
     "name": "stderr",
     "output_type": "stream",
     "text": [
      "Scraping Progress:   0%|          | 19/8402 [00:24<3:02:10,  1.30s/it]"
     ]
    },
    {
     "name": "stdout",
     "output_type": "stream",
     "text": [
      "Successfully fetched: https://lifehacker.com/how-to-go-out-alone-and-love-it-1822514379\n"
     ]
    },
    {
     "name": "stderr",
     "output_type": "stream",
     "text": [
      "Scraping Progress:   0%|          | 20/8402 [00:26<2:57:31,  1.27s/it]"
     ]
    },
    {
     "name": "stdout",
     "output_type": "stream",
     "text": [
      "Successfully fetched: https://gizmodo.com/french-inventor-touts-rifle-while-flying-turbine-powere-1836363914\n"
     ]
    },
    {
     "name": "stderr",
     "output_type": "stream",
     "text": [
      "Scraping Progress:   0%|          | 21/8402 [00:27<2:52:56,  1.24s/it]"
     ]
    },
    {
     "name": "stdout",
     "output_type": "stream",
     "text": [
      "Successfully fetched: http://techcrunch.com/2018/07/18/worried-about-a-slowdown-it-already-happened-in-2016-says-one-new-venture-study/\n"
     ]
    },
    {
     "name": "stderr",
     "output_type": "stream",
     "text": [
      "Scraping Progress:   0%|          | 22/8402 [00:28<2:57:27,  1.27s/it]"
     ]
    },
    {
     "name": "stdout",
     "output_type": "stream",
     "text": [
      "Cannot fetch https://boingboing.net/2019/03/06/creator-of-zippy-the-pinhead-w.html, HTTP error: 403 Client Error: Forbidden for url: https://boingboing.net/2019/03/06/creator-of-zippy-the-pinhead-w.html\n"
     ]
    },
    {
     "name": "stderr",
     "output_type": "stream",
     "text": [
      "Scraping Progress:   0%|          | 23/8402 [00:29<2:54:38,  1.25s/it]"
     ]
    },
    {
     "name": "stdout",
     "output_type": "stream",
     "text": [
      "Successfully fetched: https://golfweek.com/2018/07/19/2018-british-open-phil-mickelson-now-more-major-sideshow-than-major-contender/\n"
     ]
    },
    {
     "name": "stderr",
     "output_type": "stream",
     "text": [
      "Scraping Progress:   0%|          | 24/8402 [00:31<2:59:05,  1.28s/it]"
     ]
    },
    {
     "name": "stdout",
     "output_type": "stream",
     "text": [
      "Successfully fetched: https://www.huffpost.com/entry/trump-simpsons-sideshow-bob-defense_n_5dce3c39e4b0d2e79f8a2b79\n"
     ]
    },
    {
     "name": "stderr",
     "output_type": "stream",
     "text": [
      "Scraping Progress:   0%|          | 25/8402 [00:32<2:56:19,  1.26s/it]"
     ]
    },
    {
     "name": "stdout",
     "output_type": "stream",
     "text": [
      "Successfully fetched: https://mashable.com/article/dumbo-movie-review/\n"
     ]
    },
    {
     "name": "stderr",
     "output_type": "stream",
     "text": [
      "Scraping Progress:   0%|          | 26/8402 [00:33<2:52:20,  1.23s/it]"
     ]
    },
    {
     "name": "stdout",
     "output_type": "stream",
     "text": [
      "Successfully fetched: http://www.businessinsider.com/23-top-venture-capitalists-booming-enterprise-tech-market-2018-6\n"
     ]
    },
    {
     "name": "stderr",
     "output_type": "stream",
     "text": [
      "Scraping Progress:   0%|          | 27/8402 [00:35<2:59:24,  1.29s/it]"
     ]
    },
    {
     "name": "stdout",
     "output_type": "stream",
     "text": [
      "Successfully fetched: https://io9.gizmodo.com/aliens-original-sfx-artists-helped-sideshow-create-the-1823992879\n"
     ]
    },
    {
     "name": "stderr",
     "output_type": "stream",
     "text": [
      "Scraping Progress:   0%|          | 28/8402 [00:36<3:02:47,  1.31s/it]"
     ]
    },
    {
     "name": "stdout",
     "output_type": "stream",
     "text": [
      "Successfully fetched: https://www.cnet.com/news/the-x-files-at-25-top-10-episodes-you-should-watch/\n"
     ]
    },
    {
     "name": "stderr",
     "output_type": "stream",
     "text": [
      "Scraping Progress:   0%|          | 29/8402 [00:37<3:06:07,  1.33s/it]"
     ]
    },
    {
     "name": "stdout",
     "output_type": "stream",
     "text": [
      "Successfully fetched: https://www.bloomberg.com/view/articles/2018-04-26/when-moon-meets-kim-be-wary-of-success\n"
     ]
    },
    {
     "name": "stderr",
     "output_type": "stream",
     "text": [
      "Scraping Progress:   0%|          | 30/8402 [00:39<3:02:19,  1.31s/it]"
     ]
    },
    {
     "name": "stdout",
     "output_type": "stream",
     "text": [
      "Successfully fetched: https://www.cnet.com/news/the-x-files-25-anniversary-the-top-10-episodes-you-should-watch/\n"
     ]
    },
    {
     "name": "stderr",
     "output_type": "stream",
     "text": [
      "Scraping Progress:   0%|          | 31/8402 [00:40<3:08:41,  1.35s/it]"
     ]
    },
    {
     "name": "stdout",
     "output_type": "stream",
     "text": [
      "Successfully fetched: https://www.bbc.co.uk/news/world-us-canada-46754048\n"
     ]
    },
    {
     "name": "stderr",
     "output_type": "stream",
     "text": [
      "Scraping Progress:   0%|          | 32/8402 [00:41<3:03:00,  1.31s/it]"
     ]
    },
    {
     "name": "stdout",
     "output_type": "stream",
     "text": [
      "Successfully fetched: https://www.businessinsider.com/california-culture-things-locals-know-2019-9\n"
     ]
    },
    {
     "name": "stderr",
     "output_type": "stream",
     "text": [
      "Scraping Progress:   0%|          | 33/8402 [00:42<2:57:03,  1.27s/it]"
     ]
    },
    {
     "name": "stdout",
     "output_type": "stream",
     "text": [
      "Successfully fetched: https://www.wired.com/story/internet-week-170/\n"
     ]
    },
    {
     "name": "stderr",
     "output_type": "stream",
     "text": [
      "Scraping Progress:   0%|          | 34/8402 [00:44<2:55:15,  1.26s/it]"
     ]
    },
    {
     "name": "stdout",
     "output_type": "stream",
     "text": [
      "Cannot fetch https://www.washingtonpost.com/world/national-security/rick-gates--and-the-lies-hes-admitted-telling--to-take-center-stage-at-manafort-trial/2018/08/05/71cbc686-975d-11e8-a679-b09212fb69c2_story.html, connection timed out.\n"
     ]
    },
    {
     "name": "stderr",
     "output_type": "stream",
     "text": [
      "Scraping Progress:   0%|          | 35/8402 [00:55<9:46:55,  4.21s/it]"
     ]
    },
    {
     "name": "stdout",
     "output_type": "stream",
     "text": [
      "Cannot fetch https://www.washingtonpost.com/news/local/wp/2018/08/06/paul-manafort-trial-day-5-live-updates/, connection timed out.\n"
     ]
    },
    {
     "name": "stderr",
     "output_type": "stream",
     "text": [
      "Scraping Progress:   0%|          | 36/8402 [01:06<14:33:16,  6.26s/it]"
     ]
    },
    {
     "name": "stdout",
     "output_type": "stream",
     "text": [
      "Successfully fetched: https://io9.gizmodo.com/forget-the-xenomorph-jonesy-the-cat-is-the-real-star-o-1829267622\n"
     ]
    },
    {
     "name": "stderr",
     "output_type": "stream",
     "text": [
      "Scraping Progress:   0%|          | 37/8402 [01:07<11:07:15,  4.79s/it]"
     ]
    },
    {
     "name": "stdout",
     "output_type": "stream",
     "text": [
      "Successfully fetched: https://io9.gizmodo.com/an-exclusive-look-at-sideshows-stunning-new-princess-le-1825680103\n"
     ]
    },
    {
     "name": "stderr",
     "output_type": "stream",
     "text": [
      "Scraping Progress:   0%|          | 38/8402 [01:08<8:40:09,  3.73s/it] "
     ]
    },
    {
     "name": "stdout",
     "output_type": "stream",
     "text": [
      "Successfully fetched: https://www.theverge.com/2018/2/5/16975878/waymo-v-uber-trial-opening-statements-travis-kalanick-emails\n"
     ]
    },
    {
     "name": "stderr",
     "output_type": "stream",
     "text": [
      "Scraping Progress:   0%|          | 39/8402 [01:10<6:54:03,  2.97s/it]"
     ]
    },
    {
     "name": "stdout",
     "output_type": "stream",
     "text": [
      "Cannot fetch https://news.yahoo.com/2020-democratic-candidates-russia-probe-171523292.html, HTTP error: 404 Client Error: Not Found for url: https://news.yahoo.com/2020-democratic-candidates-russia-probe-171523292.html\n"
     ]
    },
    {
     "name": "stderr",
     "output_type": "stream",
     "text": [
      "Scraping Progress:   0%|          | 40/8402 [01:11<5:39:57,  2.44s/it]"
     ]
    },
    {
     "name": "stdout",
     "output_type": "stream",
     "text": [
      "Successfully fetched: https://io9.gizmodo.com/heres-boba-fett-like-youve-never-seen-him-before-1827631134\n"
     ]
    },
    {
     "name": "stderr",
     "output_type": "stream",
     "text": [
      "Scraping Progress:   0%|          | 41/8402 [01:12<4:54:54,  2.12s/it]"
     ]
    },
    {
     "name": "stdout",
     "output_type": "stream",
     "text": [
      "Successfully fetched: https://www.yahoo.com/news/driver-involved-sideshow-bay-bridge-002506862.html\n"
     ]
    },
    {
     "name": "stderr",
     "output_type": "stream",
     "text": [
      "Scraping Progress:   0%|          | 42/8402 [01:14<4:27:05,  1.92s/it]"
     ]
    },
    {
     "name": "stdout",
     "output_type": "stream",
     "text": [
      "Successfully fetched: https://slate.com/technology/2018/09/apple-watch-health-electrocardiogram-ecg-update.html\n"
     ]
    },
    {
     "name": "stderr",
     "output_type": "stream",
     "text": [
      "Scraping Progress:   1%|          | 43/8402 [01:15<4:06:41,  1.77s/it]"
     ]
    },
    {
     "name": "stdout",
     "output_type": "stream",
     "text": [
      "Successfully fetched: https://io9.gizmodo.com/the-team-behind-jane-fosters-turn-as-thor-talk-about-th-1828361099\n"
     ]
    },
    {
     "name": "stderr",
     "output_type": "stream",
     "text": [
      "Scraping Progress:   1%|          | 44/8402 [01:16<3:48:00,  1.64s/it]"
     ]
    },
    {
     "name": "stdout",
     "output_type": "stream",
     "text": [
      "Successfully fetched: https://io9.gizmodo.com/cyberdynes-attempt-to-make-a-sexy-lady-assassin-termina-1825391775\n"
     ]
    },
    {
     "name": "stderr",
     "output_type": "stream",
     "text": [
      "Scraping Progress:   1%|          | 45/8402 [01:18<3:35:50,  1.55s/it]"
     ]
    },
    {
     "name": "stdout",
     "output_type": "stream",
     "text": [
      "Cannot fetch https://www.businessinsider.sg/elon-musk-has-sold-17-5k-flamethrowers-earning-8-75m-for-the-boring-company-but-not-everyones-happy/, error: HTTPSConnectionPool(host='www.businessinsider.sg', port=443): Max retries exceeded with url: /elon-musk-has-sold-17-5k-flamethrowers-earning-8-75m-for-the-boring-company-but-not-everyones-happy/ (Caused by SSLError(SSLError(1, '[SSL: TLSV1_ALERT_INTERNAL_ERROR] tlsv1 alert internal error (_ssl.c:1002)')))\n"
     ]
    },
    {
     "name": "stderr",
     "output_type": "stream",
     "text": [
      "Scraping Progress:   1%|          | 46/8402 [01:19<3:17:40,  1.42s/it]"
     ]
    },
    {
     "name": "stdout",
     "output_type": "stream",
     "text": [
      "Successfully fetched: https://io9.gizmodo.com/a-glorious-new-batgirl-figure-is-swinging-into-action-1831263568\n"
     ]
    },
    {
     "name": "stderr",
     "output_type": "stream",
     "text": [
      "Scraping Progress:   1%|          | 47/8402 [01:20<3:15:54,  1.41s/it]"
     ]
    },
    {
     "name": "stdout",
     "output_type": "stream",
     "text": [
      "Successfully fetched: https://slate.com/news-and-politics/2018/09/mcconnell-says-not-to-worry-about-the-all-male-gop-judiciary-committee-they-hired-a-female-assistant-to-ask-questions-for-them.html\n"
     ]
    },
    {
     "name": "stderr",
     "output_type": "stream",
     "text": [
      "Scraping Progress:   1%|          | 48/8402 [01:22<3:19:06,  1.43s/it]"
     ]
    },
    {
     "name": "stdout",
     "output_type": "stream",
     "text": [
      "Successfully fetched: https://mashable.com/2018/06/19/best-books-2018-amazon/\n"
     ]
    },
    {
     "name": "stderr",
     "output_type": "stream",
     "text": [
      "Scraping Progress:   1%|          | 49/8402 [01:23<3:12:19,  1.38s/it]"
     ]
    },
    {
     "name": "stdout",
     "output_type": "stream",
     "text": [
      "Successfully fetched: https://io9.gizmodo.com/your-very-own-lifesize-replica-of-bb-8-will-cost-you-al-1827367435\n"
     ]
    },
    {
     "name": "stderr",
     "output_type": "stream",
     "text": [
      "Scraping Progress:   1%|          | 50/8402 [01:24<3:14:04,  1.39s/it]"
     ]
    },
    {
     "name": "stdout",
     "output_type": "stream",
     "text": [
      "Successfully fetched: https://apple.slashdot.org/story/18/10/30/0214227/qualcomm-says-apple-is-7-billion-behind-in-royalty-payments\n"
     ]
    },
    {
     "name": "stderr",
     "output_type": "stream",
     "text": [
      "Scraping Progress:   1%|          | 51/8402 [01:26<3:17:35,  1.42s/it]"
     ]
    },
    {
     "name": "stdout",
     "output_type": "stream",
     "text": [
      "Successfully fetched: https://news.yahoo.com/trump-suggests-not-cooperate-investigation-092850238.html\n"
     ]
    },
    {
     "name": "stderr",
     "output_type": "stream",
     "text": [
      "Scraping Progress:   1%|          | 52/8402 [01:28<3:34:41,  1.54s/it]"
     ]
    },
    {
     "name": "stdout",
     "output_type": "stream",
     "text": [
      "Successfully fetched: https://www.theverge.com/2019/1/24/18196135/google-deepmind-ai-starcraft-2-victory\n"
     ]
    },
    {
     "name": "stderr",
     "output_type": "stream",
     "text": [
      "Scraping Progress:   1%|          | 53/8402 [01:29<3:21:13,  1.45s/it]"
     ]
    },
    {
     "name": "stdout",
     "output_type": "stream",
     "text": [
      "Successfully fetched: https://jalopnik.com/suspect-arrested-for-shining-laser-at-california-police-1822511132\n"
     ]
    },
    {
     "name": "stderr",
     "output_type": "stream",
     "text": [
      "Scraping Progress:   1%|          | 54/8402 [01:30<3:17:46,  1.42s/it]"
     ]
    },
    {
     "name": "stdout",
     "output_type": "stream",
     "text": [
      "Successfully fetched: https://www.apartmenttherapy.com/fun-house-exhibit-national-building-museum-snarkitecture-260900\n"
     ]
    },
    {
     "name": "stderr",
     "output_type": "stream",
     "text": [
      "Scraping Progress:   1%|          | 55/8402 [01:32<3:14:13,  1.40s/it]"
     ]
    },
    {
     "name": "stdout",
     "output_type": "stream",
     "text": [
      "Successfully fetched: http://www.yankodesign.com/2018/06/05/this-side-table-is-a-sideshow-of-its-own/\n"
     ]
    },
    {
     "name": "stderr",
     "output_type": "stream",
     "text": [
      "Scraping Progress:   1%|          | 56/8402 [01:33<3:13:30,  1.39s/it]"
     ]
    },
    {
     "name": "stdout",
     "output_type": "stream",
     "text": [
      "Successfully fetched: https://sports.yahoo.com/nascar-ceo-brian-france-arrested-dwi-drug-possession-161502794.html\n"
     ]
    },
    {
     "name": "stderr",
     "output_type": "stream",
     "text": [
      "Scraping Progress:   1%|          | 57/8402 [01:34<3:15:48,  1.41s/it]"
     ]
    },
    {
     "name": "stdout",
     "output_type": "stream",
     "text": [
      "Successfully fetched: https://www.gizmodo.jp/2018/07/bb-8droid.html\n"
     ]
    },
    {
     "name": "stderr",
     "output_type": "stream",
     "text": [
      "Scraping Progress:   1%|          | 58/8402 [01:37<4:01:07,  1.73s/it]"
     ]
    },
    {
     "name": "stdout",
     "output_type": "stream",
     "text": [
      "Successfully fetched: https://www.rockpapershotgun.com/2019/04/10/assassins-creed-odyssey-laptop-performance-bug/\n"
     ]
    },
    {
     "name": "stderr",
     "output_type": "stream",
     "text": [
      "Scraping Progress:   1%|          | 59/8402 [01:39<4:07:26,  1.78s/it]"
     ]
    },
    {
     "name": "stdout",
     "output_type": "stream",
     "text": [
      "Successfully fetched: https://www.businessinsider.com/cliff-sims-bannon-thrilled-with-trump-charlottesville-response-2019-1\n"
     ]
    },
    {
     "name": "stderr",
     "output_type": "stream",
     "text": [
      "Scraping Progress:   1%|          | 60/8402 [01:40<3:47:55,  1.64s/it]"
     ]
    },
    {
     "name": "stdout",
     "output_type": "stream",
     "text": [
      "Successfully fetched: https://www.bbc.co.uk/news/world-us-canada-46755084\n"
     ]
    },
    {
     "name": "stderr",
     "output_type": "stream",
     "text": [
      "Scraping Progress:   1%|          | 61/8402 [01:41<3:28:42,  1.50s/it]"
     ]
    },
    {
     "name": "stdout",
     "output_type": "stream",
     "text": [
      "Successfully fetched: https://www.bbc.co.uk/news/blogs-china-blog-46987991\n"
     ]
    },
    {
     "name": "stderr",
     "output_type": "stream",
     "text": [
      "Scraping Progress:   1%|          | 62/8402 [01:42<3:15:21,  1.41s/it]"
     ]
    },
    {
     "name": "stdout",
     "output_type": "stream",
     "text": [
      "Cannot fetch https://www.autoblog.com/2018/08/20/san-francisco-bay-bridge-video-cars-doughnuts/, HTTP error: 403 Client Error: Forbidden for url: https://www.autoblog.com/2018/08/20/san-francisco-bay-bridge-video-cars-doughnuts/\n"
     ]
    },
    {
     "name": "stderr",
     "output_type": "stream",
     "text": [
      "Scraping Progress:   1%|          | 63/8402 [01:44<3:03:52,  1.32s/it]"
     ]
    },
    {
     "name": "stdout",
     "output_type": "stream",
     "text": [
      "Successfully fetched: https://www.bbc.co.uk/news/world-europe-44603650\n"
     ]
    },
    {
     "name": "stderr",
     "output_type": "stream",
     "text": [
      "Scraping Progress:   1%|          | 64/8402 [01:45<2:58:33,  1.28s/it]"
     ]
    },
    {
     "name": "stdout",
     "output_type": "stream",
     "text": [
      "Successfully fetched: https://www.bbc.co.uk/news/world-europe-45745083\n"
     ]
    },
    {
     "name": "stderr",
     "output_type": "stream",
     "text": [
      "Scraping Progress:   1%|          | 65/8402 [01:46<2:57:16,  1.28s/it]"
     ]
    },
    {
     "name": "stdout",
     "output_type": "stream",
     "text": [
      "Cannot fetch https://www.marketwatch.com/story/for-the-stock-market-impeachment-is-just-a-sideshow-2019-12-11, HTTP error: 401 Client Error: HTTP Forbidden for url: https://www.marketwatch.com/story/for-the-stock-market-impeachment-is-just-a-sideshow-2019-12-11\n"
     ]
    },
    {
     "name": "stderr",
     "output_type": "stream",
     "text": [
      "Scraping Progress:   1%|          | 66/8402 [01:47<2:56:48,  1.27s/it]"
     ]
    },
    {
     "name": "stdout",
     "output_type": "stream",
     "text": [
      "Successfully fetched: https://hypebeast.com/2019/2/under-armour-curry-6-oakland-sideshow-release-info\n"
     ]
    },
    {
     "name": "stderr",
     "output_type": "stream",
     "text": [
      "Scraping Progress:   1%|          | 67/8402 [01:49<3:16:31,  1.41s/it]"
     ]
    },
    {
     "name": "stdout",
     "output_type": "stream",
     "text": [
      "Cannot fetch https://www.reuters.com/article/us-britain-boe-highlights-idUSKCN1NP13Y, HTTP error: 401 Client Error: HTTP Forbidden for url: https://www.reuters.com/article/us-britain-boe-highlights-idUSKCN1NP13Y\n"
     ]
    },
    {
     "name": "stderr",
     "output_type": "stream",
     "text": [
      "Scraping Progress:   1%|          | 68/8402 [01:50<3:06:23,  1.34s/it]"
     ]
    },
    {
     "name": "stdout",
     "output_type": "stream",
     "text": [
      "Successfully fetched: https://www.bbc.co.uk/news/science-environment-46502210\n"
     ]
    },
    {
     "name": "stderr",
     "output_type": "stream",
     "text": [
      "Scraping Progress:   1%|          | 69/8402 [01:52<3:06:17,  1.34s/it]"
     ]
    },
    {
     "name": "stdout",
     "output_type": "stream",
     "text": [
      "Successfully fetched: http://www.instructables.com/id/The-Lion-Thing-paper-Mache-Mask/\n"
     ]
    },
    {
     "name": "stderr",
     "output_type": "stream",
     "text": [
      "Scraping Progress:   1%|          | 70/8402 [01:54<3:47:33,  1.64s/it]"
     ]
    },
    {
     "name": "stdout",
     "output_type": "stream",
     "text": [
      "Successfully fetched: https://www.huffingtonpost.com/entry/times-calls-on-gop-to-save-law-from-trump_us_5ad3e65ae4b016a07e9d8cd0\n"
     ]
    },
    {
     "name": "stderr",
     "output_type": "stream",
     "text": [
      "Scraping Progress:   1%|          | 71/8402 [01:55<3:43:37,  1.61s/it]"
     ]
    },
    {
     "name": "stdout",
     "output_type": "stream",
     "text": [
      "Cannot fetch https://earther.gizmodo.com/stop-asking-cory-booker-if-everyone-should-be-vegan-to-1838094204, error: HTTPSConnectionPool(host='earther.gizmodo.com', port=443): Max retries exceeded with url: /stop-asking-cory-booker-if-everyone-should-be-vegan-to-1838094204 (Caused by NewConnectionError('<urllib3.connection.HTTPSConnection object at 0x118120410>: Failed to establish a new connection: [Errno 8] nodename nor servname provided, or not known'))\n"
     ]
    },
    {
     "name": "stderr",
     "output_type": "stream",
     "text": [
      "Scraping Progress:   1%|          | 72/8402 [01:56<3:18:30,  1.43s/it]"
     ]
    },
    {
     "name": "stdout",
     "output_type": "stream",
     "text": [
      "Cannot fetch https://www.reuters.com/article/us-usa-shutdown-idUSKCN1OX09I, HTTP error: 401 Client Error: HTTP Forbidden for url: https://www.reuters.com/article/us-usa-shutdown-idUSKCN1OX09I\n"
     ]
    },
    {
     "name": "stderr",
     "output_type": "stream",
     "text": [
      "Scraping Progress:   1%|          | 73/8402 [01:58<3:09:14,  1.36s/it]"
     ]
    },
    {
     "name": "stdout",
     "output_type": "stream",
     "text": [
      "Successfully fetched: https://www.androidcentral.com/project-zero-needs-be-split-google\n"
     ]
    },
    {
     "name": "stderr",
     "output_type": "stream",
     "text": [
      "Scraping Progress:   1%|          | 74/8402 [01:59<3:15:13,  1.41s/it]"
     ]
    },
    {
     "name": "stdout",
     "output_type": "stream",
     "text": [
      "Successfully fetched: https://www.vox.com/policy-and-politics/2018/4/16/17242478/trump-mueller-congress-nytimes\n"
     ]
    },
    {
     "name": "stderr",
     "output_type": "stream",
     "text": [
      "Scraping Progress:   1%|          | 75/8402 [02:00<3:07:24,  1.35s/it]"
     ]
    },
    {
     "name": "stdout",
     "output_type": "stream",
     "text": [
      "Successfully fetched: http://mentalfloss.com/article/549845/facts-about-freaks-tod-browning\n"
     ]
    },
    {
     "name": "stderr",
     "output_type": "stream",
     "text": [
      "Scraping Progress:   1%|          | 76/8402 [02:02<3:30:13,  1.51s/it]"
     ]
    },
    {
     "name": "stdout",
     "output_type": "stream",
     "text": [
      "Cannot fetch https://www.reuters.com/article/us-usa-trade-breakingviews/breakingviews-investors-can-ignore-glimmers-of-china-trade-hope-idUSKCN1LY2XU, HTTP error: 401 Client Error: HTTP Forbidden for url: https://www.reuters.com/article/us-usa-trade-breakingviews/breakingviews-investors-can-ignore-glimmers-of-china-trade-hope-idUSKCN1LY2XU\n"
     ]
    },
    {
     "name": "stderr",
     "output_type": "stream",
     "text": [
      "Scraping Progress:   1%|          | 77/8402 [02:03<3:16:26,  1.42s/it]"
     ]
    },
    {
     "name": "stdout",
     "output_type": "stream",
     "text": [
      "Successfully fetched: https://www.engadget.com/2018/07/18/congress-social-media-hearing-facebook-twitter-google-youtube/\n"
     ]
    },
    {
     "name": "stderr",
     "output_type": "stream",
     "text": [
      "Scraping Progress:   1%|          | 78/8402 [02:05<3:17:58,  1.43s/it]"
     ]
    },
    {
     "name": "stdout",
     "output_type": "stream",
     "text": [
      "Successfully fetched: https://www.cnet.com/pictures/comic-con-2018-sideshow-collectibles-star-wars-marvel-and-aquaman-movie-statues/\n"
     ]
    },
    {
     "name": "stderr",
     "output_type": "stream",
     "text": [
      "Scraping Progress:   1%|          | 79/8402 [02:07<3:57:07,  1.71s/it]"
     ]
    },
    {
     "name": "stdout",
     "output_type": "stream",
     "text": [
      "Successfully fetched: https://io9.gizmodo.com/a-truly-amazing-batman-the-animated-series-figure-and-1823519319\n"
     ]
    },
    {
     "name": "stderr",
     "output_type": "stream",
     "text": [
      "Scraping Progress:   1%|          | 80/8402 [02:09<4:06:14,  1.78s/it]"
     ]
    },
    {
     "name": "stdout",
     "output_type": "stream",
     "text": [
      "Successfully fetched: https://www.vox.com/2019/12/4/20995296/pamela-karlan-doug-collins-impeachment-hearing-house-judiciary\n"
     ]
    },
    {
     "name": "stderr",
     "output_type": "stream",
     "text": [
      "Scraping Progress:   1%|          | 81/8402 [02:10<3:44:09,  1.62s/it]"
     ]
    },
    {
     "name": "stdout",
     "output_type": "stream",
     "text": [
      "Successfully fetched: https://www.businessinsider.com/tesla-stock-price-daniel-ives-tesla-bull-downgrades-shares-2019-4\n"
     ]
    },
    {
     "name": "stderr",
     "output_type": "stream",
     "text": [
      "Scraping Progress:   1%|          | 82/8402 [02:12<3:47:46,  1.64s/it]"
     ]
    },
    {
     "name": "stdout",
     "output_type": "stream",
     "text": [
      "Successfully fetched: http://usatodayhss.com/2018/eric-mobley-usc-coach\n"
     ]
    },
    {
     "name": "stderr",
     "output_type": "stream",
     "text": [
      "Scraping Progress:   1%|          | 83/8402 [02:14<4:09:56,  1.80s/it]"
     ]
    },
    {
     "name": "stdout",
     "output_type": "stream",
     "text": [
      "Successfully fetched: https://www.slashfilm.com/candy-corn-trailer-welcome-to-dr-deaths-sideshow-spookhouse-spectacular/\n"
     ]
    },
    {
     "name": "stderr",
     "output_type": "stream",
     "text": [
      "Scraping Progress:   1%|          | 84/8402 [02:16<4:12:38,  1.82s/it]"
     ]
    },
    {
     "name": "stdout",
     "output_type": "stream",
     "text": [
      "Successfully fetched: https://gizmodo.com/report-silicon-valley-played-trump-like-a-fiddle-at-la-1821752212\n"
     ]
    },
    {
     "name": "stderr",
     "output_type": "stream",
     "text": [
      "Scraping Progress:   1%|          | 85/8402 [02:18<3:59:57,  1.73s/it]"
     ]
    },
    {
     "name": "stdout",
     "output_type": "stream",
     "text": [
      "Successfully fetched: https://www.slashfilm.com/video-watch-us-unbox-the-life-size-infinity-gauntlet-replica-from-hot-toys-sideshow-collectibles/\n"
     ]
    },
    {
     "name": "stderr",
     "output_type": "stream",
     "text": [
      "Scraping Progress:   1%|          | 86/8402 [02:20<4:01:54,  1.75s/it]"
     ]
    },
    {
     "name": "stdout",
     "output_type": "stream",
     "text": [
      "Successfully fetched: https://io9.gizmodo.com/an-incredible-black-panther-steps-into-the-spotlight-a-1822780532\n"
     ]
    },
    {
     "name": "stderr",
     "output_type": "stream",
     "text": [
      "Scraping Progress:   1%|          | 87/8402 [02:21<4:06:07,  1.78s/it]"
     ]
    },
    {
     "name": "stdout",
     "output_type": "stream",
     "text": [
      "Successfully fetched: https://io9.gizmodo.com/sideshows-imposing-doomsday-statue-is-ready-to-kill-eve-1828277876\n"
     ]
    },
    {
     "name": "stderr",
     "output_type": "stream",
     "text": [
      "Scraping Progress:   1%|          | 89/8402 [02:25<3:58:51,  1.72s/it]"
     ]
    },
    {
     "name": "stdout",
     "output_type": "stream",
     "text": [
      "Cannot fetch https://news.avclub.com/nick-lutskos-new-video-for-sideshow-is-a-papier-mache-1836312248, error: HTTPSConnectionPool(host='news.avclub.com', port=443): Max retries exceeded with url: /nick-lutskos-new-video-for-sideshow-is-a-papier-mache-1836312248 (Caused by NewConnectionError('<urllib3.connection.HTTPSConnection object at 0x116014410>: Failed to establish a new connection: [Errno 8] nodename nor servname provided, or not known'))\n"
     ]
    },
    {
     "name": "stderr",
     "output_type": "stream",
     "text": [
      "Scraping Progress:   1%|          | 91/8402 [02:28<4:13:31,  1.83s/it]"
     ]
    },
    {
     "name": "stdout",
     "output_type": "stream",
     "text": [
      "Successfully fetched: https://www.skysports.com/football/news/12020/11675847/republic-of-ireland-protests-a-sideshow-in-tough-georgia-game-says-jonathan-walters\n"
     ]
    },
    {
     "name": "stderr",
     "output_type": "stream",
     "text": [
      "Scraping Progress:   1%|          | 92/8402 [02:31<5:01:15,  2.18s/it]"
     ]
    },
    {
     "name": "stdout",
     "output_type": "stream",
     "text": [
      "Successfully fetched: https://jalopnik.com/merely-watching-a-sideshow-is-now-a-crime-in-san-jose-1834486925\n"
     ]
    },
    {
     "name": "stderr",
     "output_type": "stream",
     "text": [
      "Scraping Progress:   1%|          | 93/8402 [02:33<4:29:50,  1.95s/it]"
     ]
    },
    {
     "name": "stdout",
     "output_type": "stream",
     "text": [
      "Successfully fetched: https://www.slashfilm.com/the-predator-life-size-bust/\n"
     ]
    },
    {
     "name": "stderr",
     "output_type": "stream",
     "text": [
      "Scraping Progress:   1%|          | 94/8402 [02:35<4:26:53,  1.93s/it]"
     ]
    },
    {
     "name": "stdout",
     "output_type": "stream",
     "text": [
      "Successfully fetched: https://deadspin.com/yes-the-yankees-are-in-on-manny-machado-1827473344\n"
     ]
    },
    {
     "name": "stderr",
     "output_type": "stream",
     "text": [
      "Scraping Progress:   1%|          | 95/8402 [02:36<4:13:39,  1.83s/it]"
     ]
    },
    {
     "name": "stdout",
     "output_type": "stream",
     "text": [
      "Successfully fetched: https://jalopnik.com/get-a-load-of-this-ridiculous-story-about-how-elon-musk-1827842961\n"
     ]
    },
    {
     "name": "stderr",
     "output_type": "stream",
     "text": [
      "Scraping Progress:   1%|          | 96/8402 [02:38<3:59:52,  1.73s/it]"
     ]
    },
    {
     "name": "stdout",
     "output_type": "stream",
     "text": [
      "Successfully fetched: https://io9.gizmodo.com/watch-a-vfx-makeup-team-create-a-terrifying-masterpiece-1836664606\n"
     ]
    },
    {
     "name": "stderr",
     "output_type": "stream",
     "text": [
      "Scraping Progress:   1%|          | 97/8402 [02:40<4:07:23,  1.79s/it]"
     ]
    },
    {
     "name": "stdout",
     "output_type": "stream",
     "text": [
      "Successfully fetched: https://bleacherreport.com/articles/2800318-unlikely-nba-stars-who-could-be-traded-this-season\n"
     ]
    },
    {
     "name": "stderr",
     "output_type": "stream",
     "text": [
      "Scraping Progress:   1%|          | 98/8402 [02:41<4:05:02,  1.77s/it]"
     ]
    },
    {
     "name": "stdout",
     "output_type": "stream",
     "text": [
      "Successfully fetched: http://www.reviewed.com/home-outdoors/features/the-12-craziest-things-star-wars-fans-actually-own\n"
     ]
    },
    {
     "name": "stderr",
     "output_type": "stream",
     "text": [
      "Scraping Progress:   1%|          | 99/8402 [02:43<3:49:13,  1.66s/it]"
     ]
    },
    {
     "name": "stdout",
     "output_type": "stream",
     "text": [
      "Cannot fetch https://www.marketwatch.com/story/theres-a-huge-change-coming-from-the-fed-just-not-today-2019-12-11-910308, HTTP error: 401 Client Error: HTTP Forbidden for url: https://www.marketwatch.com/story/theres-a-huge-change-coming-from-the-fed-just-not-today-2019-12-11-910308\n"
     ]
    },
    {
     "name": "stderr",
     "output_type": "stream",
     "text": [
      "Scraping Progress:   1%|          | 100/8402 [02:44<3:27:16,  1.50s/it]"
     ]
    },
    {
     "name": "stdout",
     "output_type": "stream",
     "text": [
      "Successfully fetched: https://kotaku.com/conkledurr-taught-humanity-about-concrete-2000-years-ag-1832979944\n"
     ]
    },
    {
     "name": "stderr",
     "output_type": "stream",
     "text": [
      "Scraping Progress:   1%|          | 101/8402 [02:45<3:27:01,  1.50s/it]"
     ]
    },
    {
     "name": "stdout",
     "output_type": "stream",
     "text": [
      "Successfully fetched: https://jalopnik.com/heres-what-an-illegal-street-drifting-sideshow-looks-li-1829295712\n"
     ]
    },
    {
     "name": "stderr",
     "output_type": "stream",
     "text": [
      "Scraping Progress:   1%|          | 102/8402 [02:47<3:25:31,  1.49s/it]"
     ]
    },
    {
     "name": "stdout",
     "output_type": "stream",
     "text": [
      "Successfully fetched: https://www.slashfilm.com/cool-stuff-life-size-bb-8-figure/\n"
     ]
    },
    {
     "name": "stderr",
     "output_type": "stream",
     "text": [
      "Scraping Progress:   1%|          | 103/8402 [02:49<3:37:59,  1.58s/it]"
     ]
    },
    {
     "name": "stdout",
     "output_type": "stream",
     "text": [
      "Successfully fetched: https://www.engadget.com/2019/08/20/fifa-20-volta-story-mode-street-football/\n"
     ]
    },
    {
     "name": "stderr",
     "output_type": "stream",
     "text": [
      "Scraping Progress:   1%|          | 104/8402 [02:50<3:41:05,  1.60s/it]"
     ]
    },
    {
     "name": "stdout",
     "output_type": "stream",
     "text": [
      "Successfully fetched: https://arstechnica.com/gaming/2019/01/old-gods-and-new-gods-prepare-for-war-in-new-trailer-for-american-gods-s2/\n"
     ]
    },
    {
     "name": "stderr",
     "output_type": "stream",
     "text": [
      "Scraping Progress:   1%|          | 105/8402 [02:52<3:48:30,  1.65s/it]"
     ]
    },
    {
     "name": "stdout",
     "output_type": "stream",
     "text": [
      "Cannot fetch https://www.yahoo.com/news/latest-fx-orders-spinoff-sons-anarchy-193929044.html, HTTP error: 404 Client Error: Not Found for url: https://www.yahoo.com/news/latest-fx-orders-spinoff-sons-anarchy-193929044.html\n"
     ]
    },
    {
     "name": "stderr",
     "output_type": "stream",
     "text": [
      "Scraping Progress:   1%|▏         | 106/8402 [02:53<3:34:57,  1.55s/it]"
     ]
    },
    {
     "name": "stdout",
     "output_type": "stream",
     "text": [
      "Cannot fetch https://theslot.jezebel.com/a-just-god-would-put-ridiculous-alan-dershowitz-on-trum-1840379132, error: HTTPSConnectionPool(host='theslot.jezebel.com', port=443): Max retries exceeded with url: /a-just-god-would-put-ridiculous-alan-dershowitz-on-trum-1840379132 (Caused by SSLError(CertificateError(\"hostname 'theslot.jezebel.com' doesn't match either of 'g-omedia.com', '*.jalopnik.com', '*.kinja-embeds.com', '*.kinja-img.com', '*.kinja-labs.com', '*.kinja-static.com', '*.kinja.com', '*.kotaku.co.uk', '*.kotaku.com', '*.testkinja.com', '*.theinventory.com', '*.theroot.com', '*.verysmartbrothas.com', 'jalopnik.com', 'kinja-embeds.com', 'kinja-img.com', 'kinja-static.com', 'kinja.com', 'kotak.us', 'kotaku.co.uk', 'kotaku.com', 'testkinja.com', 'theinventory.com', 'theroot.com', 'verysmartbrothas.com', '*.g-omedia.com', 'qz.com', '*.qz.com', 'kotaku.nz', '*.kotaku.nz', '*.kotaku.co.nz', 'kotaku.co.nz', '*.kotaku.net.nz', 'kotaku.net.nz'\")))\n"
     ]
    },
    {
     "name": "stderr",
     "output_type": "stream",
     "text": [
      "Scraping Progress:   1%|▏         | 107/8402 [02:55<3:23:45,  1.47s/it]"
     ]
    },
    {
     "name": "stdout",
     "output_type": "stream",
     "text": [
      "Cannot fetch https://news.yahoo.com/trump-insists-state-union-speech-congress-180704798.html, HTTP error: 404 Client Error: Not Found for url: https://news.yahoo.com/trump-insists-state-union-speech-congress-180704798.html\n"
     ]
    },
    {
     "name": "stderr",
     "output_type": "stream",
     "text": [
      "Scraping Progress:   1%|▏         | 108/8402 [02:56<3:28:22,  1.51s/it]"
     ]
    },
    {
     "name": "stdout",
     "output_type": "stream",
     "text": [
      "Successfully fetched: https://www.fayerwayer.com/2018/05/nueva-figura-princesa-leia-hiperrealista\n"
     ]
    },
    {
     "name": "stderr",
     "output_type": "stream",
     "text": [
      "Scraping Progress:   1%|▏         | 109/8402 [02:58<3:45:06,  1.63s/it]"
     ]
    },
    {
     "name": "stdout",
     "output_type": "stream",
     "text": [
      "Successfully fetched: https://www.bloomberg.com/tosv2.html?vid=&uuid=f5420d10-fc50-11e8-8adb-6b609a18bf35&url=L25ld3MvYXJ0aWNsZXMvMjAxOC0xMi0xMC9pdGFseS1ldS1zdGFnZS1zaWRlc2hvdy1maWdodC13aXRoLXJlY2Vzc2lvbi1yaXNrLW9uLWhvcml6b24=\n"
     ]
    },
    {
     "name": "stderr",
     "output_type": "stream",
     "text": [
      "Scraping Progress:   1%|▏         | 110/8402 [02:59<3:26:47,  1.50s/it]"
     ]
    },
    {
     "name": "stdout",
     "output_type": "stream",
     "text": [
      "Successfully fetched: https://www.vidaextra.com/ps4/asi-espectacular-figura-1-100-dolares-basada-juego-spider-man-para-ps4\n"
     ]
    },
    {
     "name": "stderr",
     "output_type": "stream",
     "text": [
      "Scraping Progress:   1%|▏         | 111/8402 [03:01<3:28:30,  1.51s/it]"
     ]
    },
    {
     "name": "stdout",
     "output_type": "stream",
     "text": [
      "Cannot fetch https://www.reuters.com/article/us-usa-fed-powell-idUSKCN1U50DT, HTTP error: 401 Client Error: HTTP Forbidden for url: https://www.reuters.com/article/us-usa-fed-powell-idUSKCN1U50DT\n"
     ]
    },
    {
     "name": "stderr",
     "output_type": "stream",
     "text": [
      "Scraping Progress:   1%|▏         | 112/8402 [03:02<3:16:44,  1.42s/it]"
     ]
    },
    {
     "name": "stdout",
     "output_type": "stream",
     "text": [
      "Successfully fetched: https://www.engadget.com/2018/06/05/asus-zenbook-pro-15-screenpad/\n"
     ]
    },
    {
     "name": "stderr",
     "output_type": "stream",
     "text": [
      "Scraping Progress:   1%|▏         | 113/8402 [03:04<3:26:53,  1.50s/it]"
     ]
    },
    {
     "name": "stdout",
     "output_type": "stream",
     "text": [
      "Successfully fetched: http://www.thisisinsider.com/why-dancers-became-strippers-2018-4\n"
     ]
    },
    {
     "name": "stderr",
     "output_type": "stream",
     "text": [
      "Scraping Progress:   1%|▏         | 114/8402 [03:06<3:35:33,  1.56s/it]"
     ]
    },
    {
     "name": "stdout",
     "output_type": "stream",
     "text": [
      "Successfully fetched: http://time.com/5139589/scott-pruitt-climate-change-epa/\n"
     ]
    },
    {
     "name": "stderr",
     "output_type": "stream",
     "text": [
      "Scraping Progress:   1%|▏         | 115/8402 [03:07<3:41:11,  1.60s/it]"
     ]
    },
    {
     "name": "stdout",
     "output_type": "stream",
     "text": [
      "Successfully fetched: https://www.yahoo.com/news/david-stockman-calls-trump-apos-074240810.html\n"
     ]
    },
    {
     "name": "stderr",
     "output_type": "stream",
     "text": [
      "Scraping Progress:   1%|▏         | 116/8402 [03:09<3:42:20,  1.61s/it]"
     ]
    },
    {
     "name": "stdout",
     "output_type": "stream",
     "text": [
      "Cannot fetch https://tv.avclub.com/sideshow-bob-is-wasted-in-a-simpsons-holiday-episode-wi-1840448753, HTTP error: 404 Client Error: Not Found for url: https://tv.avclub.com/sideshow-bob-is-wasted-in-a-simpsons-holiday-episode-wi-1840448753\n"
     ]
    },
    {
     "name": "stderr",
     "output_type": "stream",
     "text": [
      "Scraping Progress:   1%|▏         | 117/8402 [03:10<3:27:50,  1.51s/it]"
     ]
    },
    {
     "name": "stdout",
     "output_type": "stream",
     "text": [
      "Cannot fetch https://www.inc.com/dustin-mckissen/will-virtual-reality-help-create-an-even-more-polarized-isolated-society.html, HTTP error: 403 Client Error: Forbidden for url: https://www.inc.com/dustin-mckissen/will-virtual-reality-help-create-an-even-more-polarized-isolated-society.html\n"
     ]
    },
    {
     "name": "stderr",
     "output_type": "stream",
     "text": [
      "Scraping Progress:   1%|▏         | 118/8402 [03:11<3:14:42,  1.41s/it]"
     ]
    },
    {
     "name": "stdout",
     "output_type": "stream",
     "text": [
      "Cannot fetch https://news.avclub.com/its-avenatti-vs-the-mooch-as-the-trump-sideshow-hits-t-1826818886, error: HTTPSConnectionPool(host='news.avclub.com', port=443): Max retries exceeded with url: /its-avenatti-vs-the-mooch-as-the-trump-sideshow-hits-t-1826818886 (Caused by NewConnectionError('<urllib3.connection.HTTPSConnection object at 0x11607c5d0>: Failed to establish a new connection: [Errno 8] nodename nor servname provided, or not known'))\n"
     ]
    },
    {
     "name": "stderr",
     "output_type": "stream",
     "text": [
      "Scraping Progress:   1%|▏         | 119/8402 [03:12<2:58:04,  1.29s/it]"
     ]
    },
    {
     "name": "stdout",
     "output_type": "stream",
     "text": [
      "Successfully fetched: https://www.bloomberg.com/view/articles/2018-04-14/u-s-syria-strike-strategy-is-too-complex-to-predict\n"
     ]
    },
    {
     "name": "stderr",
     "output_type": "stream",
     "text": [
      "Scraping Progress:   1%|▏         | 120/8402 [03:14<2:56:58,  1.28s/it]"
     ]
    },
    {
     "name": "stdout",
     "output_type": "stream",
     "text": [
      "Successfully fetched: https://www.theregister.co.uk/2018/10/23/java_renovation_javaone/\n"
     ]
    },
    {
     "name": "stderr",
     "output_type": "stream",
     "text": [
      "Scraping Progress:   1%|▏         | 121/8402 [03:15<3:13:57,  1.41s/it]"
     ]
    },
    {
     "name": "stdout",
     "output_type": "stream",
     "text": [
      "Successfully fetched: https://www.bbc.co.uk/news/entertainment-arts-48049916\n"
     ]
    },
    {
     "name": "stderr",
     "output_type": "stream",
     "text": [
      "Scraping Progress:   1%|▏         | 122/8402 [03:17<3:21:15,  1.46s/it]"
     ]
    },
    {
     "name": "stdout",
     "output_type": "stream",
     "text": [
      "Successfully fetched: https://qz.com/1375931/the-nobel-prize-literature-committee-is-publicly-melting-down/\n"
     ]
    },
    {
     "name": "stderr",
     "output_type": "stream",
     "text": [
      "Scraping Progress:   1%|▏         | 123/8402 [03:18<3:25:45,  1.49s/it]"
     ]
    },
    {
     "name": "stdout",
     "output_type": "stream",
     "text": [
      "Successfully fetched: https://www.thisiscolossal.com/2019/05/banksy-in-venice/\n"
     ]
    },
    {
     "name": "stderr",
     "output_type": "stream",
     "text": [
      "Scraping Progress:   1%|▏         | 124/8402 [03:20<3:23:29,  1.47s/it]"
     ]
    },
    {
     "name": "stdout",
     "output_type": "stream",
     "text": [
      "Successfully fetched: https://www.theverge.com/interface/2019/10/24/20929265/mark-zuckerberg-libra-hearing-congress-backlash\n"
     ]
    },
    {
     "name": "stderr",
     "output_type": "stream",
     "text": [
      "Scraping Progress:   1%|▏         | 125/8402 [03:21<3:23:29,  1.48s/it]"
     ]
    },
    {
     "name": "stdout",
     "output_type": "stream",
     "text": [
      "Successfully fetched: https://www.si.com/mma/2019/04/10/max-holloway-dustin-poirier-ufc-236-preview-main-event\n"
     ]
    },
    {
     "name": "stderr",
     "output_type": "stream",
     "text": [
      "Scraping Progress:   1%|▏         | 126/8402 [03:23<3:22:29,  1.47s/it]"
     ]
    },
    {
     "name": "stdout",
     "output_type": "stream",
     "text": [
      "Successfully fetched: https://www.thisisinsider.com/abandoned-summer-camps-photos-2019-2\n"
     ]
    },
    {
     "name": "stderr",
     "output_type": "stream",
     "text": [
      "Scraping Progress:   2%|▏         | 127/8402 [03:24<3:21:54,  1.46s/it]"
     ]
    },
    {
     "name": "stdout",
     "output_type": "stream",
     "text": [
      "Successfully fetched: https://io9.gizmodo.com/life-sized-star-wars-and-guardians-of-the-galaxy-toys-1824072376\n"
     ]
    },
    {
     "name": "stderr",
     "output_type": "stream",
     "text": [
      "Scraping Progress:   2%|▏         | 128/8402 [03:26<3:39:39,  1.59s/it]"
     ]
    },
    {
     "name": "stdout",
     "output_type": "stream",
     "text": [
      "Cannot fetch https://makezine.com/2019/04/09/the-radical-city-maker-faire-and-burning-man-at-dokk1-this-weekend-in-aarhus/, HTTP error: 403 Client Error: Forbidden for url: https://makezine.com/2019/04/09/the-radical-city-maker-faire-and-burning-man-at-dokk1-this-weekend-in-aarhus/\n"
     ]
    },
    {
     "name": "stderr",
     "output_type": "stream",
     "text": [
      "Scraping Progress:   2%|▏         | 129/8402 [03:28<3:39:10,  1.59s/it]"
     ]
    },
    {
     "name": "stdout",
     "output_type": "stream",
     "text": [
      "Cannot fetch https://theslot.jezebel.com/marianne-williamsons-insightful-approach-to-race-in-ame-1836851488, error: HTTPSConnectionPool(host='theslot.jezebel.com', port=443): Max retries exceeded with url: /marianne-williamsons-insightful-approach-to-race-in-ame-1836851488 (Caused by SSLError(CertificateError(\"hostname 'theslot.jezebel.com' doesn't match either of 'g-omedia.com', '*.jalopnik.com', '*.kinja-embeds.com', '*.kinja-img.com', '*.kinja-labs.com', '*.kinja-static.com', '*.kinja.com', '*.kotaku.co.uk', '*.kotaku.com', '*.testkinja.com', '*.theinventory.com', '*.theroot.com', '*.verysmartbrothas.com', 'jalopnik.com', 'kinja-embeds.com', 'kinja-img.com', 'kinja-static.com', 'kinja.com', 'kotak.us', 'kotaku.co.uk', 'kotaku.com', 'testkinja.com', 'theinventory.com', 'theroot.com', 'verysmartbrothas.com', '*.g-omedia.com', 'qz.com', '*.qz.com', 'kotaku.nz', '*.kotaku.nz', '*.kotaku.co.nz', 'kotaku.co.nz', '*.kotaku.net.nz', 'kotaku.net.nz'\")))\n"
     ]
    },
    {
     "name": "stderr",
     "output_type": "stream",
     "text": [
      "Scraping Progress:   2%|▏         | 130/8402 [03:29<3:19:00,  1.44s/it]"
     ]
    },
    {
     "name": "stdout",
     "output_type": "stream",
     "text": [
      "Successfully fetched: https://www.tomshw.it/culturapop/sideshow-collectibles-rivela-una-nuova-statua-di-lobo-della-dc-comics/\n"
     ]
    },
    {
     "name": "stderr",
     "output_type": "stream",
     "text": [
      "Scraping Progress:   2%|▏         | 131/8402 [03:31<3:35:51,  1.57s/it]"
     ]
    },
    {
     "name": "stdout",
     "output_type": "stream",
     "text": [
      "Successfully fetched: https://news.yahoo.com/fully-electric-711-hp-bmw-142400060.html\n"
     ]
    },
    {
     "name": "stderr",
     "output_type": "stream",
     "text": [
      "Scraping Progress:   2%|▏         | 132/8402 [03:33<3:54:29,  1.70s/it]"
     ]
    },
    {
     "name": "stdout",
     "output_type": "stream",
     "text": [
      "Cannot fetch https://news.yahoo.com/singapore-opposition-party-launched-polls-loom-043055802.html, HTTP error: 404 Client Error: Not Found for url: https://news.yahoo.com/singapore-opposition-party-launched-polls-loom-043055802.html\n"
     ]
    },
    {
     "name": "stderr",
     "output_type": "stream",
     "text": [
      "Scraping Progress:   2%|▏         | 133/8402 [03:34<3:39:03,  1.59s/it]"
     ]
    },
    {
     "name": "stdout",
     "output_type": "stream",
     "text": [
      "Successfully fetched: http://www.espn.com/blog/collegebasketballnation/post/_/id/121233/grayson-allens-resurgence-coming-at-perfect-time-for-no-5-duke\n"
     ]
    },
    {
     "name": "stderr",
     "output_type": "stream",
     "text": [
      "Scraping Progress:   2%|▏         | 134/8402 [03:36<3:36:32,  1.57s/it]"
     ]
    },
    {
     "name": "stdout",
     "output_type": "stream",
     "text": [
      "Cannot fetch https://www.inc.com/maureen-kline/super-bowl-ads-show-brands-taking-stands-on-social-environmental-issues.html, HTTP error: 403 Client Error: Forbidden for url: https://www.inc.com/maureen-kline/super-bowl-ads-show-brands-taking-stands-on-social-environmental-issues.html\n"
     ]
    },
    {
     "name": "stderr",
     "output_type": "stream",
     "text": [
      "Scraping Progress:   2%|▏         | 135/8402 [03:37<3:19:02,  1.44s/it]"
     ]
    },
    {
     "name": "stdout",
     "output_type": "stream",
     "text": [
      "Successfully fetched: https://compete.kotaku.com/overwatch-league-stage-4-wont-have-new-hanzo-or-nerfed-1825904685\n"
     ]
    },
    {
     "name": "stderr",
     "output_type": "stream",
     "text": [
      "Scraping Progress:   2%|▏         | 136/8402 [03:38<3:23:32,  1.48s/it]"
     ]
    },
    {
     "name": "stdout",
     "output_type": "stream",
     "text": [
      "Successfully fetched: https://www.yahoo.com/news/senator-reaches-nonexistent-glasses-takes-223156000.html\n"
     ]
    },
    {
     "name": "stderr",
     "output_type": "stream",
     "text": [
      "Scraping Progress:   2%|▏         | 137/8402 [03:40<3:29:34,  1.52s/it]"
     ]
    },
    {
     "name": "stdout",
     "output_type": "stream",
     "text": [
      "Cannot fetch https://www.marketwatch.com/story/moderator-who-botched-pennsylvanias-single-gubernatorial-debate-who-is-alex-trebek-2018-10-04, HTTP error: 401 Client Error: HTTP Forbidden for url: https://www.marketwatch.com/story/moderator-who-botched-pennsylvanias-single-gubernatorial-debate-who-is-alex-trebek-2018-10-04\n"
     ]
    },
    {
     "name": "stderr",
     "output_type": "stream",
     "text": [
      "Scraping Progress:   2%|▏         | 138/8402 [03:41<3:13:10,  1.40s/it]"
     ]
    }
   ],
   "source": [
    "import pandas as pd\n",
    "import requests\n",
    "from bs4 import BeautifulSoup\n",
    "from tqdm import tqdm\n",
    "import time\n",
    "\n",
    "# Load the CSV file containing URLs\n",
    "data = pd.read_csv('../data/sideshow/sideshow_2018_2019.csv') \n",
    "urls = data['url'].tolist() \n",
    "\n",
    "# Function to fetch the main text content from a webpage\n",
    "def fetch_text_from_url(url):\n",
    "    headers = {\n",
    "        \"User-Agent\": \"Mozilla/5.0 (Windows NT 10.0; Win64; x64) AppleWebKit/537.36 (KHTML, like Gecko) Chrome/87.0.4280.88 Safari/537.36\"\n",
    "    }\n",
    "    try:\n",
    "        response = requests.get(url, headers=headers, timeout=10)\n",
    "        response.raise_for_status()  # Check if the request was successful\n",
    "        soup = BeautifulSoup(response.text, 'html.parser')\n",
    "        \n",
    "        # Extract content within <p> tags\n",
    "        paragraphs = soup.find_all('p')\n",
    "        text_content = \"\\n\".join([p.get_text() for p in paragraphs if p.get_text()])\n",
    "        \n",
    "        return text_content\n",
    "    except requests.exceptions.HTTPError as http_err:\n",
    "        print(f\"Cannot fetch {url}, HTTP error: {http_err}\")\n",
    "    except requests.exceptions.Timeout:\n",
    "        print(f\"Cannot fetch {url}, connection timed out.\")\n",
    "    except requests.exceptions.RequestException as e:\n",
    "        print(f\"Cannot fetch {url}, error: {e}\")\n",
    "    return None\n",
    "\n",
    "# Scrape text content for each URL and display progress\n",
    "all_texts = []\n",
    "for url in tqdm(urls, desc=\"Scraping Progress\", leave=True):  # `leave=True` keeps progress bar on one line\n",
    "    text = fetch_text_from_url(url)\n",
    "    if text:\n",
    "        print(f\"Successfully fetched: {url}\")  # Print success message for each URL fetched\n",
    "        all_texts.append(text)\n",
    "    else:\n",
    "        all_texts.append(\"\")  # Add an empty string if fetching fails\n",
    "    time.sleep(1)  # Add delay to avoid being blocked\n",
    "\n",
    "# Add the fetched content to the DataFrame and save to a new CSV file\n",
    "data['text'] = all_texts\n",
    "data.to_csv('/mnt/data/sideshow_with_texts.csv', index=False)\n",
    "print(\"Scraping completed, file saved as sideshow_with_texts.csv\")\n"
   ]
  },
  {
   "cell_type": "code",
   "execution_count": null,
   "metadata": {},
   "outputs": [],
   "source": []
  }
 ],
 "metadata": {
  "kernelspec": {
   "display_name": "My Custom Environment",
   "language": "python",
   "name": "your_environment_name"
  },
  "language_info": {
   "codemirror_mode": {
    "name": "ipython",
    "version": 3
   },
   "file_extension": ".py",
   "mimetype": "text/x-python",
   "name": "python",
   "nbconvert_exporter": "python",
   "pygments_lexer": "ipython3",
   "version": "3.11.3"
  }
 },
 "nbformat": 4,
 "nbformat_minor": 2
}
